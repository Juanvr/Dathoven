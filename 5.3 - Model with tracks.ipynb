{
 "cells": [
  {
   "cell_type": "markdown",
   "id": "f7569376-d818-496d-afa2-cbbb8e88c5c7",
   "metadata": {},
   "source": [
    "# Model with tracks"
   ]
  },
  {
   "cell_type": "code",
   "execution_count": 21,
   "id": "b7023f84-bf81-40b3-85d7-2628d5183822",
   "metadata": {},
   "outputs": [],
   "source": [
    "from keras.models import Sequential\n",
    "from keras.layers import Dense, Dropout, LSTM\n",
    "from keras.callbacks import ModelCheckpoint, EarlyStopping\n",
    "from keras.utils import np_utils\n",
    "from keras import metrics\n",
    "import numpy as np\n",
    "from matplotlib import pyplot as plt"
   ]
  },
  {
   "cell_type": "code",
   "execution_count": 3,
   "id": "1de784b7-c9c5-4e04-92c0-d4ddfa79222d",
   "metadata": {},
   "outputs": [],
   "source": [
    " # Load back from the pickle file.\n",
    "import pickle\n",
    "\n",
    "songs_with_tracks = pickle.load( open( \"./songs_with_tracks.p\", \"rb\" ) )"
   ]
  },
  {
   "cell_type": "code",
   "execution_count": 4,
   "id": "98d5fab0-9956-4aa2-b139-c61a4bdf9e85",
   "metadata": {},
   "outputs": [],
   "source": [
    "tracks = []\n",
    "[[tracks.append(track) for track in song if len(track) > 5] for song in songs_with_tracks];"
   ]
  },
  {
   "cell_type": "code",
   "execution_count": 5,
   "id": "7553df5a-e0d6-454d-a2fd-a4c4a648e4de",
   "metadata": {},
   "outputs": [
    {
     "data": {
      "text/plain": [
       "782"
      ]
     },
     "execution_count": 5,
     "metadata": {},
     "output_type": "execute_result"
    }
   ],
   "source": [
    "len(tracks)"
   ]
  },
  {
   "cell_type": "code",
   "execution_count": 6,
   "id": "fa68ad43-5f52-4b5e-ac5c-355de5175d1f",
   "metadata": {},
   "outputs": [],
   "source": [
    "import fractions"
   ]
  },
  {
   "cell_type": "code",
   "execution_count": 7,
   "id": "1866c563-167a-441d-963a-b83639e7abc2",
   "metadata": {},
   "outputs": [],
   "source": [
    "duration_to_number = {}\n",
    "number_to_duration  = {}\n",
    "\n",
    "count=0\n",
    "duration = 0\n",
    "while duration <= 20:\n",
    "    number_to_duration[count] = duration\n",
    "    duration_to_number[duration] = count\n",
    "    count+=1\n",
    "    duration+=0.25\n",
    "\n",
    "duration = 0\n",
    "while duration <= 20:\n",
    "    if not duration in duration_to_number:\n",
    "        number_to_duration[count] = duration\n",
    "        duration_to_number[duration] = count\n",
    "        count+=1\n",
    "    duration+=fractions.Fraction(1,3)"
   ]
  },
  {
   "cell_type": "code",
   "execution_count": 8,
   "id": "8ea16fa3-5eb6-436a-a357-1df5d82e34a0",
   "metadata": {},
   "outputs": [],
   "source": [
    "interval_to_number = {}\n",
    "number_to_interval = {}\n",
    "\n",
    "for i in range(0,100):\n",
    "    interval_to_number[i] = i\n",
    "    interval_to_number[-i] = 100 + i\n",
    "    number_to_interval[i] = i\n",
    "    number_to_interval[100+i] = -i"
   ]
  },
  {
   "cell_type": "code",
   "execution_count": 9,
   "id": "2522cbad-bf9e-4a4b-affc-4f458e829693",
   "metadata": {},
   "outputs": [],
   "source": [
    "train_set = [ \\\n",
    "    [\\\n",
    "        [\n",
    "         duration_to_number[round(element['relative_offset']*4)/4] if (round(element['relative_offset']*4)/4 in duration_to_number) else 1, \n",
    "         interval_to_number[element['interval']], \n",
    "         duration_to_number[element['duration']]\n",
    "        ] \\\n",
    "    for element in track]\\\n",
    "for track in tracks]"
   ]
  },
  {
   "cell_type": "code",
   "execution_count": 10,
   "id": "196375b8-ce28-41ac-8e79-6c14c303bf45",
   "metadata": {},
   "outputs": [],
   "source": [
    "# split a multivariate sequence into samples\n",
    "def split_sequences(sequences, n_steps):\n",
    "    X, y = list(), list()\n",
    "    for i in range(len(sequences)):\n",
    "        # find the end of this pattern\n",
    "        end_ix = i + n_steps\n",
    "        # check if we are beyond the dataset\n",
    "        if end_ix > len(sequences)-1:\n",
    "            break\n",
    "        # gather input and output parts of the pattern\n",
    "        seq_x, seq_y = np.array(sequences)[i:end_ix, :], np.array(sequences)[end_ix, :]\n",
    "        X.append(seq_x)\n",
    "        y.append(seq_y)\n",
    "    return np.array(X), np.array(y)"
   ]
  },
  {
   "cell_type": "code",
   "execution_count": 11,
   "id": "b3c84ae8-2938-49d9-8ad0-b09c5b68139a",
   "metadata": {
    "tags": []
   },
   "outputs": [],
   "source": [
    "X, y = [], []\n",
    "for i in range(len(train_set)):\n",
    "    X_temp, y_temp = split_sequences(train_set[i], 10)\n",
    "      \n",
    "    if (len(X_temp) > 0 and len(y_temp) > 0):\n",
    "        X = X_temp if len(X)==0 else np.concatenate([X,X_temp])\n",
    "        y = y_temp if len(y)==0 else np.concatenate([y,y_temp])\n",
    "    \n",
    "\n"
   ]
  },
  {
   "cell_type": "code",
   "execution_count": 13,
   "id": "91c94197-4055-456c-b26b-92326468f8aa",
   "metadata": {},
   "outputs": [],
   "source": [
    "# Save into a pickle file.\n",
    "import pickle\n",
    "\n",
    "pickle.dump( tracks, open( \"training_tracks_seqlength10.p\", \"wb\" ) )"
   ]
  },
  {
   "cell_type": "code",
   "execution_count": 14,
   "id": "f0dbfef1-c64f-4330-8c29-2db20c334428",
   "metadata": {},
   "outputs": [],
   "source": [
    "from keras.layers import Dense, Dropout, LSTM, Input\n",
    "from keras import Model\n",
    "from keras.metrics import SparseTopKCategoricalAccuracy"
   ]
  },
  {
   "cell_type": "code",
   "execution_count": 15,
   "id": "b84dfe5a-fcb0-4508-a05c-35f35eaca7ca",
   "metadata": {},
   "outputs": [
    {
     "name": "stdout",
     "output_type": "stream",
     "text": [
      "Model: \"model_1\"\n",
      "__________________________________________________________________________________________________\n",
      "Layer (type)                    Output Shape         Param #     Connected to                     \n",
      "==================================================================================================\n",
      "input_1 (InputLayer)            (None, 10, 3)        0                                            \n",
      "__________________________________________________________________________________________________\n",
      "lstm_1 (LSTM)                   (None, 10, 20)       1920        input_1[0][0]                    \n",
      "__________________________________________________________________________________________________\n",
      "dropout_1 (Dropout)             (None, 10, 20)       0           lstm_1[0][0]                     \n",
      "__________________________________________________________________________________________________\n",
      "lstm_2 (LSTM)                   (None, 20)           3280        dropout_1[0][0]                  \n",
      "__________________________________________________________________________________________________\n",
      "dropout_2 (Dropout)             (None, 20)           0           lstm_2[0][0]                     \n",
      "__________________________________________________________________________________________________\n",
      "dense_1 (Dense)                 (None, 121)          2541        dropout_2[0][0]                  \n",
      "__________________________________________________________________________________________________\n",
      "dense_2 (Dense)                 (None, 199)          4179        dropout_2[0][0]                  \n",
      "__________________________________________________________________________________________________\n",
      "dense_3 (Dense)                 (None, 121)          2541        dropout_2[0][0]                  \n",
      "==================================================================================================\n",
      "Total params: 14,461\n",
      "Trainable params: 14,461\n",
      "Non-trainable params: 0\n",
      "__________________________________________________________________________________________________\n"
     ]
    }
   ],
   "source": [
    "hid = 20\n",
    "past_time_steps = 10\n",
    "n_features = 3\n",
    "future_time_steps = 1\n",
    "categorical_accuracy_k = 5\n",
    "inputs = Input(shape=(past_time_steps, n_features))\n",
    "m = LSTM(hid, return_sequences=True)(inputs)\n",
    "m = Dropout(0.5)(m)\n",
    "m = LSTM(hid)(m)\n",
    "m = Dropout(0.5)(m)\n",
    "\n",
    "#outputA = Dense(future_time_steps, activation='linear')(m)\n",
    "#outputB = Dense(future_time_steps, activation='linear')(m)\n",
    "#outputC = Dense(future_time_steps, activation='linear')(m)\n",
    "\n",
    "outputA = Dense(len(duration_to_number), activation='softmax')(m)\n",
    "outputB = Dense(len(interval_to_number), activation='softmax')(m)\n",
    "outputC = Dense(len(duration_to_number), activation='softmax')(m)\n",
    "\n",
    "m = Model(inputs=[inputs], outputs=[outputA, outputB, outputC])\n",
    "#m.compile(optimizer='adam', loss='mae')\n",
    "\n",
    "m.compile(loss='sparse_categorical_crossentropy', optimizer='adam', metrics=[SparseTopKCategoricalAccuracy(k=5, name='sparse_top_k_categorical_accuracy')])\n",
    "\n",
    "\n",
    "m.summary()"
   ]
  },
  {
   "cell_type": "code",
   "execution_count": 16,
   "id": "71a3f5a5-b063-42dc-8726-3d19cd4b24d6",
   "metadata": {},
   "outputs": [],
   "source": [
    "# checkpoint\n",
    "filepath=\"models_checkpoints/weights-improvement-{epoch:02d}-{val_loss:.2f}.hdf5\"\n",
    "checkpoint = ModelCheckpoint(filepath, monitor='val_loss', verbose=1, save_best_only=False, mode='min')\n",
    "early_stopping = EarlyStopping(monitor='val_loss', mode='min', verbose=1, patience=3)\n",
    "callbacks_list = [checkpoint, early_stopping]"
   ]
  },
  {
   "cell_type": "code",
   "execution_count": 17,
   "id": "a2c6e825-dca7-4930-aa3d-d8ad0051f18c",
   "metadata": {},
   "outputs": [],
   "source": [
    "BATCH_SIZE = 64\n",
    "EPOCHS = 50"
   ]
  },
  {
   "cell_type": "code",
   "execution_count": 18,
   "id": "725d444b-7949-4486-bc47-4ea901ce8df0",
   "metadata": {},
   "outputs": [],
   "source": [
    "y1 = y[:,0]\n",
    "y2 = y[:,1]\n",
    "y3 = y[:,2]"
   ]
  },
  {
   "cell_type": "code",
   "execution_count": 19,
   "id": "fb5e17ed-c97c-4738-a630-7d51b2838abe",
   "metadata": {},
   "outputs": [
    {
     "name": "stdout",
     "output_type": "stream",
     "text": [
      "WARNING:tensorflow:From C:\\Users\\jvela\\miniconda3\\envs\\dathoven2\\lib\\site-packages\\keras\\backend\\tensorflow_backend.py:422: The name tf.global_variables is deprecated. Please use tf.compat.v1.global_variables instead.\n",
      "\n",
      "Train on 13507 samples, validate on 1501 samples\n",
      "Epoch 1/50\n",
      "13507/13507 [==============================] - 9s 644us/step - loss: 7.9311 - dense_1_loss: 2.5006 - dense_2_loss: 3.6199 - dense_3_loss: 1.7997 - dense_1_sparse_top_k_categorical_accuracy: 0.7945 - dense_2_sparse_top_k_categorical_accuracy: 0.4832 - dense_3_sparse_top_k_categorical_accuracy: 0.9214 - val_loss: 4.5358 - val_dense_1_loss: 1.1968 - val_dense_2_loss: 2.6870 - val_dense_3_loss: 0.6416 - val_dense_1_sparse_top_k_categorical_accuracy: 0.9800 - val_dense_2_sparse_top_k_categorical_accuracy: 0.5956 - val_dense_3_sparse_top_k_categorical_accuracy: 0.9967\n",
      "\n",
      "Epoch 00001: saving model to models_checkpoints/weights-improvement-01-4.54.hdf5\n",
      "Epoch 2/50\n",
      "13507/13507 [==============================] - 7s 497us/step - loss: 4.5913 - dense_1_loss: 1.2381 - dense_2_loss: 2.7178 - dense_3_loss: 0.6311 - dense_1_sparse_top_k_categorical_accuracy: 0.9753 - dense_2_sparse_top_k_categorical_accuracy: 0.5936 - dense_3_sparse_top_k_categorical_accuracy: 0.9964 - val_loss: 4.3705 - val_dense_1_loss: 1.1484 - val_dense_2_loss: 2.6416 - val_dense_3_loss: 0.5712 - val_dense_1_sparse_top_k_categorical_accuracy: 0.9800 - val_dense_2_sparse_top_k_categorical_accuracy: 0.5956 - val_dense_3_sparse_top_k_categorical_accuracy: 0.9967: 0.6633 - dense_1_sparse_top_k_categorical_accuracy: 0.9773 - dense_2_sparse_top_k_categorical_accuracy: 0.6040 - dense_3_sparse_top_k_categorical_ - ETA: 3s - loss: 4.6402 - dense_1_loss: 1.2751 - dense_2_loss: 2.7098 - dense_3_loss: 0.6553 - dense_1_sparse_top_k_categorical_ac\n",
      "\n",
      "Epoch 00002: saving model to models_checkpoints/weights-improvement-02-4.37.hdf5\n",
      "Epoch 3/50\n",
      "13507/13507 [==============================] - 7s 498us/step - loss: 4.4039 - dense_1_loss: 1.1738 - dense_2_loss: 2.6634 - dense_3_loss: 0.5694 - dense_1_sparse_top_k_categorical_accuracy: 0.9756 - dense_2_sparse_top_k_categorical_accuracy: 0.6038 - dense_3_sparse_top_k_categorical_accuracy: 0.9970 - val_loss: 4.2870 - val_dense_1_loss: 1.1312 - val_dense_2_loss: 2.6285 - val_dense_3_loss: 0.5197 - val_dense_1_sparse_top_k_categorical_accuracy: 0.9800 - val_dense_2_sparse_top_k_categorical_accuracy: 0.6009 - val_dense_3_sparse_top_k_categorical_accuracy: 0.9967\n",
      "\n",
      "Epoch 00003: saving model to models_checkpoints/weights-improvement-03-4.29.hdf5\n",
      "Epoch 4/50\n",
      "13507/13507 [==============================] - 7s 493us/step - loss: 4.3253 - dense_1_loss: 1.1480 - dense_2_loss: 2.6438 - dense_3_loss: 0.5304 - dense_1_sparse_top_k_categorical_accuracy: 0.9756 - dense_2_sparse_top_k_categorical_accuracy: 0.6069 - dense_3_sparse_top_k_categorical_accuracy: 0.9971 - val_loss: 4.2383 - val_dense_1_loss: 1.1264 - val_dense_2_loss: 2.6191 - val_dense_3_loss: 0.4864 - val_dense_1_sparse_top_k_categorical_accuracy: 0.9800 - val_dense_2_sparse_top_k_categorical_accuracy: 0.5943 - val_dense_3_sparse_top_k_categorical_accuracy: 0.9967\n",
      "\n",
      "Epoch 00004: saving model to models_checkpoints/weights-improvement-04-4.24.hdf5\n",
      "Epoch 5/50\n",
      "13507/13507 [==============================] - 7s 501us/step - loss: 4.2462 - dense_1_loss: 1.1368 - dense_2_loss: 2.6180 - dense_3_loss: 0.4957 - dense_1_sparse_top_k_categorical_accuracy: 0.9765 - dense_2_sparse_top_k_categorical_accuracy: 0.6084 - dense_3_sparse_top_k_categorical_accuracy: 0.9970 - val_loss: 4.1670 - val_dense_1_loss: 1.1091 - val_dense_2_loss: 2.6053 - val_dense_3_loss: 0.4460 - val_dense_1_sparse_top_k_categorical_accuracy: 0.9800 - val_dense_2_sparse_top_k_categorical_accuracy: 0.5863 - val_dense_3_sparse_top_k_categorical_accuracy: 0.9967_sparse_top_k_categorical_accuracy: 0.9771 - dense_2_sparse_top_k_categorical_accuracy: 0.6157 - dense_3_sparse_top_k_categorical_accuracy: 0. - ETA: 1s - loss: 4.2278 - dense_1_loss: 1.1331 - dense_2_loss: 2.5967 - dense_3_loss: 0.4980 - dense_1_sparse_top_k_categorical_accuracy: 0.9772 - dense_2_sparse_top_k_categorical_accuracy: 0.6155 - den\n",
      "\n",
      "Epoch 00005: saving model to models_checkpoints/weights-improvement-05-4.17.hdf5\n",
      "Epoch 6/50\n",
      "13507/13507 [==============================] - 7s 500us/step - loss: 4.1925 - dense_1_loss: 1.1253 - dense_2_loss: 2.6039 - dense_3_loss: 0.4689 - dense_1_sparse_top_k_categorical_accuracy: 0.9760 - dense_2_sparse_top_k_categorical_accuracy: 0.6110 - dense_3_sparse_top_k_categorical_accuracy: 0.9972 - val_loss: 4.1366 - val_dense_1_loss: 1.1075 - val_dense_2_loss: 2.6002 - val_dense_3_loss: 0.4231 - val_dense_1_sparse_top_k_categorical_accuracy: 0.9800 - val_dense_2_sparse_top_k_categorical_accuracy: 0.5889 - val_dense_3_sparse_top_k_categorical_accuracy: 0.9967\n",
      "\n",
      "Epoch 00006: saving model to models_checkpoints/weights-improvement-06-4.14.hdf5\n",
      "Epoch 7/50\n",
      "13507/13507 [==============================] - 7s 498us/step - loss: 4.1655 - dense_1_loss: 1.1185 - dense_2_loss: 2.5933 - dense_3_loss: 0.4545 - dense_1_sparse_top_k_categorical_accuracy: 0.9764 - dense_2_sparse_top_k_categorical_accuracy: 0.6131 - dense_3_sparse_top_k_categorical_accuracy: 0.9973 - val_loss: 4.1382 - val_dense_1_loss: 1.1111 - val_dense_2_loss: 2.6072 - val_dense_3_loss: 0.4148 - val_dense_1_sparse_top_k_categorical_accuracy: 0.9800 - val_dense_2_sparse_top_k_categorical_accuracy: 0.5909 - val_dense_3_sparse_top_k_categorical_accuracy: 0.9967ense_1_sparse_top_k_categorical_accuracy: 0.9776 - dense_2_sparse_top_k_categorical_accuracy: 0.6136 - dense_3_sparse_top_k_categori - ETA: 1s - loss: 4.1608 - dense_1_loss: 1.1123 - dense_2_loss: 2.5934 - dense_3_loss: 0.4551 - dense_1_sparse_top_k_categorical_accuracy: 0.9764 - dense_2_sparse_top_k_categorical_accuracy: 0.6150\n",
      "\n",
      "Epoch 00007: saving model to models_checkpoints/weights-improvement-07-4.14.hdf5\n",
      "Epoch 8/50\n",
      "13507/13507 [==============================] - 7s 498us/step - loss: 4.1354 - dense_1_loss: 1.1102 - dense_2_loss: 2.5849 - dense_3_loss: 0.4374 - dense_1_sparse_top_k_categorical_accuracy: 0.9761 - dense_2_sparse_top_k_categorical_accuracy: 0.6147 - dense_3_sparse_top_k_categorical_accuracy: 0.9973 - val_loss: 4.1214 - val_dense_1_loss: 1.1095 - val_dense_2_loss: 2.5987 - val_dense_3_loss: 0.4075 - val_dense_1_sparse_top_k_categorical_accuracy: 0.9800 - val_dense_2_sparse_top_k_categorical_accuracy: 0.5863 - val_dense_3_sparse_top_k_categorical_accuracy: 0.9967rse_top_k_categorical_accuracy: 0.9759 - dense_2_sparse_top_k_categorical_accuracy: 0.6185 - dense - ETA: 1s - loss: 4.1337 - dense_1_loss: 1.1222 - dense_2_loss: 2.5812 - dense_3_loss: 0.4303 - dense_1_sparse_top_k_categorical_accuracy: 0.9754 - dense_2_sparse_top_k_categorical_accuracy: 0.6168 - dense_3_sparse_top_k_cate - ETA: 1s - loss: 4.1323 - dense_1_loss: 1.1152 - dense_2_loss: 2.5819 - dense_3_loss: 0.4352 - dense_1_sparse_top_k_categorical_accuracy: 0.9762 - dense_2_sparse_top_k_categorical_accuracy: 0.6182 - dense_3_sparse_ - ETA: 0s - loss: 4.1369 - dense_1_loss: 1.1148 - dense_2_loss: 2.5863 - dense_3_loss: 0.4358 - dense_1_sparse_top_k_categorical_accuracy: 0.9758 - dense_2_sparse_top_k_categorical_accuracy: 0.6152 - dense_3_sparse_top_k_categorical_accuracy\n",
      "\n",
      "Epoch 00008: saving model to models_checkpoints/weights-improvement-08-4.12.hdf5\n",
      "Epoch 9/50\n",
      "13507/13507 [==============================] - 7s 500us/step - loss: 4.1102 - dense_1_loss: 1.1046 - dense_2_loss: 2.5742 - dense_3_loss: 0.4282 - dense_1_sparse_top_k_categorical_accuracy: 0.9753 - dense_2_sparse_top_k_categorical_accuracy: 0.6138 - dense_3_sparse_top_k_categorical_accuracy: 0.9973 - val_loss: 4.1265 - val_dense_1_loss: 1.1103 - val_dense_2_loss: 2.6008 - val_dense_3_loss: 0.4105 - val_dense_1_sparse_top_k_categorical_accuracy: 0.9800 - val_dense_2_sparse_top_k_categorical_accuracy: 0.5916 - val_dense_3_sparse_top_k_categorical_accuracy: 0.9967\n",
      "\n",
      "Epoch 00009: saving model to models_checkpoints/weights-improvement-09-4.13.hdf5\n",
      "Epoch 10/50\n",
      "13507/13507 [==============================] - 7s 502us/step - loss: 4.0929 - dense_1_loss: 1.1016 - dense_2_loss: 2.5578 - dense_3_loss: 0.4232 - dense_1_sparse_top_k_categorical_accuracy: 0.9761 - dense_2_sparse_top_k_categorical_accuracy: 0.6156 - dense_3_sparse_top_k_categorical_accuracy: 0.9973 - val_loss: 4.1140 - val_dense_1_loss: 1.1059 - val_dense_2_loss: 2.5957 - val_dense_3_loss: 0.4077 - val_dense_1_sparse_top_k_categorical_accuracy: 0.9800 - val_dense_2_sparse_top_k_categorical_accuracy: 0.5883 - val_dense_3_sparse_top_k_categorical_accuracy: 0.9967dense_1_loss: 1.1052 - dense_2_loss: 2.5675 - dense_3_loss: 0.4268 - dense_1_sparse_top_k_categorical_accuracy: 0.9763 - dense_2_sparse_top_k_categorical_accuracy: 0.6156 - dense_3_sparse_ - ETA: 0s - loss: 4.0936 - dense_1_loss: 1.0999 - dense_2_loss: 2.5670 - dense_3_loss: 0.4267 - dense_1_sparse_top_k_categorical_accuracy: 0.9764 - dense_2_sparse_top_k_categorical_accuracy: 0.6168 - dense_3_sparse_top_k_categorical_\n",
      "\n",
      "Epoch 00010: saving model to models_checkpoints/weights-improvement-10-4.11.hdf5\n",
      "Epoch 11/50\n",
      "13507/13507 [==============================] - 7s 500us/step - loss: 4.0887 - dense_1_loss: 1.0989 - dense_2_loss: 2.5597 - dense_3_loss: 0.4257 - dense_1_sparse_top_k_categorical_accuracy: 0.9767 - dense_2_sparse_top_k_categorical_accuracy: 0.6154 - dense_3_sparse_top_k_categorical_accuracy: 0.9973 - val_loss: 4.0762 - val_dense_1_loss: 1.0923 - val_dense_2_loss: 2.5793 - val_dense_3_loss: 0.3989 - val_dense_1_sparse_top_k_categorical_accuracy: 0.9800 - val_dense_2_sparse_top_k_categorical_accuracy: 0.5909 - val_dense_3_sparse_top_k_categorical_accuracy: 0.9967dense_1_loss: 1.1276 - dense_2_loss: 2.5626 - dense_3_loss: 0.4476 - dense_1_sparse_top_k_categorical_ac - ETA: 1s - loss: 4.0879 - dense_1_loss: 1.1002 - dense_2_loss: 2.5604 - dense_3_loss: 0.4273 - dense_1_sparse_top_k_categorical_accuracy: 0.9775 - dense_2_sparse_top_k_categorical_accuracy: 0.6135 - dense_3 - ETA: 0s - loss: 4.0899 - dense_1_loss: 1.1004 - dense_2_loss: 2.5614 - dense_3_loss: 0.4281 - dense_1_sparse_top_k_categorical_accuracy: 0.9766 - dense_2_sparse_top_k_categorical_accuracy: 0.6164 - dense_3_sparse_top_k_categori\n",
      "\n",
      "Epoch 00011: saving model to models_checkpoints/weights-improvement-11-4.08.hdf5\n",
      "Epoch 12/50\n",
      "13507/13507 [==============================] - 7s 500us/step - loss: 4.0741 - dense_1_loss: 1.0984 - dense_2_loss: 2.5537 - dense_3_loss: 0.4208 - dense_1_sparse_top_k_categorical_accuracy: 0.9759 - dense_2_sparse_top_k_categorical_accuracy: 0.6123 - dense_3_sparse_top_k_categorical_accuracy: 0.9972 - val_loss: 4.0762 - val_dense_1_loss: 1.0916 - val_dense_2_loss: 2.5786 - val_dense_3_loss: 0.4005 - val_dense_1_sparse_top_k_categorical_accuracy: 0.9800 - val_dense_2_sparse_top_k_categorical_accuracy: 0.5943 - val_dense_3_sparse_top_k_categorical_accuracy: 0.9967e_3_loss: 0.4213 - dense_1_sparse_top_k_categorical_accuracy: 0.9755 - dense_2_sparse_top_k_categorical_accuracy: 0.6173 - dense_3_sparse_top_k_categorical_accuracy: 0.99 - ETA: 2s - loss: 4.0720 - dense_1_loss: 1.0970 - dense_2_loss: 2.5530 - dense_3_loss: 0.4220 - dense_1_sparse_top_k_categorical_accuracy: 0.9754 - dense_2_sparse_top_k_categorical_accuracy: 0.6174 - dense_3_sparse_top_k_ca - ETA: 1s - loss: 4.0626 - dense_1_loss: 1.0916 - dense_2_loss: 2.5546 - dense_3_loss: 0.4164 - dense_1_sparse_top_k_categorical_accuracy: 0.9767 - dense_2_sparse_top_k_categorical_accu\n",
      "\n",
      "Epoch 00012: saving model to models_checkpoints/weights-improvement-12-4.08.hdf5\n",
      "Epoch 13/50\n",
      "13507/13507 [==============================] - 7s 502us/step - loss: 4.0540 - dense_1_loss: 1.0912 - dense_2_loss: 2.5514 - dense_3_loss: 0.4095 - dense_1_sparse_top_k_categorical_accuracy: 0.9762 - dense_2_sparse_top_k_categorical_accuracy: 0.6159 - dense_3_sparse_top_k_categorical_accuracy: 0.9973 - val_loss: 4.0735 - val_dense_1_loss: 1.0930 - val_dense_2_loss: 2.5848 - val_dense_3_loss: 0.3906 - val_dense_1_sparse_top_k_categorical_accuracy: 0.9800 - val_dense_2_sparse_top_k_categorical_accuracy: 0.5936 - val_dense_3_sparse_top_k_categorical_accuracy: 0.9967\n",
      "\n",
      "Epoch 00013: saving model to models_checkpoints/weights-improvement-13-4.07.hdf5\n",
      "Epoch 14/50\n",
      "13507/13507 [==============================] - 7s 504us/step - loss: 4.0426 - dense_1_loss: 1.0867 - dense_2_loss: 2.5437 - dense_3_loss: 0.4056 - dense_1_sparse_top_k_categorical_accuracy: 0.9762 - dense_2_sparse_top_k_categorical_accuracy: 0.6153 - dense_3_sparse_top_k_categorical_accuracy: 0.9973 - val_loss: 4.0704 - val_dense_1_loss: 1.0917 - val_dense_2_loss: 2.5780 - val_dense_3_loss: 0.3945 - val_dense_1_sparse_top_k_categorical_accuracy: 0.9800 - val_dense_2_sparse_top_k_categorical_accuracy: 0.5923 - val_dense_3_sparse_top_k_categorical_accuracy: 0.9967se_2_loss: 2.5461 - dense_3_loss: 0.4124 - dense_1_sparse_top_k_categorical_accuracy: 0.9757 - dense_2_sparse_top_k_categorical_accuracy: 0.6155 - d\n",
      "\n",
      "Epoch 00014: saving model to models_checkpoints/weights-improvement-14-4.07.hdf5\n",
      "Epoch 15/50\n",
      "13507/13507 [==============================] - 7s 505us/step - loss: 4.0439 - dense_1_loss: 1.0863 - dense_2_loss: 2.5430 - dense_3_loss: 0.4097 - dense_1_sparse_top_k_categorical_accuracy: 0.9760 - dense_2_sparse_top_k_categorical_accuracy: 0.6152 - dense_3_sparse_top_k_categorical_accuracy: 0.9973 - val_loss: 4.0707 - val_dense_1_loss: 1.0921 - val_dense_2_loss: 2.5824 - val_dense_3_loss: 0.3905 - val_dense_1_sparse_top_k_categorical_accuracy: 0.9800 - val_dense_2_sparse_top_k_categorical_accuracy: 0.5916 - val_dense_3_sparse_top_k_categorical_accuracy: 0.9967gorical_accuracy: 0.9776 - dense_2_sparse_top_k_categorical_accuracy: 0.6143 - dense_3_sparse_top_k_categorical_accuracy: 0.99 - ETA: 1s - loss: 4.0312 - dense_1_loss: 1.0801 - dense_2_loss: 2.5427 - dense_3_loss: 0.4083 - dense_1_sparse_top_k_categorical_accuracy: 0.9778 - dense_2_sparse_top_k_categorical_accuracy: 0.6143 - dense_3_sparse_to - ETA: 0s - loss: 4.0409 - dense_1_loss: 1.0864 - dense_2_loss: 2.5441 - dense_3_loss: 0.4104 - dense_1_sparse_top_k_categorical_accuracy: 0.9767 - dense_2_sparse_top_k_categorical_accuracy: 0.6138 - dense_3_sparse_top_\n",
      "\n",
      "Epoch 00015: saving model to models_checkpoints/weights-improvement-15-4.07.hdf5\n",
      "Epoch 16/50\n",
      "13507/13507 [==============================] - 7s 500us/step - loss: 4.0314 - dense_1_loss: 1.0849 - dense_2_loss: 2.5415 - dense_3_loss: 0.4009 - dense_1_sparse_top_k_categorical_accuracy: 0.9762 - dense_2_sparse_top_k_categorical_accuracy: 0.6124 - dense_3_sparse_top_k_categorical_accuracy: 0.9972 - val_loss: 4.0759 - val_dense_1_loss: 1.0951 - val_dense_2_loss: 2.5805 - val_dense_3_loss: 0.3944 - val_dense_1_sparse_top_k_categorical_accuracy: 0.9800 - val_dense_2_sparse_top_k_categorical_accuracy: 0.5949 - val_dense_3_sparse_top_k_categorical_accuracy: 0.996729 - dense_2_loss: 2.5699 - dense_3_loss: 0.3943 - dense_1_sparse_top_k_categorical_accuracy: 0.9772 - dense_2_sparse_top_k_categorical_ac - ETA: 2s - loss: 4.0502 - dense_1_loss: 1.0966 - dense_2_loss: 2.5496 - dense_3_loss: 0.4039 - dense_1_sparse_top_k_categorical_accuracy: 0.9752 - dense_2_spa\n",
      "\n",
      "Epoch 00016: saving model to models_checkpoints/weights-improvement-16-4.08.hdf5\n",
      "Epoch 17/50\n",
      "13507/13507 [==============================] - 7s 497us/step - loss: 4.0386 - dense_1_loss: 1.0864 - dense_2_loss: 2.5457 - dense_3_loss: 0.4046 - dense_1_sparse_top_k_categorical_accuracy: 0.9764 - dense_2_sparse_top_k_categorical_accuracy: 0.6142 - dense_3_sparse_top_k_categorical_accuracy: 0.9971 - val_loss: 4.0731 - val_dense_1_loss: 1.0914 - val_dense_2_loss: 2.5830 - val_dense_3_loss: 0.3937 - val_dense_1_sparse_top_k_categorical_accuracy: 0.9800 - val_dense_2_sparse_top_k_categorical_accuracy: 0.5929 - val_dense_3_sparse_top_k_categorical_accuracy: 0.9967_loss: 2.5369 - dense_3_loss: 0.4335 - dense_1_sparse_top_k_categorical_accuracy: 0.9762 - dense_2_sparse_top_k_categorical_accuracy: 0.6171 - dense_3_sparse_top_k_categorical_accuracy: 0.99 - ETA: 4s - loss: 4.0617 - dense_1_loss: 1.0941 - dense_2_loss: 2.5384 - dense_3_loss: 0.4293 - dense_1_sparse_top_k_categorical_accuracy: 0.9756 - dense_2_sparse_top_k_categorical_accuracy: 0.6181 - dense_3_sparse_top_k_categorical_accuracy: 0.99 - ETA: 4s - loss: 4.0536 - dense_1_loss: 1.0931 - dense_2_loss: 2.5364 - dense_3_loss: 0.4240 - dense_1_sparse_top_k_categorical_accuracy: 0.9754 - dense_2_sparse_top_k_categorical_accuracy: 0.6173 - dense_3_sparse_top_k_categori - ETA: 3s - loss: 4.0409 - dense_1_loss: 1.0890 - dense_2_loss: 2.5332 - dense_3_loss: 0.4187 - dense_1_sparse_top_k_categorical_accuracy: 0.9765 - dense_2_sparse_top_k_categorical_accuracy: 0.6167 - dense_3_spars - ETA: 2s - loss: 4.0473 - dense_1_loss: 1.0925 - dense_2_loss: 2.5407 - dense_3_loss: 0.4141 - dense_1_sparse_top_k_categorical_accuracy: 0.9762 - dense_2_sparse_top_k_categorical_accuracy: 0.6151 - dense_3_sparse_top_k_categorical_accuracy: 0. - ETA: 2s - loss: 4.0405 - dense_1_loss: 1.0882 - dense_2_loss: 2.5394 - dense_3_loss: 0.4129 - dense_1_sparse_top_k_categorical_accuracy: 0.9765 - dense_2_sparse_top_k_categorical_accuracy: 0.6158 - dense_3_spars - ETA: 1s - loss: 4.0458 - dense_1_loss: 1.0954 - dense_2_loss: 2.5463 - dense_3_loss: 0.4041 - dense_1_sparse_top_k_categorical_accuracy: 0.9761 - dense_2_sparse_top_k_categorical_accuracy: 0.6139 - - ETA: 0s - loss: 4.0393 - dense_1_loss: 1.0880 - dense_2_loss: 2.5457 - dense_3_loss: 0.4057 - dense_1_sparse_top_k_categorical_accuracy: 0.9762 - dense_2_sparse_top_k_categorical_accuracy: 0.6145 - dense_3_sparse_top_k_categorical_accuracy: \n",
      "\n",
      "Epoch 00017: saving model to models_checkpoints/weights-improvement-17-4.07.hdf5\n",
      "Epoch 00017: early stopping\n"
     ]
    }
   ],
   "source": [
    "history = m.fit(X, [y1,y2,y3], validation_split = 0.1,  batch_size=BATCH_SIZE, epochs=EPOCHS, callbacks=callbacks_list)"
   ]
  },
  {
   "cell_type": "code",
   "execution_count": 98,
   "id": "19c2ce73-150a-446f-8e27-cfcdf97b3adc",
   "metadata": {
    "jupyter": {
     "source_hidden": true
    },
    "tags": []
   },
   "outputs": [],
   "source": [
    "from matplotlib import pyplot as plt"
   ]
  },
  {
   "cell_type": "code",
   "execution_count": 22,
   "id": "361d642d-8537-4a44-b933-b0a00f08cd9c",
   "metadata": {},
   "outputs": [
    {
     "data": {
      "image/png": "[encoded data removed]",
      "text/plain": [
       "<Figure size 432x288 with 1 Axes>"
      ]
     },
     "metadata": {
      "needs_background": "light"
     },
     "output_type": "display_data"
    }
   ],
   "source": [
    "plt.plot(m.history.history['loss'])\n",
    "plt.plot(m.history.history['val_loss'])\n",
    "plt.title('model loss')\n",
    "plt.ylabel('loss')\n",
    "plt.xlabel('epoch')\n",
    "plt.legend(['train', 'val'], loc='upper left')\n",
    "plt.show()"
   ]
  },
  {
   "cell_type": "code",
   "execution_count": 23,
   "id": "3f93c78c-8756-4620-b28e-1526f01083ff",
   "metadata": {},
   "outputs": [],
   "source": [
    "from random import randint\n",
    "def sample(preds):\n",
    "    sorted_indexes = np.argsort(preds)[::-1]\n",
    "    return sorted_indexes[randint(0,3)]"
   ]
  },
  {
   "cell_type": "code",
   "execution_count": 24,
   "id": "b7fc503f-1a6e-4b86-a42a-e3c4f26d3e48",
   "metadata": {},
   "outputs": [],
   "source": [
    "def sample_seq( seq, seq_length, model, number_to_note, output_seq_length ):\n",
    "    if output_seq_length <= len(seq): raise Exception(\"output_seq_length must be higher than seq_length\")\n",
    "        \n",
    "    output_seq = seq\n",
    "    for i in range(output_seq_length - len(seq)):\n",
    "        input_sequence = [seq[-seq_length:]]\n",
    "        x = [pad_sequences(input_sequence, maxlen = seq_length, padding=\"pre\")]\n",
    "        prediction = model.predict(x)\n",
    "        \n",
    "        index1 = sample(prediction)\n",
    "        \n",
    "        index = sample(prediction[0])\n",
    "        output_seq.append(index)\n",
    "    #[number_to_note(number) for number in output_seq]\n",
    "    return output_seq"
   ]
  },
  {
   "cell_type": "code",
   "execution_count": 25,
   "id": "11e9f10b-b9da-4e94-a977-2feaaff29036",
   "metadata": {},
   "outputs": [],
   "source": [
    "from keras.preprocessing.sequence import pad_sequences"
   ]
  },
  {
   "cell_type": "code",
   "execution_count": 26,
   "id": "00baf9c5-7cbc-4c1c-a19c-dde5c8c2c661",
   "metadata": {},
   "outputs": [],
   "source": [
    "def pad( input_seq, desired_length, fill_value):\n",
    "    if len(input_seq) >= desired_length:\n",
    "        return input_seq\n",
    "    else: \n",
    "        [input_seq.insert(0, fill_value) for i in range(0, desired_length - len(input_seq))]\n",
    "        return input_seq"
   ]
  },
  {
   "cell_type": "code",
   "execution_count": 27,
   "id": "4938d88f-d09b-4f25-b0f7-82fc60505287",
   "metadata": {},
   "outputs": [],
   "source": [
    "def sample_seq( input_seq, length_expected_by_model, model, output_seq_length, padding_fill_value ):\n",
    "    if output_seq_length <= len(input_seq): raise Exception(\"output_seq_length must be higher than seq_length\")\n",
    "        \n",
    "    output_seq = input_seq\n",
    "    for i in range(output_seq_length - len(input_seq)):\n",
    "        input_sequence = input_seq[-length_expected_by_model:]\n",
    "        x = [pad(input_sequence, length_expected_by_model, padding_fill_value)]\n",
    "        #print(x)\n",
    "        prediction = model.predict(np.array(x))\n",
    "        #print(prediction[0][0])\n",
    "        \n",
    "        index1 = sample(prediction[0][0])\n",
    "        index2 = sample(prediction[1][0])\n",
    "        index3 = sample(prediction[2][0])\n",
    "        #index = sample(prediction[0])\n",
    "        output_seq.append([index1, index2, index3])\n",
    "    return output_seq"
   ]
  },
  {
   "cell_type": "code",
   "execution_count": 28,
   "id": "2564dff5-e985-42a6-a934-926d4a3d523d",
   "metadata": {},
   "outputs": [
    {
     "data": {
      "text/plain": [
       "[[1, 1, 1], [0, 102, 1], [0, 105, 4], [3, 100, 2], [0, 105, 1]]"
      ]
     },
     "execution_count": 28,
     "metadata": {},
     "output_type": "execute_result"
    }
   ],
   "source": [
    "sample_seq([[1,1,1]], 10, m, 5, [0,0,0])"
   ]
  },
  {
   "cell_type": "code",
   "execution_count": 29,
   "id": "c19b400b-c6b1-4609-a3a8-f9984800909d",
   "metadata": {},
   "outputs": [],
   "source": [
    "generated_vector = sample_seq([[1,1,1]], 10, m, 50, [0,0,0])"
   ]
  },
  {
   "cell_type": "code",
   "execution_count": 30,
   "id": "bfdcae25-4ec8-4757-8c1a-b8ad4028d4d3",
   "metadata": {},
   "outputs": [
    {
     "data": {
      "text/plain": [
       "[[1, 1, 1],\n",
       " [0, 100, 1],\n",
       " [1, 100, 4],\n",
       " [3, 100, 1],\n",
       " [0, 2, 1],\n",
       " [0, 105, 1],\n",
       " [0, 102, 2],\n",
       " [3, 100, 1],\n",
       " [0, 2, 81],\n",
       " [2, 102, 2],\n",
       " [1, 105, 81],\n",
       " [0, 105, 3],\n",
       " [0, 102, 4],\n",
       " [0, 105, 81],\n",
       " [2, 100, 81],\n",
       " [0, 102, 3],\n",
       " [1, 102, 3],\n",
       " [0, 105, 4],\n",
       " [2, 105, 81],\n",
       " [0, 105, 81],\n",
       " [1, 100, 81],\n",
       " [1, 102, 4],\n",
       " [1, 105, 81],\n",
       " [0, 102, 81],\n",
       " [2, 105, 3],\n",
       " [1, 2, 4],\n",
       " [0, 102, 3],\n",
       " [1, 102, 1],\n",
       " [3, 2, 4],\n",
       " [1, 105, 1],\n",
       " [2, 100, 81],\n",
       " [2, 105, 4],\n",
       " [1, 2, 3],\n",
       " [3, 100, 81],\n",
       " [0, 102, 2],\n",
       " [3, 105, 4],\n",
       " [0, 105, 4],\n",
       " [2, 2, 4],\n",
       " [3, 100, 81],\n",
       " [1, 100, 81],\n",
       " [3, 102, 4],\n",
       " [0, 105, 4],\n",
       " [3, 100, 2],\n",
       " [1, 100, 4],\n",
       " [0, 105, 4],\n",
       " [1, 100, 81],\n",
       " [0, 102, 2],\n",
       " [0, 2, 4],\n",
       " [2, 100, 81],\n",
       " [3, 102, 1]]"
      ]
     },
     "execution_count": 30,
     "metadata": {},
     "output_type": "execute_result"
    }
   ],
   "source": [
    "generated_vector"
   ]
  },
  {
   "cell_type": "code",
   "execution_count": 31,
   "id": "0ec64ac8-a3be-4602-ae68-2bdc6da16735",
   "metadata": {},
   "outputs": [],
   "source": [
    "generated_intervals = [{'relative_offset': number_to_duration[generated_item[0]], 'interval': number_to_interval[generated_item[1]], 'duration': number_to_duration[generated_item[2]]} for generated_item in generated_vector]"
   ]
  },
  {
   "cell_type": "code",
   "execution_count": 32,
   "id": "ecbee4b2-71e6-4722-9d9f-f1ec21aa4b5d",
   "metadata": {},
   "outputs": [
    {
     "data": {
      "text/plain": [
       "[{'relative_offset': 0.25, 'interval': 1, 'duration': 0.25},\n",
       " {'relative_offset': 0, 'interval': 0, 'duration': 0.25},\n",
       " {'relative_offset': 0.25, 'interval': 0, 'duration': 1.0},\n",
       " {'relative_offset': 0.75, 'interval': 0, 'duration': 0.25},\n",
       " {'relative_offset': 0, 'interval': 2, 'duration': 0.25},\n",
       " {'relative_offset': 0, 'interval': -5, 'duration': 0.25},\n",
       " {'relative_offset': 0, 'interval': -2, 'duration': 0.5},\n",
       " {'relative_offset': 0.75, 'interval': 0, 'duration': 0.25},\n",
       " {'relative_offset': 0, 'interval': 2, 'duration': Fraction(1, 3)},\n",
       " {'relative_offset': 0.5, 'interval': -2, 'duration': 0.5},\n",
       " {'relative_offset': 0.25, 'interval': -5, 'duration': Fraction(1, 3)},\n",
       " {'relative_offset': 0, 'interval': -5, 'duration': 0.75},\n",
       " {'relative_offset': 0, 'interval': -2, 'duration': 1.0},\n",
       " {'relative_offset': 0, 'interval': -5, 'duration': Fraction(1, 3)},\n",
       " {'relative_offset': 0.5, 'interval': 0, 'duration': Fraction(1, 3)},\n",
       " {'relative_offset': 0, 'interval': -2, 'duration': 0.75},\n",
       " {'relative_offset': 0.25, 'interval': -2, 'duration': 0.75},\n",
       " {'relative_offset': 0, 'interval': -5, 'duration': 1.0},\n",
       " {'relative_offset': 0.5, 'interval': -5, 'duration': Fraction(1, 3)},\n",
       " {'relative_offset': 0, 'interval': -5, 'duration': Fraction(1, 3)},\n",
       " {'relative_offset': 0.25, 'interval': 0, 'duration': Fraction(1, 3)},\n",
       " {'relative_offset': 0.25, 'interval': -2, 'duration': 1.0},\n",
       " {'relative_offset': 0.25, 'interval': -5, 'duration': Fraction(1, 3)},\n",
       " {'relative_offset': 0, 'interval': -2, 'duration': Fraction(1, 3)},\n",
       " {'relative_offset': 0.5, 'interval': -5, 'duration': 0.75},\n",
       " {'relative_offset': 0.25, 'interval': 2, 'duration': 1.0},\n",
       " {'relative_offset': 0, 'interval': -2, 'duration': 0.75},\n",
       " {'relative_offset': 0.25, 'interval': -2, 'duration': 0.25},\n",
       " {'relative_offset': 0.75, 'interval': 2, 'duration': 1.0},\n",
       " {'relative_offset': 0.25, 'interval': -5, 'duration': 0.25},\n",
       " {'relative_offset': 0.5, 'interval': 0, 'duration': Fraction(1, 3)},\n",
       " {'relative_offset': 0.5, 'interval': -5, 'duration': 1.0},\n",
       " {'relative_offset': 0.25, 'interval': 2, 'duration': 0.75},\n",
       " {'relative_offset': 0.75, 'interval': 0, 'duration': Fraction(1, 3)},\n",
       " {'relative_offset': 0, 'interval': -2, 'duration': 0.5},\n",
       " {'relative_offset': 0.75, 'interval': -5, 'duration': 1.0},\n",
       " {'relative_offset': 0, 'interval': -5, 'duration': 1.0},\n",
       " {'relative_offset': 0.5, 'interval': 2, 'duration': 1.0},\n",
       " {'relative_offset': 0.75, 'interval': 0, 'duration': Fraction(1, 3)},\n",
       " {'relative_offset': 0.25, 'interval': 0, 'duration': Fraction(1, 3)},\n",
       " {'relative_offset': 0.75, 'interval': -2, 'duration': 1.0},\n",
       " {'relative_offset': 0, 'interval': -5, 'duration': 1.0},\n",
       " {'relative_offset': 0.75, 'interval': 0, 'duration': 0.5},\n",
       " {'relative_offset': 0.25, 'interval': 0, 'duration': 1.0},\n",
       " {'relative_offset': 0, 'interval': -5, 'duration': 1.0},\n",
       " {'relative_offset': 0.25, 'interval': 0, 'duration': Fraction(1, 3)},\n",
       " {'relative_offset': 0, 'interval': -2, 'duration': 0.5},\n",
       " {'relative_offset': 0, 'interval': 2, 'duration': 1.0},\n",
       " {'relative_offset': 0.5, 'interval': 0, 'duration': Fraction(1, 3)},\n",
       " {'relative_offset': 0.75, 'interval': -2, 'duration': 0.25}]"
      ]
     },
     "execution_count": 32,
     "metadata": {},
     "output_type": "execute_result"
    }
   ],
   "source": [
    "generated_intervals"
   ]
  },
  {
   "cell_type": "code",
   "execution_count": 33,
   "id": "8bbb5c8c-716e-4730-b755-e568a2eb318a",
   "metadata": {},
   "outputs": [],
   "source": [
    "from music21 import converter, corpus, instrument, midi, note, chord, pitch, stream, interval, duration"
   ]
  },
  {
   "cell_type": "code",
   "execution_count": 34,
   "id": "db3b3388-c76a-4b83-8157-3771a9885cce",
   "metadata": {},
   "outputs": [],
   "source": [
    "def from_array_of_intervals_to_pitches_with_time (root_pitch, intervals_with_time):\n",
    "    elements = [{\n",
    "            'absolute_offset': 0, \n",
    "            'pitch': root_pitch, \n",
    "            'duration': 1\n",
    "        }]\n",
    "    for interval in intervals_with_time:\n",
    "        previousElement = elements[-1]\n",
    "        resultElement = {\n",
    "            'absolute_offset': float(previousElement['absolute_offset'] + interval['relative_offset']), \n",
    "            'pitch': float(previousElement['pitch'] + interval['interval']), \n",
    "            'duration': float(interval['duration']),\n",
    "        }\n",
    "        elements.append(resultElement)\n",
    "    return elements\n",
    "\n",
    "def from_pitches_with_time_to_midi (pitches_with_time, midi_path):\n",
    "    print(pitches_with_time)\n",
    "    streamResult = stream.Stream()\n",
    "    for pitch_with_time in pitches_with_time:\n",
    "        element = note.Note(pitch_with_time['pitch'])\n",
    "        element._setOffset(pitch_with_time['absolute_offset'])\n",
    "        d = duration.Duration()\n",
    "        d.quarterLength = pitch_with_time['duration']\n",
    "        element.duration = d\n",
    "        streamResult.append(element)\n",
    "            \n",
    "    streamResult.write('midi', fp= midi_path)\n",
    "    \n",
    "def from_intervals_with_time_to_midi( root_pitch, intervals, midi_path):\n",
    "    pitches_with_time = from_array_of_intervals_to_pitches_with_time(root_pitch, intervals)\n",
    "    from_pitches_with_time_to_midi(pitches_with_time, midi_path)"
   ]
  },
  {
   "cell_type": "code",
   "execution_count": 35,
   "id": "d23253bd-fa24-4553-9119-0bfbbe650bc0",
   "metadata": {},
   "outputs": [
    {
     "data": {
      "text/plain": [
       "[{'absolute_offset': 0, 'pitch': 100, 'duration': 1},\n",
       " {'absolute_offset': 0.25, 'pitch': 101.0, 'duration': 0.25},\n",
       " {'absolute_offset': 0.25, 'pitch': 101.0, 'duration': 0.25},\n",
       " {'absolute_offset': 0.5, 'pitch': 101.0, 'duration': 1.0},\n",
       " {'absolute_offset': 1.25, 'pitch': 101.0, 'duration': 0.25},\n",
       " {'absolute_offset': 1.25, 'pitch': 103.0, 'duration': 0.25},\n",
       " {'absolute_offset': 1.25, 'pitch': 98.0, 'duration': 0.25},\n",
       " {'absolute_offset': 1.25, 'pitch': 96.0, 'duration': 0.5},\n",
       " {'absolute_offset': 2.0, 'pitch': 96.0, 'duration': 0.25},\n",
       " {'absolute_offset': 2.0, 'pitch': 98.0, 'duration': 0.3333333333333333},\n",
       " {'absolute_offset': 2.5, 'pitch': 96.0, 'duration': 0.5},\n",
       " {'absolute_offset': 2.75, 'pitch': 91.0, 'duration': 0.3333333333333333},\n",
       " {'absolute_offset': 2.75, 'pitch': 86.0, 'duration': 0.75},\n",
       " {'absolute_offset': 2.75, 'pitch': 84.0, 'duration': 1.0},\n",
       " {'absolute_offset': 2.75, 'pitch': 79.0, 'duration': 0.3333333333333333},\n",
       " {'absolute_offset': 3.25, 'pitch': 79.0, 'duration': 0.3333333333333333},\n",
       " {'absolute_offset': 3.25, 'pitch': 77.0, 'duration': 0.75},\n",
       " {'absolute_offset': 3.5, 'pitch': 75.0, 'duration': 0.75},\n",
       " {'absolute_offset': 3.5, 'pitch': 70.0, 'duration': 1.0},\n",
       " {'absolute_offset': 4.0, 'pitch': 65.0, 'duration': 0.3333333333333333},\n",
       " {'absolute_offset': 4.0, 'pitch': 60.0, 'duration': 0.3333333333333333},\n",
       " {'absolute_offset': 4.25, 'pitch': 60.0, 'duration': 0.3333333333333333},\n",
       " {'absolute_offset': 4.5, 'pitch': 58.0, 'duration': 1.0},\n",
       " {'absolute_offset': 4.75, 'pitch': 53.0, 'duration': 0.3333333333333333},\n",
       " {'absolute_offset': 4.75, 'pitch': 51.0, 'duration': 0.3333333333333333},\n",
       " {'absolute_offset': 5.25, 'pitch': 46.0, 'duration': 0.75},\n",
       " {'absolute_offset': 5.5, 'pitch': 48.0, 'duration': 1.0},\n",
       " {'absolute_offset': 5.5, 'pitch': 46.0, 'duration': 0.75},\n",
       " {'absolute_offset': 5.75, 'pitch': 44.0, 'duration': 0.25},\n",
       " {'absolute_offset': 6.5, 'pitch': 46.0, 'duration': 1.0},\n",
       " {'absolute_offset': 6.75, 'pitch': 41.0, 'duration': 0.25},\n",
       " {'absolute_offset': 7.25, 'pitch': 41.0, 'duration': 0.3333333333333333},\n",
       " {'absolute_offset': 7.75, 'pitch': 36.0, 'duration': 1.0},\n",
       " {'absolute_offset': 8.0, 'pitch': 38.0, 'duration': 0.75},\n",
       " {'absolute_offset': 8.75, 'pitch': 38.0, 'duration': 0.3333333333333333},\n",
       " {'absolute_offset': 8.75, 'pitch': 36.0, 'duration': 0.5},\n",
       " {'absolute_offset': 9.5, 'pitch': 31.0, 'duration': 1.0},\n",
       " {'absolute_offset': 9.5, 'pitch': 26.0, 'duration': 1.0},\n",
       " {'absolute_offset': 10.0, 'pitch': 28.0, 'duration': 1.0},\n",
       " {'absolute_offset': 10.75, 'pitch': 28.0, 'duration': 0.3333333333333333},\n",
       " {'absolute_offset': 11.0, 'pitch': 28.0, 'duration': 0.3333333333333333},\n",
       " {'absolute_offset': 11.75, 'pitch': 26.0, 'duration': 1.0},\n",
       " {'absolute_offset': 11.75, 'pitch': 21.0, 'duration': 1.0},\n",
       " {'absolute_offset': 12.5, 'pitch': 21.0, 'duration': 0.5},\n",
       " {'absolute_offset': 12.75, 'pitch': 21.0, 'duration': 1.0},\n",
       " {'absolute_offset': 12.75, 'pitch': 16.0, 'duration': 1.0},\n",
       " {'absolute_offset': 13.0, 'pitch': 16.0, 'duration': 0.3333333333333333},\n",
       " {'absolute_offset': 13.0, 'pitch': 14.0, 'duration': 0.5},\n",
       " {'absolute_offset': 13.0, 'pitch': 16.0, 'duration': 1.0},\n",
       " {'absolute_offset': 13.5, 'pitch': 16.0, 'duration': 0.3333333333333333},\n",
       " {'absolute_offset': 14.25, 'pitch': 14.0, 'duration': 0.25}]"
      ]
     },
     "execution_count": 35,
     "metadata": {},
     "output_type": "execute_result"
    }
   ],
   "source": [
    "from_array_of_intervals_to_pitches_with_time(100, generated_intervals)"
   ]
  },
  {
   "cell_type": "code",
   "execution_count": 36,
   "id": "8884f306-1e64-4f4f-ba75-92896e1f7357",
   "metadata": {},
   "outputs": [],
   "source": [
    "#model_interval.load_weights('models_checkpoints/weights-improvement-10-2.87.hdf5')"
   ]
  },
  {
   "cell_type": "code",
   "execution_count": 37,
   "id": "c05e0378-0acb-4fd8-ac37-2ddab3a21cb4",
   "metadata": {},
   "outputs": [],
   "source": [
    "from datetime import datetime"
   ]
  },
  {
   "cell_type": "code",
   "execution_count": 38,
   "id": "36126a44-cf64-46ce-b6d2-86c49a2afcf4",
   "metadata": {},
   "outputs": [
    {
     "name": "stdout",
     "output_type": "stream",
     "text": [
      "[{'absolute_offset': 0, 'pitch': 100, 'duration': 1}, {'absolute_offset': 0.25, 'pitch': 101.0, 'duration': 0.25}, {'absolute_offset': 0.25, 'pitch': 101.0, 'duration': 0.25}, {'absolute_offset': 0.5, 'pitch': 101.0, 'duration': 1.0}, {'absolute_offset': 1.25, 'pitch': 101.0, 'duration': 0.25}, {'absolute_offset': 1.25, 'pitch': 103.0, 'duration': 0.25}, {'absolute_offset': 1.25, 'pitch': 98.0, 'duration': 0.25}, {'absolute_offset': 1.25, 'pitch': 96.0, 'duration': 0.5}, {'absolute_offset': 2.0, 'pitch': 96.0, 'duration': 0.25}, {'absolute_offset': 2.0, 'pitch': 98.0, 'duration': 0.3333333333333333}, {'absolute_offset': 2.5, 'pitch': 96.0, 'duration': 0.5}, {'absolute_offset': 2.75, 'pitch': 91.0, 'duration': 0.3333333333333333}, {'absolute_offset': 2.75, 'pitch': 86.0, 'duration': 0.75}, {'absolute_offset': 2.75, 'pitch': 84.0, 'duration': 1.0}, {'absolute_offset': 2.75, 'pitch': 79.0, 'duration': 0.3333333333333333}, {'absolute_offset': 3.25, 'pitch': 79.0, 'duration': 0.3333333333333333}, {'absolute_offset': 3.25, 'pitch': 77.0, 'duration': 0.75}, {'absolute_offset': 3.5, 'pitch': 75.0, 'duration': 0.75}, {'absolute_offset': 3.5, 'pitch': 70.0, 'duration': 1.0}, {'absolute_offset': 4.0, 'pitch': 65.0, 'duration': 0.3333333333333333}, {'absolute_offset': 4.0, 'pitch': 60.0, 'duration': 0.3333333333333333}, {'absolute_offset': 4.25, 'pitch': 60.0, 'duration': 0.3333333333333333}, {'absolute_offset': 4.5, 'pitch': 58.0, 'duration': 1.0}, {'absolute_offset': 4.75, 'pitch': 53.0, 'duration': 0.3333333333333333}, {'absolute_offset': 4.75, 'pitch': 51.0, 'duration': 0.3333333333333333}, {'absolute_offset': 5.25, 'pitch': 46.0, 'duration': 0.75}, {'absolute_offset': 5.5, 'pitch': 48.0, 'duration': 1.0}, {'absolute_offset': 5.5, 'pitch': 46.0, 'duration': 0.75}, {'absolute_offset': 5.75, 'pitch': 44.0, 'duration': 0.25}, {'absolute_offset': 6.5, 'pitch': 46.0, 'duration': 1.0}, {'absolute_offset': 6.75, 'pitch': 41.0, 'duration': 0.25}, {'absolute_offset': 7.25, 'pitch': 41.0, 'duration': 0.3333333333333333}, {'absolute_offset': 7.75, 'pitch': 36.0, 'duration': 1.0}, {'absolute_offset': 8.0, 'pitch': 38.0, 'duration': 0.75}, {'absolute_offset': 8.75, 'pitch': 38.0, 'duration': 0.3333333333333333}, {'absolute_offset': 8.75, 'pitch': 36.0, 'duration': 0.5}, {'absolute_offset': 9.5, 'pitch': 31.0, 'duration': 1.0}, {'absolute_offset': 9.5, 'pitch': 26.0, 'duration': 1.0}, {'absolute_offset': 10.0, 'pitch': 28.0, 'duration': 1.0}, {'absolute_offset': 10.75, 'pitch': 28.0, 'duration': 0.3333333333333333}, {'absolute_offset': 11.0, 'pitch': 28.0, 'duration': 0.3333333333333333}, {'absolute_offset': 11.75, 'pitch': 26.0, 'duration': 1.0}, {'absolute_offset': 11.75, 'pitch': 21.0, 'duration': 1.0}, {'absolute_offset': 12.5, 'pitch': 21.0, 'duration': 0.5}, {'absolute_offset': 12.75, 'pitch': 21.0, 'duration': 1.0}, {'absolute_offset': 12.75, 'pitch': 16.0, 'duration': 1.0}, {'absolute_offset': 13.0, 'pitch': 16.0, 'duration': 0.3333333333333333}, {'absolute_offset': 13.0, 'pitch': 14.0, 'duration': 0.5}, {'absolute_offset': 13.0, 'pitch': 16.0, 'duration': 1.0}, {'absolute_offset': 13.5, 'pitch': 16.0, 'duration': 0.3333333333333333}, {'absolute_offset': 14.25, 'pitch': 14.0, 'duration': 0.25}]\n"
     ]
    }
   ],
   "source": [
    "from_intervals_with_time_to_midi(100, generated_intervals, datetime.now().strftime(\"%Y%m%d_%H%M%S\")+'_generated_record_intervals_tuning_with_tracks.mid')"
   ]
  },
  {
   "cell_type": "code",
   "execution_count": 41,
   "id": "0f5590f6-87bb-478d-9551-dd26b3477905",
   "metadata": {},
   "outputs": [],
   "source": [
    "m.save(\"Model_with_tracks.h5\")"
   ]
  },
  {
   "cell_type": "code",
   "execution_count": null,
   "id": "6b1874af-8592-41e3-9a7d-5cc1d32ac5ff",
   "metadata": {},
   "outputs": [],
   "source": []
  }
 ],
 "metadata": {
  "kernelspec": {
   "display_name": "Python 3",
   "language": "python",
   "name": "python3"
  },
  "language_info": {
   "codemirror_mode": {
    "name": "ipython",
    "version": 3
   },
   "file_extension": ".py",
   "mimetype": "text/x-python",
   "name": "python",
   "nbconvert_exporter": "python",
   "pygments_lexer": "ipython3",
   "version": "3.7.10"
  }
 },
 "nbformat": 4,
 "nbformat_minor": 5
}
