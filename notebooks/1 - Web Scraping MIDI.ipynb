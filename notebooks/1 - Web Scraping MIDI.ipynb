{
  "nbformat": 4,
  "nbformat_minor": 5,
  "metadata": {
    "kernelspec": {
      "display_name": "Python 3",
      "language": "python",
      "name": "python3"
    },
    "language_info": {
      "codemirror_mode": {
        "name": "ipython",
        "version": 3
      },
      "file_extension": ".py",
      "mimetype": "text/x-python",
      "name": "python",
      "nbconvert_exporter": "python",
      "pygments_lexer": "ipython3",
      "version": "3.7.10"
    },
    "colab": {
      "name": "1 - Web Scraping MIDI.ipynb",
      "provenance": [],
      "include_colab_link": true
    }
  },
  "cells": [
    {
      "cell_type": "markdown",
      "metadata": {
        "id": "view-in-github",
        "colab_type": "text"
      },
      "source": [
        "<a href=\"https://colab.research.google.com/github/Juanvr/Dathoven/blob/main/notebooks/1%20-%20Web%20Scraping%20MIDI.ipynb\" target=\"_parent\"><img src=\"https://colab.research.google.com/assets/colab-badge.svg\" alt=\"Open In Colab\"/></a>"
      ]
    },
    {
      "cell_type": "markdown",
      "metadata": {
        "id": "b7a5e12a-4465-4563-90d2-f0bd2e746bad"
      },
      "source": [
        "# Web Scraping MIDI"
      ],
      "id": "b7a5e12a-4465-4563-90d2-f0bd2e746bad"
    },
    {
      "cell_type": "code",
      "metadata": {
        "id": "5a5f7a9f-746c-4f1a-80fe-bd779cde5ccb"
      },
      "source": [
        "import urllib\n",
        "import shutil\n",
        "import re\n",
        "from pathlib import Path\n",
        "from bs4 import BeautifulSoup\n",
        "import requests\n",
        "import glob, time"
      ],
      "id": "5a5f7a9f-746c-4f1a-80fe-bd779cde5ccb",
      "execution_count": 1,
      "outputs": []
    },
    {
      "cell_type": "markdown",
      "metadata": {
        "id": "242676af-37f9-4cf6-80bc-8923534af191"
      },
      "source": [
        "We define a function that returns all anchors on a website according to its attributes:"
      ],
      "id": "242676af-37f9-4cf6-80bc-8923534af191"
    },
    {
      "cell_type": "code",
      "metadata": {
        "id": "7315ca81-18c1-4cf6-b39a-463907772abc"
      },
      "source": [
        "def get_elements( url, tag, attrs ):\n",
        "    page = urllib.request.urlopen(url).read()\n",
        "    soup = BeautifulSoup(page, 'html.parser')\n",
        "    return soup.findAll(tag, attrs)"
      ],
      "id": "7315ca81-18c1-4cf6-b39a-463907772abc",
      "execution_count": 2,
      "outputs": []
    },
    {
      "cell_type": "markdown",
      "metadata": {
        "id": "f782d4a1-2287-46e3-8203-a7a2bf278c23"
      },
      "source": [
        "## Carlo's MIDI"
      ],
      "id": "f782d4a1-2287-46e3-8203-a7a2bf278c23"
    },
    {
      "cell_type": "markdown",
      "metadata": {
        "id": "5eb0e6da-b340-4998-9df0-1a1da2a0b2c6"
      },
      "source": [
        "The first midi website to try is: https://www.cprato.com/en/midi/all"
      ],
      "id": "5eb0e6da-b340-4998-9df0-1a1da2a0b2c6"
    },
    {
      "cell_type": "code",
      "metadata": {
        "id": "f8be5f8a-bd0f-4d00-8377-f11bee4877ed"
      },
      "source": [
        "target_page = 'https://www.cprato.com/en/midi/all'"
      ],
      "id": "f8be5f8a-bd0f-4d00-8377-f11bee4877ed",
      "execution_count": 3,
      "outputs": []
    },
    {
      "cell_type": "markdown",
      "metadata": {
        "id": "714e48c0-b66e-43ca-a3ca-d1f343a1408c"
      },
      "source": [
        "On the website we have a table with a view of 50 song links. To get all the songs we have to go inside every link and go through the total of 8 views with 50 songs: "
      ],
      "id": "714e48c0-b66e-43ca-a3ca-d1f343a1408c"
    },
    {
      "cell_type": "markdown",
      "metadata": {
        "id": "56205f70-ef7e-4dcf-a354-d0652bac6d89"
      },
      "source": [
        "<img src=\"https://github.com/Juanvr/Dathoven/raw/main/notebooks_images/Carlos_MIDI_Table.png\">"
      ],
      "id": "56205f70-ef7e-4dcf-a354-d0652bac6d89"
    },
    {
      "cell_type": "markdown",
      "metadata": {
        "id": "e3f0fced-203e-4a97-9617-bc06f7c8c797"
      },
      "source": [
        "We get the links for the numbers:"
      ],
      "id": "e3f0fced-203e-4a97-9617-bc06f7c8c797"
    },
    {
      "cell_type": "code",
      "metadata": {
        "id": "a120b51b-9a01-48c2-99ca-2f3b2731ebf8",
        "outputId": "475b32c5-4040-4114-b128-20973f08fab0",
        "colab": {
          "base_uri": "https://localhost:8080/"
        }
      },
      "source": [
        "get_elements(target_page, tag='a', attrs={'class': 'page-link'})[:3]"
      ],
      "id": "a120b51b-9a01-48c2-99ca-2f3b2731ebf8",
      "execution_count": 4,
      "outputs": [
        {
          "output_type": "execute_result",
          "data": {
            "text/plain": [
              "[<a class=\"page-link\" href=\"https://www.cprato.com/en/midi/all?page=2\">2</a>,\n",
              " <a class=\"page-link\" href=\"https://www.cprato.com/en/midi/all?page=3\">3</a>,\n",
              " <a class=\"page-link\" href=\"https://www.cprato.com/en/midi/all?page=4\">4</a>]"
            ]
          },
          "metadata": {
            "tags": []
          },
          "execution_count": 4
        }
      ]
    },
    {
      "cell_type": "markdown",
      "metadata": {
        "id": "8136dd51-9134-4ef9-8109-791cfbefbb9e"
      },
      "source": [
        "We get the link to each song:"
      ],
      "id": "8136dd51-9134-4ef9-8109-791cfbefbb9e"
    },
    {
      "cell_type": "code",
      "metadata": {
        "id": "6ce92745-7653-4b3e-9347-adc38d0aaa67",
        "outputId": "20071edf-096b-4e8a-892b-f47aa4b4584b",
        "colab": {
          "base_uri": "https://localhost:8080/"
        }
      },
      "source": [
        "get_elements(target_page, tag='a', attrs={'href': re.compile(\"^/en/midi/details\")})[:3]"
      ],
      "id": "6ce92745-7653-4b3e-9347-adc38d0aaa67",
      "execution_count": 5,
      "outputs": [
        {
          "output_type": "execute_result",
          "data": {
            "text/plain": [
              "[<a href=\"/en/midi/details/267/3lau-feat-bright-lights-how-you-love-me\" style=\"font-weight:700;\">How You Love Me </a>,\n",
              " <a href=\"/en/midi/details/137/above-beyond-tri-state\" style=\"font-weight:700;\">Tri-State (Original Mix)</a>,\n",
              " <a href=\"/en/midi/details/247/above-beyond-were-all-we-need\" style=\"font-weight:700;\">We're All We Need (Original Mix)</a>]"
            ]
          },
          "metadata": {
            "tags": []
          },
          "execution_count": 5
        }
      ]
    },
    {
      "cell_type": "markdown",
      "metadata": {
        "id": "d6933817-3208-4382-b376-5e53659b24b9"
      },
      "source": [
        "Inside each song we find this web page: "
      ],
      "id": "d6933817-3208-4382-b376-5e53659b24b9"
    },
    {
      "cell_type": "markdown",
      "metadata": {
        "id": "3f01debc-e465-4656-9b34-fae08518fef3"
      },
      "source": [
        "<img src=\"https://github.com/Juanvr/Dathoven/raw/main/notebooks_images/Carlos_MIDI_Song_Detail.png\">"
      ],
      "id": "3f01debc-e465-4656-9b34-fae08518fef3"
    },
    {
      "cell_type": "markdown",
      "metadata": {
        "id": "6a836809-40f0-445c-91dd-1ade2ada79e0"
      },
      "source": [
        "In this webpage we have to get the element to make the download:"
      ],
      "id": "6a836809-40f0-445c-91dd-1ade2ada79e0"
    },
    {
      "cell_type": "code",
      "metadata": {
        "id": "c1379f13-1af2-44d4-873d-c1c10d5dc8cf"
      },
      "source": [
        "detail_page = 'https://www.cprato.com/en/midi/details/267/3lau-feat-bright-lights-how-you-love-me'"
      ],
      "id": "c1379f13-1af2-44d4-873d-c1c10d5dc8cf",
      "execution_count": 6,
      "outputs": []
    },
    {
      "cell_type": "code",
      "metadata": {
        "id": "dd378e02-9a09-42af-bbf7-d785123cf736",
        "outputId": "fe5932d8-798e-49df-d7f8-cba2b249d7da",
        "colab": {
          "base_uri": "https://localhost:8080/"
        }
      },
      "source": [
        "target_free_download = get_elements(detail_page, tag='a', attrs={'href': re.compile(\"^/en/midi/download\")})[0]\n",
        "target_free_download"
      ],
      "id": "dd378e02-9a09-42af-bbf7-d785123cf736",
      "execution_count": 7,
      "outputs": [
        {
          "output_type": "execute_result",
          "data": {
            "text/plain": [
              "<a class=\"btn btn-success px-3 py-3\" href=\"/en/midi/download/267/3lau-feat-bright-lights-how-you-love-me/My40OTUyNzEwOTgwOTc5RSsxNg==\" style=\"display:block;\"><i class=\"fas fa-download pr-1\"></i>\n",
              "        Free Download\n",
              "        </a>"
            ]
          },
          "metadata": {
            "tags": []
          },
          "execution_count": 7
        }
      ]
    },
    {
      "cell_type": "markdown",
      "metadata": {
        "id": "8149f5b5-66ec-488c-9077-7ee6217fbf8e"
      },
      "source": [
        "Once we have the target free download we get the href value:"
      ],
      "id": "8149f5b5-66ec-488c-9077-7ee6217fbf8e"
    },
    {
      "cell_type": "code",
      "metadata": {
        "id": "4acb362b-1378-4e6b-aa65-fccb3c8f3a39",
        "outputId": "d9f15244-fbf5-446d-dd00-bc34f5aea865",
        "colab": {
          "base_uri": "https://localhost:8080/",
          "height": 35
        }
      },
      "source": [
        "target_free_download['href']"
      ],
      "id": "4acb362b-1378-4e6b-aa65-fccb3c8f3a39",
      "execution_count": 8,
      "outputs": [
        {
          "output_type": "execute_result",
          "data": {
            "application/vnd.google.colaboratory.intrinsic+json": {
              "type": "string"
            },
            "text/plain": [
              "'/en/midi/download/267/3lau-feat-bright-lights-how-you-love-me/My40OTUyNzEwOTgwOTc5RSsxNg=='"
            ]
          },
          "metadata": {
            "tags": []
          },
          "execution_count": 8
        }
      ]
    },
    {
      "cell_type": "markdown",
      "metadata": {
        "id": "279383b4-8e55-4aac-bfe3-d14986feb6e8"
      },
      "source": [
        "We get the download:"
      ],
      "id": "279383b4-8e55-4aac-bfe3-d14986feb6e8"
    },
    {
      "cell_type": "code",
      "metadata": {
        "id": "ffd40e54-e8a8-4b0f-9890-74118703b9f1"
      },
      "source": [
        "first_url_part = 'https://www.cprato.com'"
      ],
      "id": "ffd40e54-e8a8-4b0f-9890-74118703b9f1",
      "execution_count": 9,
      "outputs": []
    },
    {
      "cell_type": "code",
      "metadata": {
        "id": "0a4c9d3d-d35d-4292-92c5-57ccc215f868",
        "outputId": "e7b3234c-6be0-4ab1-dc4b-559c362ee840",
        "colab": {
          "base_uri": "https://localhost:8080/",
          "height": 35
        }
      },
      "source": [
        "download_url = first_url_part + target_free_download['href']\n",
        "download_url"
      ],
      "id": "0a4c9d3d-d35d-4292-92c5-57ccc215f868",
      "execution_count": 10,
      "outputs": [
        {
          "output_type": "execute_result",
          "data": {
            "application/vnd.google.colaboratory.intrinsic+json": {
              "type": "string"
            },
            "text/plain": [
              "'https://www.cprato.com/en/midi/download/267/3lau-feat-bright-lights-how-you-love-me/My40OTUyNzEwOTgwOTc5RSsxNg=='"
            ]
          },
          "metadata": {
            "tags": []
          },
          "execution_count": 10
        }
      ]
    },
    {
      "cell_type": "markdown",
      "metadata": {
        "id": "74b895b1-f15e-47a4-a8fa-3144d0d0d278"
      },
      "source": [
        "## Selenium"
      ],
      "id": "74b895b1-f15e-47a4-a8fa-3144d0d0d278"
    },
    {
      "cell_type": "markdown",
      "metadata": {
        "id": "UtqxWA8JQQGx"
      },
      "source": [
        "We configure selenium driver so it will not crash in colab: "
      ],
      "id": "UtqxWA8JQQGx"
    },
    {
      "cell_type": "code",
      "metadata": {
        "id": "-d128XvOP__c",
        "outputId": "b57dfcd8-844f-484f-89a4-c048a8176d66",
        "colab": {
          "base_uri": "https://localhost:8080/"
        }
      },
      "source": [
        "!pip install selenium\n",
        "!apt-get update # to update ubuntu to correctly run apt install\n",
        "!apt install chromium-chromedriver\n",
        "!cp /usr/lib/chromium-browser/chromedriver /usr/bin\n",
        "import sys\n",
        "sys.path.insert(0,'/usr/lib/chromium-browser/chromedriver')\n",
        "\n",
        "from selenium import webdriver\n",
        "chrome_options = webdriver.ChromeOptions()\n",
        "chrome_options.add_argument('--headless')\n",
        "chrome_options.add_argument('--window-size=1920,1080')  \n",
        "chrome_options.add_argument('--no-sandbox')\n",
        "chrome_options.add_argument('--disable-dev-shm-usage')"
      ],
      "id": "-d128XvOP__c",
      "execution_count": 27,
      "outputs": [
        {
          "output_type": "stream",
          "text": [
            "Requirement already satisfied: selenium in /usr/local/lib/python3.7/dist-packages (3.141.0)\n",
            "Requirement already satisfied: urllib3 in /usr/local/lib/python3.7/dist-packages (from selenium) (1.24.3)\n",
            "Ign:1 https://developer.download.nvidia.com/compute/cuda/repos/ubuntu1804/x86_64  InRelease\n",
            "Ign:2 https://developer.download.nvidia.com/compute/machine-learning/repos/ubuntu1804/x86_64  InRelease\n",
            "Hit:3 https://developer.download.nvidia.com/compute/cuda/repos/ubuntu1804/x86_64  Release\n",
            "Hit:4 https://cloud.r-project.org/bin/linux/ubuntu bionic-cran40/ InRelease\n",
            "Hit:5 https://developer.download.nvidia.com/compute/machine-learning/repos/ubuntu1804/x86_64  Release\n",
            "Hit:6 http://security.ubuntu.com/ubuntu bionic-security InRelease\n",
            "Hit:8 http://ppa.launchpad.net/c2d4u.team/c2d4u4.0+/ubuntu bionic InRelease\n",
            "Hit:9 http://archive.ubuntu.com/ubuntu bionic InRelease\n",
            "Hit:10 http://archive.ubuntu.com/ubuntu bionic-updates InRelease\n",
            "Hit:11 http://ppa.launchpad.net/cran/libgit2/ubuntu bionic InRelease\n",
            "Hit:12 http://archive.ubuntu.com/ubuntu bionic-backports InRelease\n",
            "Hit:14 http://ppa.launchpad.net/deadsnakes/ppa/ubuntu bionic InRelease\n",
            "Hit:15 http://ppa.launchpad.net/graphics-drivers/ppa/ubuntu bionic InRelease\n",
            "Reading package lists... Done\n",
            "Reading package lists... Done\n",
            "Building dependency tree       \n",
            "Reading state information... Done\n",
            "chromium-chromedriver is already the newest version (91.0.4472.101-0ubuntu0.18.04.1).\n",
            "0 upgraded, 0 newly installed, 0 to remove and 58 not upgraded.\n",
            "cp: '/usr/lib/chromium-browser/chromedriver' and '/usr/bin/chromedriver' are the same file\n"
          ],
          "name": "stdout"
        }
      ]
    },
    {
      "cell_type": "code",
      "metadata": {
        "id": "f7a95266-a531-4d1f-b8dc-d12cf43796fb"
      },
      "source": [
        "from selenium.webdriver import ActionChains"
      ],
      "id": "f7a95266-a531-4d1f-b8dc-d12cf43796fb",
      "execution_count": 14,
      "outputs": []
    },
    {
      "cell_type": "code",
      "metadata": {
        "id": "50896b1f-6415-46d0-bf70-4eb008585cdc",
        "outputId": "842ed5c0-9db9-418f-ae36-5196e096e1e4",
        "colab": {
          "base_uri": "https://localhost:8080/"
        }
      },
      "source": [
        "wd = webdriver.Chrome('chromedriver', chrome_options=chrome_options)"
      ],
      "id": "50896b1f-6415-46d0-bf70-4eb008585cdc",
      "execution_count": 20,
      "outputs": [
        {
          "output_type": "stream",
          "text": [
            "/usr/local/lib/python3.7/dist-packages/ipykernel_launcher.py:1: DeprecationWarning: use options instead of chrome_options\n",
            "  \"\"\"Entry point for launching an IPython kernel.\n"
          ],
          "name": "stderr"
        }
      ]
    },
    {
      "cell_type": "code",
      "metadata": {
        "id": "539d604e-05ae-45e9-9044-759c692792df"
      },
      "source": [
        "wd.get(download_url)"
      ],
      "id": "539d604e-05ae-45e9-9044-759c692792df",
      "execution_count": 21,
      "outputs": []
    },
    {
      "cell_type": "markdown",
      "metadata": {
        "id": "29e17f9f-a2ee-438e-b5e3-d3d8017dd8d9"
      },
      "source": [
        "# Automating the process"
      ],
      "id": "29e17f9f-a2ee-438e-b5e3-d3d8017dd8d9"
    },
    {
      "cell_type": "code",
      "metadata": {
        "id": "6c7eeb31-0683-457b-8996-9c3d8d19c4fb"
      },
      "source": [
        "target_page = 'https://www.cprato.com/en/midi/all'\n",
        "\n",
        "first_url_part = 'https://www.cprato.com'"
      ],
      "id": "6c7eeb31-0683-457b-8996-9c3d8d19c4fb",
      "execution_count": 22,
      "outputs": []
    },
    {
      "cell_type": "markdown",
      "metadata": {
        "id": "5654027c-6aab-4463-bd4d-94409fc85504"
      },
      "source": [
        "First we get a list of all the songs download pages:"
      ],
      "id": "5654027c-6aab-4463-bd4d-94409fc85504"
    },
    {
      "cell_type": "code",
      "metadata": {
        "id": "78e74235-5553-4185-9447-bd877bad3c7e"
      },
      "source": [
        "# We get all the views of the table\n",
        "table_view_links = get_elements(target_page, tag='a', attrs={'class': 'page-link'})\n",
        "\n",
        "# We get all the urls of the table views\n",
        "table_view_urls = [target_page] + [link['href'] for link in table_view_links]\n",
        "table_view_urls= table_view_urls[:8]\n",
        "\n",
        "# We iterate trough the table views\n",
        "songs_urls = []\n",
        "for table_view_url in table_view_urls:\n",
        "    songs_links = get_elements(table_view_url, tag='a', attrs={'href': re.compile(\"^/en/midi/details\")})\n",
        "    songs_urls = songs_urls + [first_url_part + link['href'] for link in songs_links]\n",
        "        "
      ],
      "id": "78e74235-5553-4185-9447-bd877bad3c7e",
      "execution_count": 23,
      "outputs": []
    },
    {
      "cell_type": "code",
      "metadata": {
        "id": "2ce7a153-e112-4532-aec8-268ae18a987d",
        "outputId": "693cc7c4-af55-4a28-c6bc-d0e329d6baf4",
        "colab": {
          "base_uri": "https://localhost:8080/"
        }
      },
      "source": [
        "len(songs_urls)"
      ],
      "id": "2ce7a153-e112-4532-aec8-268ae18a987d",
      "execution_count": 24,
      "outputs": [
        {
          "output_type": "execute_result",
          "data": {
            "text/plain": [
              "392"
            ]
          },
          "metadata": {
            "tags": []
          },
          "execution_count": 24
        }
      ]
    },
    {
      "cell_type": "markdown",
      "metadata": {
        "id": "c29ba0a8-fcaf-41c7-8707-5e44315b51aa"
      },
      "source": [
        "We use selenium to get all the downloads:"
      ],
      "id": "c29ba0a8-fcaf-41c7-8707-5e44315b51aa"
    },
    {
      "cell_type": "code",
      "metadata": {
        "id": "b27e7ab9-1a69-44ce-8bde-7e2456303bc1"
      },
      "source": [
        "def download_file(wd, free_download_button, download_folder_path, max_seconds_download):\n",
        "    number_files_download_folder = len(glob.glob(download_folder_path+r\"/*.mid\"))\n",
        "    counter = 0\n",
        "    #ActionChains(wd).click(free_download_button).perform()\n",
        "    free_download_button.click()\n",
        "    while True:\n",
        "        current_number_files_download_folder = len(glob.glob(download_folder_path+r\"/*.mid\"))\n",
        "        if current_number_files_download_folder > number_files_download_folder:\n",
        "            number_files_download_folder = current_number_files_download_folder\n",
        "            break\n",
        "        time.sleep(1)\n",
        "        counter+= 1\n",
        "        if counter >= max_seconds_download:\n",
        "            return False\n",
        "    return True"
      ],
      "id": "b27e7ab9-1a69-44ce-8bde-7e2456303bc1",
      "execution_count": 37,
      "outputs": []
    },
    {
      "cell_type": "code",
      "metadata": {
        "id": "20a35e9f-6a52-4550-a639-40fe14854161",
        "outputId": "39d46505-bb99-4b80-a920-ce858fee3c5a",
        "colab": {
          "base_uri": "https://localhost:8080/"
        }
      },
      "source": [
        "download_folder_path = r\".\"\n",
        "max_seconds_download = 30\n",
        "max_retries = 3\n",
        "\n",
        "# We initialize chrome web driver\n",
        "wd = webdriver.Chrome('chromedriver', chrome_options=chrome_options)\n",
        "wd.maximize_window()\n",
        "\n",
        "\n",
        "for song_url in songs_urls[4:6]:   \n",
        "    retries = 0\n",
        "    print(f\"Retry number: {retries}\")\n",
        "    print(\"Going to url \" + song_url)\n",
        "    wd.get(song_url)\n",
        "    while retries<max_retries:    \n",
        "        try:\n",
        "            free_download_button = wd.find_element_by_link_text('FREE DOWNLOAD')\n",
        "        except:\n",
        "            print(\"Error finding download button\")\n",
        "            success = False\n",
        "            break\n",
        "        success = download_file(wd, free_download_button, download_folder_path, max_seconds_download)\n",
        "\n",
        "        if success:\n",
        "            print(\"Successful download\")\n",
        "            break\n",
        "        else:\n",
        "            print(\"Closing webdriver\")\n",
        "            wd.close()\n",
        "            wd = webdriver.Chrome('chromedriver', chrome_options=chrome_options)\n",
        "            wd.get(song_url)\n",
        "        retries +=1\n",
        "    \n",
        "    if not success:\n",
        "        print(\"Could not download file: \" + download_url) \n",
        "\n",
        "wd.close()"
      ],
      "id": "20a35e9f-6a52-4550-a639-40fe14854161",
      "execution_count": 39,
      "outputs": [
        {
          "output_type": "stream",
          "text": [
            "/usr/local/lib/python3.7/dist-packages/ipykernel_launcher.py:6: DeprecationWarning: use options instead of chrome_options\n",
            "  \n"
          ],
          "name": "stderr"
        },
        {
          "output_type": "stream",
          "text": [
            "Retry number: 0\n",
            "Going to url https://www.cprato.com/en/midi/details/79/above-beyond-feat-alex-vargas-blue-sky-action\n",
            "Successful download\n",
            "Retry number: 0\n",
            "Going to url https://www.cprato.com/en/midi/details/124/adam-f-circles\n",
            "Successful download\n"
          ],
          "name": "stdout"
        }
      ]
    },
    {
      "cell_type": "code",
      "metadata": {
        "id": "W_vlgmgBRxvQ"
      },
      "source": [
        ""
      ],
      "id": "W_vlgmgBRxvQ",
      "execution_count": null,
      "outputs": []
    }
  ]
}