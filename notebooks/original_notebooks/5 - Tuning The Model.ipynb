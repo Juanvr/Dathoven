{
 "cells": [
  {
   "cell_type": "markdown",
   "id": "0287d729-97b6-4555-ae5f-94174af4952c",
   "metadata": {},
   "source": [
    "# Tuning The Model"
   ]
  },
  {
   "cell_type": "code",
   "execution_count": 1,
   "id": "9e607c24-6cb2-4399-9bb8-f4ce92eabc07",
   "metadata": {},
   "outputs": [],
   "source": [
    "import glob, os\n",
    "import numpy as np\n",
    "from matplotlib import pyplot as plt\n",
    "from music21 import converter, corpus, instrument, midi, note, chord, pitch, stream, interval"
   ]
  },
  {
   "cell_type": "markdown",
   "id": "7c4a4577-12fd-42aa-91e8-d398840f9ead",
   "metadata": {},
   "source": [
    "We define necessary functions:"
   ]
  },
  {
   "cell_type": "code",
   "execution_count": 2,
   "id": "2d443334-585e-4009-9a58-576d896c98ae",
   "metadata": {},
   "outputs": [],
   "source": [
    "def get_stream_from_midi_without_drums(midi_path):\n",
    "    mf = midi.MidiFile()\n",
    "    mf.open(midi_path)\n",
    "    mf.read()\n",
    "    mf.close()\n",
    "    \n",
    "    for i in range(len(mf.tracks)):\n",
    "        mf.tracks[i].events = [ev for ev in mf.tracks[i].events if ev.channel != 10]          \n",
    "\n",
    "    return midi.translate.midiFileToStream(mf)\n",
    "\n",
    "def stream_to_array_of_pitches_strings (stream):\n",
    "    result = []\n",
    "    for element in stream.flat.notes:\n",
    "        stringRepresentationOfElement = ''\n",
    "        if isinstance(element, note.Note):\n",
    "            stringRepresentationOfElement = element.pitch.ps\n",
    "        else: # it's a chord\n",
    "            stringRepresentationOfElement = [note.pitch.ps for note in element.notes][0]\n",
    "            #stringRepresentationOfElement = ' '.join(listOfNotesWithOctaves)\n",
    "        result.append(stringRepresentationOfElement)\n",
    "    return result\n",
    "\n",
    "def from_midi_to_array_of_pitches (midi_path):\n",
    "    return stream_to_array_of_pitches_strings(get_stream_from_midi_without_drums(midi_path))\n",
    "\n",
    "def from_pitches_to_intervals (array_of_pitches):\n",
    "    intervals = []\n",
    "    for i in range(1,len(array_of_pitches) - 1):\n",
    "        intervals.append(array_of_pitches[i] - array_of_pitches[i-1])\n",
    "    return intervals\n",
    "\n",
    "def from_midi_to_array_of_intervals(midi_path):\n",
    "    return from_pitches_to_intervals(from_midi_to_array_of_pitches(midi_path))\n",
    "\n",
    "def get_folder_songs_intervals(folder_path):\n",
    "    songs = []\n",
    "    for file in glob.glob(folder_path):\n",
    "        songs.append(from_midi_to_array_of_intervals(file))\n",
    "    return songs\n",
    "\n",
    "def from_array_of_intervals_to_pitches (root_pitch, intervals):\n",
    "    pitches = [root_pitch]\n",
    "    for interval in intervals:\n",
    "        pitches.append(pitches[-1] + interval)\n",
    "    return pitches\n",
    "\n",
    "def from_pitches_to_midi (pitches, midi_path):\n",
    "    streamResult = stream.Stream()\n",
    "    for pitch in pitches:\n",
    "            streamResult.append(note.Note(pitch))\n",
    "            \n",
    "    streamResult.write('midi', fp= midi_path)\n",
    "    \n",
    "def from_intervals_to_midi( root_pitch, intervals, midi_path):\n",
    "    pitches = from_array_of_intervals_to_pitches(root_pitch, intervals)\n",
    "    from_pitches_to_midi(pitches, midi_path)\n"
   ]
  },
  {
   "cell_type": "code",
   "execution_count": 3,
   "id": "c6ad1830-34ad-4014-ac69-50a8577cbbfd",
   "metadata": {},
   "outputs": [],
   "source": [
    "#Test\n",
    "from_intervals_to_midi(60, from_midi_to_array_of_intervals('data/examples/silent_night_easy.mid'),'test_intervals_silent_night.mid') "
   ]
  },
  {
   "cell_type": "markdown",
   "id": "ca6c9ddd-3dd5-4d3b-bd0b-2802f20c4a8d",
   "metadata": {},
   "source": [
    "We prepare the data:"
   ]
  },
  {
   "cell_type": "code",
   "execution_count": 4,
   "id": "8f5a2b0e-be69-4235-8e58-692b8478711e",
   "metadata": {},
   "outputs": [],
   "source": [
    "songs = get_folder_songs_intervals(\"data/examples/*.mid\")\n",
    "\n",
    "interval_to_number = {}\n",
    "number_to_interval = {}\n",
    "\n",
    "for song in songs:\n",
    "    for element in song:\n",
    "        if not element in interval_to_number:\n",
    "            number_to_interval[len(interval_to_number)+1] = element\n",
    "            interval_to_number[element] = len(interval_to_number)+1"
   ]
  },
  {
   "cell_type": "code",
   "execution_count": 5,
   "id": "40e67bf7-62ae-44ab-a56d-b0e2367f2ca8",
   "metadata": {},
   "outputs": [
    {
     "data": {
      "text/plain": [
       "[1, 2, 3, 1, 2, 3, 1, 2, 3, 2]"
      ]
     },
     "execution_count": 5,
     "metadata": {},
     "output_type": "execute_result"
    }
   ],
   "source": [
    "[interval_to_number[element] for element in songs[0]][:10]"
   ]
  },
  {
   "cell_type": "code",
   "execution_count": 6,
   "id": "bffb0054-8cfe-4e7c-afde-3768f7390b05",
   "metadata": {},
   "outputs": [],
   "source": [
    "train_set = [[interval_to_number[element] for element in song] for song in songs]"
   ]
  },
  {
   "cell_type": "code",
   "execution_count": 7,
   "id": "b17118f7-4b76-4d6c-b9f2-815ae33747c2",
   "metadata": {},
   "outputs": [],
   "source": [
    "def slice_sequence_examples(sequence, num_steps):\n",
    "    \"\"\"Slice a sequence into redundant sequences of lenght num_steps.\"\"\"\n",
    "    xs = []\n",
    "    for i in range(len(sequence) - num_steps - 1):\n",
    "        example = sequence[i: i + num_steps]\n",
    "        xs.append(example)\n",
    "    return xs\n",
    "\n",
    "def seq_to_singleton_format(examples):\n",
    "    \"\"\"\n",
    "    Return the examples in seq to singleton format.\n",
    "    \"\"\"\n",
    "    xs = []\n",
    "    ys = []\n",
    "    for ex in examples:\n",
    "        xs.append(ex[:-1])\n",
    "        ys.append(ex[-1])\n",
    "    return (xs,ys)"
   ]
  },
  {
   "cell_type": "code",
   "execution_count": 13,
   "id": "89b8dbce-96c9-480f-be28-049be62e5f39",
   "metadata": {},
   "outputs": [],
   "source": [
    "SEQ_LEN = 30\n",
    "BATCH_SIZE = 64\n",
    "HIDDEN_UNITS = 256\n",
    "EPOCHS = 50\n",
    "VOCABULARY_SIZE = len(interval_to_number) + 1"
   ]
  },
  {
   "cell_type": "code",
   "execution_count": 70,
   "id": "5fa8732f-3e6a-4660-adb7-4d9ce2592737",
   "metadata": {},
   "outputs": [
    {
     "data": {
      "text/plain": [
       "131"
      ]
     },
     "execution_count": 70,
     "metadata": {},
     "output_type": "execute_result"
    }
   ],
   "source": [
    "VOCABULARY_SIZE"
   ]
  },
  {
   "cell_type": "code",
   "execution_count": 59,
   "id": "bff4e9e3-cc76-4996-9b45-3261c4acd4e5",
   "metadata": {},
   "outputs": [],
   "source": [
    "# Slice the sequences:\n",
    "slices = []\n",
    "for seq in train_set:\n",
    "    slices +=  slice_sequence_examples(seq, SEQ_LEN+1)\n",
    "\n",
    "# Split the sequences into Xs and ys:\n",
    "X, y = seq_to_singleton_format(slices)\n",
    "# Convert into numpy arrays.\n",
    "X = np.array(X)\n",
    "y = np.array(y)"
   ]
  },
  {
   "cell_type": "code",
   "execution_count": 63,
   "id": "0f39084d-7d40-4c05-bd10-c93da27a17df",
   "metadata": {},
   "outputs": [
    {
     "data": {
      "text/plain": [
       "(114790, 30)"
      ]
     },
     "execution_count": 63,
     "metadata": {},
     "output_type": "execute_result"
    }
   ],
   "source": [
    "X.shape"
   ]
  },
  {
   "cell_type": "markdown",
   "id": "3a433f05-e021-4641-9531-d2f9c184ae79",
   "metadata": {},
   "source": [
    "We build the model:"
   ]
  },
  {
   "cell_type": "code",
   "execution_count": 8,
   "id": "237f314b-9188-4326-a4e6-3ce0b8a8203e",
   "metadata": {},
   "outputs": [
    {
     "name": "stderr",
     "output_type": "stream",
     "text": [
      "Using TensorFlow backend.\n",
      "C:\\Users\\jvela\\miniconda3\\envs\\dathoven\\lib\\site-packages\\tensorflow\\python\\framework\\dtypes.py:516: FutureWarning: Passing (type, 1) or '1type' as a synonym of type is deprecated; in a future version of numpy, it will be understood as (type, (1,)) / '(1,)type'.\n",
      "  _np_qint8 = np.dtype([(\"qint8\", np.int8, 1)])\n",
      "C:\\Users\\jvela\\miniconda3\\envs\\dathoven\\lib\\site-packages\\tensorflow\\python\\framework\\dtypes.py:517: FutureWarning: Passing (type, 1) or '1type' as a synonym of type is deprecated; in a future version of numpy, it will be understood as (type, (1,)) / '(1,)type'.\n",
      "  _np_quint8 = np.dtype([(\"quint8\", np.uint8, 1)])\n",
      "C:\\Users\\jvela\\miniconda3\\envs\\dathoven\\lib\\site-packages\\tensorflow\\python\\framework\\dtypes.py:518: FutureWarning: Passing (type, 1) or '1type' as a synonym of type is deprecated; in a future version of numpy, it will be understood as (type, (1,)) / '(1,)type'.\n",
      "  _np_qint16 = np.dtype([(\"qint16\", np.int16, 1)])\n",
      "C:\\Users\\jvela\\miniconda3\\envs\\dathoven\\lib\\site-packages\\tensorflow\\python\\framework\\dtypes.py:519: FutureWarning: Passing (type, 1) or '1type' as a synonym of type is deprecated; in a future version of numpy, it will be understood as (type, (1,)) / '(1,)type'.\n",
      "  _np_quint16 = np.dtype([(\"quint16\", np.uint16, 1)])\n",
      "C:\\Users\\jvela\\miniconda3\\envs\\dathoven\\lib\\site-packages\\tensorflow\\python\\framework\\dtypes.py:520: FutureWarning: Passing (type, 1) or '1type' as a synonym of type is deprecated; in a future version of numpy, it will be understood as (type, (1,)) / '(1,)type'.\n",
      "  _np_qint32 = np.dtype([(\"qint32\", np.int32, 1)])\n",
      "C:\\Users\\jvela\\miniconda3\\envs\\dathoven\\lib\\site-packages\\tensorflow\\python\\framework\\dtypes.py:525: FutureWarning: Passing (type, 1) or '1type' as a synonym of type is deprecated; in a future version of numpy, it will be understood as (type, (1,)) / '(1,)type'.\n",
      "  np_resource = np.dtype([(\"resource\", np.ubyte, 1)])\n",
      "C:\\Users\\jvela\\miniconda3\\envs\\dathoven\\lib\\site-packages\\tensorboard\\compat\\tensorflow_stub\\dtypes.py:541: FutureWarning: Passing (type, 1) or '1type' as a synonym of type is deprecated; in a future version of numpy, it will be understood as (type, (1,)) / '(1,)type'.\n",
      "  _np_qint8 = np.dtype([(\"qint8\", np.int8, 1)])\n",
      "C:\\Users\\jvela\\miniconda3\\envs\\dathoven\\lib\\site-packages\\tensorboard\\compat\\tensorflow_stub\\dtypes.py:542: FutureWarning: Passing (type, 1) or '1type' as a synonym of type is deprecated; in a future version of numpy, it will be understood as (type, (1,)) / '(1,)type'.\n",
      "  _np_quint8 = np.dtype([(\"quint8\", np.uint8, 1)])\n",
      "C:\\Users\\jvela\\miniconda3\\envs\\dathoven\\lib\\site-packages\\tensorboard\\compat\\tensorflow_stub\\dtypes.py:543: FutureWarning: Passing (type, 1) or '1type' as a synonym of type is deprecated; in a future version of numpy, it will be understood as (type, (1,)) / '(1,)type'.\n",
      "  _np_qint16 = np.dtype([(\"qint16\", np.int16, 1)])\n",
      "C:\\Users\\jvela\\miniconda3\\envs\\dathoven\\lib\\site-packages\\tensorboard\\compat\\tensorflow_stub\\dtypes.py:544: FutureWarning: Passing (type, 1) or '1type' as a synonym of type is deprecated; in a future version of numpy, it will be understood as (type, (1,)) / '(1,)type'.\n",
      "  _np_quint16 = np.dtype([(\"quint16\", np.uint16, 1)])\n",
      "C:\\Users\\jvela\\miniconda3\\envs\\dathoven\\lib\\site-packages\\tensorboard\\compat\\tensorflow_stub\\dtypes.py:545: FutureWarning: Passing (type, 1) or '1type' as a synonym of type is deprecated; in a future version of numpy, it will be understood as (type, (1,)) / '(1,)type'.\n",
      "  _np_qint32 = np.dtype([(\"qint32\", np.int32, 1)])\n",
      "C:\\Users\\jvela\\miniconda3\\envs\\dathoven\\lib\\site-packages\\tensorboard\\compat\\tensorflow_stub\\dtypes.py:550: FutureWarning: Passing (type, 1) or '1type' as a synonym of type is deprecated; in a future version of numpy, it will be understood as (type, (1,)) / '(1,)type'.\n",
      "  np_resource = np.dtype([(\"resource\", np.ubyte, 1)])\n"
     ]
    }
   ],
   "source": [
    "import keras\n",
    "from keras.models import Sequential\n",
    "from keras.layers import Dense, Activation\n",
    "from keras.layers import LSTM, Dropout\n",
    "from keras.layers.embeddings import Embedding\n",
    "from keras.optimizers import RMSprop\n",
    "from keras.utils.data_utils import get_file\n",
    "from keras.models import load_model\n",
    "from keras.preprocessing.sequence import pad_sequences\n",
    "from keras.callbacks import ModelCheckpoint"
   ]
  },
  {
   "cell_type": "code",
   "execution_count": 61,
   "id": "a2993f30-cce0-4a6a-92c7-01198841ed78",
   "metadata": {},
   "outputs": [
    {
     "name": "stdout",
     "output_type": "stream",
     "text": [
      "Build model...\n",
      "Model: \"sequential_5\"\n",
      "_________________________________________________________________\n",
      "Layer (type)                 Output Shape              Param #   \n",
      "=================================================================\n",
      "embedding_5 (Embedding)      (None, 30, 256)           33536     \n",
      "_________________________________________________________________\n",
      "lstm_9 (LSTM)                (None, 30, 256)           525312    \n",
      "_________________________________________________________________\n",
      "lstm_10 (LSTM)               (None, 256)               525312    \n",
      "_________________________________________________________________\n",
      "dense_5 (Dense)              (None, 131)               33667     \n",
      "=================================================================\n",
      "Total params: 1,117,827\n",
      "Trainable params: 1,117,827\n",
      "Non-trainable params: 0\n",
      "_________________________________________________________________\n"
     ]
    }
   ],
   "source": [
    "print('Build model...')\n",
    "model_interval = Sequential()\n",
    "model_interval.add(Embedding(VOCABULARY_SIZE, HIDDEN_UNITS, input_length=SEQ_LEN, mask_zero=True))\n",
    "\n",
    "# LSTM part\n",
    "model_interval.add(LSTM(HIDDEN_UNITS, return_sequences=True))\n",
    "model_interval.add(LSTM(HIDDEN_UNITS))\n",
    "\n",
    "# Project back to vocabulary\n",
    "model_interval.add(Dense(VOCABULARY_SIZE, activation='softmax'))\n",
    "model_interval.compile(loss='sparse_categorical_crossentropy', optimizer='adam', metrics=['sparse_categorical_accuracy'])\n",
    "model_interval.summary()"
   ]
  },
  {
   "cell_type": "code",
   "execution_count": 62,
   "id": "ed7b1339-a823-4f73-be64-7e8d4458d5c9",
   "metadata": {},
   "outputs": [],
   "source": [
    "# checkpoint\n",
    "filepath=\"models_checkpoints/weights-improvement-{epoch:02d}-{val_sparse_categorical_accuracy:.2f}.hdf5\"\n",
    "checkpoint = ModelCheckpoint(filepath, monitor='val_sparse_categorical_accuracy', verbose=1, save_best_only=False, mode='max')\n",
    "callbacks_list = [checkpoint]"
   ]
  },
  {
   "cell_type": "code",
   "execution_count": 67,
   "id": "3aa3c2ff-2033-4a85-b375-ef2f5bf8c552",
   "metadata": {},
   "outputs": [
    {
     "name": "stdout",
     "output_type": "stream",
     "text": [
      "Train on 103311 samples, validate on 11479 samples\n",
      "Epoch 1/50\n",
      "103311/103311 [==============================] - 1083s 10ms/step - loss: 1.1558 - sparse_categorical_accuracy: 0.6927 - val_loss: 3.2842 - val_sparse_categorical_accuracy: 0.2520\n",
      "\n",
      "Epoch 00001: saving model to models_checkpoints/weights-improvement-01-0.25.hdf5\n",
      "Epoch 2/50\n",
      "103311/103311 [==============================] - 1080s 10ms/step - loss: 0.9463 - sparse_categorical_accuracy: 0.7493 - val_loss: 3.5013 - val_sparse_categorical_accuracy: 0.2356\n",
      "\n",
      "Epoch 00002: saving model to models_checkpoints/weights-improvement-02-0.24.hdf5\n",
      "Epoch 3/50\n",
      " 21056/103311 [=====>........................] - ETA: 13:33 - loss: 0.6997 - sparse_categorical_accuracy: 0.8227"
     ]
    },
    {
     "ename": "KeyboardInterrupt",
     "evalue": "",
     "output_type": "error",
     "traceback": [
      "\u001b[1;31m---------------------------------------------------------------------------\u001b[0m",
      "\u001b[1;31mKeyboardInterrupt\u001b[0m                         Traceback (most recent call last)",
      "\u001b[1;32m<ipython-input-67-666d9faae12a>\u001b[0m in \u001b[0;36m<module>\u001b[1;34m\u001b[0m\n\u001b[0;32m      1\u001b[0m \u001b[1;31m# Fit the model\u001b[0m\u001b[1;33m\u001b[0m\u001b[1;33m\u001b[0m\u001b[1;33m\u001b[0m\u001b[0m\n\u001b[1;32m----> 2\u001b[1;33m \u001b[0mhistory\u001b[0m \u001b[1;33m=\u001b[0m \u001b[0mmodel_interval\u001b[0m\u001b[1;33m.\u001b[0m\u001b[0mfit\u001b[0m\u001b[1;33m(\u001b[0m\u001b[0mX\u001b[0m\u001b[1;33m,\u001b[0m \u001b[0my\u001b[0m\u001b[1;33m,\u001b[0m \u001b[0mvalidation_split\u001b[0m \u001b[1;33m=\u001b[0m \u001b[1;36m0.1\u001b[0m\u001b[1;33m,\u001b[0m  \u001b[0mbatch_size\u001b[0m\u001b[1;33m=\u001b[0m\u001b[0mBATCH_SIZE\u001b[0m\u001b[1;33m,\u001b[0m \u001b[0mepochs\u001b[0m\u001b[1;33m=\u001b[0m\u001b[0mEPOCHS\u001b[0m\u001b[1;33m,\u001b[0m \u001b[0mcallbacks\u001b[0m\u001b[1;33m=\u001b[0m\u001b[0mcallbacks_list\u001b[0m\u001b[1;33m)\u001b[0m\u001b[1;33m\u001b[0m\u001b[1;33m\u001b[0m\u001b[0m\n\u001b[0m",
      "\u001b[1;32m~\\miniconda3\\envs\\dathoven\\lib\\site-packages\\keras\\engine\\training.py\u001b[0m in \u001b[0;36mfit\u001b[1;34m(self, x, y, batch_size, epochs, verbose, callbacks, validation_split, validation_data, shuffle, class_weight, sample_weight, initial_epoch, steps_per_epoch, validation_steps, validation_freq, max_queue_size, workers, use_multiprocessing, **kwargs)\u001b[0m\n\u001b[0;32m   1237\u001b[0m                                         \u001b[0msteps_per_epoch\u001b[0m\u001b[1;33m=\u001b[0m\u001b[0msteps_per_epoch\u001b[0m\u001b[1;33m,\u001b[0m\u001b[1;33m\u001b[0m\u001b[1;33m\u001b[0m\u001b[0m\n\u001b[0;32m   1238\u001b[0m                                         \u001b[0mvalidation_steps\u001b[0m\u001b[1;33m=\u001b[0m\u001b[0mvalidation_steps\u001b[0m\u001b[1;33m,\u001b[0m\u001b[1;33m\u001b[0m\u001b[1;33m\u001b[0m\u001b[0m\n\u001b[1;32m-> 1239\u001b[1;33m                                         validation_freq=validation_freq)\n\u001b[0m\u001b[0;32m   1240\u001b[0m \u001b[1;33m\u001b[0m\u001b[0m\n\u001b[0;32m   1241\u001b[0m     def evaluate(self,\n",
      "\u001b[1;32m~\\miniconda3\\envs\\dathoven\\lib\\site-packages\\keras\\engine\\training_arrays.py\u001b[0m in \u001b[0;36mfit_loop\u001b[1;34m(model, fit_function, fit_inputs, out_labels, batch_size, epochs, verbose, callbacks, val_function, val_inputs, shuffle, initial_epoch, steps_per_epoch, validation_steps, validation_freq)\u001b[0m\n\u001b[0;32m    194\u001b[0m                     \u001b[0mins_batch\u001b[0m\u001b[1;33m[\u001b[0m\u001b[0mi\u001b[0m\u001b[1;33m]\u001b[0m \u001b[1;33m=\u001b[0m \u001b[0mins_batch\u001b[0m\u001b[1;33m[\u001b[0m\u001b[0mi\u001b[0m\u001b[1;33m]\u001b[0m\u001b[1;33m.\u001b[0m\u001b[0mtoarray\u001b[0m\u001b[1;33m(\u001b[0m\u001b[1;33m)\u001b[0m\u001b[1;33m\u001b[0m\u001b[1;33m\u001b[0m\u001b[0m\n\u001b[0;32m    195\u001b[0m \u001b[1;33m\u001b[0m\u001b[0m\n\u001b[1;32m--> 196\u001b[1;33m                 \u001b[0mouts\u001b[0m \u001b[1;33m=\u001b[0m \u001b[0mfit_function\u001b[0m\u001b[1;33m(\u001b[0m\u001b[0mins_batch\u001b[0m\u001b[1;33m)\u001b[0m\u001b[1;33m\u001b[0m\u001b[1;33m\u001b[0m\u001b[0m\n\u001b[0m\u001b[0;32m    197\u001b[0m                 \u001b[0mouts\u001b[0m \u001b[1;33m=\u001b[0m \u001b[0mto_list\u001b[0m\u001b[1;33m(\u001b[0m\u001b[0mouts\u001b[0m\u001b[1;33m)\u001b[0m\u001b[1;33m\u001b[0m\u001b[1;33m\u001b[0m\u001b[0m\n\u001b[0;32m    198\u001b[0m                 \u001b[1;32mfor\u001b[0m \u001b[0ml\u001b[0m\u001b[1;33m,\u001b[0m \u001b[0mo\u001b[0m \u001b[1;32min\u001b[0m \u001b[0mzip\u001b[0m\u001b[1;33m(\u001b[0m\u001b[0mout_labels\u001b[0m\u001b[1;33m,\u001b[0m \u001b[0mouts\u001b[0m\u001b[1;33m)\u001b[0m\u001b[1;33m:\u001b[0m\u001b[1;33m\u001b[0m\u001b[1;33m\u001b[0m\u001b[0m\n",
      "\u001b[1;32m~\\miniconda3\\envs\\dathoven\\lib\\site-packages\\tensorflow\\python\\keras\\backend.py\u001b[0m in \u001b[0;36m__call__\u001b[1;34m(self, inputs)\u001b[0m\n\u001b[0;32m   3290\u001b[0m \u001b[1;33m\u001b[0m\u001b[0m\n\u001b[0;32m   3291\u001b[0m     fetched = self._callable_fn(*array_vals,\n\u001b[1;32m-> 3292\u001b[1;33m                                 run_metadata=self.run_metadata)\n\u001b[0m\u001b[0;32m   3293\u001b[0m     \u001b[0mself\u001b[0m\u001b[1;33m.\u001b[0m\u001b[0m_call_fetch_callbacks\u001b[0m\u001b[1;33m(\u001b[0m\u001b[0mfetched\u001b[0m\u001b[1;33m[\u001b[0m\u001b[1;33m-\u001b[0m\u001b[0mlen\u001b[0m\u001b[1;33m(\u001b[0m\u001b[0mself\u001b[0m\u001b[1;33m.\u001b[0m\u001b[0m_fetches\u001b[0m\u001b[1;33m)\u001b[0m\u001b[1;33m:\u001b[0m\u001b[1;33m]\u001b[0m\u001b[1;33m)\u001b[0m\u001b[1;33m\u001b[0m\u001b[1;33m\u001b[0m\u001b[0m\n\u001b[0;32m   3294\u001b[0m     output_structure = nest.pack_sequence_as(\n",
      "\u001b[1;32m~\\miniconda3\\envs\\dathoven\\lib\\site-packages\\tensorflow\\python\\client\\session.py\u001b[0m in \u001b[0;36m__call__\u001b[1;34m(self, *args, **kwargs)\u001b[0m\n\u001b[0;32m   1456\u001b[0m         ret = tf_session.TF_SessionRunCallable(self._session._session,\n\u001b[0;32m   1457\u001b[0m                                                \u001b[0mself\u001b[0m\u001b[1;33m.\u001b[0m\u001b[0m_handle\u001b[0m\u001b[1;33m,\u001b[0m \u001b[0margs\u001b[0m\u001b[1;33m,\u001b[0m\u001b[1;33m\u001b[0m\u001b[1;33m\u001b[0m\u001b[0m\n\u001b[1;32m-> 1458\u001b[1;33m                                                run_metadata_ptr)\n\u001b[0m\u001b[0;32m   1459\u001b[0m         \u001b[1;32mif\u001b[0m \u001b[0mrun_metadata\u001b[0m\u001b[1;33m:\u001b[0m\u001b[1;33m\u001b[0m\u001b[1;33m\u001b[0m\u001b[0m\n\u001b[0;32m   1460\u001b[0m           \u001b[0mproto_data\u001b[0m \u001b[1;33m=\u001b[0m \u001b[0mtf_session\u001b[0m\u001b[1;33m.\u001b[0m\u001b[0mTF_GetBuffer\u001b[0m\u001b[1;33m(\u001b[0m\u001b[0mrun_metadata_ptr\u001b[0m\u001b[1;33m)\u001b[0m\u001b[1;33m\u001b[0m\u001b[1;33m\u001b[0m\u001b[0m\n",
      "\u001b[1;31mKeyboardInterrupt\u001b[0m: "
     ]
    }
   ],
   "source": [
    "# Fit the model\n",
    "history = model_interval.fit(X, y, validation_split = 0.1,  batch_size=BATCH_SIZE, epochs=EPOCHS, callbacks=callbacks_list)\n"
   ]
  },
  {
   "cell_type": "code",
   "execution_count": 66,
   "id": "00dc3060-45a5-4680-b819-e7c9a6f5b197",
   "metadata": {},
   "outputs": [
    {
     "data": {
      "image/png": "[encoded data removed]",
      "text/plain": [
       "<Figure size 432x288 with 1 Axes>"
      ]
     },
     "metadata": {
      "image/png": {
       "height": 277,
       "width": 392
      },
      "needs_background": "light"
     },
     "output_type": "display_data"
    }
   ],
   "source": [
    "plt.plot(history.history['loss'])\n",
    "plt.plot(history.history['val_loss'])\n",
    "plt.title('model loss')\n",
    "plt.ylabel('loss')\n",
    "plt.xlabel('epoch')\n",
    "plt.legend(['train', 'val'], loc='upper left')\n",
    "plt.show()"
   ]
  },
  {
   "cell_type": "code",
   "execution_count": null,
   "id": "60f62b49-9178-476d-bf06-86c535a4e425",
   "metadata": {},
   "outputs": [],
   "source": [
    "#model_train.save(\"model-weights.h5\")"
   ]
  },
  {
   "cell_type": "markdown",
   "id": "82c2abd8-5a10-419f-a317-16dbec758213",
   "metadata": {},
   "source": [
    "We sample:"
   ]
  },
  {
   "cell_type": "code",
   "execution_count": 9,
   "id": "d11f0d02-76e9-464e-b784-aa70fec915e5",
   "metadata": {},
   "outputs": [],
   "source": [
    "from random import randint\n",
    "def sample(preds):\n",
    "    sorted_indexes = np.argsort(preds)[::-1]\n",
    "    return sorted_indexes[randint(0,3)]"
   ]
  },
  {
   "cell_type": "code",
   "execution_count": 10,
   "id": "8401091c-948a-4736-80c6-3e4cf2e6b71f",
   "metadata": {},
   "outputs": [],
   "source": [
    "def sample_seq( seq, seq_length, model, number_to_note, output_seq_length ):\n",
    "    if output_seq_length <= len(seq): raise Exception(\"output_seq_length must be higher than seq_length\")\n",
    "        \n",
    "    output_seq = seq\n",
    "    for i in range(output_seq_length - len(seq)):\n",
    "        input_sequence = [seq[-seq_length:]]\n",
    "        x = pad_sequences(input_sequence, maxlen = seq_length, padding=\"pre\")\n",
    "        prediction = model.predict(x)\n",
    "        index = sample(prediction[0])\n",
    "        output_seq.append(index)\n",
    "    #[number_to_note(number) for number in output_seq]\n",
    "    return output_seq"
   ]
  },
  {
   "cell_type": "code",
   "execution_count": 52,
   "id": "4d0463a7-f632-420c-a2f8-bb362fb1f551",
   "metadata": {},
   "outputs": [],
   "source": [
    "generated_vector = sample_seq([1], SEQ_LEN, model_interval, number_to_interval, 50)\n",
    "generated_intervals = [number_to_interval[number] for number in generated_vector]\n"
   ]
  },
  {
   "cell_type": "code",
   "execution_count": 53,
   "id": "67afe9cf-34b5-40fd-b331-0d3b662b011d",
   "metadata": {},
   "outputs": [],
   "source": [
    "from_intervals_to_midi(70, generated_intervals,'generated_record_intervals_tuning.mid') "
   ]
  },
  {
   "cell_type": "markdown",
   "id": "2834c1a7-f568-439e-85ce-41cd2d8d3b7a",
   "metadata": {},
   "source": [
    "Probando map (mean average precission): "
   ]
  },
  {
   "cell_type": "code",
   "execution_count": 11,
   "id": "d767ad81-51c2-40fd-a2a2-f8e6f8550dcc",
   "metadata": {},
   "outputs": [],
   "source": [
    "from keras.metrics import Precision\n",
    "from keras.metrics import SparseTopKCategoricalAccuracy"
   ]
  },
  {
   "cell_type": "code",
   "execution_count": 16,
   "id": "f54082d5-bae1-42c8-a470-80280f9ac2ca",
   "metadata": {},
   "outputs": [],
   "source": [
    "\n",
    "HIDDEN_UNITS = 50\n",
    "EPOCHS = 50\n",
    "VOCABULARY_SIZE = len(interval_to_number) + 1"
   ]
  },
  {
   "cell_type": "code",
   "execution_count": 17,
   "id": "6295b37c-1885-473b-9fd3-b7181bb67a3e",
   "metadata": {},
   "outputs": [
    {
     "name": "stdout",
     "output_type": "stream",
     "text": [
      "Build model...\n",
      "WARNING:tensorflow:From C:\\Users\\jvela\\miniconda3\\envs\\dathoven\\lib\\site-packages\\tensorflow\\python\\keras\\backend.py:3794: add_dispatch_support.<locals>.wrapper (from tensorflow.python.ops.array_ops) is deprecated and will be removed in a future version.\n",
      "Instructions for updating:\n",
      "Use tf.where in 2.0, which has the same broadcast rule as np.where\n",
      "Model: \"sequential_1\"\n",
      "_________________________________________________________________\n",
      "Layer (type)                 Output Shape              Param #   \n",
      "=================================================================\n",
      "embedding_1 (Embedding)      (None, 30, 50)            6550      \n",
      "_________________________________________________________________\n",
      "lstm_1 (LSTM)                (None, 30, 50)            20200     \n",
      "_________________________________________________________________\n",
      "lstm_2 (LSTM)                (None, 50)                20200     \n",
      "_________________________________________________________________\n",
      "dense_1 (Dense)              (None, 131)               6681      \n",
      "=================================================================\n",
      "Total params: 53,631\n",
      "Trainable params: 53,631\n",
      "Non-trainable params: 0\n",
      "_________________________________________________________________\n"
     ]
    }
   ],
   "source": [
    "print('Build model...')\n",
    "model_interval = Sequential()\n",
    "model_interval.add(Embedding(VOCABULARY_SIZE, HIDDEN_UNITS, input_length=SEQ_LEN, mask_zero=True))\n",
    "\n",
    "# LSTM part\n",
    "model_interval.add(LSTM(HIDDEN_UNITS, return_sequences=True))\n",
    "model_interval.add(LSTM(HIDDEN_UNITS))\n",
    "\n",
    "# Project back to vocabulary\n",
    "model_interval.add(Dense(VOCABULARY_SIZE, activation='softmax'))\n",
    "#model_interval.compile(loss='sparse_categorical_crossentropy', optimizer='adam', metrics=['sparse_categorical_accuracy'])#metrics=[Precision(top_k=10)])\n",
    "#model_interval.compile(loss='sparse_categorical_crossentropy', optimizer='adam', metrics=[Precision(top_k=10)])\n",
    "model_interval.compile(loss='sparse_categorical_crossentropy', optimizer='adam', metrics=[SparseTopKCategoricalAccuracy(k=10, name='sparse_top_k_categorical_accuracy')])\n",
    "\n",
    "\n",
    "model_interval.summary()"
   ]
  },
  {
   "cell_type": "code",
   "execution_count": 90,
   "id": "ed7d4a25-a85e-440b-9d5a-9ffbfc8b426e",
   "metadata": {},
   "outputs": [],
   "source": [
    "# checkpoint\n",
    "filepath=\"models_checkpoints/weights-improvement-{epoch:02d}-{val_loss:.2f}.hdf5\"\n",
    "checkpoint = ModelCheckpoint(filepath, monitor='val_loss', verbose=1, save_best_only=False, mode='min')\n",
    "callbacks_list = [checkpoint]"
   ]
  },
  {
   "cell_type": "code",
   "execution_count": 91,
   "id": "cdbe4139-177f-4381-bffc-e615468ab941",
   "metadata": {},
   "outputs": [
    {
     "name": "stdout",
     "output_type": "stream",
     "text": [
      "Train on 103311 samples, validate on 11479 samples\n",
      "Epoch 1/50\n",
      "103311/103311 [==============================] - 235s 2ms/step - loss: 3.8718 - sparse_top_k_categorical_accuracy: 0.4538 - val_loss: 3.7030 - val_sparse_top_k_categorical_accuracy: 0.4929\n",
      "\n",
      "Epoch 00001: saving model to models_checkpoints/weights-improvement-01-3.70.hdf5\n",
      "Epoch 2/50\n",
      "103311/103311 [==============================] - 239s 2ms/step - loss: 3.4408 - sparse_top_k_categorical_accuracy: 0.5896 - val_loss: 3.2763 - val_sparse_top_k_categorical_accuracy: 0.6271\n",
      "\n",
      "Epoch 00002: saving model to models_checkpoints/weights-improvement-02-3.28.hdf5\n",
      "Epoch 3/50\n",
      "103311/103311 [==============================] - 239s 2ms/step - loss: 3.1074 - sparse_top_k_categorical_accuracy: 0.6697 - val_loss: 3.1131 - val_sparse_top_k_categorical_accuracy: 0.6675\n",
      "\n",
      "Epoch 00003: saving model to models_checkpoints/weights-improvement-03-3.11.hdf5\n",
      "Epoch 4/50\n",
      "103311/103311 [==============================] - 232s 2ms/step - loss: 2.9499 - sparse_top_k_categorical_accuracy: 0.7045 - val_loss: 3.0145 - val_sparse_top_k_categorical_accuracy: 0.6927\n",
      "\n",
      "Epoch 00004: saving model to models_checkpoints/weights-improvement-04-3.01.hdf5\n",
      "Epoch 5/50\n",
      "103311/103311 [==============================] - 233s 2ms/step - loss: 2.8336 - sparse_top_k_categorical_accuracy: 0.7328 - val_loss: 2.9486 - val_sparse_top_k_categorical_accuracy: 0.7100\n",
      "\n",
      "Epoch 00005: saving model to models_checkpoints/weights-improvement-05-2.95.hdf5\n",
      "Epoch 6/50\n",
      "103311/103311 [==============================] - 232s 2ms/step - loss: 2.7311 - sparse_top_k_categorical_accuracy: 0.7573 - val_loss: 2.8907 - val_sparse_top_k_categorical_accuracy: 0.7259\n",
      "\n",
      "Epoch 00006: saving model to models_checkpoints/weights-improvement-06-2.89.hdf5\n",
      "Epoch 7/50\n",
      "103311/103311 [==============================] - 232s 2ms/step - loss: 2.6484 - sparse_top_k_categorical_accuracy: 0.7733 - val_loss: 2.8704 - val_sparse_top_k_categorical_accuracy: 0.7375\n",
      "\n",
      "Epoch 00007: saving model to models_checkpoints/weights-improvement-07-2.87.hdf5\n",
      "Epoch 8/50\n",
      "103311/103311 [==============================] - 233s 2ms/step - loss: 2.5804 - sparse_top_k_categorical_accuracy: 0.7871 - val_loss: 2.8503 - val_sparse_top_k_categorical_accuracy: 0.7439\n",
      "\n",
      "Epoch 00008: saving model to models_checkpoints/weights-improvement-08-2.85.hdf5\n",
      "Epoch 9/50\n",
      "103311/103311 [==============================] - 234s 2ms/step - loss: 2.5228 - sparse_top_k_categorical_accuracy: 0.7980 - val_loss: 2.8382 - val_sparse_top_k_categorical_accuracy: 0.7521\n",
      "\n",
      "Epoch 00009: saving model to models_checkpoints/weights-improvement-09-2.84.hdf5\n",
      "Epoch 10/50\n",
      "103311/103311 [==============================] - 230s 2ms/step - loss: 2.4733 - sparse_top_k_categorical_accuracy: 0.8069 - val_loss: 2.8388 - val_sparse_top_k_categorical_accuracy: 0.7495\n",
      "\n",
      "Epoch 00010: saving model to models_checkpoints/weights-improvement-10-2.84.hdf5\n",
      "Epoch 11/50\n",
      "103311/103311 [==============================] - 232s 2ms/step - loss: 2.4281 - sparse_top_k_categorical_accuracy: 0.8158 - val_loss: 2.8570 - val_sparse_top_k_categorical_accuracy: 0.7488\n",
      "\n",
      "Epoch 00011: saving model to models_checkpoints/weights-improvement-11-2.86.hdf5\n",
      "Epoch 12/50\n",
      "103311/103311 [==============================] - 231s 2ms/step - loss: 2.3873 - sparse_top_k_categorical_accuracy: 0.8229 - val_loss: 2.8560 - val_sparse_top_k_categorical_accuracy: 0.7540\n",
      "\n",
      "Epoch 00012: saving model to models_checkpoints/weights-improvement-12-2.86.hdf5\n",
      "Epoch 13/50\n",
      "103311/103311 [==============================] - 235s 2ms/step - loss: 2.3499 - sparse_top_k_categorical_accuracy: 0.8293 - val_loss: 2.8544 - val_sparse_top_k_categorical_accuracy: 0.7559\n",
      "\n",
      "Epoch 00013: saving model to models_checkpoints/weights-improvement-13-2.85.hdf5\n",
      "Epoch 14/50\n",
      "103311/103311 [==============================] - 231s 2ms/step - loss: 2.3160 - sparse_top_k_categorical_accuracy: 0.8337 - val_loss: 2.8825 - val_sparse_top_k_categorical_accuracy: 0.7502\n",
      "\n",
      "Epoch 00014: saving model to models_checkpoints/weights-improvement-14-2.88.hdf5\n",
      "Epoch 15/50\n",
      "103311/103311 [==============================] - 233s 2ms/step - loss: 2.2845 - sparse_top_k_categorical_accuracy: 0.8385 - val_loss: 2.8886 - val_sparse_top_k_categorical_accuracy: 0.7527\n",
      "\n",
      "Epoch 00015: saving model to models_checkpoints/weights-improvement-15-2.89.hdf5\n",
      "Epoch 16/50\n",
      "103311/103311 [==============================] - 233s 2ms/step - loss: 2.2550 - sparse_top_k_categorical_accuracy: 0.8427 - val_loss: 2.9038 - val_sparse_top_k_categorical_accuracy: 0.7519\n",
      "\n",
      "Epoch 00016: saving model to models_checkpoints/weights-improvement-16-2.90.hdf5\n",
      "Epoch 17/50\n",
      "103311/103311 [==============================] - 232s 2ms/step - loss: 2.2264 - sparse_top_k_categorical_accuracy: 0.8471 - val_loss: 2.9307 - val_sparse_top_k_categorical_accuracy: 0.7486\n",
      "\n",
      "Epoch 00017: saving model to models_checkpoints/weights-improvement-17-2.93.hdf5\n",
      "Epoch 18/50\n",
      "103311/103311 [==============================] - 236s 2ms/step - loss: 2.2007 - sparse_top_k_categorical_accuracy: 0.8513 - val_loss: 2.9326 - val_sparse_top_k_categorical_accuracy: 0.7426\n",
      "\n",
      "Epoch 00018: saving model to models_checkpoints/weights-improvement-18-2.93.hdf5\n",
      "Epoch 19/50\n",
      "103311/103311 [==============================] - 233s 2ms/step - loss: 2.1769 - sparse_top_k_categorical_accuracy: 0.8536 - val_loss: 2.9566 - val_sparse_top_k_categorical_accuracy: 0.7446\n",
      "\n",
      "Epoch 00019: saving model to models_checkpoints/weights-improvement-19-2.96.hdf5\n",
      "Epoch 20/50\n",
      " 18880/103311 [====>.........................] - ETA: 3:04 - loss: 2.1221 - sparse_top_k_categorical_accuracy: 0.8624"
     ]
    },
    {
     "ename": "KeyboardInterrupt",
     "evalue": "",
     "output_type": "error",
     "traceback": [
      "\u001b[1;31m---------------------------------------------------------------------------\u001b[0m",
      "\u001b[1;31mKeyboardInterrupt\u001b[0m                         Traceback (most recent call last)",
      "\u001b[1;32m<ipython-input-91-666d9faae12a>\u001b[0m in \u001b[0;36m<module>\u001b[1;34m\u001b[0m\n\u001b[0;32m      1\u001b[0m \u001b[1;31m# Fit the model\u001b[0m\u001b[1;33m\u001b[0m\u001b[1;33m\u001b[0m\u001b[1;33m\u001b[0m\u001b[0m\n\u001b[1;32m----> 2\u001b[1;33m \u001b[0mhistory\u001b[0m \u001b[1;33m=\u001b[0m \u001b[0mmodel_interval\u001b[0m\u001b[1;33m.\u001b[0m\u001b[0mfit\u001b[0m\u001b[1;33m(\u001b[0m\u001b[0mX\u001b[0m\u001b[1;33m,\u001b[0m \u001b[0my\u001b[0m\u001b[1;33m,\u001b[0m \u001b[0mvalidation_split\u001b[0m \u001b[1;33m=\u001b[0m \u001b[1;36m0.1\u001b[0m\u001b[1;33m,\u001b[0m  \u001b[0mbatch_size\u001b[0m\u001b[1;33m=\u001b[0m\u001b[0mBATCH_SIZE\u001b[0m\u001b[1;33m,\u001b[0m \u001b[0mepochs\u001b[0m\u001b[1;33m=\u001b[0m\u001b[0mEPOCHS\u001b[0m\u001b[1;33m,\u001b[0m \u001b[0mcallbacks\u001b[0m\u001b[1;33m=\u001b[0m\u001b[0mcallbacks_list\u001b[0m\u001b[1;33m)\u001b[0m\u001b[1;33m\u001b[0m\u001b[1;33m\u001b[0m\u001b[0m\n\u001b[0m",
      "\u001b[1;32m~\\miniconda3\\envs\\dathoven\\lib\\site-packages\\keras\\engine\\training.py\u001b[0m in \u001b[0;36mfit\u001b[1;34m(self, x, y, batch_size, epochs, verbose, callbacks, validation_split, validation_data, shuffle, class_weight, sample_weight, initial_epoch, steps_per_epoch, validation_steps, validation_freq, max_queue_size, workers, use_multiprocessing, **kwargs)\u001b[0m\n\u001b[0;32m   1237\u001b[0m                                         \u001b[0msteps_per_epoch\u001b[0m\u001b[1;33m=\u001b[0m\u001b[0msteps_per_epoch\u001b[0m\u001b[1;33m,\u001b[0m\u001b[1;33m\u001b[0m\u001b[1;33m\u001b[0m\u001b[0m\n\u001b[0;32m   1238\u001b[0m                                         \u001b[0mvalidation_steps\u001b[0m\u001b[1;33m=\u001b[0m\u001b[0mvalidation_steps\u001b[0m\u001b[1;33m,\u001b[0m\u001b[1;33m\u001b[0m\u001b[1;33m\u001b[0m\u001b[0m\n\u001b[1;32m-> 1239\u001b[1;33m                                         validation_freq=validation_freq)\n\u001b[0m\u001b[0;32m   1240\u001b[0m \u001b[1;33m\u001b[0m\u001b[0m\n\u001b[0;32m   1241\u001b[0m     def evaluate(self,\n",
      "\u001b[1;32m~\\miniconda3\\envs\\dathoven\\lib\\site-packages\\keras\\engine\\training_arrays.py\u001b[0m in \u001b[0;36mfit_loop\u001b[1;34m(model, fit_function, fit_inputs, out_labels, batch_size, epochs, verbose, callbacks, val_function, val_inputs, shuffle, initial_epoch, steps_per_epoch, validation_steps, validation_freq)\u001b[0m\n\u001b[0;32m    194\u001b[0m                     \u001b[0mins_batch\u001b[0m\u001b[1;33m[\u001b[0m\u001b[0mi\u001b[0m\u001b[1;33m]\u001b[0m \u001b[1;33m=\u001b[0m \u001b[0mins_batch\u001b[0m\u001b[1;33m[\u001b[0m\u001b[0mi\u001b[0m\u001b[1;33m]\u001b[0m\u001b[1;33m.\u001b[0m\u001b[0mtoarray\u001b[0m\u001b[1;33m(\u001b[0m\u001b[1;33m)\u001b[0m\u001b[1;33m\u001b[0m\u001b[1;33m\u001b[0m\u001b[0m\n\u001b[0;32m    195\u001b[0m \u001b[1;33m\u001b[0m\u001b[0m\n\u001b[1;32m--> 196\u001b[1;33m                 \u001b[0mouts\u001b[0m \u001b[1;33m=\u001b[0m \u001b[0mfit_function\u001b[0m\u001b[1;33m(\u001b[0m\u001b[0mins_batch\u001b[0m\u001b[1;33m)\u001b[0m\u001b[1;33m\u001b[0m\u001b[1;33m\u001b[0m\u001b[0m\n\u001b[0m\u001b[0;32m    197\u001b[0m                 \u001b[0mouts\u001b[0m \u001b[1;33m=\u001b[0m \u001b[0mto_list\u001b[0m\u001b[1;33m(\u001b[0m\u001b[0mouts\u001b[0m\u001b[1;33m)\u001b[0m\u001b[1;33m\u001b[0m\u001b[1;33m\u001b[0m\u001b[0m\n\u001b[0;32m    198\u001b[0m                 \u001b[1;32mfor\u001b[0m \u001b[0ml\u001b[0m\u001b[1;33m,\u001b[0m \u001b[0mo\u001b[0m \u001b[1;32min\u001b[0m \u001b[0mzip\u001b[0m\u001b[1;33m(\u001b[0m\u001b[0mout_labels\u001b[0m\u001b[1;33m,\u001b[0m \u001b[0mouts\u001b[0m\u001b[1;33m)\u001b[0m\u001b[1;33m:\u001b[0m\u001b[1;33m\u001b[0m\u001b[1;33m\u001b[0m\u001b[0m\n",
      "\u001b[1;32m~\\miniconda3\\envs\\dathoven\\lib\\site-packages\\tensorflow\\python\\keras\\backend.py\u001b[0m in \u001b[0;36m__call__\u001b[1;34m(self, inputs)\u001b[0m\n\u001b[0;32m   3290\u001b[0m \u001b[1;33m\u001b[0m\u001b[0m\n\u001b[0;32m   3291\u001b[0m     fetched = self._callable_fn(*array_vals,\n\u001b[1;32m-> 3292\u001b[1;33m                                 run_metadata=self.run_metadata)\n\u001b[0m\u001b[0;32m   3293\u001b[0m     \u001b[0mself\u001b[0m\u001b[1;33m.\u001b[0m\u001b[0m_call_fetch_callbacks\u001b[0m\u001b[1;33m(\u001b[0m\u001b[0mfetched\u001b[0m\u001b[1;33m[\u001b[0m\u001b[1;33m-\u001b[0m\u001b[0mlen\u001b[0m\u001b[1;33m(\u001b[0m\u001b[0mself\u001b[0m\u001b[1;33m.\u001b[0m\u001b[0m_fetches\u001b[0m\u001b[1;33m)\u001b[0m\u001b[1;33m:\u001b[0m\u001b[1;33m]\u001b[0m\u001b[1;33m)\u001b[0m\u001b[1;33m\u001b[0m\u001b[1;33m\u001b[0m\u001b[0m\n\u001b[0;32m   3294\u001b[0m     output_structure = nest.pack_sequence_as(\n",
      "\u001b[1;32m~\\miniconda3\\envs\\dathoven\\lib\\site-packages\\tensorflow\\python\\client\\session.py\u001b[0m in \u001b[0;36m__call__\u001b[1;34m(self, *args, **kwargs)\u001b[0m\n\u001b[0;32m   1456\u001b[0m         ret = tf_session.TF_SessionRunCallable(self._session._session,\n\u001b[0;32m   1457\u001b[0m                                                \u001b[0mself\u001b[0m\u001b[1;33m.\u001b[0m\u001b[0m_handle\u001b[0m\u001b[1;33m,\u001b[0m \u001b[0margs\u001b[0m\u001b[1;33m,\u001b[0m\u001b[1;33m\u001b[0m\u001b[1;33m\u001b[0m\u001b[0m\n\u001b[1;32m-> 1458\u001b[1;33m                                                run_metadata_ptr)\n\u001b[0m\u001b[0;32m   1459\u001b[0m         \u001b[1;32mif\u001b[0m \u001b[0mrun_metadata\u001b[0m\u001b[1;33m:\u001b[0m\u001b[1;33m\u001b[0m\u001b[1;33m\u001b[0m\u001b[0m\n\u001b[0;32m   1460\u001b[0m           \u001b[0mproto_data\u001b[0m \u001b[1;33m=\u001b[0m \u001b[0mtf_session\u001b[0m\u001b[1;33m.\u001b[0m\u001b[0mTF_GetBuffer\u001b[0m\u001b[1;33m(\u001b[0m\u001b[0mrun_metadata_ptr\u001b[0m\u001b[1;33m)\u001b[0m\u001b[1;33m\u001b[0m\u001b[1;33m\u001b[0m\u001b[0m\n",
      "\u001b[1;31mKeyboardInterrupt\u001b[0m: "
     ]
    }
   ],
   "source": [
    "# Fit the model\n",
    "history = model_interval.fit(X, y, validation_split = 0.1,  batch_size=BATCH_SIZE, epochs=EPOCHS, callbacks=callbacks_list)\n"
   ]
  },
  {
   "cell_type": "code",
   "execution_count": 96,
   "id": "1bada64e-c440-4f02-8b1b-b658b2ec27ac",
   "metadata": {},
   "outputs": [
    {
     "data": {
      "image/png": "[encoded data removed]",
      "text/plain": [
       "<Figure size 432x288 with 1 Axes>"
      ]
     },
     "metadata": {
      "image/png": {
       "height": 277,
       "width": 392
      },
      "needs_background": "light"
     },
     "output_type": "display_data"
    }
   ],
   "source": [
    "plt.plot(model_interval.history.history['loss'])\n",
    "plt.plot(model_interval.history.history['val_loss'])\n",
    "plt.title('model loss')\n",
    "plt.ylabel('loss')\n",
    "plt.xlabel('epoch')\n",
    "plt.legend(['train', 'val'], loc='upper left')\n",
    "plt.show()"
   ]
  },
  {
   "cell_type": "code",
   "execution_count": 15,
   "id": "2dc34418-bf5b-458d-b186-bd0d3643dc3e",
   "metadata": {},
   "outputs": [],
   "source": [
    "from keras.losses import SparseCategoricalCrossentropy"
   ]
  },
  {
   "cell_type": "code",
   "execution_count": 69,
   "id": "adee83fd-f685-4d5e-98e0-af2d66f29ffa",
   "metadata": {},
   "outputs": [
    {
     "data": {
      "text/plain": [
       "keras.losses.SparseCategoricalCrossentropy"
      ]
     },
     "execution_count": 69,
     "metadata": {},
     "output_type": "execute_result"
    }
   ],
   "source": [
    "SparseCategoricalCrossentropy"
   ]
  },
  {
   "cell_type": "code",
   "execution_count": 18,
   "id": "622651e7-2001-4ba9-9faf-53e0b6ac3e74",
   "metadata": {},
   "outputs": [],
   "source": [
    "model_interval.load_weights('models_checkpoints/weights-improvement-10-2.84.hdf5')"
   ]
  },
  {
   "cell_type": "code",
   "execution_count": 19,
   "id": "2c0536c6-2f5c-4934-ba2d-82e32881685a",
   "metadata": {},
   "outputs": [
    {
     "name": "stdout",
     "output_type": "stream",
     "text": [
      "WARNING:tensorflow:From C:\\Users\\jvela\\miniconda3\\envs\\dathoven\\lib\\site-packages\\keras\\backend\\tensorflow_backend.py:422: The name tf.global_variables is deprecated. Please use tf.compat.v1.global_variables instead.\n",
      "\n"
     ]
    }
   ],
   "source": [
    "generated_vector = sample_seq([1], SEQ_LEN, model_interval, number_to_interval, 50)\n",
    "generated_intervals = [number_to_interval[number] for number in generated_vector]"
   ]
  },
  {
   "cell_type": "code",
   "execution_count": 23,
   "id": "a4274624-a931-431d-9ae2-470141a18944",
   "metadata": {},
   "outputs": [
    {
     "data": {
      "text/plain": [
       "'20210426_003227'"
      ]
     },
     "execution_count": 23,
     "metadata": {},
     "output_type": "execute_result"
    }
   ],
   "source": [
    "datetime.now().strftime(\"%Y%m%d_%H%M%S\")"
   ]
  },
  {
   "cell_type": "code",
   "execution_count": 22,
   "id": "2157dabd-d764-41b8-a4e5-0d26090f2c30",
   "metadata": {},
   "outputs": [
    {
     "data": {
      "text/plain": [
       "datetime.datetime(2021, 4, 26, 0, 31, 13, 594252)"
      ]
     },
     "execution_count": 22,
     "metadata": {},
     "output_type": "execute_result"
    }
   ],
   "source": [
    "from datetime import datetime\n",
    "datetime.now()"
   ]
  },
  {
   "cell_type": "code",
   "execution_count": 24,
   "id": "e8211da3-e3e1-4e60-b231-791dede176b6",
   "metadata": {},
   "outputs": [],
   "source": [
    "from_intervals_to_midi(70, generated_intervals, datetime.now().strftime(\"%Y%m%d_%H%M%S\")+'_generated_record_intervals_tuning.mid') "
   ]
  },
  {
   "cell_type": "code",
   "execution_count": null,
   "id": "408258d7-6620-40b6-85a9-853639336f57",
   "metadata": {},
   "outputs": [],
   "source": []
  }
 ],
 "metadata": {
  "kernelspec": {
   "display_name": "Python 3",
   "language": "python",
   "name": "python3"
  },
  "language_info": {
   "codemirror_mode": {
    "name": "ipython",
    "version": 3
   },
   "file_extension": ".py",
   "mimetype": "text/x-python",
   "name": "python",
   "nbconvert_exporter": "python",
   "pygments_lexer": "ipython3",
   "version": "3.7.10"
  }
 },
 "nbformat": 4,
 "nbformat_minor": 5
}
