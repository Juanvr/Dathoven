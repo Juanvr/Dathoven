{
 "cells": [
  {
   "cell_type": "markdown",
   "id": "7763149c-102e-4109-a9d5-b1c7f34c0aa0",
   "metadata": {},
   "source": [
    "# Dathoven MVP"
   ]
  },
  {
   "cell_type": "markdown",
   "id": "db8ba881-4a7f-47fc-bf25-6bab706c4cd6",
   "metadata": {},
   "source": [
    "## Music21 for MIDI"
   ]
  },
  {
   "cell_type": "markdown",
   "id": "117827dc-07fa-4f71-b554-dd15a84eb929",
   "metadata": {},
   "source": [
    "### Goals\n",
    "\n",
    "- Relative tone\n",
    "- Relative rythm\n",
    "- Relative harmony"
   ]
  },
  {
   "cell_type": "markdown",
   "id": "108c1357-fc07-462e-ad8c-1fc7586ff834",
   "metadata": {},
   "source": [
    "### Absolute tone"
   ]
  },
  {
   "cell_type": "markdown",
   "id": "f8173a93-a6f3-4eea-be13-586969eda173",
   "metadata": {},
   "source": [
    "My first aproach is to use absolute tone of notes in order to generate the model."
   ]
  },
  {
   "cell_type": "code",
   "execution_count": 1,
   "id": "c960e762-c420-4617-ab7b-f2c84642339c",
   "metadata": {},
   "outputs": [],
   "source": [
    "import glob, os\n",
    "import numpy as np\n",
    "from matplotlib import pyplot as plt"
   ]
  },
  {
   "cell_type": "code",
   "execution_count": 2,
   "id": "d69583f9-73e7-46ef-9b86-bebbc486874b",
   "metadata": {},
   "outputs": [],
   "source": [
    "from music21 import converter, corpus, instrument, midi, note, chord, pitch, stream,interval"
   ]
  },
  {
   "cell_type": "markdown",
   "id": "02c8c0bf-e099-49fe-a21a-ac291cfbd8b9",
   "metadata": {},
   "source": [
    "We create a function that takes a midi file and returns all its notes and chords: \n"
   ]
  },
  {
   "cell_type": "code",
   "execution_count": 3,
   "id": "fb1a3f18-c839-4ebf-a12b-04b86c5f0810",
   "metadata": {},
   "outputs": [],
   "source": [
    "def get_stream_from_midi_without_drums(midi_path):\n",
    "    mf = midi.MidiFile()\n",
    "    mf.open(midi_path)\n",
    "    mf.read()\n",
    "    mf.close()\n",
    "    \n",
    "    for i in range(len(mf.tracks)):\n",
    "        mf.tracks[i].events = [ev for ev in mf.tracks[i].events if ev.channel != 10]          \n",
    "\n",
    "    return midi.translate.midiFileToStream(mf)\n",
    "        "
   ]
  },
  {
   "cell_type": "code",
   "execution_count": 4,
   "id": "213ecd8d-561e-488e-a491-0580599d9b1e",
   "metadata": {},
   "outputs": [],
   "source": [
    "def stream_to_array_of_notes_strings (stream):\n",
    "    result = []\n",
    "    for element in stream.flat.notes:\n",
    "        stringRepresentationOfElement = ''\n",
    "        if isinstance(element, note.Note):\n",
    "            stringRepresentationOfElement = element.nameWithOctave\n",
    "        else: # it's a chord\n",
    "            listOfNotesWithOctaves = [note.nameWithOctave for note in element.notes]\n",
    "            stringRepresentationOfElement = ' '.join(listOfNotesWithOctaves)\n",
    "        result.append(stringRepresentationOfElement)\n",
    "    return result"
   ]
  },
  {
   "cell_type": "code",
   "execution_count": 5,
   "id": "394118ca-4d73-4b05-8fe5-bca36cd9eb42",
   "metadata": {},
   "outputs": [],
   "source": [
    "def from_midi_to_array_of_notes (midi_path):\n",
    "    return stream_to_array_of_notes_strings(get_stream_from_midi_without_drums(midi_path))"
   ]
  },
  {
   "cell_type": "markdown",
   "id": "5079e04f-481a-456a-907d-a24df2862fa1",
   "metadata": {},
   "source": [
    "We create the function that takes an array of notes and chords and creates a midi file:"
   ]
  },
  {
   "cell_type": "code",
   "execution_count": 6,
   "id": "3b114520-a8d4-428e-843d-cc9b8c6574ce",
   "metadata": {},
   "outputs": [],
   "source": [
    "def from_array_of_elements_to_midi ( elements, midi_path ):\n",
    "    streamResult = stream.Stream()\n",
    "    for element in elements:\n",
    "        if ' ' not in element:\n",
    "            streamResult.append(note.Note(element))\n",
    "        else:\n",
    "            streamResult.append(chord.Chord(element))\n",
    "    \n",
    "    streamResult.write('midi', fp= midi_path)"
   ]
  },
  {
   "cell_type": "code",
   "execution_count": 7,
   "id": "5c799bc7-dc2d-414a-9289-6fbc6b02ee6a",
   "metadata": {},
   "outputs": [],
   "source": [
    "from_array_of_elements_to_midi([\"C4\", \"D4\", \"E4\", \"F4\", \"G4\"], \"test1.mid\")"
   ]
  },
  {
   "cell_type": "code",
   "execution_count": 8,
   "id": "5f98e640-d227-4df0-8c50-f3797dba51cf",
   "metadata": {},
   "outputs": [],
   "source": [
    "stream_silent_night = get_stream_from_midi_without_drums(\"data\\examples\\silent_night_easy.mid\")"
   ]
  },
  {
   "cell_type": "code",
   "execution_count": 9,
   "id": "8bb6d387-0d7e-412f-8605-b061d717a944",
   "metadata": {},
   "outputs": [],
   "source": [
    "from_array_of_elements_to_midi(stream_to_array_of_notes_strings(stream_silent_night), \"silent_night.mid\")"
   ]
  },
  {
   "cell_type": "markdown",
   "id": "b1c5bad7-1cb2-4473-97e0-070aaa37df62",
   "metadata": {},
   "source": [
    "We create a function that goes trought a folder of midi files reading its notes and chords: "
   ]
  },
  {
   "cell_type": "code",
   "execution_count": 134,
   "id": "87ca278f-72f9-425a-ab85-21520302c2aa",
   "metadata": {},
   "outputs": [],
   "source": [
    "def get_folder_songs(folder_path):\n",
    "    songs = []\n",
    "    for file in glob.glob(folder_path):\n",
    "        songs.append(from_midi_to_array_of_notes(file))\n",
    "    return songs"
   ]
  },
  {
   "cell_type": "code",
   "execution_count": 135,
   "id": "e81c2cdc-93bf-44a6-97f8-61de783ce288",
   "metadata": {},
   "outputs": [],
   "source": [
    "# Test\n",
    "songs = get_folder_songs(\"data/examples/*.mid\")"
   ]
  },
  {
   "cell_type": "markdown",
   "id": "4b8f09ad-0d46-4b4e-b66a-a279011187a9",
   "metadata": {},
   "source": [
    "We create a dictionary of music elements:"
   ]
  },
  {
   "cell_type": "code",
   "execution_count": 136,
   "id": "cca86457-bc52-4daf-89c4-c890dd8e04ae",
   "metadata": {},
   "outputs": [],
   "source": [
    "notes_to_number = {}\n",
    "number_to_note = {}"
   ]
  },
  {
   "cell_type": "code",
   "execution_count": 137,
   "id": "3fb6aabd-285f-4916-99a9-ddff6ee578f3",
   "metadata": {},
   "outputs": [],
   "source": [
    "for song in songs:\n",
    "    for element in song:\n",
    "        if not element in notes_to_number:\n",
    "            number_to_note[len(notes_to_number)+1] = element\n",
    "            notes_to_number[element] = len(notes_to_number)+1\n"
   ]
  },
  {
   "cell_type": "code",
   "execution_count": 141,
   "id": "858cdb11-8cc9-46db-961c-e6d1b6dd99e8",
   "metadata": {},
   "outputs": [
    {
     "data": {
      "text/plain": [
       "[1, 1, 2, 1, 1, 2, 1, 1, 2, 1]"
      ]
     },
     "execution_count": 141,
     "metadata": {},
     "output_type": "execute_result"
    }
   ],
   "source": [
    "[notes_to_number[element] for element in songs[0]][:10]"
   ]
  },
  {
   "cell_type": "code",
   "execution_count": 142,
   "id": "75223377-e4d6-44ff-9982-1bb34e8631d6",
   "metadata": {},
   "outputs": [
    {
     "data": {
      "text/plain": [
       "481"
      ]
     },
     "execution_count": 142,
     "metadata": {},
     "output_type": "execute_result"
    }
   ],
   "source": [
    "len(notes_to_number)"
   ]
  },
  {
   "cell_type": "code",
   "execution_count": 143,
   "id": "b12400d4-2714-4772-9b02-b7bd59ee8b6b",
   "metadata": {},
   "outputs": [
    {
     "data": {
      "text/plain": [
       "'C#5'"
      ]
     },
     "execution_count": 143,
     "metadata": {},
     "output_type": "execute_result"
    }
   ],
   "source": [
    "number_to_note[1]"
   ]
  },
  {
   "cell_type": "markdown",
   "id": "c92210ab-a056-44c3-b667-d23251389428",
   "metadata": {},
   "source": [
    "## Building a MVP"
   ]
  },
  {
   "cell_type": "code",
   "execution_count": 144,
   "id": "d695a871-3ec9-4b1a-b393-eb904a9c9a12",
   "metadata": {},
   "outputs": [],
   "source": [
    "train_set = [[notes_to_number[element] for element in song] for song in songs]"
   ]
  },
  {
   "cell_type": "code",
   "execution_count": 145,
   "id": "3e7a6473-822f-4b85-8f6b-d4f0512649a4",
   "metadata": {},
   "outputs": [],
   "source": [
    "# Training Hyperparameters:\n",
    "VOCABULARY_SIZE = len(notes_to_number) + 1 # known 0-127 notes + 128 note_off + 129 no_event\n",
    "SEQ_LEN = 30\n",
    "BATCH_SIZE = 64\n",
    "HIDDEN_UNITS = 256\n",
    "EPOCHS = 10\n",
    "SEED = 2345  # 2345 seems to be good.\n",
    "np.random.seed(SEED)"
   ]
  },
  {
   "cell_type": "markdown",
   "id": "2d5b301b-ae35-4d00-83c7-cfd08a3772e3",
   "metadata": {},
   "source": [
    "Preprocessing data: "
   ]
  },
  {
   "cell_type": "code",
   "execution_count": 146,
   "id": "81d62d9f-8fde-4774-8fd3-9c7c6a1c596b",
   "metadata": {},
   "outputs": [
    {
     "name": "stdout",
     "output_type": "stream",
     "text": [
      "Total Training Corpus:\n",
      "X: (6915, 30)\n",
      "y: (6915,)\n",
      "\n",
      "Looking at one example:\n",
      "X: [6 1 1 2 1 1 2 1 2 3 3 4 3 3 4 3 3 4 3 3 4 3 1 5 6 5 5 6 5 5]\n",
      "y: 6\n"
     ]
    }
   ],
   "source": [
    "def slice_sequence_examples(sequence, num_steps):\n",
    "    \"\"\"Slice a sequence into redundant sequences of lenght num_steps.\"\"\"\n",
    "    xs = []\n",
    "    for i in range(len(sequence) - num_steps - 1):\n",
    "        example = sequence[i: i + num_steps]\n",
    "        xs.append(example)\n",
    "    return xs\n",
    "\n",
    "def seq_to_singleton_format(examples):\n",
    "    \"\"\"\n",
    "    Return the examples in seq to singleton format.\n",
    "    \"\"\"\n",
    "    xs = []\n",
    "    ys = []\n",
    "    for ex in examples:\n",
    "        xs.append(ex[:-1])\n",
    "        ys.append(ex[-1])\n",
    "    return (xs,ys)\n",
    "\n",
    "# Prepare training data as X and Y.\n",
    "# This slices the melodies into sequences of length SEQ_LEN+1.\n",
    "# Then, each sequence is split into an X of length SEQ_LEN and a y of length 1.\n",
    "\n",
    "# Slice the sequences:\n",
    "slices = []\n",
    "for seq in train_set:\n",
    "    slices +=  slice_sequence_examples(seq, SEQ_LEN+1)\n",
    "\n",
    "# Split the sequences into Xs and ys:\n",
    "X, y = seq_to_singleton_format(slices)\n",
    "# Convert into numpy arrays.\n",
    "X = np.array(X)\n",
    "y = np.array(y)\n",
    "\n",
    "# Look at the size of the training corpus:\n",
    "print(\"Total Training Corpus:\")\n",
    "print(\"X:\", X.shape)\n",
    "print(\"y:\", y.shape)\n",
    "print()\n",
    "\n",
    "# Have a look at one example:\n",
    "print(\"Looking at one example:\")\n",
    "print(\"X:\", X[95])\n",
    "print(\"y:\", y[95])\n",
    "# Note: Music data is sparser than text, there's lots of 129s (do nothing)\n",
    "# and few examples of any particular note on.\n",
    "# As a result, it's a bit harder to train a melody-rnn."
   ]
  },
  {
   "cell_type": "code",
   "execution_count": 251,
   "id": "76fa8855-36e6-42b8-990e-7050b97d569e",
   "metadata": {},
   "outputs": [],
   "source": [
    "import keras\n",
    "from keras.models import Sequential\n",
    "from keras.layers import Dense, Activation\n",
    "from keras.layers import LSTM, Dropout\n",
    "from keras.layers.embeddings import Embedding\n",
    "from keras.optimizers import RMSprop\n",
    "from keras.utils.data_utils import get_file\n",
    "from keras.models import load_model\n",
    "from keras.preprocessing.sequence import pad_sequences\n",
    "from keras.callbacks import ModelCheckpoint"
   ]
  },
  {
   "cell_type": "code",
   "execution_count": 148,
   "id": "852d91f6-c753-4b2a-ba0a-41d8e2268ca1",
   "metadata": {},
   "outputs": [
    {
     "name": "stdout",
     "output_type": "stream",
     "text": [
      "Build model...\n",
      "Model: \"sequential_4\"\n",
      "_________________________________________________________________\n",
      "Layer (type)                 Output Shape              Param #   \n",
      "=================================================================\n",
      "embedding_4 (Embedding)      (None, 30, 256)           123392    \n",
      "_________________________________________________________________\n",
      "lstm_7 (LSTM)                (None, 30, 256)           525312    \n",
      "_________________________________________________________________\n",
      "lstm_8 (LSTM)                (None, 256)               525312    \n",
      "_________________________________________________________________\n",
      "dense_4 (Dense)              (None, 482)               123874    \n",
      "=================================================================\n",
      "Total params: 1,297,890\n",
      "Trainable params: 1,297,890\n",
      "Non-trainable params: 0\n",
      "_________________________________________________________________\n"
     ]
    }
   ],
   "source": [
    "# build the model: 2-layer LSTM network.\n",
    "# Using Embedding layer and sparse_categorical_crossentropy loss function \n",
    "# to save some effort in preparing data.\n",
    "\n",
    "print('Build model...')\n",
    "model_train = Sequential()\n",
    "model_train.add(Embedding(VOCABULARY_SIZE, HIDDEN_UNITS, input_length=SEQ_LEN, mask_zero=True))\n",
    "\n",
    "# LSTM part\n",
    "model_train.add(LSTM(HIDDEN_UNITS, return_sequences=True))\n",
    "model_train.add(LSTM(HIDDEN_UNITS))\n",
    "\n",
    "# Project back to vocabulary\n",
    "model_train.add(Dense(VOCABULARY_SIZE, activation='softmax'))\n",
    "model_train.compile(loss='sparse_categorical_crossentropy', optimizer='adam')\n",
    "model_train.summary()"
   ]
  },
  {
   "cell_type": "code",
   "execution_count": 149,
   "id": "a6c767d0-b13a-4d99-b3c7-da8e44422f79",
   "metadata": {},
   "outputs": [
    {
     "name": "stdout",
     "output_type": "stream",
     "text": [
      "Train on 6223 samples, validate on 692 samples\n",
      "Epoch 1/10\n",
      "6223/6223 [==============================] - 63s 10ms/step - loss: 4.8866 - val_loss: 4.9071\n",
      "Epoch 2/10\n",
      "6223/6223 [==============================] - 65s 10ms/step - loss: 4.5637 - val_loss: 4.8427\n",
      "Epoch 3/10\n",
      "6223/6223 [==============================] - 67s 11ms/step - loss: 4.3432 - val_loss: 4.7457\n",
      "Epoch 4/10\n",
      "6223/6223 [==============================] - 66s 11ms/step - loss: 4.1016 - val_loss: 4.6978\n",
      "Epoch 5/10\n",
      "6223/6223 [==============================] - 66s 11ms/step - loss: 3.8521 - val_loss: 4.6571\n",
      "Epoch 6/10\n",
      "6223/6223 [==============================] - 66s 11ms/step - loss: 3.6697 - val_loss: 4.7220\n",
      "Epoch 7/10\n",
      "6223/6223 [==============================] - 67s 11ms/step - loss: 3.5099 - val_loss: 4.7032\n",
      "Epoch 8/10\n",
      "6223/6223 [==============================] - 67s 11ms/step - loss: 3.3619 - val_loss: 4.7048\n",
      "Epoch 9/10\n",
      "6223/6223 [==============================] - 67s 11ms/step - loss: 3.1989 - val_loss: 4.6537\n",
      "Epoch 10/10\n",
      "6223/6223 [==============================] - 67s 11ms/step - loss: 3.0231 - val_loss: 4.6791\n"
     ]
    }
   ],
   "source": [
    "# Train the model (this takes time)\n",
    "history = model_train.fit(X, y, validation_split = 0.1,  batch_size=BATCH_SIZE, epochs=EPOCHS)\n",
    "#model_train.save(\"zeldic-rnn.h5\")"
   ]
  },
  {
   "cell_type": "code",
   "execution_count": 150,
   "id": "fd21be90-0f40-4646-9f7e-a60d24d343b1",
   "metadata": {},
   "outputs": [
    {
     "data": {
      "image/png": "[encoded data removed]",
      "text/plain": [
       "<Figure size 432x288 with 1 Axes>"
      ]
     },
     "metadata": {
      "image/png": {
       "height": 277,
       "width": 392
      },
      "needs_background": "light"
     },
     "output_type": "display_data"
    }
   ],
   "source": [
    "plt.plot(history.history['loss'])\n",
    "plt.plot(history.history['val_loss'])\n",
    "plt.title('model loss')\n",
    "plt.ylabel('loss')\n",
    "plt.xlabel('epoch')\n",
    "plt.legend(['train', 'val'], loc='upper left')\n",
    "plt.show()"
   ]
  },
  {
   "cell_type": "code",
   "execution_count": 151,
   "id": "9e540c6d-b775-46b6-a8f0-24ac2217b5ce",
   "metadata": {},
   "outputs": [],
   "source": [
    "model_train.save(\"model-weights.h5\")"
   ]
  },
  {
   "cell_type": "markdown",
   "id": "6c68ff2d-2e5d-4ce7-bb29-09e2127fd190",
   "metadata": {},
   "source": [
    "Decoding Model"
   ]
  },
  {
   "cell_type": "code",
   "execution_count": 72,
   "id": "1cb4e9b4-6768-4b9a-a219-f5f295f6b279",
   "metadata": {},
   "outputs": [
    {
     "name": "stdout",
     "output_type": "stream",
     "text": [
      "Model: \"sequential_7\"\n",
      "_________________________________________________________________\n",
      "Layer (type)                 Output Shape              Param #   \n",
      "=================================================================\n",
      "embedding_7 (Embedding)      (1, 1, 256)               104960    \n",
      "_________________________________________________________________\n",
      "lstm_12 (LSTM)               (1, 1, 256)               525312    \n",
      "_________________________________________________________________\n",
      "lstm_13 (LSTM)               (1, 256)                  525312    \n",
      "_________________________________________________________________\n",
      "dense_6 (Dense)              (1, 410)                  105370    \n",
      "=================================================================\n",
      "Total params: 1,260,954\n",
      "Trainable params: 1,260,954\n",
      "Non-trainable params: 0\n",
      "_________________________________________________________________\n"
     ]
    },
    {
     "ename": "AttributeError",
     "evalue": "'str' object has no attribute 'decode'",
     "output_type": "error",
     "traceback": [
      "\u001b[1;31m---------------------------------------------------------------------------\u001b[0m",
      "\u001b[1;31mAttributeError\u001b[0m                            Traceback (most recent call last)",
      "\u001b[1;32m<ipython-input-72-cc4edc836d18>\u001b[0m in \u001b[0;36m<module>\u001b[1;34m\u001b[0m\n\u001b[0;32m     12\u001b[0m \u001b[1;31m# set weights from training model\u001b[0m\u001b[1;33m\u001b[0m\u001b[1;33m\u001b[0m\u001b[1;33m\u001b[0m\u001b[0m\n\u001b[0;32m     13\u001b[0m \u001b[1;31m#model_dec.set_weights(model_train.get_weights())\u001b[0m\u001b[1;33m\u001b[0m\u001b[1;33m\u001b[0m\u001b[1;33m\u001b[0m\u001b[0m\n\u001b[1;32m---> 14\u001b[1;33m \u001b[0mmodel_dec\u001b[0m\u001b[1;33m.\u001b[0m\u001b[0mload_weights\u001b[0m\u001b[1;33m(\u001b[0m\u001b[1;34m\"model-weights.h5\"\u001b[0m\u001b[1;33m)\u001b[0m\u001b[1;33m\u001b[0m\u001b[1;33m\u001b[0m\u001b[0m\n\u001b[0m",
      "\u001b[1;32m~\\miniconda3\\envs\\dathoven\\lib\\site-packages\\keras\\engine\\saving.py\u001b[0m in \u001b[0;36mload_wrapper\u001b[1;34m(*args, **kwargs)\u001b[0m\n\u001b[0;32m    490\u001b[0m                 \u001b[0mos\u001b[0m\u001b[1;33m.\u001b[0m\u001b[0mremove\u001b[0m\u001b[1;33m(\u001b[0m\u001b[0mtmp_filepath\u001b[0m\u001b[1;33m)\u001b[0m\u001b[1;33m\u001b[0m\u001b[1;33m\u001b[0m\u001b[0m\n\u001b[0;32m    491\u001b[0m             \u001b[1;32mreturn\u001b[0m \u001b[0mres\u001b[0m\u001b[1;33m\u001b[0m\u001b[1;33m\u001b[0m\u001b[0m\n\u001b[1;32m--> 492\u001b[1;33m         \u001b[1;32mreturn\u001b[0m \u001b[0mload_function\u001b[0m\u001b[1;33m(\u001b[0m\u001b[1;33m*\u001b[0m\u001b[0margs\u001b[0m\u001b[1;33m,\u001b[0m \u001b[1;33m**\u001b[0m\u001b[0mkwargs\u001b[0m\u001b[1;33m)\u001b[0m\u001b[1;33m\u001b[0m\u001b[1;33m\u001b[0m\u001b[0m\n\u001b[0m\u001b[0;32m    493\u001b[0m \u001b[1;33m\u001b[0m\u001b[0m\n\u001b[0;32m    494\u001b[0m     \u001b[1;32mreturn\u001b[0m \u001b[0mload_wrapper\u001b[0m\u001b[1;33m\u001b[0m\u001b[1;33m\u001b[0m\u001b[0m\n",
      "\u001b[1;32m~\\miniconda3\\envs\\dathoven\\lib\\site-packages\\keras\\engine\\network.py\u001b[0m in \u001b[0;36mload_weights\u001b[1;34m(self, filepath, by_name, skip_mismatch, reshape)\u001b[0m\n\u001b[0;32m   1228\u001b[0m             \u001b[1;32melse\u001b[0m\u001b[1;33m:\u001b[0m\u001b[1;33m\u001b[0m\u001b[1;33m\u001b[0m\u001b[0m\n\u001b[0;32m   1229\u001b[0m                 saving.load_weights_from_hdf5_group(\n\u001b[1;32m-> 1230\u001b[1;33m                     f, self.layers, reshape=reshape)\n\u001b[0m\u001b[0;32m   1231\u001b[0m             \u001b[1;32mif\u001b[0m \u001b[0mhasattr\u001b[0m\u001b[1;33m(\u001b[0m\u001b[0mf\u001b[0m\u001b[1;33m,\u001b[0m \u001b[1;34m'close'\u001b[0m\u001b[1;33m)\u001b[0m\u001b[1;33m:\u001b[0m\u001b[1;33m\u001b[0m\u001b[1;33m\u001b[0m\u001b[0m\n\u001b[0;32m   1232\u001b[0m                 \u001b[0mf\u001b[0m\u001b[1;33m.\u001b[0m\u001b[0mclose\u001b[0m\u001b[1;33m(\u001b[0m\u001b[1;33m)\u001b[0m\u001b[1;33m\u001b[0m\u001b[1;33m\u001b[0m\u001b[0m\n",
      "\u001b[1;32m~\\miniconda3\\envs\\dathoven\\lib\\site-packages\\keras\\engine\\saving.py\u001b[0m in \u001b[0;36mload_weights_from_hdf5_group\u001b[1;34m(f, layers, reshape)\u001b[0m\n\u001b[0;32m   1181\u001b[0m     \"\"\"\n\u001b[0;32m   1182\u001b[0m     \u001b[1;32mif\u001b[0m \u001b[1;34m'keras_version'\u001b[0m \u001b[1;32min\u001b[0m \u001b[0mf\u001b[0m\u001b[1;33m.\u001b[0m\u001b[0mattrs\u001b[0m\u001b[1;33m:\u001b[0m\u001b[1;33m\u001b[0m\u001b[1;33m\u001b[0m\u001b[0m\n\u001b[1;32m-> 1183\u001b[1;33m         \u001b[0moriginal_keras_version\u001b[0m \u001b[1;33m=\u001b[0m \u001b[0mf\u001b[0m\u001b[1;33m.\u001b[0m\u001b[0mattrs\u001b[0m\u001b[1;33m[\u001b[0m\u001b[1;34m'keras_version'\u001b[0m\u001b[1;33m]\u001b[0m\u001b[1;33m.\u001b[0m\u001b[0mdecode\u001b[0m\u001b[1;33m(\u001b[0m\u001b[1;34m'utf8'\u001b[0m\u001b[1;33m)\u001b[0m\u001b[1;33m\u001b[0m\u001b[1;33m\u001b[0m\u001b[0m\n\u001b[0m\u001b[0;32m   1184\u001b[0m     \u001b[1;32melse\u001b[0m\u001b[1;33m:\u001b[0m\u001b[1;33m\u001b[0m\u001b[1;33m\u001b[0m\u001b[0m\n\u001b[0;32m   1185\u001b[0m         \u001b[0moriginal_keras_version\u001b[0m \u001b[1;33m=\u001b[0m \u001b[1;34m'1'\u001b[0m\u001b[1;33m\u001b[0m\u001b[1;33m\u001b[0m\u001b[0m\n",
      "\u001b[1;31mAttributeError\u001b[0m: 'str' object has no attribute 'decode'"
     ]
    }
   ],
   "source": [
    "# Build a decoding model (input length 1, batch size 1, stateful)\n",
    "model_dec = Sequential()\n",
    "model_dec.add(Embedding(VOCABULARY_SIZE, HIDDEN_UNITS, input_length=1, batch_input_shape=(1,1)))\n",
    "# LSTM part\n",
    "model_dec.add(LSTM(HIDDEN_UNITS, stateful=True, return_sequences=True))\n",
    "model_dec.add(LSTM(HIDDEN_UNITS, stateful=True))\n",
    "\n",
    "# project back to vocabulary\n",
    "model_dec.add(Dense(VOCABULARY_SIZE, activation='softmax'))\n",
    "model_dec.compile(loss='sparse_categorical_crossentropy', optimizer='adam')\n",
    "model_dec.summary()\n",
    "# set weights from training model\n",
    "#model_dec.set_weights(model_train.get_weights())\n",
    "model_dec.load_weights(\"model-weights.h5\")"
   ]
  },
  {
   "cell_type": "markdown",
   "id": "f51c9250-1c91-4080-a399-fb12c4d45061",
   "metadata": {},
   "source": [
    "Sample with masking"
   ]
  },
  {
   "cell_type": "code",
   "execution_count": 153,
   "id": "390cc09b-f077-4cfe-91ee-77d71e60fcc2",
   "metadata": {},
   "outputs": [],
   "source": [
    "def sample(preds, temperature=1.0):\n",
    "    \"\"\" helper function to sample an index from a probability array\"\"\"\n",
    "    preds = np.asarray(preds).astype('float64')\n",
    "    preds = np.log(preds) / temperature\n",
    "    exp_preds = np.exp(preds)\n",
    "    preds = exp_preds / np.sum(exp_preds)\n",
    "    probas = np.random.multinomial(1, preds, 1)\n",
    "    return np.argmax(probas)"
   ]
  },
  {
   "cell_type": "code",
   "execution_count": 154,
   "id": "c98805ad-ff9a-4fd3-b2c9-60ea39d83675",
   "metadata": {},
   "outputs": [],
   "source": [
    "lista = [1,2,3,4,5]\n",
    "lista.sort(reverse = True)"
   ]
  },
  {
   "cell_type": "code",
   "execution_count": 155,
   "id": "6ffe5a41-7f90-4977-9128-18a28b98918c",
   "metadata": {},
   "outputs": [
    {
     "data": {
      "text/plain": [
       "[5, 4, 3, 2, 1]"
      ]
     },
     "execution_count": 155,
     "metadata": {},
     "output_type": "execute_result"
    }
   ],
   "source": [
    "lista"
   ]
  },
  {
   "cell_type": "code",
   "execution_count": 246,
   "id": "32cc1650-e1c6-4f32-acd7-1654b6d1e592",
   "metadata": {},
   "outputs": [],
   "source": [
    "from random import randint\n",
    "def sample(preds):\n",
    "    sorted_indexes = np.argsort(preds)[::-1]\n",
    "    return sorted_indexes[randint(0,3)]\n",
    "    "
   ]
  },
  {
   "cell_type": "code",
   "execution_count": 171,
   "id": "a300cecd-6d5a-45b3-b7ba-3036ea303918",
   "metadata": {},
   "outputs": [
    {
     "data": {
      "text/plain": [
       "1"
      ]
     },
     "execution_count": 171,
     "metadata": {},
     "output_type": "execute_result"
    }
   ],
   "source": [
    "randint(0,3)"
   ]
  },
  {
   "cell_type": "code",
   "execution_count": 247,
   "id": "21921aa6-5f20-4584-940d-44e6903eaf2b",
   "metadata": {},
   "outputs": [],
   "source": [
    "def sample_seq( seq, seq_length, model, number_to_note, output_seq_length ):\n",
    "    if output_seq_length <= len(seq): raise Exception(\"output_seq_length must be higher than seq_length\")\n",
    "        \n",
    "    output_seq = seq\n",
    "    for i in range(output_seq_length - len(seq)):\n",
    "        input_sequence = [seq[-seq_length:]]\n",
    "        x = pad_sequences(input_sequence, maxlen = seq_length, padding=\"pre\")\n",
    "        prediction = model.predict(x)\n",
    "        index = sample(prediction[0])\n",
    "        output_seq.append(index)\n",
    "    #[number_to_note(number) for number in output_seq]\n",
    "    return output_seq"
   ]
  },
  {
   "cell_type": "code",
   "execution_count": 179,
   "id": "5e1a0236-e46d-4d3d-8ae9-516dc0cc3e58",
   "metadata": {},
   "outputs": [],
   "source": [
    "generated_vector = sample_seq([50], SEQ_LEN, model_train, number_to_note, 50)\n"
   ]
  },
  {
   "cell_type": "code",
   "execution_count": 180,
   "id": "ca4d652c-e8c3-4e9d-9982-3edca5690348",
   "metadata": {},
   "outputs": [],
   "source": [
    "generated_notes_and_chords = [number_to_note[number] for number in generated_vector]"
   ]
  },
  {
   "cell_type": "code",
   "execution_count": 181,
   "id": "fa244492-aab9-4694-9915-62f6dbe4c025",
   "metadata": {},
   "outputs": [],
   "source": [
    "from_array_of_elements_to_midi(generated_notes_and_chords, \"generated_record_masking.mid\")"
   ]
  },
  {
   "cell_type": "markdown",
   "id": "69757418-9346-4e19-926f-103ada12447c",
   "metadata": {},
   "source": [
    "Sampling\n"
   ]
  },
  {
   "cell_type": "code",
   "execution_count": 89,
   "id": "3b20cd81-2812-4318-b658-a9579021d8da",
   "metadata": {},
   "outputs": [],
   "source": [
    "def sample(preds, temperature=1.0):\n",
    "    \"\"\" helper function to sample an index from a probability array\"\"\"\n",
    "    preds = np.asarray(preds).astype('float64')\n",
    "    preds = np.log(preds) / temperature\n",
    "    exp_preds = np.exp(preds)\n",
    "    preds = exp_preds / np.sum(exp_preds)\n",
    "    probas = np.random.multinomial(1, preds, 1)\n",
    "    return np.argmax(probas)\n",
    "\n",
    "## Sampling function\n",
    "\n",
    "def sample_model(seed, model_name, length=400, temperature=1.0):\n",
    "    '''Samples a musicRNN given a seed sequence.'''\n",
    "    generated = []  \n",
    "    generated.append(seed)\n",
    "    next_index = seed\n",
    "    for i in range(length):\n",
    "        x = np.array([next_index])\n",
    "        x = np.reshape(x,(1,1))\n",
    "        preds = model_name.predict(x, verbose=0)[0]\n",
    "        next_index = sample(preds, temperature)        \n",
    "        generated.append(next_index)\n",
    "    return np.array(generated)"
   ]
  },
  {
   "cell_type": "code",
   "execution_count": 67,
   "id": "5c31c09a-ef94-4913-9838-04c3fe5988ca",
   "metadata": {},
   "outputs": [],
   "source": [
    "o = sample_model(60, model_dec, length=127, temperature=1.0) # generate 8 bars of melody"
   ]
  },
  {
   "cell_type": "code",
   "execution_count": 68,
   "id": "a3e58bf5-7932-48f4-825a-e6883880e5e5",
   "metadata": {},
   "outputs": [
    {
     "data": {
      "text/plain": [
       "array([ 60, 178, 183, 128, 391, 207,   2, 181, 177,   6, 387, 228,  49,\n",
       "       105, 201, 223, 285, 359, 320, 277,  44,  87, 321, 331, 254,  42,\n",
       "       390, 215, 158, 246, 181, 289,  72,  17, 349, 192, 364,  20, 381,\n",
       "       327, 295,   9, 366, 101, 205, 171,  32, 271, 214,   1, 349, 290,\n",
       "       318,  35,   9, 144, 187,   0, 311, 319, 408, 290, 319,  44, 164,\n",
       "       394, 176, 183, 384, 347, 250,   6,  70, 241, 380, 154, 298,  91,\n",
       "       373, 174,  77,   6, 194, 115, 339, 402, 386, 169, 161, 139,  80,\n",
       "       345, 276, 294,   5, 405,   7, 326, 143, 278, 101, 363, 187, 306,\n",
       "       104, 248,  22,  65, 142,  73, 362, 276, 196, 308, 396, 202,   5,\n",
       "       333, 197,  41, 398, 248, 165,  60, 156, 243, 289, 358], dtype=int64)"
      ]
     },
     "execution_count": 68,
     "metadata": {},
     "output_type": "execute_result"
    }
   ],
   "source": [
    "o"
   ]
  },
  {
   "cell_type": "code",
   "execution_count": 69,
   "id": "64e4c9ee-a8f8-4d63-9cd1-6c4ac7e49c88",
   "metadata": {},
   "outputs": [],
   "source": [
    "generated_notes_and_chords = [number_to_note[number] for number in o]"
   ]
  },
  {
   "cell_type": "code",
   "execution_count": 70,
   "id": "48a40339-d7bc-46b0-a5db-2497eb0e9d4a",
   "metadata": {},
   "outputs": [],
   "source": [
    "from_array_of_elements_to_midi(generated_notes_and_chords, \"generated_record.mid\")"
   ]
  },
  {
   "cell_type": "markdown",
   "id": "9341408b-014f-4a1c-b13a-fbd32c70469f",
   "metadata": {},
   "source": [
    "Variable length input"
   ]
  },
  {
   "cell_type": "code",
   "execution_count": 76,
   "id": "a0c52c4c-247e-413a-8494-3bf52c265bf0",
   "metadata": {},
   "outputs": [
    {
     "ename": "ValueError",
     "evalue": "Input 0 is incompatible with layer lstm_17: expected ndim=3, found ndim=4",
     "output_type": "error",
     "traceback": [
      "\u001b[1;31m---------------------------------------------------------------------------\u001b[0m",
      "\u001b[1;31mValueError\u001b[0m                                Traceback (most recent call last)",
      "\u001b[1;32m<ipython-input-76-904b4f8c6ce9>\u001b[0m in \u001b[0;36m<module>\u001b[1;34m\u001b[0m\n\u001b[0;32m      3\u001b[0m \u001b[0mmodel_dec\u001b[0m\u001b[1;33m.\u001b[0m\u001b[0madd\u001b[0m\u001b[1;33m(\u001b[0m\u001b[0mEmbedding\u001b[0m\u001b[1;33m(\u001b[0m\u001b[0mVOCABULARY_SIZE\u001b[0m\u001b[1;33m,\u001b[0m \u001b[0mHIDDEN_UNITS\u001b[0m\u001b[1;33m,\u001b[0m \u001b[0minput_length\u001b[0m\u001b[1;33m=\u001b[0m\u001b[1;32mNone\u001b[0m\u001b[1;33m,\u001b[0m \u001b[0mbatch_input_shape\u001b[0m\u001b[1;33m=\u001b[0m\u001b[1;33m(\u001b[0m\u001b[1;36m1\u001b[0m\u001b[1;33m,\u001b[0m \u001b[1;32mNone\u001b[0m\u001b[1;33m,\u001b[0m  \u001b[1;36m1\u001b[0m\u001b[1;33m)\u001b[0m\u001b[1;33m)\u001b[0m\u001b[1;33m)\u001b[0m\u001b[1;33m\u001b[0m\u001b[1;33m\u001b[0m\u001b[0m\n\u001b[0;32m      4\u001b[0m \u001b[1;31m# LSTM part\u001b[0m\u001b[1;33m\u001b[0m\u001b[1;33m\u001b[0m\u001b[1;33m\u001b[0m\u001b[0m\n\u001b[1;32m----> 5\u001b[1;33m \u001b[0mmodel_dec\u001b[0m\u001b[1;33m.\u001b[0m\u001b[0madd\u001b[0m\u001b[1;33m(\u001b[0m\u001b[0mLSTM\u001b[0m\u001b[1;33m(\u001b[0m\u001b[0mHIDDEN_UNITS\u001b[0m\u001b[1;33m,\u001b[0m \u001b[0mstateful\u001b[0m\u001b[1;33m=\u001b[0m\u001b[1;32mTrue\u001b[0m\u001b[1;33m,\u001b[0m \u001b[0mreturn_sequences\u001b[0m\u001b[1;33m=\u001b[0m\u001b[1;32mTrue\u001b[0m\u001b[1;33m)\u001b[0m\u001b[1;33m)\u001b[0m\u001b[1;33m\u001b[0m\u001b[1;33m\u001b[0m\u001b[0m\n\u001b[0m\u001b[0;32m      6\u001b[0m \u001b[0mmodel_dec\u001b[0m\u001b[1;33m.\u001b[0m\u001b[0madd\u001b[0m\u001b[1;33m(\u001b[0m\u001b[0mLSTM\u001b[0m\u001b[1;33m(\u001b[0m\u001b[0mHIDDEN_UNITS\u001b[0m\u001b[1;33m,\u001b[0m \u001b[0mstateful\u001b[0m\u001b[1;33m=\u001b[0m\u001b[1;32mTrue\u001b[0m\u001b[1;33m)\u001b[0m\u001b[1;33m)\u001b[0m\u001b[1;33m\u001b[0m\u001b[1;33m\u001b[0m\u001b[0m\n\u001b[0;32m      7\u001b[0m \u001b[1;33m\u001b[0m\u001b[0m\n",
      "\u001b[1;32m~\\miniconda3\\envs\\dathoven\\lib\\site-packages\\keras\\engine\\sequential.py\u001b[0m in \u001b[0;36madd\u001b[1;34m(self, layer)\u001b[0m\n\u001b[0;32m    180\u001b[0m                 \u001b[0mself\u001b[0m\u001b[1;33m.\u001b[0m\u001b[0minputs\u001b[0m \u001b[1;33m=\u001b[0m \u001b[0mnetwork\u001b[0m\u001b[1;33m.\u001b[0m\u001b[0mget_source_inputs\u001b[0m\u001b[1;33m(\u001b[0m\u001b[0mself\u001b[0m\u001b[1;33m.\u001b[0m\u001b[0moutputs\u001b[0m\u001b[1;33m[\u001b[0m\u001b[1;36m0\u001b[0m\u001b[1;33m]\u001b[0m\u001b[1;33m)\u001b[0m\u001b[1;33m\u001b[0m\u001b[1;33m\u001b[0m\u001b[0m\n\u001b[0;32m    181\u001b[0m         \u001b[1;32melif\u001b[0m \u001b[0mself\u001b[0m\u001b[1;33m.\u001b[0m\u001b[0moutputs\u001b[0m\u001b[1;33m:\u001b[0m\u001b[1;33m\u001b[0m\u001b[1;33m\u001b[0m\u001b[0m\n\u001b[1;32m--> 182\u001b[1;33m             \u001b[0moutput_tensor\u001b[0m \u001b[1;33m=\u001b[0m \u001b[0mlayer\u001b[0m\u001b[1;33m(\u001b[0m\u001b[0mself\u001b[0m\u001b[1;33m.\u001b[0m\u001b[0moutputs\u001b[0m\u001b[1;33m[\u001b[0m\u001b[1;36m0\u001b[0m\u001b[1;33m]\u001b[0m\u001b[1;33m)\u001b[0m\u001b[1;33m\u001b[0m\u001b[1;33m\u001b[0m\u001b[0m\n\u001b[0m\u001b[0;32m    183\u001b[0m             \u001b[1;32mif\u001b[0m \u001b[0misinstance\u001b[0m\u001b[1;33m(\u001b[0m\u001b[0moutput_tensor\u001b[0m\u001b[1;33m,\u001b[0m \u001b[0mlist\u001b[0m\u001b[1;33m)\u001b[0m\u001b[1;33m:\u001b[0m\u001b[1;33m\u001b[0m\u001b[1;33m\u001b[0m\u001b[0m\n\u001b[0;32m    184\u001b[0m                 raise TypeError('All layers in a Sequential model '\n",
      "\u001b[1;32m~\\miniconda3\\envs\\dathoven\\lib\\site-packages\\keras\\layers\\recurrent.py\u001b[0m in \u001b[0;36m__call__\u001b[1;34m(self, inputs, initial_state, constants, **kwargs)\u001b[0m\n\u001b[0;32m    539\u001b[0m \u001b[1;33m\u001b[0m\u001b[0m\n\u001b[0;32m    540\u001b[0m         \u001b[1;32mif\u001b[0m \u001b[0minitial_state\u001b[0m \u001b[1;32mis\u001b[0m \u001b[1;32mNone\u001b[0m \u001b[1;32mand\u001b[0m \u001b[0mconstants\u001b[0m \u001b[1;32mis\u001b[0m \u001b[1;32mNone\u001b[0m\u001b[1;33m:\u001b[0m\u001b[1;33m\u001b[0m\u001b[1;33m\u001b[0m\u001b[0m\n\u001b[1;32m--> 541\u001b[1;33m             \u001b[1;32mreturn\u001b[0m \u001b[0msuper\u001b[0m\u001b[1;33m(\u001b[0m\u001b[0mRNN\u001b[0m\u001b[1;33m,\u001b[0m \u001b[0mself\u001b[0m\u001b[1;33m)\u001b[0m\u001b[1;33m.\u001b[0m\u001b[0m__call__\u001b[0m\u001b[1;33m(\u001b[0m\u001b[0minputs\u001b[0m\u001b[1;33m,\u001b[0m \u001b[1;33m**\u001b[0m\u001b[0mkwargs\u001b[0m\u001b[1;33m)\u001b[0m\u001b[1;33m\u001b[0m\u001b[1;33m\u001b[0m\u001b[0m\n\u001b[0m\u001b[0;32m    542\u001b[0m \u001b[1;33m\u001b[0m\u001b[0m\n\u001b[0;32m    543\u001b[0m         \u001b[1;31m# If any of `initial_state` or `constants` are specified and are Keras\u001b[0m\u001b[1;33m\u001b[0m\u001b[1;33m\u001b[0m\u001b[1;33m\u001b[0m\u001b[0m\n",
      "\u001b[1;32m~\\miniconda3\\envs\\dathoven\\lib\\site-packages\\keras\\engine\\base_layer.py\u001b[0m in \u001b[0;36m__call__\u001b[1;34m(self, inputs, **kwargs)\u001b[0m\n\u001b[0;32m    444\u001b[0m                 \u001b[1;31m# Raise exceptions in case the input is not compatible\u001b[0m\u001b[1;33m\u001b[0m\u001b[1;33m\u001b[0m\u001b[1;33m\u001b[0m\u001b[0m\n\u001b[0;32m    445\u001b[0m                 \u001b[1;31m# with the input_spec specified in the layer constructor.\u001b[0m\u001b[1;33m\u001b[0m\u001b[1;33m\u001b[0m\u001b[1;33m\u001b[0m\u001b[0m\n\u001b[1;32m--> 446\u001b[1;33m                 \u001b[0mself\u001b[0m\u001b[1;33m.\u001b[0m\u001b[0massert_input_compatibility\u001b[0m\u001b[1;33m(\u001b[0m\u001b[0minputs\u001b[0m\u001b[1;33m)\u001b[0m\u001b[1;33m\u001b[0m\u001b[1;33m\u001b[0m\u001b[0m\n\u001b[0m\u001b[0;32m    447\u001b[0m \u001b[1;33m\u001b[0m\u001b[0m\n\u001b[0;32m    448\u001b[0m                 \u001b[1;31m# Collect input shapes to build layer.\u001b[0m\u001b[1;33m\u001b[0m\u001b[1;33m\u001b[0m\u001b[1;33m\u001b[0m\u001b[0m\n",
      "\u001b[1;32m~\\miniconda3\\envs\\dathoven\\lib\\site-packages\\keras\\engine\\base_layer.py\u001b[0m in \u001b[0;36massert_input_compatibility\u001b[1;34m(self, inputs)\u001b[0m\n\u001b[0;32m    340\u001b[0m                                      \u001b[0mself\u001b[0m\u001b[1;33m.\u001b[0m\u001b[0mname\u001b[0m \u001b[1;33m+\u001b[0m \u001b[1;34m': expected ndim='\u001b[0m \u001b[1;33m+\u001b[0m\u001b[1;33m\u001b[0m\u001b[1;33m\u001b[0m\u001b[0m\n\u001b[0;32m    341\u001b[0m                                      \u001b[0mstr\u001b[0m\u001b[1;33m(\u001b[0m\u001b[0mspec\u001b[0m\u001b[1;33m.\u001b[0m\u001b[0mndim\u001b[0m\u001b[1;33m)\u001b[0m \u001b[1;33m+\u001b[0m \u001b[1;34m', found ndim='\u001b[0m \u001b[1;33m+\u001b[0m\u001b[1;33m\u001b[0m\u001b[1;33m\u001b[0m\u001b[0m\n\u001b[1;32m--> 342\u001b[1;33m                                      str(K.ndim(x)))\n\u001b[0m\u001b[0;32m    343\u001b[0m             \u001b[1;32mif\u001b[0m \u001b[0mspec\u001b[0m\u001b[1;33m.\u001b[0m\u001b[0mmax_ndim\u001b[0m \u001b[1;32mis\u001b[0m \u001b[1;32mnot\u001b[0m \u001b[1;32mNone\u001b[0m\u001b[1;33m:\u001b[0m\u001b[1;33m\u001b[0m\u001b[1;33m\u001b[0m\u001b[0m\n\u001b[0;32m    344\u001b[0m                 \u001b[0mndim\u001b[0m \u001b[1;33m=\u001b[0m \u001b[0mK\u001b[0m\u001b[1;33m.\u001b[0m\u001b[0mndim\u001b[0m\u001b[1;33m(\u001b[0m\u001b[0mx\u001b[0m\u001b[1;33m)\u001b[0m\u001b[1;33m\u001b[0m\u001b[1;33m\u001b[0m\u001b[0m\n",
      "\u001b[1;31mValueError\u001b[0m: Input 0 is incompatible with layer lstm_17: expected ndim=3, found ndim=4"
     ]
    }
   ],
   "source": [
    "# Build a decoding model (input length 1, batch size 1, stateful)\n",
    "model_dec = Sequential()\n",
    "model_dec.add(Embedding(VOCABULARY_SIZE, HIDDEN_UNITS, input_length=None, batch_input_shape=(1, None,  1)))\n",
    "# LSTM part\n",
    "model_dec.add(LSTM(HIDDEN_UNITS, stateful=True, return_sequences=True))\n",
    "model_dec.add(LSTM(HIDDEN_UNITS, stateful=True))\n",
    "\n",
    "# project back to vocabulary\n",
    "model_dec.add(Dense(VOCABULARY_SIZE, activation='softmax'))\n",
    "model_dec.compile(loss='sparse_categorical_crossentropy', optimizer='adam')\n",
    "model_dec.summary()\n",
    "# set weights from training model\n",
    "#model_dec.set_weights(model_train.get_weights())\n",
    "model_dec.load_weights(\"model-weights.h5\")"
   ]
  },
  {
   "cell_type": "code",
   "execution_count": null,
   "id": "72808fee-40e6-4db3-8dc1-9a876dec6af8",
   "metadata": {},
   "outputs": [],
   "source": []
  },
  {
   "cell_type": "code",
   "execution_count": null,
   "id": "f828e615-bfeb-402c-a725-9e0279c620a2",
   "metadata": {},
   "outputs": [],
   "source": []
  },
  {
   "cell_type": "code",
   "execution_count": null,
   "id": "630f6faf-a432-410b-89f7-dafddb67deda",
   "metadata": {},
   "outputs": [],
   "source": []
  },
  {
   "cell_type": "markdown",
   "id": "78efa471-d343-4fdd-9c7e-ab4574a71eba",
   "metadata": {},
   "source": [
    "## Relative tone"
   ]
  },
  {
   "cell_type": "markdown",
   "id": "c44dfd51-7c30-4eb8-84e0-862aca8cde95",
   "metadata": {},
   "source": [
    "We want to transform a song to a series of semitone jumps, in this way we standarize songs so the model learns the relationship between notes instead of their absolute pitch."
   ]
  },
  {
   "cell_type": "code",
   "execution_count": 201,
   "id": "20fdcc83-e223-42ae-b995-3c2ef1fed92b",
   "metadata": {},
   "outputs": [],
   "source": [
    "def stream_to_array_of_notes_strings (stream):\n",
    "    result = []\n",
    "    for element in stream.flat.notes:\n",
    "        stringRepresentationOfElement = ''\n",
    "        if isinstance(element, note.Note):\n",
    "            stringRepresentationOfElement = element.pitch.ps\n",
    "        else: # it's a chord\n",
    "            stringRepresentationOfElement = [note.pitch.ps for note in element.notes][0]\n",
    "            #stringRepresentationOfElement = ' '.join(listOfNotesWithOctaves)\n",
    "        result.append(stringRepresentationOfElement)\n",
    "    return result"
   ]
  },
  {
   "cell_type": "code",
   "execution_count": 202,
   "id": "5be61297-f436-4064-b47e-aa67a6879b6b",
   "metadata": {},
   "outputs": [],
   "source": [
    "def from_midi_to_array_of_notes (midi_path):\n",
    "    return stream_to_array_of_notes_strings(get_stream_from_midi_without_drums(midi_path))"
   ]
  },
  {
   "cell_type": "code",
   "execution_count": 206,
   "id": "a8036471-17e3-4c89-9d4a-8e83881c43b5",
   "metadata": {},
   "outputs": [],
   "source": [
    "def from_pitches_to_intervals (array_of_pitches):\n",
    "    intervals = []\n",
    "    for i in range(1,len(array_of_pitches) - 1):\n",
    "        intervals.append(array_of_pitches[i] - array_of_pitches[i-1])\n",
    "    return intervals"
   ]
  },
  {
   "cell_type": "code",
   "execution_count": 208,
   "id": "791434d1-67d8-4af5-93fb-d01bf9399320",
   "metadata": {},
   "outputs": [],
   "source": [
    "def from_midi_to_array_of_intervals(midi_path):\n",
    "    return from_pitches_to_intervals(from_midi_to_array_of_notes(midi_path))"
   ]
  },
  {
   "cell_type": "code",
   "execution_count": 209,
   "id": "bed60bbf-10f0-4ed0-be98-524849fdc947",
   "metadata": {},
   "outputs": [],
   "source": [
    "def get_folder_songs_intervals(folder_path):\n",
    "    songs = []\n",
    "    for file in glob.glob(folder_path):\n",
    "        songs.append(from_midi_to_array_of_intervals(file))\n",
    "    return songs"
   ]
  },
  {
   "cell_type": "code",
   "execution_count": null,
   "id": "99548fab-91ef-4532-8400-eafb24f10402",
   "metadata": {},
   "outputs": [],
   "source": []
  },
  {
   "cell_type": "code",
   "execution_count": 210,
   "id": "2a1afc8a-ce1e-49e3-8e5a-d085518918fb",
   "metadata": {},
   "outputs": [
    {
     "data": {
      "text/plain": [
       "[-7.0, 9.0, -2.0, -3.0, 3.0]"
      ]
     },
     "execution_count": 210,
     "metadata": {},
     "output_type": "execute_result"
    }
   ],
   "source": [
    "from_midi_to_array_of_intervals('data/examples/silent_night_easy.mid')[:5]"
   ]
  },
  {
   "cell_type": "code",
   "execution_count": 222,
   "id": "b69c70c5-824b-42a9-95e7-4fb4bf3411a3",
   "metadata": {},
   "outputs": [],
   "source": [
    "def from_array_of_intervals_to_pitches (root_pitch, intervals):\n",
    "    pitches = [root_pitch]\n",
    "    for interval in intervals:\n",
    "        pitches.append(pitches[-1] + interval)\n",
    "    return pitches"
   ]
  },
  {
   "cell_type": "code",
   "execution_count": 224,
   "id": "b613836a-9c64-471f-bbdc-9aa964f89f02",
   "metadata": {},
   "outputs": [],
   "source": [
    "def from_pitches_to_midi (pitches, midi_path):\n",
    "    streamResult = stream.Stream()\n",
    "    for pitch in pitches:\n",
    "            streamResult.append(note.Note(pitch))\n",
    "            \n",
    "    streamResult.write('midi', fp= midi_path)"
   ]
  },
  {
   "cell_type": "code",
   "execution_count": 225,
   "id": "87123ea2-4123-4dfc-9b5d-8cfb41beb2b6",
   "metadata": {},
   "outputs": [],
   "source": [
    "def from_intervals_to_midi( root_pitch, intervals, midi_path):\n",
    "    pitches = from_array_of_intervals_to_pitches(root_pitch, intervals)\n",
    "    from_pitches_to_midi(pitches, midi_path)"
   ]
  },
  {
   "cell_type": "code",
   "execution_count": 227,
   "id": "6d8e0315-c2f6-46e9-8076-fe37d770563e",
   "metadata": {},
   "outputs": [],
   "source": [
    "from_intervals_to_midi(60, from_midi_to_array_of_intervals('data/examples/silent_night_easy.mid'),'test_intervals_silent_night.mid') "
   ]
  },
  {
   "cell_type": "code",
   "execution_count": 188,
   "id": "76c134f2-92d1-49a3-8eab-40ab66c85e9e",
   "metadata": {},
   "outputs": [],
   "source": [
    "from_array_of_elements_to_midi(from_midi_to_array_of_notes('data/examples/silent_night_easy.mid'), 'test_silent_night.mid')"
   ]
  },
  {
   "cell_type": "code",
   "execution_count": null,
   "id": "6f8ef22d-e3a2-4b5f-a836-52786f37668b",
   "metadata": {},
   "outputs": [],
   "source": []
  },
  {
   "cell_type": "code",
   "execution_count": 228,
   "id": "d6249b37-77eb-4429-aacd-14c9d64534c1",
   "metadata": {},
   "outputs": [],
   "source": [
    "# Test\n",
    "songs = get_folder_songs_intervals(\"data/examples/*.mid\")"
   ]
  },
  {
   "cell_type": "code",
   "execution_count": 231,
   "id": "dee18a75-38a5-4d76-b407-1b57fc854fdb",
   "metadata": {},
   "outputs": [],
   "source": [
    "interval_to_number = {}\n",
    "number_to_interval = {}"
   ]
  },
  {
   "cell_type": "code",
   "execution_count": 232,
   "id": "fe8bee8c-f93e-44f7-8120-627caa64e245",
   "metadata": {},
   "outputs": [],
   "source": [
    "for song in songs:\n",
    "    for element in song:\n",
    "        if not element in interval_to_number:\n",
    "            number_to_interval[len(interval_to_number)+1] = element\n",
    "            interval_to_number[element] = len(interval_to_number)+1"
   ]
  },
  {
   "cell_type": "code",
   "execution_count": 233,
   "id": "f73a5bad-2342-4a65-b286-a4da6821b709",
   "metadata": {},
   "outputs": [
    {
     "data": {
      "text/plain": [
       "[1, 2, 3, 1, 2, 3, 1, 2, 3, 2]"
      ]
     },
     "execution_count": 233,
     "metadata": {},
     "output_type": "execute_result"
    }
   ],
   "source": [
    "[interval_to_number[element] for element in songs[0]][:10]"
   ]
  },
  {
   "cell_type": "code",
   "execution_count": 234,
   "id": "a50a9d43-3da3-46d2-b14d-07e9b857adbf",
   "metadata": {},
   "outputs": [
    {
     "data": {
      "text/plain": [
       "109"
      ]
     },
     "execution_count": 234,
     "metadata": {},
     "output_type": "execute_result"
    }
   ],
   "source": [
    "len(interval_to_number)"
   ]
  },
  {
   "cell_type": "code",
   "execution_count": 235,
   "id": "de1dd562-9df7-42e8-8be0-d480b6a9d4ee",
   "metadata": {},
   "outputs": [],
   "source": [
    "train_set = [[interval_to_number[element] for element in song] for song in songs]"
   ]
  },
  {
   "cell_type": "code",
   "execution_count": 236,
   "id": "76e813bb-2a04-4141-ab72-9fa6306b979b",
   "metadata": {},
   "outputs": [
    {
     "name": "stdout",
     "output_type": "stream",
     "text": [
      "Total Training Corpus:\n",
      "X: (6875, 30)\n",
      "y: (6875,)\n",
      "\n",
      "Looking at one example:\n",
      "X: [ 4  1  2  3  1  2  3  2  4  1  5  6  1  5  6  1  5  6  1  5  6  7  8  9\n",
      " 10  1  9 10  1  9]\n",
      "y: 10\n"
     ]
    }
   ],
   "source": [
    "# Slice the sequences:\n",
    "slices = []\n",
    "for seq in train_set:\n",
    "    slices +=  slice_sequence_examples(seq, SEQ_LEN+1)\n",
    "\n",
    "# Split the sequences into Xs and ys:\n",
    "X, y = seq_to_singleton_format(slices)\n",
    "# Convert into numpy arrays.\n",
    "X = np.array(X)\n",
    "y = np.array(y)\n",
    "\n",
    "# Look at the size of the training corpus:\n",
    "print(\"Total Training Corpus:\")\n",
    "print(\"X:\", X.shape)\n",
    "print(\"y:\", y.shape)\n",
    "print()\n",
    "\n",
    "# Have a look at one example:\n",
    "print(\"Looking at one example:\")\n",
    "print(\"X:\", X[95])\n",
    "print(\"y:\", y[95])\n",
    "# Note: Music data is sparser than text, there's lots of 129s (do nothing)\n",
    "# and few examples of any particular note on.\n",
    "# As a result, it's a bit harder to train a melody-rnn."
   ]
  },
  {
   "cell_type": "code",
   "execution_count": 237,
   "id": "5e91d8ed-36fb-44ce-801c-392f04ec4b54",
   "metadata": {},
   "outputs": [
    {
     "name": "stdout",
     "output_type": "stream",
     "text": [
      "Build model...\n",
      "Model: \"sequential_5\"\n",
      "_________________________________________________________________\n",
      "Layer (type)                 Output Shape              Param #   \n",
      "=================================================================\n",
      "embedding_5 (Embedding)      (None, 30, 256)           123392    \n",
      "_________________________________________________________________\n",
      "lstm_9 (LSTM)                (None, 30, 256)           525312    \n",
      "_________________________________________________________________\n",
      "lstm_10 (LSTM)               (None, 256)               525312    \n",
      "_________________________________________________________________\n",
      "dense_5 (Dense)              (None, 482)               123874    \n",
      "=================================================================\n",
      "Total params: 1,297,890\n",
      "Trainable params: 1,297,890\n",
      "Non-trainable params: 0\n",
      "_________________________________________________________________\n"
     ]
    }
   ],
   "source": [
    "# build the model: 2-layer LSTM network.\n",
    "# Using Embedding layer and sparse_categorical_crossentropy loss function \n",
    "# to save some effort in preparing data.\n",
    "\n",
    "print('Build model...')\n",
    "model_interval = Sequential()\n",
    "model_interval.add(Embedding(VOCABULARY_SIZE, HIDDEN_UNITS, input_length=SEQ_LEN, mask_zero=True))\n",
    "\n",
    "# LSTM part\n",
    "model_interval.add(LSTM(HIDDEN_UNITS, return_sequences=True))\n",
    "model_interval.add(LSTM(HIDDEN_UNITS))\n",
    "\n",
    "# Project back to vocabulary\n",
    "model_interval.add(Dense(VOCABULARY_SIZE, activation='softmax'))\n",
    "model_interval.compile(loss='sparse_categorical_crossentropy', optimizer='adam')\n",
    "model_interval.summary()"
   ]
  },
  {
   "cell_type": "code",
   "execution_count": null,
   "id": "ed95723b-2a70-4a94-b6c5-8760f24f25e7",
   "metadata": {},
   "outputs": [],
   "source": []
  },
  {
   "cell_type": "code",
   "execution_count": 238,
   "id": "20270bc2-55cd-4578-be32-65eef5176ef0",
   "metadata": {},
   "outputs": [
    {
     "name": "stdout",
     "output_type": "stream",
     "text": [
      "Train on 6187 samples, validate on 688 samples\n",
      "Epoch 1/10\n",
      "6187/6187 [==============================] - 76s 12ms/step - loss: 4.2093 - val_loss: 4.0961\n",
      "Epoch 2/10\n",
      "6187/6187 [==============================] - 71s 12ms/step - loss: 3.9642 - val_loss: 4.0126\n",
      "Epoch 3/10\n",
      "6187/6187 [==============================] - 73s 12ms/step - loss: 3.8047 - val_loss: 3.9826\n",
      "Epoch 4/10\n",
      "6187/6187 [==============================] - 74s 12ms/step - loss: 3.6604 - val_loss: 3.9558\n",
      "Epoch 5/10\n",
      "6187/6187 [==============================] - 73s 12ms/step - loss: 3.4705 - val_loss: 3.8878\n",
      "Epoch 6/10\n",
      "6187/6187 [==============================] - 72s 12ms/step - loss: 3.3567 - val_loss: 3.6768\n",
      "Epoch 7/10\n",
      "6187/6187 [==============================] - 72s 12ms/step - loss: 3.2039 - val_loss: 3.6514\n",
      "Epoch 8/10\n",
      "6187/6187 [==============================] - 73s 12ms/step - loss: 3.0958 - val_loss: 3.5687\n",
      "Epoch 9/10\n",
      "6187/6187 [==============================] - 72s 12ms/step - loss: 3.0112 - val_loss: 3.4959\n",
      "Epoch 10/10\n",
      "6187/6187 [==============================] - 73s 12ms/step - loss: 2.9918 - val_loss: 3.4674\n"
     ]
    }
   ],
   "source": [
    "history = model_interval.fit(X, y,validation_split = 0.1,  batch_size=BATCH_SIZE, epochs=EPOCHS)"
   ]
  },
  {
   "cell_type": "code",
   "execution_count": 239,
   "id": "789006e5-795e-44c9-a001-7fd3b2779b7a",
   "metadata": {},
   "outputs": [
    {
     "data": {
      "image/png": "[encoded data removed]",
      "text/plain": [
       "<Figure size 432x288 with 1 Axes>"
      ]
     },
     "metadata": {
      "image/png": {
       "height": 277,
       "width": 385
      },
      "needs_background": "light"
     },
     "output_type": "display_data"
    }
   ],
   "source": [
    "plt.plot(history.history['loss'])\n",
    "plt.plot(history.history['val_loss'])\n",
    "plt.title('model loss')\n",
    "plt.ylabel('loss')\n",
    "plt.xlabel('epoch')\n",
    "plt.legend(['train', 'val'], loc='upper left')\n",
    "plt.show()"
   ]
  },
  {
   "cell_type": "code",
   "execution_count": 248,
   "id": "c4b4555f-239e-4159-ae33-2d8615933400",
   "metadata": {},
   "outputs": [
    {
     "data": {
      "text/plain": [
       "[1,\n",
       " 1,\n",
       " 7,\n",
       " 1,\n",
       " 16,\n",
       " 96,\n",
       " 33,\n",
       " 27,\n",
       " 1,\n",
       " 33,\n",
       " 1,\n",
       " 27,\n",
       " 33,\n",
       " 16,\n",
       " 1,\n",
       " 19,\n",
       " 96,\n",
       " 16,\n",
       " 1,\n",
       " 16,\n",
       " 16,\n",
       " 19,\n",
       " 96,\n",
       " 1,\n",
       " 7,\n",
       " 33,\n",
       " 16,\n",
       " 19,\n",
       " 19,\n",
       " 1,\n",
       " 16,\n",
       " 19,\n",
       " 1,\n",
       " 16,\n",
       " 19,\n",
       " 1,\n",
       " 96,\n",
       " 1,\n",
       " 16,\n",
       " 19,\n",
       " 16,\n",
       " 16,\n",
       " 16,\n",
       " 96,\n",
       " 1,\n",
       " 16,\n",
       " 96,\n",
       " 33,\n",
       " 16,\n",
       " 19]"
      ]
     },
     "execution_count": 248,
     "metadata": {},
     "output_type": "execute_result"
    }
   ],
   "source": [
    "generated_vector = sample_seq([1], SEQ_LEN, model_interval, number_to_interval, 50)\n",
    "generated_vector"
   ]
  },
  {
   "cell_type": "code",
   "execution_count": 249,
   "id": "139c0712-cc62-4c06-a6de-565245ddafde",
   "metadata": {},
   "outputs": [
    {
     "data": {
      "text/plain": [
       "[0.0,\n",
       " 0.0,\n",
       " -2.0,\n",
       " 0.0,\n",
       " -12.0,\n",
       " 13.0,\n",
       " -24.0,\n",
       " 24.0,\n",
       " 0.0,\n",
       " -24.0,\n",
       " 0.0,\n",
       " 24.0,\n",
       " -24.0,\n",
       " -12.0,\n",
       " 0.0,\n",
       " 12.0,\n",
       " 13.0,\n",
       " -12.0,\n",
       " 0.0,\n",
       " -12.0,\n",
       " -12.0,\n",
       " 12.0,\n",
       " 13.0,\n",
       " 0.0,\n",
       " -2.0,\n",
       " -24.0,\n",
       " -12.0,\n",
       " 12.0,\n",
       " 12.0,\n",
       " 0.0,\n",
       " -12.0,\n",
       " 12.0,\n",
       " 0.0,\n",
       " -12.0,\n",
       " 12.0,\n",
       " 0.0,\n",
       " 13.0,\n",
       " 0.0,\n",
       " -12.0,\n",
       " 12.0,\n",
       " -12.0,\n",
       " -12.0,\n",
       " -12.0,\n",
       " 13.0,\n",
       " 0.0,\n",
       " -12.0,\n",
       " 13.0,\n",
       " -24.0,\n",
       " -12.0,\n",
       " 12.0]"
      ]
     },
     "execution_count": 249,
     "metadata": {},
     "output_type": "execute_result"
    }
   ],
   "source": [
    "generated_intervals = [number_to_interval[number] for number in generated_vector]\n",
    "generated_intervals"
   ]
  },
  {
   "cell_type": "code",
   "execution_count": null,
   "id": "ff212b5e-028c-4da6-affc-51e6476e8cfa",
   "metadata": {},
   "outputs": [],
   "source": []
  },
  {
   "cell_type": "code",
   "execution_count": 250,
   "id": "9ba7e2be-e75d-4f6b-9d84-82898a77f2fd",
   "metadata": {},
   "outputs": [],
   "source": [
    "from_intervals_to_midi(70, generated_intervals,'generated_record_intervals.mid') "
   ]
  },
  {
   "cell_type": "code",
   "execution_count": null,
   "id": "01b3ae87-b47c-4a8f-ba5f-b57f91441931",
   "metadata": {},
   "outputs": [],
   "source": []
  },
  {
   "cell_type": "markdown",
   "id": "80b2225c-e65c-4490-8b8b-06946003bbfb",
   "metadata": {},
   "source": [
    "## Partes sueltas:"
   ]
  },
  {
   "cell_type": "code",
   "execution_count": 59,
   "id": "0ca1ccad-9803-4f07-95c8-59533be10e05",
   "metadata": {},
   "outputs": [
    {
     "ename": "NameError",
     "evalue": "name 'notes' is not defined",
     "output_type": "error",
     "traceback": [
      "\u001b[1;31m---------------------------------------------------------------------------\u001b[0m",
      "\u001b[1;31mNameError\u001b[0m                                 Traceback (most recent call last)",
      "\u001b[1;32m<ipython-input-59-d70a6b196f0a>\u001b[0m in \u001b[0;36m<module>\u001b[1;34m\u001b[0m\n\u001b[1;32m----> 1\u001b[1;33m \u001b[0mpitches\u001b[0m \u001b[1;33m=\u001b[0m \u001b[1;33m[\u001b[0m\u001b[0mnt\u001b[0m\u001b[1;33m.\u001b[0m\u001b[0mpitch\u001b[0m\u001b[1;33m.\u001b[0m\u001b[0mdiatonicNoteNum\u001b[0m \u001b[1;32mfor\u001b[0m \u001b[0mnt\u001b[0m \u001b[1;32min\u001b[0m \u001b[0mnotes\u001b[0m\u001b[1;33m]\u001b[0m\u001b[1;33m\u001b[0m\u001b[1;33m\u001b[0m\u001b[0m\n\u001b[0m\u001b[0;32m      2\u001b[0m \u001b[0mpitches\u001b[0m\u001b[1;33m[\u001b[0m\u001b[1;33m:\u001b[0m\u001b[1;36m12\u001b[0m\u001b[1;33m]\u001b[0m\u001b[1;33m\u001b[0m\u001b[1;33m\u001b[0m\u001b[0m\n",
      "\u001b[1;31mNameError\u001b[0m: name 'notes' is not defined"
     ]
    }
   ],
   "source": [
    "pitches = [nt.pitch.diatonicNoteNum for nt in notes]\n",
    "pitches[:12]"
   ]
  },
  {
   "cell_type": "code",
   "execution_count": 169,
   "id": "0eac49f1-7222-42f0-8dcd-73d8f2d9f274",
   "metadata": {},
   "outputs": [],
   "source": [
    "intervals = [pitches[i+1] - pitches[i] for i in range(0, len(pitches)-1)]"
   ]
  },
  {
   "cell_type": "code",
   "execution_count": 249,
   "id": "118decf9-090f-4c01-8a6e-a01d92a203bd",
   "metadata": {},
   "outputs": [],
   "source": [
    "n_past_notes = 10\n",
    "\n",
    "X = []\n",
    "y = []\n",
    "for i in range(n_past_notes+1, len(intervals)):\n",
    "    X.append(intervals[i-n_past_notes-1:i-1])\n",
    "    y.append(intervals[i])\n"
   ]
  },
  {
   "cell_type": "code",
   "execution_count": 250,
   "id": "f1324b61-9f53-4b8e-8125-cd955d016753",
   "metadata": {},
   "outputs": [],
   "source": [
    "X = np.array(X)\n",
    "y = np.array(y)"
   ]
  },
  {
   "cell_type": "code",
   "execution_count": 251,
   "id": "35c17129-356e-492e-8160-777f18ced0db",
   "metadata": {},
   "outputs": [
    {
     "data": {
      "text/plain": [
       "array([ -1,  10, -11,  11,  -2,  -9,   0,  10,  -7,   7,  -3,  -4,   5,\n",
       "        -9,   9,   2, -11,  10,  -1,  -1,  -4,   5,  -1,  -2,  -2,   5,\n",
       "        -9,   9,   2, -11,  10,  -1,  -1,  -4,   5,  -1,  -2,  -2,  -1,\n",
       "        -1,  10, -11,  11,   2, -13,  11,  -2,   1,   2,  -9,   7,  -7,\n",
       "         4,  -2,   2,  -7,   6,  -2,  -1])"
      ]
     },
     "execution_count": 251,
     "metadata": {},
     "output_type": "execute_result"
    }
   ],
   "source": [
    "y"
   ]
  },
  {
   "cell_type": "code",
   "execution_count": 252,
   "id": "fc86266a-6225-4442-9b3d-6c626682b45b",
   "metadata": {},
   "outputs": [],
   "source": [
    "y = y + 25*np.ones(len(y))"
   ]
  },
  {
   "cell_type": "code",
   "execution_count": 253,
   "id": "8c1bd7d8-00fb-407d-9f6b-05631767fef5",
   "metadata": {},
   "outputs": [
    {
     "data": {
      "text/plain": [
       "array([24., 35., 14., 36., 23., 16., 25., 35., 18., 32., 22., 21., 30.,\n",
       "       16., 34., 27., 14., 35., 24., 24., 21., 30., 24., 23., 23., 30.,\n",
       "       16., 34., 27., 14., 35., 24., 24., 21., 30., 24., 23., 23., 24.,\n",
       "       24., 35., 14., 36., 27., 12., 36., 23., 26., 27., 16., 32., 18.,\n",
       "       29., 23., 27., 18., 31., 23., 24.])"
      ]
     },
     "execution_count": 253,
     "metadata": {},
     "output_type": "execute_result"
    }
   ],
   "source": [
    "y"
   ]
  },
  {
   "cell_type": "code",
   "execution_count": 255,
   "id": "4270e54d-e280-484d-b633-ed9c15252be7",
   "metadata": {},
   "outputs": [],
   "source": [
    "from keras.utils import np_utils\n",
    "y = np_utils.to_categorical(y, num_classes=50)"
   ]
  },
  {
   "cell_type": "code",
   "execution_count": 258,
   "id": "4f22baed-e7dc-44c2-8c24-990fdb6e9789",
   "metadata": {},
   "outputs": [
    {
     "data": {
      "text/plain": [
       "(59, 10)"
      ]
     },
     "execution_count": 258,
     "metadata": {},
     "output_type": "execute_result"
    }
   ],
   "source": [
    "X.shape"
   ]
  },
  {
   "cell_type": "code",
   "execution_count": 259,
   "id": "0245ed57-beda-47f0-94a7-f7d98bac98fa",
   "metadata": {},
   "outputs": [],
   "source": [
    "n_features = 1"
   ]
  },
  {
   "cell_type": "code",
   "execution_count": 260,
   "id": "fe399119-565d-41b4-a43d-d8b8cbe0abe4",
   "metadata": {},
   "outputs": [],
   "source": [
    "X = X.reshape((X.shape[0], X.shape[1], n_features))"
   ]
  },
  {
   "cell_type": "code",
   "execution_count": 180,
   "id": "156049dd-b925-408b-b5f3-3406493ad52a",
   "metadata": {},
   "outputs": [
    {
     "name": "stderr",
     "output_type": "stream",
     "text": [
      "C:\\Users\\jvela\\miniconda3\\envs\\dathoven\\lib\\site-packages\\tensorflow\\python\\framework\\dtypes.py:516: FutureWarning: Passing (type, 1) or '1type' as a synonym of type is deprecated; in a future version of numpy, it will be understood as (type, (1,)) / '(1,)type'.\n",
      "  _np_qint8 = np.dtype([(\"qint8\", np.int8, 1)])\n",
      "C:\\Users\\jvela\\miniconda3\\envs\\dathoven\\lib\\site-packages\\tensorflow\\python\\framework\\dtypes.py:517: FutureWarning: Passing (type, 1) or '1type' as a synonym of type is deprecated; in a future version of numpy, it will be understood as (type, (1,)) / '(1,)type'.\n",
      "  _np_quint8 = np.dtype([(\"quint8\", np.uint8, 1)])\n",
      "C:\\Users\\jvela\\miniconda3\\envs\\dathoven\\lib\\site-packages\\tensorflow\\python\\framework\\dtypes.py:518: FutureWarning: Passing (type, 1) or '1type' as a synonym of type is deprecated; in a future version of numpy, it will be understood as (type, (1,)) / '(1,)type'.\n",
      "  _np_qint16 = np.dtype([(\"qint16\", np.int16, 1)])\n",
      "C:\\Users\\jvela\\miniconda3\\envs\\dathoven\\lib\\site-packages\\tensorflow\\python\\framework\\dtypes.py:519: FutureWarning: Passing (type, 1) or '1type' as a synonym of type is deprecated; in a future version of numpy, it will be understood as (type, (1,)) / '(1,)type'.\n",
      "  _np_quint16 = np.dtype([(\"quint16\", np.uint16, 1)])\n",
      "C:\\Users\\jvela\\miniconda3\\envs\\dathoven\\lib\\site-packages\\tensorflow\\python\\framework\\dtypes.py:520: FutureWarning: Passing (type, 1) or '1type' as a synonym of type is deprecated; in a future version of numpy, it will be understood as (type, (1,)) / '(1,)type'.\n",
      "  _np_qint32 = np.dtype([(\"qint32\", np.int32, 1)])\n",
      "C:\\Users\\jvela\\miniconda3\\envs\\dathoven\\lib\\site-packages\\tensorflow\\python\\framework\\dtypes.py:525: FutureWarning: Passing (type, 1) or '1type' as a synonym of type is deprecated; in a future version of numpy, it will be understood as (type, (1,)) / '(1,)type'.\n",
      "  np_resource = np.dtype([(\"resource\", np.ubyte, 1)])\n",
      "C:\\Users\\jvela\\miniconda3\\envs\\dathoven\\lib\\site-packages\\tensorboard\\compat\\tensorflow_stub\\dtypes.py:541: FutureWarning: Passing (type, 1) or '1type' as a synonym of type is deprecated; in a future version of numpy, it will be understood as (type, (1,)) / '(1,)type'.\n",
      "  _np_qint8 = np.dtype([(\"qint8\", np.int8, 1)])\n",
      "C:\\Users\\jvela\\miniconda3\\envs\\dathoven\\lib\\site-packages\\tensorboard\\compat\\tensorflow_stub\\dtypes.py:542: FutureWarning: Passing (type, 1) or '1type' as a synonym of type is deprecated; in a future version of numpy, it will be understood as (type, (1,)) / '(1,)type'.\n",
      "  _np_quint8 = np.dtype([(\"quint8\", np.uint8, 1)])\n",
      "C:\\Users\\jvela\\miniconda3\\envs\\dathoven\\lib\\site-packages\\tensorboard\\compat\\tensorflow_stub\\dtypes.py:543: FutureWarning: Passing (type, 1) or '1type' as a synonym of type is deprecated; in a future version of numpy, it will be understood as (type, (1,)) / '(1,)type'.\n",
      "  _np_qint16 = np.dtype([(\"qint16\", np.int16, 1)])\n",
      "C:\\Users\\jvela\\miniconda3\\envs\\dathoven\\lib\\site-packages\\tensorboard\\compat\\tensorflow_stub\\dtypes.py:544: FutureWarning: Passing (type, 1) or '1type' as a synonym of type is deprecated; in a future version of numpy, it will be understood as (type, (1,)) / '(1,)type'.\n",
      "  _np_quint16 = np.dtype([(\"quint16\", np.uint16, 1)])\n",
      "C:\\Users\\jvela\\miniconda3\\envs\\dathoven\\lib\\site-packages\\tensorboard\\compat\\tensorflow_stub\\dtypes.py:545: FutureWarning: Passing (type, 1) or '1type' as a synonym of type is deprecated; in a future version of numpy, it will be understood as (type, (1,)) / '(1,)type'.\n",
      "  _np_qint32 = np.dtype([(\"qint32\", np.int32, 1)])\n",
      "C:\\Users\\jvela\\miniconda3\\envs\\dathoven\\lib\\site-packages\\tensorboard\\compat\\tensorflow_stub\\dtypes.py:550: FutureWarning: Passing (type, 1) or '1type' as a synonym of type is deprecated; in a future version of numpy, it will be understood as (type, (1,)) / '(1,)type'.\n",
      "  np_resource = np.dtype([(\"resource\", np.ubyte, 1)])\n"
     ]
    }
   ],
   "source": [
    "from tensorflow.keras.models import Sequential\n",
    "from tensorflow.keras.layers import LSTM\n",
    "from tensorflow.keras.layers import Dense\n",
    "from tensorflow.keras.layers import Flatten"
   ]
  },
  {
   "cell_type": "code",
   "execution_count": 256,
   "id": "2df74f1e-7a59-4da5-996d-1cee4fe0ad8f",
   "metadata": {},
   "outputs": [],
   "source": [
    "\n",
    "\n",
    "# define model\n",
    "model = Sequential()\n",
    "model.add(LSTM(50, activation='relu', return_sequences=True, input_shape=(n_past_notes, n_features)))\n",
    "model.add(LSTM(50, activation='relu'))\n",
    "model.add(Dense(50))\n",
    "model.compile(loss='categorical_crossentropy', optimizer='rmsprop')\n"
   ]
  },
  {
   "cell_type": "code",
   "execution_count": 261,
   "id": "05a12934-c60c-4e3f-962b-30c71c3f5e93",
   "metadata": {},
   "outputs": [
    {
     "name": "stdout",
     "output_type": "stream",
     "text": [
      "Epoch 1/100\n",
      "59/59 [==============================] - 4s 61ms/sample - loss: 10.6079\n",
      "Epoch 2/100\n",
      "59/59 [==============================] - 0s 2ms/sample - loss: 10.2292\n",
      "Epoch 3/100\n",
      "59/59 [==============================] - 0s 1ms/sample - loss: 7.5254\n",
      "Epoch 4/100\n",
      "59/59 [==============================] - 0s 1ms/sample - loss: 7.6493\n",
      "Epoch 5/100\n",
      "59/59 [==============================] - 0s 1ms/sample - loss: 7.6493\n",
      "Epoch 6/100\n",
      "59/59 [==============================] - 0s 1ms/sample - loss: 7.6493\n",
      "Epoch 7/100\n",
      "59/59 [==============================] - 0s 1ms/sample - loss: 7.6493\n",
      "Epoch 8/100\n",
      "59/59 [==============================] - 0s 1ms/sample - loss: 7.6493\n",
      "Epoch 9/100\n",
      "59/59 [==============================] - 0s 1ms/sample - loss: 7.6493\n",
      "Epoch 10/100\n",
      "59/59 [==============================] - 0s 1ms/sample - loss: 7.6493\n",
      "Epoch 11/100\n",
      "59/59 [==============================] - 0s 1ms/sample - loss: 7.6493\n",
      "Epoch 12/100\n",
      "59/59 [==============================] - 0s 1ms/sample - loss: 7.6493\n",
      "Epoch 13/100\n",
      "59/59 [==============================] - 0s 1ms/sample - loss: 7.6493\n",
      "Epoch 14/100\n",
      "59/59 [==============================] - 0s 1ms/sample - loss: 7.6493\n",
      "Epoch 15/100\n",
      "59/59 [==============================] - 0s 1ms/sample - loss: 7.6493\n",
      "Epoch 16/100\n",
      "59/59 [==============================] - 0s 1ms/sample - loss: 7.6493\n",
      "Epoch 17/100\n",
      "59/59 [==============================] - 0s 2ms/sample - loss: 7.6493\n",
      "Epoch 18/100\n",
      "59/59 [==============================] - 0s 1ms/sample - loss: 7.6493\n",
      "Epoch 19/100\n",
      "59/59 [==============================] - 0s 2ms/sample - loss: 7.6493\n",
      "Epoch 20/100\n",
      "59/59 [==============================] - 0s 1ms/sample - loss: 7.6493\n",
      "Epoch 21/100\n",
      "59/59 [==============================] - 0s 1ms/sample - loss: 7.6493\n",
      "Epoch 22/100\n",
      "59/59 [==============================] - 0s 1ms/sample - loss: 7.6493\n",
      "Epoch 23/100\n",
      "59/59 [==============================] - 0s 1ms/sample - loss: 7.6493\n",
      "Epoch 24/100\n",
      "59/59 [==============================] - 0s 1ms/sample - loss: 7.6493\n",
      "Epoch 25/100\n",
      "59/59 [==============================] - 0s 1ms/sample - loss: 7.6493\n",
      "Epoch 26/100\n",
      "59/59 [==============================] - 0s 1ms/sample - loss: 7.6493\n",
      "Epoch 27/100\n",
      "59/59 [==============================] - 0s 1ms/sample - loss: 7.6493\n",
      "Epoch 28/100\n",
      "59/59 [==============================] - 0s 2ms/sample - loss: 7.6493\n",
      "Epoch 29/100\n",
      "59/59 [==============================] - 0s 2ms/sample - loss: 7.6493\n",
      "Epoch 30/100\n",
      "59/59 [==============================] - 0s 1ms/sample - loss: 7.6493\n",
      "Epoch 31/100\n",
      "59/59 [==============================] - 0s 1ms/sample - loss: 7.6493\n",
      "Epoch 32/100\n",
      "59/59 [==============================] - 0s 1ms/sample - loss: 7.6493\n",
      "Epoch 33/100\n",
      "59/59 [==============================] - 0s 2ms/sample - loss: 7.6493\n",
      "Epoch 34/100\n",
      "59/59 [==============================] - 0s 1ms/sample - loss: 7.6493\n",
      "Epoch 35/100\n",
      "59/59 [==============================] - 0s 1ms/sample - loss: 7.6493\n",
      "Epoch 36/100\n",
      "59/59 [==============================] - 0s 1ms/sample - loss: 7.6493\n",
      "Epoch 37/100\n",
      "59/59 [==============================] - 0s 1ms/sample - loss: 7.6493\n",
      "Epoch 38/100\n",
      "59/59 [==============================] - 0s 1ms/sample - loss: 7.6493\n",
      "Epoch 39/100\n",
      "59/59 [==============================] - 0s 2ms/sample - loss: 7.6493\n",
      "Epoch 40/100\n",
      "59/59 [==============================] - 0s 1ms/sample - loss: 7.6493\n",
      "Epoch 41/100\n",
      "59/59 [==============================] - 0s 1ms/sample - loss: 7.6493\n",
      "Epoch 42/100\n",
      "59/59 [==============================] - 0s 1ms/sample - loss: 7.6493\n",
      "Epoch 43/100\n",
      "59/59 [==============================] - 0s 1ms/sample - loss: 7.6493\n",
      "Epoch 44/100\n",
      "59/59 [==============================] - 0s 2ms/sample - loss: 7.6493\n",
      "Epoch 45/100\n",
      "59/59 [==============================] - 0s 2ms/sample - loss: 7.6493\n",
      "Epoch 46/100\n",
      "59/59 [==============================] - 0s 2ms/sample - loss: 7.6493\n",
      "Epoch 47/100\n",
      "59/59 [==============================] - 0s 1ms/sample - loss: 7.6493\n",
      "Epoch 48/100\n",
      "59/59 [==============================] - 0s 2ms/sample - loss: 7.6493\n",
      "Epoch 49/100\n",
      "59/59 [==============================] - 0s 2ms/sample - loss: 7.6493\n",
      "Epoch 50/100\n",
      "59/59 [==============================] - 0s 2ms/sample - loss: 7.6493\n",
      "Epoch 51/100\n",
      "59/59 [==============================] - 0s 1ms/sample - loss: 7.6493\n",
      "Epoch 52/100\n",
      "59/59 [==============================] - 0s 1ms/sample - loss: 7.6493\n",
      "Epoch 53/100\n",
      "59/59 [==============================] - 0s 1ms/sample - loss: 7.6493\n",
      "Epoch 54/100\n",
      "59/59 [==============================] - 0s 1ms/sample - loss: 7.6493\n",
      "Epoch 55/100\n",
      "59/59 [==============================] - 0s 1ms/sample - loss: 7.6493\n",
      "Epoch 56/100\n",
      "59/59 [==============================] - 0s 1ms/sample - loss: 7.6493\n",
      "Epoch 57/100\n",
      "59/59 [==============================] - 0s 1ms/sample - loss: 7.6493\n",
      "Epoch 58/100\n",
      "59/59 [==============================] - 0s 1ms/sample - loss: 7.6493\n",
      "Epoch 59/100\n",
      "59/59 [==============================] - 0s 1ms/sample - loss: 7.6493\n",
      "Epoch 60/100\n",
      "59/59 [==============================] - 0s 1ms/sample - loss: 7.6493\n",
      "Epoch 61/100\n",
      "59/59 [==============================] - 0s 1ms/sample - loss: 7.6493\n",
      "Epoch 62/100\n",
      "59/59 [==============================] - 0s 1ms/sample - loss: 7.6493\n",
      "Epoch 63/100\n",
      "59/59 [==============================] - 0s 1ms/sample - loss: 7.6493\n",
      "Epoch 64/100\n",
      "59/59 [==============================] - 0s 1ms/sample - loss: 7.6493\n",
      "Epoch 65/100\n",
      "59/59 [==============================] - 0s 1ms/sample - loss: 7.6493\n",
      "Epoch 66/100\n",
      "59/59 [==============================] - 0s 1ms/sample - loss: 7.6493\n",
      "Epoch 67/100\n",
      "59/59 [==============================] - 0s 1ms/sample - loss: 7.6493\n",
      "Epoch 68/100\n",
      "59/59 [==============================] - 0s 1ms/sample - loss: 7.6493\n",
      "Epoch 69/100\n",
      "59/59 [==============================] - 0s 1ms/sample - loss: 7.6493\n",
      "Epoch 70/100\n",
      "59/59 [==============================] - 0s 1ms/sample - loss: 7.6493\n",
      "Epoch 71/100\n",
      "59/59 [==============================] - 0s 1ms/sample - loss: 7.6493\n",
      "Epoch 72/100\n",
      "59/59 [==============================] - 0s 2ms/sample - loss: 7.6493\n",
      "Epoch 73/100\n",
      "59/59 [==============================] - 0s 2ms/sample - loss: 7.6493\n",
      "Epoch 74/100\n",
      "59/59 [==============================] - 0s 1ms/sample - loss: 7.6493\n",
      "Epoch 75/100\n",
      "59/59 [==============================] - 0s 1ms/sample - loss: 7.6493\n",
      "Epoch 76/100\n",
      "59/59 [==============================] - 0s 1ms/sample - loss: 7.6493\n",
      "Epoch 77/100\n",
      "59/59 [==============================] - 0s 1ms/sample - loss: 7.6493\n",
      "Epoch 78/100\n",
      "59/59 [==============================] - 0s 1ms/sample - loss: 7.6493\n",
      "Epoch 79/100\n",
      "59/59 [==============================] - 0s 1ms/sample - loss: 7.6493\n",
      "Epoch 80/100\n",
      "59/59 [==============================] - 0s 1ms/sample - loss: 7.6493\n",
      "Epoch 81/100\n",
      "59/59 [==============================] - 0s 1ms/sample - loss: 7.6493\n",
      "Epoch 82/100\n",
      "59/59 [==============================] - 0s 1ms/sample - loss: 7.6493\n",
      "Epoch 83/100\n",
      "59/59 [==============================] - 0s 2ms/sample - loss: 7.6493\n",
      "Epoch 84/100\n",
      "59/59 [==============================] - 0s 2ms/sample - loss: 7.6493\n",
      "Epoch 85/100\n",
      "59/59 [==============================] - 0s 1ms/sample - loss: 7.6493\n",
      "Epoch 86/100\n",
      "59/59 [==============================] - 0s 1ms/sample - loss: 7.6493\n",
      "Epoch 87/100\n",
      "59/59 [==============================] - 0s 1ms/sample - loss: 7.6493\n",
      "Epoch 88/100\n",
      "59/59 [==============================] - 0s 1ms/sample - loss: 7.6493\n",
      "Epoch 89/100\n",
      "59/59 [==============================] - 0s 2ms/sample - loss: 7.6493\n",
      "Epoch 90/100\n",
      "59/59 [==============================] - 0s 1ms/sample - loss: 7.6493\n",
      "Epoch 91/100\n",
      "59/59 [==============================] - 0s 1ms/sample - loss: 7.6493\n",
      "Epoch 92/100\n",
      "59/59 [==============================] - 0s 1ms/sample - loss: 7.6493\n",
      "Epoch 93/100\n",
      "59/59 [==============================] - 0s 1ms/sample - loss: 7.6493\n",
      "Epoch 94/100\n",
      "59/59 [==============================] - 0s 1ms/sample - loss: 7.6493\n",
      "Epoch 95/100\n",
      "59/59 [==============================] - 0s 1ms/sample - loss: 7.6493\n",
      "Epoch 96/100\n",
      "59/59 [==============================] - 0s 1ms/sample - loss: 7.6493\n",
      "Epoch 97/100\n",
      "59/59 [==============================] - 0s 1ms/sample - loss: 7.6493\n",
      "Epoch 98/100\n",
      "59/59 [==============================] - 0s 1ms/sample - loss: 7.6493\n",
      "Epoch 99/100\n",
      "59/59 [==============================] - 0s 1ms/sample - loss: 7.6493\n",
      "Epoch 100/100\n",
      "59/59 [==============================] - 0s 1ms/sample - loss: 7.6493\n"
     ]
    },
    {
     "data": {
      "text/plain": [
       "<tensorflow.python.keras.callbacks.History at 0x2ded43d0a08>"
      ]
     },
     "execution_count": 261,
     "metadata": {},
     "output_type": "execute_result"
    }
   ],
   "source": [
    "# fit model\n",
    "model.fit(X, y, epochs=100, verbose=1)"
   ]
  },
  {
   "cell_type": "code",
   "execution_count": 264,
   "id": "7adb1ab5-a0e7-47be-b390-57a5ae79b5b3",
   "metadata": {},
   "outputs": [
    {
     "name": "stdout",
     "output_type": "stream",
     "text": [
      "0 day input [0 0 0 0 0 0 0 0 0 0]\n",
      "0 day output -11\n",
      "1 day input [  0   0   0   0   0   0   0   0   0 -11]\n",
      "1 day output -11\n",
      "2 day input [  0   0   0   0   0   0   0   0 -11 -11]\n",
      "2 day output -11\n",
      "3 day input [  0   0   0   0   0   0   0 -11 -11 -11]\n",
      "3 day output -11\n",
      "4 day input [  0   0   0   0   0   0 -11 -11 -11 -11]\n",
      "4 day output -11\n",
      "5 day input [  0   0   0   0   0 -11 -11 -11 -11 -11]\n",
      "5 day output -11\n",
      "6 day input [  0   0   0   0 -11 -11 -11 -11 -11 -11]\n",
      "6 day output -11\n",
      "7 day input [  0   0   0 -11 -11 -11 -11 -11 -11 -11]\n",
      "7 day output -11\n",
      "8 day input [  0   0 -11 -11 -11 -11 -11 -11 -11 -11]\n",
      "8 day output -11\n",
      "9 day input [  0 -11 -11 -11 -11 -11 -11 -11 -11 -11]\n",
      "9 day output -11\n",
      "[-11, -11, -11, -11, -11, -11, -11, -11, -11, -11]\n"
     ]
    }
   ],
   "source": [
    "# demonstrate prediction for next 10 days\n",
    "x_input = np.array([0,0,0,0,0,0,0,0,0,0,0])\n",
    "temp_input=list(x_input)\n",
    "lst_output=[]\n",
    "i=0\n",
    "while(i<10):\n",
    "    \n",
    "    if(len(temp_input)>3):\n",
    "        x_input=np.array(temp_input[1:])\n",
    "        print(\"{} day input {}\".format(i,x_input))\n",
    "        #print(x_input)\n",
    "        x_input = x_input.reshape((1, n_past_notes, n_features))\n",
    "        #print(x_input)\n",
    "        yhat = model.predict(x_input, verbose=0)\n",
    "        yhat = np.argmax(yhat) - 25\n",
    "        print(\"{} day output {}\".format(i,yhat))\n",
    "        temp_input.append(yhat)\n",
    "        temp_input=temp_input[1:]\n",
    "        #print(temp_input)\n",
    "        lst_output.append(yhat)\n",
    "        i=i+1\n",
    "    else:\n",
    "        x_input = x_input.reshape((1, n_past_notes, n_features))\n",
    "        yhat = model.predict(x_input, verbose=0)\n",
    "        print(yhat[0])\n",
    "        temp_input.append(yhat[0][0])\n",
    "        lst_output.append(yhat[0][0])\n",
    "        i=i+1\n",
    "    \n",
    "\n",
    "print(lst_output)"
   ]
  },
  {
   "cell_type": "code",
   "execution_count": 190,
   "id": "a3230434-c80a-46fa-b5d8-6f70a9982876",
   "metadata": {},
   "outputs": [
    {
     "data": {
      "text/plain": [
       "[0.25244585,\n",
       " 0.344534,\n",
       " 0.49337435,\n",
       " 0.701702,\n",
       " 0.99891925,\n",
       " 1.4576102,\n",
       " 2.1743073,\n",
       " 3.4265912,\n",
       " 6.6338954,\n",
       " 15.217477]"
      ]
     },
     "execution_count": 190,
     "metadata": {},
     "output_type": "execute_result"
    }
   ],
   "source": [
    "lst_output"
   ]
  },
  {
   "cell_type": "code",
   "execution_count": 265,
   "id": "8a14562d-717b-4a0c-afde-61f9cd687aaa",
   "metadata": {},
   "outputs": [
    {
     "data": {
      "text/plain": [
       "array([-11., -11., -11., -11., -11., -11., -11., -11., -11., -11.])"
      ]
     },
     "execution_count": 265,
     "metadata": {},
     "output_type": "execute_result"
    }
   ],
   "source": [
    "predicted_intervals =np.trunc(np.array(lst_output))\n",
    "predicted_intervals"
   ]
  },
  {
   "cell_type": "code",
   "execution_count": 266,
   "id": "25cf702d-f9a2-49f0-9d87-595404bcd9ac",
   "metadata": {},
   "outputs": [
    {
     "data": {
      "text/html": [
       "\n",
       "                <div id='midiPlayerDiv1879031'></div>\n",
       "                <link rel=\"stylesheet\" href=\"//cuthbertLab.github.io/music21j/css/m21.css\"\n",
       "                    type=\"text/css\" />\n",
       "                <script>\n",
       "                require.config({\n",
       "                    paths: {'music21': '//cuthbertLab.github.io/music21j/src/music21'}\n",
       "                });\n",
       "                require(['music21'], function() {\n",
       "                               mp = new music21.miditools.MidiPlayer();\n",
       "                               mp.addPlayer('#midiPlayerDiv1879031');\n",
       "                               mp.base64Load('data:audio/midi;base64,TVRoZAAAAAYAAQABBABNVHJrAAAAFgD/AwAA4ABAAJA8WogAgDwAiAD/LwA=');\n",
       "                        });\n",
       "                </script>"
      ],
      "text/plain": [
       "<IPython.core.display.HTML object>"
      ]
     },
     "metadata": {},
     "output_type": "display_data"
    }
   ],
   "source": [
    "note.Note(pitch.Pitch(0)).show('midi')"
   ]
  },
  {
   "cell_type": "code",
   "execution_count": 228,
   "id": "a66c916d-4696-4a80-9190-f5d53b5ad847",
   "metadata": {},
   "outputs": [],
   "source": [
    "stream1 = stream.Stream()\n",
    "\n",
    "stream1.append(note.Note(pitch.Pitch(30)))\n",
    "\n",
    "s1 = stream.Stream()\n",
    "current_pitch = 30\n",
    "s1.append(note.Note(pitch.Pitch(current_pitch)))\n",
    "for predicted in predicted_intervals:\n",
    "    current_pitch = current_pitch + predicted\n",
    "    s1.append(note.Note(pitch.Pitch(current_pitch)))\n"
   ]
  },
  {
   "cell_type": "code",
   "execution_count": 232,
   "id": "efb16ea5-a661-40c7-905e-dd5c506250d4",
   "metadata": {},
   "outputs": [
    {
     "data": {
      "text/plain": [
       "<music21.stream.Stream 0x2decc7ebd88>"
      ]
     },
     "execution_count": 232,
     "metadata": {},
     "output_type": "execute_result"
    }
   ],
   "source": [
    "s1"
   ]
  },
  {
   "cell_type": "code",
   "execution_count": 229,
   "id": "18f7b715-7c9e-4cd8-8a94-3da89e4fddee",
   "metadata": {},
   "outputs": [
    {
     "data": {
      "text/plain": [
       "'test.mid'"
      ]
     },
     "execution_count": 229,
     "metadata": {},
     "output_type": "execute_result"
    }
   ],
   "source": [
    "s1.write('midi', fp='test.mid')"
   ]
  },
  {
   "cell_type": "code",
   "execution_count": 230,
   "id": "b410c6a8-2b79-4f95-9b44-35f75d5cb4b8",
   "metadata": {},
   "outputs": [],
   "source": [
    "import pretty_midi\n",
    "import IPython.display\n",
    "\n",
    "pm = pretty_midi.PrettyMIDI('test.mid')\n"
   ]
  },
  {
   "cell_type": "code",
   "execution_count": 231,
   "id": "69397faf-c684-4ee3-a5e9-a1fc2191d9ba",
   "metadata": {},
   "outputs": [
    {
     "data": {
      "text/html": [
       "\n",
       "                <audio  controls=\"controls\" >\n",
       "                    <source src=\"data:audio/wav;base64,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\" type=\"audio/wav\" />\n",
       "                    Your browser does not support the audio element.\n",
       "                </audio>\n",
       "              "
      ],
      "text/plain": [
       "<IPython.lib.display.Audio object>"
      ]
     },
     "execution_count": 231,
     "metadata": {},
     "output_type": "execute_result"
    }
   ],
   "source": [
    "IPython.display.Audio(pm.synthesize(fs=1600), rate=1600)"
   ]
  },
  {
   "cell_type": "code",
   "execution_count": null,
   "id": "81d1a6ec-7210-4e87-a81d-e76dbb07bebb",
   "metadata": {},
   "outputs": [],
   "source": []
  },
  {
   "cell_type": "code",
   "execution_count": null,
   "id": "227f04c9-f4b1-40d0-a193-9b4bc8035e1d",
   "metadata": {},
   "outputs": [],
   "source": []
  },
  {
   "cell_type": "code",
   "execution_count": null,
   "id": "28b88ee1-29c6-453a-8f4d-d154213a4059",
   "metadata": {},
   "outputs": [],
   "source": []
  },
  {
   "cell_type": "code",
   "execution_count": 21,
   "id": "b4ceb3a6-49c4-4615-a7ae-b92ede7ad167",
   "metadata": {},
   "outputs": [
    {
     "data": {
      "text/plain": [
       "68.0"
      ]
     },
     "execution_count": 21,
     "metadata": {},
     "output_type": "execute_result"
    }
   ],
   "source": [
    "elements[1].offset"
   ]
  },
  {
   "cell_type": "code",
   "execution_count": 25,
   "id": "03b2c821-63a8-47c1-96f6-68aedfc99787",
   "metadata": {},
   "outputs": [
    {
     "data": {
      "text/plain": [
       "<music21.note.Note C>"
      ]
     },
     "execution_count": 25,
     "metadata": {},
     "output_type": "execute_result"
    }
   ],
   "source": [
    "elements[1]"
   ]
  },
  {
   "cell_type": "code",
   "execution_count": 28,
   "id": "09bb5e99-be1e-411b-945e-d592dd6d0876",
   "metadata": {},
   "outputs": [
    {
     "data": {
      "text/plain": [
       "<music21.note.Note D>"
      ]
     },
     "execution_count": 28,
     "metadata": {},
     "output_type": "execute_result"
    }
   ],
   "source": [
    "elements[2]"
   ]
  },
  {
   "cell_type": "code",
   "execution_count": 23,
   "id": "6ae444e1-c25a-4848-a2dd-8e284c106ff9",
   "metadata": {},
   "outputs": [
    {
     "data": {
      "text/plain": [
       "2"
      ]
     },
     "execution_count": 23,
     "metadata": {},
     "output_type": "execute_result"
    }
   ],
   "source": [
    "interval.Interval(elements[1], elements[2]).semitones"
   ]
  },
  {
   "cell_type": "code",
   "execution_count": 26,
   "id": "e29121e3-d600-4d7c-8758-a88dd5ce53de",
   "metadata": {},
   "outputs": [
    {
     "data": {
      "text/plain": [
       "-2"
      ]
     },
     "execution_count": 26,
     "metadata": {},
     "output_type": "execute_result"
    }
   ],
   "source": [
    "interval.Interval(elements[2], elements[1]).semitones"
   ]
  },
  {
   "cell_type": "code",
   "execution_count": 30,
   "id": "0bda4324-7a57-4f34-9962-3c8743392082",
   "metadata": {},
   "outputs": [],
   "source": [
    "bohemian = converter.parse(\"data\\examples\\Queen - Bohemian Rhapsody.mid\")"
   ]
  },
  {
   "cell_type": "code",
   "execution_count": 37,
   "id": "0d572f1f-46c1-4064-ac27-bc8fca49b42a",
   "metadata": {},
   "outputs": [
    {
     "data": {
      "text/plain": [
       "(<music21.instrument.Instrument ': '>,)"
      ]
     },
     "execution_count": 37,
     "metadata": {},
     "output_type": "execute_result"
    }
   ],
   "source": [
    "bohemian.getInstruments().elements"
   ]
  },
  {
   "cell_type": "markdown",
   "id": "07d02833-5142-4f44-9a16-1aa8940140b0",
   "metadata": {},
   "source": [
    "Utilizando https://www.kaggle.com/wfaria/midi-music-data-extraction-using-music21"
   ]
  },
  {
   "cell_type": "code",
   "execution_count": 131,
   "id": "2306ba42-c3c3-4d5c-8510-0f19381604ce",
   "metadata": {},
   "outputs": [
    {
     "data": {
      "text/plain": [
       "<music21.stream.Score 0x2dea3c60488>"
      ]
     },
     "execution_count": 131,
     "metadata": {},
     "output_type": "execute_result"
    }
   ],
   "source": [
    "from music21 import converter, corpus, instrument, midi, note, chord, pitch\n",
    "def open_midi(midi_path, remove_drums):\n",
    "    # There is an one-line method to read MIDIs\n",
    "    # but to remove the drums we need to manipulate some\n",
    "    # low level MIDI events.\"data\\examples\\Queen - Bohemian Rhapsody.mid\"\n",
    "    mf = midi.MidiFile()\n",
    "    mf.open(midi_path)\n",
    "    mf.read()\n",
    "    mf.close()\n",
    "    if (remove_drums):\n",
    "        for i in range(len(mf.tracks)):\n",
    "            mf.tracks[i].events = [ev for ev in mf.tracks[i].events if ev.channel != 10]          \n",
    "\n",
    "    return midi.translate.midiFileToStream(mf)\n",
    "    \n",
    "base_midi = open_midi(\"data\\examples\\silent_night_easy.mid\", True)\n",
    "base_midi"
   ]
  },
  {
   "cell_type": "code",
   "execution_count": 132,
   "id": "045e5e7b-87d3-4a4f-8b5a-1511bf5f2480",
   "metadata": {},
   "outputs": [
    {
     "name": "stdout",
     "output_type": "stream",
     "text": [
      "List of instruments found on MIDI file:\n",
      "Piano\n"
     ]
    }
   ],
   "source": [
    "def list_instruments(midi):\n",
    "    partStream = midi.parts.stream()\n",
    "    print(\"List of instruments found on MIDI file:\")\n",
    "    for p in partStream:\n",
    "        aux = p\n",
    "        print (p.partName)\n",
    "\n",
    "list_instruments(base_midi)"
   ]
  },
  {
   "cell_type": "code",
   "execution_count": 133,
   "id": "dd69c42c-aca1-4ef9-a054-b7c0f7756160",
   "metadata": {},
   "outputs": [],
   "source": [
    "parts = [part for part in base_midi.parts]"
   ]
  },
  {
   "cell_type": "code",
   "execution_count": 134,
   "id": "57312a67-67b6-45e3-9246-4b3c7738b97f",
   "metadata": {},
   "outputs": [
    {
     "ename": "TypeError",
     "evalue": "'Note' object is not subscriptable",
     "output_type": "error",
     "traceback": [
      "\u001b[1;31m---------------------------------------------------------------------------\u001b[0m",
      "\u001b[1;31mTypeError\u001b[0m                                 Traceback (most recent call last)",
      "\u001b[1;32m<ipython-input-134-8dd7c9230913>\u001b[0m in \u001b[0;36m<module>\u001b[1;34m\u001b[0m\n\u001b[1;32m----> 1\u001b[1;33m \u001b[1;33m[\u001b[0m\u001b[0mnote\u001b[0m \u001b[1;32mfor\u001b[0m \u001b[0mnote\u001b[0m \u001b[1;32min\u001b[0m \u001b[0mbase_midi\u001b[0m\u001b[1;33m.\u001b[0m\u001b[0mflat\u001b[0m\u001b[1;33m.\u001b[0m\u001b[0mnotes\u001b[0m\u001b[1;33m]\u001b[0m\u001b[1;33m[\u001b[0m\u001b[1;36m0\u001b[0m\u001b[1;33m]\u001b[0m\u001b[1;33m[\u001b[0m\u001b[1;36m0\u001b[0m\u001b[1;33m]\u001b[0m\u001b[1;33m.\u001b[0m\u001b[0mpitch\u001b[0m\u001b[1;33m.\u001b[0m\u001b[0mps\u001b[0m\u001b[1;33m\u001b[0m\u001b[1;33m\u001b[0m\u001b[0m\n\u001b[0m",
      "\u001b[1;31mTypeError\u001b[0m: 'Note' object is not subscriptable"
     ]
    }
   ],
   "source": [
    "[note for note in base_midi.flat.notes][0][0].pitch.ps"
   ]
  },
  {
   "cell_type": "code",
   "execution_count": 135,
   "id": "1f1556e4-9bbd-496f-87e6-c4ea5b2554b6",
   "metadata": {},
   "outputs": [],
   "source": [
    "def extract_notes(midi_part):\n",
    "    notes = []\n",
    "    offsets = []\n",
    "    parents =[]\n",
    "   \n",
    "    for part in midi_part.parts:     \n",
    "        for nt in part.flat.notes:\n",
    "            if isinstance(nt, note.Note):\n",
    "                notes.append(nt.pitch.ps)\n",
    "                offsets.append(nt.offset)\n",
    "                parents.append(part)\n",
    "            elif isinstance(nt, chord.Chord):\n",
    "                for pitch in nt.pitches:\n",
    "                    notes.append(pitch.ps)\n",
    "                    offsets.append(nt.offset)\n",
    "                    parents.append(part)\n",
    "    \n",
    "    return notes, offsets, parents"
   ]
  },
  {
   "cell_type": "code",
   "execution_count": 136,
   "id": "24d9d1fa-9ad4-49c4-b1c5-052f1e2058e1",
   "metadata": {},
   "outputs": [],
   "source": [
    "song_data = extract_notes(base_midi)\n"
   ]
  },
  {
   "cell_type": "code",
   "execution_count": null,
   "id": "7094b080-2fe1-4321-82e8-d02e2f4dbf91",
   "metadata": {},
   "outputs": [],
   "source": []
  },
  {
   "cell_type": "code",
   "execution_count": 137,
   "id": "aa702ba2-a3c0-40e1-b515-d2739514722c",
   "metadata": {},
   "outputs": [],
   "source": [
    "labels = [str(a) for a in song_data[2]]"
   ]
  },
  {
   "cell_type": "code",
   "execution_count": 138,
   "id": "71c0e490-2ead-4713-839e-61229a22529b",
   "metadata": {},
   "outputs": [],
   "source": [
    "parts = list(set(labels))"
   ]
  },
  {
   "cell_type": "code",
   "execution_count": 139,
   "id": "03e631c5-c613-4e58-96f0-b9a78bbe0da0",
   "metadata": {},
   "outputs": [],
   "source": [
    "minOffset = 0\n",
    "maxOffset = 200"
   ]
  },
  {
   "cell_type": "code",
   "execution_count": 140,
   "id": "c1d28eb3-d226-4335-acc5-1914109ad40e",
   "metadata": {},
   "outputs": [
    {
     "data": {
      "image/png": "[encoded data removed]",
      "text/plain": [
       "<Figure size 432x288 with 1 Axes>"
      ]
     },
     "metadata": {
      "needs_background": "light"
     },
     "output_type": "display_data"
    }
   ],
   "source": [
    "labels = [parts.index(str(part)) for part in song_data[2][minOffset:maxOffset]]\n",
    "for part in parts:\n",
    "    plt.scatter(song_data[1][minOffset:maxOffset], song_data[0][minOffset:maxOffset], c=labels, s=1)"
   ]
  },
  {
   "cell_type": "code",
   "execution_count": null,
   "id": "b13357c0-3a23-4fed-99ec-d51249a15ef2",
   "metadata": {},
   "outputs": [],
   "source": []
  },
  {
   "cell_type": "code",
   "execution_count": null,
   "id": "733a7c68-0375-4dcc-8f6e-92c2c6be76b8",
   "metadata": {},
   "outputs": [],
   "source": []
  },
  {
   "cell_type": "code",
   "execution_count": null,
   "id": "66878a7d-e434-49be-afef-1b2be69c2ad3",
   "metadata": {},
   "outputs": [],
   "source": []
  },
  {
   "cell_type": "code",
   "execution_count": 42,
   "id": "cadaba88-44b8-4626-8d27-62b08a23969f",
   "metadata": {},
   "outputs": [
    {
     "name": "stderr",
     "output_type": "stream",
     "text": [
      "Matplotlib is building the font cache; this may take a moment.\n",
      "meter: WARNING: Found a messed up beam pair <music21.beam.Beams <music21.beam.Beam 1/start>/<music21.beam.Beam 2/partial/right>>, <music21.beam.Beams <music21.beam.Beam 1/stop>/<music21.beam.Beam 2/stop>>, at index 2 of \n",
      "[<music21.beam.Beams <music21.beam.Beam 1/start>>, <music21.beam.Beams <music21.beam.Beam 1/stop>>, <music21.beam.Beams <music21.beam.Beam 1/start>/<music21.beam.Beam 2/partial/right>>, <music21.beam.Beams <music21.beam.Beam 1/stop>/<music21.beam.Beam 2/stop>>]\n",
      "meter: WARNING: Found a messed up beam pair <music21.beam.Beams <music21.beam.Beam 1/start>/<music21.beam.Beam 2/partial/right>>, <music21.beam.Beams <music21.beam.Beam 1/stop>/<music21.beam.Beam 2/stop>>, at index 1 of \n",
      "[None, <music21.beam.Beams <music21.beam.Beam 1/start>/<music21.beam.Beam 2/partial/right>>, <music21.beam.Beams <music21.beam.Beam 1/stop>/<music21.beam.Beam 2/stop>>]\n",
      "meter: WARNING: Found a messed up beam pair <music21.beam.Beams <music21.beam.Beam 1/start>/<music21.beam.Beam 2/partial/right>>, <music21.beam.Beams <music21.beam.Beam 1/stop>/<music21.beam.Beam 2/stop>>, at index 3 of \n",
      "[<music21.beam.Beams <music21.beam.Beam 1/start>/<music21.beam.Beam 2/start>>, <music21.beam.Beams <music21.beam.Beam 1/continue>/<music21.beam.Beam 2/stop>>, <music21.beam.Beams <music21.beam.Beam 1/stop>>, <music21.beam.Beams <music21.beam.Beam 1/start>/<music21.beam.Beam 2/partial/right>>, <music21.beam.Beams <music21.beam.Beam 1/stop>/<music21.beam.Beam 2/stop>>]\n",
      "meter: WARNING: Found a messed up beam pair <music21.beam.Beams <music21.beam.Beam 1/start>/<music21.beam.Beam 2/partial/right>>, <music21.beam.Beams <music21.beam.Beam 1/stop>/<music21.beam.Beam 2/stop>>, at index 1 of \n",
      "[None, <music21.beam.Beams <music21.beam.Beam 1/start>/<music21.beam.Beam 2/partial/right>>, <music21.beam.Beams <music21.beam.Beam 1/stop>/<music21.beam.Beam 2/stop>>]\n",
      "meter: WARNING: Found a messed up beam pair <music21.beam.Beams <music21.beam.Beam 1/start>/<music21.beam.Beam 2/partial/right>>, <music21.beam.Beams <music21.beam.Beam 1/stop>/<music21.beam.Beam 2/stop>>, at index 6 of \n",
      "[None, None, None, None, None, None, <music21.beam.Beams <music21.beam.Beam 1/start>/<music21.beam.Beam 2/partial/right>>, <music21.beam.Beams <music21.beam.Beam 1/stop>/<music21.beam.Beam 2/stop>>]\n"
     ]
    },
    {
     "data": {
      "image/png": "[encoded data removed]",
      "text/plain": [
       "<Figure size 864x360 with 1 Axes>"
      ]
     },
     "metadata": {
      "needs_background": "light"
     },
     "output_type": "display_data"
    }
   ],
   "source": [
    "import matplotlib.pyplot as plt\n",
    "import matplotlib.lines as mlines\n",
    "\n",
    "def extract_notes(midi_part):\n",
    "    parent_element = []\n",
    "    ret = []\n",
    "    for nt in midi_part.flat.notes:        \n",
    "        if isinstance(nt, note.Note):\n",
    "            ret.append(max(0.0, nt.pitch.ps))\n",
    "            parent_element.append(nt)\n",
    "        elif isinstance(nt, chord.Chord):\n",
    "            for pitch in nt.pitches:\n",
    "                ret.append(max(0.0, pitch.ps))\n",
    "                parent_element.append(nt)\n",
    "    \n",
    "    return ret, parent_element\n",
    "\n",
    "def print_parts_countour(midi):\n",
    "    fig = plt.figure(figsize=(12, 5))\n",
    "    ax = fig.add_subplot(1, 1, 1)\n",
    "    minPitch = pitch.Pitch('C10').ps\n",
    "    maxPitch = 0\n",
    "    xMax = 0\n",
    "    \n",
    "    # Drawing notes.\n",
    "    for i in range(len(midi.parts)):\n",
    "        top = midi.parts[i].flat.notes                  \n",
    "        y, parent_element = extract_notes(top)\n",
    "        if (len(y) < 1): continue\n",
    "            \n",
    "        x = [n.offset for n in parent_element]\n",
    "        ax.scatter(x, y, alpha=0.6, s=7)\n",
    "        \n",
    "        aux = min(y)\n",
    "        if (aux < minPitch): minPitch = aux\n",
    "            \n",
    "        aux = max(y)\n",
    "        if (aux > maxPitch): maxPitch = aux\n",
    "            \n",
    "        aux = max(x)\n",
    "        if (aux > xMax): xMax = aux\n",
    "    \n",
    "    for i in range(1, 10):\n",
    "        linePitch = pitch.Pitch('C{0}'.format(i)).ps\n",
    "        if (linePitch > minPitch and linePitch < maxPitch):\n",
    "            ax.add_line(mlines.Line2D([0, xMax], [linePitch, linePitch], color='red', alpha=0.1))            \n",
    "\n",
    "    plt.ylabel(\"Note index (each octave has 12 notes)\")\n",
    "    plt.xlabel(\"Number of quarter notes (beats)\")\n",
    "    plt.title('Voices motion approximation, each color is a different instrument, red lines show each octave')\n",
    "    plt.show()\n",
    "\n",
    "# Focusing only on 6 first measures to make it easier to understand.\n",
    "print_parts_countour(base_midi.measures(0, 6))"
   ]
  },
  {
   "cell_type": "code",
   "execution_count": 43,
   "id": "f422047f-fd63-4d80-a330-7ceb7035d60d",
   "metadata": {},
   "outputs": [
    {
     "name": "stderr",
     "output_type": "stream",
     "text": [
      "meter: WARNING: Found a messed up beam pair <music21.beam.Beams <music21.beam.Beam 1/start>/<music21.beam.Beam 2/partial/right>>, <music21.beam.Beams <music21.beam.Beam 1/stop>/<music21.beam.Beam 2/stop>>, at index 2 of \n",
      "[<music21.beam.Beams <music21.beam.Beam 1/start>>, <music21.beam.Beams <music21.beam.Beam 1/stop>>, <music21.beam.Beams <music21.beam.Beam 1/start>/<music21.beam.Beam 2/partial/right>>, <music21.beam.Beams <music21.beam.Beam 1/stop>/<music21.beam.Beam 2/stop>>]\n",
      "meter: WARNING: Found a messed up beam pair <music21.beam.Beams <music21.beam.Beam 1/start>/<music21.beam.Beam 2/partial/right>>, <music21.beam.Beams <music21.beam.Beam 1/stop>/<music21.beam.Beam 2/stop>>, at index 1 of \n",
      "[None, <music21.beam.Beams <music21.beam.Beam 1/start>/<music21.beam.Beam 2/partial/right>>, <music21.beam.Beams <music21.beam.Beam 1/stop>/<music21.beam.Beam 2/stop>>]\n",
      "meter: WARNING: Found a messed up beam pair <music21.beam.Beams <music21.beam.Beam 1/start>/<music21.beam.Beam 2/partial/right>>, <music21.beam.Beams <music21.beam.Beam 1/stop>/<music21.beam.Beam 2/stop>>, at index 3 of \n",
      "[<music21.beam.Beams <music21.beam.Beam 1/start>/<music21.beam.Beam 2/start>>, <music21.beam.Beams <music21.beam.Beam 1/continue>/<music21.beam.Beam 2/stop>>, <music21.beam.Beams <music21.beam.Beam 1/stop>>, <music21.beam.Beams <music21.beam.Beam 1/start>/<music21.beam.Beam 2/partial/right>>, <music21.beam.Beams <music21.beam.Beam 1/stop>/<music21.beam.Beam 2/stop>>]\n",
      "meter: WARNING: Found a messed up beam pair <music21.beam.Beams <music21.beam.Beam 1/start>/<music21.beam.Beam 2/partial/right>>, <music21.beam.Beams <music21.beam.Beam 1/stop>/<music21.beam.Beam 2/stop>>, at index 1 of \n",
      "[None, <music21.beam.Beams <music21.beam.Beam 1/start>/<music21.beam.Beam 2/partial/right>>, <music21.beam.Beams <music21.beam.Beam 1/stop>/<music21.beam.Beam 2/stop>>]\n",
      "meter: WARNING: Found a messed up beam pair <music21.beam.Beams <music21.beam.Beam 1/start>/<music21.beam.Beam 2/partial/right>>, <music21.beam.Beams <music21.beam.Beam 1/stop>/<music21.beam.Beam 2/stop>>, at index 6 of \n",
      "[None, None, None, None, None, None, <music21.beam.Beams <music21.beam.Beam 1/start>/<music21.beam.Beam 2/partial/right>>, <music21.beam.Beams <music21.beam.Beam 1/stop>/<music21.beam.Beam 2/stop>>]\n"
     ]
    },
    {
     "data": {
      "image/png": "[encoded data removed]",
      "text/plain": [
       "<Figure size 864x360 with 1 Axes>"
      ]
     },
     "metadata": {
      "needs_background": "light"
     },
     "output_type": "display_data"
    }
   ],
   "source": [
    "print_parts_countour(base_midi.measures(20, 30))"
   ]
  },
  {
   "cell_type": "code",
   "execution_count": 44,
   "id": "ae53cce2-0108-4e7f-b67e-0b04abe91663",
   "metadata": {},
   "outputs": [
    {
     "name": "stderr",
     "output_type": "stream",
     "text": [
      "meter: WARNING: Found a messed up beam pair <music21.beam.Beams <music21.beam.Beam 1/start>/<music21.beam.Beam 2/partial/right>>, <music21.beam.Beams <music21.beam.Beam 1/stop>/<music21.beam.Beam 2/stop>>, at index 2 of \n",
      "[<music21.beam.Beams <music21.beam.Beam 1/start>>, <music21.beam.Beams <music21.beam.Beam 1/stop>>, <music21.beam.Beams <music21.beam.Beam 1/start>/<music21.beam.Beam 2/partial/right>>, <music21.beam.Beams <music21.beam.Beam 1/stop>/<music21.beam.Beam 2/stop>>]\n",
      "meter: WARNING: Found a messed up beam pair <music21.beam.Beams <music21.beam.Beam 1/start>/<music21.beam.Beam 2/partial/right>>, <music21.beam.Beams <music21.beam.Beam 1/stop>/<music21.beam.Beam 2/stop>>, at index 1 of \n",
      "[None, <music21.beam.Beams <music21.beam.Beam 1/start>/<music21.beam.Beam 2/partial/right>>, <music21.beam.Beams <music21.beam.Beam 1/stop>/<music21.beam.Beam 2/stop>>]\n",
      "meter: WARNING: Found a messed up beam pair <music21.beam.Beams <music21.beam.Beam 1/start>/<music21.beam.Beam 2/partial/right>>, <music21.beam.Beams <music21.beam.Beam 1/stop>/<music21.beam.Beam 2/stop>>, at index 3 of \n",
      "[<music21.beam.Beams <music21.beam.Beam 1/start>/<music21.beam.Beam 2/start>>, <music21.beam.Beams <music21.beam.Beam 1/continue>/<music21.beam.Beam 2/stop>>, <music21.beam.Beams <music21.beam.Beam 1/stop>>, <music21.beam.Beams <music21.beam.Beam 1/start>/<music21.beam.Beam 2/partial/right>>, <music21.beam.Beams <music21.beam.Beam 1/stop>/<music21.beam.Beam 2/stop>>]\n",
      "meter: WARNING: Found a messed up beam pair <music21.beam.Beams <music21.beam.Beam 1/start>/<music21.beam.Beam 2/partial/right>>, <music21.beam.Beams <music21.beam.Beam 1/stop>/<music21.beam.Beam 2/stop>>, at index 1 of \n",
      "[None, <music21.beam.Beams <music21.beam.Beam 1/start>/<music21.beam.Beam 2/partial/right>>, <music21.beam.Beams <music21.beam.Beam 1/stop>/<music21.beam.Beam 2/stop>>]\n",
      "meter: WARNING: Found a messed up beam pair <music21.beam.Beams <music21.beam.Beam 1/start>/<music21.beam.Beam 2/partial/right>>, <music21.beam.Beams <music21.beam.Beam 1/stop>/<music21.beam.Beam 2/stop>>, at index 6 of \n",
      "[None, None, None, None, None, None, <music21.beam.Beams <music21.beam.Beam 1/start>/<music21.beam.Beam 2/partial/right>>, <music21.beam.Beams <music21.beam.Beam 1/stop>/<music21.beam.Beam 2/stop>>]\n"
     ]
    },
    {
     "data": {
      "text/plain": [
       "<music21.stream.Score 0x2debef6a5c8>"
      ]
     },
     "execution_count": 44,
     "metadata": {},
     "output_type": "execute_result"
    }
   ],
   "source": [
    "base_midi.measures(0,1)"
   ]
  },
  {
   "cell_type": "code",
   "execution_count": null,
   "id": "cc1b25cf-1999-49f4-83e6-6c69d61c752b",
   "metadata": {},
   "outputs": [],
   "source": []
  }
 ],
 "metadata": {
  "kernelspec": {
   "display_name": "Python 3",
   "language": "python",
   "name": "python3"
  },
  "language_info": {
   "codemirror_mode": {
    "name": "ipython",
    "version": 3
   },
   "file_extension": ".py",
   "mimetype": "text/x-python",
   "name": "python",
   "nbconvert_exporter": "python",
   "pygments_lexer": "ipython3",
   "version": "3.7.10"
  }
 },
 "nbformat": 4,
 "nbformat_minor": 5
}
