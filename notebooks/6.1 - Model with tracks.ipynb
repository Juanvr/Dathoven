{
 "cells": [
  {
   "cell_type": "markdown",
   "id": "f7569376-d818-496d-afa2-cbbb8e88c5c7",
   "metadata": {},
   "source": [
    "# Model with tracks"
   ]
  },
  {
   "cell_type": "code",
   "execution_count": 9,
   "id": "b7023f84-bf81-40b3-85d7-2628d5183822",
   "metadata": {},
   "outputs": [],
   "source": [
    "from keras.models import Sequential\n",
    "from keras.layers import Dense, Dropout, LSTM\n",
    "from keras.callbacks import ModelCheckpoint, EarlyStopping\n",
    "from keras.utils import np_utils\n",
    "from keras import metrics\n",
    "import numpy as np\n",
    "from matplotlib import pyplot as plt"
   ]
  },
  {
   "cell_type": "code",
   "execution_count": 10,
   "id": "1de784b7-c9c5-4e04-92c0-d4ddfa79222d",
   "metadata": {},
   "outputs": [],
   "source": [
    " # Load back from the pickle file.\n",
    "import pickle\n",
    "\n",
    "songs_with_tracks = pickle.load( open( \"./songs_with_tracks.p\", \"rb\" ) )"
   ]
  },
  {
   "cell_type": "code",
   "execution_count": 15,
   "id": "98d5fab0-9956-4aa2-b139-c61a4bdf9e85",
   "metadata": {},
   "outputs": [],
   "source": [
    "tracks = []\n",
    "[[tracks.append(track) for track in song if len(track) > 5] for song in songs_with_tracks]; # We import only tracks with more than five events"
   ]
  },
  {
   "cell_type": "code",
   "execution_count": 16,
   "id": "7553df5a-e0d6-454d-a2fd-a4c4a648e4de",
   "metadata": {},
   "outputs": [
    {
     "data": {
      "text/plain": [
       "782"
      ]
     },
     "execution_count": 16,
     "metadata": {},
     "output_type": "execute_result"
    }
   ],
   "source": [
    "len(tracks)"
   ]
  },
  {
   "cell_type": "code",
   "execution_count": 19,
   "id": "5d8b2132-ee35-4fab-adcb-5f23f6bad656",
   "metadata": {
    "tags": []
   },
   "outputs": [
    {
     "data": {
      "image/png": "[encoded data removed]",
      "text/plain": [
       "<Figure size 432x288 with 1 Axes>"
      ]
     },
     "metadata": {
      "needs_background": "light"
     },
     "output_type": "display_data"
    }
   ],
   "source": [
    "plt.hist(list(map(len, tracks)));"
   ]
  },
  {
   "cell_type": "code",
   "execution_count": 20,
   "id": "fa68ad43-5f52-4b5e-ac5c-355de5175d1f",
   "metadata": {},
   "outputs": [],
   "source": [
    "import fractions"
   ]
  },
  {
   "cell_type": "code",
   "execution_count": 21,
   "id": "1866c563-167a-441d-963a-b83639e7abc2",
   "metadata": {},
   "outputs": [],
   "source": [
    "duration_to_number = {}\n",
    "number_to_duration  = {}\n",
    "\n",
    "count=0\n",
    "duration = 0\n",
    "while duration <= 20:\n",
    "    number_to_duration[count] = duration\n",
    "    duration_to_number[duration] = count\n",
    "    count+=1\n",
    "    duration+=0.25\n",
    "\n",
    "duration = 0\n",
    "while duration <= 20:\n",
    "    if not duration in duration_to_number:\n",
    "        number_to_duration[count] = duration\n",
    "        duration_to_number[duration] = count\n",
    "        count+=1\n",
    "    duration+=fractions.Fraction(1,3)"
   ]
  },
  {
   "cell_type": "code",
   "execution_count": 22,
   "id": "8ea16fa3-5eb6-436a-a357-1df5d82e34a0",
   "metadata": {},
   "outputs": [],
   "source": [
    "interval_to_number = {}\n",
    "number_to_interval = {}\n",
    "\n",
    "for i in range(0,100):\n",
    "    interval_to_number[i] = i\n",
    "    interval_to_number[-i] = 100 + i\n",
    "    number_to_interval[i] = i\n",
    "    number_to_interval[100+i] = -i"
   ]
  },
  {
   "cell_type": "code",
   "execution_count": 23,
   "id": "2522cbad-bf9e-4a4b-affc-4f458e829693",
   "metadata": {},
   "outputs": [],
   "source": [
    "train_set = [ \\\n",
    "    [\\\n",
    "        [\n",
    "         duration_to_number[round(element['relative_offset']*4)/4] if (round(element['relative_offset']*4)/4 in duration_to_number) else 1, \n",
    "         interval_to_number[element['interval']], \n",
    "         duration_to_number[element['duration']]\n",
    "        ] \\\n",
    "    for element in track]\\\n",
    "for track in tracks]"
   ]
  },
  {
   "cell_type": "code",
   "execution_count": 24,
   "id": "196375b8-ce28-41ac-8e79-6c14c303bf45",
   "metadata": {},
   "outputs": [],
   "source": [
    "# split a multivariate sequence into samples\n",
    "def split_sequences(sequences, n_steps):\n",
    "    X, y = list(), list()\n",
    "    for i in range(len(sequences)):\n",
    "        # find the end of this pattern\n",
    "        end_ix = i + n_steps\n",
    "        # check if we are beyond the dataset\n",
    "        if end_ix > len(sequences)-1:\n",
    "            break\n",
    "        # gather input and output parts of the pattern\n",
    "        seq_x, seq_y = np.array(sequences)[i:end_ix, :], np.array(sequences)[end_ix, :]\n",
    "        X.append(seq_x)\n",
    "        y.append(seq_y)\n",
    "    return np.array(X), np.array(y)"
   ]
  },
  {
   "cell_type": "code",
   "execution_count": 25,
   "id": "b3c84ae8-2938-49d9-8ad0-b09c5b68139a",
   "metadata": {
    "tags": []
   },
   "outputs": [],
   "source": [
    "X, y = [], []\n",
    "for i in range(len(train_set)):\n",
    "    X_temp, y_temp = split_sequences(train_set[i], 10)\n",
    "      \n",
    "    if (len(X_temp) > 0 and len(y_temp) > 0):\n",
    "        X = X_temp if len(X)==0 else np.concatenate([X,X_temp])\n",
    "        y = y_temp if len(y)==0 else np.concatenate([y,y_temp])\n",
    "    \n",
    "\n"
   ]
  },
  {
   "cell_type": "code",
   "execution_count": 27,
   "id": "91c94197-4055-456c-b26b-92326468f8aa",
   "metadata": {},
   "outputs": [],
   "source": [
    "# Save into a pickle file.\n",
    "import pickle\n",
    "\n",
    "pickle.dump( tracks, open( \"training_tracks_seqlength10.p\", \"wb\" ) )"
   ]
  },
  {
   "cell_type": "code",
   "execution_count": 28,
   "id": "f0dbfef1-c64f-4330-8c29-2db20c334428",
   "metadata": {},
   "outputs": [],
   "source": [
    "from keras.layers import Dense, Dropout, LSTM, Input\n",
    "from keras import Model\n",
    "from keras.metrics import SparseTopKCategoricalAccuracy"
   ]
  },
  {
   "cell_type": "code",
   "execution_count": 29,
   "id": "b84dfe5a-fcb0-4508-a05c-35f35eaca7ca",
   "metadata": {},
   "outputs": [
    {
     "name": "stdout",
     "output_type": "stream",
     "text": [
      "Model: \"model_1\"\n",
      "__________________________________________________________________________________________________\n",
      "Layer (type)                    Output Shape         Param #     Connected to                     \n",
      "==================================================================================================\n",
      "input_1 (InputLayer)            (None, 10, 3)        0                                            \n",
      "__________________________________________________________________________________________________\n",
      "lstm_1 (LSTM)                   (None, 10, 5)        180         input_1[0][0]                    \n",
      "__________________________________________________________________________________________________\n",
      "dropout_1 (Dropout)             (None, 10, 5)        0           lstm_1[0][0]                     \n",
      "__________________________________________________________________________________________________\n",
      "lstm_2 (LSTM)                   (None, 5)            220         dropout_1[0][0]                  \n",
      "__________________________________________________________________________________________________\n",
      "dropout_2 (Dropout)             (None, 5)            0           lstm_2[0][0]                     \n",
      "__________________________________________________________________________________________________\n",
      "dense_1 (Dense)                 (None, 121)          726         dropout_2[0][0]                  \n",
      "__________________________________________________________________________________________________\n",
      "dense_2 (Dense)                 (None, 199)          1194        dropout_2[0][0]                  \n",
      "__________________________________________________________________________________________________\n",
      "dense_3 (Dense)                 (None, 121)          726         dropout_2[0][0]                  \n",
      "==================================================================================================\n",
      "Total params: 3,046\n",
      "Trainable params: 3,046\n",
      "Non-trainable params: 0\n",
      "__________________________________________________________________________________________________\n"
     ]
    }
   ],
   "source": [
    "hid = 5\n",
    "past_time_steps = 10\n",
    "n_features = 3\n",
    "future_time_steps = 1\n",
    "inputs = Input(shape=(past_time_steps, n_features))\n",
    "m = LSTM(hid, return_sequences=True)(inputs)\n",
    "m = Dropout(0.5)(m)\n",
    "m = LSTM(hid)(m)\n",
    "m = Dropout(0.5)(m)\n",
    "\n",
    "#outputA = Dense(future_time_steps, activation='linear')(m)\n",
    "#outputB = Dense(future_time_steps, activation='linear')(m)\n",
    "#outputC = Dense(future_time_steps, activation='linear')(m)\n",
    "\n",
    "outputA = Dense(len(duration_to_number), activation='softmax')(m)\n",
    "outputB = Dense(len(interval_to_number), activation='softmax')(m)\n",
    "outputC = Dense(len(duration_to_number), activation='softmax')(m)\n",
    "\n",
    "m = Model(inputs=[inputs], outputs=[outputA, outputB, outputC])\n",
    "#m.compile(optimizer='adam', loss='mae')\n",
    "\n",
    "m.compile(loss='sparse_categorical_crossentropy', optimizer='adam', metrics=[SparseTopKCategoricalAccuracy(k=3, name='sparse_top_k_categorical_accuracy')])\n",
    "\n",
    "\n",
    "m.summary()"
   ]
  },
  {
   "cell_type": "code",
   "execution_count": 30,
   "id": "71a3f5a5-b063-42dc-8726-3d19cd4b24d6",
   "metadata": {},
   "outputs": [],
   "source": [
    "# checkpoint\n",
    "filepath=\"models_checkpoints/weights-improvement-{epoch:02d}-{val_loss:.2f}.hdf5\"\n",
    "checkpoint = ModelCheckpoint(filepath, monitor='val_loss', verbose=1, save_best_only=False, mode='min')\n",
    "early_stopping = EarlyStopping(monitor='val_loss', mode='min', verbose=1, patience=3)\n",
    "callbacks_list = [checkpoint, early_stopping]"
   ]
  },
  {
   "cell_type": "code",
   "execution_count": 31,
   "id": "a2c6e825-dca7-4930-aa3d-d8ad0051f18c",
   "metadata": {},
   "outputs": [],
   "source": [
    "BATCH_SIZE = 64\n",
    "EPOCHS = 50"
   ]
  },
  {
   "cell_type": "code",
   "execution_count": 32,
   "id": "725d444b-7949-4486-bc47-4ea901ce8df0",
   "metadata": {},
   "outputs": [],
   "source": [
    "y1 = y[:,0]\n",
    "y2 = y[:,1]\n",
    "y3 = y[:,2]"
   ]
  },
  {
   "cell_type": "code",
   "execution_count": 33,
   "id": "fb5e17ed-c97c-4738-a630-7d51b2838abe",
   "metadata": {},
   "outputs": [
    {
     "name": "stdout",
     "output_type": "stream",
     "text": [
      "WARNING:tensorflow:From C:\\Users\\jvela\\miniconda3\\envs\\dathoven2\\lib\\site-packages\\keras\\backend\\tensorflow_backend.py:422: The name tf.global_variables is deprecated. Please use tf.compat.v1.global_variables instead.\n",
      "\n",
      "Train on 13507 samples, validate on 1501 samples\n",
      "Epoch 1/50\n",
      "13507/13507 [==============================] - 8s 594us/step - loss: 12.8341 - dense_1_loss: 4.0388 - dense_2_loss: 4.6984 - dense_3_loss: 4.0900 - dense_1_sparse_top_k_categorical_accuracy: 0.6754 - dense_2_sparse_top_k_categorical_accuracy: 0.3098 - dense_3_sparse_top_k_categorical_accuracy: 0.7620 - val_loss: 9.1693 - val_dense_1_loss: 2.7207 - val_dense_2_loss: 3.6940 - val_dense_3_loss: 2.7535 - val_dense_1_sparse_top_k_categorical_accuracy: 0.9294 - val_dense_2_sparse_top_k_categorical_accuracy: 0.4304 - val_dense_3_sparse_top_k_categorical_accuracy: 0.9880\n",
      "\n",
      "Epoch 00001: saving model to models_checkpoints/weights-improvement-01-9.17.hdf5\n",
      "Epoch 2/50\n",
      "13507/13507 [==============================] - 6s 444us/step - loss: 7.2195 - dense_1_loss: 2.0806 - dense_2_loss: 3.2656 - dense_3_loss: 1.8633 - dense_1_sparse_top_k_categorical_accuracy: 0.9461 - dense_2_sparse_top_k_categorical_accuracy: 0.4714 - dense_3_sparse_top_k_categorical_accuracy: 0.9884 - val_loss: 5.3689 - val_dense_1_loss: 1.4476 - val_dense_2_loss: 2.8543 - val_dense_3_loss: 1.0608 - val_dense_1_sparse_top_k_categorical_accuracy: 0.9294 - val_dense_2_sparse_top_k_categorical_accuracy: 0.4684 - val_dense_3_sparse_top_k_categorical_accuracy: 0.9880\n",
      "\n",
      "Epoch 00002: saving model to models_checkpoints/weights-improvement-02-5.37.hdf5\n",
      "Epoch 3/50\n",
      "13507/13507 [==============================] - 6s 451us/step - loss: 5.7633 - dense_1_loss: 1.6065 - dense_2_loss: 2.9640 - dense_3_loss: 1.1865 - dense_1_sparse_top_k_categorical_accuracy: 0.9461 - dense_2_sparse_top_k_categorical_accuracy: 0.4957 - dense_3_sparse_top_k_categorical_accuracy: 0.9884 - val_loss: 4.7099 - val_dense_1_loss: 1.2409 - val_dense_2_loss: 2.7183 - val_dense_3_loss: 0.7423 - val_dense_1_sparse_top_k_categorical_accuracy: 0.9294 - val_dense_2_sparse_top_k_categorical_accuracy: 0.4684 - val_dense_3_sparse_top_k_categorical_accuracy: 0.9880\n",
      "\n",
      "Epoch 00003: saving model to models_checkpoints/weights-improvement-03-4.71.hdf5\n",
      "Epoch 4/50\n",
      "13507/13507 [==============================] - 6s 446us/step - loss: 5.3319 - dense_1_loss: 1.4828 - dense_2_loss: 2.8747 - dense_3_loss: 0.9930 - dense_1_sparse_top_k_categorical_accuracy: 0.9461 - dense_2_sparse_top_k_categorical_accuracy: 0.4971 - dense_3_sparse_top_k_categorical_accuracy: 0.9884 - val_loss: 4.5274 - val_dense_1_loss: 1.1854 - val_dense_2_loss: 2.6746 - val_dense_3_loss: 0.6582 - val_dense_1_sparse_top_k_categorical_accuracy: 0.9294 - val_dense_2_sparse_top_k_categorical_accuracy: 0.4684 - val_dense_3_sparse_top_k_categorical_accuracy: 0.9880\n",
      "\n",
      "Epoch 00004: saving model to models_checkpoints/weights-improvement-04-4.53.hdf5\n",
      "Epoch 5/50\n",
      "13507/13507 [==============================] - 6s 453us/step - loss: 5.1109 - dense_1_loss: 1.3932 - dense_2_loss: 2.8329 - dense_3_loss: 0.8887 - dense_1_sparse_top_k_categorical_accuracy: 0.9461 - dense_2_sparse_top_k_categorical_accuracy: 0.5003 - dense_3_sparse_top_k_categorical_accuracy: 0.9884 - val_loss: 4.4616 - val_dense_1_loss: 1.1650 - val_dense_2_loss: 2.6587 - val_dense_3_loss: 0.6279 - val_dense_1_sparse_top_k_categorical_accuracy: 0.9294 - val_dense_2_sparse_top_k_categorical_accuracy: 0.4684 - val_dense_3_sparse_top_k_categorical_accuracy: 0.9880\n",
      "\n",
      "Epoch 00005: saving model to models_checkpoints/weights-improvement-05-4.46.hdf5\n",
      "Epoch 6/50\n",
      "13507/13507 [==============================] - 6s 448us/step - loss: 4.9732 - dense_1_loss: 1.3469 - dense_2_loss: 2.7933 - dense_3_loss: 0.8364 - dense_1_sparse_top_k_categorical_accuracy: 0.9461 - dense_2_sparse_top_k_categorical_accuracy: 0.5020 - dense_3_sparse_top_k_categorical_accuracy: 0.9884 - val_loss: 4.4278 - val_dense_1_loss: 1.1566 - val_dense_2_loss: 2.6468 - val_dense_3_loss: 0.6147 - val_dense_1_sparse_top_k_categorical_accuracy: 0.9294 - val_dense_2_sparse_top_k_categorical_accuracy: 0.4684 - val_dense_3_sparse_top_k_categorical_accuracy: 0.9880\n",
      "\n",
      "Epoch 00006: saving model to models_checkpoints/weights-improvement-06-4.43.hdf5\n",
      "Epoch 7/50\n",
      "13507/13507 [==============================] - 6s 448us/step - loss: 4.8921 - dense_1_loss: 1.3354 - dense_2_loss: 2.7851 - dense_3_loss: 0.8064 - dense_1_sparse_top_k_categorical_accuracy: 0.9461 - dense_2_sparse_top_k_categorical_accuracy: 0.5014 - dense_3_sparse_top_k_categorical_accuracy: 0.9884 - val_loss: 4.4130 - val_dense_1_loss: 1.1521 - val_dense_2_loss: 2.6426 - val_dense_3_loss: 0.6084 - val_dense_1_sparse_top_k_categorical_accuracy: 0.9294 - val_dense_2_sparse_top_k_categorical_accuracy: 0.4684 - val_dense_3_sparse_top_k_categorical_accuracy: 0.9880\n",
      "\n",
      "Epoch 00007: saving model to models_checkpoints/weights-improvement-07-4.41.hdf5\n",
      "Epoch 8/50\n",
      "13507/13507 [==============================] - 6s 457us/step - loss: 4.8143 - dense_1_loss: 1.2998 - dense_2_loss: 2.7527 - dense_3_loss: 0.7582 - dense_1_sparse_top_k_categorical_accuracy: 0.9461 - dense_2_sparse_top_k_categorical_accuracy: 0.5015 - dense_3_sparse_top_k_categorical_accuracy: 0.9884 - val_loss: 4.4033 - val_dense_1_loss: 1.1490 - val_dense_2_loss: 2.6398 - val_dense_3_loss: 0.6044 - val_dense_1_sparse_top_k_categorical_accuracy: 0.9294 - val_dense_2_sparse_top_k_categorical_accuracy: 0.4684 - val_dense_3_sparse_top_k_categorical_accuracy: 0.9880rical_accuracy: 0.9463 - dense_2_sparse_top_k_categorical_accuracy: 0.5030 - dense_3_sparse_\n",
      "\n",
      "Epoch 00008: saving model to models_checkpoints/weights-improvement-08-4.40.hdf5\n",
      "Epoch 9/50\n",
      "13507/13507 [==============================] - 6s 454us/step - loss: 4.7397 - dense_1_loss: 1.2724 - dense_2_loss: 2.7295 - dense_3_loss: 0.7299 - dense_1_sparse_top_k_categorical_accuracy: 0.9461 - dense_2_sparse_top_k_categorical_accuracy: 0.5009 - dense_3_sparse_top_k_categorical_accuracy: 0.9884 - val_loss: 4.3977 - val_dense_1_loss: 1.1470 - val_dense_2_loss: 2.6377 - val_dense_3_loss: 0.6027 - val_dense_1_sparse_top_k_categorical_accuracy: 0.9294 - val_dense_2_sparse_top_k_categorical_accuracy: 0.4684 - val_dense_3_sparse_top_k_categorical_accuracy: 0.9880\n",
      "\n",
      "Epoch 00009: saving model to models_checkpoints/weights-improvement-09-4.40.hdf5\n",
      "Epoch 10/50\n",
      "13507/13507 [==============================] - 6s 449us/step - loss: 4.7057 - dense_1_loss: 1.2670 - dense_2_loss: 2.7211 - dense_3_loss: 0.7140 - dense_1_sparse_top_k_categorical_accuracy: 0.9461 - dense_2_sparse_top_k_categorical_accuracy: 0.5015 - dense_3_sparse_top_k_categorical_accuracy: 0.9884 - val_loss: 4.3949 - val_dense_1_loss: 1.1462 - val_dense_2_loss: 2.6368 - val_dense_3_loss: 0.6016 - val_dense_1_sparse_top_k_categorical_accuracy: 0.9294 - val_dense_2_sparse_top_k_categorical_accuracy: 0.4684 - val_dense_3_sparse_top_k_categorical_accuracy: 0.9880\n",
      "\n",
      "Epoch 00010: saving model to models_checkpoints/weights-improvement-10-4.39.hdf5\n",
      "Epoch 11/50\n",
      "13507/13507 [==============================] - 6s 448us/step - loss: 4.6589 - dense_1_loss: 1.2465 - dense_2_loss: 2.7102 - dense_3_loss: 0.6989 - dense_1_sparse_top_k_categorical_accuracy: 0.9460 - dense_2_sparse_top_k_categorical_accuracy: 0.5014 - dense_3_sparse_top_k_categorical_accuracy: 0.9883 - val_loss: 4.3939 - val_dense_1_loss: 1.1456 - val_dense_2_loss: 2.6364 - val_dense_3_loss: 0.6017 - val_dense_1_sparse_top_k_categorical_accuracy: 0.9294 - val_dense_2_sparse_top_k_categorical_accuracy: 0.4684 - val_dense_3_sparse_top_k_categorical_accuracy: 0.9880\n",
      "\n",
      "Epoch 00011: saving model to models_checkpoints/weights-improvement-11-4.39.hdf5\n",
      "Epoch 12/50\n",
      "13507/13507 [==============================] - 6s 453us/step - loss: 4.6229 - dense_1_loss: 1.2457 - dense_2_loss: 2.6961 - dense_3_loss: 0.6810 - dense_1_sparse_top_k_categorical_accuracy: 0.9461 - dense_2_sparse_top_k_categorical_accuracy: 0.5015 - dense_3_sparse_top_k_categorical_accuracy: 0.9884 - val_loss: 4.3925 - val_dense_1_loss: 1.1461 - val_dense_2_loss: 2.6361 - val_dense_3_loss: 0.6005 - val_dense_1_sparse_top_k_categorical_accuracy: 0.9294 - val_dense_2_sparse_top_k_categorical_accuracy: 0.4684 - val_dense_3_sparse_top_k_categorical_accuracy: 0.9880\n",
      "\n",
      "Epoch 00012: saving model to models_checkpoints/weights-improvement-12-4.39.hdf5\n",
      "Epoch 13/50\n",
      "13507/13507 [==============================] - 6s 450us/step - loss: 4.5830 - dense_1_loss: 1.2324 - dense_2_loss: 2.6926 - dense_3_loss: 0.6721 - dense_1_sparse_top_k_categorical_accuracy: 0.9461 - dense_2_sparse_top_k_categorical_accuracy: 0.5015 - dense_3_sparse_top_k_categorical_accuracy: 0.9884 - val_loss: 4.3905 - val_dense_1_loss: 1.1449 - val_dense_2_loss: 2.6352 - val_dense_3_loss: 0.6003 - val_dense_1_sparse_top_k_categorical_accuracy: 0.9294 - val_dense_2_sparse_top_k_categorical_accuracy: 0.4684 - val_dense_3_sparse_top_k_categorical_accuracy: 0.9880\n",
      "\n",
      "Epoch 00013: saving model to models_checkpoints/weights-improvement-13-4.39.hdf5\n",
      "Epoch 14/50\n",
      "13507/13507 [==============================] - 6s 450us/step - loss: 4.5642 - dense_1_loss: 1.2178 - dense_2_loss: 2.6836 - dense_3_loss: 0.6568 - dense_1_sparse_top_k_categorical_accuracy: 0.9461 - dense_2_sparse_top_k_categorical_accuracy: 0.5015 - dense_3_sparse_top_k_categorical_accuracy: 0.9884 - val_loss: 4.3898 - val_dense_1_loss: 1.1456 - val_dense_2_loss: 2.6349 - val_dense_3_loss: 0.5993 - val_dense_1_sparse_top_k_categorical_accuracy: 0.9294 - val_dense_2_sparse_top_k_categorical_accuracy: 0.4684 - val_dense_3_sparse_top_k_categorical_accuracy: 0.9880\n",
      "\n",
      "Epoch 00014: saving model to models_checkpoints/weights-improvement-14-4.39.hdf5\n",
      "Epoch 15/50\n",
      "13507/13507 [==============================] - 6s 453us/step - loss: 4.5266 - dense_1_loss: 1.2090 - dense_2_loss: 2.6655 - dense_3_loss: 0.6429 - dense_1_sparse_top_k_categorical_accuracy: 0.9461 - dense_2_sparse_top_k_categorical_accuracy: 0.5015 - dense_3_sparse_top_k_categorical_accuracy: 0.9884 - val_loss: 4.3900 - val_dense_1_loss: 1.1450 - val_dense_2_loss: 2.6361 - val_dense_3_loss: 0.5990 - val_dense_1_sparse_top_k_categorical_accuracy: 0.9294 - val_dense_2_sparse_top_k_categorical_accuracy: 0.4684 - val_dense_3_sparse_top_k_categorical_accuracy: 0.9880\n",
      "\n",
      "Epoch 00015: saving model to models_checkpoints/weights-improvement-15-4.39.hdf5\n",
      "Epoch 16/50\n",
      "13507/13507 [==============================] - 6s 449us/step - loss: 4.5051 - dense_1_loss: 1.1980 - dense_2_loss: 2.6673 - dense_3_loss: 0.6318 - dense_1_sparse_top_k_categorical_accuracy: 0.9461 - dense_2_sparse_top_k_categorical_accuracy: 0.5015 - dense_3_sparse_top_k_categorical_accuracy: 0.9884 - val_loss: 4.3875 - val_dense_1_loss: 1.1432 - val_dense_2_loss: 2.6360 - val_dense_3_loss: 0.5984 - val_dense_1_sparse_top_k_categorical_accuracy: 0.9294 - val_dense_2_sparse_top_k_categorical_accuracy: 0.4684 - val_dense_3_sparse_top_k_categorical_accuracy: 0.9880\n",
      "\n",
      "Epoch 00016: saving model to models_checkpoints/weights-improvement-16-4.39.hdf5\n",
      "Epoch 17/50\n",
      "13507/13507 [==============================] - 6s 452us/step - loss: 4.4879 - dense_1_loss: 1.1953 - dense_2_loss: 2.6627 - dense_3_loss: 0.6280 - dense_1_sparse_top_k_categorical_accuracy: 0.9461 - dense_2_sparse_top_k_categorical_accuracy: 0.5015 - dense_3_sparse_top_k_categorical_accuracy: 0.9884 - val_loss: 4.3884 - val_dense_1_loss: 1.1455 - val_dense_2_loss: 2.6353 - val_dense_3_loss: 0.5978 - val_dense_1_sparse_top_k_categorical_accuracy: 0.9294 - val_dense_2_sparse_top_k_categorical_accuracy: 0.4684 - val_dense_3_sparse_top_k_categorical_accuracy: 0.9880\n",
      "\n",
      "Epoch 00017: saving model to models_checkpoints/weights-improvement-17-4.39.hdf5\n",
      "Epoch 18/50\n",
      "13507/13507 [==============================] - 6s 449us/step - loss: 4.4534 - dense_1_loss: 1.1885 - dense_2_loss: 2.6502 - dense_3_loss: 0.6172 - dense_1_sparse_top_k_categorical_accuracy: 0.9461 - dense_2_sparse_top_k_categorical_accuracy: 0.5015 - dense_3_sparse_top_k_categorical_accuracy: 0.9884 - val_loss: 4.3870 - val_dense_1_loss: 1.1441 - val_dense_2_loss: 2.6356 - val_dense_3_loss: 0.5975 - val_dense_1_sparse_top_k_categorical_accuracy: 0.9294 - val_dense_2_sparse_top_k_categorical_accuracy: 0.4684 - val_dense_3_sparse_top_k_categorical_accuracy: 0.9880\n",
      "\n",
      "Epoch 00018: saving model to models_checkpoints/weights-improvement-18-4.39.hdf5\n",
      "Epoch 19/50\n",
      "13507/13507 [==============================] - 6s 458us/step - loss: 4.4318 - dense_1_loss: 1.1753 - dense_2_loss: 2.6478 - dense_3_loss: 0.6082 - dense_1_sparse_top_k_categorical_accuracy: 0.9461 - dense_2_sparse_top_k_categorical_accuracy: 0.5015 - dense_3_sparse_top_k_categorical_accuracy: 0.9884 - val_loss: 4.3854 - val_dense_1_loss: 1.1426 - val_dense_2_loss: 2.6359 - val_dense_3_loss: 0.5973 - val_dense_1_sparse_top_k_categorical_accuracy: 0.9294 - val_dense_2_sparse_top_k_categorical_accuracy: 0.4684 - val_dense_3_sparse_top_k_categorical_accuracy: 0.9880\n",
      "\n",
      "Epoch 00019: saving model to models_checkpoints/weights-improvement-19-4.39.hdf5\n",
      "Epoch 20/50\n",
      "13507/13507 [==============================] - 6s 453us/step - loss: 4.4300 - dense_1_loss: 1.1767 - dense_2_loss: 2.6504 - dense_3_loss: 0.6041 - dense_1_sparse_top_k_categorical_accuracy: 0.9461 - dense_2_sparse_top_k_categorical_accuracy: 0.5015 - dense_3_sparse_top_k_categorical_accuracy: 0.9884 - val_loss: 4.3807 - val_dense_1_loss: 1.1412 - val_dense_2_loss: 2.6350 - val_dense_3_loss: 0.5949 - val_dense_1_sparse_top_k_categorical_accuracy: 0.9294 - val_dense_2_sparse_top_k_categorical_accuracy: 0.4684 - val_dense_3_sparse_top_k_categorical_accuracy: 0.9880\n",
      "\n",
      "Epoch 00020: saving model to models_checkpoints/weights-improvement-20-4.38.hdf5\n",
      "Epoch 21/50\n",
      "13507/13507 [==============================] - 6s 457us/step - loss: 4.3991 - dense_1_loss: 1.1679 - dense_2_loss: 2.6296 - dense_3_loss: 0.5926 - dense_1_sparse_top_k_categorical_accuracy: 0.9461 - dense_2_sparse_top_k_categorical_accuracy: 0.5015 - dense_3_sparse_top_k_categorical_accuracy: 0.9884 - val_loss: 4.3720 - val_dense_1_loss: 1.1392 - val_dense_2_loss: 2.6343 - val_dense_3_loss: 0.5895 - val_dense_1_sparse_top_k_categorical_accuracy: 0.9294 - val_dense_2_sparse_top_k_categorical_accuracy: 0.4684 - val_dense_3_sparse_top_k_categorical_accuracy: 0.9880\n",
      "\n",
      "Epoch 00021: saving model to models_checkpoints/weights-improvement-21-4.37.hdf5\n",
      "Epoch 22/50\n",
      "13507/13507 [==============================] - 6s 450us/step - loss: 4.3721 - dense_1_loss: 1.1628 - dense_2_loss: 2.6221 - dense_3_loss: 0.5861 - dense_1_sparse_top_k_categorical_accuracy: 0.9461 - dense_2_sparse_top_k_categorical_accuracy: 0.5015 - dense_3_sparse_top_k_categorical_accuracy: 0.9884 - val_loss: 4.3582 - val_dense_1_loss: 1.1381 - val_dense_2_loss: 2.6285 - val_dense_3_loss: 0.5823 - val_dense_1_sparse_top_k_categorical_accuracy: 0.9294 - val_dense_2_sparse_top_k_categorical_accuracy: 0.4684 - val_dense_3_sparse_top_k_categorical_accuracy: 0.9880\n",
      "\n",
      "Epoch 00022: saving model to models_checkpoints/weights-improvement-22-4.36.hdf5\n",
      "Epoch 23/50\n",
      "13507/13507 [==============================] - 6s 451us/step - loss: 4.3462 - dense_1_loss: 1.1555 - dense_2_loss: 2.6220 - dense_3_loss: 0.5728 - dense_1_sparse_top_k_categorical_accuracy: 0.9461 - dense_2_sparse_top_k_categorical_accuracy: 0.5015 - dense_3_sparse_top_k_categorical_accuracy: 0.9884 - val_loss: 4.3336 - val_dense_1_loss: 1.1345 - val_dense_2_loss: 2.6225 - val_dense_3_loss: 0.5680 - val_dense_1_sparse_top_k_categorical_accuracy: 0.9294 - val_dense_2_sparse_top_k_categorical_accuracy: 0.4684 - val_dense_3_sparse_top_k_categorical_accuracy: 0.9880\n",
      "\n",
      "Epoch 00023: saving model to models_checkpoints/weights-improvement-23-4.33.hdf5\n",
      "Epoch 24/50\n",
      "13507/13507 [==============================] - 6s 450us/step - loss: 4.3333 - dense_1_loss: 1.1591 - dense_2_loss: 2.6114 - dense_3_loss: 0.5643 - dense_1_sparse_top_k_categorical_accuracy: 0.9461 - dense_2_sparse_top_k_categorical_accuracy: 0.5015 - dense_3_sparse_top_k_categorical_accuracy: 0.9884 - val_loss: 4.3110 - val_dense_1_loss: 1.1306 - val_dense_2_loss: 2.6199 - val_dense_3_loss: 0.5526 - val_dense_1_sparse_top_k_categorical_accuracy: 0.9294 - val_dense_2_sparse_top_k_categorical_accuracy: 0.4684 - val_dense_3_sparse_top_k_categorical_accuracy: 0.9880\n",
      "\n",
      "Epoch 00024: saving model to models_checkpoints/weights-improvement-24-4.31.hdf5\n",
      "Epoch 25/50\n",
      "13507/13507 [==============================] - 6s 451us/step - loss: 4.3043 - dense_1_loss: 1.1405 - dense_2_loss: 2.6088 - dense_3_loss: 0.5496 - dense_1_sparse_top_k_categorical_accuracy: 0.9461 - dense_2_sparse_top_k_categorical_accuracy: 0.5015 - dense_3_sparse_top_k_categorical_accuracy: 0.9884 - val_loss: 4.2921 - val_dense_1_loss: 1.1253 - val_dense_2_loss: 2.6172 - val_dense_3_loss: 0.5417 - val_dense_1_sparse_top_k_categorical_accuracy: 0.9294 - val_dense_2_sparse_top_k_categorical_accuracy: 0.4684 - val_dense_3_sparse_top_k_categorical_accuracy: 0.9880\n",
      "\n",
      "Epoch 00025: saving model to models_checkpoints/weights-improvement-25-4.29.hdf5\n",
      "Epoch 26/50\n",
      "13507/13507 [==============================] - 6s 450us/step - loss: 4.2916 - dense_1_loss: 1.1418 - dense_2_loss: 2.6072 - dense_3_loss: 0.5447 - dense_1_sparse_top_k_categorical_accuracy: 0.9461 - dense_2_sparse_top_k_categorical_accuracy: 0.5015 - dense_3_sparse_top_k_categorical_accuracy: 0.9884 - val_loss: 4.2888 - val_dense_1_loss: 1.1272 - val_dense_2_loss: 2.6183 - val_dense_3_loss: 0.5353 - val_dense_1_sparse_top_k_categorical_accuracy: 0.9294 - val_dense_2_sparse_top_k_categorical_accuracy: 0.4684 - val_dense_3_sparse_top_k_categorical_accuracy: 0.9880\n",
      "\n",
      "Epoch 00026: saving model to models_checkpoints/weights-improvement-26-4.29.hdf5\n",
      "Epoch 27/50\n",
      "13507/13507 [==============================] - 6s 451us/step - loss: 4.2638 - dense_1_loss: 1.1290 - dense_2_loss: 2.6055 - dense_3_loss: 0.5325 - dense_1_sparse_top_k_categorical_accuracy: 0.9461 - dense_2_sparse_top_k_categorical_accuracy: 0.5015 - dense_3_sparse_top_k_categorical_accuracy: 0.9884 - val_loss: 4.2667 - val_dense_1_loss: 1.1198 - val_dense_2_loss: 2.6143 - val_dense_3_loss: 0.5251 - val_dense_1_sparse_top_k_categorical_accuracy: 0.9294 - val_dense_2_sparse_top_k_categorical_accuracy: 0.4684 - val_dense_3_sparse_top_k_categorical_accuracy: 0.9880\n",
      "\n",
      "Epoch 00027: saving model to models_checkpoints/weights-improvement-27-4.27.hdf5\n",
      "Epoch 28/50\n",
      "13507/13507 [==============================] - 6s 447us/step - loss: 4.2505 - dense_1_loss: 1.1256 - dense_2_loss: 2.5983 - dense_3_loss: 0.5278 - dense_1_sparse_top_k_categorical_accuracy: 0.9461 - dense_2_sparse_top_k_categorical_accuracy: 0.5015 - dense_3_sparse_top_k_categorical_accuracy: 0.9884 - val_loss: 4.2661 - val_dense_1_loss: 1.1262 - val_dense_2_loss: 2.6189 - val_dense_3_loss: 0.5136 - val_dense_1_sparse_top_k_categorical_accuracy: 0.9294 - val_dense_2_sparse_top_k_categorical_accuracy: 0.4684 - val_dense_3_sparse_top_k_categorical_accuracy: 0.9880\n",
      "\n",
      "Epoch 00028: saving model to models_checkpoints/weights-improvement-28-4.27.hdf5\n",
      "Epoch 29/50\n",
      "13507/13507 [==============================] - 6s 449us/step - loss: 4.2329 - dense_1_loss: 1.1187 - dense_2_loss: 2.5903 - dense_3_loss: 0.5173 - dense_1_sparse_top_k_categorical_accuracy: 0.9461 - dense_2_sparse_top_k_categorical_accuracy: 0.5016 - dense_3_sparse_top_k_categorical_accuracy: 0.9884 - val_loss: 4.2504 - val_dense_1_loss: 1.1199 - val_dense_2_loss: 2.6129 - val_dense_3_loss: 0.5099 - val_dense_1_sparse_top_k_categorical_accuracy: 0.9294 - val_dense_2_sparse_top_k_categorical_accuracy: 0.4684 - val_dense_3_sparse_top_k_categorical_accuracy: 0.9880\n",
      "\n",
      "Epoch 00029: saving model to models_checkpoints/weights-improvement-29-4.25.hdf5\n",
      "Epoch 30/50\n",
      "13507/13507 [==============================] - 6s 451us/step - loss: 4.2152 - dense_1_loss: 1.1141 - dense_2_loss: 2.5889 - dense_3_loss: 0.5111 - dense_1_sparse_top_k_categorical_accuracy: 0.9461 - dense_2_sparse_top_k_categorical_accuracy: 0.5021 - dense_3_sparse_top_k_categorical_accuracy: 0.9884 - val_loss: 4.2418 - val_dense_1_loss: 1.1177 - val_dense_2_loss: 2.6109 - val_dense_3_loss: 0.5058 - val_dense_1_sparse_top_k_categorical_accuracy: 0.9294 - val_dense_2_sparse_top_k_categorical_accuracy: 0.4684 - val_dense_3_sparse_top_k_categorical_accuracy: 0.9880\n",
      "\n",
      "Epoch 00030: saving model to models_checkpoints/weights-improvement-30-4.24.hdf5\n",
      "Epoch 31/50\n",
      "13507/13507 [==============================] - 6s 448us/step - loss: 4.2014 - dense_1_loss: 1.1090 - dense_2_loss: 2.5892 - dense_3_loss: 0.5052 - dense_1_sparse_top_k_categorical_accuracy: 0.9461 - dense_2_sparse_top_k_categorical_accuracy: 0.5013 - dense_3_sparse_top_k_categorical_accuracy: 0.9884 - val_loss: 4.2293 - val_dense_1_loss: 1.1162 - val_dense_2_loss: 2.6083 - val_dense_3_loss: 0.4972 - val_dense_1_sparse_top_k_categorical_accuracy: 0.9294 - val_dense_2_sparse_top_k_categorical_accuracy: 0.4684 - val_dense_3_sparse_top_k_categorical_accuracy: 0.9880\n",
      "\n",
      "Epoch 00031: saving model to models_checkpoints/weights-improvement-31-4.23.hdf5\n",
      "Epoch 32/50\n",
      "13507/13507 [==============================] - 6s 449us/step - loss: 4.1882 - dense_1_loss: 1.1064 - dense_2_loss: 2.5806 - dense_3_loss: 0.5001 - dense_1_sparse_top_k_categorical_accuracy: 0.9461 - dense_2_sparse_top_k_categorical_accuracy: 0.5017 - dense_3_sparse_top_k_categorical_accuracy: 0.9884 - val_loss: 4.2227 - val_dense_1_loss: 1.1110 - val_dense_2_loss: 2.6077 - val_dense_3_loss: 0.4969 - val_dense_1_sparse_top_k_categorical_accuracy: 0.9294 - val_dense_2_sparse_top_k_categorical_accuracy: 0.4684 - val_dense_3_sparse_top_k_categorical_accuracy: 0.9880\n",
      "\n",
      "Epoch 00032: saving model to models_checkpoints/weights-improvement-32-4.22.hdf5\n",
      "Epoch 33/50\n",
      "13507/13507 [==============================] - 6s 449us/step - loss: 4.1773 - dense_1_loss: 1.1041 - dense_2_loss: 2.5756 - dense_3_loss: 0.5000 - dense_1_sparse_top_k_categorical_accuracy: 0.9461 - dense_2_sparse_top_k_categorical_accuracy: 0.5008 - dense_3_sparse_top_k_categorical_accuracy: 0.9884 - val_loss: 4.2198 - val_dense_1_loss: 1.1160 - val_dense_2_loss: 2.6072 - val_dense_3_loss: 0.4889 - val_dense_1_sparse_top_k_categorical_accuracy: 0.9294 - val_dense_2_sparse_top_k_categorical_accuracy: 0.4684 - val_dense_3_sparse_top_k_categorical_accuracy: 0.9880\n",
      "\n",
      "Epoch 00033: saving model to models_checkpoints/weights-improvement-33-4.22.hdf5\n",
      "Epoch 34/50\n",
      "13507/13507 [==============================] - 6s 446us/step - loss: 4.1742 - dense_1_loss: 1.1034 - dense_2_loss: 2.5713 - dense_3_loss: 0.4927 - dense_1_sparse_top_k_categorical_accuracy: 0.9461 - dense_2_sparse_top_k_categorical_accuracy: 0.5026 - dense_3_sparse_top_k_categorical_accuracy: 0.9884 - val_loss: 4.2197 - val_dense_1_loss: 1.1087 - val_dense_2_loss: 2.6066 - val_dense_3_loss: 0.4981 - val_dense_1_sparse_top_k_categorical_accuracy: 0.9294 - val_dense_2_sparse_top_k_categorical_accuracy: 0.4684 - val_dense_3_sparse_top_k_categorical_accuracy: 0.9880\n",
      "\n",
      "Epoch 00034: saving model to models_checkpoints/weights-improvement-34-4.22.hdf5\n",
      "Epoch 35/50\n",
      "13507/13507 [==============================] - 6s 447us/step - loss: 4.1550 - dense_1_loss: 1.0954 - dense_2_loss: 2.5656 - dense_3_loss: 0.4839 - dense_1_sparse_top_k_categorical_accuracy: 0.9461 - dense_2_sparse_top_k_categorical_accuracy: 0.5020 - dense_3_sparse_top_k_categorical_accuracy: 0.9884 - val_loss: 4.2113 - val_dense_1_loss: 1.1087 - val_dense_2_loss: 2.6056 - val_dense_3_loss: 0.4906 - val_dense_1_sparse_top_k_categorical_accuracy: 0.9294 - val_dense_2_sparse_top_k_categorical_accuracy: 0.4684 - val_dense_3_sparse_top_k_categorical_accuracy: 0.9880\n",
      "\n",
      "Epoch 00035: saving model to models_checkpoints/weights-improvement-35-4.21.hdf5\n",
      "Epoch 36/50\n",
      "13507/13507 [==============================] - 6s 450us/step - loss: 4.1587 - dense_1_loss: 1.0997 - dense_2_loss: 2.5644 - dense_3_loss: 0.4865 - dense_1_sparse_top_k_categorical_accuracy: 0.9461 - dense_2_sparse_top_k_categorical_accuracy: 0.5020 - dense_3_sparse_top_k_categorical_accuracy: 0.9884 - val_loss: 4.2064 - val_dense_1_loss: 1.1122 - val_dense_2_loss: 2.6040 - val_dense_3_loss: 0.4829 - val_dense_1_sparse_top_k_categorical_accuracy: 0.9294 - val_dense_2_sparse_top_k_categorical_accuracy: 0.4684 - val_dense_3_sparse_top_k_categorical_accuracy: 0.9880\n",
      "\n",
      "Epoch 00036: saving model to models_checkpoints/weights-improvement-36-4.21.hdf5\n",
      "Epoch 37/50\n",
      "13507/13507 [==============================] - 6s 445us/step - loss: 4.1384 - dense_1_loss: 1.0899 - dense_2_loss: 2.5700 - dense_3_loss: 0.4832 - dense_1_sparse_top_k_categorical_accuracy: 0.9461 - dense_2_sparse_top_k_categorical_accuracy: 0.5032 - dense_3_sparse_top_k_categorical_accuracy: 0.9884 - val_loss: 4.2024 - val_dense_1_loss: 1.1123 - val_dense_2_loss: 2.6045 - val_dense_3_loss: 0.4783 - val_dense_1_sparse_top_k_categorical_accuracy: 0.9294 - val_dense_2_sparse_top_k_categorical_accuracy: 0.4684 - val_dense_3_sparse_top_k_categorical_accuracy: 0.9880\n",
      "\n",
      "Epoch 00037: saving model to models_checkpoints/weights-improvement-37-4.20.hdf5\n",
      "Epoch 38/50\n",
      "13507/13507 [==============================] - 6s 448us/step - loss: 4.1356 - dense_1_loss: 1.0898 - dense_2_loss: 2.5617 - dense_3_loss: 0.4778 - dense_1_sparse_top_k_categorical_accuracy: 0.9461 - dense_2_sparse_top_k_categorical_accuracy: 0.5021 - dense_3_sparse_top_k_categorical_accuracy: 0.9884 - val_loss: 4.2016 - val_dense_1_loss: 1.1084 - val_dense_2_loss: 2.6028 - val_dense_3_loss: 0.4836 - val_dense_1_sparse_top_k_categorical_accuracy: 0.9294 - val_dense_2_sparse_top_k_categorical_accuracy: 0.4684 - val_dense_3_sparse_top_k_categorical_accuracy: 0.9880576 - dense_3_loss: 0.4832 - dense_1_sparse_top_k_categorical_accuracy: 0.9456 - dense_2_sparse_top_k_categorical_accuracy: \n",
      "\n",
      "Epoch 00038: saving model to models_checkpoints/weights-improvement-38-4.20.hdf5\n",
      "Epoch 39/50\n",
      "13507/13507 [==============================] - 6s 461us/step - loss: 4.1234 - dense_1_loss: 1.0922 - dense_2_loss: 2.5612 - dense_3_loss: 0.4722 - dense_1_sparse_top_k_categorical_accuracy: 0.9461 - dense_2_sparse_top_k_categorical_accuracy: 0.5025 - dense_3_sparse_top_k_categorical_accuracy: 0.9884 - val_loss: 4.1935 - val_dense_1_loss: 1.1055 - val_dense_2_loss: 2.6024 - val_dense_3_loss: 0.4788 - val_dense_1_sparse_top_k_categorical_accuracy: 0.9294 - val_dense_2_sparse_top_k_categorical_accuracy: 0.4684 - val_dense_3_sparse_top_k_categorical_accuracy: 0.9880\n",
      "\n",
      "Epoch 00039: saving model to models_checkpoints/weights-improvement-39-4.19.hdf5\n",
      "Epoch 40/50\n",
      "13507/13507 [==============================] - 7s 483us/step - loss: 4.1145 - dense_1_loss: 1.0834 - dense_2_loss: 2.5570 - dense_3_loss: 0.4691 - dense_1_sparse_top_k_categorical_accuracy: 0.9461 - dense_2_sparse_top_k_categorical_accuracy: 0.5031 - dense_3_sparse_top_k_categorical_accuracy: 0.9884 - val_loss: 4.2021 - val_dense_1_loss: 1.1033 - val_dense_2_loss: 2.6051 - val_dense_3_loss: 0.4878 - val_dense_1_sparse_top_k_categorical_accuracy: 0.9294 - val_dense_2_sparse_top_k_categorical_accuracy: 0.4684 - val_dense_3_sparse_top_k_categorical_accuracy: 0.9880\n",
      "\n",
      "Epoch 00040: saving model to models_checkpoints/weights-improvement-40-4.20.hdf5\n",
      "Epoch 41/50\n",
      "13507/13507 [==============================] - 6s 456us/step - loss: 4.1146 - dense_1_loss: 1.0932 - dense_2_loss: 2.5611 - dense_3_loss: 0.4668 - dense_1_sparse_top_k_categorical_accuracy: 0.9461 - dense_2_sparse_top_k_categorical_accuracy: 0.5024 - dense_3_sparse_top_k_categorical_accuracy: 0.9884 - val_loss: 4.1877 - val_dense_1_loss: 1.1090 - val_dense_2_loss: 2.6017 - val_dense_3_loss: 0.4695 - val_dense_1_sparse_top_k_categorical_accuracy: 0.9294 - val_dense_2_sparse_top_k_categorical_accuracy: 0.4684 - val_dense_3_sparse_top_k_categorical_accuracy: 0.988062 - dense_1_sparse_top_k_categorical_accuracy: 0.9471 - dense_2_sparse_top_k_categorical_accuracy: 0.5045 - d\n",
      "\n",
      "Epoch 00041: saving model to models_checkpoints/weights-improvement-41-4.19.hdf5\n",
      "Epoch 42/50\n",
      "13507/13507 [==============================] - 6s 421us/step - loss: 4.1003 - dense_1_loss: 1.0848 - dense_2_loss: 2.5552 - dense_3_loss: 0.4594 - dense_1_sparse_top_k_categorical_accuracy: 0.9461 - dense_2_sparse_top_k_categorical_accuracy: 0.5029 - dense_3_sparse_top_k_categorical_accuracy: 0.9884 - val_loss: 4.1854 - val_dense_1_loss: 1.1003 - val_dense_2_loss: 2.6029 - val_dense_3_loss: 0.4760 - val_dense_1_sparse_top_k_categorical_accuracy: 0.9294 - val_dense_2_sparse_top_k_categorical_accuracy: 0.4644 - val_dense_3_sparse_top_k_categorical_accuracy: 0.9880\n",
      "\n",
      "Epoch 00042: saving model to models_checkpoints/weights-improvement-42-4.19.hdf5\n",
      "Epoch 43/50\n",
      "13507/13507 [==============================] - 6s 411us/step - loss: 4.0914 - dense_1_loss: 1.0849 - dense_2_loss: 2.5469 - dense_3_loss: 0.4564 - dense_1_sparse_top_k_categorical_accuracy: 0.9461 - dense_2_sparse_top_k_categorical_accuracy: 0.5013 - dense_3_sparse_top_k_categorical_accuracy: 0.9884 - val_loss: 4.1773 - val_dense_1_loss: 1.1024 - val_dense_2_loss: 2.5986 - val_dense_3_loss: 0.4695 - val_dense_1_sparse_top_k_categorical_accuracy: 0.9294 - val_dense_2_sparse_top_k_categorical_accuracy: 0.4684 - val_dense_3_sparse_top_k_categorical_accuracy: 0.9880\n",
      "\n",
      "Epoch 00043: saving model to models_checkpoints/weights-improvement-43-4.18.hdf5\n",
      "Epoch 44/50\n",
      "13507/13507 [==============================] - 6s 414us/step - loss: 4.0832 - dense_1_loss: 1.0741 - dense_2_loss: 2.5511 - dense_3_loss: 0.4574 - dense_1_sparse_top_k_categorical_accuracy: 0.9461 - dense_2_sparse_top_k_categorical_accuracy: 0.5026 - dense_3_sparse_top_k_categorical_accuracy: 0.9884 - val_loss: 4.1784 - val_dense_1_loss: 1.0984 - val_dense_2_loss: 2.6021 - val_dense_3_loss: 0.4714 - val_dense_1_sparse_top_k_categorical_accuracy: 0.9294 - val_dense_2_sparse_top_k_categorical_accuracy: 0.4670 - val_dense_3_sparse_top_k_categorical_accuracy: 0.9880\n",
      "\n",
      "Epoch 00044: saving model to models_checkpoints/weights-improvement-44-4.18.hdf5\n",
      "Epoch 45/50\n",
      "13507/13507 [==============================] - 6s 416us/step - loss: 4.0725 - dense_1_loss: 1.0738 - dense_2_loss: 2.5490 - dense_3_loss: 0.4517 - dense_1_sparse_top_k_categorical_accuracy: 0.9461 - dense_2_sparse_top_k_categorical_accuracy: 0.5048 - dense_3_sparse_top_k_categorical_accuracy: 0.9884 - val_loss: 4.1729 - val_dense_1_loss: 1.1002 - val_dense_2_loss: 2.6004 - val_dense_3_loss: 0.4651 - val_dense_1_sparse_top_k_categorical_accuracy: 0.9294 - val_dense_2_sparse_top_k_categorical_accuracy: 0.4737 - val_dense_3_sparse_top_k_categorical_accuracy: 0.9880\n",
      "\n",
      "Epoch 00045: saving model to models_checkpoints/weights-improvement-45-4.17.hdf5\n",
      "Epoch 46/50\n",
      "13507/13507 [==============================] - 6s 415us/step - loss: 4.0653 - dense_1_loss: 1.0772 - dense_2_loss: 2.5429 - dense_3_loss: 0.4459 - dense_1_sparse_top_k_categorical_accuracy: 0.9461 - dense_2_sparse_top_k_categorical_accuracy: 0.5028 - dense_3_sparse_top_k_categorical_accuracy: 0.9884 - val_loss: 4.1789 - val_dense_1_loss: 1.0964 - val_dense_2_loss: 2.6038 - val_dense_3_loss: 0.4730 - val_dense_1_sparse_top_k_categorical_accuracy: 0.9294 - val_dense_2_sparse_top_k_categorical_accuracy: 0.4684 - val_dense_3_sparse_top_k_categorical_accuracy: 0.9880\n",
      "\n",
      "Epoch 00046: saving model to models_checkpoints/weights-improvement-46-4.18.hdf5\n",
      "Epoch 47/50\n",
      "13507/13507 [==============================] - 6s 460us/step - loss: 4.0699 - dense_1_loss: 1.0727 - dense_2_loss: 2.5440 - dense_3_loss: 0.4458 - dense_1_sparse_top_k_categorical_accuracy: 0.9461 - dense_2_sparse_top_k_categorical_accuracy: 0.5031 - dense_3_sparse_top_k_categorical_accuracy: 0.9883 - val_loss: 4.1664 - val_dense_1_loss: 1.0946 - val_dense_2_loss: 2.6027 - val_dense_3_loss: 0.4627 - val_dense_1_sparse_top_k_categorical_accuracy: 0.9294 - val_dense_2_sparse_top_k_categorical_accuracy: 0.4737 - val_dense_3_sparse_top_k_categorical_accuracy: 0.9880tegorical_accuracy: 0.9450 - dense_2_sparse_top_k_categorical_ac - ETA: 0s - loss: 4.0949 - dense_1_loss: 1.0806 - dense_2_loss: 2.5561 - dense_3_loss: 0.4582 - dense_1_sparse_top_k_categorical_accuracy: 0.9461 - dense_2_sparse_top_k_categorical_accuracy: 0.4988 - dense_3_spars\n",
      "\n",
      "Epoch 00047: saving model to models_checkpoints/weights-improvement-47-4.17.hdf5\n",
      "Epoch 48/50\n",
      "13507/13507 [==============================] - 6s 460us/step - loss: 4.0619 - dense_1_loss: 1.0713 - dense_2_loss: 2.5482 - dense_3_loss: 0.4485 - dense_1_sparse_top_k_categorical_accuracy: 0.9461 - dense_2_sparse_top_k_categorical_accuracy: 0.5026 - dense_3_sparse_top_k_categorical_accuracy: 0.9883 - val_loss: 4.1673 - val_dense_1_loss: 1.0948 - val_dense_2_loss: 2.6008 - val_dense_3_loss: 0.4657 - val_dense_1_sparse_top_k_categorical_accuracy: 0.9294 - val_dense_2_sparse_top_k_categorical_accuracy: 0.4670 - val_dense_3_sparse_top_k_categorical_accuracy: 0.9880\n",
      "\n",
      "Epoch 00048: saving model to models_checkpoints/weights-improvement-48-4.17.hdf5\n",
      "Epoch 49/50\n",
      "13507/13507 [==============================] - 6s 449us/step - loss: 4.0479 - dense_1_loss: 1.0760 - dense_2_loss: 2.5441 - dense_3_loss: 0.4364 - dense_1_sparse_top_k_categorical_accuracy: 0.9461 - dense_2_sparse_top_k_categorical_accuracy: 0.5034 - dense_3_sparse_top_k_categorical_accuracy: 0.9884 - val_loss: 4.1595 - val_dense_1_loss: 1.0941 - val_dense_2_loss: 2.6018 - val_dense_3_loss: 0.4569 - val_dense_1_sparse_top_k_categorical_accuracy: 0.9294 - val_dense_2_sparse_top_k_categorical_accuracy: 0.4737 - val_dense_3_sparse_top_k_categorical_accuracy: 0.9880\n",
      "\n",
      "Epoch 00049: saving model to models_checkpoints/weights-improvement-49-4.16.hdf5\n",
      "Epoch 50/50\n",
      "13507/13507 [==============================] - 6s 441us/step - loss: 4.0515 - dense_1_loss: 1.0764 - dense_2_loss: 2.5417 - dense_3_loss: 0.4427 - dense_1_sparse_top_k_categorical_accuracy: 0.9461 - dense_2_sparse_top_k_categorical_accuracy: 0.5063 - dense_3_sparse_top_k_categorical_accuracy: 0.9883 - val_loss: 4.1787 - val_dense_1_loss: 1.0985 - val_dense_2_loss: 2.6025 - val_dense_3_loss: 0.4725 - val_dense_1_sparse_top_k_categorical_accuracy: 0.9294 - val_dense_2_sparse_top_k_categorical_accuracy: 0.4750 - val_dense_3_sparse_top_k_categorical_accuracy: 0.9880\n",
      "\n",
      "Epoch 00050: saving model to models_checkpoints/weights-improvement-50-4.18.hdf5\n"
     ]
    }
   ],
   "source": [
    "history = m.fit(X, [y1,y2,y3], validation_split = 0.1,  batch_size=BATCH_SIZE, epochs=EPOCHS, callbacks=callbacks_list)"
   ]
  },
  {
   "cell_type": "code",
   "execution_count": 46,
   "id": "19c2ce73-150a-446f-8e27-cfcdf97b3adc",
   "metadata": {
    "jupyter": {
     "source_hidden": true
    },
    "tags": []
   },
   "outputs": [],
   "source": [
    "from matplotlib import pyplot as plt"
   ]
  },
  {
   "cell_type": "code",
   "execution_count": 34,
   "id": "361d642d-8537-4a44-b933-b0a00f08cd9c",
   "metadata": {},
   "outputs": [
    {
     "data": {
      "image/png": "[encoded data removed]",
      "text/plain": [
       "<Figure size 432x288 with 1 Axes>"
      ]
     },
     "metadata": {
      "needs_background": "light"
     },
     "output_type": "display_data"
    }
   ],
   "source": [
    "plt.plot(m.history.history['loss'])\n",
    "plt.plot(m.history.history['val_loss'])\n",
    "plt.title('model loss')\n",
    "plt.ylabel('loss')\n",
    "plt.xlabel('epoch')\n",
    "plt.legend(['train', 'val'], loc='upper left')\n",
    "plt.show()"
   ]
  },
  {
   "cell_type": "code",
   "execution_count": 35,
   "id": "3f93c78c-8756-4620-b28e-1526f01083ff",
   "metadata": {},
   "outputs": [],
   "source": [
    "from random import randint\n",
    "def sample(preds):\n",
    "    sorted_indexes = np.argsort(preds)[::-1]\n",
    "    return sorted_indexes[randint(0,3)]"
   ]
  },
  {
   "cell_type": "code",
   "execution_count": 36,
   "id": "b7fc503f-1a6e-4b86-a42a-e3c4f26d3e48",
   "metadata": {},
   "outputs": [],
   "source": [
    "def sample_seq( seq, seq_length, model, number_to_note, output_seq_length ):\n",
    "    if output_seq_length <= len(seq): raise Exception(\"output_seq_length must be higher than seq_length\")\n",
    "        \n",
    "    output_seq = seq\n",
    "    for i in range(output_seq_length - len(seq)):\n",
    "        input_sequence = [seq[-seq_length:]]\n",
    "        x = [pad_sequences(input_sequence, maxlen = seq_length, padding=\"pre\")]\n",
    "        prediction = model.predict(x)\n",
    "        \n",
    "        index1 = sample(prediction)\n",
    "        \n",
    "        index = sample(prediction[0])\n",
    "        output_seq.append(index)\n",
    "    #[number_to_note(number) for number in output_seq]\n",
    "    return output_seq"
   ]
  },
  {
   "cell_type": "code",
   "execution_count": 37,
   "id": "11e9f10b-b9da-4e94-a977-2feaaff29036",
   "metadata": {},
   "outputs": [],
   "source": [
    "from keras.preprocessing.sequence import pad_sequences"
   ]
  },
  {
   "cell_type": "code",
   "execution_count": 38,
   "id": "00baf9c5-7cbc-4c1c-a19c-dde5c8c2c661",
   "metadata": {},
   "outputs": [],
   "source": [
    "def pad( input_seq, desired_length, fill_value):\n",
    "    if len(input_seq) >= desired_length:\n",
    "        return input_seq\n",
    "    else: \n",
    "        [input_seq.insert(0, fill_value) for i in range(0, desired_length - len(input_seq))]\n",
    "        return input_seq"
   ]
  },
  {
   "cell_type": "code",
   "execution_count": 39,
   "id": "4938d88f-d09b-4f25-b0f7-82fc60505287",
   "metadata": {},
   "outputs": [],
   "source": [
    "def sample_seq( input_seq, length_expected_by_model, model, output_seq_length, padding_fill_value ):\n",
    "    if output_seq_length <= len(input_seq): raise Exception(\"output_seq_length must be higher than seq_length\")\n",
    "        \n",
    "    output_seq = input_seq\n",
    "    for i in range(output_seq_length - len(input_seq)):\n",
    "        input_sequence = input_seq[-length_expected_by_model:]\n",
    "        x = [pad(input_sequence, length_expected_by_model, padding_fill_value)]\n",
    "        #print(x)\n",
    "        prediction = model.predict(np.array(x))\n",
    "        #print(prediction[0][0])\n",
    "        \n",
    "        index1 = sample(prediction[0][0])\n",
    "        index2 = sample(prediction[1][0])\n",
    "        index3 = sample(prediction[2][0])\n",
    "        #index = sample(prediction[0])\n",
    "        output_seq.append([index1, index2, index3])\n",
    "    return output_seq"
   ]
  },
  {
   "cell_type": "code",
   "execution_count": 40,
   "id": "2564dff5-e985-42a6-a934-926d4a3d523d",
   "metadata": {},
   "outputs": [
    {
     "data": {
      "text/plain": [
       "[[1, 1, 1], [0, 105, 1], [0, 100, 1], [1, 105, 2], [1, 105, 4]]"
      ]
     },
     "execution_count": 40,
     "metadata": {},
     "output_type": "execute_result"
    }
   ],
   "source": [
    "sample_seq([[1,1,1]], 10, m, 5, [0,0,0])"
   ]
  },
  {
   "cell_type": "code",
   "execution_count": 41,
   "id": "c19b400b-c6b1-4609-a3a8-f9984800909d",
   "metadata": {},
   "outputs": [],
   "source": [
    "generated_vector = sample_seq([[1,1,1]], 10, m, 50, [0,0,0])"
   ]
  },
  {
   "cell_type": "code",
   "execution_count": 42,
   "id": "bfdcae25-4ec8-4757-8c1a-b8ad4028d4d3",
   "metadata": {},
   "outputs": [
    {
     "data": {
      "text/plain": [
       "[[1, 1, 1],\n",
       " [2, 105, 81],\n",
       " [2, 102, 1],\n",
       " [2, 105, 4],\n",
       " [0, 102, 1],\n",
       " [2, 102, 1],\n",
       " [1, 102, 2],\n",
       " [0, 100, 81],\n",
       " [0, 102, 81],\n",
       " [1, 2, 4],\n",
       " [0, 102, 81],\n",
       " [2, 102, 2],\n",
       " [0, 2, 4],\n",
       " [3, 105, 81],\n",
       " [3, 102, 81],\n",
       " [2, 100, 1],\n",
       " [0, 2, 1],\n",
       " [3, 105, 1],\n",
       " [2, 2, 81],\n",
       " [3, 105, 4],\n",
       " [3, 105, 4],\n",
       " [1, 105, 2],\n",
       " [1, 105, 1],\n",
       " [1, 105, 4],\n",
       " [3, 100, 81],\n",
       " [3, 102, 2],\n",
       " [3, 105, 81],\n",
       " [3, 2, 81],\n",
       " [1, 105, 2],\n",
       " [3, 102, 81],\n",
       " [0, 105, 1],\n",
       " [3, 105, 2],\n",
       " [0, 105, 2],\n",
       " [1, 100, 4],\n",
       " [2, 102, 1],\n",
       " [2, 2, 81],\n",
       " [3, 105, 1],\n",
       " [0, 2, 4],\n",
       " [0, 102, 4],\n",
       " [2, 100, 4],\n",
       " [0, 105, 81],\n",
       " [0, 105, 2],\n",
       " [1, 2, 1],\n",
       " [2, 105, 4],\n",
       " [1, 2, 4],\n",
       " [1, 100, 2],\n",
       " [1, 102, 81],\n",
       " [1, 102, 4],\n",
       " [2, 100, 1],\n",
       " [1, 2, 4]]"
      ]
     },
     "execution_count": 42,
     "metadata": {},
     "output_type": "execute_result"
    }
   ],
   "source": [
    "generated_vector"
   ]
  },
  {
   "cell_type": "code",
   "execution_count": 43,
   "id": "0ec64ac8-a3be-4602-ae68-2bdc6da16735",
   "metadata": {},
   "outputs": [],
   "source": [
    "generated_intervals = [{'relative_offset': number_to_duration[generated_item[0]], 'interval': number_to_interval[generated_item[1]], 'duration': number_to_duration[generated_item[2]]} for generated_item in generated_vector]"
   ]
  },
  {
   "cell_type": "code",
   "execution_count": 44,
   "id": "ecbee4b2-71e6-4722-9d9f-f1ec21aa4b5d",
   "metadata": {},
   "outputs": [
    {
     "data": {
      "text/plain": [
       "[{'relative_offset': 0.25, 'interval': 1, 'duration': 0.25},\n",
       " {'relative_offset': 0.5, 'interval': -5, 'duration': Fraction(1, 3)},\n",
       " {'relative_offset': 0.5, 'interval': -2, 'duration': 0.25},\n",
       " {'relative_offset': 0.5, 'interval': -5, 'duration': 1.0},\n",
       " {'relative_offset': 0, 'interval': -2, 'duration': 0.25},\n",
       " {'relative_offset': 0.5, 'interval': -2, 'duration': 0.25},\n",
       " {'relative_offset': 0.25, 'interval': -2, 'duration': 0.5},\n",
       " {'relative_offset': 0, 'interval': 0, 'duration': Fraction(1, 3)},\n",
       " {'relative_offset': 0, 'interval': -2, 'duration': Fraction(1, 3)},\n",
       " {'relative_offset': 0.25, 'interval': 2, 'duration': 1.0},\n",
       " {'relative_offset': 0, 'interval': -2, 'duration': Fraction(1, 3)},\n",
       " {'relative_offset': 0.5, 'interval': -2, 'duration': 0.5},\n",
       " {'relative_offset': 0, 'interval': 2, 'duration': 1.0},\n",
       " {'relative_offset': 0.75, 'interval': -5, 'duration': Fraction(1, 3)},\n",
       " {'relative_offset': 0.75, 'interval': -2, 'duration': Fraction(1, 3)},\n",
       " {'relative_offset': 0.5, 'interval': 0, 'duration': 0.25},\n",
       " {'relative_offset': 0, 'interval': 2, 'duration': 0.25},\n",
       " {'relative_offset': 0.75, 'interval': -5, 'duration': 0.25},\n",
       " {'relative_offset': 0.5, 'interval': 2, 'duration': Fraction(1, 3)},\n",
       " {'relative_offset': 0.75, 'interval': -5, 'duration': 1.0},\n",
       " {'relative_offset': 0.75, 'interval': -5, 'duration': 1.0},\n",
       " {'relative_offset': 0.25, 'interval': -5, 'duration': 0.5},\n",
       " {'relative_offset': 0.25, 'interval': -5, 'duration': 0.25},\n",
       " {'relative_offset': 0.25, 'interval': -5, 'duration': 1.0},\n",
       " {'relative_offset': 0.75, 'interval': 0, 'duration': Fraction(1, 3)},\n",
       " {'relative_offset': 0.75, 'interval': -2, 'duration': 0.5},\n",
       " {'relative_offset': 0.75, 'interval': -5, 'duration': Fraction(1, 3)},\n",
       " {'relative_offset': 0.75, 'interval': 2, 'duration': Fraction(1, 3)},\n",
       " {'relative_offset': 0.25, 'interval': -5, 'duration': 0.5},\n",
       " {'relative_offset': 0.75, 'interval': -2, 'duration': Fraction(1, 3)},\n",
       " {'relative_offset': 0, 'interval': -5, 'duration': 0.25},\n",
       " {'relative_offset': 0.75, 'interval': -5, 'duration': 0.5},\n",
       " {'relative_offset': 0, 'interval': -5, 'duration': 0.5},\n",
       " {'relative_offset': 0.25, 'interval': 0, 'duration': 1.0},\n",
       " {'relative_offset': 0.5, 'interval': -2, 'duration': 0.25},\n",
       " {'relative_offset': 0.5, 'interval': 2, 'duration': Fraction(1, 3)},\n",
       " {'relative_offset': 0.75, 'interval': -5, 'duration': 0.25},\n",
       " {'relative_offset': 0, 'interval': 2, 'duration': 1.0},\n",
       " {'relative_offset': 0, 'interval': -2, 'duration': 1.0},\n",
       " {'relative_offset': 0.5, 'interval': 0, 'duration': 1.0},\n",
       " {'relative_offset': 0, 'interval': -5, 'duration': Fraction(1, 3)},\n",
       " {'relative_offset': 0, 'interval': -5, 'duration': 0.5},\n",
       " {'relative_offset': 0.25, 'interval': 2, 'duration': 0.25},\n",
       " {'relative_offset': 0.5, 'interval': -5, 'duration': 1.0},\n",
       " {'relative_offset': 0.25, 'interval': 2, 'duration': 1.0},\n",
       " {'relative_offset': 0.25, 'interval': 0, 'duration': 0.5},\n",
       " {'relative_offset': 0.25, 'interval': -2, 'duration': Fraction(1, 3)},\n",
       " {'relative_offset': 0.25, 'interval': -2, 'duration': 1.0},\n",
       " {'relative_offset': 0.5, 'interval': 0, 'duration': 0.25},\n",
       " {'relative_offset': 0.25, 'interval': 2, 'duration': 1.0}]"
      ]
     },
     "execution_count": 44,
     "metadata": {},
     "output_type": "execute_result"
    }
   ],
   "source": [
    "generated_intervals"
   ]
  },
  {
   "cell_type": "code",
   "execution_count": 45,
   "id": "8bbb5c8c-716e-4730-b755-e568a2eb318a",
   "metadata": {},
   "outputs": [],
   "source": [
    "from music21 import converter, corpus, instrument, midi, note, chord, pitch, stream, interval, duration"
   ]
  },
  {
   "cell_type": "code",
   "execution_count": 46,
   "id": "db3b3388-c76a-4b83-8157-3771a9885cce",
   "metadata": {},
   "outputs": [],
   "source": [
    "def from_array_of_intervals_to_pitches_with_time (root_pitch, intervals_with_time):\n",
    "    elements = [{\n",
    "            'absolute_offset': 0, \n",
    "            'pitch': root_pitch, \n",
    "            'duration': 1\n",
    "        }]\n",
    "    for interval in intervals_with_time:\n",
    "        previousElement = elements[-1]\n",
    "        resultElement = {\n",
    "            'absolute_offset': float(previousElement['absolute_offset'] + interval['relative_offset']), \n",
    "            'pitch': float(previousElement['pitch'] + interval['interval']), \n",
    "            'duration': float(interval['duration']),\n",
    "        }\n",
    "        elements.append(resultElement)\n",
    "    return elements\n",
    "\n",
    "def from_pitches_with_time_to_midi (pitches_with_time, midi_path):\n",
    "    print(pitches_with_time)\n",
    "    streamResult = stream.Stream()\n",
    "    for pitch_with_time in pitches_with_time:\n",
    "        element = note.Note(pitch_with_time['pitch'])\n",
    "        element._setOffset(pitch_with_time['absolute_offset'])\n",
    "        d = duration.Duration()\n",
    "        d.quarterLength = pitch_with_time['duration']\n",
    "        element.duration = d\n",
    "        streamResult.append(element)\n",
    "            \n",
    "    streamResult.write('midi', fp= midi_path)\n",
    "    \n",
    "def from_intervals_with_time_to_midi( root_pitch, intervals, midi_path):\n",
    "    pitches_with_time = from_array_of_intervals_to_pitches_with_time(root_pitch, intervals)\n",
    "    from_pitches_with_time_to_midi(pitches_with_time, midi_path)"
   ]
  },
  {
   "cell_type": "code",
   "execution_count": 47,
   "id": "d23253bd-fa24-4553-9119-0bfbbe650bc0",
   "metadata": {},
   "outputs": [
    {
     "data": {
      "text/plain": [
       "[{'absolute_offset': 0, 'pitch': 100, 'duration': 1},\n",
       " {'absolute_offset': 0.25, 'pitch': 101.0, 'duration': 0.25},\n",
       " {'absolute_offset': 0.75, 'pitch': 96.0, 'duration': 0.3333333333333333},\n",
       " {'absolute_offset': 1.25, 'pitch': 94.0, 'duration': 0.25},\n",
       " {'absolute_offset': 1.75, 'pitch': 89.0, 'duration': 1.0},\n",
       " {'absolute_offset': 1.75, 'pitch': 87.0, 'duration': 0.25},\n",
       " {'absolute_offset': 2.25, 'pitch': 85.0, 'duration': 0.25},\n",
       " {'absolute_offset': 2.5, 'pitch': 83.0, 'duration': 0.5},\n",
       " {'absolute_offset': 2.5, 'pitch': 83.0, 'duration': 0.3333333333333333},\n",
       " {'absolute_offset': 2.5, 'pitch': 81.0, 'duration': 0.3333333333333333},\n",
       " {'absolute_offset': 2.75, 'pitch': 83.0, 'duration': 1.0},\n",
       " {'absolute_offset': 2.75, 'pitch': 81.0, 'duration': 0.3333333333333333},\n",
       " {'absolute_offset': 3.25, 'pitch': 79.0, 'duration': 0.5},\n",
       " {'absolute_offset': 3.25, 'pitch': 81.0, 'duration': 1.0},\n",
       " {'absolute_offset': 4.0, 'pitch': 76.0, 'duration': 0.3333333333333333},\n",
       " {'absolute_offset': 4.75, 'pitch': 74.0, 'duration': 0.3333333333333333},\n",
       " {'absolute_offset': 5.25, 'pitch': 74.0, 'duration': 0.25},\n",
       " {'absolute_offset': 5.25, 'pitch': 76.0, 'duration': 0.25},\n",
       " {'absolute_offset': 6.0, 'pitch': 71.0, 'duration': 0.25},\n",
       " {'absolute_offset': 6.5, 'pitch': 73.0, 'duration': 0.3333333333333333},\n",
       " {'absolute_offset': 7.25, 'pitch': 68.0, 'duration': 1.0},\n",
       " {'absolute_offset': 8.0, 'pitch': 63.0, 'duration': 1.0},\n",
       " {'absolute_offset': 8.25, 'pitch': 58.0, 'duration': 0.5},\n",
       " {'absolute_offset': 8.5, 'pitch': 53.0, 'duration': 0.25},\n",
       " {'absolute_offset': 8.75, 'pitch': 48.0, 'duration': 1.0},\n",
       " {'absolute_offset': 9.5, 'pitch': 48.0, 'duration': 0.3333333333333333},\n",
       " {'absolute_offset': 10.25, 'pitch': 46.0, 'duration': 0.5},\n",
       " {'absolute_offset': 11.0, 'pitch': 41.0, 'duration': 0.3333333333333333},\n",
       " {'absolute_offset': 11.75, 'pitch': 43.0, 'duration': 0.3333333333333333},\n",
       " {'absolute_offset': 12.0, 'pitch': 38.0, 'duration': 0.5},\n",
       " {'absolute_offset': 12.75, 'pitch': 36.0, 'duration': 0.3333333333333333},\n",
       " {'absolute_offset': 12.75, 'pitch': 31.0, 'duration': 0.25},\n",
       " {'absolute_offset': 13.5, 'pitch': 26.0, 'duration': 0.5},\n",
       " {'absolute_offset': 13.5, 'pitch': 21.0, 'duration': 0.5},\n",
       " {'absolute_offset': 13.75, 'pitch': 21.0, 'duration': 1.0},\n",
       " {'absolute_offset': 14.25, 'pitch': 19.0, 'duration': 0.25},\n",
       " {'absolute_offset': 14.75, 'pitch': 21.0, 'duration': 0.3333333333333333},\n",
       " {'absolute_offset': 15.5, 'pitch': 16.0, 'duration': 0.25},\n",
       " {'absolute_offset': 15.5, 'pitch': 18.0, 'duration': 1.0},\n",
       " {'absolute_offset': 15.5, 'pitch': 16.0, 'duration': 1.0},\n",
       " {'absolute_offset': 16.0, 'pitch': 16.0, 'duration': 1.0},\n",
       " {'absolute_offset': 16.0, 'pitch': 11.0, 'duration': 0.3333333333333333},\n",
       " {'absolute_offset': 16.0, 'pitch': 6.0, 'duration': 0.5},\n",
       " {'absolute_offset': 16.25, 'pitch': 8.0, 'duration': 0.25},\n",
       " {'absolute_offset': 16.75, 'pitch': 3.0, 'duration': 1.0},\n",
       " {'absolute_offset': 17.0, 'pitch': 5.0, 'duration': 1.0},\n",
       " {'absolute_offset': 17.25, 'pitch': 5.0, 'duration': 0.5},\n",
       " {'absolute_offset': 17.5, 'pitch': 3.0, 'duration': 0.3333333333333333},\n",
       " {'absolute_offset': 17.75, 'pitch': 1.0, 'duration': 1.0},\n",
       " {'absolute_offset': 18.25, 'pitch': 1.0, 'duration': 0.25},\n",
       " {'absolute_offset': 18.5, 'pitch': 3.0, 'duration': 1.0}]"
      ]
     },
     "execution_count": 47,
     "metadata": {},
     "output_type": "execute_result"
    }
   ],
   "source": [
    "from_array_of_intervals_to_pitches_with_time(100, generated_intervals)"
   ]
  },
  {
   "cell_type": "code",
   "execution_count": 48,
   "id": "8884f306-1e64-4f4f-ba75-92896e1f7357",
   "metadata": {},
   "outputs": [],
   "source": [
    "#model_interval.load_weights('models_checkpoints/weights-improvement-10-2.87.hdf5')"
   ]
  },
  {
   "cell_type": "code",
   "execution_count": 49,
   "id": "c05e0378-0acb-4fd8-ac37-2ddab3a21cb4",
   "metadata": {},
   "outputs": [],
   "source": [
    "from datetime import datetime"
   ]
  },
  {
   "cell_type": "code",
   "execution_count": 50,
   "id": "36126a44-cf64-46ce-b6d2-86c49a2afcf4",
   "metadata": {},
   "outputs": [
    {
     "name": "stdout",
     "output_type": "stream",
     "text": [
      "[{'absolute_offset': 0, 'pitch': 100, 'duration': 1}, {'absolute_offset': 0.25, 'pitch': 101.0, 'duration': 0.25}, {'absolute_offset': 0.75, 'pitch': 96.0, 'duration': 0.3333333333333333}, {'absolute_offset': 1.25, 'pitch': 94.0, 'duration': 0.25}, {'absolute_offset': 1.75, 'pitch': 89.0, 'duration': 1.0}, {'absolute_offset': 1.75, 'pitch': 87.0, 'duration': 0.25}, {'absolute_offset': 2.25, 'pitch': 85.0, 'duration': 0.25}, {'absolute_offset': 2.5, 'pitch': 83.0, 'duration': 0.5}, {'absolute_offset': 2.5, 'pitch': 83.0, 'duration': 0.3333333333333333}, {'absolute_offset': 2.5, 'pitch': 81.0, 'duration': 0.3333333333333333}, {'absolute_offset': 2.75, 'pitch': 83.0, 'duration': 1.0}, {'absolute_offset': 2.75, 'pitch': 81.0, 'duration': 0.3333333333333333}, {'absolute_offset': 3.25, 'pitch': 79.0, 'duration': 0.5}, {'absolute_offset': 3.25, 'pitch': 81.0, 'duration': 1.0}, {'absolute_offset': 4.0, 'pitch': 76.0, 'duration': 0.3333333333333333}, {'absolute_offset': 4.75, 'pitch': 74.0, 'duration': 0.3333333333333333}, {'absolute_offset': 5.25, 'pitch': 74.0, 'duration': 0.25}, {'absolute_offset': 5.25, 'pitch': 76.0, 'duration': 0.25}, {'absolute_offset': 6.0, 'pitch': 71.0, 'duration': 0.25}, {'absolute_offset': 6.5, 'pitch': 73.0, 'duration': 0.3333333333333333}, {'absolute_offset': 7.25, 'pitch': 68.0, 'duration': 1.0}, {'absolute_offset': 8.0, 'pitch': 63.0, 'duration': 1.0}, {'absolute_offset': 8.25, 'pitch': 58.0, 'duration': 0.5}, {'absolute_offset': 8.5, 'pitch': 53.0, 'duration': 0.25}, {'absolute_offset': 8.75, 'pitch': 48.0, 'duration': 1.0}, {'absolute_offset': 9.5, 'pitch': 48.0, 'duration': 0.3333333333333333}, {'absolute_offset': 10.25, 'pitch': 46.0, 'duration': 0.5}, {'absolute_offset': 11.0, 'pitch': 41.0, 'duration': 0.3333333333333333}, {'absolute_offset': 11.75, 'pitch': 43.0, 'duration': 0.3333333333333333}, {'absolute_offset': 12.0, 'pitch': 38.0, 'duration': 0.5}, {'absolute_offset': 12.75, 'pitch': 36.0, 'duration': 0.3333333333333333}, {'absolute_offset': 12.75, 'pitch': 31.0, 'duration': 0.25}, {'absolute_offset': 13.5, 'pitch': 26.0, 'duration': 0.5}, {'absolute_offset': 13.5, 'pitch': 21.0, 'duration': 0.5}, {'absolute_offset': 13.75, 'pitch': 21.0, 'duration': 1.0}, {'absolute_offset': 14.25, 'pitch': 19.0, 'duration': 0.25}, {'absolute_offset': 14.75, 'pitch': 21.0, 'duration': 0.3333333333333333}, {'absolute_offset': 15.5, 'pitch': 16.0, 'duration': 0.25}, {'absolute_offset': 15.5, 'pitch': 18.0, 'duration': 1.0}, {'absolute_offset': 15.5, 'pitch': 16.0, 'duration': 1.0}, {'absolute_offset': 16.0, 'pitch': 16.0, 'duration': 1.0}, {'absolute_offset': 16.0, 'pitch': 11.0, 'duration': 0.3333333333333333}, {'absolute_offset': 16.0, 'pitch': 6.0, 'duration': 0.5}, {'absolute_offset': 16.25, 'pitch': 8.0, 'duration': 0.25}, {'absolute_offset': 16.75, 'pitch': 3.0, 'duration': 1.0}, {'absolute_offset': 17.0, 'pitch': 5.0, 'duration': 1.0}, {'absolute_offset': 17.25, 'pitch': 5.0, 'duration': 0.5}, {'absolute_offset': 17.5, 'pitch': 3.0, 'duration': 0.3333333333333333}, {'absolute_offset': 17.75, 'pitch': 1.0, 'duration': 1.0}, {'absolute_offset': 18.25, 'pitch': 1.0, 'duration': 0.25}, {'absolute_offset': 18.5, 'pitch': 3.0, 'duration': 1.0}]\n"
     ]
    }
   ],
   "source": [
    "from_intervals_with_time_to_midi(100, generated_intervals, datetime.now().strftime(\"%Y%m%d_%H%M%S\")+'_generated_record_intervals_tuning_with_tracks.mid')"
   ]
  },
  {
   "cell_type": "code",
   "execution_count": null,
   "id": "0f5590f6-87bb-478d-9551-dd26b3477905",
   "metadata": {},
   "outputs": [],
   "source": []
  }
 ],
 "metadata": {
  "kernelspec": {
   "display_name": "Python 3",
   "language": "python",
   "name": "python3"
  },
  "language_info": {
   "codemirror_mode": {
    "name": "ipython",
    "version": 3
   },
   "file_extension": ".py",
   "mimetype": "text/x-python",
   "name": "python",
   "nbconvert_exporter": "python",
   "pygments_lexer": "ipython3",
   "version": "3.7.10"
  }
 },
 "nbformat": 4,
 "nbformat_minor": 5
}
