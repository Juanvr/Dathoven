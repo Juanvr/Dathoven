{
  "nbformat": 4,
  "nbformat_minor": 5,
  "metadata": {
    "kernelspec": {
      "display_name": "Python 3",
      "language": "python",
      "name": "python3"
    },
    "language_info": {
      "codemirror_mode": {
        "name": "ipython",
        "version": 3
      },
      "file_extension": ".py",
      "mimetype": "text/x-python",
      "name": "python",
      "nbconvert_exporter": "python",
      "pygments_lexer": "ipython3",
      "version": "3.7.10"
    },
    "colab": {
      "name": "3 - Analysing and Cleaning the Dataset.ipynb",
      "provenance": [],
      "include_colab_link": true
    }
  },
  "cells": [
    {
      "cell_type": "markdown",
      "metadata": {
        "id": "view-in-github",
        "colab_type": "text"
      },
      "source": [
        "<a href=\"https://colab.research.google.com/github/Juanvr/Dathoven/blob/main/notebooks/3%20-%20Analysing%20and%20Cleaning%20the%20Dataset.ipynb\" target=\"_parent\"><img src=\"https://colab.research.google.com/assets/colab-badge.svg\" alt=\"Open In Colab\"/></a>"
      ]
    },
    {
      "cell_type": "markdown",
      "metadata": {
        "id": "7763149c-102e-4109-a9d5-b1c7f34c0aa0"
      },
      "source": [
        "# Analysing and Cleaning the Dataset"
      ],
      "id": "7763149c-102e-4109-a9d5-b1c7f34c0aa0"
    },
    {
      "cell_type": "markdown",
      "metadata": {
        "id": "108c1357-fc07-462e-ad8c-1fc7586ff834"
      },
      "source": [
        "### Absolute tone"
      ],
      "id": "108c1357-fc07-462e-ad8c-1fc7586ff834"
    },
    {
      "cell_type": "markdown",
      "metadata": {
        "id": "14fsl2xM72Yf"
      },
      "source": [
        "We get the dataset from the pickle file: "
      ],
      "id": "14fsl2xM72Yf"
    },
    {
      "cell_type": "code",
      "metadata": {
        "id": "9e1lNtGI8Tpr"
      },
      "source": [
        "! mkdir data"
      ],
      "id": "9e1lNtGI8Tpr",
      "execution_count": 1,
      "outputs": []
    },
    {
      "cell_type": "code",
      "metadata": {
        "id": "qlLmQ0kl7_Az"
      },
      "source": [
        "import requests\n",
        "\n",
        "url = 'https://github.com/Juanvr/Dathoven/raw/main/compressed_data/songs_notes_with_tracks.p'\n",
        "r = requests.get(url, allow_redirects=True)\n",
        "\n",
        "open('data/songs_notes_with_tracks.p', 'wb').write(r.content);"
      ],
      "id": "qlLmQ0kl7_Az",
      "execution_count": 2,
      "outputs": []
    },
    {
      "cell_type": "code",
      "metadata": {
        "id": "1SPfAPxD75vp"
      },
      "source": [
        "# Load back from the pickle file.\n",
        "import pickle\n",
        "\n",
        "songs = pickle.load( open( \"data/songs_notes_with_tracks.p\", \"rb\" ) )"
      ],
      "id": "1SPfAPxD75vp",
      "execution_count": 3,
      "outputs": []
    },
    {
      "cell_type": "markdown",
      "metadata": {
        "id": "gOdIEn4C8-cv"
      },
      "source": [
        "We create a pandas DataFrame for tracks:"
      ],
      "id": "gOdIEn4C8-cv"
    },
    {
      "cell_type": "code",
      "metadata": {
        "id": "BvFIbyrTBpIm",
        "outputId": "91e6886d-8466-4a07-9223-2f200413bd62",
        "colab": {
          "base_uri": "https://localhost:8080/",
          "height": 34
        }
      },
      "source": [
        "import pandas as pd\n",
        "import matplotlib.pyplot as plt\n",
        "from matplotlib.pyplot import figure\n",
        "\n",
        "figure(figsize=(16, 8), dpi=80)\n",
        "import numpy as np"
      ],
      "id": "BvFIbyrTBpIm",
      "execution_count": 4,
      "outputs": [
        {
          "output_type": "display_data",
          "data": {
            "text/plain": [
              "<Figure size 1280x640 with 0 Axes>"
            ]
          },
          "metadata": {
            "tags": []
          }
        }
      ]
    },
    {
      "cell_type": "code",
      "metadata": {
        "id": "wrh1zNdn_ws6",
        "outputId": "cb81de51-5c64-4547-ebd6-7773c821e744",
        "colab": {
          "base_uri": "https://localhost:8080/"
        }
      },
      "source": [
        "[ { \"song_id\": i, \"number_of_tracks\": len(song)} for i, song in enumerate(songs)][:10]"
      ],
      "id": "wrh1zNdn_ws6",
      "execution_count": 5,
      "outputs": [
        {
          "output_type": "execute_result",
          "data": {
            "text/plain": [
              "[{'number_of_tracks': 2, 'song_id': 0},\n",
              " {'number_of_tracks': 3, 'song_id': 1},\n",
              " {'number_of_tracks': 1, 'song_id': 2},\n",
              " {'number_of_tracks': 1, 'song_id': 3},\n",
              " {'number_of_tracks': 2, 'song_id': 4},\n",
              " {'number_of_tracks': 1, 'song_id': 5},\n",
              " {'number_of_tracks': 2, 'song_id': 6},\n",
              " {'number_of_tracks': 3, 'song_id': 7},\n",
              " {'number_of_tracks': 2, 'song_id': 8},\n",
              " {'number_of_tracks': 2, 'song_id': 9}]"
            ]
          },
          "metadata": {
            "tags": []
          },
          "execution_count": 5
        }
      ]
    },
    {
      "cell_type": "code",
      "metadata": {
        "id": "MFb5H8EiAXS-"
      },
      "source": [
        "tracks = []\n",
        "[[tracks.append(track) for track in song] for song in songs];"
      ],
      "id": "MFb5H8EiAXS-",
      "execution_count": 6,
      "outputs": []
    },
    {
      "cell_type": "code",
      "metadata": {
        "id": "t8XNT3XLA9RI",
        "outputId": "cbbc9fc5-d749-484b-e09e-ab2bde25d67d",
        "colab": {
          "base_uri": "https://localhost:8080/"
        }
      },
      "source": [
        "tracks[:1]"
      ],
      "id": "t8XNT3XLA9RI",
      "execution_count": 7,
      "outputs": [
        {
          "output_type": "execute_result",
          "data": {
            "text/plain": [
              "[[{'absolute_offset': 0.0, 'duration': 0.25, 'name': 'B4', 'pitch': 71.0},\n",
              "  {'absolute_offset': 0.25, 'duration': 0.25, 'name': 'F#5', 'pitch': 78.0},\n",
              "  {'absolute_offset': Fraction(1, 3),\n",
              "   'duration': 0.25,\n",
              "   'name': 'G#4',\n",
              "   'pitch': 68.0},\n",
              "  {'absolute_offset': 0.75, 'duration': 0.25, 'name': 'B4', 'pitch': 71.0},\n",
              "  {'absolute_offset': 1.0, 'duration': 0.25, 'name': 'B5', 'pitch': 83.0},\n",
              "  {'absolute_offset': 1.5, 'duration': 0.25, 'name': 'B4', 'pitch': 71.0},\n",
              "  {'absolute_offset': 1.75, 'duration': 0.25, 'name': 'F#5', 'pitch': 78.0},\n",
              "  {'absolute_offset': 2.25, 'duration': 0.25, 'name': 'E-5', 'pitch': 75.0},\n",
              "  {'absolute_offset': 2.5, 'duration': 0.25, 'name': 'F#5', 'pitch': 78.0},\n",
              "  {'absolute_offset': Fraction(8, 3),\n",
              "   'duration': 0.25,\n",
              "   'name': 'G#4',\n",
              "   'pitch': 68.0},\n",
              "  {'absolute_offset': 3.0, 'duration': 0.25, 'name': 'B4', 'pitch': 71.0},\n",
              "  {'absolute_offset': 3.25, 'duration': 0.25, 'name': 'F#5', 'pitch': 78.0},\n",
              "  {'absolute_offset': Fraction(10, 3),\n",
              "   'duration': 0.25,\n",
              "   'name': 'G#4',\n",
              "   'pitch': 68.0},\n",
              "  {'absolute_offset': 3.75, 'duration': 0.25, 'name': 'B4', 'pitch': 71.0},\n",
              "  {'absolute_offset': 4.0, 'duration': 0.25, 'name': 'B5', 'pitch': 83.0},\n",
              "  {'absolute_offset': 4.5, 'duration': 0.25, 'name': 'B4', 'pitch': 71.0},\n",
              "  {'absolute_offset': 4.75, 'duration': 0.25, 'name': 'F#5', 'pitch': 78.0},\n",
              "  {'absolute_offset': 5.25, 'duration': 0.25, 'name': 'E-5', 'pitch': 75.0},\n",
              "  {'absolute_offset': 5.5, 'duration': 0.25, 'name': 'F#5', 'pitch': 78.0},\n",
              "  {'absolute_offset': Fraction(17, 3),\n",
              "   'duration': 0.25,\n",
              "   'name': 'G#4',\n",
              "   'pitch': 68.0}]]"
            ]
          },
          "metadata": {
            "tags": []
          },
          "execution_count": 7
        }
      ]
    },
    {
      "cell_type": "code",
      "metadata": {
        "id": "IWv56sIIBH6L",
        "outputId": "1af09fa6-d5d4-4683-ca9a-4e0542c69ef3",
        "colab": {
          "base_uri": "https://localhost:8080/"
        }
      },
      "source": [
        "len(songs), len(tracks)"
      ],
      "id": "IWv56sIIBH6L",
      "execution_count": 8,
      "outputs": [
        {
          "output_type": "execute_result",
          "data": {
            "text/plain": [
              "(424, 1145)"
            ]
          },
          "metadata": {
            "tags": []
          },
          "execution_count": 8
        }
      ]
    },
    {
      "cell_type": "code",
      "metadata": {
        "id": "px63Hh3EGKg1",
        "outputId": "3b1fd02a-5aa4-4e75-bc6c-622ec0995be5",
        "colab": {
          "base_uri": "https://localhost:8080/"
        }
      },
      "source": [
        "np.argmax([1,2,3])"
      ],
      "id": "px63Hh3EGKg1",
      "execution_count": 9,
      "outputs": [
        {
          "output_type": "execute_result",
          "data": {
            "text/plain": [
              "2"
            ]
          },
          "metadata": {
            "tags": []
          },
          "execution_count": 9
        }
      ]
    },
    {
      "cell_type": "code",
      "metadata": {
        "id": "RyD6BTvyDf-d"
      },
      "source": [
        "tracks_info = []\n",
        "for i, track in enumerate(tracks):\n",
        "  pitches = [note['pitch'] for note in track]\n",
        "  max_pitch_index = np.argmax(pitches)\n",
        "  min_pitch_index = np.argmin(pitches)\n",
        "  max_pitch = pitches[max_pitch_index]\n",
        "  min_pitch = pitches[min_pitch_index]\n",
        "  pitch_range = max_pitch - min_pitch\n",
        "  track_info = {\n",
        "      \"track_id\": i,\n",
        "      \"number_of_notes\": len(track), \n",
        "      \"highest_pitch\": max_pitch,\n",
        "      \"highest_pitch_note\": track[max_pitch_index]['name'],\n",
        "      \"lowest_pitch\": min_pitch, \n",
        "      \"lowest_pitch_note\": track[min_pitch_index]['name'],\n",
        "      \"pitch_range\": pitch_range, \n",
        "      \"notes\": track\n",
        "      }\n",
        "  tracks_info.append(track_info)"
      ],
      "id": "RyD6BTvyDf-d",
      "execution_count": 10,
      "outputs": []
    },
    {
      "cell_type": "code",
      "metadata": {
        "id": "bCFjylcBBnrB",
        "outputId": "a867492c-df3b-4251-fe86-f81f87190f52",
        "colab": {
          "base_uri": "https://localhost:8080/",
          "height": 419
        }
      },
      "source": [
        "tracks_df = pd.DataFrame(tracks_info)\n",
        "tracks_df"
      ],
      "id": "bCFjylcBBnrB",
      "execution_count": 11,
      "outputs": [
        {
          "output_type": "execute_result",
          "data": {
            "text/html": [
              "<div>\n",
              "<style scoped>\n",
              "    .dataframe tbody tr th:only-of-type {\n",
              "        vertical-align: middle;\n",
              "    }\n",
              "\n",
              "    .dataframe tbody tr th {\n",
              "        vertical-align: top;\n",
              "    }\n",
              "\n",
              "    .dataframe thead th {\n",
              "        text-align: right;\n",
              "    }\n",
              "</style>\n",
              "<table border=\"1\" class=\"dataframe\">\n",
              "  <thead>\n",
              "    <tr style=\"text-align: right;\">\n",
              "      <th></th>\n",
              "      <th>track_id</th>\n",
              "      <th>number_of_notes</th>\n",
              "      <th>highest_pitch</th>\n",
              "      <th>highest_pitch_note</th>\n",
              "      <th>lowest_pitch</th>\n",
              "      <th>lowest_pitch_note</th>\n",
              "      <th>pitch_range</th>\n",
              "      <th>notes</th>\n",
              "    </tr>\n",
              "  </thead>\n",
              "  <tbody>\n",
              "    <tr>\n",
              "      <th>0</th>\n",
              "      <td>0</td>\n",
              "      <td>20</td>\n",
              "      <td>83.0</td>\n",
              "      <td>B5</td>\n",
              "      <td>68.0</td>\n",
              "      <td>G#4</td>\n",
              "      <td>15.0</td>\n",
              "      <td>[{'absolute_offset': 0.0, 'pitch': 71.0, 'name...</td>\n",
              "    </tr>\n",
              "    <tr>\n",
              "      <th>1</th>\n",
              "      <td>1</td>\n",
              "      <td>37</td>\n",
              "      <td>47.0</td>\n",
              "      <td>B2</td>\n",
              "      <td>40.0</td>\n",
              "      <td>E2</td>\n",
              "      <td>7.0</td>\n",
              "      <td>[{'absolute_offset': 0.0, 'pitch': 47.0, 'name...</td>\n",
              "    </tr>\n",
              "    <tr>\n",
              "      <th>2</th>\n",
              "      <td>2</td>\n",
              "      <td>9</td>\n",
              "      <td>78.0</td>\n",
              "      <td>F#5</td>\n",
              "      <td>73.0</td>\n",
              "      <td>C#5</td>\n",
              "      <td>5.0</td>\n",
              "      <td>[{'absolute_offset': 0.0, 'pitch': 73.0, 'name...</td>\n",
              "    </tr>\n",
              "    <tr>\n",
              "      <th>3</th>\n",
              "      <td>3</td>\n",
              "      <td>30</td>\n",
              "      <td>42.0</td>\n",
              "      <td>F#2</td>\n",
              "      <td>37.0</td>\n",
              "      <td>C#2</td>\n",
              "      <td>5.0</td>\n",
              "      <td>[{'absolute_offset': 0.0, 'pitch': 38.0, 'name...</td>\n",
              "    </tr>\n",
              "    <tr>\n",
              "      <th>4</th>\n",
              "      <td>4</td>\n",
              "      <td>16</td>\n",
              "      <td>85.0</td>\n",
              "      <td>C#6</td>\n",
              "      <td>66.0</td>\n",
              "      <td>F#4</td>\n",
              "      <td>19.0</td>\n",
              "      <td>[{'absolute_offset': 0.0, 'pitch': 66.0, 'name...</td>\n",
              "    </tr>\n",
              "    <tr>\n",
              "      <th>...</th>\n",
              "      <td>...</td>\n",
              "      <td>...</td>\n",
              "      <td>...</td>\n",
              "      <td>...</td>\n",
              "      <td>...</td>\n",
              "      <td>...</td>\n",
              "      <td>...</td>\n",
              "      <td>...</td>\n",
              "    </tr>\n",
              "    <tr>\n",
              "      <th>1140</th>\n",
              "      <td>1140</td>\n",
              "      <td>2</td>\n",
              "      <td>63.0</td>\n",
              "      <td>E-4</td>\n",
              "      <td>56.0</td>\n",
              "      <td>G#3</td>\n",
              "      <td>7.0</td>\n",
              "      <td>[{'absolute_offset': 0.0, 'pitch': 56.0, 'name...</td>\n",
              "    </tr>\n",
              "    <tr>\n",
              "      <th>1141</th>\n",
              "      <td>1141</td>\n",
              "      <td>37</td>\n",
              "      <td>41.0</td>\n",
              "      <td>F2</td>\n",
              "      <td>41.0</td>\n",
              "      <td>F2</td>\n",
              "      <td>0.0</td>\n",
              "      <td>[{'absolute_offset': 7.5, 'pitch': 41.0, 'name...</td>\n",
              "    </tr>\n",
              "    <tr>\n",
              "      <th>1142</th>\n",
              "      <td>1142</td>\n",
              "      <td>21</td>\n",
              "      <td>73.0</td>\n",
              "      <td>C#5</td>\n",
              "      <td>61.0</td>\n",
              "      <td>C#4</td>\n",
              "      <td>12.0</td>\n",
              "      <td>[{'absolute_offset': 0.0, 'pitch': 68.0, 'name...</td>\n",
              "    </tr>\n",
              "    <tr>\n",
              "      <th>1143</th>\n",
              "      <td>1143</td>\n",
              "      <td>9</td>\n",
              "      <td>75.0</td>\n",
              "      <td>E-5</td>\n",
              "      <td>54.0</td>\n",
              "      <td>F#3</td>\n",
              "      <td>21.0</td>\n",
              "      <td>[{'absolute_offset': 0.0, 'pitch': 61.0, 'name...</td>\n",
              "    </tr>\n",
              "    <tr>\n",
              "      <th>1144</th>\n",
              "      <td>1144</td>\n",
              "      <td>8</td>\n",
              "      <td>49.0</td>\n",
              "      <td>C#3</td>\n",
              "      <td>42.0</td>\n",
              "      <td>F#2</td>\n",
              "      <td>7.0</td>\n",
              "      <td>[{'absolute_offset': 0.0, 'pitch': 49.0, 'name...</td>\n",
              "    </tr>\n",
              "  </tbody>\n",
              "</table>\n",
              "<p>1145 rows × 8 columns</p>\n",
              "</div>"
            ],
            "text/plain": [
              "      track_id  ...                                              notes\n",
              "0            0  ...  [{'absolute_offset': 0.0, 'pitch': 71.0, 'name...\n",
              "1            1  ...  [{'absolute_offset': 0.0, 'pitch': 47.0, 'name...\n",
              "2            2  ...  [{'absolute_offset': 0.0, 'pitch': 73.0, 'name...\n",
              "3            3  ...  [{'absolute_offset': 0.0, 'pitch': 38.0, 'name...\n",
              "4            4  ...  [{'absolute_offset': 0.0, 'pitch': 66.0, 'name...\n",
              "...        ...  ...                                                ...\n",
              "1140      1140  ...  [{'absolute_offset': 0.0, 'pitch': 56.0, 'name...\n",
              "1141      1141  ...  [{'absolute_offset': 7.5, 'pitch': 41.0, 'name...\n",
              "1142      1142  ...  [{'absolute_offset': 0.0, 'pitch': 68.0, 'name...\n",
              "1143      1143  ...  [{'absolute_offset': 0.0, 'pitch': 61.0, 'name...\n",
              "1144      1144  ...  [{'absolute_offset': 0.0, 'pitch': 49.0, 'name...\n",
              "\n",
              "[1145 rows x 8 columns]"
            ]
          },
          "metadata": {
            "tags": []
          },
          "execution_count": 11
        }
      ]
    },
    {
      "cell_type": "markdown",
      "metadata": {
        "id": "_l-gmXdXHSc-"
      },
      "source": [
        "We analyse the number of notes:"
      ],
      "id": "_l-gmXdXHSc-"
    },
    {
      "cell_type": "code",
      "metadata": {
        "id": "JrU4LPHmCCHF",
        "outputId": "aaaca177-7a88-401b-d641-5566fc5812eb",
        "colab": {
          "base_uri": "https://localhost:8080/",
          "height": 267
        }
      },
      "source": [
        "plt.hist(tracks_df['number_of_notes']);"
      ],
      "id": "JrU4LPHmCCHF",
      "execution_count": 12,
      "outputs": [
        {
          "output_type": "display_data",
          "data": {
            "image/png": "[encoded data removed]",
            "text/plain": [
              "<Figure size 432x288 with 1 Axes>"
            ]
          },
          "metadata": {
            "tags": [],
            "needs_background": "light"
          }
        }
      ]
    },
    {
      "cell_type": "code",
      "metadata": {
        "id": "6u3BHkO7Cyb8",
        "outputId": "34331644-5800-4a7d-b6c3-71f1a724beae",
        "colab": {
          "base_uri": "https://localhost:8080/",
          "height": 363
        }
      },
      "source": [
        "import altair as alt\n",
        "\n",
        "alt.Chart(tracks_df[['track_id', 'number_of_notes']]).mark_circle(size=60).encode(\n",
        "    x='track_id',\n",
        "    y='number_of_notes',\n",
        "    color='number_of_notes',\n",
        "    tooltip=['track_id']\n",
        ").interactive()"
      ],
      "id": "6u3BHkO7Cyb8",
      "execution_count": 13,
      "outputs": [
        {
          "output_type": "execute_result",
          "data": {
            "text/plain": [
              "alt.Chart(...)"
            ],
            "text/html": [
              "\n",
              "<div id=\"altair-viz-2d3ce974a86c4c55afc4b27f846dfac0\"></div>\n",
              "<script type=\"text/javascript\">\n",
              "  (function(spec, embedOpt){\n",
              "    let outputDiv = document.currentScript.previousElementSibling;\n",
              "    if (outputDiv.id !== \"altair-viz-2d3ce974a86c4c55afc4b27f846dfac0\") {\n",
              "      outputDiv = document.getElementById(\"altair-viz-2d3ce974a86c4c55afc4b27f846dfac0\");\n",
              "    }\n",
              "    const paths = {\n",
              "      \"vega\": \"https://cdn.jsdelivr.net/npm//vega@5?noext\",\n",
              "      \"vega-lib\": \"https://cdn.jsdelivr.net/npm//vega-lib?noext\",\n",
              "      \"vega-lite\": \"https://cdn.jsdelivr.net/npm//vega-lite@4.8.1?noext\",\n",
              "      \"vega-embed\": \"https://cdn.jsdelivr.net/npm//vega-embed@6?noext\",\n",
              "    };\n",
              "\n",
              "    function loadScript(lib) {\n",
              "      return new Promise(function(resolve, reject) {\n",
              "        var s = document.createElement('script');\n",
              "        s.src = paths[lib];\n",
              "        s.async = true;\n",
              "        s.onload = () => resolve(paths[lib]);\n",
              "        s.onerror = () => reject(`Error loading script: ${paths[lib]}`);\n",
              "        document.getElementsByTagName(\"head\")[0].appendChild(s);\n",
              "      });\n",
              "    }\n",
              "\n",
              "    function showError(err) {\n",
              "      outputDiv.innerHTML = `<div class=\"error\" style=\"color:red;\">${err}</div>`;\n",
              "      throw err;\n",
              "    }\n",
              "\n",
              "    function displayChart(vegaEmbed) {\n",
              "      vegaEmbed(outputDiv, spec, embedOpt)\n",
              "        .catch(err => showError(`Javascript Error: ${err.message}<br>This usually means there's a typo in your chart specification. See the javascript console for the full traceback.`));\n",
              "    }\n",
              "\n",
              "    if(typeof define === \"function\" && define.amd) {\n",
              "      requirejs.config({paths});\n",
              "      require([\"vega-embed\"], displayChart, err => showError(`Error loading script: ${err.message}`));\n",
              "    } else if (typeof vegaEmbed === \"function\") {\n",
              "      displayChart(vegaEmbed);\n",
              "    } else {\n",
              "      loadScript(\"vega\")\n",
              "        .then(() => loadScript(\"vega-lite\"))\n",
              "        .then(() => loadScript(\"vega-embed\"))\n",
              "        .catch(showError)\n",
              "        .then(() => displayChart(vegaEmbed));\n",
              "    }\n",
              "  })({\"config\": {\"view\": {\"continuousWidth\": 400, \"continuousHeight\": 300}}, \"data\": {\"name\": \"data-2a295a4e76f27153a35287798b1e53d4\"}, \"mark\": {\"type\": \"circle\", \"size\": 60}, \"encoding\": {\"color\": {\"type\": \"quantitative\", \"field\": \"number_of_notes\"}, \"tooltip\": [{\"type\": \"quantitative\", \"field\": \"track_id\"}], \"x\": {\"type\": \"quantitative\", \"field\": \"track_id\"}, \"y\": {\"type\": \"quantitative\", \"field\": \"number_of_notes\"}}, \"selection\": {\"selector001\": {\"type\": \"interval\", \"bind\": \"scales\", \"encodings\": [\"x\", \"y\"]}}, \"$schema\": \"https://vega.github.io/schema/vega-lite/v4.8.1.json\", \"datasets\": {\"data-2a295a4e76f27153a35287798b1e53d4\": [{\"track_id\": 0, \"number_of_notes\": 20}, {\"track_id\": 1, \"number_of_notes\": 37}, {\"track_id\": 2, \"number_of_notes\": 9}, {\"track_id\": 3, \"number_of_notes\": 30}, {\"track_id\": 4, \"number_of_notes\": 16}, {\"track_id\": 5, \"number_of_notes\": 16}, {\"track_id\": 6, \"number_of_notes\": 1}, {\"track_id\": 7, \"number_of_notes\": 27}, {\"track_id\": 8, \"number_of_notes\": 1}, {\"track_id\": 9, \"number_of_notes\": 5}, {\"track_id\": 10, \"number_of_notes\": 36}, {\"track_id\": 11, \"number_of_notes\": 49}, {\"track_id\": 12, \"number_of_notes\": 37}, {\"track_id\": 13, \"number_of_notes\": 1}, {\"track_id\": 14, \"number_of_notes\": 27}, {\"track_id\": 15, \"number_of_notes\": 33}, {\"track_id\": 16, \"number_of_notes\": 36}, {\"track_id\": 17, \"number_of_notes\": 13}, {\"track_id\": 18, \"number_of_notes\": 31}, {\"track_id\": 19, \"number_of_notes\": 1}, {\"track_id\": 20, \"number_of_notes\": 25}, {\"track_id\": 21, \"number_of_notes\": 2}, {\"track_id\": 22, \"number_of_notes\": 37}, {\"track_id\": 23, \"number_of_notes\": 9}, {\"track_id\": 24, \"number_of_notes\": 1}, {\"track_id\": 25, \"number_of_notes\": 1}, {\"track_id\": 26, \"number_of_notes\": 113}, {\"track_id\": 27, \"number_of_notes\": 74}, {\"track_id\": 28, \"number_of_notes\": 1}, {\"track_id\": 29, \"number_of_notes\": 22}, {\"track_id\": 30, \"number_of_notes\": 39}, {\"track_id\": 31, \"number_of_notes\": 70}, {\"track_id\": 32, \"number_of_notes\": 17}, {\"track_id\": 33, \"number_of_notes\": 41}, {\"track_id\": 34, \"number_of_notes\": 1}, {\"track_id\": 35, \"number_of_notes\": 20}, {\"track_id\": 36, \"number_of_notes\": 32}, {\"track_id\": 37, \"number_of_notes\": 24}, {\"track_id\": 38, \"number_of_notes\": 1}, {\"track_id\": 39, \"number_of_notes\": 30}, {\"track_id\": 40, \"number_of_notes\": 1}, {\"track_id\": 41, \"number_of_notes\": 23}, {\"track_id\": 42, \"number_of_notes\": 8}, {\"track_id\": 43, \"number_of_notes\": 31}, {\"track_id\": 44, \"number_of_notes\": 37}, {\"track_id\": 45, \"number_of_notes\": 8}, {\"track_id\": 46, \"number_of_notes\": 16}, {\"track_id\": 47, \"number_of_notes\": 18}, {\"track_id\": 48, \"number_of_notes\": 55}, {\"track_id\": 49, \"number_of_notes\": 24}, {\"track_id\": 50, \"number_of_notes\": 37}, {\"track_id\": 51, \"number_of_notes\": 22}, {\"track_id\": 52, \"number_of_notes\": 1}, {\"track_id\": 53, \"number_of_notes\": 14}, {\"track_id\": 54, \"number_of_notes\": 1}, {\"track_id\": 55, \"number_of_notes\": 2}, {\"track_id\": 56, \"number_of_notes\": 23}, {\"track_id\": 57, \"number_of_notes\": 73}, {\"track_id\": 58, \"number_of_notes\": 9}, {\"track_id\": 59, \"number_of_notes\": 36}, {\"track_id\": 60, \"number_of_notes\": 9}, {\"track_id\": 61, \"number_of_notes\": 15}, {\"track_id\": 62, \"number_of_notes\": 1}, {\"track_id\": 63, \"number_of_notes\": 28}, {\"track_id\": 64, \"number_of_notes\": 26}, {\"track_id\": 65, \"number_of_notes\": 37}, {\"track_id\": 66, \"number_of_notes\": 38}, {\"track_id\": 67, \"number_of_notes\": 1}, {\"track_id\": 68, \"number_of_notes\": 36}, {\"track_id\": 69, \"number_of_notes\": 20}, {\"track_id\": 70, \"number_of_notes\": 2}, {\"track_id\": 71, \"number_of_notes\": 23}, {\"track_id\": 72, \"number_of_notes\": 1}, {\"track_id\": 73, \"number_of_notes\": 25}, {\"track_id\": 74, \"number_of_notes\": 7}, {\"track_id\": 75, \"number_of_notes\": 1}, {\"track_id\": 76, \"number_of_notes\": 37}, {\"track_id\": 77, \"number_of_notes\": 20}, {\"track_id\": 78, \"number_of_notes\": 17}, {\"track_id\": 79, \"number_of_notes\": 1}, {\"track_id\": 80, \"number_of_notes\": 32}, {\"track_id\": 81, \"number_of_notes\": 1}, {\"track_id\": 82, \"number_of_notes\": 17}, {\"track_id\": 83, \"number_of_notes\": 9}, {\"track_id\": 84, \"number_of_notes\": 1}, {\"track_id\": 85, \"number_of_notes\": 55}, {\"track_id\": 86, \"number_of_notes\": 1}, {\"track_id\": 87, \"number_of_notes\": 2}, {\"track_id\": 88, \"number_of_notes\": 37}, {\"track_id\": 89, \"number_of_notes\": 25}, {\"track_id\": 90, \"number_of_notes\": 26}, {\"track_id\": 91, \"number_of_notes\": 8}, {\"track_id\": 92, \"number_of_notes\": 21}, {\"track_id\": 93, \"number_of_notes\": 37}, {\"track_id\": 94, \"number_of_notes\": 1}, {\"track_id\": 95, \"number_of_notes\": 35}, {\"track_id\": 96, \"number_of_notes\": 7}, {\"track_id\": 97, \"number_of_notes\": 1}, {\"track_id\": 98, \"number_of_notes\": 29}, {\"track_id\": 99, \"number_of_notes\": 1}, {\"track_id\": 100, \"number_of_notes\": 26}, {\"track_id\": 101, \"number_of_notes\": 42}, {\"track_id\": 102, \"number_of_notes\": 2}, {\"track_id\": 103, \"number_of_notes\": 30}, {\"track_id\": 104, \"number_of_notes\": 12}, {\"track_id\": 105, \"number_of_notes\": 60}, {\"track_id\": 106, \"number_of_notes\": 136}, {\"track_id\": 107, \"number_of_notes\": 1}, {\"track_id\": 108, \"number_of_notes\": 32}, {\"track_id\": 109, \"number_of_notes\": 203}, {\"track_id\": 110, \"number_of_notes\": 203}, {\"track_id\": 111, \"number_of_notes\": 15}, {\"track_id\": 112, \"number_of_notes\": 37}, {\"track_id\": 113, \"number_of_notes\": 9}, {\"track_id\": 114, \"number_of_notes\": 22}, {\"track_id\": 115, \"number_of_notes\": 2}, {\"track_id\": 116, \"number_of_notes\": 25}, {\"track_id\": 117, \"number_of_notes\": 1}, {\"track_id\": 118, \"number_of_notes\": 45}, {\"track_id\": 119, \"number_of_notes\": 9}, {\"track_id\": 120, \"number_of_notes\": 17}, {\"track_id\": 121, \"number_of_notes\": 10}, {\"track_id\": 122, \"number_of_notes\": 17}, {\"track_id\": 123, \"number_of_notes\": 21}, {\"track_id\": 124, \"number_of_notes\": 17}, {\"track_id\": 125, \"number_of_notes\": 22}, {\"track_id\": 126, \"number_of_notes\": 18}, {\"track_id\": 127, \"number_of_notes\": 37}, {\"track_id\": 128, \"number_of_notes\": 1}, {\"track_id\": 129, \"number_of_notes\": 19}, {\"track_id\": 130, \"number_of_notes\": 24}, {\"track_id\": 131, \"number_of_notes\": 37}, {\"track_id\": 132, \"number_of_notes\": 51}, {\"track_id\": 133, \"number_of_notes\": 1}, {\"track_id\": 134, \"number_of_notes\": 88}, {\"track_id\": 135, \"number_of_notes\": 1}, {\"track_id\": 136, \"number_of_notes\": 23}, {\"track_id\": 137, \"number_of_notes\": 1}, {\"track_id\": 138, \"number_of_notes\": 16}, {\"track_id\": 139, \"number_of_notes\": 27}, {\"track_id\": 140, \"number_of_notes\": 1}, {\"track_id\": 141, \"number_of_notes\": 16}, {\"track_id\": 142, \"number_of_notes\": 37}, {\"track_id\": 143, \"number_of_notes\": 11}, {\"track_id\": 144, \"number_of_notes\": 24}, {\"track_id\": 145, \"number_of_notes\": 37}, {\"track_id\": 146, \"number_of_notes\": 121}, {\"track_id\": 147, \"number_of_notes\": 86}, {\"track_id\": 148, \"number_of_notes\": 60}, {\"track_id\": 149, \"number_of_notes\": 11}, {\"track_id\": 150, \"number_of_notes\": 35}, {\"track_id\": 151, \"number_of_notes\": 1}, {\"track_id\": 152, \"number_of_notes\": 4}, {\"track_id\": 153, \"number_of_notes\": 14}, {\"track_id\": 154, \"number_of_notes\": 8}, {\"track_id\": 155, \"number_of_notes\": 14}, {\"track_id\": 156, \"number_of_notes\": 14}, {\"track_id\": 157, \"number_of_notes\": 23}, {\"track_id\": 158, \"number_of_notes\": 10}, {\"track_id\": 159, \"number_of_notes\": 36}, {\"track_id\": 160, \"number_of_notes\": 22}, {\"track_id\": 161, \"number_of_notes\": 1}, {\"track_id\": 162, \"number_of_notes\": 98}, {\"track_id\": 163, \"number_of_notes\": 26}, {\"track_id\": 164, \"number_of_notes\": 50}, {\"track_id\": 165, \"number_of_notes\": 89}, {\"track_id\": 166, \"number_of_notes\": 1}, {\"track_id\": 167, \"number_of_notes\": 1}, {\"track_id\": 168, \"number_of_notes\": 1}, {\"track_id\": 169, \"number_of_notes\": 2}, {\"track_id\": 170, \"number_of_notes\": 1}, {\"track_id\": 171, \"number_of_notes\": 1}, {\"track_id\": 172, \"number_of_notes\": 60}, {\"track_id\": 173, \"number_of_notes\": 1}, {\"track_id\": 174, \"number_of_notes\": 71}, {\"track_id\": 175, \"number_of_notes\": 25}, {\"track_id\": 176, \"number_of_notes\": 37}, {\"track_id\": 177, \"number_of_notes\": 1}, {\"track_id\": 178, \"number_of_notes\": 32}, {\"track_id\": 179, \"number_of_notes\": 23}, {\"track_id\": 180, \"number_of_notes\": 5}, {\"track_id\": 181, \"number_of_notes\": 1}, {\"track_id\": 182, \"number_of_notes\": 1}, {\"track_id\": 183, \"number_of_notes\": 1}, {\"track_id\": 184, \"number_of_notes\": 15}, {\"track_id\": 185, \"number_of_notes\": 10}, {\"track_id\": 186, \"number_of_notes\": 7}, {\"track_id\": 187, \"number_of_notes\": 3}, {\"track_id\": 188, \"number_of_notes\": 54}, {\"track_id\": 189, \"number_of_notes\": 8}, {\"track_id\": 190, \"number_of_notes\": 17}, {\"track_id\": 191, \"number_of_notes\": 28}, {\"track_id\": 192, \"number_of_notes\": 37}, {\"track_id\": 193, \"number_of_notes\": 8}, {\"track_id\": 194, \"number_of_notes\": 32}, {\"track_id\": 195, \"number_of_notes\": 36}, {\"track_id\": 196, \"number_of_notes\": 1}, {\"track_id\": 197, \"number_of_notes\": 30}, {\"track_id\": 198, \"number_of_notes\": 1}, {\"track_id\": 199, \"number_of_notes\": 28}, {\"track_id\": 200, \"number_of_notes\": 1}, {\"track_id\": 201, \"number_of_notes\": 34}, {\"track_id\": 202, \"number_of_notes\": 28}, {\"track_id\": 203, \"number_of_notes\": 70}, {\"track_id\": 204, \"number_of_notes\": 1}, {\"track_id\": 205, \"number_of_notes\": 37}, {\"track_id\": 206, \"number_of_notes\": 5}, {\"track_id\": 207, \"number_of_notes\": 37}, {\"track_id\": 208, \"number_of_notes\": 20}, {\"track_id\": 209, \"number_of_notes\": 30}, {\"track_id\": 210, \"number_of_notes\": 1}, {\"track_id\": 211, \"number_of_notes\": 43}, {\"track_id\": 212, \"number_of_notes\": 33}, {\"track_id\": 213, \"number_of_notes\": 31}, {\"track_id\": 214, \"number_of_notes\": 2}, {\"track_id\": 215, \"number_of_notes\": 1}, {\"track_id\": 216, \"number_of_notes\": 19}, {\"track_id\": 217, \"number_of_notes\": 16}, {\"track_id\": 218, \"number_of_notes\": 28}, {\"track_id\": 219, \"number_of_notes\": 1}, {\"track_id\": 220, \"number_of_notes\": 18}, {\"track_id\": 221, \"number_of_notes\": 7}, {\"track_id\": 222, \"number_of_notes\": 1}, {\"track_id\": 223, \"number_of_notes\": 1}, {\"track_id\": 224, \"number_of_notes\": 1}, {\"track_id\": 225, \"number_of_notes\": 1}, {\"track_id\": 226, \"number_of_notes\": 1}, {\"track_id\": 227, \"number_of_notes\": 18}, {\"track_id\": 228, \"number_of_notes\": 12}, {\"track_id\": 229, \"number_of_notes\": 31}, {\"track_id\": 230, \"number_of_notes\": 87}, {\"track_id\": 231, \"number_of_notes\": 10}, {\"track_id\": 232, \"number_of_notes\": 64}, {\"track_id\": 233, \"number_of_notes\": 1}, {\"track_id\": 234, \"number_of_notes\": 1}, {\"track_id\": 235, \"number_of_notes\": 7}, {\"track_id\": 236, \"number_of_notes\": 33}, {\"track_id\": 237, \"number_of_notes\": 19}, {\"track_id\": 238, \"number_of_notes\": 17}, {\"track_id\": 239, \"number_of_notes\": 37}, {\"track_id\": 240, \"number_of_notes\": 25}, {\"track_id\": 241, \"number_of_notes\": 26}, {\"track_id\": 242, \"number_of_notes\": 62}, {\"track_id\": 243, \"number_of_notes\": 79}, {\"track_id\": 244, \"number_of_notes\": 255}, {\"track_id\": 245, \"number_of_notes\": 246}, {\"track_id\": 246, \"number_of_notes\": 108}, {\"track_id\": 247, \"number_of_notes\": 21}, {\"track_id\": 248, \"number_of_notes\": 23}, {\"track_id\": 249, \"number_of_notes\": 18}, {\"track_id\": 250, \"number_of_notes\": 70}, {\"track_id\": 251, \"number_of_notes\": 68}, {\"track_id\": 252, \"number_of_notes\": 14}, {\"track_id\": 253, \"number_of_notes\": 7}, {\"track_id\": 254, \"number_of_notes\": 23}, {\"track_id\": 255, \"number_of_notes\": 35}, {\"track_id\": 256, \"number_of_notes\": 1}, {\"track_id\": 257, \"number_of_notes\": 161}, {\"track_id\": 258, \"number_of_notes\": 32}, {\"track_id\": 259, \"number_of_notes\": 31}, {\"track_id\": 260, \"number_of_notes\": 119}, {\"track_id\": 261, \"number_of_notes\": 1}, {\"track_id\": 262, \"number_of_notes\": 8}, {\"track_id\": 263, \"number_of_notes\": 22}, {\"track_id\": 264, \"number_of_notes\": 1}, {\"track_id\": 265, \"number_of_notes\": 1}, {\"track_id\": 266, \"number_of_notes\": 36}, {\"track_id\": 267, \"number_of_notes\": 22}, {\"track_id\": 268, \"number_of_notes\": 8}, {\"track_id\": 269, \"number_of_notes\": 1}, {\"track_id\": 270, \"number_of_notes\": 23}, {\"track_id\": 271, \"number_of_notes\": 46}, {\"track_id\": 272, \"number_of_notes\": 50}, {\"track_id\": 273, \"number_of_notes\": 13}, {\"track_id\": 274, \"number_of_notes\": 1}, {\"track_id\": 275, \"number_of_notes\": 3}, {\"track_id\": 276, \"number_of_notes\": 16}, {\"track_id\": 277, \"number_of_notes\": 1}, {\"track_id\": 278, \"number_of_notes\": 22}, {\"track_id\": 279, \"number_of_notes\": 33}, {\"track_id\": 280, \"number_of_notes\": 1}, {\"track_id\": 281, \"number_of_notes\": 37}, {\"track_id\": 282, \"number_of_notes\": 1}, {\"track_id\": 283, \"number_of_notes\": 19}, {\"track_id\": 284, \"number_of_notes\": 12}, {\"track_id\": 285, \"number_of_notes\": 36}, {\"track_id\": 286, \"number_of_notes\": 31}, {\"track_id\": 287, \"number_of_notes\": 1}, {\"track_id\": 288, \"number_of_notes\": 8}, {\"track_id\": 289, \"number_of_notes\": 8}, {\"track_id\": 290, \"number_of_notes\": 37}, {\"track_id\": 291, \"number_of_notes\": 14}, {\"track_id\": 292, \"number_of_notes\": 22}, {\"track_id\": 293, \"number_of_notes\": 13}, {\"track_id\": 294, \"number_of_notes\": 2}, {\"track_id\": 295, \"number_of_notes\": 51}, {\"track_id\": 296, \"number_of_notes\": 1}, {\"track_id\": 297, \"number_of_notes\": 26}, {\"track_id\": 298, \"number_of_notes\": 9}, {\"track_id\": 299, \"number_of_notes\": 4}, {\"track_id\": 300, \"number_of_notes\": 21}, {\"track_id\": 301, \"number_of_notes\": 31}, {\"track_id\": 302, \"number_of_notes\": 1}, {\"track_id\": 303, \"number_of_notes\": 8}, {\"track_id\": 304, \"number_of_notes\": 1}, {\"track_id\": 305, \"number_of_notes\": 40}, {\"track_id\": 306, \"number_of_notes\": 2}, {\"track_id\": 307, \"number_of_notes\": 15}, {\"track_id\": 308, \"number_of_notes\": 36}, {\"track_id\": 309, \"number_of_notes\": 10}, {\"track_id\": 310, \"number_of_notes\": 6}, {\"track_id\": 311, \"number_of_notes\": 28}, {\"track_id\": 312, \"number_of_notes\": 29}, {\"track_id\": 313, \"number_of_notes\": 37}, {\"track_id\": 314, \"number_of_notes\": 13}, {\"track_id\": 315, \"number_of_notes\": 55}, {\"track_id\": 316, \"number_of_notes\": 28}, {\"track_id\": 317, \"number_of_notes\": 4}, {\"track_id\": 318, \"number_of_notes\": 8}, {\"track_id\": 319, \"number_of_notes\": 7}, {\"track_id\": 320, \"number_of_notes\": 33}, {\"track_id\": 321, \"number_of_notes\": 1}, {\"track_id\": 322, \"number_of_notes\": 7}, {\"track_id\": 323, \"number_of_notes\": 8}, {\"track_id\": 324, \"number_of_notes\": 11}, {\"track_id\": 325, \"number_of_notes\": 37}, {\"track_id\": 326, \"number_of_notes\": 29}, {\"track_id\": 327, \"number_of_notes\": 47}, {\"track_id\": 328, \"number_of_notes\": 1}, {\"track_id\": 329, \"number_of_notes\": 32}, {\"track_id\": 330, \"number_of_notes\": 1}, {\"track_id\": 331, \"number_of_notes\": 14}, {\"track_id\": 332, \"number_of_notes\": 1}, {\"track_id\": 333, \"number_of_notes\": 24}, {\"track_id\": 334, \"number_of_notes\": 1}, {\"track_id\": 335, \"number_of_notes\": 9}, {\"track_id\": 336, \"number_of_notes\": 52}, {\"track_id\": 337, \"number_of_notes\": 22}, {\"track_id\": 338, \"number_of_notes\": 14}, {\"track_id\": 339, \"number_of_notes\": 33}, {\"track_id\": 340, \"number_of_notes\": 17}, {\"track_id\": 341, \"number_of_notes\": 1}, {\"track_id\": 342, \"number_of_notes\": 22}, {\"track_id\": 343, \"number_of_notes\": 6}, {\"track_id\": 344, \"number_of_notes\": 1}, {\"track_id\": 345, \"number_of_notes\": 1}, {\"track_id\": 346, \"number_of_notes\": 20}, {\"track_id\": 347, \"number_of_notes\": 29}, {\"track_id\": 348, \"number_of_notes\": 12}, {\"track_id\": 349, \"number_of_notes\": 29}, {\"track_id\": 350, \"number_of_notes\": 8}, {\"track_id\": 351, \"number_of_notes\": 10}, {\"track_id\": 352, \"number_of_notes\": 4}, {\"track_id\": 353, \"number_of_notes\": 13}, {\"track_id\": 354, \"number_of_notes\": 22}, {\"track_id\": 355, \"number_of_notes\": 32}, {\"track_id\": 356, \"number_of_notes\": 20}, {\"track_id\": 357, \"number_of_notes\": 3}, {\"track_id\": 358, \"number_of_notes\": 13}, {\"track_id\": 359, \"number_of_notes\": 58}, {\"track_id\": 360, \"number_of_notes\": 73}, {\"track_id\": 361, \"number_of_notes\": 31}, {\"track_id\": 362, \"number_of_notes\": 37}, {\"track_id\": 363, \"number_of_notes\": 25}, {\"track_id\": 364, \"number_of_notes\": 7}, {\"track_id\": 365, \"number_of_notes\": 16}, {\"track_id\": 366, \"number_of_notes\": 37}, {\"track_id\": 367, \"number_of_notes\": 25}, {\"track_id\": 368, \"number_of_notes\": 1}, {\"track_id\": 369, \"number_of_notes\": 2}, {\"track_id\": 370, \"number_of_notes\": 1}, {\"track_id\": 371, \"number_of_notes\": 36}, {\"track_id\": 372, \"number_of_notes\": 28}, {\"track_id\": 373, \"number_of_notes\": 14}, {\"track_id\": 374, \"number_of_notes\": 49}, {\"track_id\": 375, \"number_of_notes\": 13}, {\"track_id\": 376, \"number_of_notes\": 8}, {\"track_id\": 377, \"number_of_notes\": 1}, {\"track_id\": 378, \"number_of_notes\": 55}, {\"track_id\": 379, \"number_of_notes\": 25}, {\"track_id\": 380, \"number_of_notes\": 15}, {\"track_id\": 381, \"number_of_notes\": 63}, {\"track_id\": 382, \"number_of_notes\": 20}, {\"track_id\": 383, \"number_of_notes\": 7}, {\"track_id\": 384, \"number_of_notes\": 14}, {\"track_id\": 385, \"number_of_notes\": 1}, {\"track_id\": 386, \"number_of_notes\": 1}, {\"track_id\": 387, \"number_of_notes\": 1}, {\"track_id\": 388, \"number_of_notes\": 35}, {\"track_id\": 389, \"number_of_notes\": 1}, {\"track_id\": 390, \"number_of_notes\": 18}, {\"track_id\": 391, \"number_of_notes\": 37}, {\"track_id\": 392, \"number_of_notes\": 66}, {\"track_id\": 393, \"number_of_notes\": 21}, {\"track_id\": 394, \"number_of_notes\": 12}, {\"track_id\": 395, \"number_of_notes\": 7}, {\"track_id\": 396, \"number_of_notes\": 21}, {\"track_id\": 397, \"number_of_notes\": 36}, {\"track_id\": 398, \"number_of_notes\": 1}, {\"track_id\": 399, \"number_of_notes\": 13}, {\"track_id\": 400, \"number_of_notes\": 27}, {\"track_id\": 401, \"number_of_notes\": 1}, {\"track_id\": 402, \"number_of_notes\": 2}, {\"track_id\": 403, \"number_of_notes\": 1}, {\"track_id\": 404, \"number_of_notes\": 3}, {\"track_id\": 405, \"number_of_notes\": 9}, {\"track_id\": 406, \"number_of_notes\": 10}, {\"track_id\": 407, \"number_of_notes\": 1}, {\"track_id\": 408, \"number_of_notes\": 14}, {\"track_id\": 409, \"number_of_notes\": 7}, {\"track_id\": 410, \"number_of_notes\": 4}, {\"track_id\": 411, \"number_of_notes\": 19}, {\"track_id\": 412, \"number_of_notes\": 9}, {\"track_id\": 413, \"number_of_notes\": 45}, {\"track_id\": 414, \"number_of_notes\": 18}, {\"track_id\": 415, \"number_of_notes\": 1}, {\"track_id\": 416, \"number_of_notes\": 5}, {\"track_id\": 417, \"number_of_notes\": 4}, {\"track_id\": 418, \"number_of_notes\": 1}, {\"track_id\": 419, \"number_of_notes\": 16}, {\"track_id\": 420, \"number_of_notes\": 29}, {\"track_id\": 421, \"number_of_notes\": 33}, {\"track_id\": 422, \"number_of_notes\": 30}, {\"track_id\": 423, \"number_of_notes\": 3}, {\"track_id\": 424, \"number_of_notes\": 26}, {\"track_id\": 425, \"number_of_notes\": 1}, {\"track_id\": 426, \"number_of_notes\": 18}, {\"track_id\": 427, \"number_of_notes\": 9}, {\"track_id\": 428, \"number_of_notes\": 9}, {\"track_id\": 429, \"number_of_notes\": 12}, {\"track_id\": 430, \"number_of_notes\": 1}, {\"track_id\": 431, \"number_of_notes\": 1}, {\"track_id\": 432, \"number_of_notes\": 6}, {\"track_id\": 433, \"number_of_notes\": 37}, {\"track_id\": 434, \"number_of_notes\": 1}, {\"track_id\": 435, \"number_of_notes\": 1}, {\"track_id\": 436, \"number_of_notes\": 2}, {\"track_id\": 437, \"number_of_notes\": 59}, {\"track_id\": 438, \"number_of_notes\": 35}, {\"track_id\": 439, \"number_of_notes\": 11}, {\"track_id\": 440, \"number_of_notes\": 37}, {\"track_id\": 441, \"number_of_notes\": 19}, {\"track_id\": 442, \"number_of_notes\": 15}, {\"track_id\": 443, \"number_of_notes\": 1}, {\"track_id\": 444, \"number_of_notes\": 16}, {\"track_id\": 445, \"number_of_notes\": 7}, {\"track_id\": 446, \"number_of_notes\": 8}, {\"track_id\": 447, \"number_of_notes\": 28}, {\"track_id\": 448, \"number_of_notes\": 1}, {\"track_id\": 449, \"number_of_notes\": 18}, {\"track_id\": 450, \"number_of_notes\": 24}, {\"track_id\": 451, \"number_of_notes\": 23}, {\"track_id\": 452, \"number_of_notes\": 54}, {\"track_id\": 453, \"number_of_notes\": 70}, {\"track_id\": 454, \"number_of_notes\": 46}, {\"track_id\": 455, \"number_of_notes\": 1}, {\"track_id\": 456, \"number_of_notes\": 18}, {\"track_id\": 457, \"number_of_notes\": 3}, {\"track_id\": 458, \"number_of_notes\": 7}, {\"track_id\": 459, \"number_of_notes\": 11}, {\"track_id\": 460, \"number_of_notes\": 3}, {\"track_id\": 461, \"number_of_notes\": 28}, {\"track_id\": 462, \"number_of_notes\": 18}, {\"track_id\": 463, \"number_of_notes\": 37}, {\"track_id\": 464, \"number_of_notes\": 21}, {\"track_id\": 465, \"number_of_notes\": 1}, {\"track_id\": 466, \"number_of_notes\": 1}, {\"track_id\": 467, \"number_of_notes\": 32}, {\"track_id\": 468, \"number_of_notes\": 4}, {\"track_id\": 469, \"number_of_notes\": 1}, {\"track_id\": 470, \"number_of_notes\": 9}, {\"track_id\": 471, \"number_of_notes\": 19}, {\"track_id\": 472, \"number_of_notes\": 45}, {\"track_id\": 473, \"number_of_notes\": 22}, {\"track_id\": 474, \"number_of_notes\": 11}, {\"track_id\": 475, \"number_of_notes\": 1}, {\"track_id\": 476, \"number_of_notes\": 55}, {\"track_id\": 477, \"number_of_notes\": 31}, {\"track_id\": 478, \"number_of_notes\": 1}, {\"track_id\": 479, \"number_of_notes\": 36}, {\"track_id\": 480, \"number_of_notes\": 37}, {\"track_id\": 481, \"number_of_notes\": 1}, {\"track_id\": 482, \"number_of_notes\": 1}, {\"track_id\": 483, \"number_of_notes\": 32}, {\"track_id\": 484, \"number_of_notes\": 27}, {\"track_id\": 485, \"number_of_notes\": 37}, {\"track_id\": 486, \"number_of_notes\": 3}, {\"track_id\": 487, \"number_of_notes\": 3}, {\"track_id\": 488, \"number_of_notes\": 14}, {\"track_id\": 489, \"number_of_notes\": 1}, {\"track_id\": 490, \"number_of_notes\": 40}, {\"track_id\": 491, \"number_of_notes\": 17}, {\"track_id\": 492, \"number_of_notes\": 36}, {\"track_id\": 493, \"number_of_notes\": 1}, {\"track_id\": 494, \"number_of_notes\": 1}, {\"track_id\": 495, \"number_of_notes\": 14}, {\"track_id\": 496, \"number_of_notes\": 1}, {\"track_id\": 497, \"number_of_notes\": 1}, {\"track_id\": 498, \"number_of_notes\": 1}, {\"track_id\": 499, \"number_of_notes\": 37}, {\"track_id\": 500, \"number_of_notes\": 65}, {\"track_id\": 501, \"number_of_notes\": 3}, {\"track_id\": 502, \"number_of_notes\": 8}, {\"track_id\": 503, \"number_of_notes\": 19}, {\"track_id\": 504, \"number_of_notes\": 63}, {\"track_id\": 505, \"number_of_notes\": 19}, {\"track_id\": 506, \"number_of_notes\": 18}, {\"track_id\": 507, \"number_of_notes\": 29}, {\"track_id\": 508, \"number_of_notes\": 36}, {\"track_id\": 509, \"number_of_notes\": 10}, {\"track_id\": 510, \"number_of_notes\": 16}, {\"track_id\": 511, \"number_of_notes\": 3}, {\"track_id\": 512, \"number_of_notes\": 29}, {\"track_id\": 513, \"number_of_notes\": 28}, {\"track_id\": 514, \"number_of_notes\": 31}, {\"track_id\": 515, \"number_of_notes\": 37}, {\"track_id\": 516, \"number_of_notes\": 15}, {\"track_id\": 517, \"number_of_notes\": 54}, {\"track_id\": 518, \"number_of_notes\": 1}, {\"track_id\": 519, \"number_of_notes\": 26}, {\"track_id\": 520, \"number_of_notes\": 32}, {\"track_id\": 521, \"number_of_notes\": 1}, {\"track_id\": 522, \"number_of_notes\": 17}, {\"track_id\": 523, \"number_of_notes\": 45}, {\"track_id\": 524, \"number_of_notes\": 2}, {\"track_id\": 525, \"number_of_notes\": 2}, {\"track_id\": 526, \"number_of_notes\": 22}, {\"track_id\": 527, \"number_of_notes\": 6}, {\"track_id\": 528, \"number_of_notes\": 32}, {\"track_id\": 529, \"number_of_notes\": 37}, {\"track_id\": 530, \"number_of_notes\": 1}, {\"track_id\": 531, \"number_of_notes\": 1}, {\"track_id\": 532, \"number_of_notes\": 1}, {\"track_id\": 533, \"number_of_notes\": 1}, {\"track_id\": 534, \"number_of_notes\": 8}, {\"track_id\": 535, \"number_of_notes\": 37}, {\"track_id\": 536, \"number_of_notes\": 15}, {\"track_id\": 537, \"number_of_notes\": 7}, {\"track_id\": 538, \"number_of_notes\": 1}, {\"track_id\": 539, \"number_of_notes\": 30}, {\"track_id\": 540, \"number_of_notes\": 37}, {\"track_id\": 541, \"number_of_notes\": 1}, {\"track_id\": 542, \"number_of_notes\": 12}, {\"track_id\": 543, \"number_of_notes\": 34}, {\"track_id\": 544, \"number_of_notes\": 18}, {\"track_id\": 545, \"number_of_notes\": 11}, {\"track_id\": 546, \"number_of_notes\": 10}, {\"track_id\": 547, \"number_of_notes\": 2}, {\"track_id\": 548, \"number_of_notes\": 12}, {\"track_id\": 549, \"number_of_notes\": 36}, {\"track_id\": 550, \"number_of_notes\": 1}, {\"track_id\": 551, \"number_of_notes\": 28}, {\"track_id\": 552, \"number_of_notes\": 16}, {\"track_id\": 553, \"number_of_notes\": 14}, {\"track_id\": 554, \"number_of_notes\": 1}, {\"track_id\": 555, \"number_of_notes\": 19}, {\"track_id\": 556, \"number_of_notes\": 11}, {\"track_id\": 557, \"number_of_notes\": 18}, {\"track_id\": 558, \"number_of_notes\": 13}, {\"track_id\": 559, \"number_of_notes\": 9}, {\"track_id\": 560, \"number_of_notes\": 37}, {\"track_id\": 561, \"number_of_notes\": 8}, {\"track_id\": 562, \"number_of_notes\": 1}, {\"track_id\": 563, \"number_of_notes\": 4}, {\"track_id\": 564, \"number_of_notes\": 3}, {\"track_id\": 565, \"number_of_notes\": 1}, {\"track_id\": 566, \"number_of_notes\": 5}, {\"track_id\": 567, \"number_of_notes\": 16}, {\"track_id\": 568, \"number_of_notes\": 27}, {\"track_id\": 569, \"number_of_notes\": 20}, {\"track_id\": 570, \"number_of_notes\": 1}, {\"track_id\": 571, \"number_of_notes\": 35}, {\"track_id\": 572, \"number_of_notes\": 1}, {\"track_id\": 573, \"number_of_notes\": 15}, {\"track_id\": 574, \"number_of_notes\": 37}, {\"track_id\": 575, \"number_of_notes\": 3}, {\"track_id\": 576, \"number_of_notes\": 37}, {\"track_id\": 577, \"number_of_notes\": 18}, {\"track_id\": 578, \"number_of_notes\": 16}, {\"track_id\": 579, \"number_of_notes\": 9}, {\"track_id\": 580, \"number_of_notes\": 7}, {\"track_id\": 581, \"number_of_notes\": 31}, {\"track_id\": 582, \"number_of_notes\": 23}, {\"track_id\": 583, \"number_of_notes\": 14}, {\"track_id\": 584, \"number_of_notes\": 34}, {\"track_id\": 585, \"number_of_notes\": 31}, {\"track_id\": 586, \"number_of_notes\": 1}, {\"track_id\": 587, \"number_of_notes\": 47}, {\"track_id\": 588, \"number_of_notes\": 5}, {\"track_id\": 589, \"number_of_notes\": 17}, {\"track_id\": 590, \"number_of_notes\": 12}, {\"track_id\": 591, \"number_of_notes\": 2}, {\"track_id\": 592, \"number_of_notes\": 8}, {\"track_id\": 593, \"number_of_notes\": 3}, {\"track_id\": 594, \"number_of_notes\": 20}, {\"track_id\": 595, \"number_of_notes\": 17}, {\"track_id\": 596, \"number_of_notes\": 2}, {\"track_id\": 597, \"number_of_notes\": 15}, {\"track_id\": 598, \"number_of_notes\": 35}, {\"track_id\": 599, \"number_of_notes\": 9}, {\"track_id\": 600, \"number_of_notes\": 14}, {\"track_id\": 601, \"number_of_notes\": 7}, {\"track_id\": 602, \"number_of_notes\": 32}, {\"track_id\": 603, \"number_of_notes\": 36}, {\"track_id\": 604, \"number_of_notes\": 1}, {\"track_id\": 605, \"number_of_notes\": 15}, {\"track_id\": 606, \"number_of_notes\": 1}, {\"track_id\": 607, \"number_of_notes\": 21}, {\"track_id\": 608, \"number_of_notes\": 17}, {\"track_id\": 609, \"number_of_notes\": 27}, {\"track_id\": 610, \"number_of_notes\": 18}, {\"track_id\": 611, \"number_of_notes\": 9}, {\"track_id\": 612, \"number_of_notes\": 4}, {\"track_id\": 613, \"number_of_notes\": 37}, {\"track_id\": 614, \"number_of_notes\": 23}, {\"track_id\": 615, \"number_of_notes\": 37}, {\"track_id\": 616, \"number_of_notes\": 53}, {\"track_id\": 617, \"number_of_notes\": 9}, {\"track_id\": 618, \"number_of_notes\": 1}, {\"track_id\": 619, \"number_of_notes\": 37}, {\"track_id\": 620, \"number_of_notes\": 71}, {\"track_id\": 621, \"number_of_notes\": 9}, {\"track_id\": 622, \"number_of_notes\": 109}, {\"track_id\": 623, \"number_of_notes\": 11}, {\"track_id\": 624, \"number_of_notes\": 13}, {\"track_id\": 625, \"number_of_notes\": 10}, {\"track_id\": 626, \"number_of_notes\": 17}, {\"track_id\": 627, \"number_of_notes\": 26}, {\"track_id\": 628, \"number_of_notes\": 1}, {\"track_id\": 629, \"number_of_notes\": 37}, {\"track_id\": 630, \"number_of_notes\": 23}, {\"track_id\": 631, \"number_of_notes\": 23}, {\"track_id\": 632, \"number_of_notes\": 4}, {\"track_id\": 633, \"number_of_notes\": 37}, {\"track_id\": 634, \"number_of_notes\": 40}, {\"track_id\": 635, \"number_of_notes\": 15}, {\"track_id\": 636, \"number_of_notes\": 10}, {\"track_id\": 637, \"number_of_notes\": 17}, {\"track_id\": 638, \"number_of_notes\": 5}, {\"track_id\": 639, \"number_of_notes\": 1}, {\"track_id\": 640, \"number_of_notes\": 10}, {\"track_id\": 641, \"number_of_notes\": 37}, {\"track_id\": 642, \"number_of_notes\": 1}, {\"track_id\": 643, \"number_of_notes\": 73}, {\"track_id\": 644, \"number_of_notes\": 2}, {\"track_id\": 645, \"number_of_notes\": 17}, {\"track_id\": 646, \"number_of_notes\": 9}, {\"track_id\": 647, \"number_of_notes\": 32}, {\"track_id\": 648, \"number_of_notes\": 15}, {\"track_id\": 649, \"number_of_notes\": 21}, {\"track_id\": 650, \"number_of_notes\": 36}, {\"track_id\": 651, \"number_of_notes\": 30}, {\"track_id\": 652, \"number_of_notes\": 2}, {\"track_id\": 653, \"number_of_notes\": 17}, {\"track_id\": 654, \"number_of_notes\": 18}, {\"track_id\": 655, \"number_of_notes\": 36}, {\"track_id\": 656, \"number_of_notes\": 1}, {\"track_id\": 657, \"number_of_notes\": 20}, {\"track_id\": 658, \"number_of_notes\": 19}, {\"track_id\": 659, \"number_of_notes\": 35}, {\"track_id\": 660, \"number_of_notes\": 2}, {\"track_id\": 661, \"number_of_notes\": 22}, {\"track_id\": 662, \"number_of_notes\": 36}, {\"track_id\": 663, \"number_of_notes\": 9}, {\"track_id\": 664, \"number_of_notes\": 21}, {\"track_id\": 665, \"number_of_notes\": 37}, {\"track_id\": 666, \"number_of_notes\": 3}, {\"track_id\": 667, \"number_of_notes\": 3}, {\"track_id\": 668, \"number_of_notes\": 34}, {\"track_id\": 669, \"number_of_notes\": 24}, {\"track_id\": 670, \"number_of_notes\": 1}, {\"track_id\": 671, \"number_of_notes\": 1}, {\"track_id\": 672, \"number_of_notes\": 30}, {\"track_id\": 673, \"number_of_notes\": 16}, {\"track_id\": 674, \"number_of_notes\": 17}, {\"track_id\": 675, \"number_of_notes\": 2}, {\"track_id\": 676, \"number_of_notes\": 25}, {\"track_id\": 677, \"number_of_notes\": 1}, {\"track_id\": 678, \"number_of_notes\": 37}, {\"track_id\": 679, \"number_of_notes\": 20}, {\"track_id\": 680, \"number_of_notes\": 20}, {\"track_id\": 681, \"number_of_notes\": 8}, {\"track_id\": 682, \"number_of_notes\": 37}, {\"track_id\": 683, \"number_of_notes\": 21}, {\"track_id\": 684, \"number_of_notes\": 6}, {\"track_id\": 685, \"number_of_notes\": 1}, {\"track_id\": 686, \"number_of_notes\": 11}, {\"track_id\": 687, \"number_of_notes\": 16}, {\"track_id\": 688, \"number_of_notes\": 37}, {\"track_id\": 689, \"number_of_notes\": 1}, {\"track_id\": 690, \"number_of_notes\": 1}, {\"track_id\": 691, \"number_of_notes\": 25}, {\"track_id\": 692, \"number_of_notes\": 2}, {\"track_id\": 693, \"number_of_notes\": 1}, {\"track_id\": 694, \"number_of_notes\": 37}, {\"track_id\": 695, \"number_of_notes\": 12}, {\"track_id\": 696, \"number_of_notes\": 29}, {\"track_id\": 697, \"number_of_notes\": 51}, {\"track_id\": 698, \"number_of_notes\": 31}, {\"track_id\": 699, \"number_of_notes\": 37}, {\"track_id\": 700, \"number_of_notes\": 42}, {\"track_id\": 701, \"number_of_notes\": 25}, {\"track_id\": 702, \"number_of_notes\": 39}, {\"track_id\": 703, \"number_of_notes\": 43}, {\"track_id\": 704, \"number_of_notes\": 108}, {\"track_id\": 705, \"number_of_notes\": 53}, {\"track_id\": 706, \"number_of_notes\": 52}, {\"track_id\": 707, \"number_of_notes\": 43}, {\"track_id\": 708, \"number_of_notes\": 69}, {\"track_id\": 709, \"number_of_notes\": 74}, {\"track_id\": 710, \"number_of_notes\": 56}, {\"track_id\": 711, \"number_of_notes\": 44}, {\"track_id\": 712, \"number_of_notes\": 32}, {\"track_id\": 713, \"number_of_notes\": 73}, {\"track_id\": 714, \"number_of_notes\": 14}, {\"track_id\": 715, \"number_of_notes\": 2}, {\"track_id\": 716, \"number_of_notes\": 6}, {\"track_id\": 717, \"number_of_notes\": 28}, {\"track_id\": 718, \"number_of_notes\": 5}, {\"track_id\": 719, \"number_of_notes\": 60}, {\"track_id\": 720, \"number_of_notes\": 19}, {\"track_id\": 721, \"number_of_notes\": 3}, {\"track_id\": 722, \"number_of_notes\": 2}, {\"track_id\": 723, \"number_of_notes\": 16}, {\"track_id\": 724, \"number_of_notes\": 49}, {\"track_id\": 725, \"number_of_notes\": 17}, {\"track_id\": 726, \"number_of_notes\": 1}, {\"track_id\": 727, \"number_of_notes\": 15}, {\"track_id\": 728, \"number_of_notes\": 37}, {\"track_id\": 729, \"number_of_notes\": 1}, {\"track_id\": 730, \"number_of_notes\": 30}, {\"track_id\": 731, \"number_of_notes\": 36}, {\"track_id\": 732, \"number_of_notes\": 22}, {\"track_id\": 733, \"number_of_notes\": 17}, {\"track_id\": 734, \"number_of_notes\": 1}, {\"track_id\": 735, \"number_of_notes\": 30}, {\"track_id\": 736, \"number_of_notes\": 30}, {\"track_id\": 737, \"number_of_notes\": 1}, {\"track_id\": 738, \"number_of_notes\": 1}, {\"track_id\": 739, \"number_of_notes\": 8}, {\"track_id\": 740, \"number_of_notes\": 33}, {\"track_id\": 741, \"number_of_notes\": 3}, {\"track_id\": 742, \"number_of_notes\": 18}, {\"track_id\": 743, \"number_of_notes\": 24}, {\"track_id\": 744, \"number_of_notes\": 5}, {\"track_id\": 745, \"number_of_notes\": 12}, {\"track_id\": 746, \"number_of_notes\": 21}, {\"track_id\": 747, \"number_of_notes\": 36}, {\"track_id\": 748, \"number_of_notes\": 26}, {\"track_id\": 749, \"number_of_notes\": 35}, {\"track_id\": 750, \"number_of_notes\": 3}, {\"track_id\": 751, \"number_of_notes\": 9}, {\"track_id\": 752, \"number_of_notes\": 16}, {\"track_id\": 753, \"number_of_notes\": 7}, {\"track_id\": 754, \"number_of_notes\": 18}, {\"track_id\": 755, \"number_of_notes\": 30}, {\"track_id\": 756, \"number_of_notes\": 1}, {\"track_id\": 757, \"number_of_notes\": 36}, {\"track_id\": 758, \"number_of_notes\": 12}, {\"track_id\": 759, \"number_of_notes\": 3}, {\"track_id\": 760, \"number_of_notes\": 1}, {\"track_id\": 761, \"number_of_notes\": 11}, {\"track_id\": 762, \"number_of_notes\": 1}, {\"track_id\": 763, \"number_of_notes\": 16}, {\"track_id\": 764, \"number_of_notes\": 49}, {\"track_id\": 765, \"number_of_notes\": 22}, {\"track_id\": 766, \"number_of_notes\": 1}, {\"track_id\": 767, \"number_of_notes\": 25}, {\"track_id\": 768, \"number_of_notes\": 16}, {\"track_id\": 769, \"number_of_notes\": 30}, {\"track_id\": 770, \"number_of_notes\": 36}, {\"track_id\": 771, \"number_of_notes\": 1}, {\"track_id\": 772, \"number_of_notes\": 24}, {\"track_id\": 773, \"number_of_notes\": 10}, {\"track_id\": 774, \"number_of_notes\": 12}, {\"track_id\": 775, \"number_of_notes\": 1}, {\"track_id\": 776, \"number_of_notes\": 1}, {\"track_id\": 777, \"number_of_notes\": 28}, {\"track_id\": 778, \"number_of_notes\": 5}, {\"track_id\": 779, \"number_of_notes\": 10}, {\"track_id\": 780, \"number_of_notes\": 17}, {\"track_id\": 781, \"number_of_notes\": 35}, {\"track_id\": 782, \"number_of_notes\": 35}, {\"track_id\": 783, \"number_of_notes\": 30}, {\"track_id\": 784, \"number_of_notes\": 1}, {\"track_id\": 785, \"number_of_notes\": 23}, {\"track_id\": 786, \"number_of_notes\": 6}, {\"track_id\": 787, \"number_of_notes\": 37}, {\"track_id\": 788, \"number_of_notes\": 1}, {\"track_id\": 789, \"number_of_notes\": 27}, {\"track_id\": 790, \"number_of_notes\": 35}, {\"track_id\": 791, \"number_of_notes\": 1}, {\"track_id\": 792, \"number_of_notes\": 28}, {\"track_id\": 793, \"number_of_notes\": 38}, {\"track_id\": 794, \"number_of_notes\": 1}, {\"track_id\": 795, \"number_of_notes\": 5}, {\"track_id\": 796, \"number_of_notes\": 37}, {\"track_id\": 797, \"number_of_notes\": 30}, {\"track_id\": 798, \"number_of_notes\": 31}, {\"track_id\": 799, \"number_of_notes\": 1}, {\"track_id\": 800, \"number_of_notes\": 7}, {\"track_id\": 801, \"number_of_notes\": 36}, {\"track_id\": 802, \"number_of_notes\": 16}, {\"track_id\": 803, \"number_of_notes\": 3}, {\"track_id\": 804, \"number_of_notes\": 210}, {\"track_id\": 805, \"number_of_notes\": 84}, {\"track_id\": 806, \"number_of_notes\": 29}, {\"track_id\": 807, \"number_of_notes\": 36}, {\"track_id\": 808, \"number_of_notes\": 1}, {\"track_id\": 809, \"number_of_notes\": 1}, {\"track_id\": 810, \"number_of_notes\": 16}, {\"track_id\": 811, \"number_of_notes\": 26}, {\"track_id\": 812, \"number_of_notes\": 30}, {\"track_id\": 813, \"number_of_notes\": 4}, {\"track_id\": 814, \"number_of_notes\": 14}, {\"track_id\": 815, \"number_of_notes\": 31}, {\"track_id\": 816, \"number_of_notes\": 7}, {\"track_id\": 817, \"number_of_notes\": 1}, {\"track_id\": 818, \"number_of_notes\": 1}, {\"track_id\": 819, \"number_of_notes\": 65}, {\"track_id\": 820, \"number_of_notes\": 66}, {\"track_id\": 821, \"number_of_notes\": 28}, {\"track_id\": 822, \"number_of_notes\": 1}, {\"track_id\": 823, \"number_of_notes\": 34}, {\"track_id\": 824, \"number_of_notes\": 37}, {\"track_id\": 825, \"number_of_notes\": 1}, {\"track_id\": 826, \"number_of_notes\": 1}, {\"track_id\": 827, \"number_of_notes\": 1}, {\"track_id\": 828, \"number_of_notes\": 37}, {\"track_id\": 829, \"number_of_notes\": 1}, {\"track_id\": 830, \"number_of_notes\": 15}, {\"track_id\": 831, \"number_of_notes\": 37}, {\"track_id\": 832, \"number_of_notes\": 26}, {\"track_id\": 833, \"number_of_notes\": 36}, {\"track_id\": 834, \"number_of_notes\": 16}, {\"track_id\": 835, \"number_of_notes\": 1}, {\"track_id\": 836, \"number_of_notes\": 1}, {\"track_id\": 837, \"number_of_notes\": 23}, {\"track_id\": 838, \"number_of_notes\": 3}, {\"track_id\": 839, \"number_of_notes\": 16}, {\"track_id\": 840, \"number_of_notes\": 33}, {\"track_id\": 841, \"number_of_notes\": 18}, {\"track_id\": 842, \"number_of_notes\": 1}, {\"track_id\": 843, \"number_of_notes\": 24}, {\"track_id\": 844, \"number_of_notes\": 46}, {\"track_id\": 845, \"number_of_notes\": 29}, {\"track_id\": 846, \"number_of_notes\": 73}, {\"track_id\": 847, \"number_of_notes\": 31}, {\"track_id\": 848, \"number_of_notes\": 24}, {\"track_id\": 849, \"number_of_notes\": 19}, {\"track_id\": 850, \"number_of_notes\": 6}, {\"track_id\": 851, \"number_of_notes\": 19}, {\"track_id\": 852, \"number_of_notes\": 1}, {\"track_id\": 853, \"number_of_notes\": 31}, {\"track_id\": 854, \"number_of_notes\": 7}, {\"track_id\": 855, \"number_of_notes\": 2}, {\"track_id\": 856, \"number_of_notes\": 9}, {\"track_id\": 857, \"number_of_notes\": 35}, {\"track_id\": 858, \"number_of_notes\": 17}, {\"track_id\": 859, \"number_of_notes\": 18}, {\"track_id\": 860, \"number_of_notes\": 1}, {\"track_id\": 861, \"number_of_notes\": 32}, {\"track_id\": 862, \"number_of_notes\": 36}, {\"track_id\": 863, \"number_of_notes\": 11}, {\"track_id\": 864, \"number_of_notes\": 1}, {\"track_id\": 865, \"number_of_notes\": 32}, {\"track_id\": 866, \"number_of_notes\": 84}, {\"track_id\": 867, \"number_of_notes\": 1}, {\"track_id\": 868, \"number_of_notes\": 1}, {\"track_id\": 869, \"number_of_notes\": 22}, {\"track_id\": 870, \"number_of_notes\": 34}, {\"track_id\": 871, \"number_of_notes\": 5}, {\"track_id\": 872, \"number_of_notes\": 56}, {\"track_id\": 873, \"number_of_notes\": 16}, {\"track_id\": 874, \"number_of_notes\": 1}, {\"track_id\": 875, \"number_of_notes\": 7}, {\"track_id\": 876, \"number_of_notes\": 17}, {\"track_id\": 877, \"number_of_notes\": 37}, {\"track_id\": 878, \"number_of_notes\": 9}, {\"track_id\": 879, \"number_of_notes\": 9}, {\"track_id\": 880, \"number_of_notes\": 19}, {\"track_id\": 881, \"number_of_notes\": 1}, {\"track_id\": 882, \"number_of_notes\": 16}, {\"track_id\": 883, \"number_of_notes\": 18}, {\"track_id\": 884, \"number_of_notes\": 21}, {\"track_id\": 885, \"number_of_notes\": 15}, {\"track_id\": 886, \"number_of_notes\": 49}, {\"track_id\": 887, \"number_of_notes\": 1}, {\"track_id\": 888, \"number_of_notes\": 67}, {\"track_id\": 889, \"number_of_notes\": 4}, {\"track_id\": 890, \"number_of_notes\": 13}, {\"track_id\": 891, \"number_of_notes\": 1}, {\"track_id\": 892, \"number_of_notes\": 18}, {\"track_id\": 893, \"number_of_notes\": 31}, {\"track_id\": 894, \"number_of_notes\": 37}, {\"track_id\": 895, \"number_of_notes\": 5}, {\"track_id\": 896, \"number_of_notes\": 1}, {\"track_id\": 897, \"number_of_notes\": 6}, {\"track_id\": 898, \"number_of_notes\": 7}, {\"track_id\": 899, \"number_of_notes\": 1}, {\"track_id\": 900, \"number_of_notes\": 1}, {\"track_id\": 901, \"number_of_notes\": 19}, {\"track_id\": 902, \"number_of_notes\": 1}, {\"track_id\": 903, \"number_of_notes\": 31}, {\"track_id\": 904, \"number_of_notes\": 11}, {\"track_id\": 905, \"number_of_notes\": 17}, {\"track_id\": 906, \"number_of_notes\": 26}, {\"track_id\": 907, \"number_of_notes\": 37}, {\"track_id\": 908, \"number_of_notes\": 1}, {\"track_id\": 909, \"number_of_notes\": 14}, {\"track_id\": 910, \"number_of_notes\": 5}, {\"track_id\": 911, \"number_of_notes\": 8}, {\"track_id\": 912, \"number_of_notes\": 1}, {\"track_id\": 913, \"number_of_notes\": 37}, {\"track_id\": 914, \"number_of_notes\": 15}, {\"track_id\": 915, \"number_of_notes\": 35}, {\"track_id\": 916, \"number_of_notes\": 36}, {\"track_id\": 917, \"number_of_notes\": 37}, {\"track_id\": 918, \"number_of_notes\": 31}, {\"track_id\": 919, \"number_of_notes\": 73}, {\"track_id\": 920, \"number_of_notes\": 31}, {\"track_id\": 921, \"number_of_notes\": 1}, {\"track_id\": 922, \"number_of_notes\": 27}, {\"track_id\": 923, \"number_of_notes\": 18}, {\"track_id\": 924, \"number_of_notes\": 18}, {\"track_id\": 925, \"number_of_notes\": 1}, {\"track_id\": 926, \"number_of_notes\": 20}, {\"track_id\": 927, \"number_of_notes\": 32}, {\"track_id\": 928, \"number_of_notes\": 37}, {\"track_id\": 929, \"number_of_notes\": 1}, {\"track_id\": 930, \"number_of_notes\": 36}, {\"track_id\": 931, \"number_of_notes\": 6}, {\"track_id\": 932, \"number_of_notes\": 5}, {\"track_id\": 933, \"number_of_notes\": 15}, {\"track_id\": 934, \"number_of_notes\": 1}, {\"track_id\": 935, \"number_of_notes\": 21}, {\"track_id\": 936, \"number_of_notes\": 1}, {\"track_id\": 937, \"number_of_notes\": 9}, {\"track_id\": 938, \"number_of_notes\": 31}, {\"track_id\": 939, \"number_of_notes\": 21}, {\"track_id\": 940, \"number_of_notes\": 50}, {\"track_id\": 941, \"number_of_notes\": 34}, {\"track_id\": 942, \"number_of_notes\": 50}, {\"track_id\": 943, \"number_of_notes\": 1}, {\"track_id\": 944, \"number_of_notes\": 12}, {\"track_id\": 945, \"number_of_notes\": 34}, {\"track_id\": 946, \"number_of_notes\": 20}, {\"track_id\": 947, \"number_of_notes\": 15}, {\"track_id\": 948, \"number_of_notes\": 21}, {\"track_id\": 949, \"number_of_notes\": 21}, {\"track_id\": 950, \"number_of_notes\": 1}, {\"track_id\": 951, \"number_of_notes\": 20}, {\"track_id\": 952, \"number_of_notes\": 31}, {\"track_id\": 953, \"number_of_notes\": 28}, {\"track_id\": 954, \"number_of_notes\": 7}, {\"track_id\": 955, \"number_of_notes\": 9}, {\"track_id\": 956, \"number_of_notes\": 1}, {\"track_id\": 957, \"number_of_notes\": 49}, {\"track_id\": 958, \"number_of_notes\": 5}, {\"track_id\": 959, \"number_of_notes\": 19}, {\"track_id\": 960, \"number_of_notes\": 1}, {\"track_id\": 961, \"number_of_notes\": 1}, {\"track_id\": 962, \"number_of_notes\": 17}, {\"track_id\": 963, \"number_of_notes\": 1}, {\"track_id\": 964, \"number_of_notes\": 7}, {\"track_id\": 965, \"number_of_notes\": 23}, {\"track_id\": 966, \"number_of_notes\": 76}, {\"track_id\": 967, \"number_of_notes\": 23}, {\"track_id\": 968, \"number_of_notes\": 27}, {\"track_id\": 969, \"number_of_notes\": 103}, {\"track_id\": 970, \"number_of_notes\": 14}, {\"track_id\": 971, \"number_of_notes\": 1}, {\"track_id\": 972, \"number_of_notes\": 16}, {\"track_id\": 973, \"number_of_notes\": 35}, {\"track_id\": 974, \"number_of_notes\": 37}, {\"track_id\": 975, \"number_of_notes\": 1}, {\"track_id\": 976, \"number_of_notes\": 36}, {\"track_id\": 977, \"number_of_notes\": 37}, {\"track_id\": 978, \"number_of_notes\": 1}, {\"track_id\": 979, \"number_of_notes\": 24}, {\"track_id\": 980, \"number_of_notes\": 22}, {\"track_id\": 981, \"number_of_notes\": 9}, {\"track_id\": 982, \"number_of_notes\": 1}, {\"track_id\": 983, \"number_of_notes\": 37}, {\"track_id\": 984, \"number_of_notes\": 29}, {\"track_id\": 985, \"number_of_notes\": 58}, {\"track_id\": 986, \"number_of_notes\": 3}, {\"track_id\": 987, \"number_of_notes\": 7}, {\"track_id\": 988, \"number_of_notes\": 19}, {\"track_id\": 989, \"number_of_notes\": 24}, {\"track_id\": 990, \"number_of_notes\": 1}, {\"track_id\": 991, \"number_of_notes\": 7}, {\"track_id\": 992, \"number_of_notes\": 4}, {\"track_id\": 993, \"number_of_notes\": 15}, {\"track_id\": 994, \"number_of_notes\": 6}, {\"track_id\": 995, \"number_of_notes\": 30}, {\"track_id\": 996, \"number_of_notes\": 1}, {\"track_id\": 997, \"number_of_notes\": 37}, {\"track_id\": 998, \"number_of_notes\": 16}, {\"track_id\": 999, \"number_of_notes\": 6}, {\"track_id\": 1000, \"number_of_notes\": 30}, {\"track_id\": 1001, \"number_of_notes\": 8}, {\"track_id\": 1002, \"number_of_notes\": 2}, {\"track_id\": 1003, \"number_of_notes\": 82}, {\"track_id\": 1004, \"number_of_notes\": 11}, {\"track_id\": 1005, \"number_of_notes\": 2}, {\"track_id\": 1006, \"number_of_notes\": 97}, {\"track_id\": 1007, \"number_of_notes\": 20}, {\"track_id\": 1008, \"number_of_notes\": 18}, {\"track_id\": 1009, \"number_of_notes\": 1}, {\"track_id\": 1010, \"number_of_notes\": 1}, {\"track_id\": 1011, \"number_of_notes\": 1}, {\"track_id\": 1012, \"number_of_notes\": 4}, {\"track_id\": 1013, \"number_of_notes\": 1}, {\"track_id\": 1014, \"number_of_notes\": 1}, {\"track_id\": 1015, \"number_of_notes\": 1}, {\"track_id\": 1016, \"number_of_notes\": 6}, {\"track_id\": 1017, \"number_of_notes\": 15}, {\"track_id\": 1018, \"number_of_notes\": 111}, {\"track_id\": 1019, \"number_of_notes\": 1}, {\"track_id\": 1020, \"number_of_notes\": 10}, {\"track_id\": 1021, \"number_of_notes\": 13}, {\"track_id\": 1022, \"number_of_notes\": 49}, {\"track_id\": 1023, \"number_of_notes\": 213}, {\"track_id\": 1024, \"number_of_notes\": 1}, {\"track_id\": 1025, \"number_of_notes\": 8}, {\"track_id\": 1026, \"number_of_notes\": 6}, {\"track_id\": 1027, \"number_of_notes\": 8}, {\"track_id\": 1028, \"number_of_notes\": 36}, {\"track_id\": 1029, \"number_of_notes\": 1}, {\"track_id\": 1030, \"number_of_notes\": 1}, {\"track_id\": 1031, \"number_of_notes\": 42}, {\"track_id\": 1032, \"number_of_notes\": 7}, {\"track_id\": 1033, \"number_of_notes\": 18}, {\"track_id\": 1034, \"number_of_notes\": 13}, {\"track_id\": 1035, \"number_of_notes\": 9}, {\"track_id\": 1036, \"number_of_notes\": 11}, {\"track_id\": 1037, \"number_of_notes\": 37}, {\"track_id\": 1038, \"number_of_notes\": 18}, {\"track_id\": 1039, \"number_of_notes\": 1}, {\"track_id\": 1040, \"number_of_notes\": 26}, {\"track_id\": 1041, \"number_of_notes\": 169}, {\"track_id\": 1042, \"number_of_notes\": 18}, {\"track_id\": 1043, \"number_of_notes\": 131}, {\"track_id\": 1044, \"number_of_notes\": 25}, {\"track_id\": 1045, \"number_of_notes\": 37}, {\"track_id\": 1046, \"number_of_notes\": 30}, {\"track_id\": 1047, \"number_of_notes\": 1}, {\"track_id\": 1048, \"number_of_notes\": 26}, {\"track_id\": 1049, \"number_of_notes\": 9}, {\"track_id\": 1050, \"number_of_notes\": 37}, {\"track_id\": 1051, \"number_of_notes\": 9}, {\"track_id\": 1052, \"number_of_notes\": 16}, {\"track_id\": 1053, \"number_of_notes\": 1}, {\"track_id\": 1054, \"number_of_notes\": 16}, {\"track_id\": 1055, \"number_of_notes\": 29}, {\"track_id\": 1056, \"number_of_notes\": 1}, {\"track_id\": 1057, \"number_of_notes\": 19}, {\"track_id\": 1058, \"number_of_notes\": 11}, {\"track_id\": 1059, \"number_of_notes\": 28}, {\"track_id\": 1060, \"number_of_notes\": 28}, {\"track_id\": 1061, \"number_of_notes\": 8}, {\"track_id\": 1062, \"number_of_notes\": 18}, {\"track_id\": 1063, \"number_of_notes\": 1}, {\"track_id\": 1064, \"number_of_notes\": 15}, {\"track_id\": 1065, \"number_of_notes\": 5}, {\"track_id\": 1066, \"number_of_notes\": 15}, {\"track_id\": 1067, \"number_of_notes\": 65}, {\"track_id\": 1068, \"number_of_notes\": 36}, {\"track_id\": 1069, \"number_of_notes\": 52}, {\"track_id\": 1070, \"number_of_notes\": 16}, {\"track_id\": 1071, \"number_of_notes\": 11}, {\"track_id\": 1072, \"number_of_notes\": 1}, {\"track_id\": 1073, \"number_of_notes\": 26}, {\"track_id\": 1074, \"number_of_notes\": 26}, {\"track_id\": 1075, \"number_of_notes\": 12}, {\"track_id\": 1076, \"number_of_notes\": 39}, {\"track_id\": 1077, \"number_of_notes\": 29}, {\"track_id\": 1078, \"number_of_notes\": 1}, {\"track_id\": 1079, \"number_of_notes\": 37}, {\"track_id\": 1080, \"number_of_notes\": 2}, {\"track_id\": 1081, \"number_of_notes\": 50}, {\"track_id\": 1082, \"number_of_notes\": 124}, {\"track_id\": 1083, \"number_of_notes\": 61}, {\"track_id\": 1084, \"number_of_notes\": 62}, {\"track_id\": 1085, \"number_of_notes\": 1}, {\"track_id\": 1086, \"number_of_notes\": 27}, {\"track_id\": 1087, \"number_of_notes\": 37}, {\"track_id\": 1088, \"number_of_notes\": 1}, {\"track_id\": 1089, \"number_of_notes\": 8}, {\"track_id\": 1090, \"number_of_notes\": 8}, {\"track_id\": 1091, \"number_of_notes\": 1}, {\"track_id\": 1092, \"number_of_notes\": 8}, {\"track_id\": 1093, \"number_of_notes\": 24}, {\"track_id\": 1094, \"number_of_notes\": 49}, {\"track_id\": 1095, \"number_of_notes\": 39}, {\"track_id\": 1096, \"number_of_notes\": 21}, {\"track_id\": 1097, \"number_of_notes\": 2}, {\"track_id\": 1098, \"number_of_notes\": 5}, {\"track_id\": 1099, \"number_of_notes\": 8}, {\"track_id\": 1100, \"number_of_notes\": 1}, {\"track_id\": 1101, \"number_of_notes\": 11}, {\"track_id\": 1102, \"number_of_notes\": 26}, {\"track_id\": 1103, \"number_of_notes\": 25}, {\"track_id\": 1104, \"number_of_notes\": 1}, {\"track_id\": 1105, \"number_of_notes\": 2}, {\"track_id\": 1106, \"number_of_notes\": 35}, {\"track_id\": 1107, \"number_of_notes\": 7}, {\"track_id\": 1108, \"number_of_notes\": 1}, {\"track_id\": 1109, \"number_of_notes\": 12}, {\"track_id\": 1110, \"number_of_notes\": 4}, {\"track_id\": 1111, \"number_of_notes\": 10}, {\"track_id\": 1112, \"number_of_notes\": 14}, {\"track_id\": 1113, \"number_of_notes\": 9}, {\"track_id\": 1114, \"number_of_notes\": 45}, {\"track_id\": 1115, \"number_of_notes\": 44}, {\"track_id\": 1116, \"number_of_notes\": 1}, {\"track_id\": 1117, \"number_of_notes\": 37}, {\"track_id\": 1118, \"number_of_notes\": 2}, {\"track_id\": 1119, \"number_of_notes\": 4}, {\"track_id\": 1120, \"number_of_notes\": 12}, {\"track_id\": 1121, \"number_of_notes\": 13}, {\"track_id\": 1122, \"number_of_notes\": 1}, {\"track_id\": 1123, \"number_of_notes\": 18}, {\"track_id\": 1124, \"number_of_notes\": 23}, {\"track_id\": 1125, \"number_of_notes\": 40}, {\"track_id\": 1126, \"number_of_notes\": 1}, {\"track_id\": 1127, \"number_of_notes\": 35}, {\"track_id\": 1128, \"number_of_notes\": 37}, {\"track_id\": 1129, \"number_of_notes\": 26}, {\"track_id\": 1130, \"number_of_notes\": 8}, {\"track_id\": 1131, \"number_of_notes\": 10}, {\"track_id\": 1132, \"number_of_notes\": 5}, {\"track_id\": 1133, \"number_of_notes\": 8}, {\"track_id\": 1134, \"number_of_notes\": 15}, {\"track_id\": 1135, \"number_of_notes\": 1}, {\"track_id\": 1136, \"number_of_notes\": 37}, {\"track_id\": 1137, \"number_of_notes\": 37}, {\"track_id\": 1138, \"number_of_notes\": 37}, {\"track_id\": 1139, \"number_of_notes\": 4}, {\"track_id\": 1140, \"number_of_notes\": 2}, {\"track_id\": 1141, \"number_of_notes\": 37}, {\"track_id\": 1142, \"number_of_notes\": 21}, {\"track_id\": 1143, \"number_of_notes\": 9}, {\"track_id\": 1144, \"number_of_notes\": 8}]}}, {\"mode\": \"vega-lite\"});\n",
              "</script>"
            ]
          },
          "metadata": {
            "tags": []
          },
          "execution_count": 13
        }
      ]
    },
    {
      "cell_type": "markdown",
      "metadata": {
        "id": "19p4SIVIHYLN"
      },
      "source": [
        "We analyse the range of each track:"
      ],
      "id": "19p4SIVIHYLN"
    },
    {
      "cell_type": "code",
      "metadata": {
        "id": "xngv8j5LHYI0",
        "outputId": "723088f9-de87-49b2-de20-7b7778a9b760",
        "colab": {
          "base_uri": "https://localhost:8080/",
          "height": 265
        }
      },
      "source": [
        "plt.hist(tracks_df['pitch_range']);"
      ],
      "id": "xngv8j5LHYI0",
      "execution_count": 14,
      "outputs": [
        {
          "output_type": "display_data",
          "data": {
            "image/png": "[encoded data removed]",
            "text/plain": [
              "<Figure size 432x288 with 1 Axes>"
            ]
          },
          "metadata": {
            "tags": [],
            "needs_background": "light"
          }
        }
      ]
    },
    {
      "cell_type": "code",
      "metadata": {
        "id": "g9LZvm6ZHYAH",
        "outputId": "d195b450-0f59-4153-d1d4-9e848541260b",
        "colab": {
          "base_uri": "https://localhost:8080/",
          "height": 363
        }
      },
      "source": [
        "alt.Chart(tracks_df[['track_id', 'pitch_range']]).mark_circle(size=60).encode(\n",
        "    x='track_id',\n",
        "    y='pitch_range',\n",
        "    color='pitch_range',\n",
        "    tooltip=['track_id']\n",
        ").interactive()"
      ],
      "id": "g9LZvm6ZHYAH",
      "execution_count": 15,
      "outputs": [
        {
          "output_type": "execute_result",
          "data": {
            "text/plain": [
              "alt.Chart(...)"
            ],
            "text/html": [
              "\n",
              "<div id=\"altair-viz-dbf2923e9108474da6a0e6dcc3aa3cbc\"></div>\n",
              "<script type=\"text/javascript\">\n",
              "  (function(spec, embedOpt){\n",
              "    let outputDiv = document.currentScript.previousElementSibling;\n",
              "    if (outputDiv.id !== \"altair-viz-dbf2923e9108474da6a0e6dcc3aa3cbc\") {\n",
              "      outputDiv = document.getElementById(\"altair-viz-dbf2923e9108474da6a0e6dcc3aa3cbc\");\n",
              "    }\n",
              "    const paths = {\n",
              "      \"vega\": \"https://cdn.jsdelivr.net/npm//vega@5?noext\",\n",
              "      \"vega-lib\": \"https://cdn.jsdelivr.net/npm//vega-lib?noext\",\n",
              "      \"vega-lite\": \"https://cdn.jsdelivr.net/npm//vega-lite@4.8.1?noext\",\n",
              "      \"vega-embed\": \"https://cdn.jsdelivr.net/npm//vega-embed@6?noext\",\n",
              "    };\n",
              "\n",
              "    function loadScript(lib) {\n",
              "      return new Promise(function(resolve, reject) {\n",
              "        var s = document.createElement('script');\n",
              "        s.src = paths[lib];\n",
              "        s.async = true;\n",
              "        s.onload = () => resolve(paths[lib]);\n",
              "        s.onerror = () => reject(`Error loading script: ${paths[lib]}`);\n",
              "        document.getElementsByTagName(\"head\")[0].appendChild(s);\n",
              "      });\n",
              "    }\n",
              "\n",
              "    function showError(err) {\n",
              "      outputDiv.innerHTML = `<div class=\"error\" style=\"color:red;\">${err}</div>`;\n",
              "      throw err;\n",
              "    }\n",
              "\n",
              "    function displayChart(vegaEmbed) {\n",
              "      vegaEmbed(outputDiv, spec, embedOpt)\n",
              "        .catch(err => showError(`Javascript Error: ${err.message}<br>This usually means there's a typo in your chart specification. See the javascript console for the full traceback.`));\n",
              "    }\n",
              "\n",
              "    if(typeof define === \"function\" && define.amd) {\n",
              "      requirejs.config({paths});\n",
              "      require([\"vega-embed\"], displayChart, err => showError(`Error loading script: ${err.message}`));\n",
              "    } else if (typeof vegaEmbed === \"function\") {\n",
              "      displayChart(vegaEmbed);\n",
              "    } else {\n",
              "      loadScript(\"vega\")\n",
              "        .then(() => loadScript(\"vega-lite\"))\n",
              "        .then(() => loadScript(\"vega-embed\"))\n",
              "        .catch(showError)\n",
              "        .then(() => displayChart(vegaEmbed));\n",
              "    }\n",
              "  })({\"config\": {\"view\": {\"continuousWidth\": 400, \"continuousHeight\": 300}}, \"data\": {\"name\": \"data-bcf9ec1e3cf7c02f5ebb4b1aead7e21e\"}, \"mark\": {\"type\": \"circle\", \"size\": 60}, \"encoding\": {\"color\": {\"type\": \"quantitative\", \"field\": \"pitch_range\"}, \"tooltip\": [{\"type\": \"quantitative\", \"field\": \"track_id\"}], \"x\": {\"type\": \"quantitative\", \"field\": \"track_id\"}, \"y\": {\"type\": \"quantitative\", \"field\": \"pitch_range\"}}, \"selection\": {\"selector002\": {\"type\": \"interval\", \"bind\": \"scales\", \"encodings\": [\"x\", \"y\"]}}, \"$schema\": \"https://vega.github.io/schema/vega-lite/v4.8.1.json\", \"datasets\": {\"data-bcf9ec1e3cf7c02f5ebb4b1aead7e21e\": [{\"track_id\": 0, \"pitch_range\": 15.0}, {\"track_id\": 1, \"pitch_range\": 7.0}, {\"track_id\": 2, \"pitch_range\": 5.0}, {\"track_id\": 3, \"pitch_range\": 5.0}, {\"track_id\": 4, \"pitch_range\": 19.0}, {\"track_id\": 5, \"pitch_range\": 31.0}, {\"track_id\": 6, \"pitch_range\": 0.0}, {\"track_id\": 7, \"pitch_range\": 8.0}, {\"track_id\": 8, \"pitch_range\": 0.0}, {\"track_id\": 9, \"pitch_range\": 29.0}, {\"track_id\": 10, \"pitch_range\": 23.0}, {\"track_id\": 11, \"pitch_range\": 17.0}, {\"track_id\": 12, \"pitch_range\": 7.0}, {\"track_id\": 13, \"pitch_range\": 0.0}, {\"track_id\": 14, \"pitch_range\": 5.0}, {\"track_id\": 15, \"pitch_range\": 7.0}, {\"track_id\": 16, \"pitch_range\": 8.0}, {\"track_id\": 17, \"pitch_range\": 4.0}, {\"track_id\": 18, \"pitch_range\": 14.0}, {\"track_id\": 19, \"pitch_range\": 0.0}, {\"track_id\": 20, \"pitch_range\": 2.0}, {\"track_id\": 21, \"pitch_range\": 5.0}, {\"track_id\": 22, \"pitch_range\": 7.0}, {\"track_id\": 23, \"pitch_range\": 8.0}, {\"track_id\": 24, \"pitch_range\": 0.0}, {\"track_id\": 25, \"pitch_range\": 0.0}, {\"track_id\": 26, \"pitch_range\": 24.0}, {\"track_id\": 27, \"pitch_range\": 17.0}, {\"track_id\": 28, \"pitch_range\": 0.0}, {\"track_id\": 29, \"pitch_range\": 32.0}, {\"track_id\": 30, \"pitch_range\": 17.0}, {\"track_id\": 31, \"pitch_range\": 8.0}, {\"track_id\": 32, \"pitch_range\": 12.0}, {\"track_id\": 33, \"pitch_range\": 5.0}, {\"track_id\": 34, \"pitch_range\": 0.0}, {\"track_id\": 35, \"pitch_range\": 15.0}, {\"track_id\": 36, \"pitch_range\": 5.0}, {\"track_id\": 37, \"pitch_range\": 14.0}, {\"track_id\": 38, \"pitch_range\": 0.0}, {\"track_id\": 39, \"pitch_range\": 7.0}, {\"track_id\": 40, \"pitch_range\": 0.0}, {\"track_id\": 41, \"pitch_range\": 9.0}, {\"track_id\": 42, \"pitch_range\": 20.0}, {\"track_id\": 43, \"pitch_range\": 12.0}, {\"track_id\": 44, \"pitch_range\": 9.0}, {\"track_id\": 45, \"pitch_range\": 14.0}, {\"track_id\": 46, \"pitch_range\": 17.0}, {\"track_id\": 47, \"pitch_range\": 12.0}, {\"track_id\": 48, \"pitch_range\": 7.0}, {\"track_id\": 49, \"pitch_range\": 24.0}, {\"track_id\": 50, \"pitch_range\": 7.0}, {\"track_id\": 51, \"pitch_range\": 21.0}, {\"track_id\": 52, \"pitch_range\": 0.0}, {\"track_id\": 53, \"pitch_range\": 7.0}, {\"track_id\": 54, \"pitch_range\": 0.0}, {\"track_id\": 55, \"pitch_range\": 2.0}, {\"track_id\": 56, \"pitch_range\": 8.0}, {\"track_id\": 57, \"pitch_range\": 12.0}, {\"track_id\": 58, \"pitch_range\": 5.0}, {\"track_id\": 59, \"pitch_range\": 14.0}, {\"track_id\": 60, \"pitch_range\": 4.0}, {\"track_id\": 61, \"pitch_range\": 8.0}, {\"track_id\": 62, \"pitch_range\": 0.0}, {\"track_id\": 63, \"pitch_range\": 7.0}, {\"track_id\": 64, \"pitch_range\": 7.0}, {\"track_id\": 65, \"pitch_range\": 10.0}, {\"track_id\": 66, \"pitch_range\": 17.0}, {\"track_id\": 67, \"pitch_range\": 0.0}, {\"track_id\": 68, \"pitch_range\": 5.0}, {\"track_id\": 69, \"pitch_range\": 14.0}, {\"track_id\": 70, \"pitch_range\": 7.0}, {\"track_id\": 71, \"pitch_range\": 3.0}, {\"track_id\": 72, \"pitch_range\": 0.0}, {\"track_id\": 73, \"pitch_range\": 33.0}, {\"track_id\": 74, \"pitch_range\": 18.0}, {\"track_id\": 75, \"pitch_range\": 0.0}, {\"track_id\": 76, \"pitch_range\": 4.0}, {\"track_id\": 77, \"pitch_range\": 10.0}, {\"track_id\": 78, \"pitch_range\": 14.0}, {\"track_id\": 79, \"pitch_range\": 0.0}, {\"track_id\": 80, \"pitch_range\": 11.0}, {\"track_id\": 81, \"pitch_range\": 0.0}, {\"track_id\": 82, \"pitch_range\": 5.0}, {\"track_id\": 83, \"pitch_range\": 2.0}, {\"track_id\": 84, \"pitch_range\": 0.0}, {\"track_id\": 85, \"pitch_range\": 7.0}, {\"track_id\": 86, \"pitch_range\": 0.0}, {\"track_id\": 87, \"pitch_range\": 0.0}, {\"track_id\": 88, \"pitch_range\": 0.0}, {\"track_id\": 89, \"pitch_range\": 12.0}, {\"track_id\": 90, \"pitch_range\": 10.0}, {\"track_id\": 91, \"pitch_range\": 19.0}, {\"track_id\": 92, \"pitch_range\": 10.0}, {\"track_id\": 93, \"pitch_range\": 7.0}, {\"track_id\": 94, \"pitch_range\": 0.0}, {\"track_id\": 95, \"pitch_range\": 12.0}, {\"track_id\": 96, \"pitch_range\": 7.0}, {\"track_id\": 97, \"pitch_range\": 0.0}, {\"track_id\": 98, \"pitch_range\": 9.0}, {\"track_id\": 99, \"pitch_range\": 0.0}, {\"track_id\": 100, \"pitch_range\": 8.0}, {\"track_id\": 101, \"pitch_range\": 15.0}, {\"track_id\": 102, \"pitch_range\": 0.0}, {\"track_id\": 103, \"pitch_range\": 16.0}, {\"track_id\": 104, \"pitch_range\": 5.0}, {\"track_id\": 105, \"pitch_range\": 4.0}, {\"track_id\": 106, \"pitch_range\": 7.0}, {\"track_id\": 107, \"pitch_range\": 0.0}, {\"track_id\": 108, \"pitch_range\": 5.0}, {\"track_id\": 109, \"pitch_range\": 10.0}, {\"track_id\": 110, \"pitch_range\": 10.0}, {\"track_id\": 111, \"pitch_range\": 7.0}, {\"track_id\": 112, \"pitch_range\": 9.0}, {\"track_id\": 113, \"pitch_range\": 9.0}, {\"track_id\": 114, \"pitch_range\": 17.0}, {\"track_id\": 115, \"pitch_range\": 5.0}, {\"track_id\": 116, \"pitch_range\": 30.0}, {\"track_id\": 117, \"pitch_range\": 0.0}, {\"track_id\": 118, \"pitch_range\": 19.0}, {\"track_id\": 119, \"pitch_range\": 15.0}, {\"track_id\": 120, \"pitch_range\": 3.0}, {\"track_id\": 121, \"pitch_range\": 7.0}, {\"track_id\": 122, \"pitch_range\": 10.0}, {\"track_id\": 123, \"pitch_range\": 4.0}, {\"track_id\": 124, \"pitch_range\": 7.0}, {\"track_id\": 125, \"pitch_range\": 7.0}, {\"track_id\": 126, \"pitch_range\": 7.0}, {\"track_id\": 127, \"pitch_range\": 7.0}, {\"track_id\": 128, \"pitch_range\": 0.0}, {\"track_id\": 129, \"pitch_range\": 8.0}, {\"track_id\": 130, \"pitch_range\": 14.0}, {\"track_id\": 131, \"pitch_range\": 12.0}, {\"track_id\": 132, \"pitch_range\": 15.0}, {\"track_id\": 133, \"pitch_range\": 0.0}, {\"track_id\": 134, \"pitch_range\": 10.0}, {\"track_id\": 135, \"pitch_range\": 0.0}, {\"track_id\": 136, \"pitch_range\": 7.0}, {\"track_id\": 137, \"pitch_range\": 0.0}, {\"track_id\": 138, \"pitch_range\": 4.0}, {\"track_id\": 139, \"pitch_range\": 10.0}, {\"track_id\": 140, \"pitch_range\": 0.0}, {\"track_id\": 141, \"pitch_range\": 7.0}, {\"track_id\": 142, \"pitch_range\": 9.0}, {\"track_id\": 143, \"pitch_range\": 8.0}, {\"track_id\": 144, \"pitch_range\": 16.0}, {\"track_id\": 145, \"pitch_range\": 11.0}, {\"track_id\": 146, \"pitch_range\": 50.0}, {\"track_id\": 147, \"pitch_range\": 20.0}, {\"track_id\": 148, \"pitch_range\": 24.0}, {\"track_id\": 149, \"pitch_range\": 13.0}, {\"track_id\": 150, \"pitch_range\": 29.0}, {\"track_id\": 151, \"pitch_range\": 0.0}, {\"track_id\": 152, \"pitch_range\": 7.0}, {\"track_id\": 153, \"pitch_range\": 9.0}, {\"track_id\": 154, \"pitch_range\": 4.0}, {\"track_id\": 155, \"pitch_range\": 16.0}, {\"track_id\": 156, \"pitch_range\": 8.0}, {\"track_id\": 157, \"pitch_range\": 7.0}, {\"track_id\": 158, \"pitch_range\": 5.0}, {\"track_id\": 159, \"pitch_range\": 4.0}, {\"track_id\": 160, \"pitch_range\": 9.0}, {\"track_id\": 161, \"pitch_range\": 0.0}, {\"track_id\": 162, \"pitch_range\": 27.0}, {\"track_id\": 163, \"pitch_range\": 24.0}, {\"track_id\": 164, \"pitch_range\": 38.0}, {\"track_id\": 165, \"pitch_range\": 21.0}, {\"track_id\": 166, \"pitch_range\": 0.0}, {\"track_id\": 167, \"pitch_range\": 0.0}, {\"track_id\": 168, \"pitch_range\": 0.0}, {\"track_id\": 169, \"pitch_range\": 2.0}, {\"track_id\": 170, \"pitch_range\": 0.0}, {\"track_id\": 171, \"pitch_range\": 0.0}, {\"track_id\": 172, \"pitch_range\": 17.0}, {\"track_id\": 173, \"pitch_range\": 0.0}, {\"track_id\": 174, \"pitch_range\": 19.0}, {\"track_id\": 175, \"pitch_range\": 8.0}, {\"track_id\": 176, \"pitch_range\": 4.0}, {\"track_id\": 177, \"pitch_range\": 0.0}, {\"track_id\": 178, \"pitch_range\": 4.0}, {\"track_id\": 179, \"pitch_range\": 12.0}, {\"track_id\": 180, \"pitch_range\": 5.0}, {\"track_id\": 181, \"pitch_range\": 0.0}, {\"track_id\": 182, \"pitch_range\": 0.0}, {\"track_id\": 183, \"pitch_range\": 0.0}, {\"track_id\": 184, \"pitch_range\": 12.0}, {\"track_id\": 185, \"pitch_range\": 7.0}, {\"track_id\": 186, \"pitch_range\": 34.0}, {\"track_id\": 187, \"pitch_range\": 8.0}, {\"track_id\": 188, \"pitch_range\": 24.0}, {\"track_id\": 189, \"pitch_range\": 0.0}, {\"track_id\": 190, \"pitch_range\": 23.0}, {\"track_id\": 191, \"pitch_range\": 5.0}, {\"track_id\": 192, \"pitch_range\": 10.0}, {\"track_id\": 193, \"pitch_range\": 24.0}, {\"track_id\": 194, \"pitch_range\": 17.0}, {\"track_id\": 195, \"pitch_range\": 7.0}, {\"track_id\": 196, \"pitch_range\": 0.0}, {\"track_id\": 197, \"pitch_range\": 7.0}, {\"track_id\": 198, \"pitch_range\": 0.0}, {\"track_id\": 199, \"pitch_range\": 12.0}, {\"track_id\": 200, \"pitch_range\": 0.0}, {\"track_id\": 201, \"pitch_range\": 17.0}, {\"track_id\": 202, \"pitch_range\": 19.0}, {\"track_id\": 203, \"pitch_range\": 7.0}, {\"track_id\": 204, \"pitch_range\": 0.0}, {\"track_id\": 205, \"pitch_range\": 7.0}, {\"track_id\": 206, \"pitch_range\": 7.0}, {\"track_id\": 207, \"pitch_range\": 7.0}, {\"track_id\": 208, \"pitch_range\": 2.0}, {\"track_id\": 209, \"pitch_range\": 8.0}, {\"track_id\": 210, \"pitch_range\": 0.0}, {\"track_id\": 211, \"pitch_range\": 24.0}, {\"track_id\": 212, \"pitch_range\": 10.0}, {\"track_id\": 213, \"pitch_range\": 13.0}, {\"track_id\": 214, \"pitch_range\": 8.0}, {\"track_id\": 215, \"pitch_range\": 0.0}, {\"track_id\": 216, \"pitch_range\": 10.0}, {\"track_id\": 217, \"pitch_range\": 5.0}, {\"track_id\": 218, \"pitch_range\": 16.0}, {\"track_id\": 219, \"pitch_range\": 0.0}, {\"track_id\": 220, \"pitch_range\": 12.0}, {\"track_id\": 221, \"pitch_range\": 12.0}, {\"track_id\": 222, \"pitch_range\": 0.0}, {\"track_id\": 223, \"pitch_range\": 0.0}, {\"track_id\": 224, \"pitch_range\": 0.0}, {\"track_id\": 225, \"pitch_range\": 0.0}, {\"track_id\": 226, \"pitch_range\": 0.0}, {\"track_id\": 227, \"pitch_range\": 15.0}, {\"track_id\": 228, \"pitch_range\": 12.0}, {\"track_id\": 229, \"pitch_range\": 10.0}, {\"track_id\": 230, \"pitch_range\": 10.0}, {\"track_id\": 231, \"pitch_range\": 3.0}, {\"track_id\": 232, \"pitch_range\": 29.0}, {\"track_id\": 233, \"pitch_range\": 0.0}, {\"track_id\": 234, \"pitch_range\": 0.0}, {\"track_id\": 235, \"pitch_range\": 12.0}, {\"track_id\": 236, \"pitch_range\": 5.0}, {\"track_id\": 237, \"pitch_range\": 12.0}, {\"track_id\": 238, \"pitch_range\": 12.0}, {\"track_id\": 239, \"pitch_range\": 7.0}, {\"track_id\": 240, \"pitch_range\": 14.0}, {\"track_id\": 241, \"pitch_range\": 7.0}, {\"track_id\": 242, \"pitch_range\": 33.0}, {\"track_id\": 243, \"pitch_range\": 25.0}, {\"track_id\": 244, \"pitch_range\": 43.0}, {\"track_id\": 245, \"pitch_range\": 19.0}, {\"track_id\": 246, \"pitch_range\": 30.0}, {\"track_id\": 247, \"pitch_range\": 17.0}, {\"track_id\": 248, \"pitch_range\": 33.0}, {\"track_id\": 249, \"pitch_range\": 36.0}, {\"track_id\": 250, \"pitch_range\": 41.0}, {\"track_id\": 251, \"pitch_range\": 41.0}, {\"track_id\": 252, \"pitch_range\": 14.0}, {\"track_id\": 253, \"pitch_range\": 12.0}, {\"track_id\": 254, \"pitch_range\": 14.0}, {\"track_id\": 255, \"pitch_range\": 5.0}, {\"track_id\": 256, \"pitch_range\": 0.0}, {\"track_id\": 257, \"pitch_range\": 19.0}, {\"track_id\": 258, \"pitch_range\": 17.0}, {\"track_id\": 259, \"pitch_range\": 16.0}, {\"track_id\": 260, \"pitch_range\": 17.0}, {\"track_id\": 261, \"pitch_range\": 0.0}, {\"track_id\": 262, \"pitch_range\": 12.0}, {\"track_id\": 263, \"pitch_range\": 5.0}, {\"track_id\": 264, \"pitch_range\": 0.0}, {\"track_id\": 265, \"pitch_range\": 0.0}, {\"track_id\": 266, \"pitch_range\": 9.0}, {\"track_id\": 267, \"pitch_range\": 7.0}, {\"track_id\": 268, \"pitch_range\": 31.0}, {\"track_id\": 269, \"pitch_range\": 0.0}, {\"track_id\": 270, \"pitch_range\": 9.0}, {\"track_id\": 271, \"pitch_range\": 10.0}, {\"track_id\": 272, \"pitch_range\": 10.0}, {\"track_id\": 273, \"pitch_range\": 19.0}, {\"track_id\": 274, \"pitch_range\": 0.0}, {\"track_id\": 275, \"pitch_range\": 13.0}, {\"track_id\": 276, \"pitch_range\": 12.0}, {\"track_id\": 277, \"pitch_range\": 0.0}, {\"track_id\": 278, \"pitch_range\": 4.0}, {\"track_id\": 279, \"pitch_range\": 15.0}, {\"track_id\": 280, \"pitch_range\": 0.0}, {\"track_id\": 281, \"pitch_range\": 9.0}, {\"track_id\": 282, \"pitch_range\": 0.0}, {\"track_id\": 283, \"pitch_range\": 8.0}, {\"track_id\": 284, \"pitch_range\": 12.0}, {\"track_id\": 285, \"pitch_range\": 9.0}, {\"track_id\": 286, \"pitch_range\": 12.0}, {\"track_id\": 287, \"pitch_range\": 0.0}, {\"track_id\": 288, \"pitch_range\": 2.0}, {\"track_id\": 289, \"pitch_range\": 2.0}, {\"track_id\": 290, \"pitch_range\": 7.0}, {\"track_id\": 291, \"pitch_range\": 17.0}, {\"track_id\": 292, \"pitch_range\": 7.0}, {\"track_id\": 293, \"pitch_range\": 8.0}, {\"track_id\": 294, \"pitch_range\": 5.0}, {\"track_id\": 295, \"pitch_range\": 10.0}, {\"track_id\": 296, \"pitch_range\": 0.0}, {\"track_id\": 297, \"pitch_range\": 10.0}, {\"track_id\": 298, \"pitch_range\": 12.0}, {\"track_id\": 299, \"pitch_range\": 7.0}, {\"track_id\": 300, \"pitch_range\": 2.0}, {\"track_id\": 301, \"pitch_range\": 6.0}, {\"track_id\": 302, \"pitch_range\": 0.0}, {\"track_id\": 303, \"pitch_range\": 7.0}, {\"track_id\": 304, \"pitch_range\": 0.0}, {\"track_id\": 305, \"pitch_range\": 24.0}, {\"track_id\": 306, \"pitch_range\": 3.0}, {\"track_id\": 307, \"pitch_range\": 4.0}, {\"track_id\": 308, \"pitch_range\": 7.0}, {\"track_id\": 309, \"pitch_range\": 7.0}, {\"track_id\": 310, \"pitch_range\": 12.0}, {\"track_id\": 311, \"pitch_range\": 12.0}, {\"track_id\": 312, \"pitch_range\": 11.0}, {\"track_id\": 313, \"pitch_range\": 12.0}, {\"track_id\": 314, \"pitch_range\": 14.0}, {\"track_id\": 315, \"pitch_range\": 7.0}, {\"track_id\": 316, \"pitch_range\": 20.0}, {\"track_id\": 317, \"pitch_range\": 17.0}, {\"track_id\": 318, \"pitch_range\": 12.0}, {\"track_id\": 319, \"pitch_range\": 0.0}, {\"track_id\": 320, \"pitch_range\": 7.0}, {\"track_id\": 321, \"pitch_range\": 0.0}, {\"track_id\": 322, \"pitch_range\": 12.0}, {\"track_id\": 323, \"pitch_range\": 29.0}, {\"track_id\": 324, \"pitch_range\": 4.0}, {\"track_id\": 325, \"pitch_range\": 7.0}, {\"track_id\": 326, \"pitch_range\": 10.0}, {\"track_id\": 327, \"pitch_range\": 12.0}, {\"track_id\": 328, \"pitch_range\": 0.0}, {\"track_id\": 329, \"pitch_range\": 7.0}, {\"track_id\": 330, \"pitch_range\": 0.0}, {\"track_id\": 331, \"pitch_range\": 11.0}, {\"track_id\": 332, \"pitch_range\": 0.0}, {\"track_id\": 333, \"pitch_range\": 7.0}, {\"track_id\": 334, \"pitch_range\": 0.0}, {\"track_id\": 335, \"pitch_range\": 0.0}, {\"track_id\": 336, \"pitch_range\": 15.0}, {\"track_id\": 337, \"pitch_range\": 10.0}, {\"track_id\": 338, \"pitch_range\": 14.0}, {\"track_id\": 339, \"pitch_range\": 12.0}, {\"track_id\": 340, \"pitch_range\": 3.0}, {\"track_id\": 341, \"pitch_range\": 0.0}, {\"track_id\": 342, \"pitch_range\": 9.0}, {\"track_id\": 343, \"pitch_range\": 15.0}, {\"track_id\": 344, \"pitch_range\": 0.0}, {\"track_id\": 345, \"pitch_range\": 0.0}, {\"track_id\": 346, \"pitch_range\": 24.0}, {\"track_id\": 347, \"pitch_range\": 10.0}, {\"track_id\": 348, \"pitch_range\": 4.0}, {\"track_id\": 349, \"pitch_range\": 10.0}, {\"track_id\": 350, \"pitch_range\": 28.0}, {\"track_id\": 351, \"pitch_range\": 5.0}, {\"track_id\": 352, \"pitch_range\": 12.0}, {\"track_id\": 353, \"pitch_range\": 12.0}, {\"track_id\": 354, \"pitch_range\": 9.0}, {\"track_id\": 355, \"pitch_range\": 9.0}, {\"track_id\": 356, \"pitch_range\": 12.0}, {\"track_id\": 357, \"pitch_range\": 14.0}, {\"track_id\": 358, \"pitch_range\": 17.0}, {\"track_id\": 359, \"pitch_range\": 8.0}, {\"track_id\": 360, \"pitch_range\": 7.0}, {\"track_id\": 361, \"pitch_range\": 16.0}, {\"track_id\": 362, \"pitch_range\": 9.0}, {\"track_id\": 363, \"pitch_range\": 12.0}, {\"track_id\": 364, \"pitch_range\": 16.0}, {\"track_id\": 365, \"pitch_range\": 5.0}, {\"track_id\": 366, \"pitch_range\": 7.0}, {\"track_id\": 367, \"pitch_range\": 8.0}, {\"track_id\": 368, \"pitch_range\": 0.0}, {\"track_id\": 369, \"pitch_range\": 5.0}, {\"track_id\": 370, \"pitch_range\": 0.0}, {\"track_id\": 371, \"pitch_range\": 3.0}, {\"track_id\": 372, \"pitch_range\": 11.0}, {\"track_id\": 373, \"pitch_range\": 7.0}, {\"track_id\": 374, \"pitch_range\": 9.0}, {\"track_id\": 375, \"pitch_range\": 16.0}, {\"track_id\": 376, \"pitch_range\": 24.0}, {\"track_id\": 377, \"pitch_range\": 0.0}, {\"track_id\": 378, \"pitch_range\": 19.0}, {\"track_id\": 379, \"pitch_range\": 28.0}, {\"track_id\": 380, \"pitch_range\": 12.0}, {\"track_id\": 381, \"pitch_range\": 28.0}, {\"track_id\": 382, \"pitch_range\": 18.0}, {\"track_id\": 383, \"pitch_range\": 0.0}, {\"track_id\": 384, \"pitch_range\": 6.0}, {\"track_id\": 385, \"pitch_range\": 0.0}, {\"track_id\": 386, \"pitch_range\": 0.0}, {\"track_id\": 387, \"pitch_range\": 0.0}, {\"track_id\": 388, \"pitch_range\": 12.0}, {\"track_id\": 389, \"pitch_range\": 0.0}, {\"track_id\": 390, \"pitch_range\": 8.0}, {\"track_id\": 391, \"pitch_range\": 10.0}, {\"track_id\": 392, \"pitch_range\": 26.0}, {\"track_id\": 393, \"pitch_range\": 17.0}, {\"track_id\": 394, \"pitch_range\": 14.0}, {\"track_id\": 395, \"pitch_range\": 12.0}, {\"track_id\": 396, \"pitch_range\": 5.0}, {\"track_id\": 397, \"pitch_range\": 10.0}, {\"track_id\": 398, \"pitch_range\": 0.0}, {\"track_id\": 399, \"pitch_range\": 9.0}, {\"track_id\": 400, \"pitch_range\": 16.0}, {\"track_id\": 401, \"pitch_range\": 0.0}, {\"track_id\": 402, \"pitch_range\": 3.0}, {\"track_id\": 403, \"pitch_range\": 0.0}, {\"track_id\": 404, \"pitch_range\": 14.0}, {\"track_id\": 405, \"pitch_range\": 1.0}, {\"track_id\": 406, \"pitch_range\": 7.0}, {\"track_id\": 407, \"pitch_range\": 0.0}, {\"track_id\": 408, \"pitch_range\": 5.0}, {\"track_id\": 409, \"pitch_range\": 19.0}, {\"track_id\": 410, \"pitch_range\": 2.0}, {\"track_id\": 411, \"pitch_range\": 4.0}, {\"track_id\": 412, \"pitch_range\": 3.0}, {\"track_id\": 413, \"pitch_range\": 22.0}, {\"track_id\": 414, \"pitch_range\": 10.0}, {\"track_id\": 415, \"pitch_range\": 0.0}, {\"track_id\": 416, \"pitch_range\": 4.0}, {\"track_id\": 417, \"pitch_range\": 0.0}, {\"track_id\": 418, \"pitch_range\": 0.0}, {\"track_id\": 419, \"pitch_range\": 7.0}, {\"track_id\": 420, \"pitch_range\": 9.0}, {\"track_id\": 421, \"pitch_range\": 9.0}, {\"track_id\": 422, \"pitch_range\": 7.0}, {\"track_id\": 423, \"pitch_range\": 19.0}, {\"track_id\": 424, \"pitch_range\": 4.0}, {\"track_id\": 425, \"pitch_range\": 0.0}, {\"track_id\": 426, \"pitch_range\": 12.0}, {\"track_id\": 427, \"pitch_range\": 7.0}, {\"track_id\": 428, \"pitch_range\": 9.0}, {\"track_id\": 429, \"pitch_range\": 7.0}, {\"track_id\": 430, \"pitch_range\": 0.0}, {\"track_id\": 431, \"pitch_range\": 0.0}, {\"track_id\": 432, \"pitch_range\": 16.0}, {\"track_id\": 433, \"pitch_range\": 7.0}, {\"track_id\": 434, \"pitch_range\": 0.0}, {\"track_id\": 435, \"pitch_range\": 0.0}, {\"track_id\": 436, \"pitch_range\": 0.0}, {\"track_id\": 437, \"pitch_range\": 14.0}, {\"track_id\": 438, \"pitch_range\": 19.0}, {\"track_id\": 439, \"pitch_range\": 2.0}, {\"track_id\": 440, \"pitch_range\": 7.0}, {\"track_id\": 441, \"pitch_range\": 8.0}, {\"track_id\": 442, \"pitch_range\": 5.0}, {\"track_id\": 443, \"pitch_range\": 0.0}, {\"track_id\": 444, \"pitch_range\": 7.0}, {\"track_id\": 445, \"pitch_range\": 12.0}, {\"track_id\": 446, \"pitch_range\": 19.0}, {\"track_id\": 447, \"pitch_range\": 8.0}, {\"track_id\": 448, \"pitch_range\": 0.0}, {\"track_id\": 449, \"pitch_range\": 4.0}, {\"track_id\": 450, \"pitch_range\": 9.0}, {\"track_id\": 451, \"pitch_range\": 17.0}, {\"track_id\": 452, \"pitch_range\": 14.0}, {\"track_id\": 453, \"pitch_range\": 9.0}, {\"track_id\": 454, \"pitch_range\": 14.0}, {\"track_id\": 455, \"pitch_range\": 0.0}, {\"track_id\": 456, \"pitch_range\": 17.0}, {\"track_id\": 457, \"pitch_range\": 2.0}, {\"track_id\": 458, \"pitch_range\": 13.0}, {\"track_id\": 459, \"pitch_range\": 20.0}, {\"track_id\": 460, \"pitch_range\": 3.0}, {\"track_id\": 461, \"pitch_range\": 14.0}, {\"track_id\": 462, \"pitch_range\": 9.0}, {\"track_id\": 463, \"pitch_range\": 8.0}, {\"track_id\": 464, \"pitch_range\": 4.0}, {\"track_id\": 465, \"pitch_range\": 0.0}, {\"track_id\": 466, \"pitch_range\": 0.0}, {\"track_id\": 467, \"pitch_range\": 19.0}, {\"track_id\": 468, \"pitch_range\": 7.0}, {\"track_id\": 469, \"pitch_range\": 0.0}, {\"track_id\": 470, \"pitch_range\": 12.0}, {\"track_id\": 471, \"pitch_range\": 11.0}, {\"track_id\": 472, \"pitch_range\": 15.0}, {\"track_id\": 473, \"pitch_range\": 8.0}, {\"track_id\": 474, \"pitch_range\": 12.0}, {\"track_id\": 475, \"pitch_range\": 0.0}, {\"track_id\": 476, \"pitch_range\": 19.0}, {\"track_id\": 477, \"pitch_range\": 5.0}, {\"track_id\": 478, \"pitch_range\": 0.0}, {\"track_id\": 479, \"pitch_range\": 7.0}, {\"track_id\": 480, \"pitch_range\": 5.0}, {\"track_id\": 481, \"pitch_range\": 0.0}, {\"track_id\": 482, \"pitch_range\": 0.0}, {\"track_id\": 483, \"pitch_range\": 3.0}, {\"track_id\": 484, \"pitch_range\": 7.0}, {\"track_id\": 485, \"pitch_range\": 5.0}, {\"track_id\": 486, \"pitch_range\": 4.0}, {\"track_id\": 487, \"pitch_range\": 15.0}, {\"track_id\": 488, \"pitch_range\": 8.0}, {\"track_id\": 489, \"pitch_range\": 0.0}, {\"track_id\": 490, \"pitch_range\": 12.0}, {\"track_id\": 491, \"pitch_range\": 17.0}, {\"track_id\": 492, \"pitch_range\": 7.0}, {\"track_id\": 493, \"pitch_range\": 0.0}, {\"track_id\": 494, \"pitch_range\": 0.0}, {\"track_id\": 495, \"pitch_range\": 7.0}, {\"track_id\": 496, \"pitch_range\": 0.0}, {\"track_id\": 497, \"pitch_range\": 0.0}, {\"track_id\": 498, \"pitch_range\": 0.0}, {\"track_id\": 499, \"pitch_range\": 7.0}, {\"track_id\": 500, \"pitch_range\": 17.0}, {\"track_id\": 501, \"pitch_range\": 5.0}, {\"track_id\": 502, \"pitch_range\": 3.0}, {\"track_id\": 503, \"pitch_range\": 29.0}, {\"track_id\": 504, \"pitch_range\": 7.0}, {\"track_id\": 505, \"pitch_range\": 12.0}, {\"track_id\": 506, \"pitch_range\": 17.0}, {\"track_id\": 507, \"pitch_range\": 12.0}, {\"track_id\": 508, \"pitch_range\": 7.0}, {\"track_id\": 509, \"pitch_range\": 10.0}, {\"track_id\": 510, \"pitch_range\": 8.0}, {\"track_id\": 511, \"pitch_range\": 28.0}, {\"track_id\": 512, \"pitch_range\": 8.0}, {\"track_id\": 513, \"pitch_range\": 0.0}, {\"track_id\": 514, \"pitch_range\": 17.0}, {\"track_id\": 515, \"pitch_range\": 7.0}, {\"track_id\": 516, \"pitch_range\": 10.0}, {\"track_id\": 517, \"pitch_range\": 4.0}, {\"track_id\": 518, \"pitch_range\": 0.0}, {\"track_id\": 519, \"pitch_range\": 15.0}, {\"track_id\": 520, \"pitch_range\": 11.0}, {\"track_id\": 521, \"pitch_range\": 0.0}, {\"track_id\": 522, \"pitch_range\": 5.0}, {\"track_id\": 523, \"pitch_range\": 29.0}, {\"track_id\": 524, \"pitch_range\": 12.0}, {\"track_id\": 525, \"pitch_range\": 9.0}, {\"track_id\": 526, \"pitch_range\": 17.0}, {\"track_id\": 527, \"pitch_range\": 2.0}, {\"track_id\": 528, \"pitch_range\": 9.0}, {\"track_id\": 529, \"pitch_range\": 8.0}, {\"track_id\": 530, \"pitch_range\": 0.0}, {\"track_id\": 531, \"pitch_range\": 0.0}, {\"track_id\": 532, \"pitch_range\": 0.0}, {\"track_id\": 533, \"pitch_range\": 0.0}, {\"track_id\": 534, \"pitch_range\": 0.0}, {\"track_id\": 535, \"pitch_range\": 7.0}, {\"track_id\": 536, \"pitch_range\": 5.0}, {\"track_id\": 537, \"pitch_range\": 8.0}, {\"track_id\": 538, \"pitch_range\": 0.0}, {\"track_id\": 539, \"pitch_range\": 9.0}, {\"track_id\": 540, \"pitch_range\": 10.0}, {\"track_id\": 541, \"pitch_range\": 0.0}, {\"track_id\": 542, \"pitch_range\": 5.0}, {\"track_id\": 543, \"pitch_range\": 8.0}, {\"track_id\": 544, \"pitch_range\": 7.0}, {\"track_id\": 545, \"pitch_range\": 36.0}, {\"track_id\": 546, \"pitch_range\": 8.0}, {\"track_id\": 547, \"pitch_range\": 7.0}, {\"track_id\": 548, \"pitch_range\": 18.0}, {\"track_id\": 549, \"pitch_range\": 4.0}, {\"track_id\": 550, \"pitch_range\": 0.0}, {\"track_id\": 551, \"pitch_range\": 15.0}, {\"track_id\": 552, \"pitch_range\": 7.0}, {\"track_id\": 553, \"pitch_range\": 8.0}, {\"track_id\": 554, \"pitch_range\": 0.0}, {\"track_id\": 555, \"pitch_range\": 20.0}, {\"track_id\": 556, \"pitch_range\": 31.0}, {\"track_id\": 557, \"pitch_range\": 6.0}, {\"track_id\": 558, \"pitch_range\": 1.0}, {\"track_id\": 559, \"pitch_range\": 10.0}, {\"track_id\": 560, \"pitch_range\": 12.0}, {\"track_id\": 561, \"pitch_range\": 19.0}, {\"track_id\": 562, \"pitch_range\": 0.0}, {\"track_id\": 563, \"pitch_range\": 40.0}, {\"track_id\": 564, \"pitch_range\": 17.0}, {\"track_id\": 565, \"pitch_range\": 0.0}, {\"track_id\": 566, \"pitch_range\": 12.0}, {\"track_id\": 567, \"pitch_range\": 17.0}, {\"track_id\": 568, \"pitch_range\": 24.0}, {\"track_id\": 569, \"pitch_range\": 5.0}, {\"track_id\": 570, \"pitch_range\": 0.0}, {\"track_id\": 571, \"pitch_range\": 9.0}, {\"track_id\": 572, \"pitch_range\": 0.0}, {\"track_id\": 573, \"pitch_range\": 5.0}, {\"track_id\": 574, \"pitch_range\": 10.0}, {\"track_id\": 575, \"pitch_range\": 2.0}, {\"track_id\": 576, \"pitch_range\": 0.0}, {\"track_id\": 577, \"pitch_range\": 10.0}, {\"track_id\": 578, \"pitch_range\": 7.0}, {\"track_id\": 579, \"pitch_range\": 16.0}, {\"track_id\": 580, \"pitch_range\": 38.0}, {\"track_id\": 581, \"pitch_range\": 12.0}, {\"track_id\": 582, \"pitch_range\": 7.0}, {\"track_id\": 583, \"pitch_range\": 24.0}, {\"track_id\": 584, \"pitch_range\": 7.0}, {\"track_id\": 585, \"pitch_range\": 0.0}, {\"track_id\": 586, \"pitch_range\": 0.0}, {\"track_id\": 587, \"pitch_range\": 21.0}, {\"track_id\": 588, \"pitch_range\": 10.0}, {\"track_id\": 589, \"pitch_range\": 10.0}, {\"track_id\": 590, \"pitch_range\": 7.0}, {\"track_id\": 591, \"pitch_range\": 14.0}, {\"track_id\": 592, \"pitch_range\": 10.0}, {\"track_id\": 593, \"pitch_range\": 5.0}, {\"track_id\": 594, \"pitch_range\": 7.0}, {\"track_id\": 595, \"pitch_range\": 7.0}, {\"track_id\": 596, \"pitch_range\": 2.0}, {\"track_id\": 597, \"pitch_range\": 1.0}, {\"track_id\": 598, \"pitch_range\": 7.0}, {\"track_id\": 599, \"pitch_range\": 12.0}, {\"track_id\": 600, \"pitch_range\": 19.0}, {\"track_id\": 601, \"pitch_range\": 21.0}, {\"track_id\": 602, \"pitch_range\": 7.0}, {\"track_id\": 603, \"pitch_range\": 9.0}, {\"track_id\": 604, \"pitch_range\": 0.0}, {\"track_id\": 605, \"pitch_range\": 17.0}, {\"track_id\": 606, \"pitch_range\": 0.0}, {\"track_id\": 607, \"pitch_range\": 7.0}, {\"track_id\": 608, \"pitch_range\": 8.0}, {\"track_id\": 609, \"pitch_range\": 15.0}, {\"track_id\": 610, \"pitch_range\": 8.0}, {\"track_id\": 611, \"pitch_range\": 21.0}, {\"track_id\": 612, \"pitch_range\": 3.0}, {\"track_id\": 613, \"pitch_range\": 7.0}, {\"track_id\": 614, \"pitch_range\": 7.0}, {\"track_id\": 615, \"pitch_range\": 7.0}, {\"track_id\": 616, \"pitch_range\": 27.0}, {\"track_id\": 617, \"pitch_range\": 24.0}, {\"track_id\": 618, \"pitch_range\": 0.0}, {\"track_id\": 619, \"pitch_range\": 7.0}, {\"track_id\": 620, \"pitch_range\": 16.0}, {\"track_id\": 621, \"pitch_range\": 7.0}, {\"track_id\": 622, \"pitch_range\": 15.0}, {\"track_id\": 623, \"pitch_range\": 29.0}, {\"track_id\": 624, \"pitch_range\": 8.0}, {\"track_id\": 625, \"pitch_range\": 9.0}, {\"track_id\": 626, \"pitch_range\": 5.0}, {\"track_id\": 627, \"pitch_range\": 12.0}, {\"track_id\": 628, \"pitch_range\": 0.0}, {\"track_id\": 629, \"pitch_range\": 6.0}, {\"track_id\": 630, \"pitch_range\": 1.0}, {\"track_id\": 631, \"pitch_range\": 1.0}, {\"track_id\": 632, \"pitch_range\": 19.0}, {\"track_id\": 633, \"pitch_range\": 9.0}, {\"track_id\": 634, \"pitch_range\": 38.0}, {\"track_id\": 635, \"pitch_range\": 15.0}, {\"track_id\": 636, \"pitch_range\": 15.0}, {\"track_id\": 637, \"pitch_range\": 10.0}, {\"track_id\": 638, \"pitch_range\": 3.0}, {\"track_id\": 639, \"pitch_range\": 0.0}, {\"track_id\": 640, \"pitch_range\": 12.0}, {\"track_id\": 641, \"pitch_range\": 10.0}, {\"track_id\": 642, \"pitch_range\": 0.0}, {\"track_id\": 643, \"pitch_range\": 4.0}, {\"track_id\": 644, \"pitch_range\": 10.0}, {\"track_id\": 645, \"pitch_range\": 9.0}, {\"track_id\": 646, \"pitch_range\": 5.0}, {\"track_id\": 647, \"pitch_range\": 12.0}, {\"track_id\": 648, \"pitch_range\": 12.0}, {\"track_id\": 649, \"pitch_range\": 9.0}, {\"track_id\": 650, \"pitch_range\": 10.0}, {\"track_id\": 651, \"pitch_range\": 5.0}, {\"track_id\": 652, \"pitch_range\": 5.0}, {\"track_id\": 653, \"pitch_range\": 17.0}, {\"track_id\": 654, \"pitch_range\": 7.0}, {\"track_id\": 655, \"pitch_range\": 5.0}, {\"track_id\": 656, \"pitch_range\": 0.0}, {\"track_id\": 657, \"pitch_range\": 7.0}, {\"track_id\": 658, \"pitch_range\": 7.0}, {\"track_id\": 659, \"pitch_range\": 10.0}, {\"track_id\": 660, \"pitch_range\": 43.0}, {\"track_id\": 661, \"pitch_range\": 13.0}, {\"track_id\": 662, \"pitch_range\": 7.0}, {\"track_id\": 663, \"pitch_range\": 17.0}, {\"track_id\": 664, \"pitch_range\": 8.0}, {\"track_id\": 665, \"pitch_range\": 9.0}, {\"track_id\": 666, \"pitch_range\": 0.0}, {\"track_id\": 667, \"pitch_range\": 0.0}, {\"track_id\": 668, \"pitch_range\": 27.0}, {\"track_id\": 669, \"pitch_range\": 12.0}, {\"track_id\": 670, \"pitch_range\": 0.0}, {\"track_id\": 671, \"pitch_range\": 0.0}, {\"track_id\": 672, \"pitch_range\": 3.0}, {\"track_id\": 673, \"pitch_range\": 5.0}, {\"track_id\": 674, \"pitch_range\": 7.0}, {\"track_id\": 675, \"pitch_range\": 2.0}, {\"track_id\": 676, \"pitch_range\": 5.0}, {\"track_id\": 677, \"pitch_range\": 0.0}, {\"track_id\": 678, \"pitch_range\": 5.0}, {\"track_id\": 679, \"pitch_range\": 14.0}, {\"track_id\": 680, \"pitch_range\": 21.0}, {\"track_id\": 681, \"pitch_range\": 9.0}, {\"track_id\": 682, \"pitch_range\": 7.0}, {\"track_id\": 683, \"pitch_range\": 7.0}, {\"track_id\": 684, \"pitch_range\": 8.0}, {\"track_id\": 685, \"pitch_range\": 0.0}, {\"track_id\": 686, \"pitch_range\": 12.0}, {\"track_id\": 687, \"pitch_range\": 7.0}, {\"track_id\": 688, \"pitch_range\": 5.0}, {\"track_id\": 689, \"pitch_range\": 0.0}, {\"track_id\": 690, \"pitch_range\": 0.0}, {\"track_id\": 691, \"pitch_range\": 19.0}, {\"track_id\": 692, \"pitch_range\": 7.0}, {\"track_id\": 693, \"pitch_range\": 0.0}, {\"track_id\": 694, \"pitch_range\": 7.0}, {\"track_id\": 695, \"pitch_range\": 17.0}, {\"track_id\": 696, \"pitch_range\": 3.0}, {\"track_id\": 697, \"pitch_range\": 7.0}, {\"track_id\": 698, \"pitch_range\": 7.0}, {\"track_id\": 699, \"pitch_range\": 7.0}, {\"track_id\": 700, \"pitch_range\": 21.0}, {\"track_id\": 701, \"pitch_range\": 13.0}, {\"track_id\": 702, \"pitch_range\": 36.0}, {\"track_id\": 703, \"pitch_range\": 31.0}, {\"track_id\": 704, \"pitch_range\": 32.0}, {\"track_id\": 705, \"pitch_range\": 52.0}, {\"track_id\": 706, \"pitch_range\": 33.0}, {\"track_id\": 707, \"pitch_range\": 23.0}, {\"track_id\": 708, \"pitch_range\": 19.0}, {\"track_id\": 709, \"pitch_range\": 38.0}, {\"track_id\": 710, \"pitch_range\": 33.0}, {\"track_id\": 711, \"pitch_range\": 39.0}, {\"track_id\": 712, \"pitch_range\": 24.0}, {\"track_id\": 713, \"pitch_range\": 23.0}, {\"track_id\": 714, \"pitch_range\": 35.0}, {\"track_id\": 715, \"pitch_range\": 4.0}, {\"track_id\": 716, \"pitch_range\": 17.0}, {\"track_id\": 717, \"pitch_range\": 62.0}, {\"track_id\": 718, \"pitch_range\": 13.0}, {\"track_id\": 719, \"pitch_range\": 23.0}, {\"track_id\": 720, \"pitch_range\": 9.0}, {\"track_id\": 721, \"pitch_range\": 0.0}, {\"track_id\": 722, \"pitch_range\": 12.0}, {\"track_id\": 723, \"pitch_range\": 19.0}, {\"track_id\": 724, \"pitch_range\": 7.0}, {\"track_id\": 725, \"pitch_range\": 5.0}, {\"track_id\": 726, \"pitch_range\": 0.0}, {\"track_id\": 727, \"pitch_range\": 7.0}, {\"track_id\": 728, \"pitch_range\": 5.0}, {\"track_id\": 729, \"pitch_range\": 0.0}, {\"track_id\": 730, \"pitch_range\": 9.0}, {\"track_id\": 731, \"pitch_range\": 7.0}, {\"track_id\": 732, \"pitch_range\": 14.0}, {\"track_id\": 733, \"pitch_range\": 7.0}, {\"track_id\": 734, \"pitch_range\": 0.0}, {\"track_id\": 735, \"pitch_range\": 4.0}, {\"track_id\": 736, \"pitch_range\": 7.0}, {\"track_id\": 737, \"pitch_range\": 0.0}, {\"track_id\": 738, \"pitch_range\": 0.0}, {\"track_id\": 739, \"pitch_range\": 34.0}, {\"track_id\": 740, \"pitch_range\": 7.0}, {\"track_id\": 741, \"pitch_range\": 24.0}, {\"track_id\": 742, \"pitch_range\": 3.0}, {\"track_id\": 743, \"pitch_range\": 7.0}, {\"track_id\": 744, \"pitch_range\": 7.0}, {\"track_id\": 745, \"pitch_range\": 7.0}, {\"track_id\": 746, \"pitch_range\": 9.0}, {\"track_id\": 747, \"pitch_range\": 7.0}, {\"track_id\": 748, \"pitch_range\": 13.0}, {\"track_id\": 749, \"pitch_range\": 7.0}, {\"track_id\": 750, \"pitch_range\": 7.0}, {\"track_id\": 751, \"pitch_range\": 7.0}, {\"track_id\": 752, \"pitch_range\": 3.0}, {\"track_id\": 753, \"pitch_range\": 21.0}, {\"track_id\": 754, \"pitch_range\": 9.0}, {\"track_id\": 755, \"pitch_range\": 3.0}, {\"track_id\": 756, \"pitch_range\": 0.0}, {\"track_id\": 757, \"pitch_range\": 7.0}, {\"track_id\": 758, \"pitch_range\": 12.0}, {\"track_id\": 759, \"pitch_range\": 31.0}, {\"track_id\": 760, \"pitch_range\": 0.0}, {\"track_id\": 761, \"pitch_range\": 9.0}, {\"track_id\": 762, \"pitch_range\": 0.0}, {\"track_id\": 763, \"pitch_range\": 7.0}, {\"track_id\": 764, \"pitch_range\": 20.0}, {\"track_id\": 765, \"pitch_range\": 5.0}, {\"track_id\": 766, \"pitch_range\": 0.0}, {\"track_id\": 767, \"pitch_range\": 16.0}, {\"track_id\": 768, \"pitch_range\": 9.0}, {\"track_id\": 769, \"pitch_range\": 0.0}, {\"track_id\": 770, \"pitch_range\": 7.0}, {\"track_id\": 771, \"pitch_range\": 0.0}, {\"track_id\": 772, \"pitch_range\": 12.0}, {\"track_id\": 773, \"pitch_range\": 9.0}, {\"track_id\": 774, \"pitch_range\": 7.0}, {\"track_id\": 775, \"pitch_range\": 0.0}, {\"track_id\": 776, \"pitch_range\": 0.0}, {\"track_id\": 777, \"pitch_range\": 7.0}, {\"track_id\": 778, \"pitch_range\": 29.0}, {\"track_id\": 779, \"pitch_range\": 17.0}, {\"track_id\": 780, \"pitch_range\": 17.0}, {\"track_id\": 781, \"pitch_range\": 7.0}, {\"track_id\": 782, \"pitch_range\": 10.0}, {\"track_id\": 783, \"pitch_range\": 7.0}, {\"track_id\": 784, \"pitch_range\": 0.0}, {\"track_id\": 785, \"pitch_range\": 9.0}, {\"track_id\": 786, \"pitch_range\": 15.0}, {\"track_id\": 787, \"pitch_range\": 4.0}, {\"track_id\": 788, \"pitch_range\": 0.0}, {\"track_id\": 789, \"pitch_range\": 7.0}, {\"track_id\": 790, \"pitch_range\": 19.0}, {\"track_id\": 791, \"pitch_range\": 0.0}, {\"track_id\": 792, \"pitch_range\": 43.0}, {\"track_id\": 793, \"pitch_range\": 10.0}, {\"track_id\": 794, \"pitch_range\": 0.0}, {\"track_id\": 795, \"pitch_range\": 0.0}, {\"track_id\": 796, \"pitch_range\": 7.0}, {\"track_id\": 797, \"pitch_range\": 2.0}, {\"track_id\": 798, \"pitch_range\": 7.0}, {\"track_id\": 799, \"pitch_range\": 0.0}, {\"track_id\": 800, \"pitch_range\": 4.0}, {\"track_id\": 801, \"pitch_range\": 20.0}, {\"track_id\": 802, \"pitch_range\": 10.0}, {\"track_id\": 803, \"pitch_range\": 30.0}, {\"track_id\": 804, \"pitch_range\": 36.0}, {\"track_id\": 805, \"pitch_range\": 14.0}, {\"track_id\": 806, \"pitch_range\": 12.0}, {\"track_id\": 807, \"pitch_range\": 0.0}, {\"track_id\": 808, \"pitch_range\": 0.0}, {\"track_id\": 809, \"pitch_range\": 0.0}, {\"track_id\": 810, \"pitch_range\": 7.0}, {\"track_id\": 811, \"pitch_range\": 15.0}, {\"track_id\": 812, \"pitch_range\": 7.0}, {\"track_id\": 813, \"pitch_range\": 7.0}, {\"track_id\": 814, \"pitch_range\": 3.0}, {\"track_id\": 815, \"pitch_range\": 17.0}, {\"track_id\": 816, \"pitch_range\": 9.0}, {\"track_id\": 817, \"pitch_range\": 0.0}, {\"track_id\": 818, \"pitch_range\": 0.0}, {\"track_id\": 819, \"pitch_range\": 12.0}, {\"track_id\": 820, \"pitch_range\": 22.0}, {\"track_id\": 821, \"pitch_range\": 10.0}, {\"track_id\": 822, \"pitch_range\": 0.0}, {\"track_id\": 823, \"pitch_range\": 10.0}, {\"track_id\": 824, \"pitch_range\": 8.0}, {\"track_id\": 825, \"pitch_range\": 0.0}, {\"track_id\": 826, \"pitch_range\": 0.0}, {\"track_id\": 827, \"pitch_range\": 0.0}, {\"track_id\": 828, \"pitch_range\": 5.0}, {\"track_id\": 829, \"pitch_range\": 0.0}, {\"track_id\": 830, \"pitch_range\": 0.0}, {\"track_id\": 831, \"pitch_range\": 7.0}, {\"track_id\": 832, \"pitch_range\": 5.0}, {\"track_id\": 833, \"pitch_range\": 9.0}, {\"track_id\": 834, \"pitch_range\": 12.0}, {\"track_id\": 835, \"pitch_range\": 0.0}, {\"track_id\": 836, \"pitch_range\": 0.0}, {\"track_id\": 837, \"pitch_range\": 6.0}, {\"track_id\": 838, \"pitch_range\": 14.0}, {\"track_id\": 839, \"pitch_range\": 7.0}, {\"track_id\": 840, \"pitch_range\": 7.0}, {\"track_id\": 841, \"pitch_range\": 38.0}, {\"track_id\": 842, \"pitch_range\": 0.0}, {\"track_id\": 843, \"pitch_range\": 7.0}, {\"track_id\": 844, \"pitch_range\": 17.0}, {\"track_id\": 845, \"pitch_range\": 14.0}, {\"track_id\": 846, \"pitch_range\": 4.0}, {\"track_id\": 847, \"pitch_range\": 8.0}, {\"track_id\": 848, \"pitch_range\": 2.0}, {\"track_id\": 849, \"pitch_range\": 10.0}, {\"track_id\": 850, \"pitch_range\": 20.0}, {\"track_id\": 851, \"pitch_range\": 14.0}, {\"track_id\": 852, \"pitch_range\": 0.0}, {\"track_id\": 853, \"pitch_range\": 7.0}, {\"track_id\": 854, \"pitch_range\": 7.0}, {\"track_id\": 855, \"pitch_range\": 0.0}, {\"track_id\": 856, \"pitch_range\": 14.0}, {\"track_id\": 857, \"pitch_range\": 10.0}, {\"track_id\": 858, \"pitch_range\": 5.0}, {\"track_id\": 859, \"pitch_range\": 7.0}, {\"track_id\": 860, \"pitch_range\": 0.0}, {\"track_id\": 861, \"pitch_range\": 10.0}, {\"track_id\": 862, \"pitch_range\": 5.0}, {\"track_id\": 863, \"pitch_range\": 8.0}, {\"track_id\": 864, \"pitch_range\": 0.0}, {\"track_id\": 865, \"pitch_range\": 22.0}, {\"track_id\": 866, \"pitch_range\": 7.0}, {\"track_id\": 867, \"pitch_range\": 0.0}, {\"track_id\": 868, \"pitch_range\": 0.0}, {\"track_id\": 869, \"pitch_range\": 4.0}, {\"track_id\": 870, \"pitch_range\": 12.0}, {\"track_id\": 871, \"pitch_range\": 2.0}, {\"track_id\": 872, \"pitch_range\": 10.0}, {\"track_id\": 873, \"pitch_range\": 12.0}, {\"track_id\": 874, \"pitch_range\": 0.0}, {\"track_id\": 875, \"pitch_range\": 4.0}, {\"track_id\": 876, \"pitch_range\": 8.0}, {\"track_id\": 877, \"pitch_range\": 7.0}, {\"track_id\": 878, \"pitch_range\": 15.0}, {\"track_id\": 879, \"pitch_range\": 0.0}, {\"track_id\": 880, \"pitch_range\": 14.0}, {\"track_id\": 881, \"pitch_range\": 0.0}, {\"track_id\": 882, \"pitch_range\": 9.0}, {\"track_id\": 883, \"pitch_range\": 0.0}, {\"track_id\": 884, \"pitch_range\": 12.0}, {\"track_id\": 885, \"pitch_range\": 27.0}, {\"track_id\": 886, \"pitch_range\": 12.0}, {\"track_id\": 887, \"pitch_range\": 0.0}, {\"track_id\": 888, \"pitch_range\": 9.0}, {\"track_id\": 889, \"pitch_range\": 39.0}, {\"track_id\": 890, \"pitch_range\": 7.0}, {\"track_id\": 891, \"pitch_range\": 0.0}, {\"track_id\": 892, \"pitch_range\": 10.0}, {\"track_id\": 893, \"pitch_range\": 10.0}, {\"track_id\": 894, \"pitch_range\": 4.0}, {\"track_id\": 895, \"pitch_range\": 36.0}, {\"track_id\": 896, \"pitch_range\": 0.0}, {\"track_id\": 897, \"pitch_range\": 0.0}, {\"track_id\": 898, \"pitch_range\": 0.0}, {\"track_id\": 899, \"pitch_range\": 0.0}, {\"track_id\": 900, \"pitch_range\": 0.0}, {\"track_id\": 901, \"pitch_range\": 4.0}, {\"track_id\": 902, \"pitch_range\": 0.0}, {\"track_id\": 903, \"pitch_range\": 7.0}, {\"track_id\": 904, \"pitch_range\": 22.0}, {\"track_id\": 905, \"pitch_range\": 5.0}, {\"track_id\": 906, \"pitch_range\": 17.0}, {\"track_id\": 907, \"pitch_range\": 9.0}, {\"track_id\": 908, \"pitch_range\": 0.0}, {\"track_id\": 909, \"pitch_range\": 4.0}, {\"track_id\": 910, \"pitch_range\": 5.0}, {\"track_id\": 911, \"pitch_range\": 0.0}, {\"track_id\": 912, \"pitch_range\": 0.0}, {\"track_id\": 913, \"pitch_range\": 0.0}, {\"track_id\": 914, \"pitch_range\": 9.0}, {\"track_id\": 915, \"pitch_range\": 24.0}, {\"track_id\": 916, \"pitch_range\": 3.0}, {\"track_id\": 917, \"pitch_range\": 7.0}, {\"track_id\": 918, \"pitch_range\": 17.0}, {\"track_id\": 919, \"pitch_range\": 10.0}, {\"track_id\": 920, \"pitch_range\": 17.0}, {\"track_id\": 921, \"pitch_range\": 0.0}, {\"track_id\": 922, \"pitch_range\": 5.0}, {\"track_id\": 923, \"pitch_range\": 10.0}, {\"track_id\": 924, \"pitch_range\": 12.0}, {\"track_id\": 925, \"pitch_range\": 0.0}, {\"track_id\": 926, \"pitch_range\": 7.0}, {\"track_id\": 927, \"pitch_range\": 10.0}, {\"track_id\": 928, \"pitch_range\": 7.0}, {\"track_id\": 929, \"pitch_range\": 0.0}, {\"track_id\": 930, \"pitch_range\": 8.0}, {\"track_id\": 931, \"pitch_range\": 7.0}, {\"track_id\": 932, \"pitch_range\": 3.0}, {\"track_id\": 933, \"pitch_range\": 7.0}, {\"track_id\": 934, \"pitch_range\": 0.0}, {\"track_id\": 935, \"pitch_range\": 12.0}, {\"track_id\": 936, \"pitch_range\": 0.0}, {\"track_id\": 937, \"pitch_range\": 31.0}, {\"track_id\": 938, \"pitch_range\": 7.0}, {\"track_id\": 939, \"pitch_range\": 15.0}, {\"track_id\": 940, \"pitch_range\": 8.0}, {\"track_id\": 941, \"pitch_range\": 12.0}, {\"track_id\": 942, \"pitch_range\": 17.0}, {\"track_id\": 943, \"pitch_range\": 0.0}, {\"track_id\": 944, \"pitch_range\": 10.0}, {\"track_id\": 945, \"pitch_range\": 7.0}, {\"track_id\": 946, \"pitch_range\": 15.0}, {\"track_id\": 947, \"pitch_range\": 12.0}, {\"track_id\": 948, \"pitch_range\": 13.0}, {\"track_id\": 949, \"pitch_range\": 13.0}, {\"track_id\": 950, \"pitch_range\": 0.0}, {\"track_id\": 951, \"pitch_range\": 3.0}, {\"track_id\": 952, \"pitch_range\": 12.0}, {\"track_id\": 953, \"pitch_range\": 7.0}, {\"track_id\": 954, \"pitch_range\": 26.0}, {\"track_id\": 955, \"pitch_range\": 3.0}, {\"track_id\": 956, \"pitch_range\": 0.0}, {\"track_id\": 957, \"pitch_range\": 14.0}, {\"track_id\": 958, \"pitch_range\": 12.0}, {\"track_id\": 959, \"pitch_range\": 29.0}, {\"track_id\": 960, \"pitch_range\": 0.0}, {\"track_id\": 961, \"pitch_range\": 0.0}, {\"track_id\": 962, \"pitch_range\": 12.0}, {\"track_id\": 963, \"pitch_range\": 0.0}, {\"track_id\": 964, \"pitch_range\": 7.0}, {\"track_id\": 965, \"pitch_range\": 19.0}, {\"track_id\": 966, \"pitch_range\": 17.0}, {\"track_id\": 967, \"pitch_range\": 14.0}, {\"track_id\": 968, \"pitch_range\": 26.0}, {\"track_id\": 969, \"pitch_range\": 24.0}, {\"track_id\": 970, \"pitch_range\": 7.0}, {\"track_id\": 971, \"pitch_range\": 0.0}, {\"track_id\": 972, \"pitch_range\": 5.0}, {\"track_id\": 973, \"pitch_range\": 6.0}, {\"track_id\": 974, \"pitch_range\": 10.0}, {\"track_id\": 975, \"pitch_range\": 0.0}, {\"track_id\": 976, \"pitch_range\": 4.0}, {\"track_id\": 977, \"pitch_range\": 5.0}, {\"track_id\": 978, \"pitch_range\": 0.0}, {\"track_id\": 979, \"pitch_range\": 24.0}, {\"track_id\": 980, \"pitch_range\": 7.0}, {\"track_id\": 981, \"pitch_range\": 15.0}, {\"track_id\": 982, \"pitch_range\": 0.0}, {\"track_id\": 983, \"pitch_range\": 10.0}, {\"track_id\": 984, \"pitch_range\": 17.0}, {\"track_id\": 985, \"pitch_range\": 4.0}, {\"track_id\": 986, \"pitch_range\": 12.0}, {\"track_id\": 987, \"pitch_range\": 34.0}, {\"track_id\": 988, \"pitch_range\": 12.0}, {\"track_id\": 989, \"pitch_range\": 14.0}, {\"track_id\": 990, \"pitch_range\": 0.0}, {\"track_id\": 991, \"pitch_range\": 12.0}, {\"track_id\": 992, \"pitch_range\": 15.0}, {\"track_id\": 993, \"pitch_range\": 20.0}, {\"track_id\": 994, \"pitch_range\": 1.0}, {\"track_id\": 995, \"pitch_range\": 15.0}, {\"track_id\": 996, \"pitch_range\": 0.0}, {\"track_id\": 997, \"pitch_range\": 7.0}, {\"track_id\": 998, \"pitch_range\": 13.0}, {\"track_id\": 999, \"pitch_range\": 12.0}, {\"track_id\": 1000, \"pitch_range\": 7.0}, {\"track_id\": 1001, \"pitch_range\": 23.0}, {\"track_id\": 1002, \"pitch_range\": 9.0}, {\"track_id\": 1003, \"pitch_range\": 11.0}, {\"track_id\": 1004, \"pitch_range\": 51.0}, {\"track_id\": 1005, \"pitch_range\": 5.0}, {\"track_id\": 1006, \"pitch_range\": 35.0}, {\"track_id\": 1007, \"pitch_range\": 12.0}, {\"track_id\": 1008, \"pitch_range\": 12.0}, {\"track_id\": 1009, \"pitch_range\": 0.0}, {\"track_id\": 1010, \"pitch_range\": 0.0}, {\"track_id\": 1011, \"pitch_range\": 0.0}, {\"track_id\": 1012, \"pitch_range\": 38.0}, {\"track_id\": 1013, \"pitch_range\": 0.0}, {\"track_id\": 1014, \"pitch_range\": 0.0}, {\"track_id\": 1015, \"pitch_range\": 0.0}, {\"track_id\": 1016, \"pitch_range\": 2.0}, {\"track_id\": 1017, \"pitch_range\": 8.0}, {\"track_id\": 1018, \"pitch_range\": 10.0}, {\"track_id\": 1019, \"pitch_range\": 0.0}, {\"track_id\": 1020, \"pitch_range\": 9.0}, {\"track_id\": 1021, \"pitch_range\": 9.0}, {\"track_id\": 1022, \"pitch_range\": 19.0}, {\"track_id\": 1023, \"pitch_range\": 21.0}, {\"track_id\": 1024, \"pitch_range\": 0.0}, {\"track_id\": 1025, \"pitch_range\": 7.0}, {\"track_id\": 1026, \"pitch_range\": 2.0}, {\"track_id\": 1027, \"pitch_range\": 12.0}, {\"track_id\": 1028, \"pitch_range\": 7.0}, {\"track_id\": 1029, \"pitch_range\": 0.0}, {\"track_id\": 1030, \"pitch_range\": 0.0}, {\"track_id\": 1031, \"pitch_range\": 17.0}, {\"track_id\": 1032, \"pitch_range\": 5.0}, {\"track_id\": 1033, \"pitch_range\": 24.0}, {\"track_id\": 1034, \"pitch_range\": 20.0}, {\"track_id\": 1035, \"pitch_range\": 17.0}, {\"track_id\": 1036, \"pitch_range\": 24.0}, {\"track_id\": 1037, \"pitch_range\": 8.0}, {\"track_id\": 1038, \"pitch_range\": 2.0}, {\"track_id\": 1039, \"pitch_range\": 0.0}, {\"track_id\": 1040, \"pitch_range\": 10.0}, {\"track_id\": 1041, \"pitch_range\": 17.0}, {\"track_id\": 1042, \"pitch_range\": 20.0}, {\"track_id\": 1043, \"pitch_range\": 7.0}, {\"track_id\": 1044, \"pitch_range\": 8.0}, {\"track_id\": 1045, \"pitch_range\": 7.0}, {\"track_id\": 1046, \"pitch_range\": 19.0}, {\"track_id\": 1047, \"pitch_range\": 0.0}, {\"track_id\": 1048, \"pitch_range\": 14.0}, {\"track_id\": 1049, \"pitch_range\": 0.0}, {\"track_id\": 1050, \"pitch_range\": 7.0}, {\"track_id\": 1051, \"pitch_range\": 0.0}, {\"track_id\": 1052, \"pitch_range\": 10.0}, {\"track_id\": 1053, \"pitch_range\": 0.0}, {\"track_id\": 1054, \"pitch_range\": 9.0}, {\"track_id\": 1055, \"pitch_range\": 6.0}, {\"track_id\": 1056, \"pitch_range\": 0.0}, {\"track_id\": 1057, \"pitch_range\": 12.0}, {\"track_id\": 1058, \"pitch_range\": 15.0}, {\"track_id\": 1059, \"pitch_range\": 0.0}, {\"track_id\": 1060, \"pitch_range\": 0.0}, {\"track_id\": 1061, \"pitch_range\": 7.0}, {\"track_id\": 1062, \"pitch_range\": 9.0}, {\"track_id\": 1063, \"pitch_range\": 0.0}, {\"track_id\": 1064, \"pitch_range\": 5.0}, {\"track_id\": 1065, \"pitch_range\": 7.0}, {\"track_id\": 1066, \"pitch_range\": 7.0}, {\"track_id\": 1067, \"pitch_range\": 14.0}, {\"track_id\": 1068, \"pitch_range\": 10.0}, {\"track_id\": 1069, \"pitch_range\": 10.0}, {\"track_id\": 1070, \"pitch_range\": 3.0}, {\"track_id\": 1071, \"pitch_range\": 29.0}, {\"track_id\": 1072, \"pitch_range\": 0.0}, {\"track_id\": 1073, \"pitch_range\": 12.0}, {\"track_id\": 1074, \"pitch_range\": 7.0}, {\"track_id\": 1075, \"pitch_range\": 4.0}, {\"track_id\": 1076, \"pitch_range\": 17.0}, {\"track_id\": 1077, \"pitch_range\": 12.0}, {\"track_id\": 1078, \"pitch_range\": 0.0}, {\"track_id\": 1079, \"pitch_range\": 12.0}, {\"track_id\": 1080, \"pitch_range\": 5.0}, {\"track_id\": 1081, \"pitch_range\": 8.0}, {\"track_id\": 1082, \"pitch_range\": 17.0}, {\"track_id\": 1083, \"pitch_range\": 15.0}, {\"track_id\": 1084, \"pitch_range\": 14.0}, {\"track_id\": 1085, \"pitch_range\": 0.0}, {\"track_id\": 1086, \"pitch_range\": 7.0}, {\"track_id\": 1087, \"pitch_range\": 9.0}, {\"track_id\": 1088, \"pitch_range\": 0.0}, {\"track_id\": 1089, \"pitch_range\": 5.0}, {\"track_id\": 1090, \"pitch_range\": 3.0}, {\"track_id\": 1091, \"pitch_range\": 0.0}, {\"track_id\": 1092, \"pitch_range\": 9.0}, {\"track_id\": 1093, \"pitch_range\": 12.0}, {\"track_id\": 1094, \"pitch_range\": 12.0}, {\"track_id\": 1095, \"pitch_range\": 10.0}, {\"track_id\": 1096, \"pitch_range\": 5.0}, {\"track_id\": 1097, \"pitch_range\": 2.0}, {\"track_id\": 1098, \"pitch_range\": 12.0}, {\"track_id\": 1099, \"pitch_range\": 7.0}, {\"track_id\": 1100, \"pitch_range\": 0.0}, {\"track_id\": 1101, \"pitch_range\": 3.0}, {\"track_id\": 1102, \"pitch_range\": 13.0}, {\"track_id\": 1103, \"pitch_range\": 0.0}, {\"track_id\": 1104, \"pitch_range\": 0.0}, {\"track_id\": 1105, \"pitch_range\": 0.0}, {\"track_id\": 1106, \"pitch_range\": 12.0}, {\"track_id\": 1107, \"pitch_range\": 3.0}, {\"track_id\": 1108, \"pitch_range\": 0.0}, {\"track_id\": 1109, \"pitch_range\": 5.0}, {\"track_id\": 1110, \"pitch_range\": 8.0}, {\"track_id\": 1111, \"pitch_range\": 7.0}, {\"track_id\": 1112, \"pitch_range\": 7.0}, {\"track_id\": 1113, \"pitch_range\": 0.0}, {\"track_id\": 1114, \"pitch_range\": 10.0}, {\"track_id\": 1115, \"pitch_range\": 5.0}, {\"track_id\": 1116, \"pitch_range\": 0.0}, {\"track_id\": 1117, \"pitch_range\": 24.0}, {\"track_id\": 1118, \"pitch_range\": 28.0}, {\"track_id\": 1119, \"pitch_range\": 17.0}, {\"track_id\": 1120, \"pitch_range\": 31.0}, {\"track_id\": 1121, \"pitch_range\": 7.0}, {\"track_id\": 1122, \"pitch_range\": 0.0}, {\"track_id\": 1123, \"pitch_range\": 5.0}, {\"track_id\": 1124, \"pitch_range\": 19.0}, {\"track_id\": 1125, \"pitch_range\": 20.0}, {\"track_id\": 1126, \"pitch_range\": 0.0}, {\"track_id\": 1127, \"pitch_range\": 7.0}, {\"track_id\": 1128, \"pitch_range\": 3.0}, {\"track_id\": 1129, \"pitch_range\": 10.0}, {\"track_id\": 1130, \"pitch_range\": 11.0}, {\"track_id\": 1131, \"pitch_range\": 7.0}, {\"track_id\": 1132, \"pitch_range\": 8.0}, {\"track_id\": 1133, \"pitch_range\": 28.0}, {\"track_id\": 1134, \"pitch_range\": 8.0}, {\"track_id\": 1135, \"pitch_range\": 0.0}, {\"track_id\": 1136, \"pitch_range\": 7.0}, {\"track_id\": 1137, \"pitch_range\": 6.0}, {\"track_id\": 1138, \"pitch_range\": 7.0}, {\"track_id\": 1139, \"pitch_range\": 9.0}, {\"track_id\": 1140, \"pitch_range\": 7.0}, {\"track_id\": 1141, \"pitch_range\": 0.0}, {\"track_id\": 1142, \"pitch_range\": 12.0}, {\"track_id\": 1143, \"pitch_range\": 21.0}, {\"track_id\": 1144, \"pitch_range\": 7.0}]}}, {\"mode\": \"vega-lite\"});\n",
              "</script>"
            ]
          },
          "metadata": {
            "tags": []
          },
          "execution_count": 15
        }
      ]
    },
    {
      "cell_type": "markdown",
      "metadata": {
        "id": "XIzcbXrdHX7n"
      },
      "source": [
        "Let's look at song with the highest number of notes. Its id is 244:"
      ],
      "id": "XIzcbXrdHX7n"
    },
    {
      "cell_type": "code",
      "metadata": {
        "colab": {
          "base_uri": "https://localhost:8080/",
          "height": 80
        },
        "id": "_IuviLZ5HX23",
        "outputId": "b84521ae-8284-4ea3-b624-246f36c5c6ae"
      },
      "source": [
        "biggest_track = tracks_df[tracks_df['track_id'] == 244]\n",
        "biggest_track"
      ],
      "id": "_IuviLZ5HX23",
      "execution_count": 16,
      "outputs": [
        {
          "output_type": "execute_result",
          "data": {
            "text/html": [
              "<div>\n",
              "<style scoped>\n",
              "    .dataframe tbody tr th:only-of-type {\n",
              "        vertical-align: middle;\n",
              "    }\n",
              "\n",
              "    .dataframe tbody tr th {\n",
              "        vertical-align: top;\n",
              "    }\n",
              "\n",
              "    .dataframe thead th {\n",
              "        text-align: right;\n",
              "    }\n",
              "</style>\n",
              "<table border=\"1\" class=\"dataframe\">\n",
              "  <thead>\n",
              "    <tr style=\"text-align: right;\">\n",
              "      <th></th>\n",
              "      <th>track_id</th>\n",
              "      <th>number_of_notes</th>\n",
              "      <th>highest_pitch</th>\n",
              "      <th>highest_pitch_note</th>\n",
              "      <th>lowest_pitch</th>\n",
              "      <th>lowest_pitch_note</th>\n",
              "      <th>pitch_range</th>\n",
              "      <th>notes</th>\n",
              "    </tr>\n",
              "  </thead>\n",
              "  <tbody>\n",
              "    <tr>\n",
              "      <th>244</th>\n",
              "      <td>244</td>\n",
              "      <td>255</td>\n",
              "      <td>77.0</td>\n",
              "      <td>F5</td>\n",
              "      <td>34.0</td>\n",
              "      <td>B-1</td>\n",
              "      <td>43.0</td>\n",
              "      <td>[{'absolute_offset': 0.0, 'pitch': 58.0, 'name...</td>\n",
              "    </tr>\n",
              "  </tbody>\n",
              "</table>\n",
              "</div>"
            ],
            "text/plain": [
              "     track_id  ...                                              notes\n",
              "244       244  ...  [{'absolute_offset': 0.0, 'pitch': 58.0, 'name...\n",
              "\n",
              "[1 rows x 8 columns]"
            ]
          },
          "metadata": {
            "tags": []
          },
          "execution_count": 16
        }
      ]
    },
    {
      "cell_type": "code",
      "metadata": {
        "colab": {
          "base_uri": "https://localhost:8080/"
        },
        "id": "8Ay6lI3UXNYq",
        "outputId": "1a335cca-18b0-49eb-b377-697af3955cc3"
      },
      "source": [
        "biggest_track.iloc[0]['notes'][:2]"
      ],
      "id": "8Ay6lI3UXNYq",
      "execution_count": 17,
      "outputs": [
        {
          "output_type": "execute_result",
          "data": {
            "text/plain": [
              "[{'absolute_offset': 0.0, 'duration': 1.0, 'name': 'B-3', 'pitch': 58.0},\n",
              " {'absolute_offset': 3.75, 'duration': 0.75, 'name': 'B-2', 'pitch': 46.0}]"
            ]
          },
          "metadata": {
            "tags": []
          },
          "execution_count": 17
        }
      ]
    },
    {
      "cell_type": "code",
      "metadata": {
        "colab": {
          "base_uri": "https://localhost:8080/",
          "height": 419
        },
        "id": "BY0suTZ9ZVBy",
        "outputId": "dba72726-302a-484d-f88a-525d904128ae"
      },
      "source": [
        "biggest_track_df = pd.DataFrame(biggest_track.iloc[0]['notes'])\n",
        "biggest_track_df"
      ],
      "id": "BY0suTZ9ZVBy",
      "execution_count": 18,
      "outputs": [
        {
          "output_type": "execute_result",
          "data": {
            "text/html": [
              "<div>\n",
              "<style scoped>\n",
              "    .dataframe tbody tr th:only-of-type {\n",
              "        vertical-align: middle;\n",
              "    }\n",
              "\n",
              "    .dataframe tbody tr th {\n",
              "        vertical-align: top;\n",
              "    }\n",
              "\n",
              "    .dataframe thead th {\n",
              "        text-align: right;\n",
              "    }\n",
              "</style>\n",
              "<table border=\"1\" class=\"dataframe\">\n",
              "  <thead>\n",
              "    <tr style=\"text-align: right;\">\n",
              "      <th></th>\n",
              "      <th>absolute_offset</th>\n",
              "      <th>pitch</th>\n",
              "      <th>name</th>\n",
              "      <th>duration</th>\n",
              "    </tr>\n",
              "  </thead>\n",
              "  <tbody>\n",
              "    <tr>\n",
              "      <th>0</th>\n",
              "      <td>0</td>\n",
              "      <td>58.0</td>\n",
              "      <td>B-3</td>\n",
              "      <td>1</td>\n",
              "    </tr>\n",
              "    <tr>\n",
              "      <th>1</th>\n",
              "      <td>3.75</td>\n",
              "      <td>46.0</td>\n",
              "      <td>B-2</td>\n",
              "      <td>0.75</td>\n",
              "    </tr>\n",
              "    <tr>\n",
              "      <th>2</th>\n",
              "      <td>4</td>\n",
              "      <td>58.0</td>\n",
              "      <td>B-3</td>\n",
              "      <td>0.25</td>\n",
              "    </tr>\n",
              "    <tr>\n",
              "      <th>3</th>\n",
              "      <td>4.25</td>\n",
              "      <td>58.0</td>\n",
              "      <td>B-3</td>\n",
              "      <td>0.25</td>\n",
              "    </tr>\n",
              "    <tr>\n",
              "      <th>4</th>\n",
              "      <td>13/3</td>\n",
              "      <td>58.0</td>\n",
              "      <td>B-3</td>\n",
              "      <td>0.25</td>\n",
              "    </tr>\n",
              "    <tr>\n",
              "      <th>...</th>\n",
              "      <td>...</td>\n",
              "      <td>...</td>\n",
              "      <td>...</td>\n",
              "      <td>...</td>\n",
              "    </tr>\n",
              "    <tr>\n",
              "      <th>250</th>\n",
              "      <td>87.75</td>\n",
              "      <td>62.0</td>\n",
              "      <td>D4</td>\n",
              "      <td>0.25</td>\n",
              "    </tr>\n",
              "    <tr>\n",
              "      <th>251</th>\n",
              "      <td>88</td>\n",
              "      <td>62.0</td>\n",
              "      <td>D4</td>\n",
              "      <td>0.25</td>\n",
              "    </tr>\n",
              "    <tr>\n",
              "      <th>252</th>\n",
              "      <td>265/3</td>\n",
              "      <td>65.0</td>\n",
              "      <td>F4</td>\n",
              "      <td>0.25</td>\n",
              "    </tr>\n",
              "    <tr>\n",
              "      <th>253</th>\n",
              "      <td>88.75</td>\n",
              "      <td>65.0</td>\n",
              "      <td>F4</td>\n",
              "      <td>0.5</td>\n",
              "    </tr>\n",
              "    <tr>\n",
              "      <th>254</th>\n",
              "      <td>89.25</td>\n",
              "      <td>65.0</td>\n",
              "      <td>F4</td>\n",
              "      <td>1.25</td>\n",
              "    </tr>\n",
              "  </tbody>\n",
              "</table>\n",
              "<p>255 rows × 4 columns</p>\n",
              "</div>"
            ],
            "text/plain": [
              "    absolute_offset  pitch name duration\n",
              "0                 0   58.0  B-3        1\n",
              "1              3.75   46.0  B-2     0.75\n",
              "2                 4   58.0  B-3     0.25\n",
              "3              4.25   58.0  B-3     0.25\n",
              "4              13/3   58.0  B-3     0.25\n",
              "..              ...    ...  ...      ...\n",
              "250           87.75   62.0   D4     0.25\n",
              "251              88   62.0   D4     0.25\n",
              "252           265/3   65.0   F4     0.25\n",
              "253           88.75   65.0   F4      0.5\n",
              "254           89.25   65.0   F4     1.25\n",
              "\n",
              "[255 rows x 4 columns]"
            ]
          },
          "metadata": {
            "tags": []
          },
          "execution_count": 18
        }
      ]
    },
    {
      "cell_type": "code",
      "metadata": {
        "colab": {
          "base_uri": "https://localhost:8080/",
          "height": 533
        },
        "id": "HGlfa7RZZkOK",
        "outputId": "6b5e4bf0-6c47-462d-dccc-2c0902da7b1f"
      },
      "source": [
        "figure(figsize=(16, 8), dpi=80)\n",
        "plt.scatter(biggest_track_df['absolute_offset'], np.ones(len(biggest_track_df)),alpha=0.5);\n",
        "plt.scatter(biggest_track_df['absolute_offset'], biggest_track_df['pitch'],alpha=0.5);\n"
      ],
      "id": "HGlfa7RZZkOK",
      "execution_count": 19,
      "outputs": [
        {
          "output_type": "display_data",
          "data": {
            "image/png": "[encoded data removed]",
            "text/plain": [
              "<Figure size 1280x640 with 1 Axes>"
            ]
          },
          "metadata": {
            "tags": [],
            "needs_background": "light"
          }
        }
      ]
    },
    {
      "cell_type": "markdown",
      "metadata": {
        "id": "W2onNIPucsO7"
      },
      "source": [
        "It makes sense to divide the tracks that have long periods of silence into multiple \"compact\" melodies."
      ],
      "id": "W2onNIPucsO7"
    },
    {
      "cell_type": "code",
      "metadata": {
        "id": "XQCzdQKdis6C"
      },
      "source": [
        "def get_track_relative_offsets(track): \n",
        "    relative_offsets = []\n",
        "    for i in range(1,len(track) - 1):\n",
        "        first_element = track[i-1]\n",
        "        second_element = track[i]\n",
        "        relative_offset = second_element['absolute_offset'] - first_element['absolute_offset']\n",
        "\n",
        "        relative_offsets.append(relative_offset)\n",
        "    return np.array(relative_offsets)"
      ],
      "id": "XQCzdQKdis6C",
      "execution_count": 20,
      "outputs": []
    },
    {
      "cell_type": "code",
      "metadata": {
        "id": "AaFd4Jhlki3o",
        "outputId": "a877f0f3-8f64-41ec-ba21-d20499d3b026",
        "colab": {
          "base_uri": "https://localhost:8080/",
          "height": 80
        }
      },
      "source": [
        "biggest_track"
      ],
      "id": "AaFd4Jhlki3o",
      "execution_count": 21,
      "outputs": [
        {
          "output_type": "execute_result",
          "data": {
            "text/html": [
              "<div>\n",
              "<style scoped>\n",
              "    .dataframe tbody tr th:only-of-type {\n",
              "        vertical-align: middle;\n",
              "    }\n",
              "\n",
              "    .dataframe tbody tr th {\n",
              "        vertical-align: top;\n",
              "    }\n",
              "\n",
              "    .dataframe thead th {\n",
              "        text-align: right;\n",
              "    }\n",
              "</style>\n",
              "<table border=\"1\" class=\"dataframe\">\n",
              "  <thead>\n",
              "    <tr style=\"text-align: right;\">\n",
              "      <th></th>\n",
              "      <th>track_id</th>\n",
              "      <th>number_of_notes</th>\n",
              "      <th>highest_pitch</th>\n",
              "      <th>highest_pitch_note</th>\n",
              "      <th>lowest_pitch</th>\n",
              "      <th>lowest_pitch_note</th>\n",
              "      <th>pitch_range</th>\n",
              "      <th>notes</th>\n",
              "    </tr>\n",
              "  </thead>\n",
              "  <tbody>\n",
              "    <tr>\n",
              "      <th>244</th>\n",
              "      <td>244</td>\n",
              "      <td>255</td>\n",
              "      <td>77.0</td>\n",
              "      <td>F5</td>\n",
              "      <td>34.0</td>\n",
              "      <td>B-1</td>\n",
              "      <td>43.0</td>\n",
              "      <td>[{'absolute_offset': 0.0, 'pitch': 58.0, 'name...</td>\n",
              "    </tr>\n",
              "  </tbody>\n",
              "</table>\n",
              "</div>"
            ],
            "text/plain": [
              "     track_id  ...                                              notes\n",
              "244       244  ...  [{'absolute_offset': 0.0, 'pitch': 58.0, 'name...\n",
              "\n",
              "[1 rows x 8 columns]"
            ]
          },
          "metadata": {
            "tags": []
          },
          "execution_count": 21
        }
      ]
    },
    {
      "cell_type": "code",
      "metadata": {
        "id": "sGEywUJ1lEBh",
        "outputId": "9539eb9f-09f6-4dec-b322-411328e063a5",
        "colab": {
          "base_uri": "https://localhost:8080/"
        }
      },
      "source": [
        "track_to_divide = biggest_track.iloc[0]['notes']\n",
        "track_to_divide[:2]"
      ],
      "id": "sGEywUJ1lEBh",
      "execution_count": 22,
      "outputs": [
        {
          "output_type": "execute_result",
          "data": {
            "text/plain": [
              "[{'absolute_offset': 0.0, 'duration': 1.0, 'name': 'B-3', 'pitch': 58.0},\n",
              " {'absolute_offset': 3.75, 'duration': 0.75, 'name': 'B-2', 'pitch': 46.0}]"
            ]
          },
          "metadata": {
            "tags": []
          },
          "execution_count": 22
        }
      ]
    },
    {
      "cell_type": "code",
      "metadata": {
        "id": "hfnzCWuukYCY",
        "outputId": "0543f0c1-d933-4a5d-db78-de2b77c6b56a",
        "colab": {
          "base_uri": "https://localhost:8080/"
        }
      },
      "source": [
        "rel_offsets = get_track_relative_offsets(track_to_divide)\n",
        "rel_offsets[:10]"
      ],
      "id": "hfnzCWuukYCY",
      "execution_count": 23,
      "outputs": [
        {
          "output_type": "execute_result",
          "data": {
            "text/plain": [
              "array([3.75, 0.25, 0.25, 0.08333333333333304, 0.16666666666666696,\n",
              "       0.16666666666666696, 0.08333333333333304, 0.25, 0.25,\n",
              "       0.08333333333333304], dtype=object)"
            ]
          },
          "metadata": {
            "tags": []
          },
          "execution_count": 23
        }
      ]
    },
    {
      "cell_type": "code",
      "metadata": {
        "id": "Vac1KBrDmGHq",
        "outputId": "bc2b59b3-4432-4262-e21f-242a7f2a8dd0",
        "colab": {
          "base_uri": "https://localhost:8080/"
        }
      },
      "source": [
        "np.where(rel_offsets > 0.25)"
      ],
      "id": "Vac1KBrDmGHq",
      "execution_count": 24,
      "outputs": [
        {
          "output_type": "execute_result",
          "data": {
            "text/plain": [
              "(array([  0,  18,  20,  21,  80,  93, 109, 157, 170, 171, 176, 178, 180,\n",
              "        181, 182, 183, 186, 189, 203, 204, 205, 208, 209, 210, 224, 225,\n",
              "        226, 231, 251, 252]),)"
            ]
          },
          "metadata": {
            "tags": []
          },
          "execution_count": 24
        }
      ]
    },
    {
      "cell_type": "code",
      "metadata": {
        "id": "ULsxDAMicr-q"
      },
      "source": [
        "def divide_track(track):\n",
        "  relative_offsets = get_track_relative_offsets(track)\n",
        "  mean_relative_offset = relative_offsets.mean()\n",
        "\n",
        "  # we search for notes that have a relative offset of more than 10 times the mean\n",
        "  cut_positions = np.where(relative_offsets > (5 * mean_relative_offset))[0]\n",
        "\n",
        "  #print(cut_positions)\n",
        "  new_tracks = []\n",
        "  for i in range(0,len(cut_positions)+1):\n",
        "    cut_start = cut_positions[i - 1]+1 if i > 0 else 0\n",
        "    cut_end = cut_positions[i]+1 if i <len(cut_positions) else len(track)\n",
        "\n",
        "    new_tracks.append(track[cut_start:cut_end])\n",
        "\n",
        "    #print(f\"{i} track, [{cut_start}:{cut_end}] len: {len(track[cut_start:cut_end])}\")\n",
        "\n",
        "  return new_tracks "
      ],
      "id": "ULsxDAMicr-q",
      "execution_count": 116,
      "outputs": []
    },
    {
      "cell_type": "code",
      "metadata": {
        "id": "mtEU4iK5k2rF",
        "outputId": "ac82cbb4-03bf-4b18-8954-376118cddc02",
        "colab": {
          "base_uri": "https://localhost:8080/"
        }
      },
      "source": [
        "divide_track(track_to_divide)"
      ],
      "id": "mtEU4iK5k2rF",
      "execution_count": 117,
      "outputs": [
        {
          "output_type": "execute_result",
          "data": {
            "text/plain": [
              "[[{'absolute_offset': 0.0, 'duration': 1.0, 'name': 'B-3', 'pitch': 58.0}],\n",
              " [{'absolute_offset': 3.75, 'duration': 0.75, 'name': 'B-2', 'pitch': 46.0},\n",
              "  {'absolute_offset': 4.0, 'duration': 0.25, 'name': 'B-3', 'pitch': 58.0},\n",
              "  {'absolute_offset': 4.25, 'duration': 0.25, 'name': 'B-3', 'pitch': 58.0},\n",
              "  {'absolute_offset': Fraction(13, 3),\n",
              "   'duration': 0.25,\n",
              "   'name': 'B-3',\n",
              "   'pitch': 58.0},\n",
              "  {'absolute_offset': 4.5, 'duration': 1.5, 'name': 'C#3', 'pitch': 49.0},\n",
              "  {'absolute_offset': Fraction(14, 3),\n",
              "   'duration': 0.25,\n",
              "   'name': 'B3',\n",
              "   'pitch': 59.0},\n",
              "  {'absolute_offset': 4.75, 'duration': 0.25, 'name': 'B3', 'pitch': 59.0},\n",
              "  {'absolute_offset': 5.0, 'duration': 0.25, 'name': 'B3', 'pitch': 59.0},\n",
              "  {'absolute_offset': 5.25, 'duration': 0.25, 'name': 'B3', 'pitch': 59.0},\n",
              "  {'absolute_offset': Fraction(16, 3),\n",
              "   'duration': 0.25,\n",
              "   'name': 'B-3',\n",
              "   'pitch': 58.0},\n",
              "  {'absolute_offset': 5.5, 'duration': 0.25, 'name': 'B-3', 'pitch': 58.0},\n",
              "  {'absolute_offset': 5.75, 'duration': 0.25, 'name': 'B-3', 'pitch': 58.0},\n",
              "  {'absolute_offset': 6.0, 'duration': 0.25, 'name': 'B-3', 'pitch': 58.0},\n",
              "  {'absolute_offset': 6.25, 'duration': 0.25, 'name': 'B-3', 'pitch': 58.0},\n",
              "  {'absolute_offset': 6.5, 'duration': 0.25, 'name': 'B-3', 'pitch': 58.0},\n",
              "  {'absolute_offset': Fraction(20, 3),\n",
              "   'duration': 0.25,\n",
              "   'name': 'B-3',\n",
              "   'pitch': 58.0},\n",
              "  {'absolute_offset': 6.75, 'duration': 0.5, 'name': 'G#2', 'pitch': 44.0},\n",
              "  {'absolute_offset': 7.0, 'duration': 0.25, 'name': 'E-4', 'pitch': 63.0},\n",
              "  {'absolute_offset': Fraction(22, 3),\n",
              "   'duration': 0.25,\n",
              "   'name': 'F4',\n",
              "   'pitch': 65.0},\n",
              "  {'absolute_offset': 7.5, 'duration': 0.25, 'name': 'F#3', 'pitch': 54.0},\n",
              "  {'absolute_offset': 8.25, 'duration': 0.25, 'name': 'F#3', 'pitch': 54.0},\n",
              "  {'absolute_offset': 9.0, 'duration': 0.25, 'name': 'E-3', 'pitch': 51.0},\n",
              "  {'absolute_offset': 9.25, 'duration': 0.25, 'name': 'G4', 'pitch': 67.0},\n",
              "  {'absolute_offset': 9.5, 'duration': 0.25, 'name': 'D4', 'pitch': 62.0},\n",
              "  {'absolute_offset': 9.75,\n",
              "   'duration': Fraction(1, 3),\n",
              "   'name': 'C#3',\n",
              "   'pitch': 49.0},\n",
              "  {'absolute_offset': 10.0, 'duration': 0.25, 'name': 'E4', 'pitch': 64.0},\n",
              "  {'absolute_offset': 10.25, 'duration': 0.25, 'name': 'C4', 'pitch': 60.0},\n",
              "  {'absolute_offset': Fraction(31, 3),\n",
              "   'duration': 0.25,\n",
              "   'name': 'F4',\n",
              "   'pitch': 65.0},\n",
              "  {'absolute_offset': 10.5, 'duration': 0.5, 'name': 'F2', 'pitch': 41.0},\n",
              "  {'absolute_offset': Fraction(32, 3),\n",
              "   'duration': 0.5,\n",
              "   'name': 'C3',\n",
              "   'pitch': 48.0},\n",
              "  {'absolute_offset': 10.75, 'duration': 0.25, 'name': 'C4', 'pitch': 60.0},\n",
              "  {'absolute_offset': 11.0, 'duration': 0.25, 'name': 'A3', 'pitch': 57.0},\n",
              "  {'absolute_offset': 11.25,\n",
              "   'duration': Fraction(2, 3),\n",
              "   'name': 'B-1',\n",
              "   'pitch': 34.0},\n",
              "  {'absolute_offset': Fraction(34, 3),\n",
              "   'duration': Fraction(1, 3),\n",
              "   'name': 'F3',\n",
              "   'pitch': 53.0},\n",
              "  {'absolute_offset': 11.5, 'duration': 0.5, 'name': 'B-3', 'pitch': 58.0},\n",
              "  {'absolute_offset': Fraction(35, 3),\n",
              "   'duration': Fraction(2, 3),\n",
              "   'name': 'G4',\n",
              "   'pitch': 67.0},\n",
              "  {'absolute_offset': 11.75, 'duration': 0.25, 'name': 'F3', 'pitch': 53.0},\n",
              "  {'absolute_offset': 12.0, 'duration': 0.25, 'name': 'F3', 'pitch': 53.0},\n",
              "  {'absolute_offset': 12.25, 'duration': 0.5, 'name': 'B-3', 'pitch': 58.0},\n",
              "  {'absolute_offset': 12.5, 'duration': 0.25, 'name': 'F3', 'pitch': 53.0},\n",
              "  {'absolute_offset': Fraction(38, 3),\n",
              "   'duration': 0.25,\n",
              "   'name': 'F3',\n",
              "   'pitch': 53.0},\n",
              "  {'absolute_offset': 12.75, 'duration': 0.25, 'name': 'B-3', 'pitch': 58.0},\n",
              "  {'absolute_offset': 13.0, 'duration': 0.5, 'name': 'B-3', 'pitch': 58.0},\n",
              "  {'absolute_offset': 13.25, 'duration': 0.25, 'name': 'F3', 'pitch': 53.0},\n",
              "  {'absolute_offset': Fraction(40, 3),\n",
              "   'duration': 0.25,\n",
              "   'name': 'F3',\n",
              "   'pitch': 53.0},\n",
              "  {'absolute_offset': 13.5, 'duration': 0.75, 'name': 'G2', 'pitch': 43.0},\n",
              "  {'absolute_offset': Fraction(41, 3),\n",
              "   'duration': Fraction(1, 3),\n",
              "   'name': 'G3',\n",
              "   'pitch': 55.0},\n",
              "  {'absolute_offset': 13.75, 'duration': 0.25, 'name': 'D4', 'pitch': 62.0},\n",
              "  {'absolute_offset': 14.0, 'duration': 0.25, 'name': 'G3', 'pitch': 55.0},\n",
              "  {'absolute_offset': 14.25, 'duration': 0.25, 'name': 'D4', 'pitch': 62.0},\n",
              "  {'absolute_offset': Fraction(43, 3),\n",
              "   'duration': Fraction(1, 3),\n",
              "   'name': 'C4',\n",
              "   'pitch': 60.0},\n",
              "  {'absolute_offset': 14.5, 'duration': 0.5, 'name': 'E-4', 'pitch': 63.0},\n",
              "  {'absolute_offset': Fraction(44, 3),\n",
              "   'duration': 0.25,\n",
              "   'name': 'D5',\n",
              "   'pitch': 74.0},\n",
              "  {'absolute_offset': 14.75,\n",
              "   'duration': Fraction(1, 3),\n",
              "   'name': 'C4',\n",
              "   'pitch': 60.0},\n",
              "  {'absolute_offset': 15.0, 'duration': 0.25, 'name': 'E-4', 'pitch': 63.0},\n",
              "  {'absolute_offset': 15.25, 'duration': 0.25, 'name': 'C2', 'pitch': 36.0},\n",
              "  {'absolute_offset': Fraction(46, 3),\n",
              "   'duration': 0.25,\n",
              "   'name': 'A4',\n",
              "   'pitch': 69.0},\n",
              "  {'absolute_offset': 15.5, 'duration': 0.25, 'name': 'E-4', 'pitch': 63.0},\n",
              "  {'absolute_offset': Fraction(47, 3),\n",
              "   'duration': 0.25,\n",
              "   'name': 'C5',\n",
              "   'pitch': 72.0},\n",
              "  {'absolute_offset': 15.75, 'duration': 0.75, 'name': 'B-2', 'pitch': 46.0},\n",
              "  {'absolute_offset': 16.0, 'duration': 0.5, 'name': 'B-3', 'pitch': 58.0},\n",
              "  {'absolute_offset': 16.25, 'duration': 0.25, 'name': 'F3', 'pitch': 53.0},\n",
              "  {'absolute_offset': Fraction(49, 3),\n",
              "   'duration': 0.25,\n",
              "   'name': 'F3',\n",
              "   'pitch': 53.0},\n",
              "  {'absolute_offset': 16.5, 'duration': 0.75, 'name': 'G2', 'pitch': 43.0},\n",
              "  {'absolute_offset': Fraction(50, 3),\n",
              "   'duration': 0.25,\n",
              "   'name': 'G3',\n",
              "   'pitch': 55.0},\n",
              "  {'absolute_offset': 16.75,\n",
              "   'duration': Fraction(1, 3),\n",
              "   'name': 'D4',\n",
              "   'pitch': 62.0},\n",
              "  {'absolute_offset': 17.0, 'duration': 0.25, 'name': 'G3', 'pitch': 55.0},\n",
              "  {'absolute_offset': 17.25, 'duration': 0.25, 'name': 'G3', 'pitch': 55.0},\n",
              "  {'absolute_offset': Fraction(52, 3),\n",
              "   'duration': 0.25,\n",
              "   'name': 'G3',\n",
              "   'pitch': 55.0},\n",
              "  {'absolute_offset': 17.5, 'duration': 0.25, 'name': 'C4', 'pitch': 60.0},\n",
              "  {'absolute_offset': 17.75, 'duration': 0.25, 'name': 'G3', 'pitch': 55.0},\n",
              "  {'absolute_offset': 18.0, 'duration': 0.25, 'name': 'G3', 'pitch': 55.0},\n",
              "  {'absolute_offset': 18.25, 'duration': 0.25, 'name': 'C4', 'pitch': 60.0},\n",
              "  {'absolute_offset': Fraction(55, 3),\n",
              "   'duration': 0.25,\n",
              "   'name': 'B-3',\n",
              "   'pitch': 58.0},\n",
              "  {'absolute_offset': 18.5, 'duration': 0.25, 'name': 'G3', 'pitch': 55.0},\n",
              "  {'absolute_offset': Fraction(56, 3),\n",
              "   'duration': 0.25,\n",
              "   'name': 'F3',\n",
              "   'pitch': 53.0},\n",
              "  {'absolute_offset': 18.75, 'duration': 0.25, 'name': 'G3', 'pitch': 55.0},\n",
              "  {'absolute_offset': 19.0, 'duration': 0.25, 'name': 'G3', 'pitch': 55.0},\n",
              "  {'absolute_offset': 19.25, 'duration': 0.25, 'name': 'G3', 'pitch': 55.0},\n",
              "  {'absolute_offset': Fraction(58, 3),\n",
              "   'duration': 0.25,\n",
              "   'name': 'F3',\n",
              "   'pitch': 53.0},\n",
              "  {'absolute_offset': Fraction(59, 3),\n",
              "   'duration': 0.25,\n",
              "   'name': 'C4',\n",
              "   'pitch': 60.0},\n",
              "  {'absolute_offset': 19.75, 'duration': 0.25, 'name': 'G4', 'pitch': 67.0},\n",
              "  {'absolute_offset': 20.0, 'duration': 0.25, 'name': 'E-4', 'pitch': 63.0},\n",
              "  {'absolute_offset': 20.25, 'duration': 0.25, 'name': 'G4', 'pitch': 67.0},\n",
              "  {'absolute_offset': Fraction(61, 3),\n",
              "   'duration': 0.25,\n",
              "   'name': 'C4',\n",
              "   'pitch': 60.0},\n",
              "  {'absolute_offset': 20.5, 'duration': 0.25, 'name': 'F4', 'pitch': 65.0},\n",
              "  {'absolute_offset': 20.75, 'duration': 0.25, 'name': 'C4', 'pitch': 60.0},\n",
              "  {'absolute_offset': 21.0, 'duration': 0.25, 'name': 'C4', 'pitch': 60.0},\n",
              "  {'absolute_offset': 21.25, 'duration': 0.25, 'name': 'B-3', 'pitch': 58.0},\n",
              "  {'absolute_offset': 21.5,\n",
              "   'duration': Fraction(1, 3),\n",
              "   'name': 'B-3',\n",
              "   'pitch': 58.0},\n",
              "  {'absolute_offset': 21.75, 'duration': 0.25, 'name': 'E-4', 'pitch': 63.0},\n",
              "  {'absolute_offset': 22.0, 'duration': 0.25, 'name': 'G4', 'pitch': 67.0},\n",
              "  {'absolute_offset': 22.25, 'duration': 0.25, 'name': 'B-3', 'pitch': 58.0},\n",
              "  {'absolute_offset': Fraction(68, 3),\n",
              "   'duration': 0.25,\n",
              "   'name': 'G3',\n",
              "   'pitch': 55.0},\n",
              "  {'absolute_offset': 22.75, 'duration': 0.25, 'name': 'G3', 'pitch': 55.0},\n",
              "  {'absolute_offset': 23.0, 'duration': 0.25, 'name': 'G#3', 'pitch': 56.0},\n",
              "  {'absolute_offset': 23.25, 'duration': 0.25, 'name': 'G#3', 'pitch': 56.0},\n",
              "  {'absolute_offset': Fraction(70, 3),\n",
              "   'duration': 1.0,\n",
              "   'name': 'E-4',\n",
              "   'pitch': 63.0},\n",
              "  {'absolute_offset': 23.5, 'duration': 0.25, 'name': 'G4', 'pitch': 67.0},\n",
              "  {'absolute_offset': 23.75, 'duration': 0.25, 'name': 'E-5', 'pitch': 75.0},\n",
              "  {'absolute_offset': 24.0, 'duration': 0.25, 'name': 'E-5', 'pitch': 75.0},\n",
              "  {'absolute_offset': 24.25, 'duration': 0.25, 'name': 'E-5', 'pitch': 75.0},\n",
              "  {'absolute_offset': Fraction(73, 3),\n",
              "   'duration': Fraction(2, 3),\n",
              "   'name': 'B-1',\n",
              "   'pitch': 34.0},\n",
              "  {'absolute_offset': 24.5,\n",
              "   'duration': Fraction(1, 3),\n",
              "   'name': 'F3',\n",
              "   'pitch': 53.0},\n",
              "  {'absolute_offset': Fraction(74, 3),\n",
              "   'duration': Fraction(1, 3),\n",
              "   'name': 'D4',\n",
              "   'pitch': 62.0},\n",
              "  {'absolute_offset': 24.75,\n",
              "   'duration': Fraction(2, 3),\n",
              "   'name': 'G4',\n",
              "   'pitch': 67.0},\n",
              "  {'absolute_offset': 25.0, 'duration': 0.25, 'name': 'F3', 'pitch': 53.0},\n",
              "  {'absolute_offset': 25.25,\n",
              "   'duration': Fraction(1, 3),\n",
              "   'name': 'F3',\n",
              "   'pitch': 53.0},\n",
              "  {'absolute_offset': Fraction(76, 3),\n",
              "   'duration': 0.5,\n",
              "   'name': 'B-3',\n",
              "   'pitch': 58.0},\n",
              "  {'absolute_offset': Fraction(77, 3),\n",
              "   'duration': 0.25,\n",
              "   'name': 'F3',\n",
              "   'pitch': 53.0},\n",
              "  {'absolute_offset': 25.75, 'duration': 0.25, 'name': 'F3', 'pitch': 53.0},\n",
              "  {'absolute_offset': 26.0, 'duration': 0.25, 'name': 'F3', 'pitch': 53.0},\n",
              "  {'absolute_offset': 26.25, 'duration': 0.25, 'name': 'D4', 'pitch': 62.0},\n",
              "  {'absolute_offset': Fraction(79, 3),\n",
              "   'duration': 0.25,\n",
              "   'name': 'F3',\n",
              "   'pitch': 53.0},\n",
              "  {'absolute_offset': 26.5, 'duration': 0.25, 'name': 'F3', 'pitch': 53.0},\n",
              "  {'absolute_offset': Fraction(80, 3),\n",
              "   'duration': 0.75,\n",
              "   'name': 'G2',\n",
              "   'pitch': 43.0},\n",
              "  {'absolute_offset': 26.75,\n",
              "   'duration': Fraction(1, 3),\n",
              "   'name': 'G3',\n",
              "   'pitch': 55.0},\n",
              "  {'absolute_offset': 27.0, 'duration': 0.25, 'name': 'D4', 'pitch': 62.0},\n",
              "  {'absolute_offset': 27.25, 'duration': 0.25, 'name': 'D4', 'pitch': 62.0},\n",
              "  {'absolute_offset': 27.5,\n",
              "   'duration': Fraction(1, 3),\n",
              "   'name': 'C4',\n",
              "   'pitch': 60.0},\n",
              "  {'absolute_offset': Fraction(83, 3),\n",
              "   'duration': Fraction(1, 3),\n",
              "   'name': 'G4',\n",
              "   'pitch': 67.0},\n",
              "  {'absolute_offset': 27.75, 'duration': 0.25, 'name': 'D5', 'pitch': 74.0},\n",
              "  {'absolute_offset': 28.0, 'duration': 0.5, 'name': 'C5', 'pitch': 72.0},\n",
              "  {'absolute_offset': 28.25, 'duration': 0.25, 'name': 'C4', 'pitch': 60.0},\n",
              "  {'absolute_offset': Fraction(85, 3),\n",
              "   'duration': 0.25,\n",
              "   'name': 'E-4',\n",
              "   'pitch': 63.0},\n",
              "  {'absolute_offset': 28.5, 'duration': 0.25, 'name': 'A4', 'pitch': 69.0},\n",
              "  {'absolute_offset': Fraction(86, 3),\n",
              "   'duration': 0.25,\n",
              "   'name': 'E-4',\n",
              "   'pitch': 63.0},\n",
              "  {'absolute_offset': 28.75, 'duration': 0.25, 'name': 'C5', 'pitch': 72.0},\n",
              "  {'absolute_offset': 29.0,\n",
              "   'duration': Fraction(1, 3),\n",
              "   'name': 'F3',\n",
              "   'pitch': 53.0},\n",
              "  {'absolute_offset': 29.25, 'duration': 0.25, 'name': 'D4', 'pitch': 62.0},\n",
              "  {'absolute_offset': Fraction(88, 3),\n",
              "   'duration': 0.25,\n",
              "   'name': 'F3',\n",
              "   'pitch': 53.0},\n",
              "  {'absolute_offset': 29.5, 'duration': 0.25, 'name': 'F3', 'pitch': 53.0},\n",
              "  {'absolute_offset': Fraction(89, 3),\n",
              "   'duration': 0.75,\n",
              "   'name': 'G2',\n",
              "   'pitch': 43.0},\n",
              "  {'absolute_offset': 29.75, 'duration': 0.25, 'name': 'G3', 'pitch': 55.0},\n",
              "  {'absolute_offset': 30.0,\n",
              "   'duration': Fraction(1, 3),\n",
              "   'name': 'D4',\n",
              "   'pitch': 62.0},\n",
              "  {'absolute_offset': 30.25, 'duration': 0.5, 'name': 'G4', 'pitch': 67.0},\n",
              "  {'absolute_offset': Fraction(91, 3),\n",
              "   'duration': Fraction(1, 3),\n",
              "   'name': 'C3',\n",
              "   'pitch': 48.0},\n",
              "  {'absolute_offset': 30.5, 'duration': 0.25, 'name': 'G3', 'pitch': 55.0},\n",
              "  {'absolute_offset': 30.75, 'duration': 0.25, 'name': 'G3', 'pitch': 55.0},\n",
              "  {'absolute_offset': 31.0, 'duration': 0.25, 'name': 'G3', 'pitch': 55.0},\n",
              "  {'absolute_offset': 31.25, 'duration': 0.25, 'name': 'G#3', 'pitch': 56.0},\n",
              "  {'absolute_offset': Fraction(94, 3),\n",
              "   'duration': 0.25,\n",
              "   'name': 'C4',\n",
              "   'pitch': 60.0},\n",
              "  {'absolute_offset': 31.5, 'duration': 0.25, 'name': 'B-3', 'pitch': 58.0},\n",
              "  {'absolute_offset': Fraction(95, 3),\n",
              "   'duration': 0.25,\n",
              "   'name': 'G3',\n",
              "   'pitch': 55.0},\n",
              "  {'absolute_offset': 31.75, 'duration': 0.25, 'name': 'F3', 'pitch': 53.0},\n",
              "  {'absolute_offset': 32.0, 'duration': 0.25, 'name': 'G3', 'pitch': 55.0},\n",
              "  {'absolute_offset': 32.25, 'duration': 0.25, 'name': 'G3', 'pitch': 55.0},\n",
              "  {'absolute_offset': Fraction(97, 3),\n",
              "   'duration': 0.25,\n",
              "   'name': 'G3',\n",
              "   'pitch': 55.0},\n",
              "  {'absolute_offset': 32.5, 'duration': 0.25, 'name': 'F3', 'pitch': 53.0},\n",
              "  {'absolute_offset': 32.75, 'duration': 0.25, 'name': 'C4', 'pitch': 60.0},\n",
              "  {'absolute_offset': 33.0, 'duration': 0.25, 'name': 'G4', 'pitch': 67.0},\n",
              "  {'absolute_offset': 33.25, 'duration': 0.25, 'name': 'C4', 'pitch': 60.0},\n",
              "  {'absolute_offset': 33.5, 'duration': 0.25, 'name': 'C4', 'pitch': 60.0},\n",
              "  {'absolute_offset': 33.75, 'duration': 0.25, 'name': 'C4', 'pitch': 60.0},\n",
              "  {'absolute_offset': 34.0, 'duration': 0.25, 'name': 'C4', 'pitch': 60.0},\n",
              "  {'absolute_offset': 34.25, 'duration': 0.25, 'name': 'B-3', 'pitch': 58.0},\n",
              "  {'absolute_offset': Fraction(103, 3),\n",
              "   'duration': 0.25,\n",
              "   'name': 'B-3',\n",
              "   'pitch': 58.0},\n",
              "  {'absolute_offset': Fraction(104, 3),\n",
              "   'duration': 0.25,\n",
              "   'name': 'B-3',\n",
              "   'pitch': 58.0},\n",
              "  {'absolute_offset': 34.75,\n",
              "   'duration': Fraction(1, 3),\n",
              "   'name': 'E-2',\n",
              "   'pitch': 39.0},\n",
              "  {'absolute_offset': 35.0, 'duration': 0.25, 'name': 'G4', 'pitch': 67.0},\n",
              "  {'absolute_offset': 35.25,\n",
              "   'duration': Fraction(1, 3),\n",
              "   'name': 'D2',\n",
              "   'pitch': 38.0},\n",
              "  {'absolute_offset': 35.5, 'duration': 0.25, 'name': 'D3', 'pitch': 50.0},\n",
              "  {'absolute_offset': 35.75,\n",
              "   'duration': Fraction(1, 3),\n",
              "   'name': 'C3',\n",
              "   'pitch': 48.0},\n",
              "  {'absolute_offset': 36.0,\n",
              "   'duration': Fraction(1, 3),\n",
              "   'name': 'C2',\n",
              "   'pitch': 36.0},\n",
              "  {'absolute_offset': 36.25, 'duration': 0.25, 'name': 'C3', 'pitch': 48.0},\n",
              "  {'absolute_offset': Fraction(109, 3),\n",
              "   'duration': Fraction(1, 3),\n",
              "   'name': 'G#4',\n",
              "   'pitch': 68.0},\n",
              "  {'absolute_offset': 36.5, 'duration': 0.25, 'name': 'F3', 'pitch': 53.0},\n",
              "  {'absolute_offset': Fraction(110, 3),\n",
              "   'duration': 0.25,\n",
              "   'name': 'C4',\n",
              "   'pitch': 60.0},\n",
              "  {'absolute_offset': 36.75,\n",
              "   'duration': Fraction(1, 3),\n",
              "   'name': 'G#4',\n",
              "   'pitch': 68.0},\n",
              "  {'absolute_offset': 37.0, 'duration': 0.25, 'name': 'D4', 'pitch': 62.0},\n",
              "  {'absolute_offset': Fraction(112, 3),\n",
              "   'duration': Fraction(1, 3),\n",
              "   'name': 'B-2',\n",
              "   'pitch': 46.0},\n",
              "  {'absolute_offset': Fraction(113, 3),\n",
              "   'duration': 0.25,\n",
              "   'name': 'F4',\n",
              "   'pitch': 65.0},\n",
              "  {'absolute_offset': 37.75, 'duration': 0.25, 'name': 'B-1', 'pitch': 34.0},\n",
              "  {'absolute_offset': 38.0, 'duration': 0.25, 'name': 'E-3', 'pitch': 51.0},\n",
              "  {'absolute_offset': 38.25, 'duration': 0.25, 'name': 'B-3', 'pitch': 58.0},\n",
              "  {'absolute_offset': Fraction(115, 3),\n",
              "   'duration': 0.25,\n",
              "   'name': 'B-3',\n",
              "   'pitch': 58.0},\n",
              "  {'absolute_offset': 38.75,\n",
              "   'duration': Fraction(1, 3),\n",
              "   'name': 'C3',\n",
              "   'pitch': 48.0},\n",
              "  {'absolute_offset': 39.0, 'duration': 0.25, 'name': 'D4', 'pitch': 62.0},\n",
              "  {'absolute_offset': Fraction(118, 3),\n",
              "   'duration': 0.25,\n",
              "   'name': 'F2',\n",
              "   'pitch': 41.0},\n",
              "  {'absolute_offset': 39.5, 'duration': 0.25, 'name': 'F3', 'pitch': 53.0},\n",
              "  {'absolute_offset': Fraction(121, 3),\n",
              "   'duration': 0.25,\n",
              "   'name': 'C#4',\n",
              "   'pitch': 61.0}],\n",
              " [{'absolute_offset': 42.5, 'duration': 0.25, 'name': 'E4', 'pitch': 64.0}],\n",
              " [{'absolute_offset': 47.75, 'duration': 0.25, 'name': 'C5', 'pitch': 72.0}],\n",
              " [{'absolute_offset': 51.5, 'duration': 0.25, 'name': 'F5', 'pitch': 77.0},\n",
              "  {'absolute_offset': Fraction(155, 3),\n",
              "   'duration': Fraction(1, 3),\n",
              "   'name': 'G#4',\n",
              "   'pitch': 68.0},\n",
              "  {'absolute_offset': 51.75, 'duration': 0.25, 'name': 'E-4', 'pitch': 63.0}],\n",
              " [{'absolute_offset': 55.75, 'duration': 0.25, 'name': 'F4', 'pitch': 65.0},\n",
              "  {'absolute_offset': 56.0, 'duration': 0.25, 'name': 'A3', 'pitch': 57.0},\n",
              "  {'absolute_offset': 56.25, 'duration': 0.25, 'name': 'B3', 'pitch': 59.0},\n",
              "  {'absolute_offset': Fraction(170, 3),\n",
              "   'duration': 0.25,\n",
              "   'name': 'F4',\n",
              "   'pitch': 65.0},\n",
              "  {'absolute_offset': 56.75, 'duration': 0.25, 'name': 'A3', 'pitch': 57.0},\n",
              "  {'absolute_offset': 57.0, 'duration': 0.25, 'name': 'D4', 'pitch': 62.0},\n",
              "  {'absolute_offset': 57.25, 'duration': 0.25, 'name': 'C4', 'pitch': 60.0},\n",
              "  {'absolute_offset': Fraction(172, 3),\n",
              "   'duration': 0.25,\n",
              "   'name': 'F4',\n",
              "   'pitch': 65.0},\n",
              "  {'absolute_offset': 57.5, 'duration': 0.25, 'name': 'A3', 'pitch': 57.0},\n",
              "  {'absolute_offset': Fraction(173, 3),\n",
              "   'duration': 0.25,\n",
              "   'name': 'B-3',\n",
              "   'pitch': 58.0},\n",
              "  {'absolute_offset': 57.75, 'duration': 0.25, 'name': 'B3', 'pitch': 59.0},\n",
              "  {'absolute_offset': 58.0, 'duration': 0.25, 'name': 'D4', 'pitch': 62.0},\n",
              "  {'absolute_offset': 58.25, 'duration': 0.25, 'name': 'B3', 'pitch': 59.0},\n",
              "  {'absolute_offset': Fraction(175, 3),\n",
              "   'duration': 0.25,\n",
              "   'name': 'C4',\n",
              "   'pitch': 60.0},\n",
              "  {'absolute_offset': 58.5, 'duration': 0.25, 'name': 'C#4', 'pitch': 61.0},\n",
              "  {'absolute_offset': Fraction(176, 3),\n",
              "   'duration': 0.25,\n",
              "   'name': 'D4',\n",
              "   'pitch': 62.0},\n",
              "  {'absolute_offset': 58.75, 'duration': 1.0, 'name': 'C4', 'pitch': 60.0}],\n",
              " [{'absolute_offset': 64.0,\n",
              "   'duration': Fraction(2, 3),\n",
              "   'name': 'D5',\n",
              "   'pitch': 74.0}],\n",
              " [{'absolute_offset': 67.0, 'duration': 0.25, 'name': 'F4', 'pitch': 65.0}],\n",
              " [{'absolute_offset': 77.25, 'duration': 0.25, 'name': 'B-3', 'pitch': 58.0},\n",
              "  {'absolute_offset': 77.5, 'duration': 0.25, 'name': 'D3', 'pitch': 50.0},\n",
              "  {'absolute_offset': Fraction(233, 3),\n",
              "   'duration': 0.25,\n",
              "   'name': 'G3',\n",
              "   'pitch': 55.0},\n",
              "  {'absolute_offset': 78.0, 'duration': 0.25, 'name': 'C3', 'pitch': 48.0},\n",
              "  {'absolute_offset': 79.0, 'duration': 0.75, 'name': 'D4', 'pitch': 62.0},\n",
              "  {'absolute_offset': Fraction(238, 3),\n",
              "   'duration': 0.25,\n",
              "   'name': 'G4',\n",
              "   'pitch': 67.0},\n",
              "  {'absolute_offset': 79.5,\n",
              "   'duration': Fraction(1, 3),\n",
              "   'name': 'G2',\n",
              "   'pitch': 43.0},\n",
              "  {'absolute_offset': Fraction(239, 3),\n",
              "   'duration': 0.25,\n",
              "   'name': 'D3',\n",
              "   'pitch': 50.0},\n",
              "  {'absolute_offset': 79.75, 'duration': 0.25, 'name': 'B-3', 'pitch': 58.0},\n",
              "  {'absolute_offset': 80.0, 'duration': 0.25, 'name': 'E-3', 'pitch': 51.0},\n",
              "  {'absolute_offset': 80.25, 'duration': 0.25, 'name': 'E-3', 'pitch': 51.0},\n",
              "  {'absolute_offset': Fraction(241, 3),\n",
              "   'duration': 0.25,\n",
              "   'name': 'E-3',\n",
              "   'pitch': 51.0},\n",
              "  {'absolute_offset': 80.5, 'duration': 0.25, 'name': 'B-3', 'pitch': 58.0},\n",
              "  {'absolute_offset': Fraction(242, 3),\n",
              "   'duration': 0.25,\n",
              "   'name': 'C3',\n",
              "   'pitch': 48.0},\n",
              "  {'absolute_offset': 80.75, 'duration': 0.25, 'name': 'C5', 'pitch': 72.0},\n",
              "  {'absolute_offset': 81.0, 'duration': 0.25, 'name': 'G2', 'pitch': 43.0},\n",
              "  {'absolute_offset': 81.25,\n",
              "   'duration': Fraction(1, 3),\n",
              "   'name': 'G4',\n",
              "   'pitch': 67.0},\n",
              "  {'absolute_offset': Fraction(244, 3),\n",
              "   'duration': 0.25,\n",
              "   'name': 'C3',\n",
              "   'pitch': 48.0},\n",
              "  {'absolute_offset': 81.5, 'duration': 0.25, 'name': 'G3', 'pitch': 55.0},\n",
              "  {'absolute_offset': 82.0, 'duration': 0.25, 'name': 'G4', 'pitch': 67.0},\n",
              "  {'absolute_offset': Fraction(247, 3),\n",
              "   'duration': 0.25,\n",
              "   'name': 'G4',\n",
              "   'pitch': 67.0},\n",
              "  {'absolute_offset': 83.25, 'duration': 0.75, 'name': 'B-2', 'pitch': 46.0},\n",
              "  {'absolute_offset': 83.5, 'duration': 0.25, 'name': 'B-3', 'pitch': 58.0},\n",
              "  {'absolute_offset': 83.75, 'duration': 0.25, 'name': 'B-3', 'pitch': 58.0},\n",
              "  {'absolute_offset': 84.0, 'duration': 0.25, 'name': 'B-2', 'pitch': 46.0},\n",
              "  {'absolute_offset': 84.25, 'duration': 0.25, 'name': 'B-4', 'pitch': 70.0},\n",
              "  {'absolute_offset': Fraction(254, 3),\n",
              "   'duration': 0.25,\n",
              "   'name': 'D5',\n",
              "   'pitch': 74.0},\n",
              "  {'absolute_offset': 84.75,\n",
              "   'duration': Fraction(1, 3),\n",
              "   'name': 'G3',\n",
              "   'pitch': 55.0},\n",
              "  {'absolute_offset': 85.0, 'duration': 0.25, 'name': 'G4', 'pitch': 67.0},\n",
              "  {'absolute_offset': 85.25, 'duration': 0.25, 'name': 'D5', 'pitch': 74.0},\n",
              "  {'absolute_offset': Fraction(256, 3),\n",
              "   'duration': 0.25,\n",
              "   'name': 'C5',\n",
              "   'pitch': 72.0},\n",
              "  {'absolute_offset': 85.5, 'duration': 0.75, 'name': 'F3', 'pitch': 53.0},\n",
              "  {'absolute_offset': Fraction(257, 3),\n",
              "   'duration': 0.25,\n",
              "   'name': 'D4',\n",
              "   'pitch': 62.0},\n",
              "  {'absolute_offset': 85.75, 'duration': 0.25, 'name': 'B-4', 'pitch': 70.0},\n",
              "  {'absolute_offset': 86.0, 'duration': 0.25, 'name': 'G#4', 'pitch': 68.0},\n",
              "  {'absolute_offset': 86.25, 'duration': 0.25, 'name': 'G4', 'pitch': 67.0},\n",
              "  {'absolute_offset': Fraction(259, 3),\n",
              "   'duration': Fraction(2, 3),\n",
              "   'name': 'C4',\n",
              "   'pitch': 60.0},\n",
              "  {'absolute_offset': 86.5, 'duration': 0.5, 'name': 'E4', 'pitch': 64.0},\n",
              "  {'absolute_offset': Fraction(260, 3),\n",
              "   'duration': 0.25,\n",
              "   'name': 'B-4',\n",
              "   'pitch': 70.0},\n",
              "  {'absolute_offset': 86.75, 'duration': 0.25, 'name': 'G#4', 'pitch': 68.0},\n",
              "  {'absolute_offset': 87.0, 'duration': 0.25, 'name': 'G4', 'pitch': 67.0},\n",
              "  {'absolute_offset': 87.25, 'duration': 0.25, 'name': 'C4', 'pitch': 60.0},\n",
              "  {'absolute_offset': 87.5, 'duration': 0.25, 'name': 'C3', 'pitch': 48.0},\n",
              "  {'absolute_offset': Fraction(263, 3),\n",
              "   'duration': 0.25,\n",
              "   'name': 'C3',\n",
              "   'pitch': 48.0},\n",
              "  {'absolute_offset': 87.75, 'duration': 0.25, 'name': 'D4', 'pitch': 62.0},\n",
              "  {'absolute_offset': 88.0, 'duration': 0.25, 'name': 'D4', 'pitch': 62.0},\n",
              "  {'absolute_offset': Fraction(265, 3),\n",
              "   'duration': 0.25,\n",
              "   'name': 'F4',\n",
              "   'pitch': 65.0},\n",
              "  {'absolute_offset': 88.75, 'duration': 0.5, 'name': 'F4', 'pitch': 65.0},\n",
              "  {'absolute_offset': 89.25, 'duration': 1.25, 'name': 'F4', 'pitch': 65.0}]]"
            ]
          },
          "metadata": {
            "tags": []
          },
          "execution_count": 117
        }
      ]
    },
    {
      "cell_type": "code",
      "metadata": {
        "id": "5t7KUZkMkfHy",
        "outputId": "9da1a163-df67-40e5-f590-2b677b9e2f1f",
        "colab": {
          "base_uri": "https://localhost:8080/"
        }
      },
      "source": [
        "len(track_to_divide)"
      ],
      "id": "5t7KUZkMkfHy",
      "execution_count": 118,
      "outputs": [
        {
          "output_type": "execute_result",
          "data": {
            "text/plain": [
              "255"
            ]
          },
          "metadata": {
            "tags": []
          },
          "execution_count": 118
        }
      ]
    },
    {
      "cell_type": "code",
      "metadata": {
        "id": "zNWb4hXwtct2",
        "outputId": "8c976a59-af3f-4c83-e478-d64da2f76045",
        "colab": {
          "base_uri": "https://localhost:8080/"
        }
      },
      "source": [
        "len(divide_track(track_to_divide))"
      ],
      "id": "zNWb4hXwtct2",
      "execution_count": 128,
      "outputs": [
        {
          "output_type": "execute_result",
          "data": {
            "text/plain": [
              "9"
            ]
          },
          "metadata": {
            "tags": []
          },
          "execution_count": 128
        }
      ]
    },
    {
      "cell_type": "code",
      "metadata": {
        "id": "6PcFgTI7cr5Y",
        "outputId": "13a03bde-cff3-4be4-e628-c81483e5b29a",
        "colab": {
          "base_uri": "https://localhost:8080/"
        }
      },
      "source": [
        "np.sum([len(track) for track in divide_track(track_to_divide)])"
      ],
      "id": "6PcFgTI7cr5Y",
      "execution_count": 129,
      "outputs": [
        {
          "output_type": "execute_result",
          "data": {
            "text/plain": [
              "255"
            ]
          },
          "metadata": {
            "tags": []
          },
          "execution_count": 129
        }
      ]
    },
    {
      "cell_type": "markdown",
      "metadata": {
        "id": "eUhIEyDEcr1p"
      },
      "source": [
        "Now we can apply this to all of the tracks: "
      ],
      "id": "eUhIEyDEcr1p"
    },
    {
      "cell_type": "code",
      "metadata": {
        "id": "u0MbTQNzpGcQ",
        "outputId": "2fdaa506-62e4-4dfe-887f-f7a2b3af71e8",
        "colab": {
          "base_uri": "https://localhost:8080/"
        }
      },
      "source": [
        "len(tracks)"
      ],
      "id": "u0MbTQNzpGcQ",
      "execution_count": 130,
      "outputs": [
        {
          "output_type": "execute_result",
          "data": {
            "text/plain": [
              "1145"
            ]
          },
          "metadata": {
            "tags": []
          },
          "execution_count": 130
        }
      ]
    },
    {
      "cell_type": "code",
      "metadata": {
        "id": "1A9bKXLgcryD"
      },
      "source": [
        "divided_tracks = []\n",
        "\n",
        "for track in tracks:\n",
        "  if len(track) > 10:\n",
        "    divided = divide_track(track)\n",
        "    divided_tracks += divided\n"
      ],
      "id": "1A9bKXLgcryD",
      "execution_count": 131,
      "outputs": []
    },
    {
      "cell_type": "code",
      "metadata": {
        "id": "o94ff75fpqnN",
        "outputId": "3b81e253-834c-4dee-98e1-2a18cec5ead1",
        "colab": {
          "base_uri": "https://localhost:8080/"
        }
      },
      "source": [
        "len(divided_tracks)"
      ],
      "id": "o94ff75fpqnN",
      "execution_count": 132,
      "outputs": [
        {
          "output_type": "execute_result",
          "data": {
            "text/plain": [
              "963"
            ]
          },
          "metadata": {
            "tags": []
          },
          "execution_count": 132
        }
      ]
    },
    {
      "cell_type": "code",
      "metadata": {
        "id": "B_0CDmfZuDmD"
      },
      "source": [
        "filtered_tracks = list(filter(lambda track: len(track) > 10, divided_tracks))"
      ],
      "id": "B_0CDmfZuDmD",
      "execution_count": 145,
      "outputs": []
    },
    {
      "cell_type": "code",
      "metadata": {
        "id": "g2i5evdXuamZ",
        "outputId": "9ea1aa35-e674-4342-d5df-dbb84c7fca9b",
        "colab": {
          "base_uri": "https://localhost:8080/"
        }
      },
      "source": [
        "len(filtered_tracks)"
      ],
      "id": "g2i5evdXuamZ",
      "execution_count": 146,
      "outputs": [
        {
          "output_type": "execute_result",
          "data": {
            "text/plain": [
              "772"
            ]
          },
          "metadata": {
            "tags": []
          },
          "execution_count": 146
        }
      ]
    },
    {
      "cell_type": "markdown",
      "metadata": {
        "id": "B4FdM02Nqvp4"
      },
      "source": [
        "Let's see the differences now with these tracks: "
      ],
      "id": "B4FdM02Nqvp4"
    },
    {
      "cell_type": "code",
      "metadata": {
        "id": "hk9f5YIDcrs1"
      },
      "source": [
        "tracks_info = []\n",
        "for i, track in enumerate(filtered_tracks):\n",
        "  pitches = [note['pitch'] for note in track]\n",
        "  max_pitch_index = np.argmax(pitches)\n",
        "  min_pitch_index = np.argmin(pitches)\n",
        "  max_pitch = pitches[max_pitch_index]\n",
        "  min_pitch = pitches[min_pitch_index]\n",
        "  pitch_range = max_pitch - min_pitch\n",
        "  track_info = {\n",
        "      \"track_id\": i,\n",
        "      \"number_of_notes\": len(track), \n",
        "      \"highest_pitch\": max_pitch,\n",
        "      \"highest_pitch_note\": track[max_pitch_index]['name'],\n",
        "      \"lowest_pitch\": min_pitch, \n",
        "      \"lowest_pitch_note\": track[min_pitch_index]['name'],\n",
        "      \"pitch_range\": pitch_range, \n",
        "      \"notes\": track\n",
        "      }\n",
        "  tracks_info.append(track_info)"
      ],
      "id": "hk9f5YIDcrs1",
      "execution_count": 147,
      "outputs": []
    },
    {
      "cell_type": "code",
      "metadata": {
        "id": "L9QXRDnRq19r"
      },
      "source": [
        "tracks_filtered_df = pd.DataFrame(tracks_info)"
      ],
      "id": "L9QXRDnRq19r",
      "execution_count": 148,
      "outputs": []
    },
    {
      "cell_type": "code",
      "metadata": {
        "id": "vAMJ_R6dq-U4",
        "outputId": "f3a40ce9-adc2-4049-c839-edce393a265f",
        "colab": {
          "base_uri": "https://localhost:8080/",
          "height": 265
        }
      },
      "source": [
        "plt.hist(tracks_divided_df['number_of_notes']);"
      ],
      "id": "vAMJ_R6dq-U4",
      "execution_count": 149,
      "outputs": [
        {
          "output_type": "display_data",
          "data": {
            "image/png": "[encoded data removed]",
            "text/plain": [
              "<Figure size 432x288 with 1 Axes>"
            ]
          },
          "metadata": {
            "tags": [],
            "needs_background": "light"
          }
        }
      ]
    },
    {
      "cell_type": "code",
      "metadata": {
        "id": "qI4E0SJDrOFF",
        "outputId": "3682313a-c95b-4d4d-f392-54609962714c",
        "colab": {
          "base_uri": "https://localhost:8080/",
          "height": 368
        }
      },
      "source": [
        "alt.Chart(tracks_filtered_df[['track_id', 'number_of_notes']]).mark_circle(size=60).encode(\n",
        "    x='track_id',\n",
        "    y='number_of_notes',\n",
        "    color='number_of_notes',\n",
        "    tooltip=['track_id', 'number_of_notes']\n",
        ").interactive()"
      ],
      "id": "qI4E0SJDrOFF",
      "execution_count": 150,
      "outputs": [
        {
          "output_type": "execute_result",
          "data": {
            "text/plain": [
              "alt.Chart(...)"
            ],
            "text/html": [
              "\n",
              "<div id=\"altair-viz-3ed3f4db27e44f79930715f640c12d07\"></div>\n",
              "<script type=\"text/javascript\">\n",
              "  (function(spec, embedOpt){\n",
              "    let outputDiv = document.currentScript.previousElementSibling;\n",
              "    if (outputDiv.id !== \"altair-viz-3ed3f4db27e44f79930715f640c12d07\") {\n",
              "      outputDiv = document.getElementById(\"altair-viz-3ed3f4db27e44f79930715f640c12d07\");\n",
              "    }\n",
              "    const paths = {\n",
              "      \"vega\": \"https://cdn.jsdelivr.net/npm//vega@5?noext\",\n",
              "      \"vega-lib\": \"https://cdn.jsdelivr.net/npm//vega-lib?noext\",\n",
              "      \"vega-lite\": \"https://cdn.jsdelivr.net/npm//vega-lite@4.8.1?noext\",\n",
              "      \"vega-embed\": \"https://cdn.jsdelivr.net/npm//vega-embed@6?noext\",\n",
              "    };\n",
              "\n",
              "    function loadScript(lib) {\n",
              "      return new Promise(function(resolve, reject) {\n",
              "        var s = document.createElement('script');\n",
              "        s.src = paths[lib];\n",
              "        s.async = true;\n",
              "        s.onload = () => resolve(paths[lib]);\n",
              "        s.onerror = () => reject(`Error loading script: ${paths[lib]}`);\n",
              "        document.getElementsByTagName(\"head\")[0].appendChild(s);\n",
              "      });\n",
              "    }\n",
              "\n",
              "    function showError(err) {\n",
              "      outputDiv.innerHTML = `<div class=\"error\" style=\"color:red;\">${err}</div>`;\n",
              "      throw err;\n",
              "    }\n",
              "\n",
              "    function displayChart(vegaEmbed) {\n",
              "      vegaEmbed(outputDiv, spec, embedOpt)\n",
              "        .catch(err => showError(`Javascript Error: ${err.message}<br>This usually means there's a typo in your chart specification. See the javascript console for the full traceback.`));\n",
              "    }\n",
              "\n",
              "    if(typeof define === \"function\" && define.amd) {\n",
              "      requirejs.config({paths});\n",
              "      require([\"vega-embed\"], displayChart, err => showError(`Error loading script: ${err.message}`));\n",
              "    } else if (typeof vegaEmbed === \"function\") {\n",
              "      displayChart(vegaEmbed);\n",
              "    } else {\n",
              "      loadScript(\"vega\")\n",
              "        .then(() => loadScript(\"vega-lite\"))\n",
              "        .then(() => loadScript(\"vega-embed\"))\n",
              "        .catch(showError)\n",
              "        .then(() => displayChart(vegaEmbed));\n",
              "    }\n",
              "  })({\"config\": {\"view\": {\"continuousWidth\": 400, \"continuousHeight\": 300}}, \"data\": {\"name\": \"data-584f4145546ccbdaef26ed4b3a2af4f3\"}, \"mark\": {\"type\": \"circle\", \"size\": 60}, \"encoding\": {\"color\": {\"type\": \"quantitative\", \"field\": \"number_of_notes\"}, \"tooltip\": [{\"type\": \"quantitative\", \"field\": \"track_id\"}, {\"type\": \"quantitative\", \"field\": \"number_of_notes\"}], \"x\": {\"type\": \"quantitative\", \"field\": \"track_id\"}, \"y\": {\"type\": \"quantitative\", \"field\": \"number_of_notes\"}}, \"selection\": {\"selector009\": {\"type\": \"interval\", \"bind\": \"scales\", \"encodings\": [\"x\", \"y\"]}}, \"$schema\": \"https://vega.github.io/schema/vega-lite/v4.8.1.json\", \"datasets\": {\"data-584f4145546ccbdaef26ed4b3a2af4f3\": [{\"track_id\": 0, \"number_of_notes\": 20}, {\"track_id\": 1, \"number_of_notes\": 37}, {\"track_id\": 2, \"number_of_notes\": 30}, {\"track_id\": 3, \"number_of_notes\": 16}, {\"track_id\": 4, \"number_of_notes\": 16}, {\"track_id\": 5, \"number_of_notes\": 27}, {\"track_id\": 6, \"number_of_notes\": 36}, {\"track_id\": 7, \"number_of_notes\": 49}, {\"track_id\": 8, \"number_of_notes\": 37}, {\"track_id\": 9, \"number_of_notes\": 27}, {\"track_id\": 10, \"number_of_notes\": 33}, {\"track_id\": 11, \"number_of_notes\": 36}, {\"track_id\": 12, \"number_of_notes\": 13}, {\"track_id\": 13, \"number_of_notes\": 31}, {\"track_id\": 14, \"number_of_notes\": 25}, {\"track_id\": 15, \"number_of_notes\": 37}, {\"track_id\": 16, \"number_of_notes\": 42}, {\"track_id\": 17, \"number_of_notes\": 71}, {\"track_id\": 18, \"number_of_notes\": 37}, {\"track_id\": 19, \"number_of_notes\": 37}, {\"track_id\": 20, \"number_of_notes\": 11}, {\"track_id\": 21, \"number_of_notes\": 11}, {\"track_id\": 22, \"number_of_notes\": 38}, {\"track_id\": 23, \"number_of_notes\": 32}, {\"track_id\": 24, \"number_of_notes\": 37}, {\"track_id\": 25, \"number_of_notes\": 17}, {\"track_id\": 26, \"number_of_notes\": 41}, {\"track_id\": 27, \"number_of_notes\": 20}, {\"track_id\": 28, \"number_of_notes\": 31}, {\"track_id\": 29, \"number_of_notes\": 24}, {\"track_id\": 30, \"number_of_notes\": 30}, {\"track_id\": 31, \"number_of_notes\": 18}, {\"track_id\": 32, \"number_of_notes\": 31}, {\"track_id\": 33, \"number_of_notes\": 37}, {\"track_id\": 34, \"number_of_notes\": 16}, {\"track_id\": 35, \"number_of_notes\": 17}, {\"track_id\": 36, \"number_of_notes\": 55}, {\"track_id\": 37, \"number_of_notes\": 24}, {\"track_id\": 38, \"number_of_notes\": 37}, {\"track_id\": 39, \"number_of_notes\": 22}, {\"track_id\": 40, \"number_of_notes\": 13}, {\"track_id\": 41, \"number_of_notes\": 23}, {\"track_id\": 42, \"number_of_notes\": 73}, {\"track_id\": 43, \"number_of_notes\": 36}, {\"track_id\": 44, \"number_of_notes\": 15}, {\"track_id\": 45, \"number_of_notes\": 28}, {\"track_id\": 46, \"number_of_notes\": 26}, {\"track_id\": 47, \"number_of_notes\": 37}, {\"track_id\": 48, \"number_of_notes\": 38}, {\"track_id\": 49, \"number_of_notes\": 36}, {\"track_id\": 50, \"number_of_notes\": 20}, {\"track_id\": 51, \"number_of_notes\": 23}, {\"track_id\": 52, \"number_of_notes\": 25}, {\"track_id\": 53, \"number_of_notes\": 37}, {\"track_id\": 54, \"number_of_notes\": 20}, {\"track_id\": 55, \"number_of_notes\": 17}, {\"track_id\": 56, \"number_of_notes\": 32}, {\"track_id\": 57, \"number_of_notes\": 16}, {\"track_id\": 58, \"number_of_notes\": 55}, {\"track_id\": 59, \"number_of_notes\": 37}, {\"track_id\": 60, \"number_of_notes\": 25}, {\"track_id\": 61, \"number_of_notes\": 26}, {\"track_id\": 62, \"number_of_notes\": 21}, {\"track_id\": 63, \"number_of_notes\": 37}, {\"track_id\": 64, \"number_of_notes\": 35}, {\"track_id\": 65, \"number_of_notes\": 29}, {\"track_id\": 66, \"number_of_notes\": 26}, {\"track_id\": 67, \"number_of_notes\": 41}, {\"track_id\": 68, \"number_of_notes\": 20}, {\"track_id\": 69, \"number_of_notes\": 12}, {\"track_id\": 70, \"number_of_notes\": 26}, {\"track_id\": 71, \"number_of_notes\": 26}, {\"track_id\": 72, \"number_of_notes\": 77}, {\"track_id\": 73, \"number_of_notes\": 59}, {\"track_id\": 74, \"number_of_notes\": 16}, {\"track_id\": 75, \"number_of_notes\": 15}, {\"track_id\": 76, \"number_of_notes\": 203}, {\"track_id\": 77, \"number_of_notes\": 203}, {\"track_id\": 78, \"number_of_notes\": 15}, {\"track_id\": 79, \"number_of_notes\": 37}, {\"track_id\": 80, \"number_of_notes\": 22}, {\"track_id\": 81, \"number_of_notes\": 19}, {\"track_id\": 82, \"number_of_notes\": 45}, {\"track_id\": 83, \"number_of_notes\": 17}, {\"track_id\": 84, \"number_of_notes\": 17}, {\"track_id\": 85, \"number_of_notes\": 21}, {\"track_id\": 86, \"number_of_notes\": 17}, {\"track_id\": 87, \"number_of_notes\": 22}, {\"track_id\": 88, \"number_of_notes\": 18}, {\"track_id\": 89, \"number_of_notes\": 37}, {\"track_id\": 90, \"number_of_notes\": 19}, {\"track_id\": 91, \"number_of_notes\": 24}, {\"track_id\": 92, \"number_of_notes\": 37}, {\"track_id\": 93, \"number_of_notes\": 50}, {\"track_id\": 94, \"number_of_notes\": 88}, {\"track_id\": 95, \"number_of_notes\": 23}, {\"track_id\": 96, \"number_of_notes\": 16}, {\"track_id\": 97, \"number_of_notes\": 27}, {\"track_id\": 98, \"number_of_notes\": 16}, {\"track_id\": 99, \"number_of_notes\": 37}, {\"track_id\": 100, \"number_of_notes\": 11}, {\"track_id\": 101, \"number_of_notes\": 24}, {\"track_id\": 102, \"number_of_notes\": 37}, {\"track_id\": 103, \"number_of_notes\": 36}, {\"track_id\": 104, \"number_of_notes\": 84}, {\"track_id\": 105, \"number_of_notes\": 45}, {\"track_id\": 106, \"number_of_notes\": 40}, {\"track_id\": 107, \"number_of_notes\": 28}, {\"track_id\": 108, \"number_of_notes\": 15}, {\"track_id\": 109, \"number_of_notes\": 17}, {\"track_id\": 110, \"number_of_notes\": 35}, {\"track_id\": 111, \"number_of_notes\": 14}, {\"track_id\": 112, \"number_of_notes\": 14}, {\"track_id\": 113, \"number_of_notes\": 14}, {\"track_id\": 114, \"number_of_notes\": 23}, {\"track_id\": 115, \"number_of_notes\": 36}, {\"track_id\": 116, \"number_of_notes\": 22}, {\"track_id\": 117, \"number_of_notes\": 17}, {\"track_id\": 118, \"number_of_notes\": 16}, {\"track_id\": 119, \"number_of_notes\": 15}, {\"track_id\": 120, \"number_of_notes\": 27}, {\"track_id\": 121, \"number_of_notes\": 20}, {\"track_id\": 122, \"number_of_notes\": 16}, {\"track_id\": 123, \"number_of_notes\": 12}, {\"track_id\": 124, \"number_of_notes\": 12}, {\"track_id\": 125, \"number_of_notes\": 25}, {\"track_id\": 126, \"number_of_notes\": 31}, {\"track_id\": 127, \"number_of_notes\": 47}, {\"track_id\": 128, \"number_of_notes\": 59}, {\"track_id\": 129, \"number_of_notes\": 71}, {\"track_id\": 130, \"number_of_notes\": 25}, {\"track_id\": 131, \"number_of_notes\": 37}, {\"track_id\": 132, \"number_of_notes\": 32}, {\"track_id\": 133, \"number_of_notes\": 23}, {\"track_id\": 134, \"number_of_notes\": 15}, {\"track_id\": 135, \"number_of_notes\": 54}, {\"track_id\": 136, \"number_of_notes\": 17}, {\"track_id\": 137, \"number_of_notes\": 28}, {\"track_id\": 138, \"number_of_notes\": 37}, {\"track_id\": 139, \"number_of_notes\": 32}, {\"track_id\": 140, \"number_of_notes\": 36}, {\"track_id\": 141, \"number_of_notes\": 30}, {\"track_id\": 142, \"number_of_notes\": 28}, {\"track_id\": 143, \"number_of_notes\": 34}, {\"track_id\": 144, \"number_of_notes\": 28}, {\"track_id\": 145, \"number_of_notes\": 70}, {\"track_id\": 146, \"number_of_notes\": 37}, {\"track_id\": 147, \"number_of_notes\": 37}, {\"track_id\": 148, \"number_of_notes\": 20}, {\"track_id\": 149, \"number_of_notes\": 30}, {\"track_id\": 150, \"number_of_notes\": 43}, {\"track_id\": 151, \"number_of_notes\": 33}, {\"track_id\": 152, \"number_of_notes\": 31}, {\"track_id\": 153, \"number_of_notes\": 19}, {\"track_id\": 154, \"number_of_notes\": 16}, {\"track_id\": 155, \"number_of_notes\": 28}, {\"track_id\": 156, \"number_of_notes\": 18}, {\"track_id\": 157, \"number_of_notes\": 18}, {\"track_id\": 158, \"number_of_notes\": 11}, {\"track_id\": 159, \"number_of_notes\": 21}, {\"track_id\": 160, \"number_of_notes\": 87}, {\"track_id\": 161, \"number_of_notes\": 37}, {\"track_id\": 162, \"number_of_notes\": 13}, {\"track_id\": 163, \"number_of_notes\": 14}, {\"track_id\": 164, \"number_of_notes\": 33}, {\"track_id\": 165, \"number_of_notes\": 18}, {\"track_id\": 166, \"number_of_notes\": 17}, {\"track_id\": 167, \"number_of_notes\": 37}, {\"track_id\": 168, \"number_of_notes\": 25}, {\"track_id\": 169, \"number_of_notes\": 26}, {\"track_id\": 170, \"number_of_notes\": 34}, {\"track_id\": 171, \"number_of_notes\": 11}, {\"track_id\": 172, \"number_of_notes\": 16}, {\"track_id\": 173, \"number_of_notes\": 30}, {\"track_id\": 174, \"number_of_notes\": 38}, {\"track_id\": 175, \"number_of_notes\": 181}, {\"track_id\": 176, \"number_of_notes\": 17}, {\"track_id\": 177, \"number_of_notes\": 49}, {\"track_id\": 178, \"number_of_notes\": 101}, {\"track_id\": 179, \"number_of_notes\": 15}, {\"track_id\": 180, \"number_of_notes\": 98}, {\"track_id\": 181, \"number_of_notes\": 25}, {\"track_id\": 182, \"number_of_notes\": 31}, {\"track_id\": 183, \"number_of_notes\": 15}, {\"track_id\": 184, \"number_of_notes\": 20}, {\"track_id\": 185, \"number_of_notes\": 32}, {\"track_id\": 186, \"number_of_notes\": 16}, {\"track_id\": 187, \"number_of_notes\": 16}, {\"track_id\": 188, \"number_of_notes\": 17}, {\"track_id\": 189, \"number_of_notes\": 20}, {\"track_id\": 190, \"number_of_notes\": 49}, {\"track_id\": 191, \"number_of_notes\": 21}, {\"track_id\": 192, \"number_of_notes\": 46}, {\"track_id\": 193, \"number_of_notes\": 13}, {\"track_id\": 194, \"number_of_notes\": 23}, {\"track_id\": 195, \"number_of_notes\": 35}, {\"track_id\": 196, \"number_of_notes\": 53}, {\"track_id\": 197, \"number_of_notes\": 55}, {\"track_id\": 198, \"number_of_notes\": 52}, {\"track_id\": 199, \"number_of_notes\": 16}, {\"track_id\": 200, \"number_of_notes\": 16}, {\"track_id\": 201, \"number_of_notes\": 20}, {\"track_id\": 202, \"number_of_notes\": 51}, {\"track_id\": 203, \"number_of_notes\": 34}, {\"track_id\": 204, \"number_of_notes\": 34}, {\"track_id\": 205, \"number_of_notes\": 22}, {\"track_id\": 206, \"number_of_notes\": 36}, {\"track_id\": 207, \"number_of_notes\": 22}, {\"track_id\": 208, \"number_of_notes\": 18}, {\"track_id\": 209, \"number_of_notes\": 46}, {\"track_id\": 210, \"number_of_notes\": 49}, {\"track_id\": 211, \"number_of_notes\": 12}, {\"track_id\": 212, \"number_of_notes\": 16}, {\"track_id\": 213, \"number_of_notes\": 22}, {\"track_id\": 214, \"number_of_notes\": 33}, {\"track_id\": 215, \"number_of_notes\": 37}, {\"track_id\": 216, \"number_of_notes\": 19}, {\"track_id\": 217, \"number_of_notes\": 12}, {\"track_id\": 218, \"number_of_notes\": 36}, {\"track_id\": 219, \"number_of_notes\": 31}, {\"track_id\": 220, \"number_of_notes\": 37}, {\"track_id\": 221, \"number_of_notes\": 14}, {\"track_id\": 222, \"number_of_notes\": 22}, {\"track_id\": 223, \"number_of_notes\": 12}, {\"track_id\": 224, \"number_of_notes\": 51}, {\"track_id\": 225, \"number_of_notes\": 16}, {\"track_id\": 226, \"number_of_notes\": 21}, {\"track_id\": 227, \"number_of_notes\": 29}, {\"track_id\": 228, \"number_of_notes\": 39}, {\"track_id\": 229, \"number_of_notes\": 15}, {\"track_id\": 230, \"number_of_notes\": 36}, {\"track_id\": 231, \"number_of_notes\": 28}, {\"track_id\": 232, \"number_of_notes\": 29}, {\"track_id\": 233, \"number_of_notes\": 37}, {\"track_id\": 234, \"number_of_notes\": 13}, {\"track_id\": 235, \"number_of_notes\": 55}, {\"track_id\": 236, \"number_of_notes\": 28}, {\"track_id\": 237, \"number_of_notes\": 33}, {\"track_id\": 238, \"number_of_notes\": 11}, {\"track_id\": 239, \"number_of_notes\": 37}, {\"track_id\": 240, \"number_of_notes\": 29}, {\"track_id\": 241, \"number_of_notes\": 47}, {\"track_id\": 242, \"number_of_notes\": 32}, {\"track_id\": 243, \"number_of_notes\": 14}, {\"track_id\": 244, \"number_of_notes\": 24}, {\"track_id\": 245, \"number_of_notes\": 52}, {\"track_id\": 246, \"number_of_notes\": 22}, {\"track_id\": 247, \"number_of_notes\": 14}, {\"track_id\": 248, \"number_of_notes\": 33}, {\"track_id\": 249, \"number_of_notes\": 17}, {\"track_id\": 250, \"number_of_notes\": 22}, {\"track_id\": 251, \"number_of_notes\": 20}, {\"track_id\": 252, \"number_of_notes\": 29}, {\"track_id\": 253, \"number_of_notes\": 11}, {\"track_id\": 254, \"number_of_notes\": 29}, {\"track_id\": 255, \"number_of_notes\": 13}, {\"track_id\": 256, \"number_of_notes\": 22}, {\"track_id\": 257, \"number_of_notes\": 32}, {\"track_id\": 258, \"number_of_notes\": 20}, {\"track_id\": 259, \"number_of_notes\": 13}, {\"track_id\": 260, \"number_of_notes\": 58}, {\"track_id\": 261, \"number_of_notes\": 73}, {\"track_id\": 262, \"number_of_notes\": 31}, {\"track_id\": 263, \"number_of_notes\": 37}, {\"track_id\": 264, \"number_of_notes\": 25}, {\"track_id\": 265, \"number_of_notes\": 16}, {\"track_id\": 266, \"number_of_notes\": 37}, {\"track_id\": 267, \"number_of_notes\": 25}, {\"track_id\": 268, \"number_of_notes\": 36}, {\"track_id\": 269, \"number_of_notes\": 27}, {\"track_id\": 270, \"number_of_notes\": 14}, {\"track_id\": 271, \"number_of_notes\": 48}, {\"track_id\": 272, \"number_of_notes\": 13}, {\"track_id\": 273, \"number_of_notes\": 55}, {\"track_id\": 274, \"number_of_notes\": 13}, {\"track_id\": 275, \"number_of_notes\": 12}, {\"track_id\": 276, \"number_of_notes\": 63}, {\"track_id\": 277, \"number_of_notes\": 20}, {\"track_id\": 278, \"number_of_notes\": 14}, {\"track_id\": 279, \"number_of_notes\": 35}, {\"track_id\": 280, \"number_of_notes\": 18}, {\"track_id\": 281, \"number_of_notes\": 37}, {\"track_id\": 282, \"number_of_notes\": 65}, {\"track_id\": 283, \"number_of_notes\": 15}, {\"track_id\": 284, \"number_of_notes\": 12}, {\"track_id\": 285, \"number_of_notes\": 21}, {\"track_id\": 286, \"number_of_notes\": 36}, {\"track_id\": 287, \"number_of_notes\": 13}, {\"track_id\": 288, \"number_of_notes\": 26}, {\"track_id\": 289, \"number_of_notes\": 13}, {\"track_id\": 290, \"number_of_notes\": 18}, {\"track_id\": 291, \"number_of_notes\": 45}, {\"track_id\": 292, \"number_of_notes\": 18}, {\"track_id\": 293, \"number_of_notes\": 16}, {\"track_id\": 294, \"number_of_notes\": 29}, {\"track_id\": 295, \"number_of_notes\": 33}, {\"track_id\": 296, \"number_of_notes\": 30}, {\"track_id\": 297, \"number_of_notes\": 13}, {\"track_id\": 298, \"number_of_notes\": 13}, {\"track_id\": 299, \"number_of_notes\": 18}, {\"track_id\": 300, \"number_of_notes\": 12}, {\"track_id\": 301, \"number_of_notes\": 37}, {\"track_id\": 302, \"number_of_notes\": 59}, {\"track_id\": 303, \"number_of_notes\": 35}, {\"track_id\": 304, \"number_of_notes\": 11}, {\"track_id\": 305, \"number_of_notes\": 37}, {\"track_id\": 306, \"number_of_notes\": 18}, {\"track_id\": 307, \"number_of_notes\": 15}, {\"track_id\": 308, \"number_of_notes\": 16}, {\"track_id\": 309, \"number_of_notes\": 28}, {\"track_id\": 310, \"number_of_notes\": 18}, {\"track_id\": 311, \"number_of_notes\": 24}, {\"track_id\": 312, \"number_of_notes\": 23}, {\"track_id\": 313, \"number_of_notes\": 53}, {\"track_id\": 314, \"number_of_notes\": 31}, {\"track_id\": 315, \"number_of_notes\": 16}, {\"track_id\": 316, \"number_of_notes\": 23}, {\"track_id\": 317, \"number_of_notes\": 15}, {\"track_id\": 318, \"number_of_notes\": 30}, {\"track_id\": 319, \"number_of_notes\": 17}, {\"track_id\": 320, \"number_of_notes\": 28}, {\"track_id\": 321, \"number_of_notes\": 18}, {\"track_id\": 322, \"number_of_notes\": 37}, {\"track_id\": 323, \"number_of_notes\": 20}, {\"track_id\": 324, \"number_of_notes\": 32}, {\"track_id\": 325, \"number_of_notes\": 19}, {\"track_id\": 326, \"number_of_notes\": 45}, {\"track_id\": 327, \"number_of_notes\": 15}, {\"track_id\": 328, \"number_of_notes\": 11}, {\"track_id\": 329, \"number_of_notes\": 11}, {\"track_id\": 330, \"number_of_notes\": 12}, {\"track_id\": 331, \"number_of_notes\": 31}, {\"track_id\": 332, \"number_of_notes\": 31}, {\"track_id\": 333, \"number_of_notes\": 36}, {\"track_id\": 334, \"number_of_notes\": 37}, {\"track_id\": 335, \"number_of_notes\": 32}, {\"track_id\": 336, \"number_of_notes\": 26}, {\"track_id\": 337, \"number_of_notes\": 37}, {\"track_id\": 338, \"number_of_notes\": 14}, {\"track_id\": 339, \"number_of_notes\": 40}, {\"track_id\": 340, \"number_of_notes\": 35}, {\"track_id\": 341, \"number_of_notes\": 14}, {\"track_id\": 342, \"number_of_notes\": 37}, {\"track_id\": 343, \"number_of_notes\": 17}, {\"track_id\": 344, \"number_of_notes\": 32}, {\"track_id\": 345, \"number_of_notes\": 16}, {\"track_id\": 346, \"number_of_notes\": 19}, {\"track_id\": 347, \"number_of_notes\": 63}, {\"track_id\": 348, \"number_of_notes\": 19}, {\"track_id\": 349, \"number_of_notes\": 18}, {\"track_id\": 350, \"number_of_notes\": 29}, {\"track_id\": 351, \"number_of_notes\": 36}, {\"track_id\": 352, \"number_of_notes\": 16}, {\"track_id\": 353, \"number_of_notes\": 29}, {\"track_id\": 354, \"number_of_notes\": 28}, {\"track_id\": 355, \"number_of_notes\": 31}, {\"track_id\": 356, \"number_of_notes\": 37}, {\"track_id\": 357, \"number_of_notes\": 15}, {\"track_id\": 358, \"number_of_notes\": 54}, {\"track_id\": 359, \"number_of_notes\": 25}, {\"track_id\": 360, \"number_of_notes\": 32}, {\"track_id\": 361, \"number_of_notes\": 16}, {\"track_id\": 362, \"number_of_notes\": 45}, {\"track_id\": 363, \"number_of_notes\": 22}, {\"track_id\": 364, \"number_of_notes\": 31}, {\"track_id\": 365, \"number_of_notes\": 36}, {\"track_id\": 366, \"number_of_notes\": 37}, {\"track_id\": 367, \"number_of_notes\": 15}, {\"track_id\": 368, \"number_of_notes\": 30}, {\"track_id\": 369, \"number_of_notes\": 37}, {\"track_id\": 370, \"number_of_notes\": 12}, {\"track_id\": 371, \"number_of_notes\": 34}, {\"track_id\": 372, \"number_of_notes\": 18}, {\"track_id\": 373, \"number_of_notes\": 11}, {\"track_id\": 374, \"number_of_notes\": 12}, {\"track_id\": 375, \"number_of_notes\": 36}, {\"track_id\": 376, \"number_of_notes\": 13}, {\"track_id\": 377, \"number_of_notes\": 14}, {\"track_id\": 378, \"number_of_notes\": 16}, {\"track_id\": 379, \"number_of_notes\": 14}, {\"track_id\": 380, \"number_of_notes\": 19}, {\"track_id\": 381, \"number_of_notes\": 11}, {\"track_id\": 382, \"number_of_notes\": 13}, {\"track_id\": 383, \"number_of_notes\": 13}, {\"track_id\": 384, \"number_of_notes\": 37}, {\"track_id\": 385, \"number_of_notes\": 15}, {\"track_id\": 386, \"number_of_notes\": 27}, {\"track_id\": 387, \"number_of_notes\": 20}, {\"track_id\": 388, \"number_of_notes\": 35}, {\"track_id\": 389, \"number_of_notes\": 15}, {\"track_id\": 390, \"number_of_notes\": 37}, {\"track_id\": 391, \"number_of_notes\": 37}, {\"track_id\": 392, \"number_of_notes\": 18}, {\"track_id\": 393, \"number_of_notes\": 16}, {\"track_id\": 394, \"number_of_notes\": 31}, {\"track_id\": 395, \"number_of_notes\": 23}, {\"track_id\": 396, \"number_of_notes\": 14}, {\"track_id\": 397, \"number_of_notes\": 34}, {\"track_id\": 398, \"number_of_notes\": 30}, {\"track_id\": 399, \"number_of_notes\": 47}, {\"track_id\": 400, \"number_of_notes\": 17}, {\"track_id\": 401, \"number_of_notes\": 12}, {\"track_id\": 402, \"number_of_notes\": 20}, {\"track_id\": 403, \"number_of_notes\": 16}, {\"track_id\": 404, \"number_of_notes\": 15}, {\"track_id\": 405, \"number_of_notes\": 35}, {\"track_id\": 406, \"number_of_notes\": 14}, {\"track_id\": 407, \"number_of_notes\": 32}, {\"track_id\": 408, \"number_of_notes\": 36}, {\"track_id\": 409, \"number_of_notes\": 15}, {\"track_id\": 410, \"number_of_notes\": 20}, {\"track_id\": 411, \"number_of_notes\": 16}, {\"track_id\": 412, \"number_of_notes\": 27}, {\"track_id\": 413, \"number_of_notes\": 18}, {\"track_id\": 414, \"number_of_notes\": 37}, {\"track_id\": 415, \"number_of_notes\": 23}, {\"track_id\": 416, \"number_of_notes\": 37}, {\"track_id\": 417, \"number_of_notes\": 53}, {\"track_id\": 418, \"number_of_notes\": 37}, {\"track_id\": 419, \"number_of_notes\": 71}, {\"track_id\": 420, \"number_of_notes\": 109}, {\"track_id\": 421, \"number_of_notes\": 13}, {\"track_id\": 422, \"number_of_notes\": 17}, {\"track_id\": 423, \"number_of_notes\": 26}, {\"track_id\": 424, \"number_of_notes\": 37}, {\"track_id\": 425, \"number_of_notes\": 23}, {\"track_id\": 426, \"number_of_notes\": 23}, {\"track_id\": 427, \"number_of_notes\": 37}, {\"track_id\": 428, \"number_of_notes\": 40}, {\"track_id\": 429, \"number_of_notes\": 15}, {\"track_id\": 430, \"number_of_notes\": 17}, {\"track_id\": 431, \"number_of_notes\": 37}, {\"track_id\": 432, \"number_of_notes\": 73}, {\"track_id\": 433, \"number_of_notes\": 16}, {\"track_id\": 434, \"number_of_notes\": 27}, {\"track_id\": 435, \"number_of_notes\": 14}, {\"track_id\": 436, \"number_of_notes\": 21}, {\"track_id\": 437, \"number_of_notes\": 36}, {\"track_id\": 438, \"number_of_notes\": 30}, {\"track_id\": 439, \"number_of_notes\": 17}, {\"track_id\": 440, \"number_of_notes\": 18}, {\"track_id\": 441, \"number_of_notes\": 36}, {\"track_id\": 442, \"number_of_notes\": 20}, {\"track_id\": 443, \"number_of_notes\": 19}, {\"track_id\": 444, \"number_of_notes\": 35}, {\"track_id\": 445, \"number_of_notes\": 22}, {\"track_id\": 446, \"number_of_notes\": 36}, {\"track_id\": 447, \"number_of_notes\": 21}, {\"track_id\": 448, \"number_of_notes\": 37}, {\"track_id\": 449, \"number_of_notes\": 34}, {\"track_id\": 450, \"number_of_notes\": 24}, {\"track_id\": 451, \"number_of_notes\": 30}, {\"track_id\": 452, \"number_of_notes\": 15}, {\"track_id\": 453, \"number_of_notes\": 16}, {\"track_id\": 454, \"number_of_notes\": 25}, {\"track_id\": 455, \"number_of_notes\": 37}, {\"track_id\": 456, \"number_of_notes\": 19}, {\"track_id\": 457, \"number_of_notes\": 20}, {\"track_id\": 458, \"number_of_notes\": 37}, {\"track_id\": 459, \"number_of_notes\": 21}, {\"track_id\": 460, \"number_of_notes\": 16}, {\"track_id\": 461, \"number_of_notes\": 37}, {\"track_id\": 462, \"number_of_notes\": 25}, {\"track_id\": 463, \"number_of_notes\": 37}, {\"track_id\": 464, \"number_of_notes\": 12}, {\"track_id\": 465, \"number_of_notes\": 29}, {\"track_id\": 466, \"number_of_notes\": 51}, {\"track_id\": 467, \"number_of_notes\": 31}, {\"track_id\": 468, \"number_of_notes\": 37}, {\"track_id\": 469, \"number_of_notes\": 26}, {\"track_id\": 470, \"number_of_notes\": 12}, {\"track_id\": 471, \"number_of_notes\": 25}, {\"track_id\": 472, \"number_of_notes\": 36}, {\"track_id\": 473, \"number_of_notes\": 27}, {\"track_id\": 474, \"number_of_notes\": 30}, {\"track_id\": 475, \"number_of_notes\": 21}, {\"track_id\": 476, \"number_of_notes\": 50}, {\"track_id\": 477, \"number_of_notes\": 28}, {\"track_id\": 478, \"number_of_notes\": 24}, {\"track_id\": 479, \"number_of_notes\": 26}, {\"track_id\": 480, \"number_of_notes\": 14}, {\"track_id\": 481, \"number_of_notes\": 11}, {\"track_id\": 482, \"number_of_notes\": 31}, {\"track_id\": 483, \"number_of_notes\": 55}, {\"track_id\": 484, \"number_of_notes\": 40}, {\"track_id\": 485, \"number_of_notes\": 28}, {\"track_id\": 486, \"number_of_notes\": 13}, {\"track_id\": 487, \"number_of_notes\": 42}, {\"track_id\": 488, \"number_of_notes\": 15}, {\"track_id\": 489, \"number_of_notes\": 14}, {\"track_id\": 490, \"number_of_notes\": 14}, {\"track_id\": 491, \"number_of_notes\": 18}, {\"track_id\": 492, \"number_of_notes\": 52}, {\"track_id\": 493, \"number_of_notes\": 19}, {\"track_id\": 494, \"number_of_notes\": 14}, {\"track_id\": 495, \"number_of_notes\": 27}, {\"track_id\": 496, \"number_of_notes\": 14}, {\"track_id\": 497, \"number_of_notes\": 20}, {\"track_id\": 498, \"number_of_notes\": 25}, {\"track_id\": 499, \"number_of_notes\": 18}, {\"track_id\": 500, \"number_of_notes\": 15}, {\"track_id\": 501, \"number_of_notes\": 49}, {\"track_id\": 502, \"number_of_notes\": 17}, {\"track_id\": 503, \"number_of_notes\": 15}, {\"track_id\": 504, \"number_of_notes\": 37}, {\"track_id\": 505, \"number_of_notes\": 29}, {\"track_id\": 506, \"number_of_notes\": 36}, {\"track_id\": 507, \"number_of_notes\": 22}, {\"track_id\": 508, \"number_of_notes\": 17}, {\"track_id\": 509, \"number_of_notes\": 30}, {\"track_id\": 510, \"number_of_notes\": 30}, {\"track_id\": 511, \"number_of_notes\": 33}, {\"track_id\": 512, \"number_of_notes\": 17}, {\"track_id\": 513, \"number_of_notes\": 24}, {\"track_id\": 514, \"number_of_notes\": 12}, {\"track_id\": 515, \"number_of_notes\": 21}, {\"track_id\": 516, \"number_of_notes\": 36}, {\"track_id\": 517, \"number_of_notes\": 26}, {\"track_id\": 518, \"number_of_notes\": 35}, {\"track_id\": 519, \"number_of_notes\": 15}, {\"track_id\": 520, \"number_of_notes\": 18}, {\"track_id\": 521, \"number_of_notes\": 30}, {\"track_id\": 522, \"number_of_notes\": 36}, {\"track_id\": 523, \"number_of_notes\": 11}, {\"track_id\": 524, \"number_of_notes\": 11}, {\"track_id\": 525, \"number_of_notes\": 16}, {\"track_id\": 526, \"number_of_notes\": 49}, {\"track_id\": 527, \"number_of_notes\": 21}, {\"track_id\": 528, \"number_of_notes\": 25}, {\"track_id\": 529, \"number_of_notes\": 16}, {\"track_id\": 530, \"number_of_notes\": 30}, {\"track_id\": 531, \"number_of_notes\": 36}, {\"track_id\": 532, \"number_of_notes\": 24}, {\"track_id\": 533, \"number_of_notes\": 12}, {\"track_id\": 534, \"number_of_notes\": 28}, {\"track_id\": 535, \"number_of_notes\": 17}, {\"track_id\": 536, \"number_of_notes\": 35}, {\"track_id\": 537, \"number_of_notes\": 35}, {\"track_id\": 538, \"number_of_notes\": 30}, {\"track_id\": 539, \"number_of_notes\": 18}, {\"track_id\": 540, \"number_of_notes\": 37}, {\"track_id\": 541, \"number_of_notes\": 27}, {\"track_id\": 542, \"number_of_notes\": 35}, {\"track_id\": 543, \"number_of_notes\": 24}, {\"track_id\": 544, \"number_of_notes\": 37}, {\"track_id\": 545, \"number_of_notes\": 37}, {\"track_id\": 546, \"number_of_notes\": 30}, {\"track_id\": 547, \"number_of_notes\": 31}, {\"track_id\": 548, \"number_of_notes\": 36}, {\"track_id\": 549, \"number_of_notes\": 15}, {\"track_id\": 550, \"number_of_notes\": 210}, {\"track_id\": 551, \"number_of_notes\": 30}, {\"track_id\": 552, \"number_of_notes\": 40}, {\"track_id\": 553, \"number_of_notes\": 29}, {\"track_id\": 554, \"number_of_notes\": 36}, {\"track_id\": 555, \"number_of_notes\": 16}, {\"track_id\": 556, \"number_of_notes\": 26}, {\"track_id\": 557, \"number_of_notes\": 30}, {\"track_id\": 558, \"number_of_notes\": 14}, {\"track_id\": 559, \"number_of_notes\": 31}, {\"track_id\": 560, \"number_of_notes\": 65}, {\"track_id\": 561, \"number_of_notes\": 25}, {\"track_id\": 562, \"number_of_notes\": 40}, {\"track_id\": 563, \"number_of_notes\": 28}, {\"track_id\": 564, \"number_of_notes\": 34}, {\"track_id\": 565, \"number_of_notes\": 37}, {\"track_id\": 566, \"number_of_notes\": 37}, {\"track_id\": 567, \"number_of_notes\": 15}, {\"track_id\": 568, \"number_of_notes\": 37}, {\"track_id\": 569, \"number_of_notes\": 26}, {\"track_id\": 570, \"number_of_notes\": 36}, {\"track_id\": 571, \"number_of_notes\": 16}, {\"track_id\": 572, \"number_of_notes\": 22}, {\"track_id\": 573, \"number_of_notes\": 16}, {\"track_id\": 574, \"number_of_notes\": 33}, {\"track_id\": 575, \"number_of_notes\": 17}, {\"track_id\": 576, \"number_of_notes\": 24}, {\"track_id\": 577, \"number_of_notes\": 42}, {\"track_id\": 578, \"number_of_notes\": 29}, {\"track_id\": 579, \"number_of_notes\": 73}, {\"track_id\": 580, \"number_of_notes\": 31}, {\"track_id\": 581, \"number_of_notes\": 24}, {\"track_id\": 582, \"number_of_notes\": 19}, {\"track_id\": 583, \"number_of_notes\": 19}, {\"track_id\": 584, \"number_of_notes\": 31}, {\"track_id\": 585, \"number_of_notes\": 34}, {\"track_id\": 586, \"number_of_notes\": 16}, {\"track_id\": 587, \"number_of_notes\": 18}, {\"track_id\": 588, \"number_of_notes\": 31}, {\"track_id\": 589, \"number_of_notes\": 36}, {\"track_id\": 590, \"number_of_notes\": 11}, {\"track_id\": 591, \"number_of_notes\": 18}, {\"track_id\": 592, \"number_of_notes\": 14}, {\"track_id\": 593, \"number_of_notes\": 84}, {\"track_id\": 594, \"number_of_notes\": 22}, {\"track_id\": 595, \"number_of_notes\": 33}, {\"track_id\": 596, \"number_of_notes\": 19}, {\"track_id\": 597, \"number_of_notes\": 37}, {\"track_id\": 598, \"number_of_notes\": 15}, {\"track_id\": 599, \"number_of_notes\": 16}, {\"track_id\": 600, \"number_of_notes\": 37}, {\"track_id\": 601, \"number_of_notes\": 19}, {\"track_id\": 602, \"number_of_notes\": 16}, {\"track_id\": 603, \"number_of_notes\": 18}, {\"track_id\": 604, \"number_of_notes\": 21}, {\"track_id\": 605, \"number_of_notes\": 15}, {\"track_id\": 606, \"number_of_notes\": 17}, {\"track_id\": 607, \"number_of_notes\": 32}, {\"track_id\": 608, \"number_of_notes\": 67}, {\"track_id\": 609, \"number_of_notes\": 13}, {\"track_id\": 610, \"number_of_notes\": 18}, {\"track_id\": 611, \"number_of_notes\": 31}, {\"track_id\": 612, \"number_of_notes\": 37}, {\"track_id\": 613, \"number_of_notes\": 19}, {\"track_id\": 614, \"number_of_notes\": 31}, {\"track_id\": 615, \"number_of_notes\": 11}, {\"track_id\": 616, \"number_of_notes\": 17}, {\"track_id\": 617, \"number_of_notes\": 26}, {\"track_id\": 618, \"number_of_notes\": 37}, {\"track_id\": 619, \"number_of_notes\": 14}, {\"track_id\": 620, \"number_of_notes\": 37}, {\"track_id\": 621, \"number_of_notes\": 14}, {\"track_id\": 622, \"number_of_notes\": 35}, {\"track_id\": 623, \"number_of_notes\": 36}, {\"track_id\": 624, \"number_of_notes\": 37}, {\"track_id\": 625, \"number_of_notes\": 31}, {\"track_id\": 626, \"number_of_notes\": 73}, {\"track_id\": 627, \"number_of_notes\": 31}, {\"track_id\": 628, \"number_of_notes\": 27}, {\"track_id\": 629, \"number_of_notes\": 18}, {\"track_id\": 630, \"number_of_notes\": 18}, {\"track_id\": 631, \"number_of_notes\": 20}, {\"track_id\": 632, \"number_of_notes\": 32}, {\"track_id\": 633, \"number_of_notes\": 37}, {\"track_id\": 634, \"number_of_notes\": 36}, {\"track_id\": 635, \"number_of_notes\": 15}, {\"track_id\": 636, \"number_of_notes\": 21}, {\"track_id\": 637, \"number_of_notes\": 28}, {\"track_id\": 638, \"number_of_notes\": 21}, {\"track_id\": 639, \"number_of_notes\": 32}, {\"track_id\": 640, \"number_of_notes\": 17}, {\"track_id\": 641, \"number_of_notes\": 34}, {\"track_id\": 642, \"number_of_notes\": 49}, {\"track_id\": 643, \"number_of_notes\": 11}, {\"track_id\": 644, \"number_of_notes\": 34}, {\"track_id\": 645, \"number_of_notes\": 20}, {\"track_id\": 646, \"number_of_notes\": 15}, {\"track_id\": 647, \"number_of_notes\": 21}, {\"track_id\": 648, \"number_of_notes\": 21}, {\"track_id\": 649, \"number_of_notes\": 20}, {\"track_id\": 650, \"number_of_notes\": 27}, {\"track_id\": 651, \"number_of_notes\": 28}, {\"track_id\": 652, \"number_of_notes\": 48}, {\"track_id\": 653, \"number_of_notes\": 19}, {\"track_id\": 654, \"number_of_notes\": 17}, {\"track_id\": 655, \"number_of_notes\": 23}, {\"track_id\": 656, \"number_of_notes\": 31}, {\"track_id\": 657, \"number_of_notes\": 45}, {\"track_id\": 658, \"number_of_notes\": 16}, {\"track_id\": 659, \"number_of_notes\": 17}, {\"track_id\": 660, \"number_of_notes\": 40}, {\"track_id\": 661, \"number_of_notes\": 62}, {\"track_id\": 662, \"number_of_notes\": 14}, {\"track_id\": 663, \"number_of_notes\": 16}, {\"track_id\": 664, \"number_of_notes\": 35}, {\"track_id\": 665, \"number_of_notes\": 37}, {\"track_id\": 666, \"number_of_notes\": 36}, {\"track_id\": 667, \"number_of_notes\": 37}, {\"track_id\": 668, \"number_of_notes\": 24}, {\"track_id\": 669, \"number_of_notes\": 22}, {\"track_id\": 670, \"number_of_notes\": 37}, {\"track_id\": 671, \"number_of_notes\": 28}, {\"track_id\": 672, \"number_of_notes\": 57}, {\"track_id\": 673, \"number_of_notes\": 18}, {\"track_id\": 674, \"number_of_notes\": 24}, {\"track_id\": 675, \"number_of_notes\": 15}, {\"track_id\": 676, \"number_of_notes\": 30}, {\"track_id\": 677, \"number_of_notes\": 37}, {\"track_id\": 678, \"number_of_notes\": 16}, {\"track_id\": 679, \"number_of_notes\": 30}, {\"track_id\": 680, \"number_of_notes\": 29}, {\"track_id\": 681, \"number_of_notes\": 27}, {\"track_id\": 682, \"number_of_notes\": 25}, {\"track_id\": 683, \"number_of_notes\": 11}, {\"track_id\": 684, \"number_of_notes\": 97}, {\"track_id\": 685, \"number_of_notes\": 20}, {\"track_id\": 686, \"number_of_notes\": 18}, {\"track_id\": 687, \"number_of_notes\": 15}, {\"track_id\": 688, \"number_of_notes\": 43}, {\"track_id\": 689, \"number_of_notes\": 26}, {\"track_id\": 690, \"number_of_notes\": 42}, {\"track_id\": 691, \"number_of_notes\": 12}, {\"track_id\": 692, \"number_of_notes\": 48}, {\"track_id\": 693, \"number_of_notes\": 32}, {\"track_id\": 694, \"number_of_notes\": 181}, {\"track_id\": 695, \"number_of_notes\": 36}, {\"track_id\": 696, \"number_of_notes\": 15}, {\"track_id\": 697, \"number_of_notes\": 21}, {\"track_id\": 698, \"number_of_notes\": 17}, {\"track_id\": 699, \"number_of_notes\": 13}, {\"track_id\": 700, \"number_of_notes\": 11}, {\"track_id\": 701, \"number_of_notes\": 37}, {\"track_id\": 702, \"number_of_notes\": 18}, {\"track_id\": 703, \"number_of_notes\": 26}, {\"track_id\": 704, \"number_of_notes\": 77}, {\"track_id\": 705, \"number_of_notes\": 48}, {\"track_id\": 706, \"number_of_notes\": 43}, {\"track_id\": 707, \"number_of_notes\": 130}, {\"track_id\": 708, \"number_of_notes\": 25}, {\"track_id\": 709, \"number_of_notes\": 37}, {\"track_id\": 710, \"number_of_notes\": 30}, {\"track_id\": 711, \"number_of_notes\": 26}, {\"track_id\": 712, \"number_of_notes\": 37}, {\"track_id\": 713, \"number_of_notes\": 16}, {\"track_id\": 714, \"number_of_notes\": 16}, {\"track_id\": 715, \"number_of_notes\": 29}, {\"track_id\": 716, \"number_of_notes\": 19}, {\"track_id\": 717, \"number_of_notes\": 11}, {\"track_id\": 718, \"number_of_notes\": 28}, {\"track_id\": 719, \"number_of_notes\": 28}, {\"track_id\": 720, \"number_of_notes\": 18}, {\"track_id\": 721, \"number_of_notes\": 15}, {\"track_id\": 722, \"number_of_notes\": 15}, {\"track_id\": 723, \"number_of_notes\": 65}, {\"track_id\": 724, \"number_of_notes\": 35}, {\"track_id\": 725, \"number_of_notes\": 52}, {\"track_id\": 726, \"number_of_notes\": 16}, {\"track_id\": 727, \"number_of_notes\": 11}, {\"track_id\": 728, \"number_of_notes\": 26}, {\"track_id\": 729, \"number_of_notes\": 26}, {\"track_id\": 730, \"number_of_notes\": 12}, {\"track_id\": 731, \"number_of_notes\": 38}, {\"track_id\": 732, \"number_of_notes\": 29}, {\"track_id\": 733, \"number_of_notes\": 37}, {\"track_id\": 734, \"number_of_notes\": 33}, {\"track_id\": 735, \"number_of_notes\": 17}, {\"track_id\": 736, \"number_of_notes\": 123}, {\"track_id\": 737, \"number_of_notes\": 23}, {\"track_id\": 738, \"number_of_notes\": 37}, {\"track_id\": 739, \"number_of_notes\": 45}, {\"track_id\": 740, \"number_of_notes\": 17}, {\"track_id\": 741, \"number_of_notes\": 27}, {\"track_id\": 742, \"number_of_notes\": 37}, {\"track_id\": 743, \"number_of_notes\": 14}, {\"track_id\": 744, \"number_of_notes\": 23}, {\"track_id\": 745, \"number_of_notes\": 26}, {\"track_id\": 746, \"number_of_notes\": 39}, {\"track_id\": 747, \"number_of_notes\": 21}, {\"track_id\": 748, \"number_of_notes\": 26}, {\"track_id\": 749, \"number_of_notes\": 13}, {\"track_id\": 750, \"number_of_notes\": 12}, {\"track_id\": 751, \"number_of_notes\": 35}, {\"track_id\": 752, \"number_of_notes\": 12}, {\"track_id\": 753, \"number_of_notes\": 14}, {\"track_id\": 754, \"number_of_notes\": 44}, {\"track_id\": 755, \"number_of_notes\": 44}, {\"track_id\": 756, \"number_of_notes\": 18}, {\"track_id\": 757, \"number_of_notes\": 14}, {\"track_id\": 758, \"number_of_notes\": 12}, {\"track_id\": 759, \"number_of_notes\": 13}, {\"track_id\": 760, \"number_of_notes\": 18}, {\"track_id\": 761, \"number_of_notes\": 23}, {\"track_id\": 762, \"number_of_notes\": 39}, {\"track_id\": 763, \"number_of_notes\": 35}, {\"track_id\": 764, \"number_of_notes\": 37}, {\"track_id\": 765, \"number_of_notes\": 26}, {\"track_id\": 766, \"number_of_notes\": 15}, {\"track_id\": 767, \"number_of_notes\": 37}, {\"track_id\": 768, \"number_of_notes\": 37}, {\"track_id\": 769, \"number_of_notes\": 37}, {\"track_id\": 770, \"number_of_notes\": 37}, {\"track_id\": 771, \"number_of_notes\": 21}]}}, {\"mode\": \"vega-lite\"});\n",
              "</script>"
            ]
          },
          "metadata": {
            "tags": []
          },
          "execution_count": 150
        }
      ]
    },
    {
      "cell_type": "code",
      "metadata": {
        "id": "8sLV8SHWrN92",
        "outputId": "ac78db63-ceaa-424f-b8b8-bc3bae56a9f4",
        "colab": {
          "base_uri": "https://localhost:8080/",
          "height": 265
        }
      },
      "source": [
        "plt.hist(tracks_filtered_df['pitch_range']);"
      ],
      "id": "8sLV8SHWrN92",
      "execution_count": 151,
      "outputs": [
        {
          "output_type": "display_data",
          "data": {
            "image/png": "[encoded data removed]",
            "text/plain": [
              "<Figure size 432x288 with 1 Axes>"
            ]
          },
          "metadata": {
            "tags": [],
            "needs_background": "light"
          }
        }
      ]
    },
    {
      "cell_type": "code",
      "metadata": {
        "id": "wb1IDZmlrN6T",
        "outputId": "2f30484c-8fc7-4aa3-b072-5aaf8a03c7ec",
        "colab": {
          "base_uri": "https://localhost:8080/",
          "height": 363
        }
      },
      "source": [
        "alt.Chart(tracks_filtered_df[['track_id', 'pitch_range']]).mark_circle(size=60).encode(\n",
        "    x='track_id',\n",
        "    y='pitch_range',\n",
        "    color='pitch_range',\n",
        "    tooltip=['track_id']\n",
        ").interactive()"
      ],
      "id": "wb1IDZmlrN6T",
      "execution_count": 152,
      "outputs": [
        {
          "output_type": "execute_result",
          "data": {
            "text/plain": [
              "alt.Chart(...)"
            ],
            "text/html": [
              "\n",
              "<div id=\"altair-viz-c486c34cda70412a98ab1b202c69d0b6\"></div>\n",
              "<script type=\"text/javascript\">\n",
              "  (function(spec, embedOpt){\n",
              "    let outputDiv = document.currentScript.previousElementSibling;\n",
              "    if (outputDiv.id !== \"altair-viz-c486c34cda70412a98ab1b202c69d0b6\") {\n",
              "      outputDiv = document.getElementById(\"altair-viz-c486c34cda70412a98ab1b202c69d0b6\");\n",
              "    }\n",
              "    const paths = {\n",
              "      \"vega\": \"https://cdn.jsdelivr.net/npm//vega@5?noext\",\n",
              "      \"vega-lib\": \"https://cdn.jsdelivr.net/npm//vega-lib?noext\",\n",
              "      \"vega-lite\": \"https://cdn.jsdelivr.net/npm//vega-lite@4.8.1?noext\",\n",
              "      \"vega-embed\": \"https://cdn.jsdelivr.net/npm//vega-embed@6?noext\",\n",
              "    };\n",
              "\n",
              "    function loadScript(lib) {\n",
              "      return new Promise(function(resolve, reject) {\n",
              "        var s = document.createElement('script');\n",
              "        s.src = paths[lib];\n",
              "        s.async = true;\n",
              "        s.onload = () => resolve(paths[lib]);\n",
              "        s.onerror = () => reject(`Error loading script: ${paths[lib]}`);\n",
              "        document.getElementsByTagName(\"head\")[0].appendChild(s);\n",
              "      });\n",
              "    }\n",
              "\n",
              "    function showError(err) {\n",
              "      outputDiv.innerHTML = `<div class=\"error\" style=\"color:red;\">${err}</div>`;\n",
              "      throw err;\n",
              "    }\n",
              "\n",
              "    function displayChart(vegaEmbed) {\n",
              "      vegaEmbed(outputDiv, spec, embedOpt)\n",
              "        .catch(err => showError(`Javascript Error: ${err.message}<br>This usually means there's a typo in your chart specification. See the javascript console for the full traceback.`));\n",
              "    }\n",
              "\n",
              "    if(typeof define === \"function\" && define.amd) {\n",
              "      requirejs.config({paths});\n",
              "      require([\"vega-embed\"], displayChart, err => showError(`Error loading script: ${err.message}`));\n",
              "    } else if (typeof vegaEmbed === \"function\") {\n",
              "      displayChart(vegaEmbed);\n",
              "    } else {\n",
              "      loadScript(\"vega\")\n",
              "        .then(() => loadScript(\"vega-lite\"))\n",
              "        .then(() => loadScript(\"vega-embed\"))\n",
              "        .catch(showError)\n",
              "        .then(() => displayChart(vegaEmbed));\n",
              "    }\n",
              "  })({\"config\": {\"view\": {\"continuousWidth\": 400, \"continuousHeight\": 300}}, \"data\": {\"name\": \"data-3b49beccce43d295f36267848e065a09\"}, \"mark\": {\"type\": \"circle\", \"size\": 60}, \"encoding\": {\"color\": {\"type\": \"quantitative\", \"field\": \"pitch_range\"}, \"tooltip\": [{\"type\": \"quantitative\", \"field\": \"track_id\"}], \"x\": {\"type\": \"quantitative\", \"field\": \"track_id\"}, \"y\": {\"type\": \"quantitative\", \"field\": \"pitch_range\"}}, \"selection\": {\"selector010\": {\"type\": \"interval\", \"bind\": \"scales\", \"encodings\": [\"x\", \"y\"]}}, \"$schema\": \"https://vega.github.io/schema/vega-lite/v4.8.1.json\", \"datasets\": {\"data-3b49beccce43d295f36267848e065a09\": [{\"track_id\": 0, \"pitch_range\": 15.0}, {\"track_id\": 1, \"pitch_range\": 7.0}, {\"track_id\": 2, \"pitch_range\": 5.0}, {\"track_id\": 3, \"pitch_range\": 19.0}, {\"track_id\": 4, \"pitch_range\": 31.0}, {\"track_id\": 5, \"pitch_range\": 8.0}, {\"track_id\": 6, \"pitch_range\": 23.0}, {\"track_id\": 7, \"pitch_range\": 17.0}, {\"track_id\": 8, \"pitch_range\": 7.0}, {\"track_id\": 9, \"pitch_range\": 5.0}, {\"track_id\": 10, \"pitch_range\": 7.0}, {\"track_id\": 11, \"pitch_range\": 8.0}, {\"track_id\": 12, \"pitch_range\": 4.0}, {\"track_id\": 13, \"pitch_range\": 14.0}, {\"track_id\": 14, \"pitch_range\": 2.0}, {\"track_id\": 15, \"pitch_range\": 7.0}, {\"track_id\": 16, \"pitch_range\": 24.0}, {\"track_id\": 17, \"pitch_range\": 19.0}, {\"track_id\": 18, \"pitch_range\": 17.0}, {\"track_id\": 19, \"pitch_range\": 17.0}, {\"track_id\": 20, \"pitch_range\": 20.0}, {\"track_id\": 21, \"pitch_range\": 32.0}, {\"track_id\": 22, \"pitch_range\": 17.0}, {\"track_id\": 23, \"pitch_range\": 8.0}, {\"track_id\": 24, \"pitch_range\": 8.0}, {\"track_id\": 25, \"pitch_range\": 12.0}, {\"track_id\": 26, \"pitch_range\": 5.0}, {\"track_id\": 27, \"pitch_range\": 15.0}, {\"track_id\": 28, \"pitch_range\": 5.0}, {\"track_id\": 29, \"pitch_range\": 14.0}, {\"track_id\": 30, \"pitch_range\": 7.0}, {\"track_id\": 31, \"pitch_range\": 9.0}, {\"track_id\": 32, \"pitch_range\": 12.0}, {\"track_id\": 33, \"pitch_range\": 9.0}, {\"track_id\": 34, \"pitch_range\": 17.0}, {\"track_id\": 35, \"pitch_range\": 8.0}, {\"track_id\": 36, \"pitch_range\": 7.0}, {\"track_id\": 37, \"pitch_range\": 24.0}, {\"track_id\": 38, \"pitch_range\": 7.0}, {\"track_id\": 39, \"pitch_range\": 21.0}, {\"track_id\": 40, \"pitch_range\": 7.0}, {\"track_id\": 41, \"pitch_range\": 8.0}, {\"track_id\": 42, \"pitch_range\": 12.0}, {\"track_id\": 43, \"pitch_range\": 14.0}, {\"track_id\": 44, \"pitch_range\": 8.0}, {\"track_id\": 45, \"pitch_range\": 7.0}, {\"track_id\": 46, \"pitch_range\": 7.0}, {\"track_id\": 47, \"pitch_range\": 10.0}, {\"track_id\": 48, \"pitch_range\": 17.0}, {\"track_id\": 49, \"pitch_range\": 5.0}, {\"track_id\": 50, \"pitch_range\": 14.0}, {\"track_id\": 51, \"pitch_range\": 3.0}, {\"track_id\": 52, \"pitch_range\": 33.0}, {\"track_id\": 53, \"pitch_range\": 4.0}, {\"track_id\": 54, \"pitch_range\": 10.0}, {\"track_id\": 55, \"pitch_range\": 14.0}, {\"track_id\": 56, \"pitch_range\": 11.0}, {\"track_id\": 57, \"pitch_range\": 5.0}, {\"track_id\": 58, \"pitch_range\": 7.0}, {\"track_id\": 59, \"pitch_range\": 0.0}, {\"track_id\": 60, \"pitch_range\": 12.0}, {\"track_id\": 61, \"pitch_range\": 10.0}, {\"track_id\": 62, \"pitch_range\": 10.0}, {\"track_id\": 63, \"pitch_range\": 7.0}, {\"track_id\": 64, \"pitch_range\": 12.0}, {\"track_id\": 65, \"pitch_range\": 9.0}, {\"track_id\": 66, \"pitch_range\": 8.0}, {\"track_id\": 67, \"pitch_range\": 15.0}, {\"track_id\": 68, \"pitch_range\": 16.0}, {\"track_id\": 69, \"pitch_range\": 5.0}, {\"track_id\": 70, \"pitch_range\": 4.0}, {\"track_id\": 71, \"pitch_range\": 4.0}, {\"track_id\": 72, \"pitch_range\": 7.0}, {\"track_id\": 73, \"pitch_range\": 7.0}, {\"track_id\": 74, \"pitch_range\": 5.0}, {\"track_id\": 75, \"pitch_range\": 5.0}, {\"track_id\": 76, \"pitch_range\": 10.0}, {\"track_id\": 77, \"pitch_range\": 10.0}, {\"track_id\": 78, \"pitch_range\": 7.0}, {\"track_id\": 79, \"pitch_range\": 9.0}, {\"track_id\": 80, \"pitch_range\": 17.0}, {\"track_id\": 81, \"pitch_range\": 29.0}, {\"track_id\": 82, \"pitch_range\": 19.0}, {\"track_id\": 83, \"pitch_range\": 3.0}, {\"track_id\": 84, \"pitch_range\": 10.0}, {\"track_id\": 85, \"pitch_range\": 4.0}, {\"track_id\": 86, \"pitch_range\": 7.0}, {\"track_id\": 87, \"pitch_range\": 7.0}, {\"track_id\": 88, \"pitch_range\": 7.0}, {\"track_id\": 89, \"pitch_range\": 7.0}, {\"track_id\": 90, \"pitch_range\": 8.0}, {\"track_id\": 91, \"pitch_range\": 14.0}, {\"track_id\": 92, \"pitch_range\": 12.0}, {\"track_id\": 93, \"pitch_range\": 15.0}, {\"track_id\": 94, \"pitch_range\": 10.0}, {\"track_id\": 95, \"pitch_range\": 7.0}, {\"track_id\": 96, \"pitch_range\": 4.0}, {\"track_id\": 97, \"pitch_range\": 10.0}, {\"track_id\": 98, \"pitch_range\": 7.0}, {\"track_id\": 99, \"pitch_range\": 9.0}, {\"track_id\": 100, \"pitch_range\": 8.0}, {\"track_id\": 101, \"pitch_range\": 16.0}, {\"track_id\": 102, \"pitch_range\": 11.0}, {\"track_id\": 103, \"pitch_range\": 20.0}, {\"track_id\": 104, \"pitch_range\": 50.0}, {\"track_id\": 105, \"pitch_range\": 20.0}, {\"track_id\": 106, \"pitch_range\": 12.0}, {\"track_id\": 107, \"pitch_range\": 12.0}, {\"track_id\": 108, \"pitch_range\": 12.0}, {\"track_id\": 109, \"pitch_range\": 13.0}, {\"track_id\": 110, \"pitch_range\": 29.0}, {\"track_id\": 111, \"pitch_range\": 9.0}, {\"track_id\": 112, \"pitch_range\": 16.0}, {\"track_id\": 113, \"pitch_range\": 8.0}, {\"track_id\": 114, \"pitch_range\": 7.0}, {\"track_id\": 115, \"pitch_range\": 4.0}, {\"track_id\": 116, \"pitch_range\": 9.0}, {\"track_id\": 117, \"pitch_range\": 5.0}, {\"track_id\": 118, \"pitch_range\": 10.0}, {\"track_id\": 119, \"pitch_range\": 21.0}, {\"track_id\": 120, \"pitch_range\": 15.0}, {\"track_id\": 121, \"pitch_range\": 22.0}, {\"track_id\": 122, \"pitch_range\": 22.0}, {\"track_id\": 123, \"pitch_range\": 12.0}, {\"track_id\": 124, \"pitch_range\": 27.0}, {\"track_id\": 125, \"pitch_range\": 24.0}, {\"track_id\": 126, \"pitch_range\": 9.0}, {\"track_id\": 127, \"pitch_range\": 21.0}, {\"track_id\": 128, \"pitch_range\": 17.0}, {\"track_id\": 129, \"pitch_range\": 19.0}, {\"track_id\": 130, \"pitch_range\": 8.0}, {\"track_id\": 131, \"pitch_range\": 4.0}, {\"track_id\": 132, \"pitch_range\": 4.0}, {\"track_id\": 133, \"pitch_range\": 12.0}, {\"track_id\": 134, \"pitch_range\": 12.0}, {\"track_id\": 135, \"pitch_range\": 24.0}, {\"track_id\": 136, \"pitch_range\": 23.0}, {\"track_id\": 137, \"pitch_range\": 5.0}, {\"track_id\": 138, \"pitch_range\": 10.0}, {\"track_id\": 139, \"pitch_range\": 17.0}, {\"track_id\": 140, \"pitch_range\": 7.0}, {\"track_id\": 141, \"pitch_range\": 7.0}, {\"track_id\": 142, \"pitch_range\": 12.0}, {\"track_id\": 143, \"pitch_range\": 17.0}, {\"track_id\": 144, \"pitch_range\": 19.0}, {\"track_id\": 145, \"pitch_range\": 7.0}, {\"track_id\": 146, \"pitch_range\": 7.0}, {\"track_id\": 147, \"pitch_range\": 7.0}, {\"track_id\": 148, \"pitch_range\": 2.0}, {\"track_id\": 149, \"pitch_range\": 8.0}, {\"track_id\": 150, \"pitch_range\": 24.0}, {\"track_id\": 151, \"pitch_range\": 10.0}, {\"track_id\": 152, \"pitch_range\": 13.0}, {\"track_id\": 153, \"pitch_range\": 10.0}, {\"track_id\": 154, \"pitch_range\": 5.0}, {\"track_id\": 155, \"pitch_range\": 16.0}, {\"track_id\": 156, \"pitch_range\": 12.0}, {\"track_id\": 157, \"pitch_range\": 15.0}, {\"track_id\": 158, \"pitch_range\": 12.0}, {\"track_id\": 159, \"pitch_range\": 10.0}, {\"track_id\": 160, \"pitch_range\": 10.0}, {\"track_id\": 161, \"pitch_range\": 29.0}, {\"track_id\": 162, \"pitch_range\": 29.0}, {\"track_id\": 163, \"pitch_range\": 5.0}, {\"track_id\": 164, \"pitch_range\": 5.0}, {\"track_id\": 165, \"pitch_range\": 12.0}, {\"track_id\": 166, \"pitch_range\": 12.0}, {\"track_id\": 167, \"pitch_range\": 7.0}, {\"track_id\": 168, \"pitch_range\": 14.0}, {\"track_id\": 169, \"pitch_range\": 7.0}, {\"track_id\": 170, \"pitch_range\": 12.0}, {\"track_id\": 171, \"pitch_range\": 33.0}, {\"track_id\": 172, \"pitch_range\": 13.0}, {\"track_id\": 173, \"pitch_range\": 22.0}, {\"track_id\": 174, \"pitch_range\": 8.0}, {\"track_id\": 175, \"pitch_range\": 41.0}, {\"track_id\": 176, \"pitch_range\": 8.0}, {\"track_id\": 177, \"pitch_range\": 31.0}, {\"track_id\": 178, \"pitch_range\": 11.0}, {\"track_id\": 179, \"pitch_range\": 7.0}, {\"track_id\": 180, \"pitch_range\": 19.0}, {\"track_id\": 181, \"pitch_range\": 8.0}, {\"track_id\": 182, \"pitch_range\": 25.0}, {\"track_id\": 183, \"pitch_range\": 16.0}, {\"track_id\": 184, \"pitch_range\": 15.0}, {\"track_id\": 185, \"pitch_range\": 27.0}, {\"track_id\": 186, \"pitch_range\": 15.0}, {\"track_id\": 187, \"pitch_range\": 33.0}, {\"track_id\": 188, \"pitch_range\": 36.0}, {\"track_id\": 189, \"pitch_range\": 21.0}, {\"track_id\": 190, \"pitch_range\": 34.0}, {\"track_id\": 191, \"pitch_range\": 21.0}, {\"track_id\": 192, \"pitch_range\": 34.0}, {\"track_id\": 193, \"pitch_range\": 14.0}, {\"track_id\": 194, \"pitch_range\": 14.0}, {\"track_id\": 195, \"pitch_range\": 5.0}, {\"track_id\": 196, \"pitch_range\": 19.0}, {\"track_id\": 197, \"pitch_range\": 19.0}, {\"track_id\": 198, \"pitch_range\": 12.0}, {\"track_id\": 199, \"pitch_range\": 17.0}, {\"track_id\": 200, \"pitch_range\": 17.0}, {\"track_id\": 201, \"pitch_range\": 16.0}, {\"track_id\": 202, \"pitch_range\": 17.0}, {\"track_id\": 203, \"pitch_range\": 17.0}, {\"track_id\": 204, \"pitch_range\": 17.0}, {\"track_id\": 205, \"pitch_range\": 5.0}, {\"track_id\": 206, \"pitch_range\": 9.0}, {\"track_id\": 207, \"pitch_range\": 7.0}, {\"track_id\": 208, \"pitch_range\": 9.0}, {\"track_id\": 209, \"pitch_range\": 10.0}, {\"track_id\": 210, \"pitch_range\": 10.0}, {\"track_id\": 211, \"pitch_range\": 19.0}, {\"track_id\": 212, \"pitch_range\": 12.0}, {\"track_id\": 213, \"pitch_range\": 4.0}, {\"track_id\": 214, \"pitch_range\": 15.0}, {\"track_id\": 215, \"pitch_range\": 9.0}, {\"track_id\": 216, \"pitch_range\": 8.0}, {\"track_id\": 217, \"pitch_range\": 12.0}, {\"track_id\": 218, \"pitch_range\": 9.0}, {\"track_id\": 219, \"pitch_range\": 12.0}, {\"track_id\": 220, \"pitch_range\": 7.0}, {\"track_id\": 221, \"pitch_range\": 17.0}, {\"track_id\": 222, \"pitch_range\": 7.0}, {\"track_id\": 223, \"pitch_range\": 8.0}, {\"track_id\": 224, \"pitch_range\": 10.0}, {\"track_id\": 225, \"pitch_range\": 10.0}, {\"track_id\": 226, \"pitch_range\": 2.0}, {\"track_id\": 227, \"pitch_range\": 6.0}, {\"track_id\": 228, \"pitch_range\": 24.0}, {\"track_id\": 229, \"pitch_range\": 4.0}, {\"track_id\": 230, \"pitch_range\": 7.0}, {\"track_id\": 231, \"pitch_range\": 12.0}, {\"track_id\": 232, \"pitch_range\": 11.0}, {\"track_id\": 233, \"pitch_range\": 12.0}, {\"track_id\": 234, \"pitch_range\": 14.0}, {\"track_id\": 235, \"pitch_range\": 7.0}, {\"track_id\": 236, \"pitch_range\": 20.0}, {\"track_id\": 237, \"pitch_range\": 7.0}, {\"track_id\": 238, \"pitch_range\": 4.0}, {\"track_id\": 239, \"pitch_range\": 7.0}, {\"track_id\": 240, \"pitch_range\": 10.0}, {\"track_id\": 241, \"pitch_range\": 12.0}, {\"track_id\": 242, \"pitch_range\": 7.0}, {\"track_id\": 243, \"pitch_range\": 11.0}, {\"track_id\": 244, \"pitch_range\": 7.0}, {\"track_id\": 245, \"pitch_range\": 15.0}, {\"track_id\": 246, \"pitch_range\": 10.0}, {\"track_id\": 247, \"pitch_range\": 14.0}, {\"track_id\": 248, \"pitch_range\": 12.0}, {\"track_id\": 249, \"pitch_range\": 3.0}, {\"track_id\": 250, \"pitch_range\": 9.0}, {\"track_id\": 251, \"pitch_range\": 24.0}, {\"track_id\": 252, \"pitch_range\": 10.0}, {\"track_id\": 253, \"pitch_range\": 3.0}, {\"track_id\": 254, \"pitch_range\": 10.0}, {\"track_id\": 255, \"pitch_range\": 12.0}, {\"track_id\": 256, \"pitch_range\": 9.0}, {\"track_id\": 257, \"pitch_range\": 9.0}, {\"track_id\": 258, \"pitch_range\": 12.0}, {\"track_id\": 259, \"pitch_range\": 17.0}, {\"track_id\": 260, \"pitch_range\": 8.0}, {\"track_id\": 261, \"pitch_range\": 7.0}, {\"track_id\": 262, \"pitch_range\": 16.0}, {\"track_id\": 263, \"pitch_range\": 9.0}, {\"track_id\": 264, \"pitch_range\": 12.0}, {\"track_id\": 265, \"pitch_range\": 5.0}, {\"track_id\": 266, \"pitch_range\": 7.0}, {\"track_id\": 267, \"pitch_range\": 8.0}, {\"track_id\": 268, \"pitch_range\": 3.0}, {\"track_id\": 269, \"pitch_range\": 11.0}, {\"track_id\": 270, \"pitch_range\": 7.0}, {\"track_id\": 271, \"pitch_range\": 9.0}, {\"track_id\": 272, \"pitch_range\": 16.0}, {\"track_id\": 273, \"pitch_range\": 19.0}, {\"track_id\": 274, \"pitch_range\": 28.0}, {\"track_id\": 275, \"pitch_range\": 16.0}, {\"track_id\": 276, \"pitch_range\": 28.0}, {\"track_id\": 277, \"pitch_range\": 18.0}, {\"track_id\": 278, \"pitch_range\": 6.0}, {\"track_id\": 279, \"pitch_range\": 12.0}, {\"track_id\": 280, \"pitch_range\": 8.0}, {\"track_id\": 281, \"pitch_range\": 10.0}, {\"track_id\": 282, \"pitch_range\": 26.0}, {\"track_id\": 283, \"pitch_range\": 17.0}, {\"track_id\": 284, \"pitch_range\": 14.0}, {\"track_id\": 285, \"pitch_range\": 5.0}, {\"track_id\": 286, \"pitch_range\": 10.0}, {\"track_id\": 287, \"pitch_range\": 9.0}, {\"track_id\": 288, \"pitch_range\": 16.0}, {\"track_id\": 289, \"pitch_range\": 3.0}, {\"track_id\": 290, \"pitch_range\": 4.0}, {\"track_id\": 291, \"pitch_range\": 22.0}, {\"track_id\": 292, \"pitch_range\": 10.0}, {\"track_id\": 293, \"pitch_range\": 7.0}, {\"track_id\": 294, \"pitch_range\": 9.0}, {\"track_id\": 295, \"pitch_range\": 9.0}, {\"track_id\": 296, \"pitch_range\": 7.0}, {\"track_id\": 297, \"pitch_range\": 4.0}, {\"track_id\": 298, \"pitch_range\": 4.0}, {\"track_id\": 299, \"pitch_range\": 12.0}, {\"track_id\": 300, \"pitch_range\": 7.0}, {\"track_id\": 301, \"pitch_range\": 7.0}, {\"track_id\": 302, \"pitch_range\": 14.0}, {\"track_id\": 303, \"pitch_range\": 19.0}, {\"track_id\": 304, \"pitch_range\": 2.0}, {\"track_id\": 305, \"pitch_range\": 7.0}, {\"track_id\": 306, \"pitch_range\": 8.0}, {\"track_id\": 307, \"pitch_range\": 5.0}, {\"track_id\": 308, \"pitch_range\": 7.0}, {\"track_id\": 309, \"pitch_range\": 8.0}, {\"track_id\": 310, \"pitch_range\": 4.0}, {\"track_id\": 311, \"pitch_range\": 9.0}, {\"track_id\": 312, \"pitch_range\": 17.0}, {\"track_id\": 313, \"pitch_range\": 14.0}, {\"track_id\": 314, \"pitch_range\": 9.0}, {\"track_id\": 315, \"pitch_range\": 9.0}, {\"track_id\": 316, \"pitch_range\": 9.0}, {\"track_id\": 317, \"pitch_range\": 10.0}, {\"track_id\": 318, \"pitch_range\": 10.0}, {\"track_id\": 319, \"pitch_range\": 17.0}, {\"track_id\": 320, \"pitch_range\": 14.0}, {\"track_id\": 321, \"pitch_range\": 9.0}, {\"track_id\": 322, \"pitch_range\": 8.0}, {\"track_id\": 323, \"pitch_range\": 4.0}, {\"track_id\": 324, \"pitch_range\": 19.0}, {\"track_id\": 325, \"pitch_range\": 11.0}, {\"track_id\": 326, \"pitch_range\": 15.0}, {\"track_id\": 327, \"pitch_range\": 8.0}, {\"track_id\": 328, \"pitch_range\": 12.0}, {\"track_id\": 329, \"pitch_range\": 17.0}, {\"track_id\": 330, \"pitch_range\": 17.0}, {\"track_id\": 331, \"pitch_range\": 9.0}, {\"track_id\": 332, \"pitch_range\": 5.0}, {\"track_id\": 333, \"pitch_range\": 7.0}, {\"track_id\": 334, \"pitch_range\": 5.0}, {\"track_id\": 335, \"pitch_range\": 3.0}, {\"track_id\": 336, \"pitch_range\": 7.0}, {\"track_id\": 337, \"pitch_range\": 5.0}, {\"track_id\": 338, \"pitch_range\": 8.0}, {\"track_id\": 339, \"pitch_range\": 12.0}, {\"track_id\": 340, \"pitch_range\": 7.0}, {\"track_id\": 341, \"pitch_range\": 7.0}, {\"track_id\": 342, \"pitch_range\": 7.0}, {\"track_id\": 343, \"pitch_range\": 17.0}, {\"track_id\": 344, \"pitch_range\": 17.0}, {\"track_id\": 345, \"pitch_range\": 17.0}, {\"track_id\": 346, \"pitch_range\": 29.0}, {\"track_id\": 347, \"pitch_range\": 7.0}, {\"track_id\": 348, \"pitch_range\": 12.0}, {\"track_id\": 349, \"pitch_range\": 17.0}, {\"track_id\": 350, \"pitch_range\": 12.0}, {\"track_id\": 351, \"pitch_range\": 7.0}, {\"track_id\": 352, \"pitch_range\": 8.0}, {\"track_id\": 353, \"pitch_range\": 8.0}, {\"track_id\": 354, \"pitch_range\": 0.0}, {\"track_id\": 355, \"pitch_range\": 17.0}, {\"track_id\": 356, \"pitch_range\": 7.0}, {\"track_id\": 357, \"pitch_range\": 10.0}, {\"track_id\": 358, \"pitch_range\": 4.0}, {\"track_id\": 359, \"pitch_range\": 15.0}, {\"track_id\": 360, \"pitch_range\": 11.0}, {\"track_id\": 361, \"pitch_range\": 5.0}, {\"track_id\": 362, \"pitch_range\": 29.0}, {\"track_id\": 363, \"pitch_range\": 17.0}, {\"track_id\": 364, \"pitch_range\": 4.0}, {\"track_id\": 365, \"pitch_range\": 8.0}, {\"track_id\": 366, \"pitch_range\": 7.0}, {\"track_id\": 367, \"pitch_range\": 5.0}, {\"track_id\": 368, \"pitch_range\": 9.0}, {\"track_id\": 369, \"pitch_range\": 10.0}, {\"track_id\": 370, \"pitch_range\": 5.0}, {\"track_id\": 371, \"pitch_range\": 8.0}, {\"track_id\": 372, \"pitch_range\": 7.0}, {\"track_id\": 373, \"pitch_range\": 36.0}, {\"track_id\": 374, \"pitch_range\": 18.0}, {\"track_id\": 375, \"pitch_range\": 4.0}, {\"track_id\": 376, \"pitch_range\": 15.0}, {\"track_id\": 377, \"pitch_range\": 15.0}, {\"track_id\": 378, \"pitch_range\": 7.0}, {\"track_id\": 379, \"pitch_range\": 8.0}, {\"track_id\": 380, \"pitch_range\": 20.0}, {\"track_id\": 381, \"pitch_range\": 31.0}, {\"track_id\": 382, \"pitch_range\": 6.0}, {\"track_id\": 383, \"pitch_range\": 1.0}, {\"track_id\": 384, \"pitch_range\": 12.0}, {\"track_id\": 385, \"pitch_range\": 17.0}, {\"track_id\": 386, \"pitch_range\": 24.0}, {\"track_id\": 387, \"pitch_range\": 5.0}, {\"track_id\": 388, \"pitch_range\": 9.0}, {\"track_id\": 389, \"pitch_range\": 5.0}, {\"track_id\": 390, \"pitch_range\": 10.0}, {\"track_id\": 391, \"pitch_range\": 0.0}, {\"track_id\": 392, \"pitch_range\": 10.0}, {\"track_id\": 393, \"pitch_range\": 7.0}, {\"track_id\": 394, \"pitch_range\": 12.0}, {\"track_id\": 395, \"pitch_range\": 7.0}, {\"track_id\": 396, \"pitch_range\": 24.0}, {\"track_id\": 397, \"pitch_range\": 7.0}, {\"track_id\": 398, \"pitch_range\": 0.0}, {\"track_id\": 399, \"pitch_range\": 21.0}, {\"track_id\": 400, \"pitch_range\": 10.0}, {\"track_id\": 401, \"pitch_range\": 7.0}, {\"track_id\": 402, \"pitch_range\": 7.0}, {\"track_id\": 403, \"pitch_range\": 0.0}, {\"track_id\": 404, \"pitch_range\": 1.0}, {\"track_id\": 405, \"pitch_range\": 7.0}, {\"track_id\": 406, \"pitch_range\": 19.0}, {\"track_id\": 407, \"pitch_range\": 7.0}, {\"track_id\": 408, \"pitch_range\": 9.0}, {\"track_id\": 409, \"pitch_range\": 17.0}, {\"track_id\": 410, \"pitch_range\": 7.0}, {\"track_id\": 411, \"pitch_range\": 8.0}, {\"track_id\": 412, \"pitch_range\": 15.0}, {\"track_id\": 413, \"pitch_range\": 8.0}, {\"track_id\": 414, \"pitch_range\": 7.0}, {\"track_id\": 415, \"pitch_range\": 7.0}, {\"track_id\": 416, \"pitch_range\": 7.0}, {\"track_id\": 417, \"pitch_range\": 27.0}, {\"track_id\": 418, \"pitch_range\": 7.0}, {\"track_id\": 419, \"pitch_range\": 16.0}, {\"track_id\": 420, \"pitch_range\": 15.0}, {\"track_id\": 421, \"pitch_range\": 8.0}, {\"track_id\": 422, \"pitch_range\": 5.0}, {\"track_id\": 423, \"pitch_range\": 12.0}, {\"track_id\": 424, \"pitch_range\": 6.0}, {\"track_id\": 425, \"pitch_range\": 1.0}, {\"track_id\": 426, \"pitch_range\": 1.0}, {\"track_id\": 427, \"pitch_range\": 9.0}, {\"track_id\": 428, \"pitch_range\": 38.0}, {\"track_id\": 429, \"pitch_range\": 15.0}, {\"track_id\": 430, \"pitch_range\": 10.0}, {\"track_id\": 431, \"pitch_range\": 10.0}, {\"track_id\": 432, \"pitch_range\": 4.0}, {\"track_id\": 433, \"pitch_range\": 9.0}, {\"track_id\": 434, \"pitch_range\": 12.0}, {\"track_id\": 435, \"pitch_range\": 10.0}, {\"track_id\": 436, \"pitch_range\": 9.0}, {\"track_id\": 437, \"pitch_range\": 10.0}, {\"track_id\": 438, \"pitch_range\": 5.0}, {\"track_id\": 439, \"pitch_range\": 17.0}, {\"track_id\": 440, \"pitch_range\": 7.0}, {\"track_id\": 441, \"pitch_range\": 5.0}, {\"track_id\": 442, \"pitch_range\": 7.0}, {\"track_id\": 443, \"pitch_range\": 7.0}, {\"track_id\": 444, \"pitch_range\": 10.0}, {\"track_id\": 445, \"pitch_range\": 13.0}, {\"track_id\": 446, \"pitch_range\": 7.0}, {\"track_id\": 447, \"pitch_range\": 8.0}, {\"track_id\": 448, \"pitch_range\": 9.0}, {\"track_id\": 449, \"pitch_range\": 27.0}, {\"track_id\": 450, \"pitch_range\": 12.0}, {\"track_id\": 451, \"pitch_range\": 3.0}, {\"track_id\": 452, \"pitch_range\": 0.0}, {\"track_id\": 453, \"pitch_range\": 7.0}, {\"track_id\": 454, \"pitch_range\": 5.0}, {\"track_id\": 455, \"pitch_range\": 5.0}, {\"track_id\": 456, \"pitch_range\": 14.0}, {\"track_id\": 457, \"pitch_range\": 21.0}, {\"track_id\": 458, \"pitch_range\": 7.0}, {\"track_id\": 459, \"pitch_range\": 7.0}, {\"track_id\": 460, \"pitch_range\": 7.0}, {\"track_id\": 461, \"pitch_range\": 5.0}, {\"track_id\": 462, \"pitch_range\": 19.0}, {\"track_id\": 463, \"pitch_range\": 7.0}, {\"track_id\": 464, \"pitch_range\": 17.0}, {\"track_id\": 465, \"pitch_range\": 3.0}, {\"track_id\": 466, \"pitch_range\": 7.0}, {\"track_id\": 467, \"pitch_range\": 7.0}, {\"track_id\": 468, \"pitch_range\": 7.0}, {\"track_id\": 469, \"pitch_range\": 16.0}, {\"track_id\": 470, \"pitch_range\": 19.0}, {\"track_id\": 471, \"pitch_range\": 13.0}, {\"track_id\": 472, \"pitch_range\": 36.0}, {\"track_id\": 473, \"pitch_range\": 31.0}, {\"track_id\": 474, \"pitch_range\": 24.0}, {\"track_id\": 475, \"pitch_range\": 12.0}, {\"track_id\": 476, \"pitch_range\": 32.0}, {\"track_id\": 477, \"pitch_range\": 37.0}, {\"track_id\": 478, \"pitch_range\": 52.0}, {\"track_id\": 479, \"pitch_range\": 16.0}, {\"track_id\": 480, \"pitch_range\": 19.0}, {\"track_id\": 481, \"pitch_range\": 16.0}, {\"track_id\": 482, \"pitch_range\": 21.0}, {\"track_id\": 483, \"pitch_range\": 18.0}, {\"track_id\": 484, \"pitch_range\": 17.0}, {\"track_id\": 485, \"pitch_range\": 31.0}, {\"track_id\": 486, \"pitch_range\": 33.0}, {\"track_id\": 487, \"pitch_range\": 29.0}, {\"track_id\": 488, \"pitch_range\": 39.0}, {\"track_id\": 489, \"pitch_range\": 12.0}, {\"track_id\": 490, \"pitch_range\": 16.0}, {\"track_id\": 491, \"pitch_range\": 24.0}, {\"track_id\": 492, \"pitch_range\": 23.0}, {\"track_id\": 493, \"pitch_range\": 17.0}, {\"track_id\": 494, \"pitch_range\": 35.0}, {\"track_id\": 495, \"pitch_range\": 62.0}, {\"track_id\": 496, \"pitch_range\": 23.0}, {\"track_id\": 497, \"pitch_range\": 14.0}, {\"track_id\": 498, \"pitch_range\": 21.0}, {\"track_id\": 499, \"pitch_range\": 9.0}, {\"track_id\": 500, \"pitch_range\": 19.0}, {\"track_id\": 501, \"pitch_range\": 7.0}, {\"track_id\": 502, \"pitch_range\": 5.0}, {\"track_id\": 503, \"pitch_range\": 7.0}, {\"track_id\": 504, \"pitch_range\": 5.0}, {\"track_id\": 505, \"pitch_range\": 9.0}, {\"track_id\": 506, \"pitch_range\": 7.0}, {\"track_id\": 507, \"pitch_range\": 14.0}, {\"track_id\": 508, \"pitch_range\": 7.0}, {\"track_id\": 509, \"pitch_range\": 4.0}, {\"track_id\": 510, \"pitch_range\": 7.0}, {\"track_id\": 511, \"pitch_range\": 7.0}, {\"track_id\": 512, \"pitch_range\": 3.0}, {\"track_id\": 513, \"pitch_range\": 7.0}, {\"track_id\": 514, \"pitch_range\": 7.0}, {\"track_id\": 515, \"pitch_range\": 9.0}, {\"track_id\": 516, \"pitch_range\": 7.0}, {\"track_id\": 517, \"pitch_range\": 13.0}, {\"track_id\": 518, \"pitch_range\": 7.0}, {\"track_id\": 519, \"pitch_range\": 3.0}, {\"track_id\": 520, \"pitch_range\": 9.0}, {\"track_id\": 521, \"pitch_range\": 3.0}, {\"track_id\": 522, \"pitch_range\": 7.0}, {\"track_id\": 523, \"pitch_range\": 12.0}, {\"track_id\": 524, \"pitch_range\": 9.0}, {\"track_id\": 525, \"pitch_range\": 7.0}, {\"track_id\": 526, \"pitch_range\": 20.0}, {\"track_id\": 527, \"pitch_range\": 0.0}, {\"track_id\": 528, \"pitch_range\": 16.0}, {\"track_id\": 529, \"pitch_range\": 9.0}, {\"track_id\": 530, \"pitch_range\": 0.0}, {\"track_id\": 531, \"pitch_range\": 7.0}, {\"track_id\": 532, \"pitch_range\": 12.0}, {\"track_id\": 533, \"pitch_range\": 7.0}, {\"track_id\": 534, \"pitch_range\": 7.0}, {\"track_id\": 535, \"pitch_range\": 17.0}, {\"track_id\": 536, \"pitch_range\": 7.0}, {\"track_id\": 537, \"pitch_range\": 10.0}, {\"track_id\": 538, \"pitch_range\": 7.0}, {\"track_id\": 539, \"pitch_range\": 9.0}, {\"track_id\": 540, \"pitch_range\": 4.0}, {\"track_id\": 541, \"pitch_range\": 7.0}, {\"track_id\": 542, \"pitch_range\": 19.0}, {\"track_id\": 543, \"pitch_range\": 12.0}, {\"track_id\": 544, \"pitch_range\": 10.0}, {\"track_id\": 545, \"pitch_range\": 7.0}, {\"track_id\": 546, \"pitch_range\": 2.0}, {\"track_id\": 547, \"pitch_range\": 7.0}, {\"track_id\": 548, \"pitch_range\": 20.0}, {\"track_id\": 549, \"pitch_range\": 10.0}, {\"track_id\": 550, \"pitch_range\": 36.0}, {\"track_id\": 551, \"pitch_range\": 9.0}, {\"track_id\": 552, \"pitch_range\": 9.0}, {\"track_id\": 553, \"pitch_range\": 12.0}, {\"track_id\": 554, \"pitch_range\": 0.0}, {\"track_id\": 555, \"pitch_range\": 7.0}, {\"track_id\": 556, \"pitch_range\": 15.0}, {\"track_id\": 557, \"pitch_range\": 7.0}, {\"track_id\": 558, \"pitch_range\": 3.0}, {\"track_id\": 559, \"pitch_range\": 17.0}, {\"track_id\": 560, \"pitch_range\": 12.0}, {\"track_id\": 561, \"pitch_range\": 22.0}, {\"track_id\": 562, \"pitch_range\": 22.0}, {\"track_id\": 563, \"pitch_range\": 10.0}, {\"track_id\": 564, \"pitch_range\": 10.0}, {\"track_id\": 565, \"pitch_range\": 8.0}, {\"track_id\": 566, \"pitch_range\": 5.0}, {\"track_id\": 567, \"pitch_range\": 0.0}, {\"track_id\": 568, \"pitch_range\": 7.0}, {\"track_id\": 569, \"pitch_range\": 5.0}, {\"track_id\": 570, \"pitch_range\": 9.0}, {\"track_id\": 571, \"pitch_range\": 12.0}, {\"track_id\": 572, \"pitch_range\": 6.0}, {\"track_id\": 573, \"pitch_range\": 7.0}, {\"track_id\": 574, \"pitch_range\": 7.0}, {\"track_id\": 575, \"pitch_range\": 38.0}, {\"track_id\": 576, \"pitch_range\": 7.0}, {\"track_id\": 577, \"pitch_range\": 17.0}, {\"track_id\": 578, \"pitch_range\": 14.0}, {\"track_id\": 579, \"pitch_range\": 4.0}, {\"track_id\": 580, \"pitch_range\": 8.0}, {\"track_id\": 581, \"pitch_range\": 2.0}, {\"track_id\": 582, \"pitch_range\": 10.0}, {\"track_id\": 583, \"pitch_range\": 14.0}, {\"track_id\": 584, \"pitch_range\": 7.0}, {\"track_id\": 585, \"pitch_range\": 10.0}, {\"track_id\": 586, \"pitch_range\": 5.0}, {\"track_id\": 587, \"pitch_range\": 7.0}, {\"track_id\": 588, \"pitch_range\": 10.0}, {\"track_id\": 589, \"pitch_range\": 5.0}, {\"track_id\": 590, \"pitch_range\": 8.0}, {\"track_id\": 591, \"pitch_range\": 8.0}, {\"track_id\": 592, \"pitch_range\": 22.0}, {\"track_id\": 593, \"pitch_range\": 7.0}, {\"track_id\": 594, \"pitch_range\": 4.0}, {\"track_id\": 595, \"pitch_range\": 12.0}, {\"track_id\": 596, \"pitch_range\": 10.0}, {\"track_id\": 597, \"pitch_range\": 10.0}, {\"track_id\": 598, \"pitch_range\": 12.0}, {\"track_id\": 599, \"pitch_range\": 3.0}, {\"track_id\": 600, \"pitch_range\": 7.0}, {\"track_id\": 601, \"pitch_range\": 14.0}, {\"track_id\": 602, \"pitch_range\": 9.0}, {\"track_id\": 603, \"pitch_range\": 0.0}, {\"track_id\": 604, \"pitch_range\": 12.0}, {\"track_id\": 605, \"pitch_range\": 27.0}, {\"track_id\": 606, \"pitch_range\": 8.0}, {\"track_id\": 607, \"pitch_range\": 7.0}, {\"track_id\": 608, \"pitch_range\": 9.0}, {\"track_id\": 609, \"pitch_range\": 7.0}, {\"track_id\": 610, \"pitch_range\": 10.0}, {\"track_id\": 611, \"pitch_range\": 10.0}, {\"track_id\": 612, \"pitch_range\": 4.0}, {\"track_id\": 613, \"pitch_range\": 4.0}, {\"track_id\": 614, \"pitch_range\": 7.0}, {\"track_id\": 615, \"pitch_range\": 22.0}, {\"track_id\": 616, \"pitch_range\": 5.0}, {\"track_id\": 617, \"pitch_range\": 17.0}, {\"track_id\": 618, \"pitch_range\": 9.0}, {\"track_id\": 619, \"pitch_range\": 4.0}, {\"track_id\": 620, \"pitch_range\": 0.0}, {\"track_id\": 621, \"pitch_range\": 9.0}, {\"track_id\": 622, \"pitch_range\": 24.0}, {\"track_id\": 623, \"pitch_range\": 3.0}, {\"track_id\": 624, \"pitch_range\": 7.0}, {\"track_id\": 625, \"pitch_range\": 17.0}, {\"track_id\": 626, \"pitch_range\": 10.0}, {\"track_id\": 627, \"pitch_range\": 17.0}, {\"track_id\": 628, \"pitch_range\": 5.0}, {\"track_id\": 629, \"pitch_range\": 10.0}, {\"track_id\": 630, \"pitch_range\": 12.0}, {\"track_id\": 631, \"pitch_range\": 7.0}, {\"track_id\": 632, \"pitch_range\": 10.0}, {\"track_id\": 633, \"pitch_range\": 7.0}, {\"track_id\": 634, \"pitch_range\": 8.0}, {\"track_id\": 635, \"pitch_range\": 7.0}, {\"track_id\": 636, \"pitch_range\": 12.0}, {\"track_id\": 637, \"pitch_range\": 7.0}, {\"track_id\": 638, \"pitch_range\": 15.0}, {\"track_id\": 639, \"pitch_range\": 8.0}, {\"track_id\": 640, \"pitch_range\": 8.0}, {\"track_id\": 641, \"pitch_range\": 12.0}, {\"track_id\": 642, \"pitch_range\": 16.0}, {\"track_id\": 643, \"pitch_range\": 10.0}, {\"track_id\": 644, \"pitch_range\": 7.0}, {\"track_id\": 645, \"pitch_range\": 15.0}, {\"track_id\": 646, \"pitch_range\": 12.0}, {\"track_id\": 647, \"pitch_range\": 13.0}, {\"track_id\": 648, \"pitch_range\": 13.0}, {\"track_id\": 649, \"pitch_range\": 3.0}, {\"track_id\": 650, \"pitch_range\": 12.0}, {\"track_id\": 651, \"pitch_range\": 7.0}, {\"track_id\": 652, \"pitch_range\": 14.0}, {\"track_id\": 653, \"pitch_range\": 29.0}, {\"track_id\": 654, \"pitch_range\": 12.0}, {\"track_id\": 655, \"pitch_range\": 19.0}, {\"track_id\": 656, \"pitch_range\": 7.0}, {\"track_id\": 657, \"pitch_range\": 17.0}, {\"track_id\": 658, \"pitch_range\": 14.0}, {\"track_id\": 659, \"pitch_range\": 14.0}, {\"track_id\": 660, \"pitch_range\": 17.0}, {\"track_id\": 661, \"pitch_range\": 22.0}, {\"track_id\": 662, \"pitch_range\": 7.0}, {\"track_id\": 663, \"pitch_range\": 5.0}, {\"track_id\": 664, \"pitch_range\": 6.0}, {\"track_id\": 665, \"pitch_range\": 10.0}, {\"track_id\": 666, \"pitch_range\": 4.0}, {\"track_id\": 667, \"pitch_range\": 5.0}, {\"track_id\": 668, \"pitch_range\": 24.0}, {\"track_id\": 669, \"pitch_range\": 7.0}, {\"track_id\": 670, \"pitch_range\": 10.0}, {\"track_id\": 671, \"pitch_range\": 5.0}, {\"track_id\": 672, \"pitch_range\": 4.0}, {\"track_id\": 673, \"pitch_range\": 12.0}, {\"track_id\": 674, \"pitch_range\": 14.0}, {\"track_id\": 675, \"pitch_range\": 20.0}, {\"track_id\": 676, \"pitch_range\": 15.0}, {\"track_id\": 677, \"pitch_range\": 7.0}, {\"track_id\": 678, \"pitch_range\": 13.0}, {\"track_id\": 679, \"pitch_range\": 7.0}, {\"track_id\": 680, \"pitch_range\": 11.0}, {\"track_id\": 681, \"pitch_range\": 9.0}, {\"track_id\": 682, \"pitch_range\": 9.0}, {\"track_id\": 683, \"pitch_range\": 51.0}, {\"track_id\": 684, \"pitch_range\": 35.0}, {\"track_id\": 685, \"pitch_range\": 12.0}, {\"track_id\": 686, \"pitch_range\": 12.0}, {\"track_id\": 687, \"pitch_range\": 8.0}, {\"track_id\": 688, \"pitch_range\": 10.0}, {\"track_id\": 689, \"pitch_range\": 5.0}, {\"track_id\": 690, \"pitch_range\": 10.0}, {\"track_id\": 691, \"pitch_range\": 9.0}, {\"track_id\": 692, \"pitch_range\": 4.0}, {\"track_id\": 693, \"pitch_range\": 9.0}, {\"track_id\": 694, \"pitch_range\": 9.0}, {\"track_id\": 695, \"pitch_range\": 7.0}, {\"track_id\": 696, \"pitch_range\": 17.0}, {\"track_id\": 697, \"pitch_range\": 8.0}, {\"track_id\": 698, \"pitch_range\": 24.0}, {\"track_id\": 699, \"pitch_range\": 20.0}, {\"track_id\": 700, \"pitch_range\": 24.0}, {\"track_id\": 701, \"pitch_range\": 8.0}, {\"track_id\": 702, \"pitch_range\": 2.0}, {\"track_id\": 703, \"pitch_range\": 10.0}, {\"track_id\": 704, \"pitch_range\": 17.0}, {\"track_id\": 705, \"pitch_range\": 14.0}, {\"track_id\": 706, \"pitch_range\": 12.0}, {\"track_id\": 707, \"pitch_range\": 7.0}, {\"track_id\": 708, \"pitch_range\": 8.0}, {\"track_id\": 709, \"pitch_range\": 7.0}, {\"track_id\": 710, \"pitch_range\": 19.0}, {\"track_id\": 711, \"pitch_range\": 14.0}, {\"track_id\": 712, \"pitch_range\": 7.0}, {\"track_id\": 713, \"pitch_range\": 10.0}, {\"track_id\": 714, \"pitch_range\": 9.0}, {\"track_id\": 715, \"pitch_range\": 6.0}, {\"track_id\": 716, \"pitch_range\": 12.0}, {\"track_id\": 717, \"pitch_range\": 15.0}, {\"track_id\": 718, \"pitch_range\": 0.0}, {\"track_id\": 719, \"pitch_range\": 0.0}, {\"track_id\": 720, \"pitch_range\": 9.0}, {\"track_id\": 721, \"pitch_range\": 5.0}, {\"track_id\": 722, \"pitch_range\": 7.0}, {\"track_id\": 723, \"pitch_range\": 14.0}, {\"track_id\": 724, \"pitch_range\": 10.0}, {\"track_id\": 725, \"pitch_range\": 10.0}, {\"track_id\": 726, \"pitch_range\": 3.0}, {\"track_id\": 727, \"pitch_range\": 29.0}, {\"track_id\": 728, \"pitch_range\": 12.0}, {\"track_id\": 729, \"pitch_range\": 7.0}, {\"track_id\": 730, \"pitch_range\": 4.0}, {\"track_id\": 731, \"pitch_range\": 17.0}, {\"track_id\": 732, \"pitch_range\": 12.0}, {\"track_id\": 733, \"pitch_range\": 12.0}, {\"track_id\": 734, \"pitch_range\": 8.0}, {\"track_id\": 735, \"pitch_range\": 8.0}, {\"track_id\": 736, \"pitch_range\": 17.0}, {\"track_id\": 737, \"pitch_range\": 14.0}, {\"track_id\": 738, \"pitch_range\": 15.0}, {\"track_id\": 739, \"pitch_range\": 14.0}, {\"track_id\": 740, \"pitch_range\": 14.0}, {\"track_id\": 741, \"pitch_range\": 7.0}, {\"track_id\": 742, \"pitch_range\": 9.0}, {\"track_id\": 743, \"pitch_range\": 4.0}, {\"track_id\": 744, \"pitch_range\": 12.0}, {\"track_id\": 745, \"pitch_range\": 12.0}, {\"track_id\": 746, \"pitch_range\": 10.0}, {\"track_id\": 747, \"pitch_range\": 5.0}, {\"track_id\": 748, \"pitch_range\": 13.0}, {\"track_id\": 749, \"pitch_range\": 0.0}, {\"track_id\": 750, \"pitch_range\": 0.0}, {\"track_id\": 751, \"pitch_range\": 12.0}, {\"track_id\": 752, \"pitch_range\": 5.0}, {\"track_id\": 753, \"pitch_range\": 7.0}, {\"track_id\": 754, \"pitch_range\": 10.0}, {\"track_id\": 755, \"pitch_range\": 5.0}, {\"track_id\": 756, \"pitch_range\": 5.0}, {\"track_id\": 757, \"pitch_range\": 14.0}, {\"track_id\": 758, \"pitch_range\": 31.0}, {\"track_id\": 759, \"pitch_range\": 7.0}, {\"track_id\": 760, \"pitch_range\": 5.0}, {\"track_id\": 761, \"pitch_range\": 19.0}, {\"track_id\": 762, \"pitch_range\": 20.0}, {\"track_id\": 763, \"pitch_range\": 7.0}, {\"track_id\": 764, \"pitch_range\": 3.0}, {\"track_id\": 765, \"pitch_range\": 10.0}, {\"track_id\": 766, \"pitch_range\": 8.0}, {\"track_id\": 767, \"pitch_range\": 7.0}, {\"track_id\": 768, \"pitch_range\": 6.0}, {\"track_id\": 769, \"pitch_range\": 7.0}, {\"track_id\": 770, \"pitch_range\": 0.0}, {\"track_id\": 771, \"pitch_range\": 12.0}]}}, {\"mode\": \"vega-lite\"});\n",
              "</script>"
            ]
          },
          "metadata": {
            "tags": []
          },
          "execution_count": 152
        }
      ]
    },
    {
      "cell_type": "markdown",
      "metadata": {
        "id": "YLe4w4jUr6hY"
      },
      "source": [
        "Let's look at song with the highest number of notes. Its id is 550:"
      ],
      "id": "YLe4w4jUr6hY"
    },
    {
      "cell_type": "code",
      "metadata": {
        "colab": {
          "base_uri": "https://localhost:8080/",
          "height": 114
        },
        "id": "uIA-0NTSr6h1",
        "outputId": "28863dc7-cc30-463d-c514-87d69a7c7206"
      },
      "source": [
        "biggest_track = tracks_filtered_df[tracks_divided_df['track_id'] == 550]\n",
        "biggest_track"
      ],
      "id": "uIA-0NTSr6h1",
      "execution_count": 154,
      "outputs": [
        {
          "output_type": "stream",
          "text": [
            "/usr/local/lib/python3.7/dist-packages/ipykernel_launcher.py:1: UserWarning: Boolean Series key will be reindexed to match DataFrame index.\n",
            "  \"\"\"Entry point for launching an IPython kernel.\n"
          ],
          "name": "stderr"
        },
        {
          "output_type": "execute_result",
          "data": {
            "text/html": [
              "<div>\n",
              "<style scoped>\n",
              "    .dataframe tbody tr th:only-of-type {\n",
              "        vertical-align: middle;\n",
              "    }\n",
              "\n",
              "    .dataframe tbody tr th {\n",
              "        vertical-align: top;\n",
              "    }\n",
              "\n",
              "    .dataframe thead th {\n",
              "        text-align: right;\n",
              "    }\n",
              "</style>\n",
              "<table border=\"1\" class=\"dataframe\">\n",
              "  <thead>\n",
              "    <tr style=\"text-align: right;\">\n",
              "      <th></th>\n",
              "      <th>track_id</th>\n",
              "      <th>number_of_notes</th>\n",
              "      <th>highest_pitch</th>\n",
              "      <th>highest_pitch_note</th>\n",
              "      <th>lowest_pitch</th>\n",
              "      <th>lowest_pitch_note</th>\n",
              "      <th>pitch_range</th>\n",
              "      <th>notes</th>\n",
              "    </tr>\n",
              "  </thead>\n",
              "  <tbody>\n",
              "    <tr>\n",
              "      <th>550</th>\n",
              "      <td>550</td>\n",
              "      <td>210</td>\n",
              "      <td>88.0</td>\n",
              "      <td>E6</td>\n",
              "      <td>52.0</td>\n",
              "      <td>E3</td>\n",
              "      <td>36.0</td>\n",
              "      <td>[{'absolute_offset': 0.0, 'pitch': 81.0, 'name...</td>\n",
              "    </tr>\n",
              "  </tbody>\n",
              "</table>\n",
              "</div>"
            ],
            "text/plain": [
              "     track_id  ...                                              notes\n",
              "550       550  ...  [{'absolute_offset': 0.0, 'pitch': 81.0, 'name...\n",
              "\n",
              "[1 rows x 8 columns]"
            ]
          },
          "metadata": {
            "tags": []
          },
          "execution_count": 154
        }
      ]
    },
    {
      "cell_type": "code",
      "metadata": {
        "colab": {
          "base_uri": "https://localhost:8080/"
        },
        "id": "5aZua_3Dr6h3",
        "outputId": "e9854a16-1757-4edb-f84f-d16f13dfb938"
      },
      "source": [
        "biggest_track.iloc[0]['notes'][:2]"
      ],
      "id": "5aZua_3Dr6h3",
      "execution_count": 155,
      "outputs": [
        {
          "output_type": "execute_result",
          "data": {
            "text/plain": [
              "[{'absolute_offset': 0.0, 'duration': 0.25, 'name': 'A5', 'pitch': 81.0},\n",
              " {'absolute_offset': 0.25, 'duration': 0.25, 'name': 'G5', 'pitch': 79.0}]"
            ]
          },
          "metadata": {
            "tags": []
          },
          "execution_count": 155
        }
      ]
    },
    {
      "cell_type": "code",
      "metadata": {
        "colab": {
          "base_uri": "https://localhost:8080/",
          "height": 419
        },
        "id": "FTXkBTsir6h4",
        "outputId": "a66d28c0-a1c3-409e-8f20-220cd8ee8c37"
      },
      "source": [
        "biggest_track_df = pd.DataFrame(biggest_track.iloc[0]['notes'])\n",
        "biggest_track_df"
      ],
      "id": "FTXkBTsir6h4",
      "execution_count": 156,
      "outputs": [
        {
          "output_type": "execute_result",
          "data": {
            "text/html": [
              "<div>\n",
              "<style scoped>\n",
              "    .dataframe tbody tr th:only-of-type {\n",
              "        vertical-align: middle;\n",
              "    }\n",
              "\n",
              "    .dataframe tbody tr th {\n",
              "        vertical-align: top;\n",
              "    }\n",
              "\n",
              "    .dataframe thead th {\n",
              "        text-align: right;\n",
              "    }\n",
              "</style>\n",
              "<table border=\"1\" class=\"dataframe\">\n",
              "  <thead>\n",
              "    <tr style=\"text-align: right;\">\n",
              "      <th></th>\n",
              "      <th>absolute_offset</th>\n",
              "      <th>pitch</th>\n",
              "      <th>name</th>\n",
              "      <th>duration</th>\n",
              "    </tr>\n",
              "  </thead>\n",
              "  <tbody>\n",
              "    <tr>\n",
              "      <th>0</th>\n",
              "      <td>0</td>\n",
              "      <td>81.0</td>\n",
              "      <td>A5</td>\n",
              "      <td>0.25</td>\n",
              "    </tr>\n",
              "    <tr>\n",
              "      <th>1</th>\n",
              "      <td>0.25</td>\n",
              "      <td>79.0</td>\n",
              "      <td>G5</td>\n",
              "      <td>0.25</td>\n",
              "    </tr>\n",
              "    <tr>\n",
              "      <th>2</th>\n",
              "      <td>1/3</td>\n",
              "      <td>81.0</td>\n",
              "      <td>A5</td>\n",
              "      <td>0.25</td>\n",
              "    </tr>\n",
              "    <tr>\n",
              "      <th>3</th>\n",
              "      <td>0.5</td>\n",
              "      <td>84.0</td>\n",
              "      <td>C6</td>\n",
              "      <td>0.25</td>\n",
              "    </tr>\n",
              "    <tr>\n",
              "      <th>4</th>\n",
              "      <td>2/3</td>\n",
              "      <td>81.0</td>\n",
              "      <td>A5</td>\n",
              "      <td>0.25</td>\n",
              "    </tr>\n",
              "    <tr>\n",
              "      <th>...</th>\n",
              "      <td>...</td>\n",
              "      <td>...</td>\n",
              "      <td>...</td>\n",
              "      <td>...</td>\n",
              "    </tr>\n",
              "    <tr>\n",
              "      <th>205</th>\n",
              "      <td>44</td>\n",
              "      <td>84.0</td>\n",
              "      <td>C6</td>\n",
              "      <td>0.25</td>\n",
              "    </tr>\n",
              "    <tr>\n",
              "      <th>206</th>\n",
              "      <td>44.25</td>\n",
              "      <td>76.0</td>\n",
              "      <td>E5</td>\n",
              "      <td>0.25</td>\n",
              "    </tr>\n",
              "    <tr>\n",
              "      <th>207</th>\n",
              "      <td>133/3</td>\n",
              "      <td>76.0</td>\n",
              "      <td>E5</td>\n",
              "      <td>0.25</td>\n",
              "    </tr>\n",
              "    <tr>\n",
              "      <th>208</th>\n",
              "      <td>44.5</td>\n",
              "      <td>69.0</td>\n",
              "      <td>A4</td>\n",
              "      <td>0.25</td>\n",
              "    </tr>\n",
              "    <tr>\n",
              "      <th>209</th>\n",
              "      <td>134/3</td>\n",
              "      <td>81.0</td>\n",
              "      <td>A5</td>\n",
              "      <td>0.25</td>\n",
              "    </tr>\n",
              "  </tbody>\n",
              "</table>\n",
              "<p>210 rows × 4 columns</p>\n",
              "</div>"
            ],
            "text/plain": [
              "    absolute_offset  pitch name  duration\n",
              "0                 0   81.0   A5      0.25\n",
              "1              0.25   79.0   G5      0.25\n",
              "2               1/3   81.0   A5      0.25\n",
              "3               0.5   84.0   C6      0.25\n",
              "4               2/3   81.0   A5      0.25\n",
              "..              ...    ...  ...       ...\n",
              "205              44   84.0   C6      0.25\n",
              "206           44.25   76.0   E5      0.25\n",
              "207           133/3   76.0   E5      0.25\n",
              "208            44.5   69.0   A4      0.25\n",
              "209           134/3   81.0   A5      0.25\n",
              "\n",
              "[210 rows x 4 columns]"
            ]
          },
          "metadata": {
            "tags": []
          },
          "execution_count": 156
        }
      ]
    },
    {
      "cell_type": "code",
      "metadata": {
        "colab": {
          "base_uri": "https://localhost:8080/",
          "height": 533
        },
        "id": "YIFRh4zHr6h5",
        "outputId": "471d704a-4f11-424b-edb6-cea49ae6b0a6"
      },
      "source": [
        "figure(figsize=(16, 8), dpi=80)\n",
        "plt.scatter(biggest_track_df['absolute_offset'], np.ones(len(biggest_track_df)),alpha=0.5);\n",
        "plt.scatter(biggest_track_df['absolute_offset'], biggest_track_df['pitch'],alpha=0.5);\n"
      ],
      "id": "YIFRh4zHr6h5",
      "execution_count": 157,
      "outputs": [
        {
          "output_type": "display_data",
          "data": {
            "image/png": "[encoded data removed]",
            "text/plain": [
              "<Figure size 1280x640 with 1 Axes>"
            ]
          },
          "metadata": {
            "tags": [],
            "needs_background": "light"
          }
        }
      ]
    },
    {
      "cell_type": "markdown",
      "metadata": {
        "id": "wl3g2rkWu7Id"
      },
      "source": [
        "It looks much more uniform"
      ],
      "id": "wl3g2rkWu7Id"
    },
    {
      "cell_type": "code",
      "metadata": {
        "id": "UpqJ7CmjwMIq",
        "outputId": "9d40da4d-b44f-470f-e13c-64d374cf8a6a",
        "colab": {
          "base_uri": "https://localhost:8080/"
        }
      },
      "source": [
        "len(filtered_tracks)"
      ],
      "id": "UpqJ7CmjwMIq",
      "execution_count": 162,
      "outputs": [
        {
          "output_type": "execute_result",
          "data": {
            "text/plain": [
              "772"
            ]
          },
          "metadata": {
            "tags": []
          },
          "execution_count": 162
        }
      ]
    },
    {
      "cell_type": "code",
      "metadata": {
        "id": "6TRRru8Pq0Iw"
      },
      "source": [
        "pickle.dump( filtered_tracks, open( \"clean_tracks_absolute.p\", \"wb\" ) )"
      ],
      "id": "6TRRru8Pq0Iw",
      "execution_count": 159,
      "outputs": []
    },
    {
      "cell_type": "markdown",
      "metadata": {
        "id": "3x5nOPj2vctG"
      },
      "source": [
        "## Interval approach"
      ],
      "id": "3x5nOPj2vctG"
    },
    {
      "cell_type": "code",
      "metadata": {
        "id": "6CILfFU-v_tp"
      },
      "source": [
        "def from_pitches_to_intervals_with_time (array_of_pitches_with_time):\n",
        "    intervals_with_time = []\n",
        "    for i in range(1,len(array_of_pitches_with_time) - 1):\n",
        "\n",
        "        first_element = array_of_pitches_with_time[i-1]\n",
        "        second_element = array_of_pitches_with_time[i]\n",
        "        resultElement = {\n",
        "            'relative_offset': second_element['absolute_offset'] - first_element['absolute_offset'],\n",
        "            'interval': second_element['pitch'] - first_element['pitch'],\n",
        "            'duration': second_element['duration'], \n",
        "            'name': second_element['name'], \n",
        "            #'element': second_element['element']\n",
        "        }\n",
        "        intervals_with_time.append(resultElement)\n",
        "    return intervals_with_time"
      ],
      "id": "6CILfFU-v_tp",
      "execution_count": 160,
      "outputs": []
    },
    {
      "cell_type": "code",
      "metadata": {
        "id": "0DbhVVp8wAls"
      },
      "source": [
        "filtered_intervals = [from_pitches_to_intervals_with_time(track) for track in filtered_tracks]"
      ],
      "id": "0DbhVVp8wAls",
      "execution_count": 163,
      "outputs": []
    },
    {
      "cell_type": "code",
      "metadata": {
        "id": "kpc189tdwSLH",
        "outputId": "7d98426d-5067-4af3-cd9c-28289e8a526e",
        "colab": {
          "base_uri": "https://localhost:8080/"
        }
      },
      "source": [
        "len(filtered_intervals)"
      ],
      "id": "kpc189tdwSLH",
      "execution_count": 164,
      "outputs": [
        {
          "output_type": "execute_result",
          "data": {
            "text/plain": [
              "772"
            ]
          },
          "metadata": {
            "tags": []
          },
          "execution_count": 164
        }
      ]
    },
    {
      "cell_type": "code",
      "metadata": {
        "id": "zHx6ieo8wUnG"
      },
      "source": [
        "pickle.dump( filtered_intervals, open( \"clean_tracks_interval.p\", \"wb\" ) )"
      ],
      "id": "zHx6ieo8wUnG",
      "execution_count": 165,
      "outputs": []
    }
  ]
}