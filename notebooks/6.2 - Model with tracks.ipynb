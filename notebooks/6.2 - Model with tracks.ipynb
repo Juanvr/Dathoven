{
 "cells": [
  {
   "cell_type": "markdown",
   "id": "f7569376-d818-496d-afa2-cbbb8e88c5c7",
   "metadata": {},
   "source": [
    "# Model with tracks"
   ]
  },
  {
   "cell_type": "code",
   "execution_count": 152,
   "id": "b7023f84-bf81-40b3-85d7-2628d5183822",
   "metadata": {},
   "outputs": [],
   "source": [
    "from keras.models import Sequential\n",
    "from keras.layers import Dense, Dropout, LSTM\n",
    "from keras.callbacks import ModelCheckpoint, EarlyStopping\n",
    "from keras.utils import np_utils\n",
    "from keras import metrics\n",
    "import numpy as np\n",
    "\n",
    "from matplotlib import pyplot as plt\n"
   ]
  },
  {
   "cell_type": "code",
   "execution_count": 117,
   "id": "1de784b7-c9c5-4e04-92c0-d4ddfa79222d",
   "metadata": {},
   "outputs": [],
   "source": [
    " # Load back from the pickle file.\n",
    "import pickle\n",
    "\n",
    "songs_with_tracks = pickle.load( open( \"./songs_with_tracks.p\", \"rb\" ) )"
   ]
  },
  {
   "cell_type": "code",
   "execution_count": 118,
   "id": "98d5fab0-9956-4aa2-b139-c61a4bdf9e85",
   "metadata": {},
   "outputs": [],
   "source": [
    "tracks = []\n",
    "[[tracks.append(track) for track in song if len(track) > 5] for song in songs_with_tracks];"
   ]
  },
  {
   "cell_type": "code",
   "execution_count": 119,
   "id": "7553df5a-e0d6-454d-a2fd-a4c4a648e4de",
   "metadata": {},
   "outputs": [
    {
     "data": {
      "text/plain": [
       "782"
      ]
     },
     "execution_count": 119,
     "metadata": {},
     "output_type": "execute_result"
    }
   ],
   "source": [
    "len(tracks)"
   ]
  },
  {
   "cell_type": "code",
   "execution_count": 120,
   "id": "fa68ad43-5f52-4b5e-ac5c-355de5175d1f",
   "metadata": {},
   "outputs": [],
   "source": [
    "import fractions"
   ]
  },
  {
   "cell_type": "code",
   "execution_count": 121,
   "id": "1866c563-167a-441d-963a-b83639e7abc2",
   "metadata": {},
   "outputs": [],
   "source": [
    "duration_to_number = {}\n",
    "number_to_duration  = {}\n",
    "\n",
    "count=0\n",
    "duration = 0\n",
    "while duration <= 20:\n",
    "    number_to_duration[count] = duration\n",
    "    duration_to_number[duration] = count\n",
    "    count+=1\n",
    "    duration+=0.25\n",
    "\n",
    "duration = 0\n",
    "while duration <= 20:\n",
    "    if not duration in duration_to_number:\n",
    "        number_to_duration[count] = duration\n",
    "        duration_to_number[duration] = count\n",
    "        count+=1\n",
    "    duration+=fractions.Fraction(1,3)"
   ]
  },
  {
   "cell_type": "code",
   "execution_count": 122,
   "id": "8ea16fa3-5eb6-436a-a357-1df5d82e34a0",
   "metadata": {},
   "outputs": [],
   "source": [
    "interval_to_number = {}\n",
    "number_to_interval = {}\n",
    "\n",
    "for i in range(0,100):\n",
    "    interval_to_number[i] = i\n",
    "    interval_to_number[-i] = 100 + i\n",
    "    number_to_interval[i] = i\n",
    "    number_to_interval[100+i] = -i"
   ]
  },
  {
   "cell_type": "code",
   "execution_count": 123,
   "id": "2522cbad-bf9e-4a4b-affc-4f458e829693",
   "metadata": {},
   "outputs": [],
   "source": [
    "train_set = [ \\\n",
    "    [\\\n",
    "        [\n",
    "         duration_to_number[round(element['relative_offset']*4)/4] if (round(element['relative_offset']*4)/4 in duration_to_number) else 1, \n",
    "         interval_to_number[element['interval']], \n",
    "         duration_to_number[element['duration']]\n",
    "        ] \\\n",
    "    for element in track]\\\n",
    "for track in tracks]"
   ]
  },
  {
   "cell_type": "code",
   "execution_count": 124,
   "id": "196375b8-ce28-41ac-8e79-6c14c303bf45",
   "metadata": {},
   "outputs": [],
   "source": [
    "# split a multivariate sequence into samples\n",
    "def split_sequences(sequences, n_steps):\n",
    "    X, y = list(), list()\n",
    "    for i in range(len(sequences)):\n",
    "        # find the end of this pattern\n",
    "        end_ix = i + n_steps\n",
    "        # check if we are beyond the dataset\n",
    "        if end_ix > len(sequences)-1:\n",
    "            break\n",
    "        # gather input and output parts of the pattern\n",
    "        seq_x, seq_y = np.array(sequences)[i:end_ix, :], np.array(sequences)[end_ix, :]\n",
    "        X.append(seq_x)\n",
    "        y.append(seq_y)\n",
    "    return np.array(X), np.array(y)"
   ]
  },
  {
   "cell_type": "code",
   "execution_count": 125,
   "id": "b3c84ae8-2938-49d9-8ad0-b09c5b68139a",
   "metadata": {
    "tags": []
   },
   "outputs": [],
   "source": [
    "X, y = [], []\n",
    "for i in range(len(train_set)):\n",
    "    X_temp, y_temp = split_sequences(train_set[i], 10)\n",
    "      \n",
    "    if (len(X_temp) > 0 and len(y_temp) > 0):\n",
    "        X = X_temp if len(X)==0 else np.concatenate([X,X_temp])\n",
    "        y = y_temp if len(y)==0 else np.concatenate([y,y_temp])\n",
    "    \n",
    "\n"
   ]
  },
  {
   "cell_type": "code",
   "execution_count": 151,
   "id": "91c94197-4055-456c-b26b-92326468f8aa",
   "metadata": {},
   "outputs": [],
   "source": [
    "# Save into a pickle file.\n",
    "import pickle\n",
    "\n",
    "pickle.dump( tracks, open( \"training_tracks_seqlength10.p\", \"wb\" ) )"
   ]
  },
  {
   "cell_type": "code",
   "execution_count": 127,
   "id": "f0dbfef1-c64f-4330-8c29-2db20c334428",
   "metadata": {},
   "outputs": [],
   "source": [
    "from keras.layers import Dense, Dropout, LSTM, Input\n",
    "from keras import Model\n",
    "from keras.metrics import SparseTopKCategoricalAccuracy"
   ]
  },
  {
   "cell_type": "code",
   "execution_count": 128,
   "id": "b84dfe5a-fcb0-4508-a05c-35f35eaca7ca",
   "metadata": {},
   "outputs": [
    {
     "name": "stdout",
     "output_type": "stream",
     "text": [
      "Model: \"model_3\"\n",
      "__________________________________________________________________________________________________\n",
      "Layer (type)                    Output Shape         Param #     Connected to                     \n",
      "==================================================================================================\n",
      "input_3 (InputLayer)            (None, 10, 3)        0                                            \n",
      "__________________________________________________________________________________________________\n",
      "lstm_5 (LSTM)                   (None, 10, 20)       1920        input_3[0][0]                    \n",
      "__________________________________________________________________________________________________\n",
      "dropout_5 (Dropout)             (None, 10, 20)       0           lstm_5[0][0]                     \n",
      "__________________________________________________________________________________________________\n",
      "lstm_6 (LSTM)                   (None, 20)           3280        dropout_5[0][0]                  \n",
      "__________________________________________________________________________________________________\n",
      "dropout_6 (Dropout)             (None, 20)           0           lstm_6[0][0]                     \n",
      "__________________________________________________________________________________________________\n",
      "dense_7 (Dense)                 (None, 121)          2541        dropout_6[0][0]                  \n",
      "__________________________________________________________________________________________________\n",
      "dense_8 (Dense)                 (None, 199)          4179        dropout_6[0][0]                  \n",
      "__________________________________________________________________________________________________\n",
      "dense_9 (Dense)                 (None, 121)          2541        dropout_6[0][0]                  \n",
      "==================================================================================================\n",
      "Total params: 14,461\n",
      "Trainable params: 14,461\n",
      "Non-trainable params: 0\n",
      "__________________________________________________________________________________________________\n"
     ]
    }
   ],
   "source": [
    "hid = 20\n",
    "past_time_steps = 10\n",
    "n_features = 3\n",
    "future_time_steps = 1\n",
    "inputs = Input(shape=(past_time_steps, n_features))\n",
    "m = LSTM(hid, return_sequences=True)(inputs)\n",
    "m = Dropout(0.5)(m)\n",
    "m = LSTM(hid)(m)\n",
    "m = Dropout(0.5)(m)\n",
    "\n",
    "#outputA = Dense(future_time_steps, activation='linear')(m)\n",
    "#outputB = Dense(future_time_steps, activation='linear')(m)\n",
    "#outputC = Dense(future_time_steps, activation='linear')(m)\n",
    "\n",
    "outputA = Dense(len(duration_to_number), activation='softmax')(m)\n",
    "outputB = Dense(len(interval_to_number), activation='softmax')(m)\n",
    "outputC = Dense(len(duration_to_number), activation='softmax')(m)\n",
    "\n",
    "m = Model(inputs=[inputs], outputs=[outputA, outputB, outputC])\n",
    "#m.compile(optimizer='adam', loss='mae')\n",
    "\n",
    "m.compile(loss='sparse_categorical_crossentropy', optimizer='adam', metrics=[SparseTopKCategoricalAccuracy(k=3, name='sparse_top_k_categorical_accuracy')])\n",
    "\n",
    "\n",
    "m.summary()"
   ]
  },
  {
   "cell_type": "code",
   "execution_count": 129,
   "id": "71a3f5a5-b063-42dc-8726-3d19cd4b24d6",
   "metadata": {},
   "outputs": [],
   "source": [
    "# checkpoint\n",
    "filepath=\"models_checkpoints/weights-improvement-{epoch:02d}-{val_loss:.2f}.hdf5\"\n",
    "checkpoint = ModelCheckpoint(filepath, monitor='val_loss', verbose=1, save_best_only=False, mode='min')\n",
    "early_stopping = EarlyStopping(monitor='val_loss', mode='min', verbose=1, patience=3)\n",
    "callbacks_list = [checkpoint, early_stopping]"
   ]
  },
  {
   "cell_type": "code",
   "execution_count": 130,
   "id": "a2c6e825-dca7-4930-aa3d-d8ad0051f18c",
   "metadata": {},
   "outputs": [],
   "source": [
    "BATCH_SIZE = 64\n",
    "EPOCHS = 50"
   ]
  },
  {
   "cell_type": "code",
   "execution_count": 131,
   "id": "725d444b-7949-4486-bc47-4ea901ce8df0",
   "metadata": {},
   "outputs": [],
   "source": [
    "y1 = y[:,0]\n",
    "y2 = y[:,1]\n",
    "y3 = y[:,2]"
   ]
  },
  {
   "cell_type": "code",
   "execution_count": 132,
   "id": "fb5e17ed-c97c-4738-a630-7d51b2838abe",
   "metadata": {},
   "outputs": [
    {
     "name": "stdout",
     "output_type": "stream",
     "text": [
      "Train on 13507 samples, validate on 1501 samples\n",
      "Epoch 1/50\n",
      "13507/13507 [==============================] - 9s 662us/step - loss: 7.3266 - dense_7_loss: 2.1844 - dense_8_loss: 3.4552 - dense_9_loss: 1.6755 - dense_7_sparse_top_k_categorical_accuracy: 0.8293 - dense_8_sparse_top_k_categorical_accuracy: 0.4020 - dense_9_sparse_top_k_categorical_accuracy: 0.9245 - val_loss: 4.5242 - val_dense_7_loss: 1.1893 - val_dense_8_loss: 2.6813 - val_dense_9_loss: 0.6436 - val_dense_7_sparse_top_k_categorical_accuracy: 0.9294 - val_dense_8_sparse_top_k_categorical_accuracy: 0.4684 - val_dense_9_sparse_top_k_categorical_accuracy: 0.9880431 - dense_7_loss: 4.2417 - dense_8_loss: 4.9136 - dense_9_loss: 3.9878 - dense_7_spars - ETA: 0s - loss: 7.4269 - dense_7_loss: 2.2266 - dense_8_loss: 3.4791 - dense_9_loss: 1.7212 - dense_7_sparse_top_k_categorical_accuracy: 0.8250 - dense_8_sparse_top_k_categorical_accuracy: 0.3990 - dense_9_sparse_top_k_categorical_accuracy: 0.92 - ETA: 0s - loss: 7.4001 - dense_7_loss: 2.2170 - dense_8_loss: 3.4722 - dense_9_loss: 1.7109 - dense_7_sparse_top_k_categorical_accuracy: 0.8260 - dense_8_sparse_top_k_categorical_accuracy: 0.3997 - dense_9_sparse_top_k_categorical_accuracy\n",
      "\n",
      "Epoch 00001: saving model to models_checkpoints/weights-improvement-01-4.52.hdf5\n",
      "Epoch 2/50\n",
      "13507/13507 [==============================] - 7s 502us/step - loss: 4.5667 - dense_7_loss: 1.2252 - dense_8_loss: 2.7108 - dense_9_loss: 0.6385 - dense_7_sparse_top_k_categorical_accuracy: 0.9457 - dense_8_sparse_top_k_categorical_accuracy: 0.4832 - dense_9_sparse_top_k_categorical_accuracy: 0.9884 - val_loss: 4.3795 - val_dense_7_loss: 1.1472 - val_dense_8_loss: 2.6418 - val_dense_9_loss: 0.5813 - val_dense_7_sparse_top_k_categorical_accuracy: 0.9294 - val_dense_8_sparse_top_k_categorical_accuracy: 0.4684 - val_dense_9_sparse_top_k_categorical_accuracy: 0.9880s: 2.7370 - dense_9_loss: 0.6536 - dense_7_sparse_top_k_categorical_accuracy: 0.9487 - dense_8_sparse_top_k_categorical_accuracy: 0.4779 - dense_9_sparse_top_k_cate - ETA: 2s - loss: 4.5945 - dense_7_loss: 1.2295 - dense_8_loss: 2.7287 - dense_9_loss: 0.6363 - dense_7_sparse_top_k_categorical_accuracy: 0.9472 - dense_8_sparse_top_k_categorical_accuracy: 0.4794 - dense_9 - ETA: 1s - loss: 4.5791 - dense_7_loss: 1.2322 - dense_8_loss: 2.7137 - dense_9_loss: 0.6333 - dense_7_sparse_top_k_categorical_accuracy: 0.9444 - dense_8_sparse_top_k_categorical_accuracy: 0.4812 - dense_9_sparse_top_k_catego - ETA: 0s - loss: 4.5798 - dense_7_loss: 1.2312 - dense_8_loss: 2.7112 - dense_9_loss: 0.6375 - dense_7_sparse_top_k_categorical_accuracy: 0.9446 - dense_8_sparse_top_k_categorical_accuracy: 0.4828 - dense_9_sparse_top_k_categorical_accuracy: 0.98 - ETA: 0s - loss: 4.5770 - dense_7_loss: 1.2291 - dense_8_loss: 2.7117 - dense_9_loss: 0.6362 - dense_7_sparse_top_k_categorical_accuracy: 0.9450 - dense_8_sparse_top_k_categorical_accuracy: 0.4824 - dense_9_sparse_top_k_cate\n",
      "\n",
      "Epoch 00002: saving model to models_checkpoints/weights-improvement-02-4.38.hdf5\n",
      "Epoch 3/50\n",
      "13507/13507 [==============================] - 7s 501us/step - loss: 4.4098 - dense_7_loss: 1.1682 - dense_8_loss: 2.6617 - dense_9_loss: 0.5747 - dense_7_sparse_top_k_categorical_accuracy: 0.9455 - dense_8_sparse_top_k_categorical_accuracy: 0.4870 - dense_9_sparse_top_k_categorical_accuracy: 0.9884 - val_loss: 4.3255 - val_dense_7_loss: 1.1355 - val_dense_8_loss: 2.6329 - val_dense_9_loss: 0.5485 - val_dense_7_sparse_top_k_categorical_accuracy: 0.9294 - val_dense_8_sparse_top_k_categorical_accuracy: 0.4684 - val_dense_9_sparse_top_k_categorical_accuracy: 0.9880\n",
      "\n",
      "Epoch 00003: saving model to models_checkpoints/weights-improvement-03-4.33.hdf5\n",
      "Epoch 4/50\n",
      "13507/13507 [==============================] - 7s 503us/step - loss: 4.3265 - dense_7_loss: 1.1449 - dense_8_loss: 2.6378 - dense_9_loss: 0.5390 - dense_7_sparse_top_k_categorical_accuracy: 0.9460 - dense_8_sparse_top_k_categorical_accuracy: 0.4971 - dense_9_sparse_top_k_categorical_accuracy: 0.9884 - val_loss: 4.2708 - val_dense_7_loss: 1.1297 - val_dense_8_loss: 2.6182 - val_dense_9_loss: 0.5147 - val_dense_7_sparse_top_k_categorical_accuracy: 0.9294 - val_dense_8_sparse_top_k_categorical_accuracy: 0.4684 - val_dense_9_sparse_top_k_categorical_accuracy: 0.9880dense_7_loss: 1.1493 - dense_8_loss: 2.6309 - dense_9_loss: 0.5469 - dense_7_sparse_top_k_categorical_accuracy: 0.9462 - dense_8_sparse_top_k_categorical_accuracy: 0.5006 - dense_9\n",
      "\n",
      "Epoch 00004: saving model to models_checkpoints/weights-improvement-04-4.27.hdf5\n",
      "Epoch 5/50\n",
      "13507/13507 [==============================] - 7s 498us/step - loss: 4.2728 - dense_7_loss: 1.1426 - dense_8_loss: 2.6194 - dense_9_loss: 0.5109 - dense_7_sparse_top_k_categorical_accuracy: 0.9461 - dense_8_sparse_top_k_categorical_accuracy: 0.4960 - dense_9_sparse_top_k_categorical_accuracy: 0.9885 - val_loss: 4.2250 - val_dense_7_loss: 1.1276 - val_dense_8_loss: 2.6153 - val_dense_9_loss: 0.4763 - val_dense_7_sparse_top_k_categorical_accuracy: 0.9294 - val_dense_8_sparse_top_k_categorical_accuracy: 0.4684 - val_dense_9_sparse_top_k_categorical_accuracy: 0.9880 - dense_8_loss: 2.5635 - dense_9_loss: 0.5008 - dense_7_sparse_top_k_categorical_accuracy: 0.9412 - dense_8_sparse_top_k_categorical_accuracy: 0.5130 - dense_9_sparse_top_k_categorical_accuracy: 0. - ETA: 4s - loss: 4.2357 - dense_7_loss: 1.1660 - dense_8_loss: 2.5728 - dense_9_loss: 0.4969 - dense_7_sparse_top_k_categorical_accuracy: 0.94 - ETA: 1s - loss: 4.2732 - dense_7_loss: 1.1457 - dense_8_loss: 2.6127 - dense_9_loss: 0.5149 - dense_7_sparse_top_k_categorical_accuracy: 0.9451 - dense_8_sparse_top_k_categorical_accuracy: 0.4951 - dense_9_sparse_top_k_ca - ETA: 0s - loss: 4.2631 - dense_7_loss: 1.1393 - dense_8_loss: 2.6171 - dense_9_loss: 0.5067 - dense_7_sparse_top_k_categorical_accuracy: 0.9450 - dense_8_sparse_top_k_categorical_accuracy: 0.4948 - dense_9_sparse_top_\n",
      "\n",
      "Epoch 00005: saving model to models_checkpoints/weights-improvement-05-4.23.hdf5\n",
      "Epoch 6/50\n",
      "13507/13507 [==============================] - 7s 506us/step - loss: 4.2141 - dense_7_loss: 1.1287 - dense_8_loss: 2.6192 - dense_9_loss: 0.4794 - dense_7_sparse_top_k_categorical_accuracy: 0.9460 - dense_8_sparse_top_k_categorical_accuracy: 0.4960 - dense_9_sparse_top_k_categorical_accuracy: 0.9884 - val_loss: 4.1491 - val_dense_7_loss: 1.1024 - val_dense_8_loss: 2.6032 - val_dense_9_loss: 0.4372 - val_dense_7_sparse_top_k_categorical_accuracy: 0.9294 - val_dense_8_sparse_top_k_categorical_accuracy: 0.4684 - val_dense_9_sparse_top_k_categorical_accuracy: 0.9880dense_7_loss: 1.1272 - dense_8_loss: 2.5875 - dense_9_loss: 0.4810 - dense_7_sparse_top_k_categorical_accuracy: 0.9452 - dense_8_sparse_top_k_categorical_accuracy: 0.5028 - dense_9_spars - ETA: 2s - loss: 4.2096 - dense_7_loss: 1.1252 - dense_8_loss: 2.6026 - dense_9_loss: 0.4818 - dense_7_sparse_top_k_categorical_accuracy: 0.9454 - dense_8_sparse_top_k_categorical_accuracy: 0.4968 - dense_9_spars - ETA: 1s - loss: 4.2104 - dense_7_loss: 1.1252 - dense_8_loss: 2.6054 - dense_9_loss: 0.4798 - dense_7_sparse_top_k_categorical_accuracy: 0.9457 - dense_8_sparse_top_k_categorical_accuracy: 0.4979 - dense_9_sparse_ - ETA: 0s - loss: 4.2161 - dense_7_loss: 1.1276 - dense_8_loss: 2.6062 - dense_9_loss: 0.4823 - dense_7_sparse_top_k_categorical_accuracy: 0.9457 - dense_8_sparse_top_k_categorical_accuracy: 0.4960 - dense_9_sparse_top_k_categorical_accu\n",
      "\n",
      "Epoch 00006: saving model to models_checkpoints/weights-improvement-06-4.15.hdf5\n",
      "Epoch 7/50\n",
      "13507/13507 [==============================] - 7s 504us/step - loss: 4.1718 - dense_7_loss: 1.1255 - dense_8_loss: 2.5904 - dense_9_loss: 0.4649 - dense_7_sparse_top_k_categorical_accuracy: 0.9461 - dense_8_sparse_top_k_categorical_accuracy: 0.4999 - dense_9_sparse_top_k_categorical_accuracy: 0.9883 - val_loss: 4.1428 - val_dense_7_loss: 1.1115 - val_dense_8_loss: 2.6055 - val_dense_9_loss: 0.4208 - val_dense_7_sparse_top_k_categorical_accuracy: 0.9294 - val_dense_8_sparse_top_k_categorical_accuracy: 0.4684 - val_dense_9_sparse_top_k_categorical_accuracy: 0.9880915 - dense_9_loss: 0.4492 - dense_7_sparse_top_k_categorical_accuracy: 0.9474 - dense_8_sparse_top_k_categorical_accuracy: 0.4999 - dense_9_sparse_top_k_categorical_accuracy - ETA: 2s - loss: 4.1597 - dense_7_loss: 1.1174 - dense_8_loss: 2.5903 - dense_9_loss: 0.4520 - dense_7_sparse_top_k_categorical_accuracy: 0.9470 - dense_8_sparse_top_k_categorical_accuracy: 0.4997 - dense_9_sparse_top_k_categorical_accuracy: 0.98 - ETA: 2s - loss: 4.1610 - dense_7_loss: 1.1168 - dense_8_loss: 2.5935 - dense_9_loss: 0.4507 - dense_7_sparse_top_k_categorical_accuracy: 0.9472 - dense\n",
      "\n",
      "Epoch 00007: saving model to models_checkpoints/weights-improvement-07-4.14.hdf5\n",
      "Epoch 8/50\n",
      "13507/13507 [==============================] - 7s 505us/step - loss: 4.1418 - dense_7_loss: 1.1114 - dense_8_loss: 2.5770 - dense_9_loss: 0.4421 - dense_7_sparse_top_k_categorical_accuracy: 0.9461 - dense_8_sparse_top_k_categorical_accuracy: 0.5011 - dense_9_sparse_top_k_categorical_accuracy: 0.9884 - val_loss: 4.1165 - val_dense_7_loss: 1.1017 - val_dense_8_loss: 2.5919 - val_dense_9_loss: 0.4167 - val_dense_7_sparse_top_k_categorical_accuracy: 0.9294 - val_dense_8_sparse_top_k_categorical_accuracy: 0.4684 - val_dense_9_sparse_top_k_categorical_accuracy: 0.9880categorical_accuracy: 0.9462 - dense_8_sparse_top_k_categorical_accura\n",
      "\n",
      "Epoch 00008: saving model to models_checkpoints/weights-improvement-08-4.12.hdf5\n",
      "Epoch 9/50\n",
      "13507/13507 [==============================] - 7s 502us/step - loss: 4.1244 - dense_7_loss: 1.1191 - dense_8_loss: 2.5789 - dense_9_loss: 0.4407 - dense_7_sparse_top_k_categorical_accuracy: 0.9460 - dense_8_sparse_top_k_categorical_accuracy: 0.5023 - dense_9_sparse_top_k_categorical_accuracy: 0.9882 - val_loss: 4.0985 - val_dense_7_loss: 1.0954 - val_dense_8_loss: 2.5873 - val_dense_9_loss: 0.4098 - val_dense_7_sparse_top_k_categorical_accuracy: 0.9294 - val_dense_8_sparse_top_k_categorical_accuracy: 0.4724 - val_dense_9_sparse_top_k_categorical_accuracy: 0.9880nse_7_loss: 1.0899 - dense_8_loss: 2.6124 - dense_9_loss: 0.4346 - dense_7_sparse_top_k_categorical_\n",
      "\n",
      "Epoch 00009: saving model to models_checkpoints/weights-improvement-09-4.10.hdf5\n",
      "Epoch 10/50\n",
      "13507/13507 [==============================] - 7s 506us/step - loss: 4.1031 - dense_7_loss: 1.1092 - dense_8_loss: 2.5653 - dense_9_loss: 0.4312 - dense_7_sparse_top_k_categorical_accuracy: 0.9460 - dense_8_sparse_top_k_categorical_accuracy: 0.5025 - dense_9_sparse_top_k_categorical_accuracy: 0.9883 - val_loss: 4.0947 - val_dense_7_loss: 1.0922 - val_dense_8_loss: 2.5870 - val_dense_9_loss: 0.4099 - val_dense_7_sparse_top_k_categorical_accuracy: 0.9294 - val_dense_8_sparse_top_k_categorical_accuracy: 0.4684 - val_dense_9_sparse_top_k_categorical_accuracy: 0.9880\n",
      "\n",
      "Epoch 00010: saving model to models_checkpoints/weights-improvement-10-4.09.hdf5\n",
      "Epoch 11/50\n",
      "13507/13507 [==============================] - 7s 501us/step - loss: 4.0855 - dense_7_loss: 1.1055 - dense_8_loss: 2.5623 - dense_9_loss: 0.4258 - dense_7_sparse_top_k_categorical_accuracy: 0.9461 - dense_8_sparse_top_k_categorical_accuracy: 0.5043 - dense_9_sparse_top_k_categorical_accuracy: 0.9884 - val_loss: 4.0891 - val_dense_7_loss: 1.0942 - val_dense_8_loss: 2.5817 - val_dense_9_loss: 0.4068 - val_dense_7_sparse_top_k_categorical_accuracy: 0.9294 - val_dense_8_sparse_top_k_categorical_accuracy: 0.4744 - val_dense_9_sparse_top_k_categorical_accuracy: 0.9880\n",
      "\n",
      "Epoch 00011: saving model to models_checkpoints/weights-improvement-11-4.09.hdf5\n",
      "Epoch 12/50\n",
      "13507/13507 [==============================] - 7s 500us/step - loss: 4.0741 - dense_7_loss: 1.0949 - dense_8_loss: 2.5587 - dense_9_loss: 0.4203 - dense_7_sparse_top_k_categorical_accuracy: 0.9460 - dense_8_sparse_top_k_categorical_accuracy: 0.5017 - dense_9_sparse_top_k_categorical_accuracy: 0.9882 - val_loss: 4.0789 - val_dense_7_loss: 1.0931 - val_dense_8_loss: 2.5812 - val_dense_9_loss: 0.3994 - val_dense_7_sparse_top_k_categorical_accuracy: 0.9294 - val_dense_8_sparse_top_k_categorical_accuracy: 0.4637 - val_dense_9_sparse_top_k_categorical_accuracy: 0.9880dense_7_loss: 1.0546 - dense_8_loss: 2.578 - ETA: 0s - loss: 4.0836 - dense_7_loss: 1.0980 - dense_8_loss: 2.5621 - dense_9_loss: 0.4234 - dense_7_sparse_top_k_categorical_accuracy: 0.9462 - dense_8_sparse_top_k_categorical_accuracy: 0.4998 - dense_9_sparse_top_k_categorical_accura\n",
      "\n",
      "Epoch 00012: saving model to models_checkpoints/weights-improvement-12-4.08.hdf5\n",
      "Epoch 13/50\n",
      "13507/13507 [==============================] - 7s 518us/step - loss: 4.0627 - dense_7_loss: 1.0973 - dense_8_loss: 2.5489 - dense_9_loss: 0.4170 - dense_7_sparse_top_k_categorical_accuracy: 0.9459 - dense_8_sparse_top_k_categorical_accuracy: 0.5031 - dense_9_sparse_top_k_categorical_accuracy: 0.9882 - val_loss: 4.0775 - val_dense_7_loss: 1.0934 - val_dense_8_loss: 2.5791 - val_dense_9_loss: 0.3984 - val_dense_7_sparse_top_k_categorical_accuracy: 0.9294 - val_dense_8_sparse_top_k_categorical_accuracy: 0.4817 - val_dense_9_sparse_top_k_categorical_accuracy: 0.9880\n",
      "\n",
      "Epoch 00013: saving model to models_checkpoints/weights-improvement-13-4.08.hdf5\n",
      "Epoch 14/50\n",
      "13507/13507 [==============================] - 7s 512us/step - loss: 4.0463 - dense_7_loss: 1.0935 - dense_8_loss: 2.5462 - dense_9_loss: 0.4146 - dense_7_sparse_top_k_categorical_accuracy: 0.9460 - dense_8_sparse_top_k_categorical_accuracy: 0.5040 - dense_9_sparse_top_k_categorical_accuracy: 0.9881 - val_loss: 4.0791 - val_dense_7_loss: 1.0900 - val_dense_8_loss: 2.5804 - val_dense_9_loss: 0.4033 - val_dense_7_sparse_top_k_categorical_accuracy: 0.9294 - val_dense_8_sparse_top_k_categorical_accuracy: 0.4770 - val_dense_9_sparse_top_k_categorical_accuracy: 0.9880dense_7_loss: 1.0925 - dense_8_loss: 2.5611 - dense_9_loss: 0.4165 - dense_7_sparse_top_k_categorical_accuracy: 0.9452 - dense_8\n",
      "\n",
      "Epoch 00014: saving model to models_checkpoints/weights-improvement-14-4.08.hdf5\n",
      "Epoch 15/50\n",
      "13507/13507 [==============================] - 7s 516us/step - loss: 4.0325 - dense_7_loss: 1.0872 - dense_8_loss: 2.5488 - dense_9_loss: 0.4010 - dense_7_sparse_top_k_categorical_accuracy: 0.9462 - dense_8_sparse_top_k_categorical_accuracy: 0.5019 - dense_9_sparse_top_k_categorical_accuracy: 0.9881 - val_loss: 4.0705 - val_dense_7_loss: 1.0888 - val_dense_8_loss: 2.5788 - val_dense_9_loss: 0.3968 - val_dense_7_sparse_top_k_categorical_accuracy: 0.9294 - val_dense_8_sparse_top_k_categorical_accuracy: 0.4783 - val_dense_9_sparse_top_k_categorical_accuracy: 0.9880ense_8_loss: 2.5697 - dense_9_loss: 0.4041 - dense_7_sparse_top_k_categorical_accuracy: 0.9454 - dense_8_s - ETA: 1s - loss: 4.0506 - dense_7_loss: 1.0834 - dense_8_loss: 2.5564 - dense_9_loss: 0.4107 - dense_7_sparse_top_k_categorical_accuracy: 0.9454 - dense_8_sparse_top_k_categorical_accuracy: 0.4995 - dense_9_sparse_\n",
      "\n",
      "Epoch 00015: saving model to models_checkpoints/weights-improvement-15-4.07.hdf5\n",
      "Epoch 16/50\n",
      "13507/13507 [==============================] - 7s 502us/step - loss: 4.0266 - dense_7_loss: 1.0909 - dense_8_loss: 2.5361 - dense_9_loss: 0.3996 - dense_7_sparse_top_k_categorical_accuracy: 0.9461 - dense_8_sparse_top_k_categorical_accuracy: 0.5049 - dense_9_sparse_top_k_categorical_accuracy: 0.9881 - val_loss: 4.0600 - val_dense_7_loss: 1.0858 - val_dense_8_loss: 2.5759 - val_dense_9_loss: 0.3922 - val_dense_7_sparse_top_k_categorical_accuracy: 0.9294 - val_dense_8_sparse_top_k_categorical_accuracy: 0.4657 - val_dense_9_sparse_top_k_categorical_accuracy: 0.9873se_8_loss: 2.5371 - dense_9_loss: 0.4035 - dense_7_sparse_top_k_categorical_accuracy: 0.9462 - dense_8_sparse_top_k_categorical_accuracy: 0.5076 - dense_9_sparse_top_k_categori - ETA: 1s - loss: 4.0292 - dense_7_loss: 1.0843 - dense_8_loss: 2.5425 - dense_9_loss: 0.4023 - dense_7_sparse_top_k_categorical_accuracy: 0.9459 - dense_8_sparse_top_k_categorical_accuracy: 0.5065 - dense_9_sparse_top_k_categorical_accuracy: 0.98 - ETA: 1s - loss: 4.0268 - dense_7_loss: 1.0843 - dense_8_loss: 2.5416 - dense_9_loss: 0.4009 - dense_7_sparse_top_k_categorical_accuracy: 0.9460 - dense_8_sparse_top_k_categorical_accuracy: 0. - ETA: 0s - loss: 4.0266 - dense_7_loss: 1.0845 - dense_8_loss: 2.5411 - dense_9_loss: 0.4010 - dense_7_sparse_top_k_categorical_accuracy: 0.9462 - dense_8_sparse_top_k_categorical_accuracy: 0.5048 - dense_9_sparse_top_k_categorical_accuracy: 0.98\n",
      "\n",
      "Epoch 00016: saving model to models_checkpoints/weights-improvement-16-4.06.hdf5\n",
      "Epoch 17/50\n",
      "13507/13507 [==============================] - 7s 503us/step - loss: 4.0164 - dense_7_loss: 1.0835 - dense_8_loss: 2.5461 - dense_9_loss: 0.3965 - dense_7_sparse_top_k_categorical_accuracy: 0.9464 - dense_8_sparse_top_k_categorical_accuracy: 0.5034 - dense_9_sparse_top_k_categorical_accuracy: 0.9882 - val_loss: 4.0548 - val_dense_7_loss: 1.0850 - val_dense_8_loss: 2.5723 - val_dense_9_loss: 0.3914 - val_dense_7_sparse_top_k_categorical_accuracy: 0.9294 - val_dense_8_sparse_top_k_categorical_accuracy: 0.4803 - val_dense_9_sparse_top_k_categorical_accuracy: 0.9873dense_9_loss: 0.3967 - dense_7_sparse_top_k_categorical_accuracy: 0.9461 - dense_8_sparse_top_k_categorical_accuracy: 0.5036 - dense_9_sparse_top_k_categorical_\n",
      "\n",
      "Epoch 00017: saving model to models_checkpoints/weights-improvement-17-4.05.hdf5\n",
      "Epoch 18/50\n",
      "13507/13507 [==============================] - 7s 501us/step - loss: 4.0116 - dense_7_loss: 1.0776 - dense_8_loss: 2.5384 - dense_9_loss: 0.3996 - dense_7_sparse_top_k_categorical_accuracy: 0.9461 - dense_8_sparse_top_k_categorical_accuracy: 0.5030 - dense_9_sparse_top_k_categorical_accuracy: 0.9881 - val_loss: 4.0630 - val_dense_7_loss: 1.0859 - val_dense_8_loss: 2.5810 - val_dense_9_loss: 0.3907 - val_dense_7_sparse_top_k_categorical_accuracy: 0.9294 - val_dense_8_sparse_top_k_categorical_accuracy: 0.4697 - val_dense_9_sparse_top_k_categorical_accuracy: 0.9873nse_7_loss: 1.0784 - dense_8_loss: 2.5364 - dense_9_loss: 0.3961 - dense_7_sparse_top_k_categorical_accuracy: 0.9464 - dense_8_sparse_top_k_categorical_accuracy: 0.5038 - dense_9_sparse_top_k_categorical_ac\n",
      "\n",
      "Epoch 00018: saving model to models_checkpoints/weights-improvement-18-4.06.hdf5\n",
      "Epoch 19/50\n",
      "13507/13507 [==============================] - 7s 497us/step - loss: 4.0010 - dense_7_loss: 1.0755 - dense_8_loss: 2.5346 - dense_9_loss: 0.3916 - dense_7_sparse_top_k_categorical_accuracy: 0.9462 - dense_8_sparse_top_k_categorical_accuracy: 0.5050 - dense_9_sparse_top_k_categorical_accuracy: 0.9881 - val_loss: 4.0623 - val_dense_7_loss: 1.0918 - val_dense_8_loss: 2.5758 - val_dense_9_loss: 0.3890 - val_dense_7_sparse_top_k_categorical_accuracy: 0.9294 - val_dense_8_sparse_top_k_categorical_accuracy: 0.4797 - val_dense_9_sparse_top_k_categorical_accuracy: 0.9873\n",
      "\n",
      "Epoch 00019: saving model to models_checkpoints/weights-improvement-19-4.06.hdf5\n",
      "Epoch 20/50\n",
      "13507/13507 [==============================] - 7s 499us/step - loss: 4.0044 - dense_7_loss: 1.0790 - dense_8_loss: 2.5302 - dense_9_loss: 0.3878 - dense_7_sparse_top_k_categorical_accuracy: 0.9465 - dense_8_sparse_top_k_categorical_accuracy: 0.5057 - dense_9_sparse_top_k_categorical_accuracy: 0.9879 - val_loss: 4.0677 - val_dense_7_loss: 1.0922 - val_dense_8_loss: 2.5780 - val_dense_9_loss: 0.3916 - val_dense_7_sparse_top_k_categorical_accuracy: 0.9294 - val_dense_8_sparse_top_k_categorical_accuracy: 0.4777 - val_dense_9_sparse_top_k_categorical_accuracy: 0.98731.0613 - dense_8_loss: 2.5229 - dense_9_loss: 0.3912 - dense_7_sparse_top_k_categorical_accuracy: 0.9493 - dense_8_sparse_top_k_categorical_accuracy: 0.5101 - dense_9_spars - ETA: 3s - loss: 3.9790 - dense_7_loss: 1.0698 - dense_8_loss: 2.5180 - dense_9_loss: 0.3912 - dense_7_sparse_top_k_categorical_accuracy: 0.9479 - d\n",
      "\n",
      "Epoch 00020: saving model to models_checkpoints/weights-improvement-20-4.07.hdf5\n",
      "Epoch 00020: early stopping\n"
     ]
    }
   ],
   "source": [
    "history = m.fit(X, [y1,y2,y3], validation_split = 0.1,  batch_size=BATCH_SIZE, epochs=EPOCHS, callbacks=callbacks_list)"
   ]
  },
  {
   "cell_type": "code",
   "execution_count": 98,
   "id": "19c2ce73-150a-446f-8e27-cfcdf97b3adc",
   "metadata": {
    "jupyter": {
     "source_hidden": true
    },
    "tags": []
   },
   "outputs": [],
   "source": [
    "from matplotlib import pyplot as plt"
   ]
  },
  {
   "cell_type": "code",
   "execution_count": 133,
   "id": "361d642d-8537-4a44-b933-b0a00f08cd9c",
   "metadata": {},
   "outputs": [
    {
     "data": {
      "image/png": "[encoded data removed]",
      "text/plain": [
       "<Figure size 432x288 with 1 Axes>"
      ]
     },
     "metadata": {
      "image/png": {
       "height": 277,
       "width": 385
      },
      "needs_background": "light"
     },
     "output_type": "display_data"
    }
   ],
   "source": [
    "plt.plot(m.history.history['loss'])\n",
    "plt.plot(m.history.history['val_loss'])\n",
    "plt.title('model loss')\n",
    "plt.ylabel('loss')\n",
    "plt.xlabel('epoch')\n",
    "plt.legend(['train', 'val'], loc='upper left')\n",
    "plt.show()"
   ]
  },
  {
   "cell_type": "code",
   "execution_count": null,
   "id": "81d095a7-c1b9-42ec-b70b-87f73d0df5f1",
   "metadata": {},
   "outputs": [],
   "source": []
  },
  {
   "cell_type": "code",
   "execution_count": 134,
   "id": "3f93c78c-8756-4620-b28e-1526f01083ff",
   "metadata": {},
   "outputs": [],
   "source": [
    "from random import randint\n",
    "def sample(preds):\n",
    "    sorted_indexes = np.argsort(preds)[::-1]\n",
    "    return sorted_indexes[randint(0,3)]"
   ]
  },
  {
   "cell_type": "code",
   "execution_count": 135,
   "id": "b7fc503f-1a6e-4b86-a42a-e3c4f26d3e48",
   "metadata": {},
   "outputs": [],
   "source": [
    "def sample_seq( seq, seq_length, model, number_to_note, output_seq_length ):\n",
    "    if output_seq_length <= len(seq): raise Exception(\"output_seq_length must be higher than seq_length\")\n",
    "        \n",
    "    output_seq = seq\n",
    "    for i in range(output_seq_length - len(seq)):\n",
    "        input_sequence = [seq[-seq_length:]]\n",
    "        x = [pad_sequences(input_sequence, maxlen = seq_length, padding=\"pre\")]\n",
    "        prediction = model.predict(x)\n",
    "        \n",
    "        index1 = sample(prediction)\n",
    "        \n",
    "        index = sample(prediction[0])\n",
    "        output_seq.append(index)\n",
    "    #[number_to_note(number) for number in output_seq]\n",
    "    return output_seq"
   ]
  },
  {
   "cell_type": "code",
   "execution_count": 136,
   "id": "11e9f10b-b9da-4e94-a977-2feaaff29036",
   "metadata": {},
   "outputs": [],
   "source": [
    "from keras.preprocessing.sequence import pad_sequences"
   ]
  },
  {
   "cell_type": "code",
   "execution_count": 137,
   "id": "00baf9c5-7cbc-4c1c-a19c-dde5c8c2c661",
   "metadata": {},
   "outputs": [],
   "source": [
    "def pad( input_seq, desired_length, fill_value):\n",
    "    if len(input_seq) >= desired_length:\n",
    "        return input_seq\n",
    "    else: \n",
    "        [input_seq.insert(0, fill_value) for i in range(0, desired_length - len(input_seq))]\n",
    "        return input_seq"
   ]
  },
  {
   "cell_type": "code",
   "execution_count": 138,
   "id": "4938d88f-d09b-4f25-b0f7-82fc60505287",
   "metadata": {},
   "outputs": [],
   "source": [
    "def sample_seq( input_seq, length_expected_by_model, model, output_seq_length, padding_fill_value ):\n",
    "    if output_seq_length <= len(input_seq): raise Exception(\"output_seq_length must be higher than seq_length\")\n",
    "        \n",
    "    output_seq = input_seq\n",
    "    for i in range(output_seq_length - len(input_seq)):\n",
    "        input_sequence = input_seq[-length_expected_by_model:]\n",
    "        x = [pad(input_sequence, length_expected_by_model, padding_fill_value)]\n",
    "        #print(x)\n",
    "        prediction = model.predict(np.array(x))\n",
    "        #print(prediction[0][0])\n",
    "        \n",
    "        index1 = sample(prediction[0][0])\n",
    "        index2 = sample(prediction[1][0])\n",
    "        index3 = sample(prediction[2][0])\n",
    "        #index = sample(prediction[0])\n",
    "        output_seq.append([index1, index2, index3])\n",
    "    return output_seq"
   ]
  },
  {
   "cell_type": "code",
   "execution_count": 139,
   "id": "2564dff5-e985-42a6-a934-926d4a3d523d",
   "metadata": {},
   "outputs": [
    {
     "data": {
      "text/plain": [
       "[[1, 1, 1], [3, 105, 2], [1, 2, 1], [2, 105, 81], [0, 102, 4]]"
      ]
     },
     "execution_count": 139,
     "metadata": {},
     "output_type": "execute_result"
    }
   ],
   "source": [
    "sample_seq([[1,1,1]], 10, m, 5, [0,0,0])"
   ]
  },
  {
   "cell_type": "code",
   "execution_count": 140,
   "id": "c19b400b-c6b1-4609-a3a8-f9984800909d",
   "metadata": {},
   "outputs": [],
   "source": [
    "generated_vector = sample_seq([[1,1,1]], 10, m, 50, [0,0,0])"
   ]
  },
  {
   "cell_type": "code",
   "execution_count": 141,
   "id": "bfdcae25-4ec8-4757-8c1a-b8ad4028d4d3",
   "metadata": {},
   "outputs": [
    {
     "data": {
      "text/plain": [
       "[[1, 1, 1],\n",
       " [1, 100, 4],\n",
       " [0, 100, 1],\n",
       " [2, 105, 2],\n",
       " [2, 105, 1],\n",
       " [0, 105, 4],\n",
       " [1, 2, 1],\n",
       " [3, 2, 2],\n",
       " [3, 100, 1],\n",
       " [3, 102, 1],\n",
       " [1, 105, 81],\n",
       " [2, 105, 1],\n",
       " [2, 105, 2],\n",
       " [1, 2, 4],\n",
       " [3, 105, 2],\n",
       " [3, 2, 1],\n",
       " [2, 105, 2],\n",
       " [1, 100, 4],\n",
       " [2, 2, 1],\n",
       " [0, 102, 4],\n",
       " [0, 100, 2],\n",
       " [0, 100, 81],\n",
       " [2, 100, 81],\n",
       " [0, 100, 2],\n",
       " [2, 105, 1],\n",
       " [3, 102, 2],\n",
       " [2, 100, 1],\n",
       " [1, 2, 1],\n",
       " [0, 102, 1],\n",
       " [0, 100, 4],\n",
       " [0, 102, 81],\n",
       " [0, 105, 1],\n",
       " [1, 100, 4],\n",
       " [2, 102, 4],\n",
       " [0, 2, 81],\n",
       " [2, 2, 4],\n",
       " [3, 105, 4],\n",
       " [3, 102, 81],\n",
       " [1, 105, 1],\n",
       " [2, 2, 81],\n",
       " [0, 102, 81],\n",
       " [2, 100, 1],\n",
       " [3, 105, 81],\n",
       " [1, 7, 1],\n",
       " [0, 102, 4],\n",
       " [0, 2, 4],\n",
       " [1, 102, 2],\n",
       " [0, 105, 4],\n",
       " [1, 102, 1],\n",
       " [1, 2, 2]]"
      ]
     },
     "execution_count": 141,
     "metadata": {},
     "output_type": "execute_result"
    }
   ],
   "source": [
    "generated_vector"
   ]
  },
  {
   "cell_type": "code",
   "execution_count": 142,
   "id": "0ec64ac8-a3be-4602-ae68-2bdc6da16735",
   "metadata": {},
   "outputs": [],
   "source": [
    "generated_intervals = [{'relative_offset': number_to_duration[generated_item[0]], 'interval': number_to_interval[generated_item[1]], 'duration': number_to_duration[generated_item[2]]} for generated_item in generated_vector]"
   ]
  },
  {
   "cell_type": "code",
   "execution_count": 144,
   "id": "ecbee4b2-71e6-4722-9d9f-f1ec21aa4b5d",
   "metadata": {},
   "outputs": [
    {
     "data": {
      "text/plain": [
       "[{'relative_offset': 0.25, 'interval': 1, 'duration': 0.25},\n",
       " {'relative_offset': 0.25, 'interval': 0, 'duration': 1.0},\n",
       " {'relative_offset': 0, 'interval': 0, 'duration': 0.25},\n",
       " {'relative_offset': 0.5, 'interval': -5, 'duration': 0.5},\n",
       " {'relative_offset': 0.5, 'interval': -5, 'duration': 0.25},\n",
       " {'relative_offset': 0, 'interval': -5, 'duration': 1.0},\n",
       " {'relative_offset': 0.25, 'interval': 2, 'duration': 0.25},\n",
       " {'relative_offset': 0.75, 'interval': 2, 'duration': 0.5},\n",
       " {'relative_offset': 0.75, 'interval': 0, 'duration': 0.25},\n",
       " {'relative_offset': 0.75, 'interval': -2, 'duration': 0.25},\n",
       " {'relative_offset': 0.25, 'interval': -5, 'duration': Fraction(1, 3)},\n",
       " {'relative_offset': 0.5, 'interval': -5, 'duration': 0.25},\n",
       " {'relative_offset': 0.5, 'interval': -5, 'duration': 0.5},\n",
       " {'relative_offset': 0.25, 'interval': 2, 'duration': 1.0},\n",
       " {'relative_offset': 0.75, 'interval': -5, 'duration': 0.5},\n",
       " {'relative_offset': 0.75, 'interval': 2, 'duration': 0.25},\n",
       " {'relative_offset': 0.5, 'interval': -5, 'duration': 0.5},\n",
       " {'relative_offset': 0.25, 'interval': 0, 'duration': 1.0},\n",
       " {'relative_offset': 0.5, 'interval': 2, 'duration': 0.25},\n",
       " {'relative_offset': 0, 'interval': -2, 'duration': 1.0},\n",
       " {'relative_offset': 0, 'interval': 0, 'duration': 0.5},\n",
       " {'relative_offset': 0, 'interval': 0, 'duration': Fraction(1, 3)},\n",
       " {'relative_offset': 0.5, 'interval': 0, 'duration': Fraction(1, 3)},\n",
       " {'relative_offset': 0, 'interval': 0, 'duration': 0.5},\n",
       " {'relative_offset': 0.5, 'interval': -5, 'duration': 0.25},\n",
       " {'relative_offset': 0.75, 'interval': -2, 'duration': 0.5},\n",
       " {'relative_offset': 0.5, 'interval': 0, 'duration': 0.25},\n",
       " {'relative_offset': 0.25, 'interval': 2, 'duration': 0.25},\n",
       " {'relative_offset': 0, 'interval': -2, 'duration': 0.25},\n",
       " {'relative_offset': 0, 'interval': 0, 'duration': 1.0},\n",
       " {'relative_offset': 0, 'interval': -2, 'duration': Fraction(1, 3)},\n",
       " {'relative_offset': 0, 'interval': -5, 'duration': 0.25},\n",
       " {'relative_offset': 0.25, 'interval': 0, 'duration': 1.0},\n",
       " {'relative_offset': 0.5, 'interval': -2, 'duration': 1.0},\n",
       " {'relative_offset': 0, 'interval': 2, 'duration': Fraction(1, 3)},\n",
       " {'relative_offset': 0.5, 'interval': 2, 'duration': 1.0},\n",
       " {'relative_offset': 0.75, 'interval': -5, 'duration': 1.0},\n",
       " {'relative_offset': 0.75, 'interval': -2, 'duration': Fraction(1, 3)},\n",
       " {'relative_offset': 0.25, 'interval': -5, 'duration': 0.25},\n",
       " {'relative_offset': 0.5, 'interval': 2, 'duration': Fraction(1, 3)},\n",
       " {'relative_offset': 0, 'interval': -2, 'duration': Fraction(1, 3)},\n",
       " {'relative_offset': 0.5, 'interval': 0, 'duration': 0.25},\n",
       " {'relative_offset': 0.75, 'interval': -5, 'duration': Fraction(1, 3)},\n",
       " {'relative_offset': 0.25, 'interval': 7, 'duration': 0.25},\n",
       " {'relative_offset': 0, 'interval': -2, 'duration': 1.0},\n",
       " {'relative_offset': 0, 'interval': 2, 'duration': 1.0},\n",
       " {'relative_offset': 0.25, 'interval': -2, 'duration': 0.5},\n",
       " {'relative_offset': 0, 'interval': -5, 'duration': 1.0},\n",
       " {'relative_offset': 0.25, 'interval': -2, 'duration': 0.25},\n",
       " {'relative_offset': 0.25, 'interval': 2, 'duration': 0.5}]"
      ]
     },
     "execution_count": 144,
     "metadata": {},
     "output_type": "execute_result"
    }
   ],
   "source": [
    "generated_intervals"
   ]
  },
  {
   "cell_type": "code",
   "execution_count": 145,
   "id": "8bbb5c8c-716e-4730-b755-e568a2eb318a",
   "metadata": {},
   "outputs": [],
   "source": [
    "from music21 import converter, corpus, instrument, midi, note, chord, pitch, stream, interval, duration"
   ]
  },
  {
   "cell_type": "code",
   "execution_count": 146,
   "id": "db3b3388-c76a-4b83-8157-3771a9885cce",
   "metadata": {},
   "outputs": [],
   "source": [
    "def from_array_of_intervals_to_pitches_with_time (root_pitch, intervals_with_time):\n",
    "    elements = [{\n",
    "            'absolute_offset': 0, \n",
    "            'pitch': root_pitch, \n",
    "            'duration': 1\n",
    "        }]\n",
    "    for interval in intervals_with_time:\n",
    "        previousElement = elements[-1]\n",
    "        resultElement = {\n",
    "            'absolute_offset': float(previousElement['absolute_offset'] + interval['relative_offset']), \n",
    "            'pitch': float(previousElement['pitch'] + interval['interval']), \n",
    "            'duration': float(interval['duration']),\n",
    "        }\n",
    "        elements.append(resultElement)\n",
    "    return elements\n",
    "\n",
    "def from_pitches_with_time_to_midi (pitches_with_time, midi_path):\n",
    "    print(pitches_with_time)\n",
    "    streamResult = stream.Stream()\n",
    "    for pitch_with_time in pitches_with_time:\n",
    "        element = note.Note(pitch_with_time['pitch'])\n",
    "        element._setOffset(pitch_with_time['absolute_offset'])\n",
    "        d = duration.Duration()\n",
    "        d.quarterLength = pitch_with_time['duration']\n",
    "        element.duration = d\n",
    "        streamResult.append(element)\n",
    "            \n",
    "    streamResult.write('midi', fp= midi_path)\n",
    "    \n",
    "def from_intervals_with_time_to_midi( root_pitch, intervals, midi_path):\n",
    "    pitches_with_time = from_array_of_intervals_to_pitches_with_time(root_pitch, intervals)\n",
    "    from_pitches_with_time_to_midi(pitches_with_time, midi_path)"
   ]
  },
  {
   "cell_type": "code",
   "execution_count": 147,
   "id": "d23253bd-fa24-4553-9119-0bfbbe650bc0",
   "metadata": {},
   "outputs": [
    {
     "data": {
      "text/plain": [
       "[{'absolute_offset': 0, 'pitch': 100, 'duration': 1},\n",
       " {'absolute_offset': 0.25, 'pitch': 101.0, 'duration': 0.25},\n",
       " {'absolute_offset': 0.5, 'pitch': 101.0, 'duration': 1.0},\n",
       " {'absolute_offset': 0.5, 'pitch': 101.0, 'duration': 0.25},\n",
       " {'absolute_offset': 1.0, 'pitch': 96.0, 'duration': 0.5},\n",
       " {'absolute_offset': 1.5, 'pitch': 91.0, 'duration': 0.25},\n",
       " {'absolute_offset': 1.5, 'pitch': 86.0, 'duration': 1.0},\n",
       " {'absolute_offset': 1.75, 'pitch': 88.0, 'duration': 0.25},\n",
       " {'absolute_offset': 2.5, 'pitch': 90.0, 'duration': 0.5},\n",
       " {'absolute_offset': 3.25, 'pitch': 90.0, 'duration': 0.25},\n",
       " {'absolute_offset': 4.0, 'pitch': 88.0, 'duration': 0.25},\n",
       " {'absolute_offset': 4.25, 'pitch': 83.0, 'duration': 0.3333333333333333},\n",
       " {'absolute_offset': 4.75, 'pitch': 78.0, 'duration': 0.25},\n",
       " {'absolute_offset': 5.25, 'pitch': 73.0, 'duration': 0.5},\n",
       " {'absolute_offset': 5.5, 'pitch': 75.0, 'duration': 1.0},\n",
       " {'absolute_offset': 6.25, 'pitch': 70.0, 'duration': 0.5},\n",
       " {'absolute_offset': 7.0, 'pitch': 72.0, 'duration': 0.25},\n",
       " {'absolute_offset': 7.5, 'pitch': 67.0, 'duration': 0.5},\n",
       " {'absolute_offset': 7.75, 'pitch': 67.0, 'duration': 1.0},\n",
       " {'absolute_offset': 8.25, 'pitch': 69.0, 'duration': 0.25},\n",
       " {'absolute_offset': 8.25, 'pitch': 67.0, 'duration': 1.0},\n",
       " {'absolute_offset': 8.25, 'pitch': 67.0, 'duration': 0.5},\n",
       " {'absolute_offset': 8.25, 'pitch': 67.0, 'duration': 0.3333333333333333},\n",
       " {'absolute_offset': 8.75, 'pitch': 67.0, 'duration': 0.3333333333333333},\n",
       " {'absolute_offset': 8.75, 'pitch': 67.0, 'duration': 0.5},\n",
       " {'absolute_offset': 9.25, 'pitch': 62.0, 'duration': 0.25},\n",
       " {'absolute_offset': 10.0, 'pitch': 60.0, 'duration': 0.5},\n",
       " {'absolute_offset': 10.5, 'pitch': 60.0, 'duration': 0.25},\n",
       " {'absolute_offset': 10.75, 'pitch': 62.0, 'duration': 0.25},\n",
       " {'absolute_offset': 10.75, 'pitch': 60.0, 'duration': 0.25},\n",
       " {'absolute_offset': 10.75, 'pitch': 60.0, 'duration': 1.0},\n",
       " {'absolute_offset': 10.75, 'pitch': 58.0, 'duration': 0.3333333333333333},\n",
       " {'absolute_offset': 10.75, 'pitch': 53.0, 'duration': 0.25},\n",
       " {'absolute_offset': 11.0, 'pitch': 53.0, 'duration': 1.0},\n",
       " {'absolute_offset': 11.5, 'pitch': 51.0, 'duration': 1.0},\n",
       " {'absolute_offset': 11.5, 'pitch': 53.0, 'duration': 0.3333333333333333},\n",
       " {'absolute_offset': 12.0, 'pitch': 55.0, 'duration': 1.0},\n",
       " {'absolute_offset': 12.75, 'pitch': 50.0, 'duration': 1.0},\n",
       " {'absolute_offset': 13.5, 'pitch': 48.0, 'duration': 0.3333333333333333},\n",
       " {'absolute_offset': 13.75, 'pitch': 43.0, 'duration': 0.25},\n",
       " {'absolute_offset': 14.25, 'pitch': 45.0, 'duration': 0.3333333333333333},\n",
       " {'absolute_offset': 14.25, 'pitch': 43.0, 'duration': 0.3333333333333333},\n",
       " {'absolute_offset': 14.75, 'pitch': 43.0, 'duration': 0.25},\n",
       " {'absolute_offset': 15.5, 'pitch': 38.0, 'duration': 0.3333333333333333},\n",
       " {'absolute_offset': 15.75, 'pitch': 45.0, 'duration': 0.25},\n",
       " {'absolute_offset': 15.75, 'pitch': 43.0, 'duration': 1.0},\n",
       " {'absolute_offset': 15.75, 'pitch': 45.0, 'duration': 1.0},\n",
       " {'absolute_offset': 16.0, 'pitch': 43.0, 'duration': 0.5},\n",
       " {'absolute_offset': 16.0, 'pitch': 38.0, 'duration': 1.0},\n",
       " {'absolute_offset': 16.25, 'pitch': 36.0, 'duration': 0.25},\n",
       " {'absolute_offset': 16.5, 'pitch': 38.0, 'duration': 0.5}]"
      ]
     },
     "execution_count": 147,
     "metadata": {},
     "output_type": "execute_result"
    }
   ],
   "source": [
    "from_array_of_intervals_to_pitches_with_time(100, generated_intervals)"
   ]
  },
  {
   "cell_type": "code",
   "execution_count": 148,
   "id": "8884f306-1e64-4f4f-ba75-92896e1f7357",
   "metadata": {},
   "outputs": [],
   "source": [
    "#model_interval.load_weights('models_checkpoints/weights-improvement-10-2.87.hdf5')"
   ]
  },
  {
   "cell_type": "code",
   "execution_count": 149,
   "id": "c05e0378-0acb-4fd8-ac37-2ddab3a21cb4",
   "metadata": {},
   "outputs": [],
   "source": [
    "from datetime import datetime"
   ]
  },
  {
   "cell_type": "code",
   "execution_count": 150,
   "id": "36126a44-cf64-46ce-b6d2-86c49a2afcf4",
   "metadata": {},
   "outputs": [
    {
     "name": "stdout",
     "output_type": "stream",
     "text": [
      "[{'absolute_offset': 0, 'pitch': 100, 'duration': 1}, {'absolute_offset': 0.25, 'pitch': 101.0, 'duration': 0.25}, {'absolute_offset': 0.5, 'pitch': 101.0, 'duration': 1.0}, {'absolute_offset': 0.5, 'pitch': 101.0, 'duration': 0.25}, {'absolute_offset': 1.0, 'pitch': 96.0, 'duration': 0.5}, {'absolute_offset': 1.5, 'pitch': 91.0, 'duration': 0.25}, {'absolute_offset': 1.5, 'pitch': 86.0, 'duration': 1.0}, {'absolute_offset': 1.75, 'pitch': 88.0, 'duration': 0.25}, {'absolute_offset': 2.5, 'pitch': 90.0, 'duration': 0.5}, {'absolute_offset': 3.25, 'pitch': 90.0, 'duration': 0.25}, {'absolute_offset': 4.0, 'pitch': 88.0, 'duration': 0.25}, {'absolute_offset': 4.25, 'pitch': 83.0, 'duration': 0.3333333333333333}, {'absolute_offset': 4.75, 'pitch': 78.0, 'duration': 0.25}, {'absolute_offset': 5.25, 'pitch': 73.0, 'duration': 0.5}, {'absolute_offset': 5.5, 'pitch': 75.0, 'duration': 1.0}, {'absolute_offset': 6.25, 'pitch': 70.0, 'duration': 0.5}, {'absolute_offset': 7.0, 'pitch': 72.0, 'duration': 0.25}, {'absolute_offset': 7.5, 'pitch': 67.0, 'duration': 0.5}, {'absolute_offset': 7.75, 'pitch': 67.0, 'duration': 1.0}, {'absolute_offset': 8.25, 'pitch': 69.0, 'duration': 0.25}, {'absolute_offset': 8.25, 'pitch': 67.0, 'duration': 1.0}, {'absolute_offset': 8.25, 'pitch': 67.0, 'duration': 0.5}, {'absolute_offset': 8.25, 'pitch': 67.0, 'duration': 0.3333333333333333}, {'absolute_offset': 8.75, 'pitch': 67.0, 'duration': 0.3333333333333333}, {'absolute_offset': 8.75, 'pitch': 67.0, 'duration': 0.5}, {'absolute_offset': 9.25, 'pitch': 62.0, 'duration': 0.25}, {'absolute_offset': 10.0, 'pitch': 60.0, 'duration': 0.5}, {'absolute_offset': 10.5, 'pitch': 60.0, 'duration': 0.25}, {'absolute_offset': 10.75, 'pitch': 62.0, 'duration': 0.25}, {'absolute_offset': 10.75, 'pitch': 60.0, 'duration': 0.25}, {'absolute_offset': 10.75, 'pitch': 60.0, 'duration': 1.0}, {'absolute_offset': 10.75, 'pitch': 58.0, 'duration': 0.3333333333333333}, {'absolute_offset': 10.75, 'pitch': 53.0, 'duration': 0.25}, {'absolute_offset': 11.0, 'pitch': 53.0, 'duration': 1.0}, {'absolute_offset': 11.5, 'pitch': 51.0, 'duration': 1.0}, {'absolute_offset': 11.5, 'pitch': 53.0, 'duration': 0.3333333333333333}, {'absolute_offset': 12.0, 'pitch': 55.0, 'duration': 1.0}, {'absolute_offset': 12.75, 'pitch': 50.0, 'duration': 1.0}, {'absolute_offset': 13.5, 'pitch': 48.0, 'duration': 0.3333333333333333}, {'absolute_offset': 13.75, 'pitch': 43.0, 'duration': 0.25}, {'absolute_offset': 14.25, 'pitch': 45.0, 'duration': 0.3333333333333333}, {'absolute_offset': 14.25, 'pitch': 43.0, 'duration': 0.3333333333333333}, {'absolute_offset': 14.75, 'pitch': 43.0, 'duration': 0.25}, {'absolute_offset': 15.5, 'pitch': 38.0, 'duration': 0.3333333333333333}, {'absolute_offset': 15.75, 'pitch': 45.0, 'duration': 0.25}, {'absolute_offset': 15.75, 'pitch': 43.0, 'duration': 1.0}, {'absolute_offset': 15.75, 'pitch': 45.0, 'duration': 1.0}, {'absolute_offset': 16.0, 'pitch': 43.0, 'duration': 0.5}, {'absolute_offset': 16.0, 'pitch': 38.0, 'duration': 1.0}, {'absolute_offset': 16.25, 'pitch': 36.0, 'duration': 0.25}, {'absolute_offset': 16.5, 'pitch': 38.0, 'duration': 0.5}]\n"
     ]
    }
   ],
   "source": [
    "from_intervals_with_time_to_midi(100, generated_intervals, datetime.now().strftime(\"%Y%m%d_%H%M%S\")+'_generated_record_intervals_tuning_with_tracks.mid')"
   ]
  },
  {
   "cell_type": "code",
   "execution_count": null,
   "id": "0f5590f6-87bb-478d-9551-dd26b3477905",
   "metadata": {},
   "outputs": [],
   "source": []
  }
 ],
 "metadata": {
  "kernelspec": {
   "display_name": "Python 3",
   "language": "python",
   "name": "python3"
  },
  "language_info": {
   "codemirror_mode": {
    "name": "ipython",
    "version": 3
   },
   "file_extension": ".py",
   "mimetype": "text/x-python",
   "name": "python",
   "nbconvert_exporter": "python",
   "pygments_lexer": "ipython3",
   "version": "3.7.10"
  }
 },
 "nbformat": 4,
 "nbformat_minor": 5
}
