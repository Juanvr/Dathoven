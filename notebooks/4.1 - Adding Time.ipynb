{
 "cells": [
  {
   "cell_type": "markdown",
   "id": "0287d729-97b6-4555-ae5f-94174af4952c",
   "metadata": {},
   "source": [
    "# Tuning The Model Adding Time"
   ]
  },
  {
   "cell_type": "code",
   "execution_count": 255,
   "id": "aa991cd8-e286-4778-b32e-b80f75007aa3",
   "metadata": {},
   "outputs": [],
   "source": [
    "import Dathoven"
   ]
  },
  {
   "cell_type": "code",
   "execution_count": 146,
   "id": "9e607c24-6cb2-4399-9bb8-f4ce92eabc07",
   "metadata": {},
   "outputs": [],
   "source": [
    "import glob, os, fractions\n",
    "import numpy as np\n",
    "from matplotlib import pyplot as plt\n",
    "from music21 import converter, corpus, instrument, midi, note, chord, pitch, stream, interval, duration"
   ]
  },
  {
   "cell_type": "markdown",
   "id": "7c4a4577-12fd-42aa-91e8-d398840f9ead",
   "metadata": {},
   "source": [
    "We define necessary functions:"
   ]
  },
  {
   "cell_type": "code",
   "execution_count": 109,
   "id": "a7eec51c-dcdd-4e71-8469-f12a2e2f9907",
   "metadata": {},
   "outputs": [],
   "source": [
    "def get_stream_from_midi_without_drums(midi_path):\n",
    "    mf = midi.MidiFile()\n",
    "    mf.open(midi_path)\n",
    "    mf.read()\n",
    "    mf.close()\n",
    "    \n",
    "    for i in range(len(mf.tracks)):\n",
    "        mf.tracks[i].events = [ev for ev in mf.tracks[i].events if ev.channel != 10]          \n",
    "\n",
    "    return midi.translate.midiFileToStream(mf)\n",
    "\n",
    "def stream_to_array_of_pitches_strings (stream):\n",
    "    result = []\n",
    "    for element in stream.flat.notes:\n",
    "        stringRepresentationOfElement = ''\n",
    "        if isinstance(element, note.Note):\n",
    "            stringRepresentationOfElement = element.pitch.ps\n",
    "        else: # it's a chord\n",
    "            stringRepresentationOfElement = [note.pitch.ps for note in element.notes][0]\n",
    "            #stringRepresentationOfElement = ' '.join(listOfNotesWithOctaves)\n",
    "        result.append(stringRepresentationOfElement)\n",
    "    return result\n",
    "\n",
    "def from_midi_to_array_of_pitches (midi_path):\n",
    "    return stream_to_array_of_pitches_strings(get_stream_from_midi_without_drums(midi_path))\n",
    "\n",
    "def from_pitches_to_intervals (array_of_pitches):\n",
    "    intervals = []\n",
    "    for i in range(1,len(array_of_pitches) - 1):\n",
    "        intervals.append(array_of_pitches[i] - array_of_pitches[i-1])\n",
    "    return intervals\n",
    "\n",
    "def from_midi_to_array_of_intervals(midi_path):\n",
    "    return from_pitches_to_intervals(from_midi_to_array_of_pitches(midi_path))\n",
    "\n",
    "def get_folder_songs_intervals(folder_path):\n",
    "    songs = []\n",
    "    for file in glob.glob(folder_path):\n",
    "        songs.append(from_midi_to_array_of_intervals(file))\n",
    "    return songs\n",
    "\n",
    "def from_array_of_intervals_to_pitches (root_pitch, intervals):\n",
    "    pitches = [root_pitch]\n",
    "    for interval in intervals:\n",
    "        pitches.append(pitches[-1] + interval)\n",
    "    return pitches\n",
    "\n",
    "def from_pitches_to_midi (pitches, midi_path):\n",
    "    streamResult = stream.Stream()\n",
    "    for pitch in pitches:\n",
    "            streamResult.append(note.Note(pitch))\n",
    "            \n",
    "    streamResult.write('midi', fp= midi_path)\n",
    "    \n",
    "def from_intervals_to_midi( root_pitch, intervals, midi_path):\n",
    "    pitches = from_array_of_intervals_to_pitches(root_pitch, intervals)\n",
    "    from_pitches_to_midi(pitches, midi_path)\n",
    "\n",
    "\n",
    "def sample(preds):\n",
    "    sorted_indexes = np.argsort(preds)[::-1]\n",
    "    return sorted_indexes[randint(0,3)]\n",
    "\n",
    "def sample_seq( seq, seq_length, model, output_seq_length ):\n",
    "    if output_seq_length <= len(seq): raise Exception(\"output_seq_length must be higher than seq_length\")\n",
    "        \n",
    "    output_seq = seq\n",
    "    for i in range(output_seq_length - len(seq)):\n",
    "        input_sequence = [seq[-seq_length:]]\n",
    "        x = pad_sequences(input_sequence, maxlen = seq_length, padding=\"pre\")\n",
    "        prediction = model.predict(x)\n",
    "        index = sample(prediction[0])\n",
    "        output_seq.append(index)\n",
    "    #[number_to_note(number) for number in output_seq]\n",
    "    return output_seq"
   ]
  },
  {
   "cell_type": "code",
   "execution_count": 110,
   "id": "c60371b6-d8df-4986-ab79-23a6a3bc58b1",
   "metadata": {},
   "outputs": [],
   "source": [
    "midi_test_path = 'data/examples/silent_night_easy.mid'"
   ]
  },
  {
   "cell_type": "code",
   "execution_count": 111,
   "id": "68268be8-4340-4a5c-83d9-f3a507e5504b",
   "metadata": {},
   "outputs": [],
   "source": [
    "def stream_to_array_of_pitches_with_time (stream):\n",
    "    result = []\n",
    "    offsets = []\n",
    "    for item in stream.flat.notes:\n",
    "        element = []\n",
    "        if isinstance(item, note.Note):\n",
    "            element = item\n",
    "        else: # it's a chord\n",
    "            #pitch = [note.pitch.ps for note in element.notes][0]\n",
    "            element = item.notes[0]\n",
    "        \n",
    "        resultElement = {\n",
    "            'absolute_offset': element._getOffset(), \n",
    "            'pitch': element.pitch.ps, \n",
    "            'duration': element.duration.quarterLength,\n",
    "            'element': element\n",
    "        }\n",
    "        \n",
    "        if not resultElement['absolute_offset'] in offsets:  # only keep one note per time position\n",
    "            result.append(resultElement)\n",
    "            offsets.append(resultElement['absolute_offset'])\n",
    "    result.sort(key=lambda x: x['absolute_offset'])\n",
    "    return result\n",
    "\n",
    "def from_midi_to_array_of_pitches_with_time (midi_path):\n",
    "    return stream_to_array_of_pitches_with_time(get_stream_from_midi_without_drums(midi_path))\n",
    "\n",
    "def from_pitches_to_intervals_with_time (array_of_pitches_with_time):\n",
    "    intervals_with_time = []\n",
    "    for i in range(1,len(array_of_pitches_with_time) - 1):\n",
    "        first_element = array_of_pitches_with_time[i-1]\n",
    "        second_element = array_of_pitches_with_time[i]\n",
    "        resultElement = {\n",
    "            'relative_offset': second_element['absolute_offset'] - first_element['absolute_offset'],\n",
    "            'interval': second_element['pitch'] - first_element['pitch'],\n",
    "            'duration': second_element['duration']\n",
    "        }\n",
    "        intervals_with_time.append(resultElement)\n",
    "    return intervals_with_time\n",
    "\n",
    "def from_midi_to_array_of_intervals_with_time(midi_path):\n",
    "    return from_pitches_to_intervals_with_time(from_midi_to_array_of_pitches_with_time(midi_path))\n",
    "\n",
    "def get_folder_songs_intervals_with_time(folder_path):\n",
    "    songs = []\n",
    "    for file in glob.glob(folder_path):\n",
    "        songs.append(from_midi_to_array_of_intervals_with_time(file))\n",
    "    return songs"
   ]
  },
  {
   "cell_type": "code",
   "execution_count": 112,
   "id": "8f240e66-34aa-44ea-960c-2a7c299f8947",
   "metadata": {},
   "outputs": [
    {
     "data": {
      "text/plain": [
       "['_DOC_ATTR',\n",
       " '_DOC_ORDER',\n",
       " '__class__',\n",
       " '__deepcopy__',\n",
       " '__delattr__',\n",
       " '__dict__',\n",
       " '__dir__',\n",
       " '__doc__',\n",
       " '__eq__',\n",
       " '__format__',\n",
       " '__ge__',\n",
       " '__getattribute__',\n",
       " '__getstate__',\n",
       " '__gt__',\n",
       " '__hash__',\n",
       " '__init__',\n",
       " '__init_subclass__',\n",
       " '__le__',\n",
       " '__lt__',\n",
       " '__module__',\n",
       " '__ne__',\n",
       " '__new__',\n",
       " '__reduce__',\n",
       " '__reduce_ex__',\n",
       " '__repr__',\n",
       " '__setattr__',\n",
       " '__setstate__',\n",
       " '__sizeof__',\n",
       " '__str__',\n",
       " '__subclasshook__',\n",
       " '__weakref__',\n",
       " '_activeSite',\n",
       " '_activeSiteStoredOffset',\n",
       " '_classListFullyQualifiedCacheDict',\n",
       " '_classSetCacheDict',\n",
       " '_classTupleCacheDict',\n",
       " '_deepcopySubclassable',\n",
       " '_derivation',\n",
       " '_duration',\n",
       " '_editorial',\n",
       " '_getActiveSite',\n",
       " '_getDerivation',\n",
       " '_getDuration',\n",
       " '_getLyric',\n",
       " '_getMeasureOffset',\n",
       " '_getName',\n",
       " '_getNameWithOctave',\n",
       " '_getNotehead',\n",
       " '_getNoteheadFill',\n",
       " '_getNoteheadParenthesis',\n",
       " '_getOctave',\n",
       " '_getOffset',\n",
       " '_getPitches',\n",
       " '_getPriority',\n",
       " '_getQuarterLength',\n",
       " '_getSeconds',\n",
       " '_getStemDirection',\n",
       " '_getStep',\n",
       " '_getTimeSignatureForBeat',\n",
       " '_getVolume',\n",
       " '_naiveOffset',\n",
       " '_notehead',\n",
       " '_noteheadFill',\n",
       " '_noteheadParenthesis',\n",
       " '_priority',\n",
       " '_reprText',\n",
       " '_reprTextLine',\n",
       " '_setActiveSite',\n",
       " '_setDerivation',\n",
       " '_setDuration',\n",
       " '_setLyric',\n",
       " '_setName',\n",
       " '_setNameWithOctave',\n",
       " '_setNotehead',\n",
       " '_setNoteheadFill',\n",
       " '_setNoteheadParenthesis',\n",
       " '_setOctave',\n",
       " '_setOffset',\n",
       " '_setPitches',\n",
       " '_setPriority',\n",
       " '_setQuarterLength',\n",
       " '_setSeconds',\n",
       " '_setStemDirection',\n",
       " '_setStep',\n",
       " '_setVolume',\n",
       " '_stemDirection',\n",
       " '_style',\n",
       " '_styleClass',\n",
       " '_volume',\n",
       " 'activeSite',\n",
       " 'addLyric',\n",
       " 'articulations',\n",
       " 'augmentOrDiminish',\n",
       " 'beams',\n",
       " 'beat',\n",
       " 'beatDuration',\n",
       " 'beatStr',\n",
       " 'beatStrength',\n",
       " 'classSet',\n",
       " 'classSortOrder',\n",
       " 'classes',\n",
       " 'containerHierarchy',\n",
       " 'contextSites',\n",
       " 'derivation',\n",
       " 'duration',\n",
       " 'editorial',\n",
       " 'expressions',\n",
       " 'fullName',\n",
       " 'getAllContextsByClass',\n",
       " 'getContextByClass',\n",
       " 'getGrace',\n",
       " 'getOffsetBySite',\n",
       " 'getOffsetInHierarchy',\n",
       " 'getSpannerSites',\n",
       " 'groups',\n",
       " 'hasEditorialInformation',\n",
       " 'hasLyrics',\n",
       " 'hasStyleInformation',\n",
       " 'hasVolumeInformation',\n",
       " 'id',\n",
       " 'informSites',\n",
       " 'insertLyric',\n",
       " 'isChord',\n",
       " 'isClassOrSubclass',\n",
       " 'isNote',\n",
       " 'isRest',\n",
       " 'isStream',\n",
       " 'linkage',\n",
       " 'lyric',\n",
       " 'lyrics',\n",
       " 'measureNumber',\n",
       " 'mergeAttributes',\n",
       " 'name',\n",
       " 'nameWithOctave',\n",
       " 'next',\n",
       " 'notehead',\n",
       " 'noteheadFill',\n",
       " 'noteheadParenthesis',\n",
       " 'octave',\n",
       " 'offset',\n",
       " 'pitch',\n",
       " 'pitches',\n",
       " 'previous',\n",
       " 'priority',\n",
       " 'purgeLocations',\n",
       " 'purgeOrphans',\n",
       " 'quarterLength',\n",
       " 'seconds',\n",
       " 'setOffsetBySite',\n",
       " 'show',\n",
       " 'sites',\n",
       " 'sortTuple',\n",
       " 'splitAtDurations',\n",
       " 'splitAtQuarterLength',\n",
       " 'splitByQuarterLengths',\n",
       " 'stemDirection',\n",
       " 'step',\n",
       " 'style',\n",
       " 'tie',\n",
       " 'transpose',\n",
       " 'volume',\n",
       " 'write']"
      ]
     },
     "execution_count": 112,
     "metadata": {},
     "output_type": "execute_result"
    }
   ],
   "source": [
    "dir(note.Note())"
   ]
  },
  {
   "cell_type": "code",
   "execution_count": 113,
   "id": "8e4528ae-c695-4890-ab14-5bd1d7958dce",
   "metadata": {},
   "outputs": [
    {
     "data": {
      "text/plain": [
       "[{'relative_offset': 1.5, 'interval': 2.0, 'duration': 0.5},\n",
       " {'relative_offset': 0.5, 'interval': -2.0, 'duration': 1.0},\n",
       " {'relative_offset': 4.0, 'interval': 0.0, 'duration': 1.5},\n",
       " {'relative_offset': 1.5, 'interval': 2.0, 'duration': 0.5},\n",
       " {'relative_offset': 0.5, 'interval': -2.0, 'duration': 1.0},\n",
       " {'relative_offset': 1.0, 'interval': -3.0, 'duration': 2.75},\n",
       " {'relative_offset': 1.0, 'interval': -5.0, 'duration': 1.0},\n",
       " {'relative_offset': 1.0, 'interval': -2.0, 'duration': 1.0},\n",
       " {'relative_offset': 1.0, 'interval': 17.0, 'duration': 2.0},\n",
       " {'relative_offset': 2.0, 'interval': 0.0, 'duration': 1.0},\n",
       " {'relative_offset': 1.0, 'interval': -3.0, 'duration': 3.0},\n",
       " {'relative_offset': 2.0, 'interval': -16.0, 'duration': 1.0},\n",
       " {'relative_offset': 1.0, 'interval': 17.0, 'duration': 2.0},\n",
       " {'relative_offset': 2.0, 'interval': 0.0, 'duration': 1.0},\n",
       " {'relative_offset': 1.0, 'interval': -5.0, 'duration': 2.75},\n",
       " {'relative_offset': 3.0, 'interval': 2.0, 'duration': 2.0},\n",
       " {'relative_offset': 2.0, 'interval': 0.0, 'duration': 1.0},\n",
       " {'relative_offset': 1.0, 'interval': 3.0, 'duration': 1.5},\n",
       " {'relative_offset': 1.5, 'interval': -1.0, 'duration': 0.5},\n",
       " {'relative_offset': 0.5, 'interval': -2.0, 'duration': 1.0},\n",
       " {'relative_offset': 1.0, 'interval': -2.0, 'duration': 1.5},\n",
       " {'relative_offset': 1.5, 'interval': 2.0, 'duration': 0.5},\n",
       " {'relative_offset': 0.5, 'interval': -2.0, 'duration': 1.0},\n",
       " {'relative_offset': 1.0, 'interval': -3.0, 'duration': 2.75},\n",
       " {'relative_offset': 3.0, 'interval': 5.0, 'duration': 2.0},\n",
       " {'relative_offset': 2.0, 'interval': 0.0, 'duration': 1.0},\n",
       " {'relative_offset': 1.0, 'interval': 3.0, 'duration': 1.5},\n",
       " {'relative_offset': 1.5, 'interval': -1.0, 'duration': 0.5},\n",
       " {'relative_offset': 0.5, 'interval': -2.0, 'duration': 1.0},\n",
       " {'relative_offset': 1.0, 'interval': -2.0, 'duration': 1.5},\n",
       " {'relative_offset': 1.5, 'interval': 2.0, 'duration': 0.5},\n",
       " {'relative_offset': 0.5, 'interval': -2.0, 'duration': 1.0},\n",
       " {'relative_offset': 1.0, 'interval': -3.0, 'duration': 2.75},\n",
       " {'relative_offset': 1.0, 'interval': -5.0, 'duration': 1.0},\n",
       " {'relative_offset': 1.0, 'interval': -2.0, 'duration': 1.0},\n",
       " {'relative_offset': 1.0, 'interval': 17.0, 'duration': 2.0},\n",
       " {'relative_offset': 2.0, 'interval': 0.0, 'duration': 1.0},\n",
       " {'relative_offset': 1.0, 'interval': 3.0, 'duration': 1.0},\n",
       " {'relative_offset': 1.0, 'interval': -3.0, 'duration': 1.0},\n",
       " {'relative_offset': 1.0, 'interval': -3.0, 'duration': 1.0},\n",
       " {'relative_offset': 4.0, 'interval': 5.0, 'duration': 2.75},\n",
       " {'relative_offset': 3.0, 'interval': -4.0, 'duration': 1.0},\n",
       " {'relative_offset': 1.0, 'interval': -5.0, 'duration': 1.0},\n",
       " {'relative_offset': 1.0, 'interval': -3.0, 'duration': 1.0},\n",
       " {'relative_offset': 1.0, 'interval': 3.0, 'duration': 1.5},\n",
       " {'relative_offset': 1.5, 'interval': -2.0, 'duration': 0.5},\n",
       " {'relative_offset': 0.5, 'interval': -3.0, 'duration': 1.0}]"
      ]
     },
     "execution_count": 113,
     "metadata": {},
     "output_type": "execute_result"
    }
   ],
   "source": [
    "from_midi_to_array_of_intervals_with_time(midi_test_path)"
   ]
  },
  {
   "cell_type": "code",
   "execution_count": 114,
   "id": "f8899e8b-9850-4932-a075-e707af2de6ae",
   "metadata": {},
   "outputs": [],
   "source": [
    "silent_night_deltas = from_midi_to_array_of_intervals_with_time(midi_test_path)"
   ]
  },
  {
   "cell_type": "code",
   "execution_count": 115,
   "id": "bb752ca3-52ef-4605-9983-adf578d83a62",
   "metadata": {},
   "outputs": [
    {
     "data": {
      "image/png": "[encoded data removed]",
      "text/plain": [
       "<Figure size 432x288 with 1 Axes>"
      ]
     },
     "metadata": {
      "image/png": {
       "height": 248,
       "width": 377
      },
      "needs_background": "light"
     },
     "output_type": "display_data"
    }
   ],
   "source": [
    "plt.plot(range(0, len(silent_night_deltas)), [x['relative_offset'] for x in silent_night_deltas])\n",
    "plt.plot(range(0, len(silent_night_deltas)), [x['interval'] for x in silent_night_deltas])\n",
    "plt.plot(range(0, len(silent_night_deltas)), [x['duration'] for x in silent_night_deltas]);"
   ]
  },
  {
   "cell_type": "code",
   "execution_count": 116,
   "id": "bca31acb-301f-4f25-a40f-6d92743661a6",
   "metadata": {},
   "outputs": [],
   "source": [
    "def from_array_of_intervals_to_pitches_with_time (root_pitch, intervals_with_time):\n",
    "    elements = [{\n",
    "            'absolute_offset': 0, \n",
    "            'pitch': root_pitch, \n",
    "            'duration': 1\n",
    "        }]\n",
    "    for interval in intervals_with_time:\n",
    "        previousElement = elements[-1]\n",
    "        resultElement = {\n",
    "            'absolute_offset': previousElement['absolute_offset'] + interval['relative_offset'], \n",
    "            'pitch': previousElement['pitch'] + interval['interval'], \n",
    "            'duration': interval['duration'],\n",
    "        }\n",
    "        elements.append(resultElement)\n",
    "    return elements\n",
    "\n",
    "def from_pitches_with_time_to_midi (pitches_with_time, midi_path):\n",
    "    streamResult = stream.Stream()\n",
    "    for pitch_with_time in pitches_with_time:\n",
    "        element = note.Note(pitch_with_time['pitch'])\n",
    "        element._setOffset(pitch_with_time['absolute_offset'])\n",
    "        d = duration.Duration()\n",
    "        d.quarterLength = pitch_with_time['duration']\n",
    "        element.duration = d\n",
    "        streamResult.append(element)\n",
    "            \n",
    "    streamResult.write('midi', fp= midi_path)\n",
    "    \n",
    "def from_intervals_with_time_to_midi( root_pitch, intervals, midi_path):\n",
    "    pitches_with_time = from_array_of_intervals_to_pitches_with_time(root_pitch, intervals)\n",
    "    from_pitches_with_time_to_midi(pitches_with_time, midi_path)\n"
   ]
  },
  {
   "cell_type": "code",
   "execution_count": 117,
   "id": "70388340-823b-462e-bf74-58dbeebe6450",
   "metadata": {},
   "outputs": [],
   "source": [
    "#Test\n",
    "from_intervals_with_time_to_midi(60, from_midi_to_array_of_intervals_with_time('data/examples/silent_night_easy.mid'),'test_intervals_with_time_silent_night.mid') "
   ]
  },
  {
   "cell_type": "code",
   "execution_count": 119,
   "id": "d27ab480-c8ba-4d64-aee3-f8b6db2bd7dc",
   "metadata": {},
   "outputs": [],
   "source": [
    "songs = get_folder_songs_intervals_with_time(\"data/examples/*.mid\")"
   ]
  },
  {
   "cell_type": "code",
   "execution_count": 259,
   "id": "7f8de580-ae08-4d52-ac88-d1d8d67911d9",
   "metadata": {},
   "outputs": [
    {
     "data": {
      "text/plain": [
       "[[{'relative_offset': 0.5, 'interval': 0.0, 'duration': Fraction(1, 3)},\n",
       "  {'relative_offset': 0.5, 'interval': 0.0, 'duration': Fraction(1, 3)},\n",
       "  {'relative_offset': 0.5, 'interval': 0.0, 'duration': Fraction(1, 3)},\n",
       "  {'relative_offset': 0.5, 'interval': 0.0, 'duration': Fraction(1, 3)},\n",
       "  {'relative_offset': 0.5, 'interval': 0.0, 'duration': Fraction(1, 3)},\n",
       "  {'relative_offset': 0.5, 'interval': 0.0, 'duration': 1.0},\n",
       "  {'relative_offset': 0.5, 'interval': -27.0, 'duration': 0.5},\n",
       "  {'relative_offset': 0.5, 'interval': 29.0, 'duration': Fraction(1, 3)},\n",
       "  {'relative_offset': 0.5, 'interval': 0.0, 'duration': Fraction(1, 3)},\n",
       "  {'relative_offset': 0.5, 'interval': 0.0, 'duration': Fraction(1, 3)},\n",
       "  {'relative_offset': 0.5, 'interval': 0.0, 'duration': Fraction(1, 3)},\n",
       "  {'relative_offset': 0.5, 'interval': 0.0, 'duration': Fraction(1, 3)},\n",
       "  {'relative_offset': 0.5, 'interval': 0.0, 'duration': Fraction(1, 3)},\n",
       "  {'relative_offset': 0.75, 'interval': 0.0, 'duration': 0.0},\n",
       "  {'relative_offset': 0.25, 'interval': 0.0, 'duration': 0.0},\n",
       "  {'relative_offset': 0.25, 'interval': 0.0, 'duration': 0.0},\n",
       "  {'relative_offset': 0.25, 'interval': -2.0, 'duration': Fraction(1, 3)},\n",
       "  {'relative_offset': 0.5, 'interval': -1.0, 'duration': Fraction(1, 3)},\n",
       "  {'relative_offset': 0.5, 'interval': 0.0, 'duration': Fraction(1, 3)},\n",
       "  {'relative_offset': 0.5, 'interval': 0.0, 'duration': Fraction(1, 3)},\n",
       "  {'relative_offset': 0.5, 'interval': 0.0, 'duration': Fraction(1, 3)},\n",
       "  {'relative_offset': 0.5, 'interval': 0.0, 'duration': Fraction(1, 3)},\n",
       "  {'relative_offset': 0.5, 'interval': 0.0, 'duration': Fraction(1, 3)},\n",
       "  {'relative_offset': 0.5, 'interval': -2.0, 'duration': Fraction(1, 3)},\n",
       "  {'relative_offset': 0.5, 'interval': 2.0, 'duration': Fraction(1, 3)},\n",
       "  {'relative_offset': 0.5, 'interval': 1.0, 'duration': Fraction(1, 3)},\n",
       "  {'relative_offset': 0.5, 'interval': 0.0, 'duration': Fraction(1, 3)},\n",
       "  {'relative_offset': 0.5, 'interval': 0.0, 'duration': Fraction(1, 3)},\n",
       "  {'relative_offset': 0.5, 'interval': 0.0, 'duration': Fraction(1, 3)},\n",
       "  {'relative_offset': 0.5, 'interval': -1.0, 'duration': Fraction(1, 3)},\n",
       "  {'relative_offset': 0.5, 'interval': 0.0, 'duration': Fraction(1, 3)},\n",
       "  {'relative_offset': 0.5, 'interval': 0.0, 'duration': Fraction(1, 3)},\n",
       "  {'relative_offset': 0.5, 'interval': 1.0, 'duration': Fraction(1, 3)},\n",
       "  {'relative_offset': 0.5, 'interval': 0.0, 'duration': Fraction(1, 3)},\n",
       "  {'relative_offset': 0.5, 'interval': 0.0, 'duration': Fraction(1, 3)},\n",
       "  {'relative_offset': 0.5, 'interval': 0.0, 'duration': Fraction(1, 3)},\n",
       "  {'relative_offset': 0.5, 'interval': 0.0, 'duration': Fraction(1, 3)},\n",
       "  {'relative_offset': 0.5, 'interval': 0.0, 'duration': Fraction(1, 3)},\n",
       "  {'relative_offset': 0.5, 'interval': 0.0, 'duration': 1.0},\n",
       "  {'relative_offset': 0.5, 'interval': -27.0, 'duration': 0.5},\n",
       "  {'relative_offset': 0.5, 'interval': 29.0, 'duration': Fraction(1, 3)},\n",
       "  {'relative_offset': 0.5, 'interval': 0.0, 'duration': Fraction(1, 3)},\n",
       "  {'relative_offset': 0.5, 'interval': 0.0, 'duration': Fraction(1, 3)},\n",
       "  {'relative_offset': 0.5, 'interval': 0.0, 'duration': Fraction(1, 3)},\n",
       "  {'relative_offset': 0.5, 'interval': 0.0, 'duration': Fraction(1, 3)},\n",
       "  {'relative_offset': 0.5, 'interval': 0.0, 'duration': Fraction(1, 3)},\n",
       "  {'relative_offset': 0.75, 'interval': 0.0, 'duration': 0.0},\n",
       "  {'relative_offset': 0.25, 'interval': 0.0, 'duration': 0.0},\n",
       "  {'relative_offset': 0.25, 'interval': 0.0, 'duration': 0.0},\n",
       "  {'relative_offset': 0.25, 'interval': -2.0, 'duration': Fraction(1, 3)},\n",
       "  {'relative_offset': 0.5, 'interval': -1.0, 'duration': Fraction(1, 3)},\n",
       "  {'relative_offset': 0.5, 'interval': 0.0, 'duration': Fraction(1, 3)},\n",
       "  {'relative_offset': 0.5, 'interval': 0.0, 'duration': Fraction(1, 3)},\n",
       "  {'relative_offset': 0.5, 'interval': 0.0, 'duration': Fraction(1, 3)},\n",
       "  {'relative_offset': 0.5, 'interval': 0.0, 'duration': Fraction(1, 3)},\n",
       "  {'relative_offset': 0.5, 'interval': 0.0, 'duration': Fraction(1, 3)},\n",
       "  {'relative_offset': 0.5, 'interval': -2.0, 'duration': Fraction(1, 3)},\n",
       "  {'relative_offset': 0.5, 'interval': 2.0, 'duration': Fraction(1, 3)},\n",
       "  {'relative_offset': 0.5, 'interval': 1.0, 'duration': Fraction(1, 3)},\n",
       "  {'relative_offset': 0.5, 'interval': 0.0, 'duration': Fraction(1, 3)},\n",
       "  {'relative_offset': 0.5, 'interval': 0.0, 'duration': Fraction(1, 3)},\n",
       "  {'relative_offset': 0.5, 'interval': 0.0, 'duration': Fraction(1, 3)},\n",
       "  {'relative_offset': 0.5, 'interval': -1.0, 'duration': Fraction(1, 3)},\n",
       "  {'relative_offset': 0.5, 'interval': 0.0, 'duration': Fraction(1, 3)},\n",
       "  {'relative_offset': 0.5, 'interval': 0.0, 'duration': Fraction(1, 3)},\n",
       "  {'relative_offset': 1.5, 'interval': 1.0, 'duration': Fraction(1, 3)},\n",
       "  {'relative_offset': 0.5, 'interval': 0.0, 'duration': Fraction(1, 3)},\n",
       "  {'relative_offset': 0.5, 'interval': 0.0, 'duration': Fraction(1, 3)},\n",
       "  {'relative_offset': 0.5, 'interval': 0.0, 'duration': Fraction(1, 3)},\n",
       "  {'relative_offset': 0.5, 'interval': 0.0, 'duration': 1.0},\n",
       "  {'relative_offset': 0.5, 'interval': -27.0, 'duration': 0.5},\n",
       "  {'relative_offset': 0.5, 'interval': 29.0, 'duration': Fraction(1, 3)},\n",
       "  {'relative_offset': 0.5, 'interval': 0.0, 'duration': Fraction(1, 3)},\n",
       "  {'relative_offset': 0.5, 'interval': 0.0, 'duration': Fraction(1, 3)},\n",
       "  {'relative_offset': 0.5, 'interval': 0.0, 'duration': Fraction(1, 3)},\n",
       "  {'relative_offset': 0.5, 'interval': 0.0, 'duration': Fraction(1, 3)},\n",
       "  {'relative_offset': 0.5, 'interval': 0.0, 'duration': Fraction(1, 3)},\n",
       "  {'relative_offset': 0.75, 'interval': 0.0, 'duration': 0.0},\n",
       "  {'relative_offset': 0.25, 'interval': 0.0, 'duration': 0.0},\n",
       "  {'relative_offset': 0.25, 'interval': 0.0, 'duration': 0.0},\n",
       "  {'relative_offset': 0.25, 'interval': -2.0, 'duration': Fraction(1, 3)},\n",
       "  {'relative_offset': 0.5, 'interval': -1.0, 'duration': Fraction(1, 3)},\n",
       "  {'relative_offset': 0.5, 'interval': 0.0, 'duration': Fraction(1, 3)},\n",
       "  {'relative_offset': 0.5, 'interval': 0.0, 'duration': Fraction(1, 3)},\n",
       "  {'relative_offset': 0.5, 'interval': 0.0, 'duration': Fraction(1, 3)},\n",
       "  {'relative_offset': 0.5, 'interval': 0.0, 'duration': Fraction(1, 3)},\n",
       "  {'relative_offset': 0.5, 'interval': 0.0, 'duration': Fraction(1, 3)},\n",
       "  {'relative_offset': 0.5, 'interval': -2.0, 'duration': Fraction(1, 3)},\n",
       "  {'relative_offset': 0.5, 'interval': 2.0, 'duration': Fraction(1, 3)},\n",
       "  {'relative_offset': 0.5, 'interval': 1.0, 'duration': Fraction(1, 3)},\n",
       "  {'relative_offset': 0.5, 'interval': 0.0, 'duration': Fraction(1, 3)},\n",
       "  {'relative_offset': 0.5, 'interval': 0.0, 'duration': Fraction(1, 3)},\n",
       "  {'relative_offset': 0.5, 'interval': 0.0, 'duration': Fraction(1, 3)},\n",
       "  {'relative_offset': 0.5, 'interval': -1.0, 'duration': Fraction(1, 3)},\n",
       "  {'relative_offset': 0.5, 'interval': 0.0, 'duration': Fraction(1, 3)},\n",
       "  {'relative_offset': 0.5, 'interval': 0.0, 'duration': Fraction(1, 3)},\n",
       "  {'relative_offset': 0.5, 'interval': 1.0, 'duration': Fraction(1, 3)},\n",
       "  {'relative_offset': 0.5, 'interval': 0.0, 'duration': Fraction(1, 3)},\n",
       "  {'relative_offset': 0.5, 'interval': 0.0, 'duration': Fraction(1, 3)},\n",
       "  {'relative_offset': 0.5, 'interval': 0.0, 'duration': Fraction(1, 3)},\n",
       "  {'relative_offset': 0.5, 'interval': 0.0, 'duration': Fraction(1, 3)},\n",
       "  {'relative_offset': 0.5, 'interval': 0.0, 'duration': Fraction(1, 3)},\n",
       "  {'relative_offset': 0.5, 'interval': 0.0, 'duration': 1.0},\n",
       "  {'relative_offset': 0.5, 'interval': -27.0, 'duration': 0.5},\n",
       "  {'relative_offset': 0.5, 'interval': 29.0, 'duration': Fraction(1, 3)},\n",
       "  {'relative_offset': 0.5, 'interval': 0.0, 'duration': Fraction(1, 3)},\n",
       "  {'relative_offset': 0.5, 'interval': 0.0, 'duration': Fraction(1, 3)},\n",
       "  {'relative_offset': 0.5, 'interval': 0.0, 'duration': Fraction(1, 3)},\n",
       "  {'relative_offset': 0.5, 'interval': 0.0, 'duration': Fraction(1, 3)},\n",
       "  {'relative_offset': 0.5, 'interval': 0.0, 'duration': Fraction(1, 3)},\n",
       "  {'relative_offset': 0.75, 'interval': 0.0, 'duration': 0.0},\n",
       "  {'relative_offset': 0.25, 'interval': 0.0, 'duration': 0.0},\n",
       "  {'relative_offset': 0.25, 'interval': 0.0, 'duration': 0.0},\n",
       "  {'relative_offset': 0.25, 'interval': -2.0, 'duration': Fraction(1, 3)},\n",
       "  {'relative_offset': 0.5, 'interval': -1.0, 'duration': Fraction(1, 3)},\n",
       "  {'relative_offset': 0.5, 'interval': 0.0, 'duration': Fraction(1, 3)},\n",
       "  {'relative_offset': 0.5, 'interval': 0.0, 'duration': Fraction(1, 3)},\n",
       "  {'relative_offset': 0.5, 'interval': 0.0, 'duration': Fraction(1, 3)},\n",
       "  {'relative_offset': 0.5, 'interval': 0.0, 'duration': Fraction(1, 3)},\n",
       "  {'relative_offset': 0.5, 'interval': 0.0, 'duration': Fraction(1, 3)},\n",
       "  {'relative_offset': 0.5, 'interval': -2.0, 'duration': Fraction(1, 3)},\n",
       "  {'relative_offset': 0.5, 'interval': 2.0, 'duration': Fraction(1, 3)},\n",
       "  {'relative_offset': 0.5, 'interval': 1.0, 'duration': Fraction(1, 3)},\n",
       "  {'relative_offset': 0.5, 'interval': 0.0, 'duration': Fraction(1, 3)},\n",
       "  {'relative_offset': 0.5, 'interval': 0.0, 'duration': Fraction(1, 3)},\n",
       "  {'relative_offset': 0.5, 'interval': 0.0, 'duration': Fraction(1, 3)},\n",
       "  {'relative_offset': 0.5, 'interval': -1.0, 'duration': Fraction(1, 3)},\n",
       "  {'relative_offset': 0.5, 'interval': 0.0, 'duration': Fraction(1, 3)}]]"
      ]
     },
     "execution_count": 259,
     "metadata": {},
     "output_type": "execute_result"
    }
   ],
   "source": [
    "songs[:1]"
   ]
  },
  {
   "cell_type": "code",
   "execution_count": 257,
   "id": "914472c5-c42d-40f0-865e-07c1ae2d2245",
   "metadata": {},
   "outputs": [
    {
     "data": {
      "text/plain": [
       "424"
      ]
     },
     "execution_count": 257,
     "metadata": {},
     "output_type": "execute_result"
    }
   ],
   "source": [
    "len(songs)"
   ]
  },
  {
   "cell_type": "markdown",
   "id": "e330930c-e759-40f6-83f4-033b84e80159",
   "metadata": {},
   "source": [
    "Save into pickle: "
   ]
  },
  {
   "cell_type": "code",
   "execution_count": 258,
   "id": "cc0852e1-6214-4620-9dfe-70e6723c42cf",
   "metadata": {},
   "outputs": [],
   "source": [
    "# Save into a pickle file.\n",
    "import pickle\n",
    "\n",
    "pickle.dump( songs, open( \"songs.p\", \"wb\" ) )"
   ]
  },
  {
   "cell_type": "markdown",
   "id": "fff09247-e107-4607-aaa5-e5f7a1943f15",
   "metadata": {},
   "source": [
    "What vocabularies do we need?"
   ]
  },
  {
   "cell_type": "markdown",
   "id": "1642bdac-1d19-4ae5-bb14-182c25ffdf40",
   "metadata": {},
   "source": [
    "For durations:"
   ]
  },
  {
   "cell_type": "code",
   "execution_count": 156,
   "id": "e9cbd8dc-6dc0-46ab-88c0-4144326f727b",
   "metadata": {},
   "outputs": [],
   "source": [
    "durations = []\n",
    "[[durations.append(note['duration']) for note in song ] for song in songs];"
   ]
  },
  {
   "cell_type": "code",
   "execution_count": 157,
   "id": "f714e89c-db9f-41f5-bff2-f282015d726d",
   "metadata": {},
   "outputs": [
    {
     "data": {
      "text/plain": [
       "(array([7.0639e+04, 1.3470e+03, 4.3600e+02, 6.2000e+01, 7.7000e+01,\n",
       "        0.0000e+00, 4.0000e+00, 2.0000e+00, 4.0000e+00, 1.0000e+00]),\n",
       " array([0.0, 2.0, 4.0, 6.0, 8.0, 10.0, 12.0, 14.0, 16.0, 18.0, 20.0],\n",
       "       dtype=object),\n",
       " <BarContainer object of 10 artists>)"
      ]
     },
     "execution_count": 157,
     "metadata": {},
     "output_type": "execute_result"
    },
    {
     "data": {
      "image/png": "[encoded data removed]",
      "text/plain": [
       "<Figure size 432x288 with 1 Axes>"
      ]
     },
     "metadata": {
      "image/png": {
       "height": 248,
       "width": 388
      },
      "needs_background": "light"
     },
     "output_type": "display_data"
    }
   ],
   "source": [
    "plt.hist(durations)"
   ]
  },
  {
   "cell_type": "code",
   "execution_count": 158,
   "id": "204edef0-cfdb-4ea8-965e-e0840cdd41ef",
   "metadata": {},
   "outputs": [
    {
     "data": {
      "text/plain": [
       "[0.5,\n",
       " 1.0,\n",
       " 0.0,\n",
       " 1.5,\n",
       " 0.25,\n",
       " 2.5,\n",
       " 2.25,\n",
       " 0.75,\n",
       " 1.25,\n",
       " 4.0,\n",
       " 8.0,\n",
       " 2.0,\n",
       " 4.5,\n",
       " 5.0,\n",
       " 1.75,\n",
       " 7.5,\n",
       " 3.0,\n",
       " 12.0,\n",
       " 3.5,\n",
       " 3.25,\n",
       " 2.75,\n",
       " 4.25,\n",
       " 4.75,\n",
       " 3.75,\n",
       " 15.0,\n",
       " 16.0,\n",
       " 5.5,\n",
       " 5.75,\n",
       " 5.25,\n",
       " 20.0,\n",
       " 6.75,\n",
       " 6.0,\n",
       " 6.5,\n",
       " 6.25,\n",
       " 7.0,\n",
       " 7.75,\n",
       " 8.25,\n",
       " 8.75,\n",
       " Fraction(2, 3),\n",
       " Fraction(5, 3),\n",
       " Fraction(8, 3),\n",
       " Fraction(11, 3),\n",
       " Fraction(17, 3),\n",
       " Fraction(20, 3),\n",
       " 13.0,\n",
       " 14.5,\n",
       " Fraction(1, 3),\n",
       " Fraction(4, 3),\n",
       " Fraction(7, 3),\n",
       " Fraction(10, 3),\n",
       " Fraction(16, 3)]"
      ]
     },
     "execution_count": 158,
     "metadata": {},
     "output_type": "execute_result"
    }
   ],
   "source": [
    "list(set(durations))"
   ]
  },
  {
   "cell_type": "code",
   "execution_count": 159,
   "id": "cc275402-c516-40f4-a46a-33079192f8e4",
   "metadata": {},
   "outputs": [
    {
     "data": {
      "text/plain": [
       "fractions.Fraction"
      ]
     },
     "execution_count": 159,
     "metadata": {},
     "output_type": "execute_result"
    }
   ],
   "source": [
    "type(songs[0][0]['duration'])"
   ]
  },
  {
   "cell_type": "markdown",
   "id": "a2c41ec4-8594-4f55-b3a5-c4107deee6b2",
   "metadata": {},
   "source": [
    "We create a dictionary to translate from duration to positive int numbers:"
   ]
  },
  {
   "cell_type": "code",
   "execution_count": 160,
   "id": "cff49f9b-afab-430c-9d2b-3331d4a584b4",
   "metadata": {},
   "outputs": [],
   "source": [
    "duration_to_number = {}\n",
    "number_to_duration  = {}\n",
    "\n",
    "count=0\n",
    "duration = 0\n",
    "while duration <= 20:\n",
    "    number_to_duration[count] = duration\n",
    "    duration_to_number[duration] = count\n",
    "    count+=1\n",
    "    duration+=0.25\n",
    "\n",
    "duration = 0\n",
    "while duration <= 20:\n",
    "    if not duration in duration_to_number:\n",
    "        number_to_duration[count] = duration\n",
    "        duration_to_number[duration] = count\n",
    "        count+=1\n",
    "    duration+=fractions.Fraction(1,3)\n"
   ]
  },
  {
   "cell_type": "code",
   "execution_count": 162,
   "id": "d3b2639c-d6da-4062-987f-b7d6df4288aa",
   "metadata": {},
   "outputs": [
    {
     "data": {
      "text/plain": [
       "{0: 0,\n",
       " 1: 0.25,\n",
       " 2: 0.5,\n",
       " 3: 0.75,\n",
       " 4: 1.0,\n",
       " 5: 1.25,\n",
       " 6: 1.5,\n",
       " 7: 1.75,\n",
       " 8: 2.0,\n",
       " 9: 2.25,\n",
       " 10: 2.5,\n",
       " 11: 2.75,\n",
       " 12: 3.0,\n",
       " 13: 3.25,\n",
       " 14: 3.5,\n",
       " 15: 3.75,\n",
       " 16: 4.0,\n",
       " 17: 4.25,\n",
       " 18: 4.5,\n",
       " 19: 4.75,\n",
       " 20: 5.0,\n",
       " 21: 5.25,\n",
       " 22: 5.5,\n",
       " 23: 5.75,\n",
       " 24: 6.0,\n",
       " 25: 6.25,\n",
       " 26: 6.5,\n",
       " 27: 6.75,\n",
       " 28: 7.0,\n",
       " 29: 7.25,\n",
       " 30: 7.5,\n",
       " 31: 7.75,\n",
       " 32: 8.0,\n",
       " 33: 8.25,\n",
       " 34: 8.5,\n",
       " 35: 8.75,\n",
       " 36: 9.0,\n",
       " 37: 9.25,\n",
       " 38: 9.5,\n",
       " 39: 9.75,\n",
       " 40: 10.0,\n",
       " 41: 10.25,\n",
       " 42: 10.5,\n",
       " 43: 10.75,\n",
       " 44: 11.0,\n",
       " 45: 11.25,\n",
       " 46: 11.5,\n",
       " 47: 11.75,\n",
       " 48: 12.0,\n",
       " 49: 12.25,\n",
       " 50: 12.5,\n",
       " 51: 12.75,\n",
       " 52: 13.0,\n",
       " 53: 13.25,\n",
       " 54: 13.5,\n",
       " 55: 13.75,\n",
       " 56: 14.0,\n",
       " 57: 14.25,\n",
       " 58: 14.5,\n",
       " 59: 14.75,\n",
       " 60: 15.0,\n",
       " 61: 15.25,\n",
       " 62: 15.5,\n",
       " 63: 15.75,\n",
       " 64: 16.0,\n",
       " 65: 16.25,\n",
       " 66: 16.5,\n",
       " 67: 16.75,\n",
       " 68: 17.0,\n",
       " 69: 17.25,\n",
       " 70: 17.5,\n",
       " 71: 17.75,\n",
       " 72: 18.0,\n",
       " 73: 18.25,\n",
       " 74: 18.5,\n",
       " 75: 18.75,\n",
       " 76: 19.0,\n",
       " 77: 19.25,\n",
       " 78: 19.5,\n",
       " 79: 19.75,\n",
       " 80: 20.0,\n",
       " 81: Fraction(1, 3),\n",
       " 82: Fraction(2, 3),\n",
       " 83: Fraction(4, 3),\n",
       " 84: Fraction(5, 3),\n",
       " 85: Fraction(7, 3),\n",
       " 86: Fraction(8, 3),\n",
       " 87: Fraction(10, 3),\n",
       " 88: Fraction(11, 3),\n",
       " 89: Fraction(13, 3),\n",
       " 90: Fraction(14, 3),\n",
       " 91: Fraction(16, 3),\n",
       " 92: Fraction(17, 3),\n",
       " 93: Fraction(19, 3),\n",
       " 94: Fraction(20, 3),\n",
       " 95: Fraction(22, 3),\n",
       " 96: Fraction(23, 3),\n",
       " 97: Fraction(25, 3),\n",
       " 98: Fraction(26, 3),\n",
       " 99: Fraction(28, 3),\n",
       " 100: Fraction(29, 3),\n",
       " 101: Fraction(31, 3),\n",
       " 102: Fraction(32, 3),\n",
       " 103: Fraction(34, 3),\n",
       " 104: Fraction(35, 3),\n",
       " 105: Fraction(37, 3),\n",
       " 106: Fraction(38, 3),\n",
       " 107: Fraction(40, 3),\n",
       " 108: Fraction(41, 3),\n",
       " 109: Fraction(43, 3),\n",
       " 110: Fraction(44, 3),\n",
       " 111: Fraction(46, 3),\n",
       " 112: Fraction(47, 3),\n",
       " 113: Fraction(49, 3),\n",
       " 114: Fraction(50, 3),\n",
       " 115: Fraction(52, 3),\n",
       " 116: Fraction(53, 3),\n",
       " 117: Fraction(55, 3),\n",
       " 118: Fraction(56, 3),\n",
       " 119: Fraction(58, 3),\n",
       " 120: Fraction(59, 3)}"
      ]
     },
     "execution_count": 162,
     "metadata": {},
     "output_type": "execute_result"
    }
   ],
   "source": [
    "number_to_duration"
   ]
  },
  {
   "cell_type": "code",
   "execution_count": 163,
   "id": "3530b966-cb50-4e95-a2e1-d92532de19a3",
   "metadata": {},
   "outputs": [
    {
     "data": {
      "text/plain": [
       "121"
      ]
     },
     "execution_count": 163,
     "metadata": {},
     "output_type": "execute_result"
    }
   ],
   "source": [
    "len(number_to_duration)"
   ]
  },
  {
   "cell_type": "markdown",
   "id": "b110a1f5-ed6e-4d4e-ba55-6d8a30fb3caa",
   "metadata": {},
   "source": [
    "We create a dictionary to translate from interval to positive int numbers:"
   ]
  },
  {
   "cell_type": "markdown",
   "id": "5dce5b94-6658-4251-9ce5-c6043a8a9f53",
   "metadata": {},
   "source": [
    "We consider intervals from -100 semitones to + 100 semitones."
   ]
  },
  {
   "cell_type": "code",
   "execution_count": 5,
   "id": "40e67bf7-62ae-44ab-a56d-b0e2367f2ca8",
   "metadata": {},
   "outputs": [
    {
     "data": {
      "text/plain": [
       "[0.0, -27.0, 27.0, 0.0, -27.0, 27.0, 0.0, -27.0, 27.0, -27.0]"
      ]
     },
     "execution_count": 5,
     "metadata": {},
     "output_type": "execute_result"
    }
   ],
   "source": [
    "[element for element in songs[0]][:10]"
   ]
  },
  {
   "cell_type": "code",
   "execution_count": 6,
   "id": "1047ecd6-0669-4a03-bd11-43ee5ad465f0",
   "metadata": {},
   "outputs": [],
   "source": [
    "interval_to_number = {}\n",
    "number_to_interval = {}\n",
    "\n",
    "for i in range(0,100):\n",
    "    interval_to_number[i] = i\n",
    "    interval_to_number[-i] = 100 + i\n",
    "    number_to_interval[i] = i\n",
    "    number_to_interval[100+i] = -i\n",
    "    "
   ]
  },
  {
   "cell_type": "markdown",
   "id": "da757dd8-b83b-497b-8469-6cb1ee138fc3",
   "metadata": {},
   "source": [
    "We create a dictionary to translate from relative_offset to positive int numbers:"
   ]
  },
  {
   "cell_type": "code",
   "execution_count": 171,
   "id": "bb2fdc46-011a-4528-90fc-3cca71f4e5c1",
   "metadata": {},
   "outputs": [],
   "source": [
    "offsets = []\n",
    "[[offsets.append(note['relative_offset']) for note in song ] for song in songs];"
   ]
  },
  {
   "cell_type": "code",
   "execution_count": 172,
   "id": "88fcb887-27bf-43ef-8663-03da9d19b274",
   "metadata": {},
   "outputs": [
    {
     "data": {
      "image/png": "[encoded data removed]",
      "text/plain": [
       "<Figure size 432x288 with 1 Axes>"
      ]
     },
     "metadata": {
      "image/png": {
       "height": 248,
       "width": 388
      },
      "needs_background": "light"
     },
     "output_type": "display_data"
    }
   ],
   "source": [
    "plt.hist(offsets);"
   ]
  },
  {
   "cell_type": "code",
   "execution_count": 173,
   "id": "b59c39a8-2134-4246-b4d1-6f80790fc0e6",
   "metadata": {},
   "outputs": [
    {
     "data": {
      "text/plain": [
       "[0.5,\n",
       " 0.75,\n",
       " 0.25,\n",
       " 3.0,\n",
       " 1.5,\n",
       " 1.0,\n",
       " 2.0,\n",
       " 2.5,\n",
       " 8.5,\n",
       " 3.75,\n",
       " 4.666666666666668,\n",
       " 1.1666666666666714,\n",
       " 1.25,\n",
       " 1.1666666666666572,\n",
       " 5.0,\n",
       " 1.75,\n",
       " 8.0,\n",
       " 3.5,\n",
       " 2.75,\n",
       " 2.25,\n",
       " 3.25,\n",
       " 4.5,\n",
       " 4.0,\n",
       " 15.75,\n",
       " 16.0,\n",
       " 18.25,\n",
       " 5.5,\n",
       " 4.25,\n",
       " 5.25,\n",
       " 26.0,\n",
       " 5.75,\n",
       " 31.0,\n",
       " 32.0,\n",
       " 6.5,\n",
       " 6.0,\n",
       " 32.5,\n",
       " 7.0,\n",
       " 6.25,\n",
       " 32.25,\n",
       " 37.0,\n",
       " 7.5,\n",
       " 8.25,\n",
       " 7.25,\n",
       " 43.5,\n",
       " 9.0,\n",
       " 47.75,\n",
       " 9.5,\n",
       " 9.666666666666671,\n",
       " 12.0,\n",
       " 64.0,\n",
       " 13.5,\n",
       " 13.0,\n",
       " 15.5,\n",
       " 15.0,\n",
       " 16.25,\n",
       " 16.5,\n",
       " 0.08333333333333337,\n",
       " 3.3333333333333357,\n",
       " 5.333333333333314,\n",
       " 0.3333333333333333,\n",
       " 0.9166666666666661,\n",
       " 0.6666666666666661,\n",
       " 0.16666666666666607,\n",
       " 0.4166666666666661,\n",
       " 0.08333333333333331,\n",
       " 0.08333333333331439,\n",
       " 0.3333333333333144,\n",
       " 0.5833333333333144,\n",
       " 0.8333333333333144,\n",
       " 1.666666666666666,\n",
       " 1.0833333333333144,\n",
       " 1.3333333333333144,\n",
       " 0.16666666666666652,\n",
       " 0.6666666666666665,\n",
       " 0.4166666666666665,\n",
       " 0.3333333333333286,\n",
       " 0.5833333333333286,\n",
       " 0.0833333333333286,\n",
       " 0.8333333333333286,\n",
       " Fraction(2, 3),\n",
       " 2.6666666666666665,\n",
       " Fraction(5, 3),\n",
       " 0.16666666666666674,\n",
       " 0.41666666666666674,\n",
       " 0.6666666666666667,\n",
       " Fraction(26, 3),\n",
       " 0.3333333333333357,\n",
       " 0.8333333333333357,\n",
       " 0.0833333333333357,\n",
       " 0.5833333333333357,\n",
       " 1.3333333333333286,\n",
       " 0.16666666666666696,\n",
       " 0.666666666666667,\n",
       " 0.41666666666666696,\n",
       " 0.3333333333333428,\n",
       " 0.08333333333334281,\n",
       " 0.5833333333333428,\n",
       " 1.3333333333333357,\n",
       " 3.666666666666667,\n",
       " 3.3333333333333144,\n",
       " 1.3333333333333428,\n",
       " 4.333333333333314,\n",
       " 3.3333333333333286,\n",
       " 0.6666666666666666,\n",
       " 0.41666666666666663,\n",
       " 0.33333333333333215,\n",
       " 0.8333333333333321,\n",
       " 0.08333333333333215,\n",
       " 0.5833333333333321,\n",
       " 0.33333333333333337,\n",
       " 0.16666666666666785,\n",
       " 0.6666666666666679,\n",
       " 0.41666666666666785,\n",
       " 1.6666666666666679,\n",
       " 0.16666666666662877,\n",
       " 0.08333333333337123,\n",
       " 1.3333333333333321,\n",
       " 2.666666666666668,\n",
       " 3.666666666666668,\n",
       " 3.333333333333343,\n",
       " 0.33333333333333304,\n",
       " 0.08333333333333304,\n",
       " 0.583333333333333,\n",
       " 0.833333333333333,\n",
       " 0.4166666666666572,\n",
       " 0.6666666666666572,\n",
       " 0.1666666666666572,\n",
       " 1.333333333333333,\n",
       " 2.333333333333333,\n",
       " 3.333333333333333,\n",
       " 0.33333333333333326,\n",
       " 0.08333333333333326,\n",
       " 0.8333333333333333,\n",
       " Fraction(1, 3),\n",
       " 0.6666666666666643,\n",
       " 0.4166666666666643,\n",
       " 0.1666666666666643,\n",
       " 4.333333333333333,\n",
       " Fraction(4, 3),\n",
       " 1.6666666666666572,\n",
       " 1.4166666666666572,\n",
       " 0.3333333333333335,\n",
       " 0.8333333333333335,\n",
       " 0.08333333333333348,\n",
       " 0.6666666666666714,\n",
       " 0.1666666666666714,\n",
       " 0.4166666666666714,\n",
       " 1.3333333333333335,\n",
       " 2.3333333333333335,\n",
       " 1.6666666666666643,\n",
       " 1.4166666666666643,\n",
       " 2.666666666666657,\n",
       " 1.6666666666666714,\n",
       " 0.16666666666666669,\n",
       " 0.3333333333333339,\n",
       " 0.8333333333333339,\n",
       " 0.5833333333333339,\n",
       " 0.08333333333333393,\n",
       " 0.16666666666668561,\n",
       " 1.333333333333334,\n",
       " 2.6666666666666643,\n",
       " 0.6666666666666856,\n",
       " 0.4166666666666856,\n",
       " 3.333333333333334,\n",
       " 2.6666666666666714,\n",
       " 0.16666666666666663,\n",
       " 2.6666666666666856]"
      ]
     },
     "execution_count": 173,
     "metadata": {},
     "output_type": "execute_result"
    }
   ],
   "source": [
    "list(set(offsets))"
   ]
  },
  {
   "cell_type": "code",
   "execution_count": 179,
   "id": "5d1c1b07-1be9-4870-bdc2-4500516134bd",
   "metadata": {},
   "outputs": [],
   "source": [
    "offsets = []\n",
    "[[offsets.append(round(note['relative_offset']*4)/4) for note in song ] for song in songs];"
   ]
  },
  {
   "cell_type": "code",
   "execution_count": 183,
   "id": "c51ef93c-475e-45d2-8f71-eae9e5237e6e",
   "metadata": {},
   "outputs": [
    {
     "data": {
      "image/png": "[encoded data removed]",
      "text/plain": [
       "<Figure size 432x288 with 1 Axes>"
      ]
     },
     "metadata": {
      "image/png": {
       "height": 248,
       "width": 388
      },
      "needs_background": "light"
     },
     "output_type": "display_data"
    }
   ],
   "source": [
    "plt.hist(offsets);"
   ]
  },
  {
   "cell_type": "code",
   "execution_count": 181,
   "id": "c58f28ba-d1ba-4333-936d-b8342aa59652",
   "metadata": {},
   "outputs": [
    {
     "data": {
      "text/plain": [
       "[0.5,\n",
       " 0.75,\n",
       " 0.25,\n",
       " 3.0,\n",
       " 1.5,\n",
       " 1.0,\n",
       " 2.0,\n",
       " 2.5,\n",
       " 8.5,\n",
       " 3.75,\n",
       " 4.75,\n",
       " 1.25,\n",
       " 4.5,\n",
       " 5.0,\n",
       " 0.0,\n",
       " 1.75,\n",
       " 8.0,\n",
       " 3.5,\n",
       " 2.75,\n",
       " 2.25,\n",
       " 3.25,\n",
       " 4.0,\n",
       " 4.25,\n",
       " 15.75,\n",
       " 16.0,\n",
       " 18.25,\n",
       " 5.5,\n",
       " 5.25,\n",
       " 26.0,\n",
       " 5.75,\n",
       " 31.0,\n",
       " 32.0,\n",
       " 6.5,\n",
       " 6.0,\n",
       " 32.5,\n",
       " 7.0,\n",
       " 6.25,\n",
       " 32.25,\n",
       " 37.0,\n",
       " 7.5,\n",
       " 8.25,\n",
       " 7.25,\n",
       " 43.5,\n",
       " 8.75,\n",
       " 9.0,\n",
       " 47.75,\n",
       " 9.5,\n",
       " 9.75,\n",
       " 12.0,\n",
       " 64.0,\n",
       " 13.5,\n",
       " 13.0,\n",
       " 15.5,\n",
       " 15.0,\n",
       " 16.25,\n",
       " 16.5]"
      ]
     },
     "execution_count": 181,
     "metadata": {},
     "output_type": "execute_result"
    }
   ],
   "source": [
    "list(set(offsets))"
   ]
  },
  {
   "cell_type": "markdown",
   "id": "13f41a93-004e-43a6-99e3-eea7ee127728",
   "metadata": {},
   "source": [
    "We can use the same dictionary for offsets and for durations"
   ]
  },
  {
   "cell_type": "markdown",
   "id": "ad7197a5-3299-4b4d-9fcf-222de0356532",
   "metadata": {},
   "source": [
    "## Building the train set"
   ]
  },
  {
   "cell_type": "code",
   "execution_count": 36,
   "id": "bffb0054-8cfe-4e7c-afde-3768f7390b05",
   "metadata": {},
   "outputs": [],
   "source": [
    "train_set = [[interval_to_number[element] for element in song] for song in songs]"
   ]
  },
  {
   "cell_type": "code",
   "execution_count": 191,
   "id": "a7d49b4e-18fc-4fbd-b7a4-2530fa177336",
   "metadata": {},
   "outputs": [],
   "source": [
    "train_set = [ \\\n",
    "    [\\\n",
    "        [\n",
    "         duration_to_number[round(element['relative_offset']*4)/4] if (round(element['relative_offset']*4)/4 in duration_to_number) else 1, \n",
    "         interval_to_number[element['interval']], \n",
    "         duration_to_number[element['duration']]\n",
    "        ] \\\n",
    "    for element in song]\\\n",
    "for song in songs]"
   ]
  },
  {
   "cell_type": "code",
   "execution_count": 194,
   "id": "2ca654b9-cb78-4a7e-bb1b-7d2cf2725f9b",
   "metadata": {},
   "outputs": [
    {
     "data": {
      "text/plain": [
       "[[[2, 100, 81],\n",
       "  [2, 100, 81],\n",
       "  [2, 100, 81],\n",
       "  [2, 100, 81],\n",
       "  [2, 100, 81],\n",
       "  [2, 100, 4],\n",
       "  [2, 127, 2],\n",
       "  [2, 29, 81],\n",
       "  [2, 100, 81],\n",
       "  [2, 100, 81],\n",
       "  [2, 100, 81],\n",
       "  [2, 100, 81],\n",
       "  [2, 100, 81],\n",
       "  [3, 100, 0],\n",
       "  [1, 100, 0],\n",
       "  [1, 100, 0],\n",
       "  [1, 102, 81],\n",
       "  [2, 101, 81],\n",
       "  [2, 100, 81],\n",
       "  [2, 100, 81],\n",
       "  [2, 100, 81],\n",
       "  [2, 100, 81],\n",
       "  [2, 100, 81],\n",
       "  [2, 102, 81],\n",
       "  [2, 2, 81],\n",
       "  [2, 1, 81],\n",
       "  [2, 100, 81],\n",
       "  [2, 100, 81],\n",
       "  [2, 100, 81],\n",
       "  [2, 101, 81],\n",
       "  [2, 100, 81],\n",
       "  [2, 100, 81],\n",
       "  [2, 1, 81],\n",
       "  [2, 100, 81],\n",
       "  [2, 100, 81],\n",
       "  [2, 100, 81],\n",
       "  [2, 100, 81],\n",
       "  [2, 100, 81],\n",
       "  [2, 100, 4],\n",
       "  [2, 127, 2],\n",
       "  [2, 29, 81],\n",
       "  [2, 100, 81],\n",
       "  [2, 100, 81],\n",
       "  [2, 100, 81],\n",
       "  [2, 100, 81],\n",
       "  [2, 100, 81],\n",
       "  [3, 100, 0],\n",
       "  [1, 100, 0],\n",
       "  [1, 100, 0],\n",
       "  [1, 102, 81],\n",
       "  [2, 101, 81],\n",
       "  [2, 100, 81],\n",
       "  [2, 100, 81],\n",
       "  [2, 100, 81],\n",
       "  [2, 100, 81],\n",
       "  [2, 100, 81],\n",
       "  [2, 102, 81],\n",
       "  [2, 2, 81],\n",
       "  [2, 1, 81],\n",
       "  [2, 100, 81],\n",
       "  [2, 100, 81],\n",
       "  [2, 100, 81],\n",
       "  [2, 101, 81],\n",
       "  [2, 100, 81],\n",
       "  [2, 100, 81],\n",
       "  [6, 1, 81],\n",
       "  [2, 100, 81],\n",
       "  [2, 100, 81],\n",
       "  [2, 100, 81],\n",
       "  [2, 100, 4],\n",
       "  [2, 127, 2],\n",
       "  [2, 29, 81],\n",
       "  [2, 100, 81],\n",
       "  [2, 100, 81],\n",
       "  [2, 100, 81],\n",
       "  [2, 100, 81],\n",
       "  [2, 100, 81],\n",
       "  [3, 100, 0],\n",
       "  [1, 100, 0],\n",
       "  [1, 100, 0],\n",
       "  [1, 102, 81],\n",
       "  [2, 101, 81],\n",
       "  [2, 100, 81],\n",
       "  [2, 100, 81],\n",
       "  [2, 100, 81],\n",
       "  [2, 100, 81],\n",
       "  [2, 100, 81],\n",
       "  [2, 102, 81],\n",
       "  [2, 2, 81],\n",
       "  [2, 1, 81],\n",
       "  [2, 100, 81],\n",
       "  [2, 100, 81],\n",
       "  [2, 100, 81],\n",
       "  [2, 101, 81],\n",
       "  [2, 100, 81],\n",
       "  [2, 100, 81],\n",
       "  [2, 1, 81],\n",
       "  [2, 100, 81],\n",
       "  [2, 100, 81],\n",
       "  [2, 100, 81],\n",
       "  [2, 100, 81],\n",
       "  [2, 100, 81],\n",
       "  [2, 100, 4],\n",
       "  [2, 127, 2],\n",
       "  [2, 29, 81],\n",
       "  [2, 100, 81],\n",
       "  [2, 100, 81],\n",
       "  [2, 100, 81],\n",
       "  [2, 100, 81],\n",
       "  [2, 100, 81],\n",
       "  [3, 100, 0],\n",
       "  [1, 100, 0],\n",
       "  [1, 100, 0],\n",
       "  [1, 102, 81],\n",
       "  [2, 101, 81],\n",
       "  [2, 100, 81],\n",
       "  [2, 100, 81],\n",
       "  [2, 100, 81],\n",
       "  [2, 100, 81],\n",
       "  [2, 100, 81],\n",
       "  [2, 102, 81],\n",
       "  [2, 2, 81],\n",
       "  [2, 1, 81],\n",
       "  [2, 100, 81],\n",
       "  [2, 100, 81],\n",
       "  [2, 100, 81],\n",
       "  [2, 101, 81],\n",
       "  [2, 100, 81]]]"
      ]
     },
     "execution_count": 194,
     "metadata": {},
     "output_type": "execute_result"
    }
   ],
   "source": [
    "train_set[:1]"
   ]
  },
  {
   "cell_type": "code",
   "execution_count": 228,
   "id": "2a707f38-5f84-45d6-b93a-ced6908ee45e",
   "metadata": {},
   "outputs": [],
   "source": [
    "# split a multivariate sequence into samples\n",
    "def split_sequences(sequences, n_steps):\n",
    "    X, y = list(), list()\n",
    "    for i in range(len(sequences)):\n",
    "        # find the end of this pattern\n",
    "        end_ix = i + n_steps\n",
    "        # check if we are beyond the dataset\n",
    "        if end_ix > len(sequences)-1:\n",
    "            break\n",
    "        # gather input and output parts of the pattern\n",
    "        seq_x, seq_y = np.array(sequences)[i:end_ix, :], np.array(sequences)[end_ix, :]\n",
    "        X.append(seq_x)\n",
    "        y.append(seq_y)\n",
    "    return np.array(X), np.array(y)"
   ]
  },
  {
   "cell_type": "code",
   "execution_count": 229,
   "id": "ea2f88a4-40bf-4bd8-9676-0b018de8e4f8",
   "metadata": {},
   "outputs": [
    {
     "data": {
      "text/plain": [
       "[[2, 100, 81],\n",
       " [2, 100, 81],\n",
       " [2, 100, 81],\n",
       " [2, 100, 81],\n",
       " [2, 100, 81],\n",
       " [2, 100, 4],\n",
       " [2, 127, 2],\n",
       " [2, 29, 81],\n",
       " [2, 100, 81],\n",
       " [2, 100, 81],\n",
       " [2, 100, 81],\n",
       " [2, 100, 81],\n",
       " [2, 100, 81],\n",
       " [3, 100, 0],\n",
       " [1, 100, 0],\n",
       " [1, 100, 0],\n",
       " [1, 102, 81],\n",
       " [2, 101, 81],\n",
       " [2, 100, 81],\n",
       " [2, 100, 81],\n",
       " [2, 100, 81],\n",
       " [2, 100, 81],\n",
       " [2, 100, 81],\n",
       " [2, 102, 81],\n",
       " [2, 2, 81],\n",
       " [2, 1, 81],\n",
       " [2, 100, 81],\n",
       " [2, 100, 81],\n",
       " [2, 100, 81],\n",
       " [2, 101, 81],\n",
       " [2, 100, 81],\n",
       " [2, 100, 81],\n",
       " [2, 1, 81],\n",
       " [2, 100, 81],\n",
       " [2, 100, 81],\n",
       " [2, 100, 81],\n",
       " [2, 100, 81],\n",
       " [2, 100, 81],\n",
       " [2, 100, 4],\n",
       " [2, 127, 2],\n",
       " [2, 29, 81],\n",
       " [2, 100, 81],\n",
       " [2, 100, 81],\n",
       " [2, 100, 81],\n",
       " [2, 100, 81],\n",
       " [2, 100, 81],\n",
       " [3, 100, 0],\n",
       " [1, 100, 0],\n",
       " [1, 100, 0],\n",
       " [1, 102, 81],\n",
       " [2, 101, 81],\n",
       " [2, 100, 81],\n",
       " [2, 100, 81],\n",
       " [2, 100, 81],\n",
       " [2, 100, 81],\n",
       " [2, 100, 81],\n",
       " [2, 102, 81],\n",
       " [2, 2, 81],\n",
       " [2, 1, 81],\n",
       " [2, 100, 81],\n",
       " [2, 100, 81],\n",
       " [2, 100, 81],\n",
       " [2, 101, 81],\n",
       " [2, 100, 81],\n",
       " [2, 100, 81],\n",
       " [6, 1, 81],\n",
       " [2, 100, 81],\n",
       " [2, 100, 81],\n",
       " [2, 100, 81],\n",
       " [2, 100, 4],\n",
       " [2, 127, 2],\n",
       " [2, 29, 81],\n",
       " [2, 100, 81],\n",
       " [2, 100, 81],\n",
       " [2, 100, 81],\n",
       " [2, 100, 81],\n",
       " [2, 100, 81],\n",
       " [3, 100, 0],\n",
       " [1, 100, 0],\n",
       " [1, 100, 0],\n",
       " [1, 102, 81],\n",
       " [2, 101, 81],\n",
       " [2, 100, 81],\n",
       " [2, 100, 81],\n",
       " [2, 100, 81],\n",
       " [2, 100, 81],\n",
       " [2, 100, 81],\n",
       " [2, 102, 81],\n",
       " [2, 2, 81],\n",
       " [2, 1, 81],\n",
       " [2, 100, 81],\n",
       " [2, 100, 81],\n",
       " [2, 100, 81],\n",
       " [2, 101, 81],\n",
       " [2, 100, 81],\n",
       " [2, 100, 81],\n",
       " [2, 1, 81],\n",
       " [2, 100, 81],\n",
       " [2, 100, 81],\n",
       " [2, 100, 81],\n",
       " [2, 100, 81],\n",
       " [2, 100, 81],\n",
       " [2, 100, 4],\n",
       " [2, 127, 2],\n",
       " [2, 29, 81],\n",
       " [2, 100, 81],\n",
       " [2, 100, 81],\n",
       " [2, 100, 81],\n",
       " [2, 100, 81],\n",
       " [2, 100, 81],\n",
       " [3, 100, 0],\n",
       " [1, 100, 0],\n",
       " [1, 100, 0],\n",
       " [1, 102, 81],\n",
       " [2, 101, 81],\n",
       " [2, 100, 81],\n",
       " [2, 100, 81],\n",
       " [2, 100, 81],\n",
       " [2, 100, 81],\n",
       " [2, 100, 81],\n",
       " [2, 102, 81],\n",
       " [2, 2, 81],\n",
       " [2, 1, 81],\n",
       " [2, 100, 81],\n",
       " [2, 100, 81],\n",
       " [2, 100, 81],\n",
       " [2, 101, 81],\n",
       " [2, 100, 81]]"
      ]
     },
     "execution_count": 229,
     "metadata": {},
     "output_type": "execute_result"
    }
   ],
   "source": [
    "train_set[0]"
   ]
  },
  {
   "cell_type": "code",
   "execution_count": 230,
   "id": "baad460f-22a1-4ba7-abbd-721c5eddca41",
   "metadata": {},
   "outputs": [],
   "source": [
    "X, y = split_sequences(train_set[0], 3)"
   ]
  },
  {
   "cell_type": "code",
   "execution_count": 231,
   "id": "c35a46c6-0860-4809-a5f6-d5e7c1ed65a2",
   "metadata": {},
   "outputs": [
    {
     "data": {
      "text/plain": [
       "array([[[  2, 100,  81],\n",
       "        [  2, 100,  81],\n",
       "        [  2, 100,  81]],\n",
       "\n",
       "       [[  2, 100,  81],\n",
       "        [  2, 100,  81],\n",
       "        [  2, 100,  81]],\n",
       "\n",
       "       [[  2, 100,  81],\n",
       "        [  2, 100,  81],\n",
       "        [  2, 100,  81]],\n",
       "\n",
       "       ...,\n",
       "\n",
       "       [[  2,   1,  81],\n",
       "        [  2, 100,  81],\n",
       "        [  2, 100,  81]],\n",
       "\n",
       "       [[  2, 100,  81],\n",
       "        [  2, 100,  81],\n",
       "        [  2, 100,  81]],\n",
       "\n",
       "       [[  2, 100,  81],\n",
       "        [  2, 100,  81],\n",
       "        [  2, 101,  81]]])"
      ]
     },
     "execution_count": 231,
     "metadata": {},
     "output_type": "execute_result"
    }
   ],
   "source": [
    "X"
   ]
  },
  {
   "cell_type": "code",
   "execution_count": 232,
   "id": "b17118f7-4b76-4d6c-b9f2-815ae33747c2",
   "metadata": {},
   "outputs": [],
   "source": [
    "def slice_sequence_examples(sequence, num_steps):\n",
    "    \"\"\"Slice a sequence into redundant sequences of lenght num_steps.\"\"\"\n",
    "    xs = []\n",
    "    for i in range(len(sequence) - num_steps - 1):\n",
    "        example = sequence[i: i + num_steps]\n",
    "        xs.append(example)\n",
    "    return xs\n",
    "\n",
    "def seq_to_singleton_format(examples):\n",
    "    \"\"\"\n",
    "    Return the examples in seq to singleton format.\n",
    "    \"\"\"\n",
    "    xs = []\n",
    "    ys = []\n",
    "    for ex in examples:\n",
    "        xs.append(ex[:-1])\n",
    "        ys.append(ex[-1])\n",
    "    return (xs,ys)"
   ]
  },
  {
   "cell_type": "code",
   "execution_count": 233,
   "id": "89b8dbce-96c9-480f-be28-049be62e5f39",
   "metadata": {},
   "outputs": [],
   "source": [
    "SEQ_LEN = 30\n",
    "BATCH_SIZE = 64\n",
    "HIDDEN_UNITS = 256\n",
    "EPOCHS = 50\n",
    "VOCABULARY_SIZE = 201"
   ]
  },
  {
   "cell_type": "code",
   "execution_count": 234,
   "id": "5fa8732f-3e6a-4660-adb7-4d9ce2592737",
   "metadata": {},
   "outputs": [
    {
     "data": {
      "text/plain": [
       "201"
      ]
     },
     "execution_count": 234,
     "metadata": {},
     "output_type": "execute_result"
    }
   ],
   "source": [
    "VOCABULARY_SIZE"
   ]
  },
  {
   "cell_type": "code",
   "execution_count": 235,
   "id": "bff4e9e3-cc76-4996-9b45-3261c4acd4e5",
   "metadata": {},
   "outputs": [],
   "source": [
    "# Slice the sequences:\n",
    "slices = []\n",
    "for seq in train_set:\n",
    "    slices +=  slice_sequence_examples(seq, SEQ_LEN+1)\n",
    "\n",
    "# Split the sequences into Xs and ys:\n",
    "X, y = seq_to_singleton_format(slices)\n",
    "# Convert into numpy arrays.\n",
    "X = np.array(X)\n",
    "y = np.array(y)"
   ]
  },
  {
   "cell_type": "code",
   "execution_count": 236,
   "id": "0f39084d-7d40-4c05-bd10-c93da27a17df",
   "metadata": {},
   "outputs": [
    {
     "data": {
      "text/plain": [
       "(59968, 30, 3)"
      ]
     },
     "execution_count": 236,
     "metadata": {},
     "output_type": "execute_result"
    }
   ],
   "source": [
    "X.shape"
   ]
  },
  {
   "cell_type": "markdown",
   "id": "3a433f05-e021-4641-9531-d2f9c184ae79",
   "metadata": {},
   "source": [
    "We build the model:"
   ]
  },
  {
   "cell_type": "code",
   "execution_count": 237,
   "id": "237f314b-9188-4326-a4e6-3ce0b8a8203e",
   "metadata": {},
   "outputs": [],
   "source": [
    "import keras\n",
    "from keras.models import Sequential\n",
    "from keras.layers import Dense, Activation\n",
    "from keras.layers import LSTM, Dropout\n",
    "from keras.layers.embeddings import Embedding\n",
    "from keras.optimizers import RMSprop\n",
    "from keras.utils.data_utils import get_file\n",
    "from keras.models import load_model\n",
    "from keras.preprocessing.sequence import pad_sequences\n",
    "from keras.callbacks import ModelCheckpoint"
   ]
  },
  {
   "cell_type": "markdown",
   "id": "82c2abd8-5a10-419f-a317-16dbec758213",
   "metadata": {},
   "source": [
    "We sample:"
   ]
  },
  {
   "cell_type": "code",
   "execution_count": 238,
   "id": "d11f0d02-76e9-464e-b784-aa70fec915e5",
   "metadata": {},
   "outputs": [],
   "source": [
    "from random import randint\n",
    "def sample(preds):\n",
    "    sorted_indexes = np.argsort(preds)[::-1]\n",
    "    return sorted_indexes[randint(0,3)]"
   ]
  },
  {
   "cell_type": "code",
   "execution_count": 239,
   "id": "8401091c-948a-4736-80c6-3e4cf2e6b71f",
   "metadata": {},
   "outputs": [],
   "source": [
    "def sample_seq( seq, seq_length, model, number_to_note, output_seq_length ):\n",
    "    if output_seq_length <= len(seq): raise Exception(\"output_seq_length must be higher than seq_length\")\n",
    "        \n",
    "    output_seq = seq\n",
    "    for i in range(output_seq_length - len(seq)):\n",
    "        input_sequence = [seq[-seq_length:]]\n",
    "        x = pad_sequences(input_sequence, maxlen = seq_length, padding=\"pre\")\n",
    "        prediction = model.predict(x)\n",
    "        index = sample(prediction[0])\n",
    "        output_seq.append(index)\n",
    "    #[number_to_note(number) for number in output_seq]\n",
    "    return output_seq"
   ]
  },
  {
   "cell_type": "markdown",
   "id": "2834c1a7-f568-439e-85ce-41cd2d8d3b7a",
   "metadata": {},
   "source": [
    "Probando map: "
   ]
  },
  {
   "cell_type": "code",
   "execution_count": 242,
   "id": "d767ad81-51c2-40fd-a2a2-f8e6f8550dcc",
   "metadata": {},
   "outputs": [],
   "source": [
    "from keras.metrics import Precision\n",
    "from keras.metrics import SparseTopKCategoricalAccuracy"
   ]
  },
  {
   "cell_type": "code",
   "execution_count": 243,
   "id": "f54082d5-bae1-42c8-a470-80280f9ac2ca",
   "metadata": {},
   "outputs": [],
   "source": [
    "\n",
    "HIDDEN_UNITS = 50\n",
    "EPOCHS = 10\n",
    "VOCABULARY_SIZE = 201"
   ]
  },
  {
   "cell_type": "code",
   "execution_count": 250,
   "id": "6295b37c-1885-473b-9fd3-b7181bb67a3e",
   "metadata": {},
   "outputs": [
    {
     "name": "stdout",
     "output_type": "stream",
     "text": [
      "Build model...\n",
      "Model: \"sequential_11\"\n",
      "_________________________________________________________________\n",
      "Layer (type)                 Output Shape              Param #   \n",
      "=================================================================\n",
      "lstm_11 (LSTM)               (None, 30, 50)            10800     \n",
      "_________________________________________________________________\n",
      "lstm_12 (LSTM)               (None, 50)                20200     \n",
      "_________________________________________________________________\n",
      "dense_6 (Dense)              (None, 3)                 153       \n",
      "=================================================================\n",
      "Total params: 31,153\n",
      "Trainable params: 31,153\n",
      "Non-trainable params: 0\n",
      "_________________________________________________________________\n"
     ]
    }
   ],
   "source": [
    "print('Build model...')\n",
    "model_interval_with_time = Sequential()\n",
    "\n",
    "# LSTM part\n",
    "model_interval_with_time.add(LSTM(HIDDEN_UNITS, return_sequences=True, input_shape=(SEQ_LEN, 3)))\n",
    "model_interval_with_time.add(LSTM(HIDDEN_UNITS))\n",
    "\n",
    "# Project back to vocabulary\n",
    "#model_interval_with_time.add(Dense(VOCABULARY_SIZE, activation='softmax'))\n",
    "model_interval_with_time.add(Dense(3))\n",
    "\n",
    "#model_interval.compile(loss='sparse_categorical_crossentropy', optimizer='adam', metrics=['sparse_categorical_accuracy'])#metrics=[Precision(top_k=10)])\n",
    "#model_interval.compile(loss='sparse_categorical_crossentropy', optimizer='adam', metrics=[Precision(top_k=10)])\n",
    "#model_interval_with_time.compile(loss='sparse_categorical_crossentropy', optimizer='adam', metrics=[SparseTopKCategoricalAccuracy(k=10, name='sparse_top_k_categorical_accuracy')])\n",
    "\n",
    "model_interval_with_time.compile(optimizer='adam', loss='mse')\n",
    "\n",
    "model_interval_with_time.summary()"
   ]
  },
  {
   "cell_type": "code",
   "execution_count": 251,
   "id": "ed7d4a25-a85e-440b-9d5a-9ffbfc8b426e",
   "metadata": {},
   "outputs": [],
   "source": [
    "# checkpoint\n",
    "filepath=\"models_checkpoints/weights-improvement-{epoch:02d}-{val_loss:.2f}.hdf5\"\n",
    "checkpoint = ModelCheckpoint(filepath, monitor='val_loss', verbose=1, save_best_only=False, mode='min')\n",
    "callbacks_list = [checkpoint]"
   ]
  },
  {
   "cell_type": "code",
   "execution_count": 252,
   "id": "cdbe4139-177f-4381-bffc-e615468ab941",
   "metadata": {},
   "outputs": [
    {
     "name": "stdout",
     "output_type": "stream",
     "text": [
      "Train on 53971 samples, validate on 5997 samples\n",
      "Epoch 1/10\n",
      "53971/53971 [==============================] - 73s 1ms/step - loss: 1620.9913 - val_loss: 1375.2242\n",
      "\n",
      "Epoch 00001: saving model to models_checkpoints/weights-improvement-01-1375.22.hdf5\n",
      "Epoch 2/10\n",
      "53971/53971 [==============================] - 71s 1ms/step - loss: 1029.9226 - val_loss: 1138.3470\n",
      "\n",
      "Epoch 00002: saving model to models_checkpoints/weights-improvement-02-1138.35.hdf5\n",
      "Epoch 3/10\n",
      "53971/53971 [==============================] - 71s 1ms/step - loss: 936.3716 - val_loss: 1088.6296\n",
      "\n",
      "Epoch 00003: saving model to models_checkpoints/weights-improvement-03-1088.63.hdf5\n",
      "Epoch 4/10\n",
      "53971/53971 [==============================] - 71s 1ms/step - loss: 866.5593 - val_loss: 990.4141\n",
      "\n",
      "Epoch 00004: saving model to models_checkpoints/weights-improvement-04-990.41.hdf5\n",
      "Epoch 5/10\n",
      "53971/53971 [==============================] - 71s 1ms/step - loss: 779.1200 - val_loss: 918.5238\n",
      "\n",
      "Epoch 00005: saving model to models_checkpoints/weights-improvement-05-918.52.hdf5\n",
      "Epoch 6/10\n",
      "53971/53971 [==============================] - 70s 1ms/step - loss: 731.3738 - val_loss: 881.3582\n",
      "\n",
      "Epoch 00006: saving model to models_checkpoints/weights-improvement-06-881.36.hdf5\n",
      "Epoch 7/10\n",
      "53971/53971 [==============================] - 71s 1ms/step - loss: 699.0523 - val_loss: 828.7609\n",
      "\n",
      "Epoch 00007: saving model to models_checkpoints/weights-improvement-07-828.76.hdf5\n",
      "Epoch 8/10\n",
      "53971/53971 [==============================] - 70s 1ms/step - loss: 679.5950 - val_loss: 807.1710\n",
      "\n",
      "Epoch 00008: saving model to models_checkpoints/weights-improvement-08-807.17.hdf5\n",
      "Epoch 9/10\n",
      "53971/53971 [==============================] - 70s 1ms/step - loss: 665.6761 - val_loss: 794.5060\n",
      "\n",
      "Epoch 00009: saving model to models_checkpoints/weights-improvement-09-794.51.hdf5\n",
      "Epoch 10/10\n",
      "53971/53971 [==============================] - 71s 1ms/step - loss: 657.1587 - val_loss: 793.4056\n",
      "\n",
      "Epoch 00010: saving model to models_checkpoints/weights-improvement-10-793.41.hdf5\n"
     ]
    }
   ],
   "source": [
    "# Fit the model\n",
    "history = model_interval_with_time.fit(X, y, validation_split = 0.1,  batch_size=BATCH_SIZE, epochs=10, callbacks=callbacks_list)\n"
   ]
  },
  {
   "cell_type": "code",
   "execution_count": 254,
   "id": "1bada64e-c440-4f02-8b1b-b658b2ec27ac",
   "metadata": {},
   "outputs": [
    {
     "data": {
      "image/png": "[encoded data removed]",
      "text/plain": [
       "<Figure size 432x288 with 1 Axes>"
      ]
     },
     "metadata": {
      "image/png": {
       "height": 277,
       "width": 395
      },
      "needs_background": "light"
     },
     "output_type": "display_data"
    }
   ],
   "source": [
    "plt.plot(model_interval_with_time.history.history['loss'])\n",
    "plt.plot(model_interval_with_time.history.history['val_loss'])\n",
    "plt.title('model loss')\n",
    "plt.ylabel('loss')\n",
    "plt.xlabel('epoch')\n",
    "plt.legend(['train', 'val'], loc='upper left')\n",
    "plt.show()"
   ]
  },
  {
   "cell_type": "code",
   "execution_count": 49,
   "id": "2dc34418-bf5b-458d-b186-bd0d3643dc3e",
   "metadata": {},
   "outputs": [],
   "source": [
    "from keras.losses import SparseCategoricalCrossentropy"
   ]
  },
  {
   "cell_type": "code",
   "execution_count": 50,
   "id": "adee83fd-f685-4d5e-98e0-af2d66f29ffa",
   "metadata": {},
   "outputs": [
    {
     "data": {
      "text/plain": [
       "keras.losses.SparseCategoricalCrossentropy"
      ]
     },
     "execution_count": 50,
     "metadata": {},
     "output_type": "execute_result"
    }
   ],
   "source": [
    "SparseCategoricalCrossentropy"
   ]
  },
  {
   "cell_type": "code",
   "execution_count": 51,
   "id": "622651e7-2001-4ba9-9faf-53e0b6ac3e74",
   "metadata": {},
   "outputs": [],
   "source": [
    "model_interval.load_weights('models_checkpoints/weights-improvement-10-2.87.hdf5')"
   ]
  },
  {
   "cell_type": "code",
   "execution_count": 55,
   "id": "2c0536c6-2f5c-4934-ba2d-82e32881685a",
   "metadata": {},
   "outputs": [],
   "source": [
    "generated_vector = sample_seq([1], SEQ_LEN, model_interval, number_to_interval, 50)\n",
    "generated_intervals = [number_to_interval[number] for number in generated_vector]"
   ]
  },
  {
   "cell_type": "code",
   "execution_count": 59,
   "id": "23359692-bc08-4aa2-8b27-7848405e2868",
   "metadata": {},
   "outputs": [],
   "source": [
    "from datetime import datetime"
   ]
  },
  {
   "cell_type": "code",
   "execution_count": 60,
   "id": "a4274624-a931-431d-9ae2-470141a18944",
   "metadata": {},
   "outputs": [
    {
     "data": {
      "text/plain": [
       "'20210620_205756'"
      ]
     },
     "execution_count": 60,
     "metadata": {},
     "output_type": "execute_result"
    }
   ],
   "source": [
    "datetime.now().strftime(\"%Y%m%d_%H%M%S\")"
   ]
  },
  {
   "cell_type": "code",
   "execution_count": 61,
   "id": "2157dabd-d764-41b8-a4e5-0d26090f2c30",
   "metadata": {},
   "outputs": [
    {
     "data": {
      "text/plain": [
       "datetime.datetime(2021, 6, 20, 20, 57, 58, 363034)"
      ]
     },
     "execution_count": 61,
     "metadata": {},
     "output_type": "execute_result"
    }
   ],
   "source": [
    "from datetime import datetime\n",
    "datetime.now()"
   ]
  },
  {
   "cell_type": "code",
   "execution_count": 62,
   "id": "e8211da3-e3e1-4e60-b231-791dede176b6",
   "metadata": {},
   "outputs": [],
   "source": [
    "from_intervals_to_midi(70, generated_intervals, datetime.now().strftime(\"%Y%m%d_%H%M%S\")+'_generated_record_intervals_tuning.mid') "
   ]
  },
  {
   "cell_type": "code",
   "execution_count": null,
   "id": "408258d7-6620-40b6-85a9-853639336f57",
   "metadata": {},
   "outputs": [],
   "source": []
  }
 ],
 "metadata": {
  "kernelspec": {
   "display_name": "Python 3",
   "language": "python",
   "name": "python3"
  },
  "language_info": {
   "codemirror_mode": {
    "name": "ipython",
    "version": 3
   },
   "file_extension": ".py",
   "mimetype": "text/x-python",
   "name": "python",
   "nbconvert_exporter": "python",
   "pygments_lexer": "ipython3",
   "version": "3.7.10"
  }
 },
 "nbformat": 4,
 "nbformat_minor": 5
}
