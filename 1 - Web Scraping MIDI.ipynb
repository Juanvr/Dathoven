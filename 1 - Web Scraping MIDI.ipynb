{
 "cells": [
  {
   "cell_type": "markdown",
   "id": "b7a5e12a-4465-4563-90d2-f0bd2e746bad",
   "metadata": {},
   "source": [
    "# Web Scraping MIDI"
   ]
  },
  {
   "cell_type": "code",
   "execution_count": 83,
   "id": "5a5f7a9f-746c-4f1a-80fe-bd779cde5ccb",
   "metadata": {},
   "outputs": [],
   "source": [
    "import urllib\n",
    "import shutil\n",
    "import re\n",
    "from pathlib import Path\n",
    "from bs4 import BeautifulSoup\n",
    "import requests\n",
    "import glob, time"
   ]
  },
  {
   "cell_type": "markdown",
   "id": "242676af-37f9-4cf6-80bc-8923534af191",
   "metadata": {},
   "source": [
    "We define a function that returns all anchors on a website according to its attributes:"
   ]
  },
  {
   "cell_type": "code",
   "execution_count": 16,
   "id": "7315ca81-18c1-4cf6-b39a-463907772abc",
   "metadata": {},
   "outputs": [],
   "source": [
    "def get_elements( url, tag, attrs ):\n",
    "    page = urllib.request.urlopen(url).read()\n",
    "    soup = BeautifulSoup(page, 'html.parser')\n",
    "    return soup.findAll(tag, attrs)"
   ]
  },
  {
   "cell_type": "markdown",
   "id": "f782d4a1-2287-46e3-8203-a7a2bf278c23",
   "metadata": {},
   "source": [
    "## Carlo's MIDI"
   ]
  },
  {
   "cell_type": "markdown",
   "id": "5eb0e6da-b340-4998-9df0-1a1da2a0b2c6",
   "metadata": {},
   "source": [
    "The first midi website to try is: https://www.cprato.com/en/midi/all"
   ]
  },
  {
   "cell_type": "code",
   "execution_count": 11,
   "id": "f8be5f8a-bd0f-4d00-8377-f11bee4877ed",
   "metadata": {},
   "outputs": [],
   "source": [
    "target_page = 'https://www.cprato.com/en/midi/all'"
   ]
  },
  {
   "cell_type": "markdown",
   "id": "714e48c0-b66e-43ca-a3ca-d1f343a1408c",
   "metadata": {},
   "source": [
    "On the website we have a table with a view of 50 song links. To get all the songs we have to go inside every link and go through the total of 8 views with 50 songs: "
   ]
  },
  {
   "cell_type": "markdown",
   "id": "56205f70-ef7e-4dcf-a354-d0652bac6d89",
   "metadata": {},
   "source": [
    "<img src=\"notebooks_images\\Carlos_MIDI_Table.png\">"
   ]
  },
  {
   "cell_type": "markdown",
   "id": "e3f0fced-203e-4a97-9617-bc06f7c8c797",
   "metadata": {},
   "source": [
    "We get the links for the numbers:"
   ]
  },
  {
   "cell_type": "code",
   "execution_count": 12,
   "id": "a120b51b-9a01-48c2-99ca-2f3b2731ebf8",
   "metadata": {},
   "outputs": [
    {
     "data": {
      "text/plain": [
       "[<a class=\"page-link\" href=\"https://www.cprato.com/en/midi/all?page=2\">2</a>,\n",
       " <a class=\"page-link\" href=\"https://www.cprato.com/en/midi/all?page=3\">3</a>,\n",
       " <a class=\"page-link\" href=\"https://www.cprato.com/en/midi/all?page=4\">4</a>]"
      ]
     },
     "execution_count": 12,
     "metadata": {},
     "output_type": "execute_result"
    }
   ],
   "source": [
    "get_elements(target_page, tag='a', attrs={'class': 'page-link'})[:3]"
   ]
  },
  {
   "cell_type": "markdown",
   "id": "8136dd51-9134-4ef9-8109-791cfbefbb9e",
   "metadata": {},
   "source": [
    "We get the link to each song:"
   ]
  },
  {
   "cell_type": "code",
   "execution_count": 13,
   "id": "6ce92745-7653-4b3e-9347-adc38d0aaa67",
   "metadata": {},
   "outputs": [
    {
     "data": {
      "text/plain": [
       "[<a href=\"/en/midi/details/267/3lau-feat-bright-lights-how-you-love-me\" style=\"font-weight:700;\">How You Love Me </a>,\n",
       " <a href=\"/en/midi/details/137/above-beyond-tri-state\" style=\"font-weight:700;\">Tri-State (Original Mix)</a>,\n",
       " <a href=\"/en/midi/details/247/above-beyond-were-all-we-need\" style=\"font-weight:700;\">We're All We Need (Original Mix)</a>]"
      ]
     },
     "execution_count": 13,
     "metadata": {},
     "output_type": "execute_result"
    }
   ],
   "source": [
    "get_elements(target_page, tag='a', attrs={'href': re.compile(\"^/en/midi/details\")})[:3]"
   ]
  },
  {
   "cell_type": "markdown",
   "id": "d6933817-3208-4382-b376-5e53659b24b9",
   "metadata": {},
   "source": [
    "Inside each song we find this web page: "
   ]
  },
  {
   "cell_type": "markdown",
   "id": "3f01debc-e465-4656-9b34-fae08518fef3",
   "metadata": {},
   "source": [
    "<img src=\"notebooks_images\\Carlos_MIDI_Song_Detail.png\">"
   ]
  },
  {
   "cell_type": "markdown",
   "id": "6a836809-40f0-445c-91dd-1ade2ada79e0",
   "metadata": {},
   "source": [
    "In this webpage we have to get the element to make the download:"
   ]
  },
  {
   "cell_type": "code",
   "execution_count": 14,
   "id": "c1379f13-1af2-44d4-873d-c1c10d5dc8cf",
   "metadata": {},
   "outputs": [],
   "source": [
    "detail_page = 'https://www.cprato.com/en/midi/details/267/3lau-feat-bright-lights-how-you-love-me'"
   ]
  },
  {
   "cell_type": "code",
   "execution_count": 36,
   "id": "dd378e02-9a09-42af-bbf7-d785123cf736",
   "metadata": {},
   "outputs": [
    {
     "data": {
      "text/plain": [
       "<a class=\"btn btn-success px-3 py-3\" href=\"/en/midi/download/267/3lau-feat-bright-lights-how-you-love-me/My40ODA1MDE4NDMzMDMxRSsxNg==\" style=\"display:block;\"><i class=\"fas fa-download pr-1\"></i>\n",
       "        Free Download\n",
       "        </a>"
      ]
     },
     "execution_count": 36,
     "metadata": {},
     "output_type": "execute_result"
    }
   ],
   "source": [
    "target_free_download = get_elements(detail_page, tag='a', attrs={'href': re.compile(\"^/en/midi/download\")})[0]\n",
    "target_free_download"
   ]
  },
  {
   "cell_type": "markdown",
   "id": "8149f5b5-66ec-488c-9077-7ee6217fbf8e",
   "metadata": {},
   "source": [
    "Once we have the target free download we get the href value:"
   ]
  },
  {
   "cell_type": "code",
   "execution_count": 37,
   "id": "4acb362b-1378-4e6b-aa65-fccb3c8f3a39",
   "metadata": {},
   "outputs": [
    {
     "data": {
      "text/plain": [
       "'/en/midi/download/267/3lau-feat-bright-lights-how-you-love-me/My40ODA1MDE4NDMzMDMxRSsxNg=='"
      ]
     },
     "execution_count": 37,
     "metadata": {},
     "output_type": "execute_result"
    }
   ],
   "source": [
    "target_free_download['href']"
   ]
  },
  {
   "cell_type": "markdown",
   "id": "279383b4-8e55-4aac-bfe3-d14986feb6e8",
   "metadata": {},
   "source": [
    "We get the download:"
   ]
  },
  {
   "cell_type": "code",
   "execution_count": 38,
   "id": "ffd40e54-e8a8-4b0f-9890-74118703b9f1",
   "metadata": {},
   "outputs": [],
   "source": [
    "first_url_part = 'https://www.cprato.com'"
   ]
  },
  {
   "cell_type": "code",
   "execution_count": 39,
   "id": "0a4c9d3d-d35d-4292-92c5-57ccc215f868",
   "metadata": {},
   "outputs": [
    {
     "data": {
      "text/plain": [
       "'https://www.cprato.com/en/midi/download/267/3lau-feat-bright-lights-how-you-love-me/My40ODA1MDE4NDMzMDMxRSsxNg=='"
      ]
     },
     "execution_count": 39,
     "metadata": {},
     "output_type": "execute_result"
    }
   ],
   "source": [
    "download_url = first_url_part + target_free_download['href']\n",
    "download_url"
   ]
  },
  {
   "cell_type": "code",
   "execution_count": null,
   "id": "e4bc1c31-9cb3-4116-bf4a-db00c54eea3f",
   "metadata": {},
   "outputs": [],
   "source": []
  },
  {
   "cell_type": "markdown",
   "id": "74b895b1-f15e-47a4-a8fa-3144d0d0d278",
   "metadata": {},
   "source": [
    "## Selenium"
   ]
  },
  {
   "cell_type": "code",
   "execution_count": 93,
   "id": "f7a95266-a531-4d1f-b8dc-d12cf43796fb",
   "metadata": {},
   "outputs": [],
   "source": [
    "from selenium import webdriver\n",
    "from selenium.webdriver import ActionChains"
   ]
  },
  {
   "cell_type": "code",
   "execution_count": 34,
   "id": "50896b1f-6415-46d0-bf70-4eb008585cdc",
   "metadata": {},
   "outputs": [],
   "source": [
    "wd = webdriver.Chrome('chromedriver.exe')"
   ]
  },
  {
   "cell_type": "code",
   "execution_count": 40,
   "id": "539d604e-05ae-45e9-9044-759c692792df",
   "metadata": {},
   "outputs": [],
   "source": [
    "wd.get(download_url)"
   ]
  },
  {
   "cell_type": "markdown",
   "id": "29e17f9f-a2ee-438e-b5e3-d3d8017dd8d9",
   "metadata": {},
   "source": [
    "# Automating the process"
   ]
  },
  {
   "cell_type": "code",
   "execution_count": 45,
   "id": "6c7eeb31-0683-457b-8996-9c3d8d19c4fb",
   "metadata": {},
   "outputs": [],
   "source": [
    "target_page = 'https://www.cprato.com/en/midi/all'\n",
    "\n",
    "first_url_part = 'https://www.cprato.com'"
   ]
  },
  {
   "cell_type": "markdown",
   "id": "5654027c-6aab-4463-bd4d-94409fc85504",
   "metadata": {},
   "source": [
    "First we get a list of all the songs download pages:"
   ]
  },
  {
   "cell_type": "code",
   "execution_count": 159,
   "id": "78e74235-5553-4185-9447-bd877bad3c7e",
   "metadata": {},
   "outputs": [],
   "source": [
    "# We get all the views of the table\n",
    "table_view_links = get_elements(target_page, tag='a', attrs={'class': 'page-link'})\n",
    "\n",
    "# We get all the urls of the table views\n",
    "table_view_urls = [target_page] + [link['href'] for link in table_view_links]\n",
    "table_view_urls= table_view_urls[:8]\n",
    "\n",
    "# We iterate trough the table views\n",
    "songs_urls = []\n",
    "for table_view_url in table_view_urls:\n",
    "    songs_links = get_elements(table_view_url, tag='a', attrs={'href': re.compile(\"^/en/midi/details\")})\n",
    "    songs_urls = songs_urls + [first_url_part + link['href'] for link in songs_links]\n",
    "        "
   ]
  },
  {
   "cell_type": "code",
   "execution_count": 160,
   "id": "2ce7a153-e112-4532-aec8-268ae18a987d",
   "metadata": {},
   "outputs": [
    {
     "data": {
      "text/plain": [
       "391"
      ]
     },
     "execution_count": 160,
     "metadata": {},
     "output_type": "execute_result"
    }
   ],
   "source": [
    "len(songs_urls)"
   ]
  },
  {
   "cell_type": "markdown",
   "id": "c29ba0a8-fcaf-41c7-8707-5e44315b51aa",
   "metadata": {},
   "source": [
    "We use selenium to get all the downloads:"
   ]
  },
  {
   "cell_type": "code",
   "execution_count": 146,
   "id": "b27e7ab9-1a69-44ce-8bde-7e2456303bc1",
   "metadata": {},
   "outputs": [],
   "source": [
    "def download_file(wd, free_download_button, download_folder_path, max_seconds_download):\n",
    "    number_files_download_folder = len(glob.glob(download_folder_path+r\"\\*.mid\"))\n",
    "    counter = 0\n",
    "    #ActionChains(wd).click(free_download_button).perform()\n",
    "    free_download_button.click()\n",
    "    while True:\n",
    "        current_number_files_download_folder = len(glob.glob(download_folder_path+r\"\\*.mid\"))\n",
    "        if current_number_files_download_folder > number_files_download_folder:\n",
    "            number_files_download_folder = current_number_files_download_folder\n",
    "            break\n",
    "        time.sleep(1)\n",
    "        counter+= 1\n",
    "        if counter >= max_seconds_download:\n",
    "            return False\n",
    "    return True"
   ]
  },
  {
   "cell_type": "code",
   "execution_count": 148,
   "id": "20a35e9f-6a52-4550-a639-40fe14854161",
   "metadata": {},
   "outputs": [
    {
     "name": "stdout",
     "output_type": "stream",
     "text": [
      "Could not download file: https://www.cprato.com/en/midi/download/247/above-beyond-were-all-we-need/My4yMTk3OTk1Nzk2MDY1RSsxNg==\n",
      "Could not download file: https://www.cprato.com/en/midi/download/247/above-beyond-were-all-we-need/My4yMTk3OTk1Nzk2MDY1RSsxNg==\n",
      "Could not download file: https://www.cprato.com/en/midi/download/247/above-beyond-were-all-we-need/My4yMTk3OTk1Nzk2MDY1RSsxNg==\n",
      "Could not download file: https://www.cprato.com/en/midi/download/247/above-beyond-were-all-we-need/My4yMTk3OTk1Nzk2MDY1RSsxNg==\n",
      "Could not download file: https://www.cprato.com/en/midi/download/247/above-beyond-were-all-we-need/My4yMTk3OTk1Nzk2MDY1RSsxNg==\n",
      "Could not download file: https://www.cprato.com/en/midi/download/247/above-beyond-were-all-we-need/My4yMTk3OTk1Nzk2MDY1RSsxNg==\n",
      "Could not download file: https://www.cprato.com/en/midi/download/247/above-beyond-were-all-we-need/My4yMTk3OTk1Nzk2MDY1RSsxNg==\n",
      "Could not download file: https://www.cprato.com/en/midi/download/247/above-beyond-were-all-we-need/My4yMTk3OTk1Nzk2MDY1RSsxNg==\n",
      "Could not download file: https://www.cprato.com/en/midi/download/247/above-beyond-were-all-we-need/My4yMTk3OTk1Nzk2MDY1RSsxNg==\n"
     ]
    },
    {
     "ename": "KeyboardInterrupt",
     "evalue": "",
     "output_type": "error",
     "traceback": [
      "\u001b[1;31m---------------------------------------------------------------------------\u001b[0m",
      "\u001b[1;31mKeyboardInterrupt\u001b[0m                         Traceback (most recent call last)",
      "\u001b[1;32m<ipython-input-148-7c4afebea969>\u001b[0m in \u001b[0;36m<module>\u001b[1;34m\u001b[0m\n\u001b[0;32m     17\u001b[0m             \u001b[0msuccess\u001b[0m \u001b[1;33m=\u001b[0m \u001b[1;32mFalse\u001b[0m\u001b[1;33m\u001b[0m\u001b[1;33m\u001b[0m\u001b[0m\n\u001b[0;32m     18\u001b[0m             \u001b[1;32mbreak\u001b[0m\u001b[1;33m\u001b[0m\u001b[1;33m\u001b[0m\u001b[0m\n\u001b[1;32m---> 19\u001b[1;33m         \u001b[0msuccess\u001b[0m \u001b[1;33m=\u001b[0m \u001b[0mdownload_file\u001b[0m\u001b[1;33m(\u001b[0m\u001b[0mwd\u001b[0m\u001b[1;33m,\u001b[0m \u001b[0mfree_download_button\u001b[0m\u001b[1;33m,\u001b[0m \u001b[0mdownload_folder_path\u001b[0m\u001b[1;33m,\u001b[0m \u001b[0mmax_seconds_download\u001b[0m\u001b[1;33m)\u001b[0m\u001b[1;33m\u001b[0m\u001b[1;33m\u001b[0m\u001b[0m\n\u001b[0m\u001b[0;32m     20\u001b[0m         \u001b[1;32mif\u001b[0m \u001b[0msuccess\u001b[0m\u001b[1;33m:\u001b[0m\u001b[1;33m\u001b[0m\u001b[1;33m\u001b[0m\u001b[0m\n\u001b[0;32m     21\u001b[0m             \u001b[1;32mbreak\u001b[0m\u001b[1;33m\u001b[0m\u001b[1;33m\u001b[0m\u001b[0m\n",
      "\u001b[1;32m<ipython-input-146-206f7eae6e2a>\u001b[0m in \u001b[0;36mdownload_file\u001b[1;34m(wd, free_download_button, download_folder_path, max_seconds_download)\u001b[0m\n\u001b[0;32m     12\u001b[0m             \u001b[0mnumber_files_download_folder\u001b[0m \u001b[1;33m=\u001b[0m \u001b[0mcurrent_number_files_download_folder\u001b[0m\u001b[1;33m\u001b[0m\u001b[1;33m\u001b[0m\u001b[0m\n\u001b[0;32m     13\u001b[0m             \u001b[1;32mbreak\u001b[0m\u001b[1;33m\u001b[0m\u001b[1;33m\u001b[0m\u001b[0m\n\u001b[1;32m---> 14\u001b[1;33m         \u001b[0mtime\u001b[0m\u001b[1;33m.\u001b[0m\u001b[0msleep\u001b[0m\u001b[1;33m(\u001b[0m\u001b[1;36m1\u001b[0m\u001b[1;33m)\u001b[0m\u001b[1;33m\u001b[0m\u001b[1;33m\u001b[0m\u001b[0m\n\u001b[0m\u001b[0;32m     15\u001b[0m         \u001b[0mcounter\u001b[0m\u001b[1;33m+=\u001b[0m \u001b[1;36m1\u001b[0m\u001b[1;33m\u001b[0m\u001b[1;33m\u001b[0m\u001b[0m\n\u001b[0;32m     16\u001b[0m         \u001b[1;32mif\u001b[0m \u001b[0mcounter\u001b[0m \u001b[1;33m>=\u001b[0m \u001b[0mmax_seconds_download\u001b[0m\u001b[1;33m:\u001b[0m\u001b[1;33m\u001b[0m\u001b[1;33m\u001b[0m\u001b[0m\n",
      "\u001b[1;31mKeyboardInterrupt\u001b[0m: "
     ]
    }
   ],
   "source": [
    "download_folder_path = r\"C:\\Users\\jvela\\Downloads\"\n",
    "max_seconds_download = 30\n",
    "max_retries = 3\n",
    "\n",
    "# We initialize chrome web driver\n",
    "wd = webdriver.Chrome(executable_path = 'chromedriver.exe')\n",
    "wd.maximize_window()\n",
    "\n",
    "\n",
    "for song_url in songs_urls[288:]:   \n",
    "    retries = 0\n",
    "    wd.get(song_url)\n",
    "    while retries<max_retries:    \n",
    "        try:\n",
    "            free_download_button = wd.find_element_by_link_text('FREE DOWNLOAD')\n",
    "        except:\n",
    "            success = False\n",
    "            break\n",
    "        success = download_file(wd, free_download_button, download_folder_path, max_seconds_download)\n",
    "        if success:\n",
    "            break\n",
    "        else:\n",
    "            wd.close()\n",
    "            wd = webdriver.Chrome(executable_path = 'chromedriver.exe')\n",
    "            wd.get(song_url)\n",
    "        retries +=1\n",
    "    \n",
    "    if not success:\n",
    "        print(\"Could not download file: \" + download_url) \n",
    "\n",
    "wd.close()"
   ]
  },
  {
   "cell_type": "code",
   "execution_count": null,
   "id": "834966e1-4703-4a06-acd2-ed8c4b18beae",
   "metadata": {},
   "outputs": [],
   "source": [
    "https://www.cprato.com/en/midi/download/137/above-beyond-tri-state/MS43ODU4ODA1Nzc0Mjg5RSsxNg=="
   ]
  },
  {
   "cell_type": "code",
   "execution_count": 72,
   "id": "04053051-8b13-4dac-bd3c-49d907a1d99b",
   "metadata": {},
   "outputs": [
    {
     "data": {
      "text/plain": [
       "['C:\\\\Users\\\\jvela\\\\OneDrive\\\\Escritorio\\\\Assess-Pkt-1-Burns-Depression-Checklist.pdf',\n",
       " 'C:\\\\Users\\\\jvela\\\\OneDrive\\\\Escritorio\\\\FoamRollerES.pdf',\n",
       " 'C:\\\\Users\\\\jvela\\\\OneDrive\\\\Escritorio\\\\Pullup-Dip-Best-exercises-training-guide_EN.pdf']"
      ]
     },
     "execution_count": 72,
     "metadata": {},
     "output_type": "execute_result"
    }
   ],
   "source": [
    " glob.glob(r\"C:\\Users\\jvela\\OneDrive\\Escritorio\\*.pdf\")"
   ]
  },
  {
   "cell_type": "code",
   "execution_count": null,
   "id": "24d421a6-07ff-4b8e-b54d-548d4f153bb1",
   "metadata": {},
   "outputs": [],
   "source": []
  }
 ],
 "metadata": {
  "kernelspec": {
   "display_name": "Python 3",
   "language": "python",
   "name": "python3"
  },
  "language_info": {
   "codemirror_mode": {
    "name": "ipython",
    "version": 3
   },
   "file_extension": ".py",
   "mimetype": "text/x-python",
   "name": "python",
   "nbconvert_exporter": "python",
   "pygments_lexer": "ipython3",
   "version": "3.7.10"
  }
 },
 "nbformat": 4,
 "nbformat_minor": 5
}
