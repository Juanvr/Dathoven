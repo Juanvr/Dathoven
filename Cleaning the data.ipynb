{
 "cells": [
  {
   "cell_type": "markdown",
   "id": "fa5ae11d-f430-4838-b12b-6292052b7f64",
   "metadata": {},
   "source": [
    "# Cleaning the data"
   ]
  },
  {
   "cell_type": "code",
   "execution_count": 37,
   "id": "d4f4486a-e9b5-430d-a18d-947ed7c9be4d",
   "metadata": {},
   "outputs": [],
   "source": [
    "import Dathoven"
   ]
  },
  {
   "cell_type": "code",
   "execution_count": 2,
   "id": "d555912b-be78-4f79-881b-9423f804991d",
   "metadata": {},
   "outputs": [],
   "source": [
    "import glob, os\n",
    "import numpy as np\n",
    "from matplotlib import pyplot as plt\n",
    "from music21 import converter, corpus, instrument, midi, note, chord, pitch, stream,interval, duration"
   ]
  },
  {
   "cell_type": "code",
   "execution_count": 3,
   "id": "cfd8587c-efa9-4c21-b873-fcac816584cd",
   "metadata": {},
   "outputs": [],
   "source": [
    "midi_test_path = 'data/examples/silent_night_easy.mid'"
   ]
  },
  {
   "cell_type": "code",
   "execution_count": 4,
   "id": "6332c6e9-61c9-4130-98c3-ccf140aff860",
   "metadata": {},
   "outputs": [
    {
     "data": {
      "text/plain": [
       "[{'relative_offset': 1.5, 'interval': 2.0, 'duration': 0.5},\n",
       " {'relative_offset': 0.5, 'interval': -2.0, 'duration': 1.0},\n",
       " {'relative_offset': 4.0, 'interval': 0.0, 'duration': 1.5},\n",
       " {'relative_offset': 1.5, 'interval': 2.0, 'duration': 0.5},\n",
       " {'relative_offset': 0.5, 'interval': -2.0, 'duration': 1.0},\n",
       " {'relative_offset': 1.0, 'interval': -3.0, 'duration': 2.75},\n",
       " {'relative_offset': 1.0, 'interval': -5.0, 'duration': 1.0},\n",
       " {'relative_offset': 1.0, 'interval': -2.0, 'duration': 1.0},\n",
       " {'relative_offset': 1.0, 'interval': 17.0, 'duration': 2.0},\n",
       " {'relative_offset': 2.0, 'interval': 0.0, 'duration': 1.0},\n",
       " {'relative_offset': 1.0, 'interval': -3.0, 'duration': 3.0},\n",
       " {'relative_offset': 2.0, 'interval': -16.0, 'duration': 1.0},\n",
       " {'relative_offset': 1.0, 'interval': 17.0, 'duration': 2.0},\n",
       " {'relative_offset': 2.0, 'interval': 0.0, 'duration': 1.0},\n",
       " {'relative_offset': 1.0, 'interval': -5.0, 'duration': 2.75},\n",
       " {'relative_offset': 3.0, 'interval': 2.0, 'duration': 2.0},\n",
       " {'relative_offset': 2.0, 'interval': 0.0, 'duration': 1.0},\n",
       " {'relative_offset': 1.0, 'interval': 3.0, 'duration': 1.5},\n",
       " {'relative_offset': 1.5, 'interval': -1.0, 'duration': 0.5},\n",
       " {'relative_offset': 0.5, 'interval': -2.0, 'duration': 1.0},\n",
       " {'relative_offset': 1.0, 'interval': -2.0, 'duration': 1.5},\n",
       " {'relative_offset': 1.5, 'interval': 2.0, 'duration': 0.5},\n",
       " {'relative_offset': 0.5, 'interval': -2.0, 'duration': 1.0},\n",
       " {'relative_offset': 1.0, 'interval': -3.0, 'duration': 2.75},\n",
       " {'relative_offset': 3.0, 'interval': 5.0, 'duration': 2.0},\n",
       " {'relative_offset': 2.0, 'interval': 0.0, 'duration': 1.0},\n",
       " {'relative_offset': 1.0, 'interval': 3.0, 'duration': 1.5},\n",
       " {'relative_offset': 1.5, 'interval': -1.0, 'duration': 0.5},\n",
       " {'relative_offset': 0.5, 'interval': -2.0, 'duration': 1.0},\n",
       " {'relative_offset': 1.0, 'interval': -2.0, 'duration': 1.5},\n",
       " {'relative_offset': 1.5, 'interval': 2.0, 'duration': 0.5},\n",
       " {'relative_offset': 0.5, 'interval': -2.0, 'duration': 1.0},\n",
       " {'relative_offset': 1.0, 'interval': -3.0, 'duration': 2.75},\n",
       " {'relative_offset': 1.0, 'interval': -5.0, 'duration': 1.0},\n",
       " {'relative_offset': 1.0, 'interval': -2.0, 'duration': 1.0},\n",
       " {'relative_offset': 1.0, 'interval': 17.0, 'duration': 2.0},\n",
       " {'relative_offset': 2.0, 'interval': 0.0, 'duration': 1.0},\n",
       " {'relative_offset': 1.0, 'interval': 3.0, 'duration': 1.0},\n",
       " {'relative_offset': 1.0, 'interval': -3.0, 'duration': 1.0},\n",
       " {'relative_offset': 1.0, 'interval': -3.0, 'duration': 1.0},\n",
       " {'relative_offset': 4.0, 'interval': 5.0, 'duration': 2.75},\n",
       " {'relative_offset': 3.0, 'interval': -4.0, 'duration': 1.0},\n",
       " {'relative_offset': 1.0, 'interval': -5.0, 'duration': 1.0},\n",
       " {'relative_offset': 1.0, 'interval': -3.0, 'duration': 1.0},\n",
       " {'relative_offset': 1.0, 'interval': 3.0, 'duration': 1.5},\n",
       " {'relative_offset': 1.5, 'interval': -2.0, 'duration': 0.5},\n",
       " {'relative_offset': 0.5, 'interval': -3.0, 'duration': 1.0}]"
      ]
     },
     "execution_count": 4,
     "metadata": {},
     "output_type": "execute_result"
    }
   ],
   "source": [
    "Dathoven.from_midi_to_array_of_intervals_with_time(midi_test_path)"
   ]
  },
  {
   "cell_type": "code",
   "execution_count": 5,
   "id": "eb65f944-80ef-4ad9-a3d2-05cb5cac40d3",
   "metadata": {},
   "outputs": [],
   "source": [
    "silent_night_deltas = Dathoven.from_midi_to_array_of_intervals_with_time(midi_test_path)"
   ]
  },
  {
   "cell_type": "code",
   "execution_count": 6,
   "id": "cb5092ff-602d-4cbc-8bfc-326e52ba54ac",
   "metadata": {},
   "outputs": [
    {
     "data": {
      "image/png": "[encoded data removed]",
      "text/plain": [
       "<Figure size 432x288 with 1 Axes>"
      ]
     },
     "metadata": {
      "needs_background": "light"
     },
     "output_type": "display_data"
    }
   ],
   "source": [
    "plt.plot(range(0, len(silent_night_deltas)), [x['relative_offset'] for x in silent_night_deltas])\n",
    "plt.plot(range(0, len(silent_night_deltas)), [x['interval'] for x in silent_night_deltas])\n",
    "plt.plot(range(0, len(silent_night_deltas)), [x['duration'] for x in silent_night_deltas]);"
   ]
  },
  {
   "cell_type": "code",
   "execution_count": 7,
   "id": "c3151c98-1338-4969-ae3d-9edbd61b7e19",
   "metadata": {},
   "outputs": [],
   "source": [
    "#Test\n",
    "Dathoven.from_intervals_with_time_to_midi(60, Dathoven.from_midi_to_array_of_intervals_with_time('data/examples/silent_night_easy.mid'),'test_intervals_with_time_silent_night.mid')"
   ]
  },
  {
   "cell_type": "code",
   "execution_count": 9,
   "id": "b3a388ae-3c97-44cb-b7bc-d7e2724b30e8",
   "metadata": {},
   "outputs": [
    {
     "data": {
      "text/plain": [
       "[{'relative_offset': 1.5, 'interval': 2.0, 'duration': 0.5},\n",
       " {'relative_offset': 0.5, 'interval': -2.0, 'duration': 1.0},\n",
       " {'relative_offset': 4.0, 'interval': 0.0, 'duration': 1.5},\n",
       " {'relative_offset': 1.5, 'interval': 2.0, 'duration': 0.5},\n",
       " {'relative_offset': 0.5, 'interval': -2.0, 'duration': 1.0},\n",
       " {'relative_offset': 1.0, 'interval': -3.0, 'duration': 2.75},\n",
       " {'relative_offset': 1.0, 'interval': -5.0, 'duration': 1.0},\n",
       " {'relative_offset': 1.0, 'interval': -2.0, 'duration': 1.0},\n",
       " {'relative_offset': 1.0, 'interval': 17.0, 'duration': 2.0},\n",
       " {'relative_offset': 2.0, 'interval': 0.0, 'duration': 1.0},\n",
       " {'relative_offset': 1.0, 'interval': -3.0, 'duration': 3.0},\n",
       " {'relative_offset': 2.0, 'interval': -16.0, 'duration': 1.0},\n",
       " {'relative_offset': 1.0, 'interval': 17.0, 'duration': 2.0},\n",
       " {'relative_offset': 2.0, 'interval': 0.0, 'duration': 1.0},\n",
       " {'relative_offset': 1.0, 'interval': -5.0, 'duration': 2.75},\n",
       " {'relative_offset': 3.0, 'interval': 2.0, 'duration': 2.0},\n",
       " {'relative_offset': 2.0, 'interval': 0.0, 'duration': 1.0},\n",
       " {'relative_offset': 1.0, 'interval': 3.0, 'duration': 1.5},\n",
       " {'relative_offset': 1.5, 'interval': -1.0, 'duration': 0.5},\n",
       " {'relative_offset': 0.5, 'interval': -2.0, 'duration': 1.0},\n",
       " {'relative_offset': 1.0, 'interval': -2.0, 'duration': 1.5},\n",
       " {'relative_offset': 1.5, 'interval': 2.0, 'duration': 0.5},\n",
       " {'relative_offset': 0.5, 'interval': -2.0, 'duration': 1.0},\n",
       " {'relative_offset': 1.0, 'interval': -3.0, 'duration': 2.75},\n",
       " {'relative_offset': 3.0, 'interval': 5.0, 'duration': 2.0},\n",
       " {'relative_offset': 2.0, 'interval': 0.0, 'duration': 1.0},\n",
       " {'relative_offset': 1.0, 'interval': 3.0, 'duration': 1.5},\n",
       " {'relative_offset': 1.5, 'interval': -1.0, 'duration': 0.5},\n",
       " {'relative_offset': 0.5, 'interval': -2.0, 'duration': 1.0},\n",
       " {'relative_offset': 1.0, 'interval': -2.0, 'duration': 1.5},\n",
       " {'relative_offset': 1.5, 'interval': 2.0, 'duration': 0.5},\n",
       " {'relative_offset': 0.5, 'interval': -2.0, 'duration': 1.0},\n",
       " {'relative_offset': 1.0, 'interval': -3.0, 'duration': 2.75},\n",
       " {'relative_offset': 1.0, 'interval': -5.0, 'duration': 1.0},\n",
       " {'relative_offset': 1.0, 'interval': -2.0, 'duration': 1.0},\n",
       " {'relative_offset': 1.0, 'interval': 17.0, 'duration': 2.0},\n",
       " {'relative_offset': 2.0, 'interval': 0.0, 'duration': 1.0},\n",
       " {'relative_offset': 1.0, 'interval': 3.0, 'duration': 1.0},\n",
       " {'relative_offset': 1.0, 'interval': -3.0, 'duration': 1.0},\n",
       " {'relative_offset': 1.0, 'interval': -3.0, 'duration': 1.0},\n",
       " {'relative_offset': 4.0, 'interval': 5.0, 'duration': 2.75},\n",
       " {'relative_offset': 3.0, 'interval': -4.0, 'duration': 1.0},\n",
       " {'relative_offset': 1.0, 'interval': -5.0, 'duration': 1.0},\n",
       " {'relative_offset': 1.0, 'interval': -3.0, 'duration': 1.0},\n",
       " {'relative_offset': 1.0, 'interval': 3.0, 'duration': 1.5},\n",
       " {'relative_offset': 1.5, 'interval': -2.0, 'duration': 0.5},\n",
       " {'relative_offset': 0.5, 'interval': -3.0, 'duration': 1.0}]"
      ]
     },
     "execution_count": 9,
     "metadata": {},
     "output_type": "execute_result"
    }
   ],
   "source": [
    "Dathoven.from_midi_to_array_of_intervals_with_time('data/examples/silent_night_easy.mid')"
   ]
  },
  {
   "cell_type": "code",
   "execution_count": 11,
   "id": "55d84a13-4281-4206-bb38-87f069b0d3f4",
   "metadata": {},
   "outputs": [],
   "source": [
    " # Load back from the pickle file.\n",
    "import pickle\n",
    "\n",
    "songs = pickle.load( open( \"./songs.p\", \"rb\" ) )"
   ]
  },
  {
   "cell_type": "code",
   "execution_count": 15,
   "id": "14590de3-1398-4dc3-a2e4-dbc939112210",
   "metadata": {},
   "outputs": [],
   "source": [
    "import pandas as pd"
   ]
  },
  {
   "cell_type": "code",
   "execution_count": 18,
   "id": "416db154-be07-43c1-be79-13b13a52caa4",
   "metadata": {},
   "outputs": [
    {
     "data": {
      "text/plain": [
       "424"
      ]
     },
     "execution_count": 18,
     "metadata": {},
     "output_type": "execute_result"
    }
   ],
   "source": [
    "len(songs)"
   ]
  },
  {
   "cell_type": "code",
   "execution_count": 24,
   "id": "5e0d1011-c1b1-4dd9-9138-af0a51144787",
   "metadata": {},
   "outputs": [],
   "source": [
    "all_elements=[]\n",
    "for i in range(len(songs)):\n",
    "    song = songs[i]\n",
    "    for element in song:\n",
    "        element['song N'] = i\n",
    "        all_elements.append(element)\n"
   ]
  },
  {
   "cell_type": "code",
   "execution_count": 25,
   "id": "33abf4d7-808d-42c1-bbbe-ae612babf895",
   "metadata": {},
   "outputs": [
    {
     "data": {
      "text/plain": [
       "72572"
      ]
     },
     "execution_count": 25,
     "metadata": {},
     "output_type": "execute_result"
    }
   ],
   "source": [
    "len(all_elements)"
   ]
  },
  {
   "cell_type": "code",
   "execution_count": 27,
   "id": "ada500cf-2d31-4464-ad77-f68000047b0a",
   "metadata": {},
   "outputs": [
    {
     "data": {
      "text/html": [
       "<div>\n",
       "<style scoped>\n",
       "    .dataframe tbody tr th:only-of-type {\n",
       "        vertical-align: middle;\n",
       "    }\n",
       "\n",
       "    .dataframe tbody tr th {\n",
       "        vertical-align: top;\n",
       "    }\n",
       "\n",
       "    .dataframe thead th {\n",
       "        text-align: right;\n",
       "    }\n",
       "</style>\n",
       "<table border=\"1\" class=\"dataframe\">\n",
       "  <thead>\n",
       "    <tr style=\"text-align: right;\">\n",
       "      <th></th>\n",
       "      <th>relative_offset</th>\n",
       "      <th>interval</th>\n",
       "      <th>duration</th>\n",
       "      <th>song N</th>\n",
       "    </tr>\n",
       "  </thead>\n",
       "  <tbody>\n",
       "    <tr>\n",
       "      <th>0</th>\n",
       "      <td>0.5</td>\n",
       "      <td>0.0</td>\n",
       "      <td>1/3</td>\n",
       "      <td>0</td>\n",
       "    </tr>\n",
       "    <tr>\n",
       "      <th>1</th>\n",
       "      <td>0.5</td>\n",
       "      <td>0.0</td>\n",
       "      <td>1/3</td>\n",
       "      <td>0</td>\n",
       "    </tr>\n",
       "    <tr>\n",
       "      <th>2</th>\n",
       "      <td>0.5</td>\n",
       "      <td>0.0</td>\n",
       "      <td>1/3</td>\n",
       "      <td>0</td>\n",
       "    </tr>\n",
       "    <tr>\n",
       "      <th>3</th>\n",
       "      <td>0.5</td>\n",
       "      <td>0.0</td>\n",
       "      <td>1/3</td>\n",
       "      <td>0</td>\n",
       "    </tr>\n",
       "    <tr>\n",
       "      <th>4</th>\n",
       "      <td>0.5</td>\n",
       "      <td>0.0</td>\n",
       "      <td>1/3</td>\n",
       "      <td>0</td>\n",
       "    </tr>\n",
       "    <tr>\n",
       "      <th>...</th>\n",
       "      <td>...</td>\n",
       "      <td>...</td>\n",
       "      <td>...</td>\n",
       "      <td>...</td>\n",
       "    </tr>\n",
       "    <tr>\n",
       "      <th>72567</th>\n",
       "      <td>1.0</td>\n",
       "      <td>0.0</td>\n",
       "      <td>0.5</td>\n",
       "      <td>423</td>\n",
       "    </tr>\n",
       "    <tr>\n",
       "      <th>72568</th>\n",
       "      <td>1.5</td>\n",
       "      <td>0.0</td>\n",
       "      <td>0.5</td>\n",
       "      <td>423</td>\n",
       "    </tr>\n",
       "    <tr>\n",
       "      <th>72569</th>\n",
       "      <td>0.5</td>\n",
       "      <td>0.0</td>\n",
       "      <td>0.5</td>\n",
       "      <td>423</td>\n",
       "    </tr>\n",
       "    <tr>\n",
       "      <th>72570</th>\n",
       "      <td>0.5</td>\n",
       "      <td>0.0</td>\n",
       "      <td>0.5</td>\n",
       "      <td>423</td>\n",
       "    </tr>\n",
       "    <tr>\n",
       "      <th>72571</th>\n",
       "      <td>0.5</td>\n",
       "      <td>-3.0</td>\n",
       "      <td>0.5</td>\n",
       "      <td>423</td>\n",
       "    </tr>\n",
       "  </tbody>\n",
       "</table>\n",
       "<p>72572 rows × 4 columns</p>\n",
       "</div>"
      ],
      "text/plain": [
       "      relative_offset  interval duration  song N\n",
       "0                 0.5       0.0      1/3       0\n",
       "1                 0.5       0.0      1/3       0\n",
       "2                 0.5       0.0      1/3       0\n",
       "3                 0.5       0.0      1/3       0\n",
       "4                 0.5       0.0      1/3       0\n",
       "...               ...       ...      ...     ...\n",
       "72567             1.0       0.0      0.5     423\n",
       "72568             1.5       0.0      0.5     423\n",
       "72569             0.5       0.0      0.5     423\n",
       "72570             0.5       0.0      0.5     423\n",
       "72571             0.5      -3.0      0.5     423\n",
       "\n",
       "[72572 rows x 4 columns]"
      ]
     },
     "execution_count": 27,
     "metadata": {},
     "output_type": "execute_result"
    }
   ],
   "source": [
    "songs_df = pd.DataFrame(all_elements)\n",
    "songs_df"
   ]
  },
  {
   "cell_type": "code",
   "execution_count": 38,
   "id": "df4f4315-9e73-4eb3-a25a-43fd98348020",
   "metadata": {},
   "outputs": [
    {
     "data": {
      "text/html": [
       "<div>\n",
       "<style scoped>\n",
       "    .dataframe tbody tr th:only-of-type {\n",
       "        vertical-align: middle;\n",
       "    }\n",
       "\n",
       "    .dataframe tbody tr th {\n",
       "        vertical-align: top;\n",
       "    }\n",
       "\n",
       "    .dataframe thead th {\n",
       "        text-align: right;\n",
       "    }\n",
       "</style>\n",
       "<table border=\"1\" class=\"dataframe\">\n",
       "  <thead>\n",
       "    <tr style=\"text-align: right;\">\n",
       "      <th></th>\n",
       "      <th>relative_offset</th>\n",
       "      <th>interval</th>\n",
       "      <th>duration</th>\n",
       "      <th>song N</th>\n",
       "    </tr>\n",
       "  </thead>\n",
       "  <tbody>\n",
       "    <tr>\n",
       "      <th>13</th>\n",
       "      <td>0.75</td>\n",
       "      <td>0.0</td>\n",
       "      <td>0.0</td>\n",
       "      <td>0</td>\n",
       "    </tr>\n",
       "    <tr>\n",
       "      <th>14</th>\n",
       "      <td>0.25</td>\n",
       "      <td>0.0</td>\n",
       "      <td>0.0</td>\n",
       "      <td>0</td>\n",
       "    </tr>\n",
       "    <tr>\n",
       "      <th>15</th>\n",
       "      <td>0.25</td>\n",
       "      <td>0.0</td>\n",
       "      <td>0.0</td>\n",
       "      <td>0</td>\n",
       "    </tr>\n",
       "    <tr>\n",
       "      <th>46</th>\n",
       "      <td>0.75</td>\n",
       "      <td>0.0</td>\n",
       "      <td>0.0</td>\n",
       "      <td>0</td>\n",
       "    </tr>\n",
       "    <tr>\n",
       "      <th>47</th>\n",
       "      <td>0.25</td>\n",
       "      <td>0.0</td>\n",
       "      <td>0.0</td>\n",
       "      <td>0</td>\n",
       "    </tr>\n",
       "    <tr>\n",
       "      <th>...</th>\n",
       "      <td>...</td>\n",
       "      <td>...</td>\n",
       "      <td>...</td>\n",
       "      <td>...</td>\n",
       "    </tr>\n",
       "    <tr>\n",
       "      <th>71433</th>\n",
       "      <td>0.25</td>\n",
       "      <td>-24.0</td>\n",
       "      <td>0.0</td>\n",
       "      <td>418</td>\n",
       "    </tr>\n",
       "    <tr>\n",
       "      <th>71441</th>\n",
       "      <td>0.5</td>\n",
       "      <td>-34.0</td>\n",
       "      <td>0.0</td>\n",
       "      <td>418</td>\n",
       "    </tr>\n",
       "    <tr>\n",
       "      <th>71453</th>\n",
       "      <td>0.25</td>\n",
       "      <td>-22.0</td>\n",
       "      <td>0.0</td>\n",
       "      <td>418</td>\n",
       "    </tr>\n",
       "    <tr>\n",
       "      <th>71473</th>\n",
       "      <td>0.25</td>\n",
       "      <td>-24.0</td>\n",
       "      <td>0.0</td>\n",
       "      <td>418</td>\n",
       "    </tr>\n",
       "    <tr>\n",
       "      <th>71481</th>\n",
       "      <td>0.5</td>\n",
       "      <td>-34.0</td>\n",
       "      <td>0.0</td>\n",
       "      <td>418</td>\n",
       "    </tr>\n",
       "  </tbody>\n",
       "</table>\n",
       "<p>4945 rows × 4 columns</p>\n",
       "</div>"
      ],
      "text/plain": [
       "      relative_offset  interval duration  song N\n",
       "13               0.75       0.0      0.0       0\n",
       "14               0.25       0.0      0.0       0\n",
       "15               0.25       0.0      0.0       0\n",
       "46               0.75       0.0      0.0       0\n",
       "47               0.25       0.0      0.0       0\n",
       "...               ...       ...      ...     ...\n",
       "71433            0.25     -24.0      0.0     418\n",
       "71441             0.5     -34.0      0.0     418\n",
       "71453            0.25     -22.0      0.0     418\n",
       "71473            0.25     -24.0      0.0     418\n",
       "71481             0.5     -34.0      0.0     418\n",
       "\n",
       "[4945 rows x 4 columns]"
      ]
     },
     "execution_count": 38,
     "metadata": {},
     "output_type": "execute_result"
    }
   ],
   "source": [
    "songs_df[songs_df['duration'] == 0]"
   ]
  },
  {
   "cell_type": "code",
   "execution_count": 36,
   "id": "e2888a5c-03cb-4a80-bde9-3f8ef4edcc51",
   "metadata": {},
   "outputs": [
    {
     "data": {
      "text/html": [
       "<div>\n",
       "<style scoped>\n",
       "    .dataframe tbody tr th:only-of-type {\n",
       "        vertical-align: middle;\n",
       "    }\n",
       "\n",
       "    .dataframe tbody tr th {\n",
       "        vertical-align: top;\n",
       "    }\n",
       "\n",
       "    .dataframe thead th {\n",
       "        text-align: right;\n",
       "    }\n",
       "</style>\n",
       "<table border=\"1\" class=\"dataframe\">\n",
       "  <thead>\n",
       "    <tr style=\"text-align: right;\">\n",
       "      <th></th>\n",
       "      <th>relative_offset</th>\n",
       "      <th>interval</th>\n",
       "      <th>duration</th>\n",
       "      <th>song N</th>\n",
       "    </tr>\n",
       "  </thead>\n",
       "  <tbody>\n",
       "    <tr>\n",
       "      <th>986</th>\n",
       "      <td>0.5</td>\n",
       "      <td>-51.0</td>\n",
       "      <td>1.0</td>\n",
       "      <td>3</td>\n",
       "    </tr>\n",
       "    <tr>\n",
       "      <th>1001</th>\n",
       "      <td>0.5</td>\n",
       "      <td>-51.0</td>\n",
       "      <td>1.0</td>\n",
       "      <td>3</td>\n",
       "    </tr>\n",
       "    <tr>\n",
       "      <th>3102</th>\n",
       "      <td>0.5</td>\n",
       "      <td>52.0</td>\n",
       "      <td>0.5</td>\n",
       "      <td>20</td>\n",
       "    </tr>\n",
       "    <tr>\n",
       "      <th>3108</th>\n",
       "      <td>0.5</td>\n",
       "      <td>-53.0</td>\n",
       "      <td>0.5</td>\n",
       "      <td>20</td>\n",
       "    </tr>\n",
       "    <tr>\n",
       "      <th>3109</th>\n",
       "      <td>0.5</td>\n",
       "      <td>53.0</td>\n",
       "      <td>0.5</td>\n",
       "      <td>20</td>\n",
       "    </tr>\n",
       "    <tr>\n",
       "      <th>...</th>\n",
       "      <td>...</td>\n",
       "      <td>...</td>\n",
       "      <td>...</td>\n",
       "      <td>...</td>\n",
       "    </tr>\n",
       "    <tr>\n",
       "      <th>70688</th>\n",
       "      <td>0.5</td>\n",
       "      <td>-54.0</td>\n",
       "      <td>0.5</td>\n",
       "      <td>415</td>\n",
       "    </tr>\n",
       "    <tr>\n",
       "      <th>70691</th>\n",
       "      <td>0.5</td>\n",
       "      <td>53.0</td>\n",
       "      <td>2.0</td>\n",
       "      <td>415</td>\n",
       "    </tr>\n",
       "    <tr>\n",
       "      <th>70692</th>\n",
       "      <td>1.0</td>\n",
       "      <td>-51.0</td>\n",
       "      <td>0.5</td>\n",
       "      <td>415</td>\n",
       "    </tr>\n",
       "    <tr>\n",
       "      <th>70732</th>\n",
       "      <td>1.0</td>\n",
       "      <td>52.0</td>\n",
       "      <td>0.5</td>\n",
       "      <td>415</td>\n",
       "    </tr>\n",
       "    <tr>\n",
       "      <th>70740</th>\n",
       "      <td>8.0</td>\n",
       "      <td>-67.0</td>\n",
       "      <td>1.0</td>\n",
       "      <td>415</td>\n",
       "    </tr>\n",
       "  </tbody>\n",
       "</table>\n",
       "<p>151 rows × 4 columns</p>\n",
       "</div>"
      ],
      "text/plain": [
       "      relative_offset  interval duration  song N\n",
       "986               0.5     -51.0      1.0       3\n",
       "1001              0.5     -51.0      1.0       3\n",
       "3102              0.5      52.0      0.5      20\n",
       "3108              0.5     -53.0      0.5      20\n",
       "3109              0.5      53.0      0.5      20\n",
       "...               ...       ...      ...     ...\n",
       "70688             0.5     -54.0      0.5     415\n",
       "70691             0.5      53.0      2.0     415\n",
       "70692             1.0     -51.0      0.5     415\n",
       "70732             1.0      52.0      0.5     415\n",
       "70740             8.0     -67.0      1.0     415\n",
       "\n",
       "[151 rows x 4 columns]"
      ]
     },
     "execution_count": 36,
     "metadata": {},
     "output_type": "execute_result"
    }
   ],
   "source": [
    "songs_df[abs(songs_df['interval']) > 50]"
   ]
  },
  {
   "cell_type": "code",
   "execution_count": null,
   "id": "b3ebb5d0-243c-40a6-b8a2-362efd7fb88c",
   "metadata": {},
   "outputs": [],
   "source": []
  }
 ],
 "metadata": {
  "kernelspec": {
   "display_name": "Python 3",
   "language": "python",
   "name": "python3"
  },
  "language_info": {
   "codemirror_mode": {
    "name": "ipython",
    "version": 3
   },
   "file_extension": ".py",
   "mimetype": "text/x-python",
   "name": "python",
   "nbconvert_exporter": "python",
   "pygments_lexer": "ipython3",
   "version": "3.7.10"
  }
 },
 "nbformat": 4,
 "nbformat_minor": 5
}
